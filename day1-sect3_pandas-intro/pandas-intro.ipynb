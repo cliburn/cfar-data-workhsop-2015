{
 "metadata": {
  "name": ""
 },
 "nbformat": 3,
 "nbformat_minor": 0,
 "worksheets": [
  {
   "cells": [
    {
     "cell_type": "markdown",
     "metadata": {},
     "source": [
      "# Introduction to pandas\n",
      "\n",
      "* A Python package for working with multi-dimensional, structured data (e.g. Excel spreadsheets, relational databases)\n",
      "* Built on top of NumPy, so it's fast, but with more convenient data structures\n",
      "* The main data structure, called a DataFrame, is similar to the data.frame in R\n",
      "\n",
      "To get started, it is conventional to import the pandas library using the alias `pd` and to import the commonly used data structures directly:"
     ]
    },
    {
     "cell_type": "code",
     "collapsed": false,
     "input": [
      "import pandas as pd\n",
      "from pandas import Series, DataFrame"
     ],
     "language": "python",
     "metadata": {
      "slideshow": {
       "slide_type": "slide"
      }
     },
     "outputs": [],
     "prompt_number": 638
    },
    {
     "cell_type": "markdown",
     "metadata": {},
     "source": [
      "Before we get started, let's make sure we are in the right directory to access the files we'll use."
     ]
    },
    {
     "cell_type": "code",
     "collapsed": false,
     "input": [
      "!ls\n",
      "!pwd"
     ],
     "language": "python",
     "metadata": {},
     "outputs": [
      {
       "output_type": "stream",
       "stream": "stdout",
       "text": [
        "cd4_change.csv\tcd4_data.tsv  medals.csv  Mock clinical data2.csv  pandas-intro.ipynb\r\n"
       ]
      },
      {
       "output_type": "stream",
       "stream": "stdout",
       "text": [
        "/home/swhite/git/cfar-data-workshop-2015/day1-sect3_pandas-intro\r\n"
       ]
      }
     ],
     "prompt_number": 639
    },
    {
     "cell_type": "markdown",
     "metadata": {},
     "source": [
      "# Data Structures\n",
      "\n",
      "## Series\n",
      "\n",
      "### Creating a Series\n",
      "\n",
      "In pandas, a Series is like a Python list or a single column of a spreadsheet. Let's create a new Series from a simple Python list."
     ]
    },
    {
     "cell_type": "code",
     "collapsed": false,
     "input": [
      "some_data = [815, 364, 2117]\n",
      "some_data"
     ],
     "language": "python",
     "metadata": {},
     "outputs": [
      {
       "metadata": {},
       "output_type": "pyout",
       "prompt_number": 729,
       "text": [
        "[815, 364, 2117]"
       ]
      }
     ],
     "prompt_number": 729
    },
    {
     "cell_type": "code",
     "collapsed": false,
     "input": [
      "baseline = Series(some_data)\n",
      "baseline"
     ],
     "language": "python",
     "metadata": {},
     "outputs": [
      {
       "metadata": {},
       "output_type": "pyout",
       "prompt_number": 730,
       "text": [
        "0     815\n",
        "1     364\n",
        "2    2117\n",
        "dtype: int64"
       ]
      }
     ],
     "prompt_number": 730
    },
    {
     "cell_type": "markdown",
     "metadata": {},
     "source": [
      "We get a nicer output than a simple list. But, we can make this even better. pandas allows us to specify our own indices, so let's re-create the Series with something more meaningful:"
     ]
    },
    {
     "cell_type": "code",
     "collapsed": false,
     "input": [
      "baseline = Series(some_data, index=['John', 'Jane', 'Joe'])\n",
      "print baseline"
     ],
     "language": "python",
     "metadata": {},
     "outputs": [
      {
       "output_type": "stream",
       "stream": "stdout",
       "text": [
        "John     815\n",
        "Jane     364\n",
        "Joe     2117\n",
        "dtype: int64\n"
       ]
      }
     ],
     "prompt_number": 731
    },
    {
     "cell_type": "markdown",
     "metadata": {},
     "source": [
      "Note the length of the data and the indices given must be equal:"
     ]
    },
    {
     "cell_type": "code",
     "collapsed": false,
     "input": [
      "Series(some_data, index=['John', 'Jane', 'Joe', 'Scott'])"
     ],
     "language": "python",
     "metadata": {},
     "outputs": [
      {
       "ename": "ValueError",
       "evalue": "Wrong number of items passed 4, indices imply 3",
       "output_type": "pyerr",
       "traceback": [
        "\u001b[0;31m---------------------------------------------------------------------------\u001b[0m\n\u001b[0;31mValueError\u001b[0m                                Traceback (most recent call last)",
        "\u001b[0;32m<ipython-input-732-6aa58a404552>\u001b[0m in \u001b[0;36m<module>\u001b[0;34m()\u001b[0m\n\u001b[0;32m----> 1\u001b[0;31m \u001b[0mSeries\u001b[0m\u001b[0;34m(\u001b[0m\u001b[0msome_data\u001b[0m\u001b[0;34m,\u001b[0m \u001b[0mindex\u001b[0m\u001b[0;34m=\u001b[0m\u001b[0;34m[\u001b[0m\u001b[0;34m'John'\u001b[0m\u001b[0;34m,\u001b[0m \u001b[0;34m'Jane'\u001b[0m\u001b[0;34m,\u001b[0m \u001b[0;34m'Joe'\u001b[0m\u001b[0;34m,\u001b[0m \u001b[0;34m'Scott'\u001b[0m\u001b[0;34m]\u001b[0m\u001b[0;34m)\u001b[0m\u001b[0;34m\u001b[0m\u001b[0m\n\u001b[0m",
        "\u001b[0;32m/usr/lib/python2.7/dist-packages/pandas/core/series.py\u001b[0m in \u001b[0;36m__init__\u001b[0;34m(self, data, index, dtype, name, copy, fastpath)\u001b[0m\n\u001b[1;32m    220\u001b[0m                                        raise_cast_failure=True)\n\u001b[1;32m    221\u001b[0m \u001b[0;34m\u001b[0m\u001b[0m\n\u001b[0;32m--> 222\u001b[0;31m                 \u001b[0mdata\u001b[0m \u001b[0;34m=\u001b[0m \u001b[0mSingleBlockManager\u001b[0m\u001b[0;34m(\u001b[0m\u001b[0mdata\u001b[0m\u001b[0;34m,\u001b[0m \u001b[0mindex\u001b[0m\u001b[0;34m,\u001b[0m \u001b[0mfastpath\u001b[0m\u001b[0;34m=\u001b[0m\u001b[0mTrue\u001b[0m\u001b[0;34m)\u001b[0m\u001b[0;34m\u001b[0m\u001b[0m\n\u001b[0m\u001b[1;32m    223\u001b[0m \u001b[0;34m\u001b[0m\u001b[0m\n\u001b[1;32m    224\u001b[0m         \u001b[0mgeneric\u001b[0m\u001b[0;34m.\u001b[0m\u001b[0mNDFrame\u001b[0m\u001b[0;34m.\u001b[0m\u001b[0m__init__\u001b[0m\u001b[0;34m(\u001b[0m\u001b[0mself\u001b[0m\u001b[0;34m,\u001b[0m \u001b[0mdata\u001b[0m\u001b[0;34m,\u001b[0m \u001b[0mfastpath\u001b[0m\u001b[0;34m=\u001b[0m\u001b[0mTrue\u001b[0m\u001b[0;34m)\u001b[0m\u001b[0;34m\u001b[0m\u001b[0m\n",
        "\u001b[0;32m/usr/lib/python2.7/dist-packages/pandas/core/internals.py\u001b[0m in \u001b[0;36m__init__\u001b[0;34m(self, block, axis, do_integrity_check, fastpath)\u001b[0m\n\u001b[1;32m   3591\u001b[0m                 \u001b[0mblock\u001b[0m \u001b[0;34m=\u001b[0m \u001b[0mblock\u001b[0m\u001b[0;34m[\u001b[0m\u001b[0;36m0\u001b[0m\u001b[0;34m]\u001b[0m\u001b[0;34m\u001b[0m\u001b[0m\n\u001b[1;32m   3592\u001b[0m             \u001b[0;32mif\u001b[0m \u001b[0;32mnot\u001b[0m \u001b[0misinstance\u001b[0m\u001b[0;34m(\u001b[0m\u001b[0mblock\u001b[0m\u001b[0;34m,\u001b[0m \u001b[0mBlock\u001b[0m\u001b[0;34m)\u001b[0m\u001b[0;34m:\u001b[0m\u001b[0;34m\u001b[0m\u001b[0m\n\u001b[0;32m-> 3593\u001b[0;31m                 \u001b[0mblock\u001b[0m \u001b[0;34m=\u001b[0m \u001b[0mmake_block\u001b[0m\u001b[0;34m(\u001b[0m\u001b[0mblock\u001b[0m\u001b[0;34m,\u001b[0m \u001b[0maxis\u001b[0m\u001b[0;34m,\u001b[0m \u001b[0maxis\u001b[0m\u001b[0;34m,\u001b[0m \u001b[0mndim\u001b[0m\u001b[0;34m=\u001b[0m\u001b[0;36m1\u001b[0m\u001b[0;34m,\u001b[0m \u001b[0mfastpath\u001b[0m\u001b[0;34m=\u001b[0m\u001b[0mTrue\u001b[0m\u001b[0;34m)\u001b[0m\u001b[0;34m\u001b[0m\u001b[0m\n\u001b[0m\u001b[1;32m   3594\u001b[0m \u001b[0;34m\u001b[0m\u001b[0m\n\u001b[1;32m   3595\u001b[0m         \u001b[0;32melse\u001b[0m\u001b[0;34m:\u001b[0m\u001b[0;34m\u001b[0m\u001b[0m\n",
        "\u001b[0;32m/usr/lib/python2.7/dist-packages/pandas/core/internals.py\u001b[0m in \u001b[0;36mmake_block\u001b[0;34m(values, items, ref_items, klass, ndim, dtype, fastpath, placement)\u001b[0m\n\u001b[1;32m   1991\u001b[0m \u001b[0;34m\u001b[0m\u001b[0m\n\u001b[1;32m   1992\u001b[0m     return klass(values, items, ref_items, ndim=ndim, fastpath=fastpath,\n\u001b[0;32m-> 1993\u001b[0;31m                  placement=placement)\n\u001b[0m\u001b[1;32m   1994\u001b[0m \u001b[0;34m\u001b[0m\u001b[0m\n\u001b[1;32m   1995\u001b[0m \u001b[0;34m\u001b[0m\u001b[0m\n",
        "\u001b[0;32m/usr/lib/python2.7/dist-packages/pandas/core/internals.py\u001b[0m in \u001b[0;36m__init__\u001b[0;34m(self, values, items, ref_items, ndim, fastpath, placement)\u001b[0m\n\u001b[1;32m     62\u001b[0m         \u001b[0;32mif\u001b[0m \u001b[0mlen\u001b[0m\u001b[0;34m(\u001b[0m\u001b[0mitems\u001b[0m\u001b[0;34m)\u001b[0m \u001b[0;34m!=\u001b[0m \u001b[0mlen\u001b[0m\u001b[0;34m(\u001b[0m\u001b[0mvalues\u001b[0m\u001b[0;34m)\u001b[0m\u001b[0;34m:\u001b[0m\u001b[0;34m\u001b[0m\u001b[0m\n\u001b[1;32m     63\u001b[0m             raise ValueError('Wrong number of items passed %d, indices imply '\n\u001b[0;32m---> 64\u001b[0;31m                              '%d' % (len(items), len(values)))\n\u001b[0m\u001b[1;32m     65\u001b[0m \u001b[0;34m\u001b[0m\u001b[0m\n\u001b[1;32m     66\u001b[0m         \u001b[0mself\u001b[0m\u001b[0;34m.\u001b[0m\u001b[0mset_ref_locs\u001b[0m\u001b[0;34m(\u001b[0m\u001b[0mplacement\u001b[0m\u001b[0;34m)\u001b[0m\u001b[0;34m\u001b[0m\u001b[0m\n",
        "\u001b[0;31mValueError\u001b[0m: Wrong number of items passed 4, indices imply 3"
       ]
      }
     ],
     "prompt_number": 732
    },
    {
     "cell_type": "markdown",
     "metadata": {},
     "source": [
      "To add a new value:"
     ]
    },
    {
     "cell_type": "code",
     "collapsed": false,
     "input": [
      "baseline['Jason'] = 42\n",
      "baseline"
     ],
     "language": "python",
     "metadata": {},
     "outputs": [
      {
       "metadata": {},
       "output_type": "pyout",
       "prompt_number": 738,
       "text": [
        "patients\n",
        "John         815\n",
        "Jane         364\n",
        "Joe         2117\n",
        "Jason         42\n",
        "Name: CD4 baseline, dtype: int64"
       ]
      }
     ],
     "prompt_number": 738
    },
    {
     "cell_type": "markdown",
     "metadata": {},
     "source": [
      "And to remove it:"
     ]
    },
    {
     "cell_type": "code",
     "collapsed": false,
     "input": [
      "baseline.drop('Jason')"
     ],
     "language": "python",
     "metadata": {},
     "outputs": [
      {
       "metadata": {},
       "output_type": "pyout",
       "prompt_number": 739,
       "text": [
        "patients\n",
        "John         815\n",
        "Jane         364\n",
        "Joe         2117\n",
        "Name: CD4 baseline, dtype: int64"
       ]
      }
     ],
     "prompt_number": 739
    },
    {
     "cell_type": "markdown",
     "metadata": {},
     "source": [
      "But, our value wasn't really removed:"
     ]
    },
    {
     "cell_type": "code",
     "collapsed": false,
     "input": [
      "baseline"
     ],
     "language": "python",
     "metadata": {},
     "outputs": [
      {
       "metadata": {},
       "output_type": "pyout",
       "prompt_number": 740,
       "text": [
        "patients\n",
        "John         815\n",
        "Jane         364\n",
        "Joe         2117\n",
        "Jason         42\n",
        "Name: CD4 baseline, dtype: int64"
       ]
      }
     ],
     "prompt_number": 740
    },
    {
     "cell_type": "markdown",
     "metadata": {},
     "source": [
      "Most functions that modify data in pandas return a copy of the data by default. To truly remove the value we can either assign the copy back to the original variable or in some cases the function will have an option to modify the data in place."
     ]
    },
    {
     "cell_type": "code",
     "collapsed": false,
     "input": [
      "baseline.drop('Jason', inplace=True)\n",
      "baseline"
     ],
     "language": "python",
     "metadata": {},
     "outputs": [
      {
       "metadata": {},
       "output_type": "pyout",
       "prompt_number": 741,
       "text": [
        "patients\n",
        "John         815\n",
        "Jane         364\n",
        "Joe         2117\n",
        "Name: CD4 baseline, dtype: int64"
       ]
      }
     ],
     "prompt_number": 741
    },
    {
     "cell_type": "markdown",
     "metadata": {},
     "source": [
      "We can easily find the indices using the **`index`** attribute:"
     ]
    },
    {
     "cell_type": "code",
     "collapsed": false,
     "input": [
      "baseline.index"
     ],
     "language": "python",
     "metadata": {},
     "outputs": [
      {
       "metadata": {},
       "output_type": "pyout",
       "prompt_number": 735,
       "text": [
        "Index([u'John', u'Jane', u'Joe'], dtype='object')"
       ]
      }
     ],
     "prompt_number": 735
    },
    {
     "cell_type": "markdown",
     "metadata": {},
     "source": [
      "Another handy feature of a Series is the ability to add meaningful label names to both the index and the values:"
     ]
    },
    {
     "cell_type": "code",
     "collapsed": false,
     "input": [
      "baseline.name = 'CD4 baseline'\n",
      "baseline.index.name = 'patients'\n",
      "baseline"
     ],
     "language": "python",
     "metadata": {},
     "outputs": [
      {
       "metadata": {},
       "output_type": "pyout",
       "prompt_number": 736,
       "text": [
        "patients\n",
        "John         815\n",
        "Jane         364\n",
        "Joe         2117\n",
        "Name: CD4 baseline, dtype: int64"
       ]
      }
     ],
     "prompt_number": 736
    },
    {
     "cell_type": "markdown",
     "metadata": {},
     "source": [
      "### Selecting Values from a Series\n",
      "\n",
      "We can use our indices to reference the values:"
     ]
    },
    {
     "cell_type": "code",
     "collapsed": false,
     "input": [
      "baseline['John']"
     ],
     "language": "python",
     "metadata": {},
     "outputs": [
      {
       "metadata": {},
       "output_type": "pyout",
       "prompt_number": 716,
       "text": [
        "815"
       ]
      }
     ],
     "prompt_number": 716
    },
    {
     "cell_type": "markdown",
     "metadata": {},
     "source": [
      "Regular indexing by position also works:"
     ]
    },
    {
     "cell_type": "code",
     "collapsed": false,
     "input": [
      "baseline[0]"
     ],
     "language": "python",
     "metadata": {},
     "outputs": [
      {
       "metadata": {},
       "output_type": "pyout",
       "prompt_number": 717,
       "text": [
        "815"
       ]
      }
     ],
     "prompt_number": 717
    },
    {
     "cell_type": "markdown",
     "metadata": {},
     "source": [
      "Slicing works as well:"
     ]
    },
    {
     "cell_type": "code",
     "collapsed": false,
     "input": [
      "baseline[1:3]"
     ],
     "language": "python",
     "metadata": {},
     "outputs": [
      {
       "metadata": {},
       "output_type": "pyout",
       "prompt_number": 718,
       "text": [
        "patients\n",
        "Jane         364\n",
        "Joe         2117\n",
        "Name: CD4 baseline, dtype: int64"
       ]
      }
     ],
     "prompt_number": 718
    },
    {
     "cell_type": "markdown",
     "metadata": {},
     "source": [
      "Retrieving non-successive rows by position or index:"
     ]
    },
    {
     "cell_type": "code",
     "collapsed": false,
     "input": [
      "baseline[[0,2]]"
     ],
     "language": "python",
     "metadata": {},
     "outputs": [
      {
       "metadata": {},
       "output_type": "pyout",
       "prompt_number": 720,
       "text": [
        "patients\n",
        "John         815\n",
        "Joe         2117\n",
        "Name: CD4 baseline, dtype: int64"
       ]
      }
     ],
     "prompt_number": 720
    },
    {
     "cell_type": "code",
     "collapsed": false,
     "input": [
      "baseline[['John', 'Joe']]"
     ],
     "language": "python",
     "metadata": {},
     "outputs": [
      {
       "metadata": {},
       "output_type": "pyout",
       "prompt_number": 721,
       "text": [
        "John     815\n",
        "Joe     2117\n",
        "Name: CD4 baseline, dtype: int64"
       ]
      }
     ],
     "prompt_number": 721
    },
    {
     "cell_type": "markdown",
     "metadata": {},
     "source": [
      "### Data Alignment\n",
      "\n",
      "Let's create a Series with some followup data and compute the differences. Note we'll use a different order for the patients and also specify the Series name when we create the Series."
     ]
    },
    {
     "cell_type": "code",
     "collapsed": false,
     "input": [
      "followup_data = [448, 1959, 792]\n",
      "followup = Series(followup_data, index=['Jane', 'Joe', 'John'], name='CD4 followup')\n",
      "followup.index.name = 'patients'\n",
      "followup"
     ],
     "language": "python",
     "metadata": {},
     "outputs": [
      {
       "metadata": {},
       "output_type": "pyout",
       "prompt_number": 722,
       "text": [
        "patients\n",
        "Jane         448\n",
        "Joe         1959\n",
        "John         792\n",
        "Name: CD4 followup, dtype: int64"
       ]
      }
     ],
     "prompt_number": 722
    },
    {
     "cell_type": "markdown",
     "metadata": {},
     "source": [
      "Now compute the differences over time."
     ]
    },
    {
     "cell_type": "code",
     "collapsed": false,
     "input": [
      "diff = followup - baseline\n",
      "diff"
     ],
     "language": "python",
     "metadata": {},
     "outputs": [
      {
       "metadata": {},
       "output_type": "pyout",
       "prompt_number": 744,
       "text": [
        "patients\n",
        "Jane         84\n",
        "Jill        NaN\n",
        "Joe        -158\n",
        "John        -23\n",
        "dtype: float64"
       ]
      }
     ],
     "prompt_number": 744
    },
    {
     "cell_type": "markdown",
     "metadata": {},
     "source": [
      "pandas is smart enough to use our indices to *align* data in different series.\n",
      "\n",
      "But, what happens if the 2 Series have non-matching indices?"
     ]
    },
    {
     "cell_type": "code",
     "collapsed": false,
     "input": [
      "baseline['Jill'] = 836\n",
      "baseline"
     ],
     "language": "python",
     "metadata": {},
     "outputs": [
      {
       "metadata": {},
       "output_type": "pyout",
       "prompt_number": 742,
       "text": [
        "patients\n",
        "John         815\n",
        "Jane         364\n",
        "Joe         2117\n",
        "Jill         836\n",
        "Name: CD4 baseline, dtype: int64"
       ]
      }
     ],
     "prompt_number": 742
    },
    {
     "cell_type": "code",
     "collapsed": false,
     "input": [
      "diff = followup - baseline\n",
      "diff"
     ],
     "language": "python",
     "metadata": {},
     "outputs": [
      {
       "metadata": {},
       "output_type": "pyout",
       "prompt_number": 743,
       "text": [
        "patients\n",
        "Jane         84\n",
        "Jill        NaN\n",
        "Joe        -158\n",
        "John        -23\n",
        "dtype: float64"
       ]
      }
     ],
     "prompt_number": 743
    },
    {
     "cell_type": "markdown",
     "metadata": {},
     "source": [
      "pandas creates a new Series with the **union** of the indexes and handles the missing data, adding the value **`NaN`** (not a number) to the result."
     ]
    },
    {
     "cell_type": "markdown",
     "metadata": {},
     "source": [
      "### Filtering\n",
      "\n",
      "Like with NumPy, we can use boolean arrays for filtering."
     ]
    },
    {
     "cell_type": "code",
     "collapsed": false,
     "input": [
      "diff > 0"
     ],
     "language": "python",
     "metadata": {},
     "outputs": [
      {
       "metadata": {},
       "output_type": "pyout",
       "prompt_number": 745,
       "text": [
        "patients\n",
        "Jane         True\n",
        "Jill        False\n",
        "Joe         False\n",
        "John        False\n",
        "dtype: bool"
       ]
      }
     ],
     "prompt_number": 745
    },
    {
     "cell_type": "markdown",
     "metadata": {},
     "source": [
      "Note the **NaN** value is evaluated as False. Likewise for less than comparison:"
     ]
    },
    {
     "cell_type": "code",
     "collapsed": false,
     "input": [
      "diff < 0"
     ],
     "language": "python",
     "metadata": {},
     "outputs": [
      {
       "metadata": {},
       "output_type": "pyout",
       "prompt_number": 747,
       "text": [
        "patients\n",
        "Jane        False\n",
        "Jill        False\n",
        "Joe          True\n",
        "John         True\n",
        "dtype: bool"
       ]
      }
     ],
     "prompt_number": 747
    },
    {
     "cell_type": "markdown",
     "metadata": {},
     "source": [
      "And, if we want the values for the filter we use the boolean array to return only the True values:"
     ]
    },
    {
     "cell_type": "code",
     "collapsed": false,
     "input": [
      "diff[diff > 0]"
     ],
     "language": "python",
     "metadata": {},
     "outputs": [
      {
       "metadata": {},
       "output_type": "pyout",
       "prompt_number": 746,
       "text": [
        "patients\n",
        "Jane        84\n",
        "dtype: float64"
       ]
      }
     ],
     "prompt_number": 746
    },
    {
     "cell_type": "markdown",
     "metadata": {},
     "source": [
      "We can easily filter for the missing data using the function **`isnull`**"
     ]
    },
    {
     "cell_type": "code",
     "collapsed": false,
     "input": [
      "diff[diff.isnull()]"
     ],
     "language": "python",
     "metadata": {},
     "outputs": [
      {
       "metadata": {},
       "output_type": "pyout",
       "prompt_number": 654,
       "text": [
        "patients\n",
        "Jill       NaN\n",
        "dtype: float64"
       ]
      }
     ],
     "prompt_number": 654
    },
    {
     "cell_type": "markdown",
     "metadata": {},
     "source": [
      "And get the inverse using the function **`notnull`**"
     ]
    },
    {
     "cell_type": "code",
     "collapsed": false,
     "input": [
      "diff[diff.notnull()]"
     ],
     "language": "python",
     "metadata": {},
     "outputs": [
      {
       "metadata": {},
       "output_type": "pyout",
       "prompt_number": 655,
       "text": [
        "patients\n",
        "Jane         84\n",
        "Joe        -158\n",
        "John        -23\n",
        "dtype: float64"
       ]
      }
     ],
     "prompt_number": 655
    },
    {
     "cell_type": "markdown",
     "metadata": {},
     "source": [
      "We can also fill in the missing values with a value using **`fillna`**."
     ]
    },
    {
     "cell_type": "code",
     "collapsed": false,
     "input": [
      "diff.fillna(0)"
     ],
     "language": "python",
     "metadata": {},
     "outputs": [
      {
       "metadata": {},
       "output_type": "pyout",
       "prompt_number": 656,
       "text": [
        "patients\n",
        "Jane         84\n",
        "Jill          0\n",
        "Joe        -158\n",
        "John        -23\n",
        "dtype: float64"
       ]
      }
     ],
     "prompt_number": 656
    },
    {
     "cell_type": "markdown",
     "metadata": {},
     "source": [
      "Note that `fillna` doesn't modify the original Series. To modify the Series, you'd have to explicitly store the result back to the original variable.\n",
      "\n",
      "There's also **`dropna`** to remove the missing values, which also produces a copy."
     ]
    },
    {
     "cell_type": "code",
     "collapsed": false,
     "input": [
      "diff = diff.dropna()\n",
      "diff"
     ],
     "language": "python",
     "metadata": {},
     "outputs": [
      {
       "metadata": {},
       "output_type": "pyout",
       "prompt_number": 657,
       "text": [
        "patients\n",
        "Jane         84\n",
        "Joe        -158\n",
        "John        -23\n",
        "dtype: float64"
       ]
      }
     ],
     "prompt_number": 657
    },
    {
     "cell_type": "markdown",
     "metadata": {},
     "source": [
      "## DataFrame\n",
      "\n",
      "A pandas DataFrame is similar to an Excel spreadsheet, containing both columns and rows. You can think of a DataFrame as a container for multiple Series.\n",
      "\n",
      "Let's create a DataFrame by concatenating both the baseline and followup Series across the rows (axis=1) "
     ]
    },
    {
     "cell_type": "code",
     "collapsed": false,
     "input": [
      "cd4_frame = pd.concat([baseline, followup], axis=1)\n",
      "cd4_frame"
     ],
     "language": "python",
     "metadata": {},
     "outputs": [
      {
       "html": [
        "<div style=\"max-height:1000px;max-width:1500px;overflow:auto;\">\n",
        "<table border=\"1\" class=\"dataframe\">\n",
        "  <thead>\n",
        "    <tr style=\"text-align: right;\">\n",
        "      <th></th>\n",
        "      <th>CD4 baseline</th>\n",
        "      <th>CD4 followup</th>\n",
        "    </tr>\n",
        "  </thead>\n",
        "  <tbody>\n",
        "    <tr>\n",
        "      <th>Jane</th>\n",
        "      <td>  364</td>\n",
        "      <td>  448</td>\n",
        "    </tr>\n",
        "    <tr>\n",
        "      <th>Jill</th>\n",
        "      <td>  836</td>\n",
        "      <td>  NaN</td>\n",
        "    </tr>\n",
        "    <tr>\n",
        "      <th>Joe</th>\n",
        "      <td> 2117</td>\n",
        "      <td> 1959</td>\n",
        "    </tr>\n",
        "    <tr>\n",
        "      <th>John</th>\n",
        "      <td>  815</td>\n",
        "      <td>  792</td>\n",
        "    </tr>\n",
        "  </tbody>\n",
        "</table>\n",
        "<p>4 rows \u00d7 2 columns</p>\n",
        "</div>"
       ],
       "metadata": {},
       "output_type": "pyout",
       "prompt_number": 793,
       "text": [
        "      CD4 baseline  CD4 followup\n",
        "Jane           364           448\n",
        "Jill           836           NaN\n",
        "Joe           2117          1959\n",
        "John           815           792\n",
        "\n",
        "[4 rows x 2 columns]"
       ]
      }
     ],
     "prompt_number": 793
    },
    {
     "cell_type": "markdown",
     "metadata": {},
     "source": [
      "Notice iPython notebook renders the DataFrame as an HTML table.\n",
      "\n",
      "Use `shape` to determine the number of rows and columns:"
     ]
    },
    {
     "cell_type": "code",
     "collapsed": false,
     "input": [
      "cd4_frame.shape"
     ],
     "language": "python",
     "metadata": {},
     "outputs": [
      {
       "metadata": {},
       "output_type": "pyout",
       "prompt_number": 794,
       "text": [
        "(4, 2)"
       ]
      }
     ],
     "prompt_number": 794
    },
    {
     "cell_type": "markdown",
     "metadata": {},
     "source": [
      "Let's rename the columns to make them easier to reference and to get rid of the spaces (more on that later):"
     ]
    },
    {
     "cell_type": "code",
     "collapsed": false,
     "input": [
      "cd4_frame.rename(columns={'CD4 baseline': 'baseline', 'CD4 followup': 'followup'}, inplace=True)\n",
      "cd4_frame"
     ],
     "language": "python",
     "metadata": {},
     "outputs": [
      {
       "html": [
        "<div style=\"max-height:1000px;max-width:1500px;overflow:auto;\">\n",
        "<table border=\"1\" class=\"dataframe\">\n",
        "  <thead>\n",
        "    <tr style=\"text-align: right;\">\n",
        "      <th></th>\n",
        "      <th>baseline</th>\n",
        "      <th>followup</th>\n",
        "    </tr>\n",
        "  </thead>\n",
        "  <tbody>\n",
        "    <tr>\n",
        "      <th>Jane</th>\n",
        "      <td>  364</td>\n",
        "      <td>  448</td>\n",
        "    </tr>\n",
        "    <tr>\n",
        "      <th>Jill</th>\n",
        "      <td>  836</td>\n",
        "      <td>  NaN</td>\n",
        "    </tr>\n",
        "    <tr>\n",
        "      <th>Joe</th>\n",
        "      <td> 2117</td>\n",
        "      <td> 1959</td>\n",
        "    </tr>\n",
        "    <tr>\n",
        "      <th>John</th>\n",
        "      <td>  815</td>\n",
        "      <td>  792</td>\n",
        "    </tr>\n",
        "  </tbody>\n",
        "</table>\n",
        "<p>4 rows \u00d7 2 columns</p>\n",
        "</div>"
       ],
       "metadata": {},
       "output_type": "pyout",
       "prompt_number": 795,
       "text": [
        "      baseline  followup\n",
        "Jane       364       448\n",
        "Jill       836       NaN\n",
        "Joe       2117      1959\n",
        "John       815       792\n",
        "\n",
        "[4 rows x 2 columns]"
       ]
      }
     ],
     "prompt_number": 795
    },
    {
     "cell_type": "markdown",
     "metadata": {},
     "source": [
      "And, just like with a Series, we can name the DataFrame's index."
     ]
    },
    {
     "cell_type": "code",
     "collapsed": false,
     "input": [
      "cd4_frame.index.name = 'patients'\n",
      "cd4_frame"
     ],
     "language": "python",
     "metadata": {},
     "outputs": [
      {
       "html": [
        "<div style=\"max-height:1000px;max-width:1500px;overflow:auto;\">\n",
        "<table border=\"1\" class=\"dataframe\">\n",
        "  <thead>\n",
        "    <tr style=\"text-align: right;\">\n",
        "      <th></th>\n",
        "      <th>baseline</th>\n",
        "      <th>followup</th>\n",
        "    </tr>\n",
        "    <tr>\n",
        "      <th>patients</th>\n",
        "      <th></th>\n",
        "      <th></th>\n",
        "    </tr>\n",
        "  </thead>\n",
        "  <tbody>\n",
        "    <tr>\n",
        "      <th>Jane</th>\n",
        "      <td>  364</td>\n",
        "      <td>  448</td>\n",
        "    </tr>\n",
        "    <tr>\n",
        "      <th>Jill</th>\n",
        "      <td>  836</td>\n",
        "      <td>  NaN</td>\n",
        "    </tr>\n",
        "    <tr>\n",
        "      <th>Joe</th>\n",
        "      <td> 2117</td>\n",
        "      <td> 1959</td>\n",
        "    </tr>\n",
        "    <tr>\n",
        "      <th>John</th>\n",
        "      <td>  815</td>\n",
        "      <td>  792</td>\n",
        "    </tr>\n",
        "  </tbody>\n",
        "</table>\n",
        "<p>4 rows \u00d7 2 columns</p>\n",
        "</div>"
       ],
       "metadata": {},
       "output_type": "pyout",
       "prompt_number": 796,
       "text": [
        "          baseline  followup\n",
        "patients                    \n",
        "Jane           364       448\n",
        "Jill           836       NaN\n",
        "Joe           2117      1959\n",
        "John           815       792\n",
        "\n",
        "[4 rows x 2 columns]"
       ]
      }
     ],
     "prompt_number": 796
    },
    {
     "cell_type": "markdown",
     "metadata": {},
     "source": [
      "### Making Selections\n",
      "\n",
      "A single column can be extracted in a couple ways. First, by dictionary-like indexing:"
     ]
    },
    {
     "cell_type": "code",
     "collapsed": false,
     "input": [
      "cd4_frame['baseline']"
     ],
     "language": "python",
     "metadata": {},
     "outputs": [
      {
       "metadata": {},
       "output_type": "pyout",
       "prompt_number": 797,
       "text": [
        "patients\n",
        "Jane         364\n",
        "Jill         836\n",
        "Joe         2117\n",
        "John         815\n",
        "Name: baseline, dtype: int64"
       ]
      }
     ],
     "prompt_number": 797
    },
    {
     "cell_type": "markdown",
     "metadata": {},
     "source": [
      "Notice the dictionary index on a DataFrame refers to a column, whereas on a Series the index refers to a row. We'll see how to select an entire DataFrame row in a bit.\n",
      "\n",
      "Another, more convenient way to extract a column is by attribute:"
     ]
    },
    {
     "cell_type": "code",
     "collapsed": false,
     "input": [
      "cd4_frame.baseline"
     ],
     "language": "python",
     "metadata": {},
     "outputs": [
      {
       "metadata": {},
       "output_type": "pyout",
       "prompt_number": 798,
       "text": [
        "patients\n",
        "Jane         364\n",
        "Jill         836\n",
        "Joe         2117\n",
        "John         815\n",
        "Name: baseline, dtype: int64"
       ]
      }
     ],
     "prompt_number": 798
    },
    {
     "cell_type": "markdown",
     "metadata": {},
     "source": [
      "If the column name contains a space character, it will not be available as an attribute, and you must use the dictionary indexing...another good reason to rename unwieldy column names.\n",
      "\n",
      "Also, the extracted column is a pandas Series object, so any of the Series methods can be used on the column."
     ]
    },
    {
     "cell_type": "code",
     "collapsed": false,
     "input": [
      "type(cd4_frame.baseline)"
     ],
     "language": "python",
     "metadata": {},
     "outputs": [
      {
       "metadata": {},
       "output_type": "pyout",
       "prompt_number": 799,
       "text": [
        "pandas.core.series.Series"
       ]
      }
     ],
     "prompt_number": 799
    },
    {
     "cell_type": "code",
     "collapsed": false,
     "input": [
      "cd4_frame.followup.isnull()"
     ],
     "language": "python",
     "metadata": {},
     "outputs": [
      {
       "metadata": {},
       "output_type": "pyout",
       "prompt_number": 800,
       "text": [
        "patients\n",
        "Jane        False\n",
        "Jill         True\n",
        "Joe         False\n",
        "John        False\n",
        "Name: followup, dtype: bool"
       ]
      }
     ],
     "prompt_number": 800
    },
    {
     "cell_type": "markdown",
     "metadata": {},
     "source": [
      "Knowing this, we can extract a single \"cell\" value using the Series dictionary indexing:"
     ]
    },
    {
     "cell_type": "code",
     "collapsed": false,
     "input": [
      "cd4_frame.baseline['Joe']"
     ],
     "language": "python",
     "metadata": {},
     "outputs": [
      {
       "metadata": {},
       "output_type": "pyout",
       "prompt_number": 801,
       "text": [
        "2117"
       ]
      }
     ],
     "prompt_number": 801
    },
    {
     "cell_type": "markdown",
     "metadata": {},
     "source": [
      "This works with the DataFrame dictionary indexing too:"
     ]
    },
    {
     "cell_type": "code",
     "collapsed": false,
     "input": [
      "cd4_frame['baseline']['Joe']"
     ],
     "language": "python",
     "metadata": {},
     "outputs": [
      {
       "metadata": {},
       "output_type": "pyout",
       "prompt_number": 802,
       "text": [
        "2117"
       ]
      }
     ],
     "prompt_number": 802
    },
    {
     "cell_type": "markdown",
     "metadata": {},
     "source": [
      "And, if all the index names are space-free, we can conveniently use all attributes:"
     ]
    },
    {
     "cell_type": "code",
     "collapsed": false,
     "input": [
      "cd4_frame.baseline.Joe"
     ],
     "language": "python",
     "metadata": {},
     "outputs": [
      {
       "metadata": {},
       "output_type": "pyout",
       "prompt_number": 803,
       "text": [
        "2117"
       ]
      }
     ],
     "prompt_number": 803
    },
    {
     "cell_type": "markdown",
     "metadata": {},
     "source": [
      "We can select multiple columns and specify their order using a list of column names:"
     ]
    },
    {
     "cell_type": "code",
     "collapsed": false,
     "input": [
      "cd4_frame[['followup','baseline']]"
     ],
     "language": "python",
     "metadata": {},
     "outputs": [
      {
       "html": [
        "<div style=\"max-height:1000px;max-width:1500px;overflow:auto;\">\n",
        "<table border=\"1\" class=\"dataframe\">\n",
        "  <thead>\n",
        "    <tr style=\"text-align: right;\">\n",
        "      <th></th>\n",
        "      <th>followup</th>\n",
        "      <th>baseline</th>\n",
        "    </tr>\n",
        "    <tr>\n",
        "      <th>patients</th>\n",
        "      <th></th>\n",
        "      <th></th>\n",
        "    </tr>\n",
        "  </thead>\n",
        "  <tbody>\n",
        "    <tr>\n",
        "      <th>Jane</th>\n",
        "      <td>  448</td>\n",
        "      <td>  364</td>\n",
        "    </tr>\n",
        "    <tr>\n",
        "      <th>Jill</th>\n",
        "      <td>  NaN</td>\n",
        "      <td>  836</td>\n",
        "    </tr>\n",
        "    <tr>\n",
        "      <th>Joe</th>\n",
        "      <td> 1959</td>\n",
        "      <td> 2117</td>\n",
        "    </tr>\n",
        "    <tr>\n",
        "      <th>John</th>\n",
        "      <td>  792</td>\n",
        "      <td>  815</td>\n",
        "    </tr>\n",
        "  </tbody>\n",
        "</table>\n",
        "<p>4 rows \u00d7 2 columns</p>\n",
        "</div>"
       ],
       "metadata": {},
       "output_type": "pyout",
       "prompt_number": 804,
       "text": [
        "          followup  baseline\n",
        "patients                    \n",
        "Jane           448       364\n",
        "Jill           NaN       836\n",
        "Joe           1959      2117\n",
        "John           792       815\n",
        "\n",
        "[4 rows x 2 columns]"
       ]
      }
     ],
     "prompt_number": 804
    },
    {
     "cell_type": "markdown",
     "metadata": {},
     "source": [
      "But, be careful when manipulating data extracted from a DataFrame:"
     ]
    },
    {
     "cell_type": "code",
     "collapsed": false,
     "input": [
      "col = cd4_frame.baseline\n",
      "col['Jane'] = 42\n",
      "cd4_frame"
     ],
     "language": "python",
     "metadata": {},
     "outputs": [
      {
       "html": [
        "<div style=\"max-height:1000px;max-width:1500px;overflow:auto;\">\n",
        "<table border=\"1\" class=\"dataframe\">\n",
        "  <thead>\n",
        "    <tr style=\"text-align: right;\">\n",
        "      <th></th>\n",
        "      <th>baseline</th>\n",
        "      <th>followup</th>\n",
        "    </tr>\n",
        "    <tr>\n",
        "      <th>patients</th>\n",
        "      <th></th>\n",
        "      <th></th>\n",
        "    </tr>\n",
        "  </thead>\n",
        "  <tbody>\n",
        "    <tr>\n",
        "      <th>Jane</th>\n",
        "      <td>   42</td>\n",
        "      <td>  448</td>\n",
        "    </tr>\n",
        "    <tr>\n",
        "      <th>Jill</th>\n",
        "      <td>  836</td>\n",
        "      <td>  NaN</td>\n",
        "    </tr>\n",
        "    <tr>\n",
        "      <th>Joe</th>\n",
        "      <td> 2117</td>\n",
        "      <td> 1959</td>\n",
        "    </tr>\n",
        "    <tr>\n",
        "      <th>John</th>\n",
        "      <td>  815</td>\n",
        "      <td>  792</td>\n",
        "    </tr>\n",
        "  </tbody>\n",
        "</table>\n",
        "<p>4 rows \u00d7 2 columns</p>\n",
        "</div>"
       ],
       "metadata": {},
       "output_type": "pyout",
       "prompt_number": 805,
       "text": [
        "          baseline  followup\n",
        "patients                    \n",
        "Jane            42       448\n",
        "Jill           836       NaN\n",
        "Joe           2117      1959\n",
        "John           815       792\n",
        "\n",
        "[4 rows x 2 columns]"
       ]
      }
     ],
     "prompt_number": 805
    },
    {
     "cell_type": "markdown",
     "metadata": {},
     "source": [
      "The Series extracted from our DataFrame is a **view** and not a copy of the data. If you really want a separate copy make sure to use **`copy`**:"
     ]
    },
    {
     "cell_type": "code",
     "collapsed": false,
     "input": [
      "col = cd4_frame.baseline.copy()\n",
      "col['Jane'] = 5000\n",
      "cd4_frame"
     ],
     "language": "python",
     "metadata": {},
     "outputs": [
      {
       "html": [
        "<div style=\"max-height:1000px;max-width:1500px;overflow:auto;\">\n",
        "<table border=\"1\" class=\"dataframe\">\n",
        "  <thead>\n",
        "    <tr style=\"text-align: right;\">\n",
        "      <th></th>\n",
        "      <th>baseline</th>\n",
        "      <th>followup</th>\n",
        "    </tr>\n",
        "    <tr>\n",
        "      <th>patients</th>\n",
        "      <th></th>\n",
        "      <th></th>\n",
        "    </tr>\n",
        "  </thead>\n",
        "  <tbody>\n",
        "    <tr>\n",
        "      <th>Jane</th>\n",
        "      <td>   42</td>\n",
        "      <td>  448</td>\n",
        "    </tr>\n",
        "    <tr>\n",
        "      <th>Jill</th>\n",
        "      <td>  836</td>\n",
        "      <td>  NaN</td>\n",
        "    </tr>\n",
        "    <tr>\n",
        "      <th>Joe</th>\n",
        "      <td> 2117</td>\n",
        "      <td> 1959</td>\n",
        "    </tr>\n",
        "    <tr>\n",
        "      <th>John</th>\n",
        "      <td>  815</td>\n",
        "      <td>  792</td>\n",
        "    </tr>\n",
        "  </tbody>\n",
        "</table>\n",
        "<p>4 rows \u00d7 2 columns</p>\n",
        "</div>"
       ],
       "metadata": {},
       "output_type": "pyout",
       "prompt_number": 806,
       "text": [
        "          baseline  followup\n",
        "patients                    \n",
        "Jane            42       448\n",
        "Jill           836       NaN\n",
        "Joe           2117      1959\n",
        "John           815       792\n",
        "\n",
        "[4 rows x 2 columns]"
       ]
      }
     ],
     "prompt_number": 806
    },
    {
     "cell_type": "markdown",
     "metadata": {},
     "source": [
      "Let's restore our original baseline column:"
     ]
    },
    {
     "cell_type": "code",
     "collapsed": false,
     "input": [
      "cd4_frame['baseline'] = baseline\n",
      "cd4_frame"
     ],
     "language": "python",
     "metadata": {},
     "outputs": [
      {
       "html": [
        "<div style=\"max-height:1000px;max-width:1500px;overflow:auto;\">\n",
        "<table border=\"1\" class=\"dataframe\">\n",
        "  <thead>\n",
        "    <tr style=\"text-align: right;\">\n",
        "      <th></th>\n",
        "      <th>baseline</th>\n",
        "      <th>followup</th>\n",
        "    </tr>\n",
        "    <tr>\n",
        "      <th>patients</th>\n",
        "      <th></th>\n",
        "      <th></th>\n",
        "    </tr>\n",
        "  </thead>\n",
        "  <tbody>\n",
        "    <tr>\n",
        "      <th>Jane</th>\n",
        "      <td>  364</td>\n",
        "      <td>  448</td>\n",
        "    </tr>\n",
        "    <tr>\n",
        "      <th>Jill</th>\n",
        "      <td>  836</td>\n",
        "      <td>  NaN</td>\n",
        "    </tr>\n",
        "    <tr>\n",
        "      <th>Joe</th>\n",
        "      <td> 2117</td>\n",
        "      <td> 1959</td>\n",
        "    </tr>\n",
        "    <tr>\n",
        "      <th>John</th>\n",
        "      <td>  815</td>\n",
        "      <td>  792</td>\n",
        "    </tr>\n",
        "  </tbody>\n",
        "</table>\n",
        "<p>4 rows \u00d7 2 columns</p>\n",
        "</div>"
       ],
       "metadata": {},
       "output_type": "pyout",
       "prompt_number": 807,
       "text": [
        "          baseline  followup\n",
        "patients                    \n",
        "Jane           364       448\n",
        "Jill           836       NaN\n",
        "Joe           2117      1959\n",
        "John           815       792\n",
        "\n",
        "[4 rows x 2 columns]"
       ]
      }
     ],
     "prompt_number": 807
    },
    {
     "cell_type": "markdown",
     "metadata": {},
     "source": [
      "To retrieve an entire DataFrame row, use the **`ix`** attribute: "
     ]
    },
    {
     "cell_type": "code",
     "collapsed": false,
     "input": [
      "cd4_frame.ix['Joe']"
     ],
     "language": "python",
     "metadata": {},
     "outputs": [
      {
       "metadata": {},
       "output_type": "pyout",
       "prompt_number": 808,
       "text": [
        "baseline    2117\n",
        "followup    1959\n",
        "Name: Joe, dtype: float64"
       ]
      }
     ],
     "prompt_number": 808
    },
    {
     "cell_type": "markdown",
     "metadata": {},
     "source": [
      "This also returns a Series object:"
     ]
    },
    {
     "cell_type": "code",
     "collapsed": false,
     "input": [
      "type(cd4_frame.ix['Joe'])"
     ],
     "language": "python",
     "metadata": {},
     "outputs": [
      {
       "metadata": {},
       "output_type": "pyout",
       "prompt_number": 809,
       "text": [
        "pandas.core.series.Series"
       ]
      }
     ],
     "prompt_number": 809
    },
    {
     "cell_type": "markdown",
     "metadata": {},
     "source": [
      "And this gives us even more options for accessing a single value:"
     ]
    },
    {
     "cell_type": "code",
     "collapsed": false,
     "input": [
      "cd4_frame.ix['Joe'].baseline"
     ],
     "language": "python",
     "metadata": {},
     "outputs": [
      {
       "metadata": {},
       "output_type": "pyout",
       "prompt_number": 810,
       "text": [
        "2117.0"
       ]
      }
     ],
     "prompt_number": 810
    },
    {
     "cell_type": "code",
     "collapsed": false,
     "input": [
      "cd4_frame.ix['Joe']['baseline']"
     ],
     "language": "python",
     "metadata": {},
     "outputs": [
      {
       "metadata": {},
       "output_type": "pyout",
       "prompt_number": 811,
       "text": [
        "2117.0"
       ]
      }
     ],
     "prompt_number": 811
    },
    {
     "cell_type": "markdown",
     "metadata": {},
     "source": [
      "But, **`ix`** doesn't have attributes for the row names, so this won't work:"
     ]
    },
    {
     "cell_type": "code",
     "collapsed": false,
     "input": [
      "cd4_frame.ix.Joe"
     ],
     "language": "python",
     "metadata": {},
     "outputs": [
      {
       "ename": "AttributeError",
       "evalue": "'_IXIndexer' object has no attribute 'Joe'",
       "output_type": "pyerr",
       "traceback": [
        "\u001b[0;31m---------------------------------------------------------------------------\u001b[0m\n\u001b[0;31mAttributeError\u001b[0m                            Traceback (most recent call last)",
        "\u001b[0;32m<ipython-input-812-27748abd854d>\u001b[0m in \u001b[0;36m<module>\u001b[0;34m()\u001b[0m\n\u001b[0;32m----> 1\u001b[0;31m \u001b[0mcd4_frame\u001b[0m\u001b[0;34m.\u001b[0m\u001b[0mix\u001b[0m\u001b[0;34m.\u001b[0m\u001b[0mJoe\u001b[0m\u001b[0;34m\u001b[0m\u001b[0m\n\u001b[0m",
        "\u001b[0;31mAttributeError\u001b[0m: '_IXIndexer' object has no attribute 'Joe'"
       ]
      }
     ],
     "prompt_number": 812
    },
    {
     "cell_type": "markdown",
     "metadata": {},
     "source": [
      "To get the first 2 rows, we can slice using **`ix`**:"
     ]
    },
    {
     "cell_type": "code",
     "collapsed": false,
     "input": [
      "cd4_frame.ix[:2]"
     ],
     "language": "python",
     "metadata": {},
     "outputs": [
      {
       "html": [
        "<div style=\"max-height:1000px;max-width:1500px;overflow:auto;\">\n",
        "<table border=\"1\" class=\"dataframe\">\n",
        "  <thead>\n",
        "    <tr style=\"text-align: right;\">\n",
        "      <th></th>\n",
        "      <th>baseline</th>\n",
        "      <th>followup</th>\n",
        "    </tr>\n",
        "    <tr>\n",
        "      <th>patients</th>\n",
        "      <th></th>\n",
        "      <th></th>\n",
        "    </tr>\n",
        "  </thead>\n",
        "  <tbody>\n",
        "    <tr>\n",
        "      <th>Jane</th>\n",
        "      <td> 364</td>\n",
        "      <td> 448</td>\n",
        "    </tr>\n",
        "    <tr>\n",
        "      <th>Jill</th>\n",
        "      <td> 836</td>\n",
        "      <td> NaN</td>\n",
        "    </tr>\n",
        "  </tbody>\n",
        "</table>\n",
        "<p>2 rows \u00d7 2 columns</p>\n",
        "</div>"
       ],
       "metadata": {},
       "output_type": "pyout",
       "prompt_number": 813,
       "text": [
        "          baseline  followup\n",
        "patients                    \n",
        "Jane           364       448\n",
        "Jill           836       NaN\n",
        "\n",
        "[2 rows x 2 columns]"
       ]
      }
     ],
     "prompt_number": 813
    },
    {
     "cell_type": "markdown",
     "metadata": {},
     "source": [
      "Getting the 2nd and 4th rows:"
     ]
    },
    {
     "cell_type": "code",
     "collapsed": false,
     "input": [
      "cd4_frame.ix[[1,3]]"
     ],
     "language": "python",
     "metadata": {},
     "outputs": [
      {
       "html": [
        "<div style=\"max-height:1000px;max-width:1500px;overflow:auto;\">\n",
        "<table border=\"1\" class=\"dataframe\">\n",
        "  <thead>\n",
        "    <tr style=\"text-align: right;\">\n",
        "      <th></th>\n",
        "      <th>baseline</th>\n",
        "      <th>followup</th>\n",
        "    </tr>\n",
        "    <tr>\n",
        "      <th>patients</th>\n",
        "      <th></th>\n",
        "      <th></th>\n",
        "    </tr>\n",
        "  </thead>\n",
        "  <tbody>\n",
        "    <tr>\n",
        "      <th>Jill</th>\n",
        "      <td> 836</td>\n",
        "      <td> NaN</td>\n",
        "    </tr>\n",
        "    <tr>\n",
        "      <th>John</th>\n",
        "      <td> 815</td>\n",
        "      <td> 792</td>\n",
        "    </tr>\n",
        "  </tbody>\n",
        "</table>\n",
        "<p>2 rows \u00d7 2 columns</p>\n",
        "</div>"
       ],
       "metadata": {},
       "output_type": "pyout",
       "prompt_number": 814,
       "text": [
        "          baseline  followup\n",
        "patients                    \n",
        "Jill           836       NaN\n",
        "John           815       792\n",
        "\n",
        "[2 rows x 2 columns]"
       ]
      }
     ],
     "prompt_number": 814
    },
    {
     "cell_type": "markdown",
     "metadata": {},
     "source": [
      "Select multiple rows of a single column:"
     ]
    },
    {
     "cell_type": "code",
     "collapsed": false,
     "input": [
      "cd4_frame.ix[[1,3], 'followup']"
     ],
     "language": "python",
     "metadata": {},
     "outputs": [
      {
       "metadata": {},
       "output_type": "pyout",
       "prompt_number": 815,
       "text": [
        "patients\n",
        "Jill        NaN\n",
        "John        792\n",
        "Name: followup, dtype: float64"
       ]
      }
     ],
     "prompt_number": 815
    },
    {
     "cell_type": "markdown",
     "metadata": {},
     "source": [
      "And finally, selecting multiple rows and multiple columns:"
     ]
    },
    {
     "cell_type": "code",
     "collapsed": false,
     "input": [
      "cd4_frame.ix[[1,3], ['followup', 'baseline']]"
     ],
     "language": "python",
     "metadata": {},
     "outputs": [
      {
       "html": [
        "<div style=\"max-height:1000px;max-width:1500px;overflow:auto;\">\n",
        "<table border=\"1\" class=\"dataframe\">\n",
        "  <thead>\n",
        "    <tr style=\"text-align: right;\">\n",
        "      <th></th>\n",
        "      <th>followup</th>\n",
        "      <th>baseline</th>\n",
        "    </tr>\n",
        "    <tr>\n",
        "      <th>patients</th>\n",
        "      <th></th>\n",
        "      <th></th>\n",
        "    </tr>\n",
        "  </thead>\n",
        "  <tbody>\n",
        "    <tr>\n",
        "      <th>Jill</th>\n",
        "      <td> NaN</td>\n",
        "      <td> 836</td>\n",
        "    </tr>\n",
        "    <tr>\n",
        "      <th>John</th>\n",
        "      <td> 792</td>\n",
        "      <td> 815</td>\n",
        "    </tr>\n",
        "  </tbody>\n",
        "</table>\n",
        "<p>2 rows \u00d7 2 columns</p>\n",
        "</div>"
       ],
       "metadata": {},
       "output_type": "pyout",
       "prompt_number": 816,
       "text": [
        "          followup  baseline\n",
        "patients                    \n",
        "Jill           NaN       836\n",
        "John           792       815\n",
        "\n",
        "[2 rows x 2 columns]"
       ]
      }
     ],
     "prompt_number": 816
    },
    {
     "cell_type": "markdown",
     "metadata": {},
     "source": [
      "### Creating and Deleting Columns\n",
      "\n",
      "Let's create a new column:"
     ]
    },
    {
     "cell_type": "code",
     "collapsed": false,
     "input": [
      "cd4_frame['sex'] = ['F', 'F', 'M', 'M']\n",
      "cd4_frame"
     ],
     "language": "python",
     "metadata": {},
     "outputs": [
      {
       "html": [
        "<div style=\"max-height:1000px;max-width:1500px;overflow:auto;\">\n",
        "<table border=\"1\" class=\"dataframe\">\n",
        "  <thead>\n",
        "    <tr style=\"text-align: right;\">\n",
        "      <th></th>\n",
        "      <th>baseline</th>\n",
        "      <th>followup</th>\n",
        "      <th>sex</th>\n",
        "    </tr>\n",
        "    <tr>\n",
        "      <th>patients</th>\n",
        "      <th></th>\n",
        "      <th></th>\n",
        "      <th></th>\n",
        "    </tr>\n",
        "  </thead>\n",
        "  <tbody>\n",
        "    <tr>\n",
        "      <th>Jane</th>\n",
        "      <td>  364</td>\n",
        "      <td>  448</td>\n",
        "      <td> F</td>\n",
        "    </tr>\n",
        "    <tr>\n",
        "      <th>Jill</th>\n",
        "      <td>  836</td>\n",
        "      <td>  NaN</td>\n",
        "      <td> F</td>\n",
        "    </tr>\n",
        "    <tr>\n",
        "      <th>Joe</th>\n",
        "      <td> 2117</td>\n",
        "      <td> 1959</td>\n",
        "      <td> M</td>\n",
        "    </tr>\n",
        "    <tr>\n",
        "      <th>John</th>\n",
        "      <td>  815</td>\n",
        "      <td>  792</td>\n",
        "      <td> M</td>\n",
        "    </tr>\n",
        "  </tbody>\n",
        "</table>\n",
        "<p>4 rows \u00d7 3 columns</p>\n",
        "</div>"
       ],
       "metadata": {},
       "output_type": "pyout",
       "prompt_number": 819,
       "text": [
        "          baseline  followup sex\n",
        "patients                        \n",
        "Jane           364       448   F\n",
        "Jill           836       NaN   F\n",
        "Joe           2117      1959   M\n",
        "John           815       792   M\n",
        "\n",
        "[4 rows x 3 columns]"
       ]
      }
     ],
     "prompt_number": 819
    },
    {
     "cell_type": "markdown",
     "metadata": {},
     "source": [
      "And a new column with the percent change in CD4:"
     ]
    },
    {
     "cell_type": "code",
     "collapsed": false,
     "input": [
      "cd4_frame['percent_change'] = (cd4_frame.followup - cd4_frame.baseline) / cd4_frame.baseline * 100\n",
      "cd4_frame"
     ],
     "language": "python",
     "metadata": {},
     "outputs": [
      {
       "html": [
        "<div style=\"max-height:1000px;max-width:1500px;overflow:auto;\">\n",
        "<table border=\"1\" class=\"dataframe\">\n",
        "  <thead>\n",
        "    <tr style=\"text-align: right;\">\n",
        "      <th></th>\n",
        "      <th>baseline</th>\n",
        "      <th>followup</th>\n",
        "      <th>sex</th>\n",
        "      <th>percent_change</th>\n",
        "    </tr>\n",
        "    <tr>\n",
        "      <th>patients</th>\n",
        "      <th></th>\n",
        "      <th></th>\n",
        "      <th></th>\n",
        "      <th></th>\n",
        "    </tr>\n",
        "  </thead>\n",
        "  <tbody>\n",
        "    <tr>\n",
        "      <th>Jane</th>\n",
        "      <td>  364</td>\n",
        "      <td>  448</td>\n",
        "      <td> F</td>\n",
        "      <td> 23.076923</td>\n",
        "    </tr>\n",
        "    <tr>\n",
        "      <th>Jill</th>\n",
        "      <td>  836</td>\n",
        "      <td>  NaN</td>\n",
        "      <td> F</td>\n",
        "      <td>       NaN</td>\n",
        "    </tr>\n",
        "    <tr>\n",
        "      <th>Joe</th>\n",
        "      <td> 2117</td>\n",
        "      <td> 1959</td>\n",
        "      <td> M</td>\n",
        "      <td> -7.463392</td>\n",
        "    </tr>\n",
        "    <tr>\n",
        "      <th>John</th>\n",
        "      <td>  815</td>\n",
        "      <td>  792</td>\n",
        "      <td> M</td>\n",
        "      <td> -2.822086</td>\n",
        "    </tr>\n",
        "  </tbody>\n",
        "</table>\n",
        "<p>4 rows \u00d7 4 columns</p>\n",
        "</div>"
       ],
       "metadata": {},
       "output_type": "pyout",
       "prompt_number": 843,
       "text": [
        "          baseline  followup sex  percent_change\n",
        "patients                                        \n",
        "Jane           364       448   F       23.076923\n",
        "Jill           836       NaN   F             NaN\n",
        "Joe           2117      1959   M       -7.463392\n",
        "John           815       792   M       -2.822086\n",
        "\n",
        "[4 rows x 4 columns]"
       ]
      }
     ],
     "prompt_number": 843
    },
    {
     "cell_type": "markdown",
     "metadata": {},
     "source": [
      "Note you cannot create a new column using a new attribute, i.e. `cd4_frame.some_column = ...`\n",
      "\n",
      "To remove a column we can use **`drop`**, and it can remove either rows or columns, so we have to specify the axis. It also returns a copy and doesn't modify in place."
     ]
    },
    {
     "cell_type": "code",
     "collapsed": false,
     "input": [
      "cd4_frame.drop('percent_change', axis=1)"
     ],
     "language": "python",
     "metadata": {},
     "outputs": [
      {
       "html": [
        "<div style=\"max-height:1000px;max-width:1500px;overflow:auto;\">\n",
        "<table border=\"1\" class=\"dataframe\">\n",
        "  <thead>\n",
        "    <tr style=\"text-align: right;\">\n",
        "      <th></th>\n",
        "      <th>baseline</th>\n",
        "      <th>followup</th>\n",
        "      <th>sex</th>\n",
        "    </tr>\n",
        "    <tr>\n",
        "      <th>patients</th>\n",
        "      <th></th>\n",
        "      <th></th>\n",
        "      <th></th>\n",
        "    </tr>\n",
        "  </thead>\n",
        "  <tbody>\n",
        "    <tr>\n",
        "      <th>Jane</th>\n",
        "      <td>  364</td>\n",
        "      <td>  448</td>\n",
        "      <td> F</td>\n",
        "    </tr>\n",
        "    <tr>\n",
        "      <th>Jill</th>\n",
        "      <td>  836</td>\n",
        "      <td>  NaN</td>\n",
        "      <td> F</td>\n",
        "    </tr>\n",
        "    <tr>\n",
        "      <th>Joe</th>\n",
        "      <td> 2117</td>\n",
        "      <td> 1959</td>\n",
        "      <td> M</td>\n",
        "    </tr>\n",
        "    <tr>\n",
        "      <th>John</th>\n",
        "      <td>  815</td>\n",
        "      <td>  792</td>\n",
        "      <td> M</td>\n",
        "    </tr>\n",
        "  </tbody>\n",
        "</table>\n",
        "<p>4 rows \u00d7 3 columns</p>\n",
        "</div>"
       ],
       "metadata": {},
       "output_type": "pyout",
       "prompt_number": 845,
       "text": [
        "          baseline  followup sex\n",
        "patients                        \n",
        "Jane           364       448   F\n",
        "Jill           836       NaN   F\n",
        "Joe           2117      1959   M\n",
        "John           815       792   M\n",
        "\n",
        "[4 rows x 3 columns]"
       ]
      }
     ],
     "prompt_number": 845
    },
    {
     "cell_type": "markdown",
     "metadata": {},
     "source": [
      "### Filtering DataFrames"
     ]
    },
    {
     "cell_type": "markdown",
     "metadata": {},
     "source": [
      "Filter the whole frame:"
     ]
    },
    {
     "cell_type": "code",
     "collapsed": false,
     "input": [
      "cd4_frame > 800"
     ],
     "language": "python",
     "metadata": {},
     "outputs": [
      {
       "html": [
        "<div style=\"max-height:1000px;max-width:1500px;overflow:auto;\">\n",
        "<table border=\"1\" class=\"dataframe\">\n",
        "  <thead>\n",
        "    <tr style=\"text-align: right;\">\n",
        "      <th></th>\n",
        "      <th>baseline</th>\n",
        "      <th>followup</th>\n",
        "      <th>sex</th>\n",
        "      <th>percent_change</th>\n",
        "    </tr>\n",
        "    <tr>\n",
        "      <th>patients</th>\n",
        "      <th></th>\n",
        "      <th></th>\n",
        "      <th></th>\n",
        "      <th></th>\n",
        "    </tr>\n",
        "  </thead>\n",
        "  <tbody>\n",
        "    <tr>\n",
        "      <th>Jane</th>\n",
        "      <td> False</td>\n",
        "      <td> False</td>\n",
        "      <td> True</td>\n",
        "      <td> False</td>\n",
        "    </tr>\n",
        "    <tr>\n",
        "      <th>Jill</th>\n",
        "      <td>  True</td>\n",
        "      <td> False</td>\n",
        "      <td> True</td>\n",
        "      <td> False</td>\n",
        "    </tr>\n",
        "    <tr>\n",
        "      <th>Joe</th>\n",
        "      <td>  True</td>\n",
        "      <td>  True</td>\n",
        "      <td> True</td>\n",
        "      <td> False</td>\n",
        "    </tr>\n",
        "    <tr>\n",
        "      <th>John</th>\n",
        "      <td>  True</td>\n",
        "      <td> False</td>\n",
        "      <td> True</td>\n",
        "      <td> False</td>\n",
        "    </tr>\n",
        "  </tbody>\n",
        "</table>\n",
        "<p>4 rows \u00d7 4 columns</p>\n",
        "</div>"
       ],
       "metadata": {},
       "output_type": "pyout",
       "prompt_number": 846,
       "text": [
        "         baseline followup   sex percent_change\n",
        "patients                                       \n",
        "Jane        False    False  True          False\n",
        "Jill         True    False  True          False\n",
        "Joe          True     True  True          False\n",
        "John         True    False  True          False\n",
        "\n",
        "[4 rows x 4 columns]"
       ]
      }
     ],
     "prompt_number": 846
    },
    {
     "cell_type": "markdown",
     "metadata": {},
     "source": [
      "Or just a column:"
     ]
    },
    {
     "cell_type": "code",
     "collapsed": false,
     "input": [
      "cd4_frame[cd4_frame['baseline'] > 400]"
     ],
     "language": "python",
     "metadata": {},
     "outputs": [
      {
       "html": [
        "<div style=\"max-height:1000px;max-width:1500px;overflow:auto;\">\n",
        "<table border=\"1\" class=\"dataframe\">\n",
        "  <thead>\n",
        "    <tr style=\"text-align: right;\">\n",
        "      <th></th>\n",
        "      <th>baseline</th>\n",
        "      <th>followup</th>\n",
        "      <th>sex</th>\n",
        "      <th>percent_change</th>\n",
        "    </tr>\n",
        "    <tr>\n",
        "      <th>patients</th>\n",
        "      <th></th>\n",
        "      <th></th>\n",
        "      <th></th>\n",
        "      <th></th>\n",
        "    </tr>\n",
        "  </thead>\n",
        "  <tbody>\n",
        "    <tr>\n",
        "      <th>Jill</th>\n",
        "      <td>  836</td>\n",
        "      <td>  NaN</td>\n",
        "      <td> F</td>\n",
        "      <td>      NaN</td>\n",
        "    </tr>\n",
        "    <tr>\n",
        "      <th>Joe</th>\n",
        "      <td> 2117</td>\n",
        "      <td> 1959</td>\n",
        "      <td> M</td>\n",
        "      <td>-7.463392</td>\n",
        "    </tr>\n",
        "    <tr>\n",
        "      <th>John</th>\n",
        "      <td>  815</td>\n",
        "      <td>  792</td>\n",
        "      <td> M</td>\n",
        "      <td>-2.822086</td>\n",
        "    </tr>\n",
        "  </tbody>\n",
        "</table>\n",
        "<p>3 rows \u00d7 4 columns</p>\n",
        "</div>"
       ],
       "metadata": {},
       "output_type": "pyout",
       "prompt_number": 847,
       "text": [
        "          baseline  followup sex  percent_change\n",
        "patients                                        \n",
        "Jill           836       NaN   F             NaN\n",
        "Joe           2117      1959   M       -7.463392\n",
        "John           815       792   M       -2.822086\n",
        "\n",
        "[3 rows x 4 columns]"
       ]
      }
     ],
     "prompt_number": 847
    },
    {
     "cell_type": "markdown",
     "metadata": {},
     "source": [
      "Filtering a text value:"
     ]
    },
    {
     "cell_type": "code",
     "collapsed": false,
     "input": [
      "cd4_frame[cd4_frame['sex'] == 'F']"
     ],
     "language": "python",
     "metadata": {},
     "outputs": [
      {
       "html": [
        "<div style=\"max-height:1000px;max-width:1500px;overflow:auto;\">\n",
        "<table border=\"1\" class=\"dataframe\">\n",
        "  <thead>\n",
        "    <tr style=\"text-align: right;\">\n",
        "      <th></th>\n",
        "      <th>baseline</th>\n",
        "      <th>followup</th>\n",
        "      <th>sex</th>\n",
        "      <th>percent_change</th>\n",
        "    </tr>\n",
        "    <tr>\n",
        "      <th>patients</th>\n",
        "      <th></th>\n",
        "      <th></th>\n",
        "      <th></th>\n",
        "      <th></th>\n",
        "    </tr>\n",
        "  </thead>\n",
        "  <tbody>\n",
        "    <tr>\n",
        "      <th>Jane</th>\n",
        "      <td> 364</td>\n",
        "      <td> 448</td>\n",
        "      <td> F</td>\n",
        "      <td> 23.076923</td>\n",
        "    </tr>\n",
        "    <tr>\n",
        "      <th>Jill</th>\n",
        "      <td> 836</td>\n",
        "      <td> NaN</td>\n",
        "      <td> F</td>\n",
        "      <td>       NaN</td>\n",
        "    </tr>\n",
        "  </tbody>\n",
        "</table>\n",
        "<p>2 rows \u00d7 4 columns</p>\n",
        "</div>"
       ],
       "metadata": {},
       "output_type": "pyout",
       "prompt_number": 848,
       "text": [
        "          baseline  followup sex  percent_change\n",
        "patients                                        \n",
        "Jane           364       448   F       23.076923\n",
        "Jill           836       NaN   F             NaN\n",
        "\n",
        "[2 rows x 4 columns]"
       ]
      }
     ],
     "prompt_number": 848
    },
    {
     "cell_type": "markdown",
     "metadata": {},
     "source": [
      "Filtering on multiple columns is best handled by combining boolean arrays:"
     ]
    },
    {
     "cell_type": "code",
     "collapsed": false,
     "input": [
      "(cd4_frame['sex'] == 'F') & (cd4_frame['baseline'] > 800)"
     ],
     "language": "python",
     "metadata": {},
     "outputs": [
      {
       "metadata": {},
       "output_type": "pyout",
       "prompt_number": 849,
       "text": [
        "patients\n",
        "Jane        False\n",
        "Jill         True\n",
        "Joe         False\n",
        "John        False\n",
        "dtype: bool"
       ]
      }
     ],
     "prompt_number": 849
    },
    {
     "cell_type": "markdown",
     "metadata": {},
     "source": [
      "### Sorting"
     ]
    },
    {
     "cell_type": "markdown",
     "metadata": {},
     "source": [
      "Sorting a single column:"
     ]
    },
    {
     "cell_type": "code",
     "collapsed": false,
     "input": [
      "cd4_frame.sort('percent_change')"
     ],
     "language": "python",
     "metadata": {},
     "outputs": [
      {
       "html": [
        "<div style=\"max-height:1000px;max-width:1500px;overflow:auto;\">\n",
        "<table border=\"1\" class=\"dataframe\">\n",
        "  <thead>\n",
        "    <tr style=\"text-align: right;\">\n",
        "      <th></th>\n",
        "      <th>baseline</th>\n",
        "      <th>followup</th>\n",
        "      <th>sex</th>\n",
        "      <th>percent_change</th>\n",
        "    </tr>\n",
        "    <tr>\n",
        "      <th>patients</th>\n",
        "      <th></th>\n",
        "      <th></th>\n",
        "      <th></th>\n",
        "      <th></th>\n",
        "    </tr>\n",
        "  </thead>\n",
        "  <tbody>\n",
        "    <tr>\n",
        "      <th>Joe</th>\n",
        "      <td> 2117</td>\n",
        "      <td> 1959</td>\n",
        "      <td> M</td>\n",
        "      <td> -7.463392</td>\n",
        "    </tr>\n",
        "    <tr>\n",
        "      <th>John</th>\n",
        "      <td>  815</td>\n",
        "      <td>  792</td>\n",
        "      <td> M</td>\n",
        "      <td> -2.822086</td>\n",
        "    </tr>\n",
        "    <tr>\n",
        "      <th>Jane</th>\n",
        "      <td>  364</td>\n",
        "      <td>  448</td>\n",
        "      <td> F</td>\n",
        "      <td> 23.076923</td>\n",
        "    </tr>\n",
        "    <tr>\n",
        "      <th>Jill</th>\n",
        "      <td>  836</td>\n",
        "      <td>  NaN</td>\n",
        "      <td> F</td>\n",
        "      <td>       NaN</td>\n",
        "    </tr>\n",
        "  </tbody>\n",
        "</table>\n",
        "<p>4 rows \u00d7 4 columns</p>\n",
        "</div>"
       ],
       "metadata": {},
       "output_type": "pyout",
       "prompt_number": 854,
       "text": [
        "          baseline  followup sex  percent_change\n",
        "patients                                        \n",
        "Joe           2117      1959   M       -7.463392\n",
        "John           815       792   M       -2.822086\n",
        "Jane           364       448   F       23.076923\n",
        "Jill           836       NaN   F             NaN\n",
        "\n",
        "[4 rows x 4 columns]"
       ]
      }
     ],
     "prompt_number": 854
    },
    {
     "cell_type": "markdown",
     "metadata": {},
     "source": [
      "And multiple columns:"
     ]
    },
    {
     "cell_type": "code",
     "collapsed": false,
     "input": [
      "cd4_frame.sort(columns=['sex', 'baseline'])"
     ],
     "language": "python",
     "metadata": {},
     "outputs": [
      {
       "html": [
        "<div style=\"max-height:1000px;max-width:1500px;overflow:auto;\">\n",
        "<table border=\"1\" class=\"dataframe\">\n",
        "  <thead>\n",
        "    <tr style=\"text-align: right;\">\n",
        "      <th></th>\n",
        "      <th>baseline</th>\n",
        "      <th>followup</th>\n",
        "      <th>sex</th>\n",
        "      <th>percent_change</th>\n",
        "    </tr>\n",
        "    <tr>\n",
        "      <th>patients</th>\n",
        "      <th></th>\n",
        "      <th></th>\n",
        "      <th></th>\n",
        "      <th></th>\n",
        "    </tr>\n",
        "  </thead>\n",
        "  <tbody>\n",
        "    <tr>\n",
        "      <th>Jane</th>\n",
        "      <td>  364</td>\n",
        "      <td>  448</td>\n",
        "      <td> F</td>\n",
        "      <td> 23.076923</td>\n",
        "    </tr>\n",
        "    <tr>\n",
        "      <th>Jill</th>\n",
        "      <td>  836</td>\n",
        "      <td>  NaN</td>\n",
        "      <td> F</td>\n",
        "      <td>       NaN</td>\n",
        "    </tr>\n",
        "    <tr>\n",
        "      <th>John</th>\n",
        "      <td>  815</td>\n",
        "      <td>  792</td>\n",
        "      <td> M</td>\n",
        "      <td> -2.822086</td>\n",
        "    </tr>\n",
        "    <tr>\n",
        "      <th>Joe</th>\n",
        "      <td> 2117</td>\n",
        "      <td> 1959</td>\n",
        "      <td> M</td>\n",
        "      <td> -7.463392</td>\n",
        "    </tr>\n",
        "  </tbody>\n",
        "</table>\n",
        "<p>4 rows \u00d7 4 columns</p>\n",
        "</div>"
       ],
       "metadata": {},
       "output_type": "pyout",
       "prompt_number": 855,
       "text": [
        "          baseline  followup sex  percent_change\n",
        "patients                                        \n",
        "Jane           364       448   F       23.076923\n",
        "Jill           836       NaN   F             NaN\n",
        "John           815       792   M       -2.822086\n",
        "Joe           2117      1959   M       -7.463392\n",
        "\n",
        "[4 rows x 4 columns]"
       ]
      }
     ],
     "prompt_number": 855
    },
    {
     "cell_type": "markdown",
     "metadata": {},
     "source": [
      "Sorting by the index:"
     ]
    },
    {
     "cell_type": "code",
     "collapsed": false,
     "input": [
      "cd4_frame.sort_index()"
     ],
     "language": "python",
     "metadata": {},
     "outputs": [
      {
       "html": [
        "<div style=\"max-height:1000px;max-width:1500px;overflow:auto;\">\n",
        "<table border=\"1\" class=\"dataframe\">\n",
        "  <thead>\n",
        "    <tr style=\"text-align: right;\">\n",
        "      <th></th>\n",
        "      <th>baseline</th>\n",
        "      <th>followup</th>\n",
        "      <th>sex</th>\n",
        "    </tr>\n",
        "    <tr>\n",
        "      <th>patients</th>\n",
        "      <th></th>\n",
        "      <th></th>\n",
        "      <th></th>\n",
        "    </tr>\n",
        "  </thead>\n",
        "  <tbody>\n",
        "    <tr>\n",
        "      <th>Jane</th>\n",
        "      <td>  364</td>\n",
        "      <td>  448</td>\n",
        "      <td> F</td>\n",
        "    </tr>\n",
        "    <tr>\n",
        "      <th>Jill</th>\n",
        "      <td>  836</td>\n",
        "      <td>  NaN</td>\n",
        "      <td> F</td>\n",
        "    </tr>\n",
        "    <tr>\n",
        "      <th>Joe</th>\n",
        "      <td> 2117</td>\n",
        "      <td> 1959</td>\n",
        "      <td> M</td>\n",
        "    </tr>\n",
        "    <tr>\n",
        "      <th>John</th>\n",
        "      <td>  815</td>\n",
        "      <td>  792</td>\n",
        "      <td> M</td>\n",
        "    </tr>\n",
        "  </tbody>\n",
        "</table>\n",
        "<p>4 rows \u00d7 3 columns</p>\n",
        "</div>"
       ],
       "metadata": {},
       "output_type": "pyout",
       "prompt_number": 839,
       "text": [
        "          baseline  followup sex\n",
        "patients                        \n",
        "Jane           364       448   F\n",
        "Jill           836       NaN   F\n",
        "Joe           2117      1959   M\n",
        "John           815       792   M\n",
        "\n",
        "[4 rows x 3 columns]"
       ]
      }
     ],
     "prompt_number": 839
    },
    {
     "cell_type": "markdown",
     "metadata": {},
     "source": [
      "Sorting the columns by column name in reverse alphabetical order:"
     ]
    },
    {
     "cell_type": "code",
     "collapsed": false,
     "input": [
      "cd4_frame.sort_index(axis=1, ascending=False)"
     ],
     "language": "python",
     "metadata": {},
     "outputs": [
      {
       "html": [
        "<div style=\"max-height:1000px;max-width:1500px;overflow:auto;\">\n",
        "<table border=\"1\" class=\"dataframe\">\n",
        "  <thead>\n",
        "    <tr style=\"text-align: right;\">\n",
        "      <th></th>\n",
        "      <th>sex</th>\n",
        "      <th>followup</th>\n",
        "      <th>baseline</th>\n",
        "    </tr>\n",
        "    <tr>\n",
        "      <th>patients</th>\n",
        "      <th></th>\n",
        "      <th></th>\n",
        "      <th></th>\n",
        "    </tr>\n",
        "  </thead>\n",
        "  <tbody>\n",
        "    <tr>\n",
        "      <th>Jane</th>\n",
        "      <td> F</td>\n",
        "      <td>  448</td>\n",
        "      <td>  364</td>\n",
        "    </tr>\n",
        "    <tr>\n",
        "      <th>Jill</th>\n",
        "      <td> F</td>\n",
        "      <td>  NaN</td>\n",
        "      <td>  836</td>\n",
        "    </tr>\n",
        "    <tr>\n",
        "      <th>Joe</th>\n",
        "      <td> M</td>\n",
        "      <td> 1959</td>\n",
        "      <td> 2117</td>\n",
        "    </tr>\n",
        "    <tr>\n",
        "      <th>John</th>\n",
        "      <td> M</td>\n",
        "      <td>  792</td>\n",
        "      <td>  815</td>\n",
        "    </tr>\n",
        "  </tbody>\n",
        "</table>\n",
        "<p>4 rows \u00d7 3 columns</p>\n",
        "</div>"
       ],
       "metadata": {},
       "output_type": "pyout",
       "prompt_number": 841,
       "text": [
        "         sex  followup  baseline\n",
        "patients                        \n",
        "Jane       F       448       364\n",
        "Jill       F       NaN       836\n",
        "Joe        M      1959      2117\n",
        "John       M       792       815\n",
        "\n",
        "[4 rows x 3 columns]"
       ]
      }
     ],
     "prompt_number": 841
    },
    {
     "cell_type": "markdown",
     "metadata": {},
     "source": [
      "# Exporting and Importing CSV Data\n",
      "\n",
      "Saving our DataFrame to a CSV is easy:"
     ]
    },
    {
     "cell_type": "code",
     "collapsed": false,
     "input": [
      "cd4_frame.to_csv(\"cd4_data.csv\")\n",
      "!ls"
     ],
     "language": "python",
     "metadata": {},
     "outputs": [
      {
       "output_type": "stream",
       "stream": "stdout",
       "text": [
        "cd4_change.csv\tmedals.csv  Mock clinical data2.csv  pandas-intro.ipynb\r\n"
       ]
      }
     ],
     "prompt_number": 530
    },
    {
     "cell_type": "code",
     "collapsed": false,
     "input": [
      "!cat cd4_data.csv"
     ],
     "language": "python",
     "metadata": {},
     "outputs": [
      {
       "output_type": "stream",
       "stream": "stdout",
       "text": [
        "patients,baseline,followup\r\n",
        "Jane,364,448.0\r\n",
        "Jill,836,\r\n",
        "Joe,2117,1959.0\r\n",
        "John,815,792.0\r\n"
       ]
      }
     ],
     "prompt_number": 531
    },
    {
     "cell_type": "code",
     "collapsed": false,
     "input": [
      "cd4_frame.dtypes"
     ],
     "language": "python",
     "metadata": {},
     "outputs": [
      {
       "metadata": {},
       "output_type": "pyout",
       "prompt_number": 532,
       "text": [
        "baseline      int64\n",
        "followup    float64\n",
        "dtype: object"
       ]
      }
     ],
     "prompt_number": 532
    },
    {
     "cell_type": "markdown",
     "metadata": {},
     "source": [
      "Importing our data back into pandas:"
     ]
    },
    {
     "cell_type": "code",
     "collapsed": false,
     "input": [
      "cd4_import = pd.read_csv(\"cd4_data.csv\")\n",
      "cd4_import"
     ],
     "language": "python",
     "metadata": {},
     "outputs": [
      {
       "html": [
        "<div style=\"max-height:1000px;max-width:1500px;overflow:auto;\">\n",
        "<table border=\"1\" class=\"dataframe\">\n",
        "  <thead>\n",
        "    <tr style=\"text-align: right;\">\n",
        "      <th></th>\n",
        "      <th>patients</th>\n",
        "      <th>baseline</th>\n",
        "      <th>followup</th>\n",
        "    </tr>\n",
        "  </thead>\n",
        "  <tbody>\n",
        "    <tr>\n",
        "      <th>0</th>\n",
        "      <td> Jane</td>\n",
        "      <td>  364</td>\n",
        "      <td>  448</td>\n",
        "    </tr>\n",
        "    <tr>\n",
        "      <th>1</th>\n",
        "      <td> Jill</td>\n",
        "      <td>  836</td>\n",
        "      <td>  NaN</td>\n",
        "    </tr>\n",
        "    <tr>\n",
        "      <th>2</th>\n",
        "      <td>  Joe</td>\n",
        "      <td> 2117</td>\n",
        "      <td> 1959</td>\n",
        "    </tr>\n",
        "    <tr>\n",
        "      <th>3</th>\n",
        "      <td> John</td>\n",
        "      <td>  815</td>\n",
        "      <td>  792</td>\n",
        "    </tr>\n",
        "  </tbody>\n",
        "</table>\n",
        "<p>4 rows \u00d7 3 columns</p>\n",
        "</div>"
       ],
       "metadata": {},
       "output_type": "pyout",
       "prompt_number": 619,
       "text": [
        "  patients  baseline  followup\n",
        "0     Jane       364       448\n",
        "1     Jill       836       NaN\n",
        "2      Joe      2117      1959\n",
        "3     John       815       792\n",
        "\n",
        "[4 rows x 3 columns]"
       ]
      }
     ],
     "prompt_number": 619
    },
    {
     "cell_type": "markdown",
     "metadata": {},
     "source": [
      "But, there's something different. The original data we exported was indexed by `patients`.\n",
      "\n",
      "To set the index to an existing column we can use **`set_index`**. However, like many pandas functions it doesn't modify our DataFrame in place, and returns a new copy:"
     ]
    },
    {
     "cell_type": "code",
     "collapsed": false,
     "input": [
      "cd4_import = cd4_import.set_index('patients')\n",
      "cd4_import"
     ],
     "language": "python",
     "metadata": {},
     "outputs": [
      {
       "html": [
        "<div style=\"max-height:1000px;max-width:1500px;overflow:auto;\">\n",
        "<table border=\"1\" class=\"dataframe\">\n",
        "  <thead>\n",
        "    <tr style=\"text-align: right;\">\n",
        "      <th></th>\n",
        "      <th>baseline</th>\n",
        "      <th>followup</th>\n",
        "    </tr>\n",
        "    <tr>\n",
        "      <th>patients</th>\n",
        "      <th></th>\n",
        "      <th></th>\n",
        "    </tr>\n",
        "  </thead>\n",
        "  <tbody>\n",
        "    <tr>\n",
        "      <th>Jane</th>\n",
        "      <td>  364</td>\n",
        "      <td>  448</td>\n",
        "    </tr>\n",
        "    <tr>\n",
        "      <th>Jill</th>\n",
        "      <td>  836</td>\n",
        "      <td>  NaN</td>\n",
        "    </tr>\n",
        "    <tr>\n",
        "      <th>Joe</th>\n",
        "      <td> 2117</td>\n",
        "      <td> 1959</td>\n",
        "    </tr>\n",
        "    <tr>\n",
        "      <th>John</th>\n",
        "      <td>  815</td>\n",
        "      <td>  792</td>\n",
        "    </tr>\n",
        "  </tbody>\n",
        "</table>\n",
        "<p>4 rows \u00d7 2 columns</p>\n",
        "</div>"
       ],
       "metadata": {},
       "output_type": "pyout",
       "prompt_number": 620,
       "text": [
        "          baseline  followup\n",
        "patients                    \n",
        "Jane           364       448\n",
        "Jill           836       NaN\n",
        "Joe           2117      1959\n",
        "John           815       792\n",
        "\n",
        "[4 rows x 2 columns]"
       ]
      }
     ],
     "prompt_number": 620
    },
    {
     "cell_type": "markdown",
     "metadata": {},
     "source": [
      "Or, we could have specified the index column when importing:"
     ]
    },
    {
     "cell_type": "code",
     "collapsed": false,
     "input": [
      "pd.read_csv(\"cd4_data.csv\", index_col='patients')"
     ],
     "language": "python",
     "metadata": {},
     "outputs": [
      {
       "html": [
        "<div style=\"max-height:1000px;max-width:1500px;overflow:auto;\">\n",
        "<table border=\"1\" class=\"dataframe\">\n",
        "  <thead>\n",
        "    <tr style=\"text-align: right;\">\n",
        "      <th></th>\n",
        "      <th>baseline</th>\n",
        "      <th>followup</th>\n",
        "    </tr>\n",
        "    <tr>\n",
        "      <th>patients</th>\n",
        "      <th></th>\n",
        "      <th></th>\n",
        "    </tr>\n",
        "  </thead>\n",
        "  <tbody>\n",
        "    <tr>\n",
        "      <th>Jane</th>\n",
        "      <td>  364</td>\n",
        "      <td>  448</td>\n",
        "    </tr>\n",
        "    <tr>\n",
        "      <th>Jill</th>\n",
        "      <td>  836</td>\n",
        "      <td>  NaN</td>\n",
        "    </tr>\n",
        "    <tr>\n",
        "      <th>Joe</th>\n",
        "      <td> 2117</td>\n",
        "      <td> 1959</td>\n",
        "    </tr>\n",
        "    <tr>\n",
        "      <th>John</th>\n",
        "      <td>  815</td>\n",
        "      <td>  792</td>\n",
        "    </tr>\n",
        "  </tbody>\n",
        "</table>\n",
        "<p>4 rows \u00d7 2 columns</p>\n",
        "</div>"
       ],
       "metadata": {},
       "output_type": "pyout",
       "prompt_number": 534,
       "text": [
        "          baseline  followup\n",
        "patients                    \n",
        "Jane           364       448\n",
        "Jill           836       NaN\n",
        "Joe           2117      1959\n",
        "John           815       792\n",
        "\n",
        "[4 rows x 2 columns]"
       ]
      }
     ],
     "prompt_number": 534
    },
    {
     "cell_type": "markdown",
     "metadata": {},
     "source": [
      "There are many other useful arguments for `read_csv`. If your text file is not comma delimited, you can specify the separator using **`sep`**. The value for this argument is a string, which can also be a regular expression. \n",
      "\n",
      "The `to_csv` function also uses the `sep` argument. Let's save a tab-delimited version of our data:"
     ]
    },
    {
     "cell_type": "code",
     "collapsed": false,
     "input": [
      "cd4_frame.to_csv(\"cd4_data.tsv\", sep=\"\\t\")\n",
      "!cat cd4_data.tsv"
     ],
     "language": "python",
     "metadata": {},
     "outputs": [
      {
       "output_type": "stream",
       "stream": "stdout",
       "text": [
        "patients\tbaseline\tfollowup\r\n",
        "Jane\t364\t448.0\r\n",
        "Jill\t836\t\r\n",
        "Joe\t2117\t1959.0\r\n",
        "John\t815\t792.0\r\n"
       ]
      }
     ],
     "prompt_number": 621
    },
    {
     "cell_type": "markdown",
     "metadata": {},
     "source": [
      "Notice the tab delimiter is set using the regular expression **`\\t`**.\n",
      "\n",
      "The full list of options for read_csv is available in the pandas documentation"
     ]
    },
    {
     "cell_type": "code",
     "collapsed": false,
     "input": [
      "pd.read_csv?"
     ],
     "language": "python",
     "metadata": {},
     "outputs": [],
     "prompt_number": 624
    },
    {
     "cell_type": "markdown",
     "metadata": {},
     "source": [
      "# Exercise 1\n",
      "\n",
      "## Import mock clinical data\n",
      "\n",
      "1. Add some problems..."
     ]
    },
    {
     "cell_type": "code",
     "collapsed": false,
     "input": [
      "clin_data = pd.read_csv(\"Mock clinical data2.csv\")"
     ],
     "language": "python",
     "metadata": {},
     "outputs": [],
     "prompt_number": 684
    },
    {
     "cell_type": "code",
     "collapsed": false,
     "input": [
      "clin_data.columns"
     ],
     "language": "python",
     "metadata": {},
     "outputs": [
      {
       "metadata": {},
       "output_type": "pyout",
       "prompt_number": 701,
       "text": [
        "Index([u'Plasma ID', u'Urine ID', u'Saliva ID', u'Blinded_PT_ID', u'State', u'Subtype', u'Race/Ethnicity', u'Risk_SexWithMen', u'Risk_SexWithWomen', u'Risk_IDU', u'Date of cohort entry', u'EDSC', u'Fiebig_stage', u'Last_Fully_Negative', u'First_Any_Positive', u'HIV Status at Draw', u'ARV Treated at Draw', u'Elite at Draw', u'Viral Load', u'CD4', u'Category'], dtype='object')"
       ]
      }
     ],
     "prompt_number": 701
    },
    {
     "cell_type": "code",
     "collapsed": false,
     "input": [
      "type(clin_data)"
     ],
     "language": "python",
     "metadata": {},
     "outputs": [
      {
       "metadata": {},
       "output_type": "pyout",
       "prompt_number": 686,
       "text": [
        "pandas.core.frame.DataFrame"
       ]
      }
     ],
     "prompt_number": 686
    },
    {
     "cell_type": "code",
     "collapsed": false,
     "input": [
      "patients = clin_data.Blinded_PT_ID\n",
      "type(patients)"
     ],
     "language": "python",
     "metadata": {},
     "outputs": [
      {
       "metadata": {},
       "output_type": "pyout",
       "prompt_number": 687,
       "text": [
        "pandas.core.series.Series"
       ]
      }
     ],
     "prompt_number": 687
    },
    {
     "cell_type": "code",
     "collapsed": false,
     "input": [
      "clin_data.columns"
     ],
     "language": "python",
     "metadata": {},
     "outputs": [
      {
       "metadata": {},
       "output_type": "pyout",
       "prompt_number": 690,
       "text": [
        "Index([u'Plasma ID', u'Urine ID', u'Saliva ID', u'Blinded_PT_ID', u'State', u'Subtype', u'Race/Ethnicity', u'Risk_SexWithMen', u'Risk_SexWithWomen', u'Risk_IDU', u'Date of cohort entry', u'EDSC', u'Fiebig_stage', u'Last_Fully_Negative', u'First_Any_Positive', u'HIV Status at Draw', u'ARV Treated at Draw', u'Elite at Draw', u'Viral Load', u'CD4', u'Category'], dtype='object')"
       ]
      }
     ],
     "prompt_number": 690
    },
    {
     "cell_type": "code",
     "collapsed": false,
     "input": [
      "clin_data.index"
     ],
     "language": "python",
     "metadata": {},
     "outputs": [
      {
       "metadata": {},
       "output_type": "pyout",
       "prompt_number": 691,
       "text": [
        "Int64Index([0, 1, 2, 3, 4, 5, 6, 7, 8, 9, 10, 11, 12, 13, 14, 15, 16, 17, 18, 19, 20, 21, 22, 23, 24, 25, 26, 27, 28, 29, 30, 31, 32, 33, 34, 35, 36, 37, 38, 39, 40, 41, 42, 43, 44, 45, 46, 47, 48, 49, 50, 51, 52, 53, 54, 55, 56, 57, 58, 59, 60, 61, 62, 63, 64, 65, 66, 67, 68, 69, 70, 71, 72, 73, 74, 75, 76, 77, 78, 79, 80, 81, 82, 83, 84, 85, 86, 87, 88, 89, 90, 91, 92, 93, 94, 95, 96, 97, 98, 99, ...], dtype='int64')"
       ]
      }
     ],
     "prompt_number": 691
    },
    {
     "cell_type": "code",
     "collapsed": false,
     "input": [
      "patients = clin_data.Blinded_PT_ID.unique()\n",
      "print patients"
     ],
     "language": "python",
     "metadata": {},
     "outputs": [
      {
       "output_type": "stream",
       "stream": "stdout",
       "text": [
        "[  17717     206 1701717  170177   17020  170217   17022  170240   17024\n",
        "   21717   17027   17026   17028   17029  170400  170402  170407  170406\n",
        "     244  170409   17709  177172 1771740  177176     247     249    2740\n",
        "     262     289     296    4006    1772    4027    4082     728   74040\n",
        "    7417    7440     772     777    1776    7840     797     796    6177\n",
        "     620    6240     662     688    1780     689     692     708     740\n",
        "     744    7747     888     199    8240    1782    8404    8407    8409\n",
        "     844     872     864     870    8817    8917     897    1787     899\n",
        "     900     909    9172    9178    9179    9402    9409     940    1799\n",
        "     947     974     966     967     968     969    9717     972     999\n",
        "     986     204     987     988     989     990    9917    9940     994\n",
        "     207     997  170017   17002   17006   17007   17008   17009]\n"
       ]
      }
     ],
     "prompt_number": 692
    },
    {
     "cell_type": "code",
     "collapsed": false,
     "input": [
      "type(patients)"
     ],
     "language": "python",
     "metadata": {},
     "outputs": [
      {
       "metadata": {},
       "output_type": "pyout",
       "prompt_number": 693,
       "text": [
        "numpy.ndarray"
       ]
      }
     ],
     "prompt_number": 693
    },
    {
     "cell_type": "code",
     "collapsed": false,
     "input": [
      "patients.sort()\n",
      "print patients"
     ],
     "language": "python",
     "metadata": {},
     "outputs": [
      {
       "output_type": "stream",
       "stream": "stdout",
       "text": [
        "[    199     204     206     207     244     247     249     262     289\n",
        "     296     620     662     688     689     692     708     728     740\n",
        "     744     772     777     796     797     844     864     870     872\n",
        "     888     897     899     900     909     940     947     966     967\n",
        "     968     969     972     974     986     987     988     989     990\n",
        "     994     997     999    1772    1776    1780    1782    1787    1799\n",
        "    2740    4006    4027    4082    6177    6240    7417    7440    7747\n",
        "    7840    8240    8404    8407    8409    8817    8917    9172    9178\n",
        "    9179    9402    9409    9717    9917    9940   17002   17006   17007\n",
        "   17008   17009   17020   17022   17024   17026   17027   17028   17029\n",
        "   17709   17717   21717   74040  170017  170177  170217  170240  170400\n",
        "  170402  170406  170407  170409  177172  177176 1701717 1771740]\n"
       ]
      }
     ],
     "prompt_number": 694
    },
    {
     "cell_type": "code",
     "collapsed": false,
     "input": [
      "patients.size"
     ],
     "language": "python",
     "metadata": {},
     "outputs": [
      {
       "metadata": {},
       "output_type": "pyout",
       "prompt_number": 695,
       "text": [
        "107"
       ]
      }
     ],
     "prompt_number": 695
    },
    {
     "cell_type": "code",
     "collapsed": false,
     "input": [
      "dups = clin_data.Blinded_PT_ID.duplicated()"
     ],
     "language": "python",
     "metadata": {},
     "outputs": [],
     "prompt_number": 696
    },
    {
     "cell_type": "code",
     "collapsed": false,
     "input": [
      "type(dups)"
     ],
     "language": "python",
     "metadata": {},
     "outputs": [
      {
       "metadata": {},
       "output_type": "pyout",
       "prompt_number": 697,
       "text": [
        "pandas.core.series.Series"
       ]
      }
     ],
     "prompt_number": 697
    },
    {
     "cell_type": "code",
     "collapsed": false,
     "input": [
      "dups[dups == True]"
     ],
     "language": "python",
     "metadata": {},
     "outputs": [
      {
       "metadata": {},
       "output_type": "pyout",
       "prompt_number": 698,
       "text": [
        "107    True\n",
        "Name: Blinded_PT_ID, dtype: bool"
       ]
      }
     ],
     "prompt_number": 698
    },
    {
     "cell_type": "code",
     "collapsed": false,
     "input": [
      "clin_data.ix[107]"
     ],
     "language": "python",
     "metadata": {},
     "outputs": [
      {
       "metadata": {},
       "output_type": "pyout",
       "prompt_number": 699,
       "text": [
        "Plasma ID                               PL99\n",
        "Urine ID                               URN99\n",
        "Saliva ID                              SAL99\n",
        "Blinded_PT_ID                          17009\n",
        "State                                     US\n",
        "Subtype                                    B\n",
        "Race/Ethnicity                         White\n",
        "Risk_SexWithMen                        False\n",
        "Risk_SexWithWomen                      False\n",
        "Risk_IDU                               False\n",
        "Date of cohort entry              1903/08/05\n",
        "EDSC                              1903/06/17\n",
        "Fiebig_stage                              V+\n",
        "Last_Fully_Negative               1903/04/15\n",
        "First_Any_Positive                1903/07/09\n",
        "HIV Status at Draw                  Positive\n",
        "ARV Treated at Draw                    False\n",
        "Elite at Draw                          False\n",
        "Viral Load                             12898\n",
        "CD4                                      620\n",
        "Category                recent <6mo from EDI\n",
        "Name: 107, dtype: object"
       ]
      }
     ],
     "prompt_number": 699
    },
    {
     "cell_type": "code",
     "collapsed": false,
     "input": [
      "clin_data.describe()"
     ],
     "language": "python",
     "metadata": {},
     "outputs": [
      {
       "html": [
        "<div style=\"max-height:1000px;max-width:1500px;overflow:auto;\">\n",
        "<table border=\"1\" class=\"dataframe\">\n",
        "  <thead>\n",
        "    <tr style=\"text-align: right;\">\n",
        "      <th></th>\n",
        "      <th>Blinded_PT_ID</th>\n",
        "      <th>Risk_SexWithMen</th>\n",
        "      <th>Risk_SexWithWomen</th>\n",
        "      <th>Risk_IDU</th>\n",
        "      <th>ARV Treated at Draw</th>\n",
        "      <th>Elite at Draw</th>\n",
        "      <th>CD4</th>\n",
        "    </tr>\n",
        "  </thead>\n",
        "  <tbody>\n",
        "    <tr>\n",
        "      <th>count</th>\n",
        "      <td>     108.000000</td>\n",
        "      <td>       108</td>\n",
        "      <td>        108</td>\n",
        "      <td>        108</td>\n",
        "      <td>       108</td>\n",
        "      <td>        108</td>\n",
        "      <td>   90.000000</td>\n",
        "    </tr>\n",
        "    <tr>\n",
        "      <th>mean</th>\n",
        "      <td>   55035.111111</td>\n",
        "      <td> 0.7777778</td>\n",
        "      <td> 0.07407407</td>\n",
        "      <td> 0.08333333</td>\n",
        "      <td> 0.2407407</td>\n",
        "      <td> 0.05555556</td>\n",
        "      <td>  754.377778</td>\n",
        "    </tr>\n",
        "    <tr>\n",
        "      <th>std</th>\n",
        "      <td>  237657.880979</td>\n",
        "      <td> 0.4176779</td>\n",
        "      <td>  0.2631123</td>\n",
        "      <td>  0.2776739</td>\n",
        "      <td> 0.4295264</td>\n",
        "      <td>  0.2301293</td>\n",
        "      <td>  431.358960</td>\n",
        "    </tr>\n",
        "    <tr>\n",
        "      <th>min</th>\n",
        "      <td>     199.000000</td>\n",
        "      <td>     False</td>\n",
        "      <td>      False</td>\n",
        "      <td>      False</td>\n",
        "      <td>     False</td>\n",
        "      <td>      False</td>\n",
        "      <td>  151.000000</td>\n",
        "    </tr>\n",
        "    <tr>\n",
        "      <th>25%</th>\n",
        "      <td>     884.000000</td>\n",
        "      <td>         1</td>\n",
        "      <td>          0</td>\n",
        "      <td>          0</td>\n",
        "      <td>         0</td>\n",
        "      <td>          0</td>\n",
        "      <td>  488.500000</td>\n",
        "    </tr>\n",
        "    <tr>\n",
        "      <th>50%</th>\n",
        "      <td>    2269.500000</td>\n",
        "      <td>         1</td>\n",
        "      <td>          0</td>\n",
        "      <td>          0</td>\n",
        "      <td>         0</td>\n",
        "      <td>          0</td>\n",
        "      <td>  670.500000</td>\n",
        "    </tr>\n",
        "    <tr>\n",
        "      <th>75%</th>\n",
        "      <td>   17007.250000</td>\n",
        "      <td>         1</td>\n",
        "      <td>          0</td>\n",
        "      <td>          0</td>\n",
        "      <td>         0</td>\n",
        "      <td>          0</td>\n",
        "      <td>  872.750000</td>\n",
        "    </tr>\n",
        "    <tr>\n",
        "      <th>max</th>\n",
        "      <td> 1771740.000000</td>\n",
        "      <td>      True</td>\n",
        "      <td>       True</td>\n",
        "      <td>       True</td>\n",
        "      <td>      True</td>\n",
        "      <td>       True</td>\n",
        "      <td> 2841.000000</td>\n",
        "    </tr>\n",
        "  </tbody>\n",
        "</table>\n",
        "<p>8 rows \u00d7 7 columns</p>\n",
        "</div>"
       ],
       "metadata": {},
       "output_type": "pyout",
       "prompt_number": 700,
       "text": [
        "        Blinded_PT_ID Risk_SexWithMen Risk_SexWithWomen    Risk_IDU  \\\n",
        "count      108.000000             108               108         108   \n",
        "mean     55035.111111       0.7777778        0.07407407  0.08333333   \n",
        "std     237657.880979       0.4176779         0.2631123   0.2776739   \n",
        "min        199.000000           False             False       False   \n",
        "25%        884.000000               1                 0           0   \n",
        "50%       2269.500000               1                 0           0   \n",
        "75%      17007.250000               1                 0           0   \n",
        "max    1771740.000000            True              True        True   \n",
        "\n",
        "      ARV Treated at Draw Elite at Draw          CD4  \n",
        "count                 108           108    90.000000  \n",
        "mean            0.2407407    0.05555556   754.377778  \n",
        "std             0.4295264     0.2301293   431.358960  \n",
        "min                 False         False   151.000000  \n",
        "25%                     0             0   488.500000  \n",
        "50%                     0             0   670.500000  \n",
        "75%                     0             0   872.750000  \n",
        "max                  True          True  2841.000000  \n",
        "\n",
        "[8 rows x 7 columns]"
       ]
      }
     ],
     "prompt_number": 700
    },
    {
     "cell_type": "code",
     "collapsed": false,
     "input": [],
     "language": "python",
     "metadata": {},
     "outputs": []
    }
   ],
   "metadata": {}
  }
 ]
}