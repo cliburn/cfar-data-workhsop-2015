{
 "cells": [
  {
   "cell_type": "markdown",
   "metadata": {
    "slideshow": {
     "slide_type": "slide"
    }
   },
   "source": [
    "# Introduction to pandas"
   ]
  },
  {
   "cell_type": "markdown",
   "metadata": {
    "slideshow": {
     "slide_type": "fragment"
    }
   },
   "source": [
    "* A Python package for working with multi -dimensional, structured data (e.g. Excel spreadsheets, relational databases)"
   ]
  },
  {
   "cell_type": "markdown",
   "metadata": {
    "slideshow": {
     "slide_type": "fragment"
    }
   },
   "source": [
    "* Built on top of NumPy so it's fast...but with more convenient data structures"
   ]
  },
  {
   "cell_type": "markdown",
   "metadata": {
    "slideshow": {
     "slide_type": "fragment"
    }
   },
   "source": [
    "* The main data structure, called a DataFrame, is similar to the data.frame in R"
   ]
  },
  {
   "cell_type": "markdown",
   "metadata": {
    "slideshow": {
     "slide_type": "subslide"
    }
   },
   "source": [
    "Conventionally, pandas is imported using the alias **`pd`** because programmers are lazy"
   ]
  },
  {
   "cell_type": "markdown",
   "metadata": {
    "slideshow": {
     "slide_type": "fragment"
    }
   },
   "source": [
    "You'll often see the commonly used data structures imported separately for even less typing (i.e. avoiding pd.DataFrame)"
   ]
  },
  {
   "cell_type": "code",
   "execution_count": 103,
   "metadata": {
    "collapsed": false,
    "slideshow": {
     "slide_type": "-"
    }
   },
   "outputs": [],
   "source": [
    "import pandas as pd\n",
    "from pandas import Series, DataFrame"
   ]
  },
  {
   "cell_type": "markdown",
   "metadata": {
    "slideshow": {
     "slide_type": "fragment"
    }
   },
   "source": [
    "Before we get started, let's make sure we are in the right directory to access the files we'll use"
   ]
  },
  {
   "cell_type": "code",
   "execution_count": 82,
   "metadata": {
    "collapsed": false
   },
   "outputs": [
    {
     "name": "stdout",
     "output_type": "stream",
     "text": [
      "cd4_data.csv  cd4_data.tsv  long_data.csv  pandas-intro.ipynb\n",
      "/home/swhite/git/cfar-data-workshop-2015/day1-sect3_pandas-intro\n"
     ]
    }
   ],
   "source": [
    "!ls\n",
    "!pwd"
   ]
  },
  {
   "cell_type": "markdown",
   "metadata": {
    "slideshow": {
     "slide_type": "slide"
    }
   },
   "source": [
    "# Data Structures\n",
    "\n",
    "\n",
    "## Series\n",
    "\n",
    "...similar to a Python list or a single column of a spreadsheet"
   ]
  },
  {
   "cell_type": "markdown",
   "metadata": {
    "slideshow": {
     "slide_type": "subslide"
    }
   },
   "source": [
    "### Creating a Series\n",
    "\n",
    "Let's create a new Series from a simple Python list"
   ]
  },
  {
   "cell_type": "code",
   "execution_count": 3,
   "metadata": {
    "collapsed": false
   },
   "outputs": [
    {
     "data": {
      "text/plain": [
       "[815, 364, 2117]"
      ]
     },
     "execution_count": 3,
     "metadata": {},
     "output_type": "execute_result"
    }
   ],
   "source": [
    "some_data = [815, 364, 2117]\n",
    "some_data"
   ]
  },
  {
   "cell_type": "code",
   "execution_count": 4,
   "metadata": {
    "collapsed": false,
    "scrolled": true,
    "slideshow": {
     "slide_type": "-"
    }
   },
   "outputs": [
    {
     "data": {
      "text/plain": [
       "0     815\n",
       "1     364\n",
       "2    2117\n",
       "dtype: int64"
      ]
     },
     "execution_count": 4,
     "metadata": {},
     "output_type": "execute_result"
    }
   ],
   "source": [
    "baseline = Series(some_data)\n",
    "baseline"
   ]
  },
  {
   "cell_type": "markdown",
   "metadata": {
    "slideshow": {
     "slide_type": "fragment"
    }
   },
   "source": [
    "...a much nicer output vs Python's list"
   ]
  },
  {
   "cell_type": "markdown",
   "metadata": {
    "slideshow": {
     "slide_type": "subslide"
    }
   },
   "source": [
    "### Custom Index\n",
    "\n",
    "But, we can make this even better"
   ]
  },
  {
   "cell_type": "markdown",
   "metadata": {
    "slideshow": {
     "slide_type": "fragment"
    }
   },
   "source": [
    "pandas allows us to specify custom indices"
   ]
  },
  {
   "cell_type": "markdown",
   "metadata": {
    "slideshow": {
     "slide_type": "fragment"
    }
   },
   "source": [
    "Let's re-create the Series with something more meaningful:"
   ]
  },
  {
   "cell_type": "code",
   "execution_count": 5,
   "metadata": {
    "collapsed": false
   },
   "outputs": [
    {
     "data": {
      "text/plain": [
       "John     815\n",
       "Jane     364\n",
       "Joe     2117\n",
       "dtype: int64"
      ]
     },
     "execution_count": 5,
     "metadata": {},
     "output_type": "execute_result"
    }
   ],
   "source": [
    "baseline = Series(some_data, index=['John', 'Jane', 'Joe'])\n",
    "baseline"
   ]
  },
  {
   "cell_type": "markdown",
   "metadata": {
    "slideshow": {
     "slide_type": "subslide"
    }
   },
   "source": [
    "Note the length of the data and the indices given must be equal:"
   ]
  },
  {
   "cell_type": "code",
   "execution_count": 79,
   "metadata": {
    "collapsed": false,
    "scrolled": true
   },
   "outputs": [
    {
     "ename": "ValueError",
     "evalue": "Wrong number of items passed 3, placement implies 4",
     "output_type": "error",
     "traceback": [
      "\u001b[1;31m---------------------------------------------------------------------------\u001b[0m",
      "\u001b[1;31mValueError\u001b[0m                                Traceback (most recent call last)",
      "\u001b[1;32m<ipython-input-79-6aa58a404552>\u001b[0m in \u001b[0;36m<module>\u001b[1;34m()\u001b[0m\n\u001b[1;32m----> 1\u001b[1;33m \u001b[0mSeries\u001b[0m\u001b[1;33m(\u001b[0m\u001b[0msome_data\u001b[0m\u001b[1;33m,\u001b[0m \u001b[0mindex\u001b[0m\u001b[1;33m=\u001b[0m\u001b[1;33m[\u001b[0m\u001b[1;34m'John'\u001b[0m\u001b[1;33m,\u001b[0m \u001b[1;34m'Jane'\u001b[0m\u001b[1;33m,\u001b[0m \u001b[1;34m'Joe'\u001b[0m\u001b[1;33m,\u001b[0m \u001b[1;34m'Scott'\u001b[0m\u001b[1;33m]\u001b[0m\u001b[1;33m)\u001b[0m\u001b[1;33m\u001b[0m\u001b[0m\n\u001b[0m",
      "\u001b[1;32m/home/swhite/env/lib/python3.4/site-packages/pandas/core/series.py\u001b[0m in \u001b[0;36m__init__\u001b[1;34m(self, data, index, dtype, name, copy, fastpath)\u001b[0m\n\u001b[0;32m    218\u001b[0m                                        raise_cast_failure=True)\n\u001b[0;32m    219\u001b[0m \u001b[1;33m\u001b[0m\u001b[0m\n\u001b[1;32m--> 220\u001b[1;33m                 \u001b[0mdata\u001b[0m \u001b[1;33m=\u001b[0m \u001b[0mSingleBlockManager\u001b[0m\u001b[1;33m(\u001b[0m\u001b[0mdata\u001b[0m\u001b[1;33m,\u001b[0m \u001b[0mindex\u001b[0m\u001b[1;33m,\u001b[0m \u001b[0mfastpath\u001b[0m\u001b[1;33m=\u001b[0m\u001b[1;32mTrue\u001b[0m\u001b[1;33m)\u001b[0m\u001b[1;33m\u001b[0m\u001b[0m\n\u001b[0m\u001b[0;32m    221\u001b[0m \u001b[1;33m\u001b[0m\u001b[0m\n\u001b[0;32m    222\u001b[0m         \u001b[0mgeneric\u001b[0m\u001b[1;33m.\u001b[0m\u001b[0mNDFrame\u001b[0m\u001b[1;33m.\u001b[0m\u001b[0m__init__\u001b[0m\u001b[1;33m(\u001b[0m\u001b[0mself\u001b[0m\u001b[1;33m,\u001b[0m \u001b[0mdata\u001b[0m\u001b[1;33m,\u001b[0m \u001b[0mfastpath\u001b[0m\u001b[1;33m=\u001b[0m\u001b[1;32mTrue\u001b[0m\u001b[1;33m)\u001b[0m\u001b[1;33m\u001b[0m\u001b[0m\n",
      "\u001b[1;32m/home/swhite/env/lib/python3.4/site-packages/pandas/core/internals.py\u001b[0m in \u001b[0;36m__init__\u001b[1;34m(self, block, axis, do_integrity_check, fastpath)\u001b[0m\n\u001b[0;32m   3381\u001b[0m             block = make_block(block,\n\u001b[0;32m   3382\u001b[0m                                \u001b[0mplacement\u001b[0m\u001b[1;33m=\u001b[0m\u001b[0mslice\u001b[0m\u001b[1;33m(\u001b[0m\u001b[1;36m0\u001b[0m\u001b[1;33m,\u001b[0m \u001b[0mlen\u001b[0m\u001b[1;33m(\u001b[0m\u001b[0maxis\u001b[0m\u001b[1;33m)\u001b[0m\u001b[1;33m)\u001b[0m\u001b[1;33m,\u001b[0m\u001b[1;33m\u001b[0m\u001b[0m\n\u001b[1;32m-> 3383\u001b[1;33m                                ndim=1, fastpath=True)\n\u001b[0m\u001b[0;32m   3384\u001b[0m \u001b[1;33m\u001b[0m\u001b[0m\n\u001b[0;32m   3385\u001b[0m         \u001b[0mself\u001b[0m\u001b[1;33m.\u001b[0m\u001b[0mblocks\u001b[0m \u001b[1;33m=\u001b[0m \u001b[1;33m[\u001b[0m\u001b[0mblock\u001b[0m\u001b[1;33m]\u001b[0m\u001b[1;33m\u001b[0m\u001b[0m\n",
      "\u001b[1;32m/home/swhite/env/lib/python3.4/site-packages/pandas/core/internals.py\u001b[0m in \u001b[0;36mmake_block\u001b[1;34m(values, placement, klass, ndim, dtype, fastpath)\u001b[0m\n\u001b[0;32m   2099\u001b[0m \u001b[1;33m\u001b[0m\u001b[0m\n\u001b[0;32m   2100\u001b[0m     return klass(values, ndim=ndim, fastpath=fastpath,\n\u001b[1;32m-> 2101\u001b[1;33m                  placement=placement)\n\u001b[0m\u001b[0;32m   2102\u001b[0m \u001b[1;33m\u001b[0m\u001b[0m\n\u001b[0;32m   2103\u001b[0m \u001b[1;33m\u001b[0m\u001b[0m\n",
      "\u001b[1;32m/home/swhite/env/lib/python3.4/site-packages/pandas/core/internals.py\u001b[0m in \u001b[0;36m__init__\u001b[1;34m(self, values, placement, ndim, fastpath)\u001b[0m\n\u001b[0;32m     75\u001b[0m             raise ValueError('Wrong number of items passed %d,'\n\u001b[0;32m     76\u001b[0m                              ' placement implies %d' % (\n\u001b[1;32m---> 77\u001b[1;33m                                  len(self.values), len(self.mgr_locs)))\n\u001b[0m\u001b[0;32m     78\u001b[0m \u001b[1;33m\u001b[0m\u001b[0m\n\u001b[0;32m     79\u001b[0m     \u001b[1;33m@\u001b[0m\u001b[0mproperty\u001b[0m\u001b[1;33m\u001b[0m\u001b[0m\n",
      "\u001b[1;31mValueError\u001b[0m: Wrong number of items passed 3, placement implies 4"
     ]
    }
   ],
   "source": [
    "Series(some_data, index=['John', 'Jane', 'Joe', 'Scott'])"
   ]
  },
  {
   "cell_type": "markdown",
   "metadata": {
    "slideshow": {
     "slide_type": "slide"
    }
   },
   "source": [
    "### Adding and Removing Items in a Series\n",
    "\n",
    "To add a new value:"
   ]
  },
  {
   "cell_type": "code",
   "execution_count": 6,
   "metadata": {
    "collapsed": false,
    "slideshow": {
     "slide_type": "-"
    }
   },
   "outputs": [
    {
     "data": {
      "text/plain": [
       "John      815\n",
       "Jane      364\n",
       "Joe      2117\n",
       "Jason      42\n",
       "dtype: int64"
      ]
     },
     "execution_count": 6,
     "metadata": {},
     "output_type": "execute_result"
    }
   ],
   "source": [
    "baseline['Jason'] = 42\n",
    "baseline"
   ]
  },
  {
   "cell_type": "markdown",
   "metadata": {
    "slideshow": {
     "slide_type": "fragment"
    }
   },
   "source": [
    "And to remove it:"
   ]
  },
  {
   "cell_type": "code",
   "execution_count": 7,
   "metadata": {
    "collapsed": false
   },
   "outputs": [
    {
     "data": {
      "text/plain": [
       "John     815\n",
       "Jane     364\n",
       "Joe     2117\n",
       "dtype: int64"
      ]
     },
     "execution_count": 7,
     "metadata": {},
     "output_type": "execute_result"
    }
   ],
   "source": [
    "baseline.drop('Jason')"
   ]
  },
  {
   "cell_type": "markdown",
   "metadata": {
    "slideshow": {
     "slide_type": "subslide"
    }
   },
   "source": [
    "But, our value wasn't really removed!"
   ]
  },
  {
   "cell_type": "code",
   "execution_count": 8,
   "metadata": {
    "collapsed": false
   },
   "outputs": [
    {
     "data": {
      "text/plain": [
       "John      815\n",
       "Jane      364\n",
       "Joe      2117\n",
       "Jason      42\n",
       "dtype: int64"
      ]
     },
     "execution_count": 8,
     "metadata": {},
     "output_type": "execute_result"
    }
   ],
   "source": [
    "baseline"
   ]
  },
  {
   "cell_type": "markdown",
   "metadata": {
    "slideshow": {
     "slide_type": "fragment"
    }
   },
   "source": [
    "Most pandas functions that modify data return a copy by default"
   ]
  },
  {
   "cell_type": "markdown",
   "metadata": {
    "slideshow": {
     "slide_type": "fragment"
    }
   },
   "source": [
    "We ***could*** assign the copy back to the original variable..."
   ]
  },
  {
   "cell_type": "markdown",
   "metadata": {
    "slideshow": {
     "slide_type": "fragment"
    }
   },
   "source": [
    "Luckily, many pandas functions have an option to modify data in place"
   ]
  },
  {
   "cell_type": "code",
   "execution_count": 9,
   "metadata": {
    "collapsed": false
   },
   "outputs": [
    {
     "data": {
      "text/plain": [
       "John     815\n",
       "Jane     364\n",
       "Joe     2117\n",
       "dtype: int64"
      ]
     },
     "execution_count": 9,
     "metadata": {},
     "output_type": "execute_result"
    }
   ],
   "source": [
    "baseline.drop('Jason', inplace=True)\n",
    "baseline"
   ]
  },
  {
   "cell_type": "markdown",
   "metadata": {
    "slideshow": {
     "slide_type": "slide"
    }
   },
   "source": [
    "### The Series Index\n",
    "\n",
    "To determine the indices use the **`index`** attribute:"
   ]
  },
  {
   "cell_type": "code",
   "execution_count": 10,
   "metadata": {
    "collapsed": false
   },
   "outputs": [
    {
     "data": {
      "text/plain": [
       "Index([u'John', u'Jane', u'Joe'], dtype='object')"
      ]
     },
     "execution_count": 10,
     "metadata": {},
     "output_type": "execute_result"
    }
   ],
   "source": [
    "baseline.index"
   ]
  },
  {
   "cell_type": "markdown",
   "metadata": {
    "slideshow": {
     "slide_type": "fragment"
    }
   },
   "source": [
    "We can also give a more meaningful label name to the index"
   ]
  },
  {
   "cell_type": "code",
   "execution_count": 11,
   "metadata": {
    "collapsed": false,
    "slideshow": {
     "slide_type": "-"
    }
   },
   "outputs": [
    {
     "data": {
      "text/plain": [
       "patients\n",
       "John     815\n",
       "Jane     364\n",
       "Joe     2117\n",
       "dtype: int64"
      ]
     },
     "execution_count": 11,
     "metadata": {},
     "output_type": "execute_result"
    }
   ],
   "source": [
    "baseline.index.name = 'patients'\n",
    "baseline"
   ]
  },
  {
   "cell_type": "markdown",
   "metadata": {
    "slideshow": {
     "slide_type": "fragment"
    }
   },
   "source": [
    "And to the Series itself"
   ]
  },
  {
   "cell_type": "code",
   "execution_count": 12,
   "metadata": {
    "collapsed": false
   },
   "outputs": [
    {
     "data": {
      "text/plain": [
       "patients\n",
       "John     815\n",
       "Jane     364\n",
       "Joe     2117\n",
       "Name: CD4 baseline, dtype: int64"
      ]
     },
     "execution_count": 12,
     "metadata": {},
     "output_type": "execute_result"
    }
   ],
   "source": [
    "baseline.name = 'CD4 baseline'\n",
    "baseline"
   ]
  },
  {
   "cell_type": "markdown",
   "metadata": {
    "slideshow": {
     "slide_type": "slide"
    }
   },
   "source": [
    "### Selecting Values from a Series"
   ]
  },
  {
   "cell_type": "markdown",
   "metadata": {
    "slideshow": {
     "slide_type": "fragment"
    }
   },
   "source": [
    "We can use our indices to reference the values:"
   ]
  },
  {
   "cell_type": "code",
   "execution_count": 13,
   "metadata": {
    "collapsed": false
   },
   "outputs": [
    {
     "data": {
      "text/plain": [
       "815"
      ]
     },
     "execution_count": 13,
     "metadata": {},
     "output_type": "execute_result"
    }
   ],
   "source": [
    "baseline['John']"
   ]
  },
  {
   "cell_type": "markdown",
   "metadata": {
    "slideshow": {
     "slide_type": "fragment"
    }
   },
   "source": [
    "Regular indexing by position also works:"
   ]
  },
  {
   "cell_type": "code",
   "execution_count": 14,
   "metadata": {
    "collapsed": false
   },
   "outputs": [
    {
     "data": {
      "text/plain": [
       "815"
      ]
     },
     "execution_count": 14,
     "metadata": {},
     "output_type": "execute_result"
    }
   ],
   "source": [
    "baseline[0]"
   ]
  },
  {
   "cell_type": "markdown",
   "metadata": {
    "slideshow": {
     "slide_type": "fragment"
    }
   },
   "source": [
    "Slicing works as well:"
   ]
  },
  {
   "cell_type": "code",
   "execution_count": 15,
   "metadata": {
    "collapsed": false
   },
   "outputs": [
    {
     "data": {
      "text/plain": [
       "patients\n",
       "Jane     364\n",
       "Joe     2117\n",
       "Name: CD4 baseline, dtype: int64"
      ]
     },
     "execution_count": 15,
     "metadata": {},
     "output_type": "execute_result"
    }
   ],
   "source": [
    "baseline[1:3]"
   ]
  },
  {
   "cell_type": "markdown",
   "metadata": {
    "slideshow": {
     "slide_type": "subslide"
    }
   },
   "source": [
    "Retrieving non-successive rows by position or index name:"
   ]
  },
  {
   "cell_type": "code",
   "execution_count": 16,
   "metadata": {
    "collapsed": false
   },
   "outputs": [
    {
     "data": {
      "text/plain": [
       "patients\n",
       "John     815\n",
       "Jane     364\n",
       "Joe     2117\n",
       "Name: CD4 baseline, dtype: int64"
      ]
     },
     "execution_count": 16,
     "metadata": {},
     "output_type": "execute_result"
    }
   ],
   "source": [
    "baseline"
   ]
  },
  {
   "cell_type": "code",
   "execution_count": 17,
   "metadata": {
    "collapsed": false
   },
   "outputs": [
    {
     "data": {
      "text/plain": [
       "patients\n",
       "John     815\n",
       "Joe     2117\n",
       "Name: CD4 baseline, dtype: int64"
      ]
     },
     "execution_count": 17,
     "metadata": {},
     "output_type": "execute_result"
    }
   ],
   "source": [
    "baseline[[0,2]]"
   ]
  },
  {
   "cell_type": "code",
   "execution_count": 18,
   "metadata": {
    "collapsed": false
   },
   "outputs": [
    {
     "data": {
      "text/plain": [
       "patients\n",
       "John     815\n",
       "Joe     2117\n",
       "Name: CD4 baseline, dtype: int64"
      ]
     },
     "execution_count": 18,
     "metadata": {},
     "output_type": "execute_result"
    }
   ],
   "source": [
    "baseline[['John', 'Joe']]"
   ]
  },
  {
   "cell_type": "markdown",
   "metadata": {
    "slideshow": {
     "slide_type": "slide"
    }
   },
   "source": [
    "# Exercise\n",
    "\n",
    "### Create a New Series\n",
    "\n",
    "Create a new Series called **`followup`** using the following data:\n",
    "\n",
    "| Index | Value |\n",
    "|-------|-------|\n",
    "| Jane  | 448   |\n",
    "| Joe   | 1959  |\n",
    "| John  | 792   |\n",
    "\n",
    "Rename the index to **`patients`**\n",
    "\n",
    "Rename the Series **`CD4 followup`**"
   ]
  },
  {
   "cell_type": "markdown",
   "metadata": {
    "slideshow": {
     "slide_type": "subslide"
    }
   },
   "source": [
    "First, make a list of the values:"
   ]
  },
  {
   "cell_type": "code",
   "execution_count": 19,
   "metadata": {
    "collapsed": false,
    "slideshow": {
     "slide_type": "-"
    }
   },
   "outputs": [],
   "source": [
    "followup_data = [448, 1959, 792]"
   ]
  },
  {
   "cell_type": "markdown",
   "metadata": {
    "slideshow": {
     "slide_type": "fragment"
    }
   },
   "source": [
    "Create the Series (we can name it at the same time):"
   ]
  },
  {
   "cell_type": "code",
   "execution_count": 20,
   "metadata": {
    "collapsed": true
   },
   "outputs": [],
   "source": [
    "followup = Series(\n",
    "    followup_data,\n",
    "    index=['Jane', 'Joe', 'John'], \n",
    "    name='CD4 followup')"
   ]
  },
  {
   "cell_type": "markdown",
   "metadata": {
    "slideshow": {
     "slide_type": "fragment"
    }
   },
   "source": [
    "Give the index a name:"
   ]
  },
  {
   "cell_type": "code",
   "execution_count": 21,
   "metadata": {
    "collapsed": false
   },
   "outputs": [
    {
     "data": {
      "text/plain": [
       "patients\n",
       "Jane     448\n",
       "Joe     1959\n",
       "John     792\n",
       "Name: CD4 followup, dtype: int64"
      ]
     },
     "execution_count": 21,
     "metadata": {},
     "output_type": "execute_result"
    }
   ],
   "source": [
    "followup.index.name = 'patients'\n",
    "followup "
   ]
  },
  {
   "cell_type": "markdown",
   "metadata": {
    "slideshow": {
     "slide_type": "slide"
    }
   },
   "source": [
    "### Data Alignment"
   ]
  },
  {
   "cell_type": "markdown",
   "metadata": {
    "slideshow": {
     "slide_type": "fragment"
    }
   },
   "source": [
    "Let's compute the differences over time"
   ]
  },
  {
   "cell_type": "code",
   "execution_count": 22,
   "metadata": {
    "collapsed": false
   },
   "outputs": [
    {
     "data": {
      "text/plain": [
       "patients\n",
       "Jane     84\n",
       "Joe    -158\n",
       "John    -23\n",
       "dtype: int64"
      ]
     },
     "execution_count": 22,
     "metadata": {},
     "output_type": "execute_result"
    }
   ],
   "source": [
    "diff = followup - baseline\n",
    "diff"
   ]
  },
  {
   "cell_type": "markdown",
   "metadata": {
    "slideshow": {
     "slide_type": "fragment"
    }
   },
   "source": [
    "pandas uses the indices to ***align*** data in different series, even though the indices were in a different order"
   ]
  },
  {
   "cell_type": "markdown",
   "metadata": {
    "slideshow": {
     "slide_type": "subslide"
    }
   },
   "source": [
    "But, what if the 2 Series have non-matching indices?"
   ]
  },
  {
   "cell_type": "code",
   "execution_count": 23,
   "metadata": {
    "collapsed": false
   },
   "outputs": [
    {
     "data": {
      "text/plain": [
       "patients\n",
       "John     815\n",
       "Jane     364\n",
       "Joe     2117\n",
       "Jill     836\n",
       "Name: CD4 baseline, dtype: int64"
      ]
     },
     "execution_count": 23,
     "metadata": {},
     "output_type": "execute_result"
    }
   ],
   "source": [
    "baseline['Jill'] = 836\n",
    "baseline "
   ]
  },
  {
   "cell_type": "code",
   "execution_count": 24,
   "metadata": {
    "collapsed": false
   },
   "outputs": [
    {
     "data": {
      "text/plain": [
       "patients\n",
       "Jane     84\n",
       "Jill    NaN\n",
       "Joe    -158\n",
       "John    -23\n",
       "dtype: float64"
      ]
     },
     "execution_count": 24,
     "metadata": {},
     "output_type": "execute_result"
    }
   ],
   "source": [
    "diff = followup - baseline\n",
    "diff"
   ]
  },
  {
   "cell_type": "markdown",
   "metadata": {
    "slideshow": {
     "slide_type": "fragment"
    }
   },
   "source": [
    "The new Series is a **union** of the indices\n",
    "\n",
    "pandas uses the value **`NaN`** (not a number) for the missing data"
   ]
  },
  {
   "cell_type": "markdown",
   "metadata": {
    "slideshow": {
     "slide_type": "slide"
    }
   },
   "source": [
    "### Filtering\n",
    "\n",
    "Like with NumPy, we can use boolean arrays for filtering"
   ]
  },
  {
   "cell_type": "code",
   "execution_count": 104,
   "metadata": {
    "collapsed": false
   },
   "outputs": [
    {
     "data": {
      "text/plain": [
       "patients\n",
       "Jane     True\n",
       "Jill    False\n",
       "Joe     False\n",
       "John    False\n",
       "dtype: bool"
      ]
     },
     "execution_count": 104,
     "metadata": {},
     "output_type": "execute_result"
    }
   ],
   "source": [
    "diff > 0"
   ]
  },
  {
   "cell_type": "markdown",
   "metadata": {
    "slideshow": {
     "slide_type": "fragment"
    }
   },
   "source": [
    "**NaN** is evaluated as False"
   ]
  },
  {
   "cell_type": "markdown",
   "metadata": {
    "slideshow": {
     "slide_type": "fragment"
    }
   },
   "source": [
    "Likewise for a \"less than\" comparison:"
   ]
  },
  {
   "cell_type": "code",
   "execution_count": 26,
   "metadata": {
    "collapsed": false
   },
   "outputs": [
    {
     "data": {
      "text/plain": [
       "patients\n",
       "Jane    False\n",
       "Jill    False\n",
       "Joe      True\n",
       "John     True\n",
       "dtype: bool"
      ]
     },
     "execution_count": 26,
     "metadata": {},
     "output_type": "execute_result"
    }
   ],
   "source": [
    "diff < 0"
   ]
  },
  {
   "cell_type": "markdown",
   "metadata": {
    "slideshow": {
     "slide_type": "subslide"
    }
   },
   "source": [
    "Use the boolean array to get the values for the filter"
   ]
  },
  {
   "cell_type": "code",
   "execution_count": 27,
   "metadata": {
    "collapsed": false
   },
   "outputs": [
    {
     "data": {
      "text/plain": [
       "patients\n",
       "Jane    84\n",
       "dtype: float64"
      ]
     },
     "execution_count": 27,
     "metadata": {},
     "output_type": "execute_result"
    }
   ],
   "source": [
    "diff[diff > 0]"
   ]
  },
  {
   "cell_type": "markdown",
   "metadata": {
    "slideshow": {
     "slide_type": "fragment"
    }
   },
   "source": [
    "Only the values corresponding to **`True`** are returned"
   ]
  },
  {
   "cell_type": "markdown",
   "metadata": {
    "slideshow": {
     "slide_type": "subslide"
    }
   },
   "source": [
    "Filter the missing data using the function **`isnull`**"
   ]
  },
  {
   "cell_type": "code",
   "execution_count": 28,
   "metadata": {
    "collapsed": false
   },
   "outputs": [
    {
     "data": {
      "text/plain": [
       "patients\n",
       "Jill   NaN\n",
       "dtype: float64"
      ]
     },
     "execution_count": 28,
     "metadata": {},
     "output_type": "execute_result"
    }
   ],
   "source": [
    "diff[diff.isnull()]"
   ]
  },
  {
   "cell_type": "markdown",
   "metadata": {
    "slideshow": {
     "slide_type": "fragment"
    }
   },
   "source": [
    "And get the inverse using **`notnull`**"
   ]
  },
  {
   "cell_type": "code",
   "execution_count": 29,
   "metadata": {
    "collapsed": false
   },
   "outputs": [
    {
     "data": {
      "text/plain": [
       "patients\n",
       "Jane     84\n",
       "Joe    -158\n",
       "John    -23\n",
       "dtype: float64"
      ]
     },
     "execution_count": 29,
     "metadata": {},
     "output_type": "execute_result"
    }
   ],
   "source": [
    "diff[diff.notnull()]"
   ]
  },
  {
   "cell_type": "markdown",
   "metadata": {
    "slideshow": {
     "slide_type": "subslide"
    }
   },
   "source": [
    "We can also fill in the missing values with a value using **`fillna`**."
   ]
  },
  {
   "cell_type": "code",
   "execution_count": 30,
   "metadata": {
    "collapsed": false
   },
   "outputs": [
    {
     "data": {
      "text/plain": [
       "patients\n",
       "Jane     84\n",
       "Jill      0\n",
       "Joe    -158\n",
       "John    -23\n",
       "dtype: float64"
      ]
     },
     "execution_count": 30,
     "metadata": {},
     "output_type": "execute_result"
    }
   ],
   "source": [
    "diff.fillna(0)"
   ]
  },
  {
   "cell_type": "markdown",
   "metadata": {
    "slideshow": {
     "slide_type": "fragment"
    }
   },
   "source": [
    "**`fillna`** doesn't modify the original Series, but does take an ***`inplace`*** argument"
   ]
  },
  {
   "cell_type": "markdown",
   "metadata": {
    "slideshow": {
     "slide_type": "fragment"
    }
   },
   "source": [
    "There's also **`dropna`** to remove missing values"
   ]
  },
  {
   "cell_type": "code",
   "execution_count": 31,
   "metadata": {
    "collapsed": false
   },
   "outputs": [
    {
     "data": {
      "text/plain": [
       "patients\n",
       "Jane     84\n",
       "Joe    -158\n",
       "John    -23\n",
       "dtype: float64"
      ]
     },
     "execution_count": 31,
     "metadata": {},
     "output_type": "execute_result"
    }
   ],
   "source": [
    "diff.dropna(inplace=True)\n",
    "diff"
   ]
  },
  {
   "cell_type": "markdown",
   "metadata": {
    "slideshow": {
     "slide_type": "slide"
    }
   },
   "source": [
    "# Data Structures\n",
    "\n",
    "## DataFrame\n",
    "\n",
    "A DataFrame is similar to an Excel spreadsheet, containing both columns and rows\n",
    "\n",
    "You can think of a DataFrame as a container for multiple Series with a common index"
   ]
  },
  {
   "cell_type": "markdown",
   "metadata": {
    "slideshow": {
     "slide_type": "subslide"
    }
   },
   "source": [
    "Let's create a DataFrame by concatenating both the baseline and followup Series across the columns (**`axis=1`**):"
   ]
  },
  {
   "cell_type": "code",
   "execution_count": 32,
   "metadata": {
    "collapsed": false
   },
   "outputs": [
    {
     "data": {
      "text/html": [
       "<div>\n",
       "<table border=\"1\" class=\"dataframe\">\n",
       "  <thead>\n",
       "    <tr style=\"text-align: right;\">\n",
       "      <th></th>\n",
       "      <th>CD4 baseline</th>\n",
       "      <th>CD4 followup</th>\n",
       "    </tr>\n",
       "  </thead>\n",
       "  <tbody>\n",
       "    <tr>\n",
       "      <th>Jane</th>\n",
       "      <td>364</td>\n",
       "      <td>448</td>\n",
       "    </tr>\n",
       "    <tr>\n",
       "      <th>Jill</th>\n",
       "      <td>836</td>\n",
       "      <td>NaN</td>\n",
       "    </tr>\n",
       "    <tr>\n",
       "      <th>Joe</th>\n",
       "      <td>2117</td>\n",
       "      <td>1959</td>\n",
       "    </tr>\n",
       "    <tr>\n",
       "      <th>John</th>\n",
       "      <td>815</td>\n",
       "      <td>792</td>\n",
       "    </tr>\n",
       "  </tbody>\n",
       "</table>\n",
       "</div>"
      ],
      "text/plain": [
       "      CD4 baseline  CD4 followup\n",
       "Jane           364           448\n",
       "Jill           836           NaN\n",
       "Joe           2117          1959\n",
       "John           815           792"
      ]
     },
     "execution_count": 32,
     "metadata": {},
     "output_type": "execute_result"
    }
   ],
   "source": [
    "cd4_frame = pd.concat([baseline, followup], axis=1)\n",
    "cd4_frame"
   ]
  },
  {
   "cell_type": "markdown",
   "metadata": {
    "slideshow": {
     "slide_type": "fragment"
    }
   },
   "source": [
    "iPython notebook renders the DataFrame as an HTML table"
   ]
  },
  {
   "cell_type": "markdown",
   "metadata": {
    "slideshow": {
     "slide_type": "subslide"
    }
   },
   "source": [
    "### Axis labelling is tricky\n",
    "\n",
    "```\n",
    "\n",
    "+------+-------+-------+\n",
    "|      | col_A | col_B |\n",
    "+------+-------+-------+\n",
    "| Jane |  364  |  448  | -- axis=1 -->\n",
    "+------+-------+-------+\n",
    "           |\n",
    "           | axis=0\n",
    "           ↓\n",
    "```"
   ]
  },
  {
   "cell_type": "markdown",
   "metadata": {
    "slideshow": {
     "slide_type": "fragment"
    }
   },
   "source": [
    "**`axis=1`**\n",
    "\n",
    "    across the columns (along the row)\n",
    "\n",
    "----\n",
    "\n",
    "**`axis=0`**\n",
    "\n",
    "    across the rows (along the column)"
   ]
  },
  {
   "cell_type": "markdown",
   "metadata": {
    "slideshow": {
     "slide_type": "subslide"
    }
   },
   "source": [
    "The **`shape`** *attribute* returns the number of rows and columns:"
   ]
  },
  {
   "cell_type": "code",
   "execution_count": 33,
   "metadata": {
    "collapsed": false
   },
   "outputs": [
    {
     "data": {
      "text/plain": [
       "(4, 2)"
      ]
     },
     "execution_count": 33,
     "metadata": {},
     "output_type": "execute_result"
    }
   ],
   "source": [
    "cd4_frame.shape"
   ]
  },
  {
   "cell_type": "markdown",
   "metadata": {
    "slideshow": {
     "slide_type": "fragment"
    }
   },
   "source": [
    "The **`describe`** *method* gives a variety of summary data:"
   ]
  },
  {
   "cell_type": "code",
   "execution_count": 34,
   "metadata": {
    "collapsed": false
   },
   "outputs": [
    {
     "data": {
      "text/html": [
       "<div>\n",
       "<table border=\"1\" class=\"dataframe\">\n",
       "  <thead>\n",
       "    <tr style=\"text-align: right;\">\n",
       "      <th></th>\n",
       "      <th>CD4 baseline</th>\n",
       "      <th>CD4 followup</th>\n",
       "    </tr>\n",
       "  </thead>\n",
       "  <tbody>\n",
       "    <tr>\n",
       "      <th>count</th>\n",
       "      <td>4.000000</td>\n",
       "      <td>3.000000</td>\n",
       "    </tr>\n",
       "    <tr>\n",
       "      <th>mean</th>\n",
       "      <td>1033.000000</td>\n",
       "      <td>1066.333333</td>\n",
       "    </tr>\n",
       "    <tr>\n",
       "      <th>std</th>\n",
       "      <td>754.751615</td>\n",
       "      <td>791.974958</td>\n",
       "    </tr>\n",
       "    <tr>\n",
       "      <th>min</th>\n",
       "      <td>364.000000</td>\n",
       "      <td>448.000000</td>\n",
       "    </tr>\n",
       "    <tr>\n",
       "      <th>25%</th>\n",
       "      <td>702.250000</td>\n",
       "      <td>620.000000</td>\n",
       "    </tr>\n",
       "    <tr>\n",
       "      <th>50%</th>\n",
       "      <td>825.500000</td>\n",
       "      <td>792.000000</td>\n",
       "    </tr>\n",
       "    <tr>\n",
       "      <th>75%</th>\n",
       "      <td>1156.250000</td>\n",
       "      <td>1375.500000</td>\n",
       "    </tr>\n",
       "    <tr>\n",
       "      <th>max</th>\n",
       "      <td>2117.000000</td>\n",
       "      <td>1959.000000</td>\n",
       "    </tr>\n",
       "  </tbody>\n",
       "</table>\n",
       "</div>"
      ],
      "text/plain": [
       "       CD4 baseline  CD4 followup\n",
       "count      4.000000      3.000000\n",
       "mean    1033.000000   1066.333333\n",
       "std      754.751615    791.974958\n",
       "min      364.000000    448.000000\n",
       "25%      702.250000    620.000000\n",
       "50%      825.500000    792.000000\n",
       "75%     1156.250000   1375.500000\n",
       "max     2117.000000   1959.000000"
      ]
     },
     "execution_count": 34,
     "metadata": {},
     "output_type": "execute_result"
    }
   ],
   "source": [
    "cd4_frame.describe()"
   ]
  },
  {
   "cell_type": "markdown",
   "metadata": {
    "slideshow": {
     "slide_type": "slide"
    }
   },
   "source": [
    "### Naming things\n",
    "\n",
    "Let's rename the columns for easier typing & to remove the spaces:"
   ]
  },
  {
   "cell_type": "code",
   "execution_count": 37,
   "metadata": {
    "collapsed": false
   },
   "outputs": [
    {
     "data": {
      "text/html": [
       "<div>\n",
       "<table border=\"1\" class=\"dataframe\">\n",
       "  <thead>\n",
       "    <tr style=\"text-align: right;\">\n",
       "      <th></th>\n",
       "      <th>baseline</th>\n",
       "      <th>followup</th>\n",
       "    </tr>\n",
       "    <tr>\n",
       "      <th>patients</th>\n",
       "      <th></th>\n",
       "      <th></th>\n",
       "    </tr>\n",
       "  </thead>\n",
       "  <tbody>\n",
       "    <tr>\n",
       "      <th>Jane</th>\n",
       "      <td>364</td>\n",
       "      <td>448</td>\n",
       "    </tr>\n",
       "    <tr>\n",
       "      <th>Jill</th>\n",
       "      <td>836</td>\n",
       "      <td>NaN</td>\n",
       "    </tr>\n",
       "    <tr>\n",
       "      <th>Joe</th>\n",
       "      <td>2117</td>\n",
       "      <td>1959</td>\n",
       "    </tr>\n",
       "    <tr>\n",
       "      <th>John</th>\n",
       "      <td>815</td>\n",
       "      <td>792</td>\n",
       "    </tr>\n",
       "  </tbody>\n",
       "</table>\n",
       "</div>"
      ],
      "text/plain": [
       "          baseline  followup\n",
       "patients                    \n",
       "Jane           364       448\n",
       "Jill           836       NaN\n",
       "Joe           2117      1959\n",
       "John           815       792"
      ]
     },
     "execution_count": 37,
     "metadata": {},
     "output_type": "execute_result"
    }
   ],
   "source": [
    "cd4_frame.rename(\n",
    "    columns={\n",
    "        'CD4 baseline': 'baseline', \n",
    "        'CD4 followup': 'followup'\n",
    "    },\n",
    "    inplace=True)\n",
    "cd4_frame"
   ]
  },
  {
   "cell_type": "markdown",
   "metadata": {
    "slideshow": {
     "slide_type": "fragment"
    }
   },
   "source": [
    "And, just like with a Series, we can name the DataFrame's index."
   ]
  },
  {
   "cell_type": "code",
   "execution_count": 38,
   "metadata": {
    "collapsed": false
   },
   "outputs": [
    {
     "data": {
      "text/html": [
       "<div>\n",
       "<table border=\"1\" class=\"dataframe\">\n",
       "  <thead>\n",
       "    <tr style=\"text-align: right;\">\n",
       "      <th></th>\n",
       "      <th>baseline</th>\n",
       "      <th>followup</th>\n",
       "    </tr>\n",
       "    <tr>\n",
       "      <th>patients</th>\n",
       "      <th></th>\n",
       "      <th></th>\n",
       "    </tr>\n",
       "  </thead>\n",
       "  <tbody>\n",
       "    <tr>\n",
       "      <th>Jane</th>\n",
       "      <td>364</td>\n",
       "      <td>448</td>\n",
       "    </tr>\n",
       "    <tr>\n",
       "      <th>Jill</th>\n",
       "      <td>836</td>\n",
       "      <td>NaN</td>\n",
       "    </tr>\n",
       "    <tr>\n",
       "      <th>Joe</th>\n",
       "      <td>2117</td>\n",
       "      <td>1959</td>\n",
       "    </tr>\n",
       "    <tr>\n",
       "      <th>John</th>\n",
       "      <td>815</td>\n",
       "      <td>792</td>\n",
       "    </tr>\n",
       "  </tbody>\n",
       "</table>\n",
       "</div>"
      ],
      "text/plain": [
       "          baseline  followup\n",
       "patients                    \n",
       "Jane           364       448\n",
       "Jill           836       NaN\n",
       "Joe           2117      1959\n",
       "John           815       792"
      ]
     },
     "execution_count": 38,
     "metadata": {},
     "output_type": "execute_result"
    }
   ],
   "source": [
    "cd4_frame.index.name = 'patients'\n",
    "cd4_frame"
   ]
  },
  {
   "cell_type": "markdown",
   "metadata": {
    "slideshow": {
     "slide_type": "slide"
    }
   },
   "source": [
    "### Making Selections\n",
    "\n",
    "A single column can be extracted in a couple ways\n",
    "\n",
    "First, by dictionary-like indexing:"
   ]
  },
  {
   "cell_type": "code",
   "execution_count": 39,
   "metadata": {
    "collapsed": false
   },
   "outputs": [
    {
     "data": {
      "text/plain": [
       "patients\n",
       "Jane     364\n",
       "Jill     836\n",
       "Joe     2117\n",
       "John     815\n",
       "Name: baseline, dtype: int64"
      ]
     },
     "execution_count": 39,
     "metadata": {},
     "output_type": "execute_result"
    }
   ],
   "source": [
    "cd4_frame['baseline']"
   ]
  },
  {
   "cell_type": "markdown",
   "metadata": {
    "slideshow": {
     "slide_type": "fragment"
    }
   },
   "source": [
    "Notice a DataFrame index refers to a column, whereas a Series index referred to a row\n",
    "\n",
    "We'll see how to select an entire DataFrame row in a bit"
   ]
  },
  {
   "cell_type": "markdown",
   "metadata": {
    "slideshow": {
     "slide_type": "subslide"
    }
   },
   "source": [
    "A more convenient way to extract a column is by attribute:"
   ]
  },
  {
   "cell_type": "code",
   "execution_count": 40,
   "metadata": {
    "collapsed": false,
    "scrolled": false
   },
   "outputs": [
    {
     "data": {
      "text/plain": [
       "patients\n",
       "Jane     364\n",
       "Jill     836\n",
       "Joe     2117\n",
       "John     815\n",
       "Name: baseline, dtype: int64"
      ]
     },
     "execution_count": 40,
     "metadata": {},
     "output_type": "execute_result"
    }
   ],
   "source": [
    "cd4_frame.baseline"
   ]
  },
  {
   "cell_type": "markdown",
   "metadata": {
    "slideshow": {
     "slide_type": "fragment"
    }
   },
   "source": [
    "Column names containing a space are not available as an attribute, you must use dictionary indexing\n",
    "\n",
    "...another good reason to rename unwieldy column names"
   ]
  },
  {
   "cell_type": "markdown",
   "metadata": {
    "slideshow": {
     "slide_type": "subslide"
    }
   },
   "source": [
    "A column extracted from a DataFrame is a pandas Series object"
   ]
  },
  {
   "cell_type": "code",
   "execution_count": 41,
   "metadata": {
    "collapsed": false
   },
   "outputs": [
    {
     "data": {
      "text/plain": [
       "pandas.core.series.Series"
      ]
     },
     "execution_count": 41,
     "metadata": {},
     "output_type": "execute_result"
    }
   ],
   "source": [
    "type(cd4_frame.baseline)"
   ]
  },
  {
   "cell_type": "markdown",
   "metadata": {
    "slideshow": {
     "slide_type": "fragment"
    }
   },
   "source": [
    "Any of the Series methods can be used on the column"
   ]
  },
  {
   "cell_type": "code",
   "execution_count": 42,
   "metadata": {
    "collapsed": false
   },
   "outputs": [
    {
     "data": {
      "text/plain": [
       "patients\n",
       "Jane    False\n",
       "Jill     True\n",
       "Joe     False\n",
       "John    False\n",
       "Name: followup, dtype: bool"
      ]
     },
     "execution_count": 42,
     "metadata": {},
     "output_type": "execute_result"
    }
   ],
   "source": [
    "cd4_frame.followup.isnull()"
   ]
  },
  {
   "cell_type": "markdown",
   "metadata": {
    "slideshow": {
     "slide_type": "subslide"
    }
   },
   "source": [
    "Knowing this, we can extract a single \"cell\" from a DataFrame:"
   ]
  },
  {
   "cell_type": "code",
   "execution_count": 43,
   "metadata": {
    "collapsed": false
   },
   "outputs": [
    {
     "data": {
      "text/plain": [
       "2117"
      ]
     },
     "execution_count": 43,
     "metadata": {},
     "output_type": "execute_result"
    }
   ],
   "source": [
    "cd4_frame.baseline['Joe']"
   ]
  },
  {
   "cell_type": "markdown",
   "metadata": {
    "slideshow": {
     "slide_type": "fragment"
    }
   },
   "source": [
    "This works with dictionary indexing too:"
   ]
  },
  {
   "cell_type": "code",
   "execution_count": 44,
   "metadata": {
    "collapsed": false
   },
   "outputs": [
    {
     "data": {
      "text/plain": [
       "2117"
      ]
     },
     "execution_count": 44,
     "metadata": {},
     "output_type": "execute_result"
    }
   ],
   "source": [
    "cd4_frame['baseline']['Joe'] "
   ]
  },
  {
   "cell_type": "markdown",
   "metadata": {
    "slideshow": {
     "slide_type": "fragment"
    }
   },
   "source": [
    "If all the names are space-free, use the attributes:"
   ]
  },
  {
   "cell_type": "code",
   "execution_count": 45,
   "metadata": {
    "collapsed": false
   },
   "outputs": [
    {
     "data": {
      "text/plain": [
       "2117"
      ]
     },
     "execution_count": 45,
     "metadata": {},
     "output_type": "execute_result"
    }
   ],
   "source": [
    "cd4_frame.baseline.Joe"
   ]
  },
  {
   "cell_type": "markdown",
   "metadata": {
    "slideshow": {
     "slide_type": "subslide"
    }
   },
   "source": [
    "We can select multiple columns *and* specify their order using a ***list*** of column names:"
   ]
  },
  {
   "cell_type": "code",
   "execution_count": 46,
   "metadata": {
    "collapsed": false
   },
   "outputs": [
    {
     "data": {
      "text/html": [
       "<div>\n",
       "<table border=\"1\" class=\"dataframe\">\n",
       "  <thead>\n",
       "    <tr style=\"text-align: right;\">\n",
       "      <th></th>\n",
       "      <th>followup</th>\n",
       "      <th>baseline</th>\n",
       "    </tr>\n",
       "    <tr>\n",
       "      <th>patients</th>\n",
       "      <th></th>\n",
       "      <th></th>\n",
       "    </tr>\n",
       "  </thead>\n",
       "  <tbody>\n",
       "    <tr>\n",
       "      <th>Jane</th>\n",
       "      <td>448</td>\n",
       "      <td>364</td>\n",
       "    </tr>\n",
       "    <tr>\n",
       "      <th>Jill</th>\n",
       "      <td>NaN</td>\n",
       "      <td>836</td>\n",
       "    </tr>\n",
       "    <tr>\n",
       "      <th>Joe</th>\n",
       "      <td>1959</td>\n",
       "      <td>2117</td>\n",
       "    </tr>\n",
       "    <tr>\n",
       "      <th>John</th>\n",
       "      <td>792</td>\n",
       "      <td>815</td>\n",
       "    </tr>\n",
       "  </tbody>\n",
       "</table>\n",
       "</div>"
      ],
      "text/plain": [
       "          followup  baseline\n",
       "patients                    \n",
       "Jane           448       364\n",
       "Jill           NaN       836\n",
       "Joe           1959      2117\n",
       "John           792       815"
      ]
     },
     "execution_count": 46,
     "metadata": {},
     "output_type": "execute_result"
    }
   ],
   "source": [
    "cd4_frame[['followup','baseline']]"
   ]
  },
  {
   "cell_type": "markdown",
   "metadata": {
    "slideshow": {
     "slide_type": "fragment"
    }
   },
   "source": [
    "But, be careful when manipulating data extracted from a DataFrame:"
   ]
  },
  {
   "cell_type": "code",
   "execution_count": 47,
   "metadata": {
    "collapsed": false
   },
   "outputs": [
    {
     "name": "stderr",
     "output_type": "stream",
     "text": [
      "/home/swhite/rise-env/lib/python2.7/site-packages/ipykernel/__main__.py:2: SettingWithCopyWarning: \n",
      "A value is trying to be set on a copy of a slice from a DataFrame\n",
      "\n",
      "See the the caveats in the documentation: http://pandas.pydata.org/pandas-docs/stable/indexing.html#indexing-view-versus-copy\n",
      "  from ipykernel import kernelapp as app\n"
     ]
    },
    {
     "data": {
      "text/html": [
       "<div>\n",
       "<table border=\"1\" class=\"dataframe\">\n",
       "  <thead>\n",
       "    <tr style=\"text-align: right;\">\n",
       "      <th></th>\n",
       "      <th>baseline</th>\n",
       "      <th>followup</th>\n",
       "    </tr>\n",
       "    <tr>\n",
       "      <th>patients</th>\n",
       "      <th></th>\n",
       "      <th></th>\n",
       "    </tr>\n",
       "  </thead>\n",
       "  <tbody>\n",
       "    <tr>\n",
       "      <th>Jane</th>\n",
       "      <td>42</td>\n",
       "      <td>448</td>\n",
       "    </tr>\n",
       "    <tr>\n",
       "      <th>Jill</th>\n",
       "      <td>836</td>\n",
       "      <td>NaN</td>\n",
       "    </tr>\n",
       "    <tr>\n",
       "      <th>Joe</th>\n",
       "      <td>2117</td>\n",
       "      <td>1959</td>\n",
       "    </tr>\n",
       "    <tr>\n",
       "      <th>John</th>\n",
       "      <td>815</td>\n",
       "      <td>792</td>\n",
       "    </tr>\n",
       "  </tbody>\n",
       "</table>\n",
       "</div>"
      ],
      "text/plain": [
       "          baseline  followup\n",
       "patients                    \n",
       "Jane            42       448\n",
       "Jill           836       NaN\n",
       "Joe           2117      1959\n",
       "John           815       792"
      ]
     },
     "execution_count": 47,
     "metadata": {},
     "output_type": "execute_result"
    }
   ],
   "source": [
    "col = cd4_frame.baseline\n",
    "col['Jane'] = 42\n",
    "cd4_frame"
   ]
  },
  {
   "cell_type": "markdown",
   "metadata": {
    "slideshow": {
     "slide_type": "subslide"
    }
   },
   "source": [
    "The Series extracted from our DataFrame is a **view** and not a copy of the data. If you really want a separate copy make sure to use **`copy`**:"
   ]
  },
  {
   "cell_type": "code",
   "execution_count": 48,
   "metadata": {
    "collapsed": false,
    "slideshow": {
     "slide_type": "-"
    }
   },
   "outputs": [
    {
     "data": {
      "text/html": [
       "<div>\n",
       "<table border=\"1\" class=\"dataframe\">\n",
       "  <thead>\n",
       "    <tr style=\"text-align: right;\">\n",
       "      <th></th>\n",
       "      <th>baseline</th>\n",
       "      <th>followup</th>\n",
       "    </tr>\n",
       "    <tr>\n",
       "      <th>patients</th>\n",
       "      <th></th>\n",
       "      <th></th>\n",
       "    </tr>\n",
       "  </thead>\n",
       "  <tbody>\n",
       "    <tr>\n",
       "      <th>Jane</th>\n",
       "      <td>42</td>\n",
       "      <td>448</td>\n",
       "    </tr>\n",
       "    <tr>\n",
       "      <th>Jill</th>\n",
       "      <td>836</td>\n",
       "      <td>NaN</td>\n",
       "    </tr>\n",
       "    <tr>\n",
       "      <th>Joe</th>\n",
       "      <td>2117</td>\n",
       "      <td>1959</td>\n",
       "    </tr>\n",
       "    <tr>\n",
       "      <th>John</th>\n",
       "      <td>815</td>\n",
       "      <td>792</td>\n",
       "    </tr>\n",
       "  </tbody>\n",
       "</table>\n",
       "</div>"
      ],
      "text/plain": [
       "          baseline  followup\n",
       "patients                    \n",
       "Jane            42       448\n",
       "Jill           836       NaN\n",
       "Joe           2117      1959\n",
       "John           815       792"
      ]
     },
     "execution_count": 48,
     "metadata": {},
     "output_type": "execute_result"
    }
   ],
   "source": [
    "col = cd4_frame.baseline.copy()\n",
    "col['Jane'] = 5000\n",
    "cd4_frame"
   ]
  },
  {
   "cell_type": "markdown",
   "metadata": {
    "slideshow": {
     "slide_type": "fragment"
    }
   },
   "source": [
    "Let's restore our original baseline column:"
   ]
  },
  {
   "cell_type": "code",
   "execution_count": 49,
   "metadata": {
    "collapsed": false
   },
   "outputs": [
    {
     "data": {
      "text/html": [
       "<div>\n",
       "<table border=\"1\" class=\"dataframe\">\n",
       "  <thead>\n",
       "    <tr style=\"text-align: right;\">\n",
       "      <th></th>\n",
       "      <th>baseline</th>\n",
       "      <th>followup</th>\n",
       "    </tr>\n",
       "    <tr>\n",
       "      <th>patients</th>\n",
       "      <th></th>\n",
       "      <th></th>\n",
       "    </tr>\n",
       "  </thead>\n",
       "  <tbody>\n",
       "    <tr>\n",
       "      <th>Jane</th>\n",
       "      <td>364</td>\n",
       "      <td>448</td>\n",
       "    </tr>\n",
       "    <tr>\n",
       "      <th>Jill</th>\n",
       "      <td>836</td>\n",
       "      <td>NaN</td>\n",
       "    </tr>\n",
       "    <tr>\n",
       "      <th>Joe</th>\n",
       "      <td>2117</td>\n",
       "      <td>1959</td>\n",
       "    </tr>\n",
       "    <tr>\n",
       "      <th>John</th>\n",
       "      <td>815</td>\n",
       "      <td>792</td>\n",
       "    </tr>\n",
       "  </tbody>\n",
       "</table>\n",
       "</div>"
      ],
      "text/plain": [
       "          baseline  followup\n",
       "patients                    \n",
       "Jane           364       448\n",
       "Jill           836       NaN\n",
       "Joe           2117      1959\n",
       "John           815       792"
      ]
     },
     "execution_count": 49,
     "metadata": {},
     "output_type": "execute_result"
    }
   ],
   "source": [
    "cd4_frame['baseline'] = baseline\n",
    "cd4_frame"
   ]
  },
  {
   "cell_type": "markdown",
   "metadata": {
    "slideshow": {
     "slide_type": "subslide"
    }
   },
   "source": [
    "### Retrieving Rows\n",
    "\n",
    "To retrieve an entire DataFrame row, use the **`ix`** attribute: "
   ]
  },
  {
   "cell_type": "code",
   "execution_count": 50,
   "metadata": {
    "collapsed": false
   },
   "outputs": [
    {
     "data": {
      "text/plain": [
       "baseline    2117\n",
       "followup    1959\n",
       "Name: Joe, dtype: float64"
      ]
     },
     "execution_count": 50,
     "metadata": {},
     "output_type": "execute_result"
    }
   ],
   "source": [
    "cd4_frame.ix['Joe']"
   ]
  },
  {
   "cell_type": "markdown",
   "metadata": {
    "slideshow": {
     "slide_type": "fragment"
    }
   },
   "source": [
    "This also returns a Series object:"
   ]
  },
  {
   "cell_type": "code",
   "execution_count": 51,
   "metadata": {
    "collapsed": false
   },
   "outputs": [
    {
     "data": {
      "text/plain": [
       "pandas.core.series.Series"
      ]
     },
     "execution_count": 51,
     "metadata": {},
     "output_type": "execute_result"
    }
   ],
   "source": [
    "type(cd4_frame.ix['Joe'])"
   ]
  },
  {
   "cell_type": "markdown",
   "metadata": {
    "slideshow": {
     "slide_type": "subslide"
    }
   },
   "source": [
    "And gives us even more options for accessing a single value:"
   ]
  },
  {
   "cell_type": "code",
   "execution_count": 52,
   "metadata": {
    "collapsed": false
   },
   "outputs": [
    {
     "data": {
      "text/plain": [
       "2117.0"
      ]
     },
     "execution_count": 52,
     "metadata": {},
     "output_type": "execute_result"
    }
   ],
   "source": [
    "cd4_frame.ix['Joe'].baseline"
   ]
  },
  {
   "cell_type": "code",
   "execution_count": 53,
   "metadata": {
    "collapsed": false
   },
   "outputs": [
    {
     "data": {
      "text/plain": [
       "2117.0"
      ]
     },
     "execution_count": 53,
     "metadata": {},
     "output_type": "execute_result"
    }
   ],
   "source": [
    "cd4_frame.ix['Joe']['baseline']"
   ]
  },
  {
   "cell_type": "markdown",
   "metadata": {
    "slideshow": {
     "slide_type": "fragment"
    }
   },
   "source": [
    "But, **`ix`** does *not* have attributes for the row names, so this won't work:"
   ]
  },
  {
   "cell_type": "code",
   "execution_count": 54,
   "metadata": {
    "collapsed": false
   },
   "outputs": [
    {
     "ename": "AttributeError",
     "evalue": "'_IXIndexer' object has no attribute 'Joe'",
     "output_type": "error",
     "traceback": [
      "\u001b[1;31m---------------------------------------------------------------------------\u001b[0m",
      "\u001b[1;31mAttributeError\u001b[0m                            Traceback (most recent call last)",
      "\u001b[1;32m<ipython-input-54-27748abd854d>\u001b[0m in \u001b[0;36m<module>\u001b[1;34m()\u001b[0m\n\u001b[1;32m----> 1\u001b[1;33m \u001b[0mcd4_frame\u001b[0m\u001b[1;33m.\u001b[0m\u001b[0mix\u001b[0m\u001b[1;33m.\u001b[0m\u001b[0mJoe\u001b[0m\u001b[1;33m\u001b[0m\u001b[0m\n\u001b[0m",
      "\u001b[1;31mAttributeError\u001b[0m: '_IXIndexer' object has no attribute 'Joe'"
     ]
    }
   ],
   "source": [
    "cd4_frame.ix.Joe"
   ]
  },
  {
   "cell_type": "markdown",
   "metadata": {
    "slideshow": {
     "slide_type": "subslide"
    }
   },
   "source": [
    "To get the first 2 rows, we can slice using **`ix`**:"
   ]
  },
  {
   "cell_type": "code",
   "execution_count": 55,
   "metadata": {
    "collapsed": false
   },
   "outputs": [
    {
     "data": {
      "text/html": [
       "<div>\n",
       "<table border=\"1\" class=\"dataframe\">\n",
       "  <thead>\n",
       "    <tr style=\"text-align: right;\">\n",
       "      <th></th>\n",
       "      <th>baseline</th>\n",
       "      <th>followup</th>\n",
       "    </tr>\n",
       "    <tr>\n",
       "      <th>patients</th>\n",
       "      <th></th>\n",
       "      <th></th>\n",
       "    </tr>\n",
       "  </thead>\n",
       "  <tbody>\n",
       "    <tr>\n",
       "      <th>Jane</th>\n",
       "      <td>364</td>\n",
       "      <td>448</td>\n",
       "    </tr>\n",
       "    <tr>\n",
       "      <th>Jill</th>\n",
       "      <td>836</td>\n",
       "      <td>NaN</td>\n",
       "    </tr>\n",
       "  </tbody>\n",
       "</table>\n",
       "</div>"
      ],
      "text/plain": [
       "          baseline  followup\n",
       "patients                    \n",
       "Jane           364       448\n",
       "Jill           836       NaN"
      ]
     },
     "execution_count": 55,
     "metadata": {},
     "output_type": "execute_result"
    }
   ],
   "source": [
    "cd4_frame.ix[:2]"
   ]
  },
  {
   "cell_type": "markdown",
   "metadata": {
    "slideshow": {
     "slide_type": "fragment"
    }
   },
   "source": [
    "Getting the 2nd and 4th rows:"
   ]
  },
  {
   "cell_type": "code",
   "execution_count": 56,
   "metadata": {
    "collapsed": false
   },
   "outputs": [
    {
     "data": {
      "text/html": [
       "<div>\n",
       "<table border=\"1\" class=\"dataframe\">\n",
       "  <thead>\n",
       "    <tr style=\"text-align: right;\">\n",
       "      <th></th>\n",
       "      <th>baseline</th>\n",
       "      <th>followup</th>\n",
       "    </tr>\n",
       "    <tr>\n",
       "      <th>patients</th>\n",
       "      <th></th>\n",
       "      <th></th>\n",
       "    </tr>\n",
       "  </thead>\n",
       "  <tbody>\n",
       "    <tr>\n",
       "      <th>Jill</th>\n",
       "      <td>836</td>\n",
       "      <td>NaN</td>\n",
       "    </tr>\n",
       "    <tr>\n",
       "      <th>John</th>\n",
       "      <td>815</td>\n",
       "      <td>792</td>\n",
       "    </tr>\n",
       "  </tbody>\n",
       "</table>\n",
       "</div>"
      ],
      "text/plain": [
       "          baseline  followup\n",
       "patients                    \n",
       "Jill           836       NaN\n",
       "John           815       792"
      ]
     },
     "execution_count": 56,
     "metadata": {},
     "output_type": "execute_result"
    }
   ],
   "source": [
    "cd4_frame.ix[[1,3]]"
   ]
  },
  {
   "cell_type": "markdown",
   "metadata": {
    "slideshow": {
     "slide_type": "subslide"
    }
   },
   "source": [
    "Selecting multiple rows of a single column:"
   ]
  },
  {
   "cell_type": "code",
   "execution_count": 57,
   "metadata": {
    "collapsed": false
   },
   "outputs": [
    {
     "data": {
      "text/plain": [
       "patients\n",
       "Jill    NaN\n",
       "John    792\n",
       "Name: followup, dtype: float64"
      ]
     },
     "execution_count": 57,
     "metadata": {},
     "output_type": "execute_result"
    }
   ],
   "source": [
    "cd4_frame.ix[[1,3], 'followup']"
   ]
  },
  {
   "cell_type": "markdown",
   "metadata": {
    "slideshow": {
     "slide_type": "fragment"
    }
   },
   "source": [
    "And selecting multiple rows and multiple columns:"
   ]
  },
  {
   "cell_type": "code",
   "execution_count": 58,
   "metadata": {
    "collapsed": false
   },
   "outputs": [
    {
     "data": {
      "text/html": [
       "<div>\n",
       "<table border=\"1\" class=\"dataframe\">\n",
       "  <thead>\n",
       "    <tr style=\"text-align: right;\">\n",
       "      <th></th>\n",
       "      <th>followup</th>\n",
       "      <th>baseline</th>\n",
       "    </tr>\n",
       "    <tr>\n",
       "      <th>patients</th>\n",
       "      <th></th>\n",
       "      <th></th>\n",
       "    </tr>\n",
       "  </thead>\n",
       "  <tbody>\n",
       "    <tr>\n",
       "      <th>Jill</th>\n",
       "      <td>NaN</td>\n",
       "      <td>836</td>\n",
       "    </tr>\n",
       "    <tr>\n",
       "      <th>John</th>\n",
       "      <td>792</td>\n",
       "      <td>815</td>\n",
       "    </tr>\n",
       "  </tbody>\n",
       "</table>\n",
       "</div>"
      ],
      "text/plain": [
       "          followup  baseline\n",
       "patients                    \n",
       "Jill           NaN       836\n",
       "John           792       815"
      ]
     },
     "execution_count": 58,
     "metadata": {},
     "output_type": "execute_result"
    }
   ],
   "source": [
    "cd4_frame.ix[[1,3], ['followup', 'baseline']]"
   ]
  },
  {
   "cell_type": "markdown",
   "metadata": {
    "slideshow": {
     "slide_type": "slide"
    }
   },
   "source": [
    "### Creating and Deleting Columns\n",
    "\n",
    "Let's create a new column:"
   ]
  },
  {
   "cell_type": "code",
   "execution_count": 59,
   "metadata": {
    "collapsed": false
   },
   "outputs": [
    {
     "data": {
      "text/html": [
       "<div>\n",
       "<table border=\"1\" class=\"dataframe\">\n",
       "  <thead>\n",
       "    <tr style=\"text-align: right;\">\n",
       "      <th></th>\n",
       "      <th>baseline</th>\n",
       "      <th>followup</th>\n",
       "    </tr>\n",
       "    <tr>\n",
       "      <th>patients</th>\n",
       "      <th></th>\n",
       "      <th></th>\n",
       "    </tr>\n",
       "  </thead>\n",
       "  <tbody>\n",
       "    <tr>\n",
       "      <th>Jane</th>\n",
       "      <td>364</td>\n",
       "      <td>448</td>\n",
       "    </tr>\n",
       "    <tr>\n",
       "      <th>Jill</th>\n",
       "      <td>836</td>\n",
       "      <td>NaN</td>\n",
       "    </tr>\n",
       "    <tr>\n",
       "      <th>Joe</th>\n",
       "      <td>2117</td>\n",
       "      <td>1959</td>\n",
       "    </tr>\n",
       "    <tr>\n",
       "      <th>John</th>\n",
       "      <td>815</td>\n",
       "      <td>792</td>\n",
       "    </tr>\n",
       "  </tbody>\n",
       "</table>\n",
       "</div>"
      ],
      "text/plain": [
       "          baseline  followup\n",
       "patients                    \n",
       "Jane           364       448\n",
       "Jill           836       NaN\n",
       "Joe           2117      1959\n",
       "John           815       792"
      ]
     },
     "execution_count": 59,
     "metadata": {},
     "output_type": "execute_result"
    }
   ],
   "source": [
    "cd4_frame"
   ]
  },
  {
   "cell_type": "code",
   "execution_count": 60,
   "metadata": {
    "collapsed": false
   },
   "outputs": [
    {
     "data": {
      "text/html": [
       "<div>\n",
       "<table border=\"1\" class=\"dataframe\">\n",
       "  <thead>\n",
       "    <tr style=\"text-align: right;\">\n",
       "      <th></th>\n",
       "      <th>baseline</th>\n",
       "      <th>followup</th>\n",
       "      <th>sex</th>\n",
       "    </tr>\n",
       "    <tr>\n",
       "      <th>patients</th>\n",
       "      <th></th>\n",
       "      <th></th>\n",
       "      <th></th>\n",
       "    </tr>\n",
       "  </thead>\n",
       "  <tbody>\n",
       "    <tr>\n",
       "      <th>Jane</th>\n",
       "      <td>364</td>\n",
       "      <td>448</td>\n",
       "      <td>F</td>\n",
       "    </tr>\n",
       "    <tr>\n",
       "      <th>Jill</th>\n",
       "      <td>836</td>\n",
       "      <td>NaN</td>\n",
       "      <td>F</td>\n",
       "    </tr>\n",
       "    <tr>\n",
       "      <th>Joe</th>\n",
       "      <td>2117</td>\n",
       "      <td>1959</td>\n",
       "      <td>M</td>\n",
       "    </tr>\n",
       "    <tr>\n",
       "      <th>John</th>\n",
       "      <td>815</td>\n",
       "      <td>792</td>\n",
       "      <td>M</td>\n",
       "    </tr>\n",
       "  </tbody>\n",
       "</table>\n",
       "</div>"
      ],
      "text/plain": [
       "          baseline  followup sex\n",
       "patients                        \n",
       "Jane           364       448   F\n",
       "Jill           836       NaN   F\n",
       "Joe           2117      1959   M\n",
       "John           815       792   M"
      ]
     },
     "execution_count": 60,
     "metadata": {},
     "output_type": "execute_result"
    }
   ],
   "source": [
    "cd4_frame['sex'] = ['F', 'F', 'M', 'M']\n",
    "cd4_frame"
   ]
  },
  {
   "cell_type": "markdown",
   "metadata": {
    "slideshow": {
     "slide_type": "subslide"
    }
   },
   "source": [
    "And a new column with the percent change in CD4:"
   ]
  },
  {
   "cell_type": "code",
   "execution_count": 61,
   "metadata": {
    "collapsed": false
   },
   "outputs": [
    {
     "data": {
      "text/html": [
       "<div>\n",
       "<table border=\"1\" class=\"dataframe\">\n",
       "  <thead>\n",
       "    <tr style=\"text-align: right;\">\n",
       "      <th></th>\n",
       "      <th>baseline</th>\n",
       "      <th>followup</th>\n",
       "      <th>sex</th>\n",
       "      <th>percent_change</th>\n",
       "    </tr>\n",
       "    <tr>\n",
       "      <th>patients</th>\n",
       "      <th></th>\n",
       "      <th></th>\n",
       "      <th></th>\n",
       "      <th></th>\n",
       "    </tr>\n",
       "  </thead>\n",
       "  <tbody>\n",
       "    <tr>\n",
       "      <th>Jane</th>\n",
       "      <td>364</td>\n",
       "      <td>448</td>\n",
       "      <td>F</td>\n",
       "      <td>23.076923</td>\n",
       "    </tr>\n",
       "    <tr>\n",
       "      <th>Jill</th>\n",
       "      <td>836</td>\n",
       "      <td>NaN</td>\n",
       "      <td>F</td>\n",
       "      <td>NaN</td>\n",
       "    </tr>\n",
       "    <tr>\n",
       "      <th>Joe</th>\n",
       "      <td>2117</td>\n",
       "      <td>1959</td>\n",
       "      <td>M</td>\n",
       "      <td>-7.463392</td>\n",
       "    </tr>\n",
       "    <tr>\n",
       "      <th>John</th>\n",
       "      <td>815</td>\n",
       "      <td>792</td>\n",
       "      <td>M</td>\n",
       "      <td>-2.822086</td>\n",
       "    </tr>\n",
       "  </tbody>\n",
       "</table>\n",
       "</div>"
      ],
      "text/plain": [
       "          baseline  followup sex  percent_change\n",
       "patients                                        \n",
       "Jane           364       448   F       23.076923\n",
       "Jill           836       NaN   F             NaN\n",
       "Joe           2117      1959   M       -7.463392\n",
       "John           815       792   M       -2.822086"
      ]
     },
     "execution_count": 61,
     "metadata": {},
     "output_type": "execute_result"
    }
   ],
   "source": [
    "diff = cd4_frame.followup - cd4_frame.baseline\n",
    "cd4_frame['percent_change'] = diff / cd4_frame.baseline * 100\n",
    "cd4_frame"
   ]
  },
  {
   "cell_type": "markdown",
   "metadata": {
    "slideshow": {
     "slide_type": "fragment"
    }
   },
   "source": [
    "Note you cannot define a new column using an attribute, e.g. **`cd4_frame.some_column = ...`**"
   ]
  },
  {
   "cell_type": "markdown",
   "metadata": {
    "slideshow": {
     "slide_type": "subslide"
    }
   },
   "source": [
    "To remove a column we can use **`drop`**"
   ]
  },
  {
   "cell_type": "code",
   "execution_count": 62,
   "metadata": {
    "collapsed": false,
    "scrolled": true
   },
   "outputs": [
    {
     "data": {
      "text/html": [
       "<div>\n",
       "<table border=\"1\" class=\"dataframe\">\n",
       "  <thead>\n",
       "    <tr style=\"text-align: right;\">\n",
       "      <th></th>\n",
       "      <th>baseline</th>\n",
       "      <th>followup</th>\n",
       "      <th>sex</th>\n",
       "    </tr>\n",
       "    <tr>\n",
       "      <th>patients</th>\n",
       "      <th></th>\n",
       "      <th></th>\n",
       "      <th></th>\n",
       "    </tr>\n",
       "  </thead>\n",
       "  <tbody>\n",
       "    <tr>\n",
       "      <th>Jane</th>\n",
       "      <td>364</td>\n",
       "      <td>448</td>\n",
       "      <td>F</td>\n",
       "    </tr>\n",
       "    <tr>\n",
       "      <th>Jill</th>\n",
       "      <td>836</td>\n",
       "      <td>NaN</td>\n",
       "      <td>F</td>\n",
       "    </tr>\n",
       "    <tr>\n",
       "      <th>Joe</th>\n",
       "      <td>2117</td>\n",
       "      <td>1959</td>\n",
       "      <td>M</td>\n",
       "    </tr>\n",
       "    <tr>\n",
       "      <th>John</th>\n",
       "      <td>815</td>\n",
       "      <td>792</td>\n",
       "      <td>M</td>\n",
       "    </tr>\n",
       "  </tbody>\n",
       "</table>\n",
       "</div>"
      ],
      "text/plain": [
       "          baseline  followup sex\n",
       "patients                        \n",
       "Jane           364       448   F\n",
       "Jill           836       NaN   F\n",
       "Joe           2117      1959   M\n",
       "John           815       792   M"
      ]
     },
     "execution_count": 62,
     "metadata": {},
     "output_type": "execute_result"
    }
   ],
   "source": [
    "cd4_frame.drop('percent_change', axis=1)"
   ]
  },
  {
   "cell_type": "markdown",
   "metadata": {
    "slideshow": {
     "slide_type": "fragment"
    }
   },
   "source": [
    "Since **`drop`** is a modification, so it returns a copy\n",
    "\n",
    "It can also remove rows using ***`axis=0`***"
   ]
  },
  {
   "cell_type": "markdown",
   "metadata": {
    "slideshow": {
     "slide_type": "slide"
    }
   },
   "source": [
    "### Filtering DataFrames"
   ]
  },
  {
   "cell_type": "markdown",
   "metadata": {
    "slideshow": {
     "slide_type": "fragment"
    }
   },
   "source": [
    "Filter the whole frame:"
   ]
  },
  {
   "cell_type": "code",
   "execution_count": 63,
   "metadata": {
    "collapsed": false
   },
   "outputs": [
    {
     "data": {
      "text/html": [
       "<div>\n",
       "<table border=\"1\" class=\"dataframe\">\n",
       "  <thead>\n",
       "    <tr style=\"text-align: right;\">\n",
       "      <th></th>\n",
       "      <th>baseline</th>\n",
       "      <th>followup</th>\n",
       "      <th>sex</th>\n",
       "      <th>percent_change</th>\n",
       "    </tr>\n",
       "    <tr>\n",
       "      <th>patients</th>\n",
       "      <th></th>\n",
       "      <th></th>\n",
       "      <th></th>\n",
       "      <th></th>\n",
       "    </tr>\n",
       "  </thead>\n",
       "  <tbody>\n",
       "    <tr>\n",
       "      <th>Jane</th>\n",
       "      <td>False</td>\n",
       "      <td>False</td>\n",
       "      <td>True</td>\n",
       "      <td>False</td>\n",
       "    </tr>\n",
       "    <tr>\n",
       "      <th>Jill</th>\n",
       "      <td>True</td>\n",
       "      <td>False</td>\n",
       "      <td>True</td>\n",
       "      <td>False</td>\n",
       "    </tr>\n",
       "    <tr>\n",
       "      <th>Joe</th>\n",
       "      <td>True</td>\n",
       "      <td>True</td>\n",
       "      <td>True</td>\n",
       "      <td>False</td>\n",
       "    </tr>\n",
       "    <tr>\n",
       "      <th>John</th>\n",
       "      <td>True</td>\n",
       "      <td>False</td>\n",
       "      <td>True</td>\n",
       "      <td>False</td>\n",
       "    </tr>\n",
       "  </tbody>\n",
       "</table>\n",
       "</div>"
      ],
      "text/plain": [
       "         baseline followup   sex percent_change\n",
       "patients                                       \n",
       "Jane        False    False  True          False\n",
       "Jill         True    False  True          False\n",
       "Joe          True     True  True          False\n",
       "John         True    False  True          False"
      ]
     },
     "execution_count": 63,
     "metadata": {},
     "output_type": "execute_result"
    }
   ],
   "source": [
    "cd4_frame > 800"
   ]
  },
  {
   "cell_type": "markdown",
   "metadata": {
    "slideshow": {
     "slide_type": "subslide"
    }
   },
   "source": [
    "**`isnull`** also works on the whole DataFrame:"
   ]
  },
  {
   "cell_type": "code",
   "execution_count": 64,
   "metadata": {
    "collapsed": false
   },
   "outputs": [
    {
     "data": {
      "text/html": [
       "<div>\n",
       "<table border=\"1\" class=\"dataframe\">\n",
       "  <thead>\n",
       "    <tr style=\"text-align: right;\">\n",
       "      <th></th>\n",
       "      <th>baseline</th>\n",
       "      <th>followup</th>\n",
       "      <th>sex</th>\n",
       "      <th>percent_change</th>\n",
       "    </tr>\n",
       "    <tr>\n",
       "      <th>patients</th>\n",
       "      <th></th>\n",
       "      <th></th>\n",
       "      <th></th>\n",
       "      <th></th>\n",
       "    </tr>\n",
       "  </thead>\n",
       "  <tbody>\n",
       "    <tr>\n",
       "      <th>Jane</th>\n",
       "      <td>False</td>\n",
       "      <td>False</td>\n",
       "      <td>False</td>\n",
       "      <td>False</td>\n",
       "    </tr>\n",
       "    <tr>\n",
       "      <th>Jill</th>\n",
       "      <td>False</td>\n",
       "      <td>True</td>\n",
       "      <td>False</td>\n",
       "      <td>True</td>\n",
       "    </tr>\n",
       "    <tr>\n",
       "      <th>Joe</th>\n",
       "      <td>False</td>\n",
       "      <td>False</td>\n",
       "      <td>False</td>\n",
       "      <td>False</td>\n",
       "    </tr>\n",
       "    <tr>\n",
       "      <th>John</th>\n",
       "      <td>False</td>\n",
       "      <td>False</td>\n",
       "      <td>False</td>\n",
       "      <td>False</td>\n",
       "    </tr>\n",
       "  </tbody>\n",
       "</table>\n",
       "</div>"
      ],
      "text/plain": [
       "         baseline followup    sex percent_change\n",
       "patients                                        \n",
       "Jane        False    False  False          False\n",
       "Jill        False     True  False           True\n",
       "Joe         False    False  False          False\n",
       "John        False    False  False          False"
      ]
     },
     "execution_count": 64,
     "metadata": {},
     "output_type": "execute_result"
    }
   ],
   "source": [
    "cd4_frame.isnull()"
   ]
  },
  {
   "cell_type": "markdown",
   "metadata": {
    "slideshow": {
     "slide_type": "fragment"
    }
   },
   "source": [
    "Or we can filter just a column:"
   ]
  },
  {
   "cell_type": "code",
   "execution_count": 65,
   "metadata": {
    "collapsed": false
   },
   "outputs": [
    {
     "data": {
      "text/html": [
       "<div>\n",
       "<table border=\"1\" class=\"dataframe\">\n",
       "  <thead>\n",
       "    <tr style=\"text-align: right;\">\n",
       "      <th></th>\n",
       "      <th>baseline</th>\n",
       "      <th>followup</th>\n",
       "      <th>sex</th>\n",
       "      <th>percent_change</th>\n",
       "    </tr>\n",
       "    <tr>\n",
       "      <th>patients</th>\n",
       "      <th></th>\n",
       "      <th></th>\n",
       "      <th></th>\n",
       "      <th></th>\n",
       "    </tr>\n",
       "  </thead>\n",
       "  <tbody>\n",
       "    <tr>\n",
       "      <th>Jill</th>\n",
       "      <td>836</td>\n",
       "      <td>NaN</td>\n",
       "      <td>F</td>\n",
       "      <td>NaN</td>\n",
       "    </tr>\n",
       "    <tr>\n",
       "      <th>Joe</th>\n",
       "      <td>2117</td>\n",
       "      <td>1959</td>\n",
       "      <td>M</td>\n",
       "      <td>-7.463392</td>\n",
       "    </tr>\n",
       "    <tr>\n",
       "      <th>John</th>\n",
       "      <td>815</td>\n",
       "      <td>792</td>\n",
       "      <td>M</td>\n",
       "      <td>-2.822086</td>\n",
       "    </tr>\n",
       "  </tbody>\n",
       "</table>\n",
       "</div>"
      ],
      "text/plain": [
       "          baseline  followup sex  percent_change\n",
       "patients                                        \n",
       "Jill           836       NaN   F             NaN\n",
       "Joe           2117      1959   M       -7.463392\n",
       "John           815       792   M       -2.822086"
      ]
     },
     "execution_count": 65,
     "metadata": {},
     "output_type": "execute_result"
    }
   ],
   "source": [
    "cd4_frame[cd4_frame['baseline'] > 400]"
   ]
  },
  {
   "cell_type": "markdown",
   "metadata": {
    "slideshow": {
     "slide_type": "subslide"
    }
   },
   "source": [
    "Filtering a text value:"
   ]
  },
  {
   "cell_type": "code",
   "execution_count": 66,
   "metadata": {
    "collapsed": false
   },
   "outputs": [
    {
     "data": {
      "text/html": [
       "<div>\n",
       "<table border=\"1\" class=\"dataframe\">\n",
       "  <thead>\n",
       "    <tr style=\"text-align: right;\">\n",
       "      <th></th>\n",
       "      <th>baseline</th>\n",
       "      <th>followup</th>\n",
       "      <th>sex</th>\n",
       "      <th>percent_change</th>\n",
       "    </tr>\n",
       "    <tr>\n",
       "      <th>patients</th>\n",
       "      <th></th>\n",
       "      <th></th>\n",
       "      <th></th>\n",
       "      <th></th>\n",
       "    </tr>\n",
       "  </thead>\n",
       "  <tbody>\n",
       "    <tr>\n",
       "      <th>Jane</th>\n",
       "      <td>364</td>\n",
       "      <td>448</td>\n",
       "      <td>F</td>\n",
       "      <td>23.076923</td>\n",
       "    </tr>\n",
       "    <tr>\n",
       "      <th>Jill</th>\n",
       "      <td>836</td>\n",
       "      <td>NaN</td>\n",
       "      <td>F</td>\n",
       "      <td>NaN</td>\n",
       "    </tr>\n",
       "  </tbody>\n",
       "</table>\n",
       "</div>"
      ],
      "text/plain": [
       "          baseline  followup sex  percent_change\n",
       "patients                                        \n",
       "Jane           364       448   F       23.076923\n",
       "Jill           836       NaN   F             NaN"
      ]
     },
     "execution_count": 66,
     "metadata": {},
     "output_type": "execute_result"
    }
   ],
   "source": [
    "cd4_frame[cd4_frame['sex'] == 'F']"
   ]
  },
  {
   "cell_type": "markdown",
   "metadata": {
    "slideshow": {
     "slide_type": "fragment"
    }
   },
   "source": [
    "Filtering multiple columns by combining boolean arrays:"
   ]
  },
  {
   "cell_type": "code",
   "execution_count": 67,
   "metadata": {
    "collapsed": false
   },
   "outputs": [
    {
     "data": {
      "text/plain": [
       "patients\n",
       "Jane    False\n",
       "Jill     True\n",
       "Joe     False\n",
       "John    False\n",
       "dtype: bool"
      ]
     },
     "execution_count": 67,
     "metadata": {},
     "output_type": "execute_result"
    }
   ],
   "source": [
    "(cd4_frame['sex'] == 'F') & (cd4_frame['baseline'] > 800)"
   ]
  },
  {
   "cell_type": "markdown",
   "metadata": {
    "slideshow": {
     "slide_type": "slide"
    }
   },
   "source": [
    "### Sorting"
   ]
  },
  {
   "cell_type": "markdown",
   "metadata": {
    "slideshow": {
     "slide_type": "fragment"
    }
   },
   "source": [
    "Sorting a single column:"
   ]
  },
  {
   "cell_type": "code",
   "execution_count": 68,
   "metadata": {
    "collapsed": false
   },
   "outputs": [
    {
     "data": {
      "text/html": [
       "<div>\n",
       "<table border=\"1\" class=\"dataframe\">\n",
       "  <thead>\n",
       "    <tr style=\"text-align: right;\">\n",
       "      <th></th>\n",
       "      <th>baseline</th>\n",
       "      <th>followup</th>\n",
       "      <th>sex</th>\n",
       "      <th>percent_change</th>\n",
       "    </tr>\n",
       "    <tr>\n",
       "      <th>patients</th>\n",
       "      <th></th>\n",
       "      <th></th>\n",
       "      <th></th>\n",
       "      <th></th>\n",
       "    </tr>\n",
       "  </thead>\n",
       "  <tbody>\n",
       "    <tr>\n",
       "      <th>Joe</th>\n",
       "      <td>2117</td>\n",
       "      <td>1959</td>\n",
       "      <td>M</td>\n",
       "      <td>-7.463392</td>\n",
       "    </tr>\n",
       "    <tr>\n",
       "      <th>John</th>\n",
       "      <td>815</td>\n",
       "      <td>792</td>\n",
       "      <td>M</td>\n",
       "      <td>-2.822086</td>\n",
       "    </tr>\n",
       "    <tr>\n",
       "      <th>Jane</th>\n",
       "      <td>364</td>\n",
       "      <td>448</td>\n",
       "      <td>F</td>\n",
       "      <td>23.076923</td>\n",
       "    </tr>\n",
       "    <tr>\n",
       "      <th>Jill</th>\n",
       "      <td>836</td>\n",
       "      <td>NaN</td>\n",
       "      <td>F</td>\n",
       "      <td>NaN</td>\n",
       "    </tr>\n",
       "  </tbody>\n",
       "</table>\n",
       "</div>"
      ],
      "text/plain": [
       "          baseline  followup sex  percent_change\n",
       "patients                                        \n",
       "Joe           2117      1959   M       -7.463392\n",
       "John           815       792   M       -2.822086\n",
       "Jane           364       448   F       23.076923\n",
       "Jill           836       NaN   F             NaN"
      ]
     },
     "execution_count": 68,
     "metadata": {},
     "output_type": "execute_result"
    }
   ],
   "source": [
    "cd4_frame.sort('percent_change')"
   ]
  },
  {
   "cell_type": "markdown",
   "metadata": {
    "slideshow": {
     "slide_type": "subslide"
    }
   },
   "source": [
    "And multiple columns:"
   ]
  },
  {
   "cell_type": "code",
   "execution_count": 69,
   "metadata": {
    "collapsed": false
   },
   "outputs": [
    {
     "data": {
      "text/html": [
       "<div>\n",
       "<table border=\"1\" class=\"dataframe\">\n",
       "  <thead>\n",
       "    <tr style=\"text-align: right;\">\n",
       "      <th></th>\n",
       "      <th>baseline</th>\n",
       "      <th>followup</th>\n",
       "      <th>sex</th>\n",
       "      <th>percent_change</th>\n",
       "    </tr>\n",
       "    <tr>\n",
       "      <th>patients</th>\n",
       "      <th></th>\n",
       "      <th></th>\n",
       "      <th></th>\n",
       "      <th></th>\n",
       "    </tr>\n",
       "  </thead>\n",
       "  <tbody>\n",
       "    <tr>\n",
       "      <th>Jane</th>\n",
       "      <td>364</td>\n",
       "      <td>448</td>\n",
       "      <td>F</td>\n",
       "      <td>23.076923</td>\n",
       "    </tr>\n",
       "    <tr>\n",
       "      <th>Jill</th>\n",
       "      <td>836</td>\n",
       "      <td>NaN</td>\n",
       "      <td>F</td>\n",
       "      <td>NaN</td>\n",
       "    </tr>\n",
       "    <tr>\n",
       "      <th>John</th>\n",
       "      <td>815</td>\n",
       "      <td>792</td>\n",
       "      <td>M</td>\n",
       "      <td>-2.822086</td>\n",
       "    </tr>\n",
       "    <tr>\n",
       "      <th>Joe</th>\n",
       "      <td>2117</td>\n",
       "      <td>1959</td>\n",
       "      <td>M</td>\n",
       "      <td>-7.463392</td>\n",
       "    </tr>\n",
       "  </tbody>\n",
       "</table>\n",
       "</div>"
      ],
      "text/plain": [
       "          baseline  followup sex  percent_change\n",
       "patients                                        \n",
       "Jane           364       448   F       23.076923\n",
       "Jill           836       NaN   F             NaN\n",
       "John           815       792   M       -2.822086\n",
       "Joe           2117      1959   M       -7.463392"
      ]
     },
     "execution_count": 69,
     "metadata": {},
     "output_type": "execute_result"
    }
   ],
   "source": [
    "cd4_frame.sort(columns=['sex', 'baseline'])"
   ]
  },
  {
   "cell_type": "markdown",
   "metadata": {
    "slideshow": {
     "slide_type": "fragment"
    }
   },
   "source": [
    "Sorting by the index:"
   ]
  },
  {
   "cell_type": "code",
   "execution_count": 70,
   "metadata": {
    "collapsed": false
   },
   "outputs": [
    {
     "data": {
      "text/html": [
       "<div>\n",
       "<table border=\"1\" class=\"dataframe\">\n",
       "  <thead>\n",
       "    <tr style=\"text-align: right;\">\n",
       "      <th></th>\n",
       "      <th>baseline</th>\n",
       "      <th>followup</th>\n",
       "      <th>sex</th>\n",
       "      <th>percent_change</th>\n",
       "    </tr>\n",
       "    <tr>\n",
       "      <th>patients</th>\n",
       "      <th></th>\n",
       "      <th></th>\n",
       "      <th></th>\n",
       "      <th></th>\n",
       "    </tr>\n",
       "  </thead>\n",
       "  <tbody>\n",
       "    <tr>\n",
       "      <th>Jane</th>\n",
       "      <td>364</td>\n",
       "      <td>448</td>\n",
       "      <td>F</td>\n",
       "      <td>23.076923</td>\n",
       "    </tr>\n",
       "    <tr>\n",
       "      <th>Jill</th>\n",
       "      <td>836</td>\n",
       "      <td>NaN</td>\n",
       "      <td>F</td>\n",
       "      <td>NaN</td>\n",
       "    </tr>\n",
       "    <tr>\n",
       "      <th>Joe</th>\n",
       "      <td>2117</td>\n",
       "      <td>1959</td>\n",
       "      <td>M</td>\n",
       "      <td>-7.463392</td>\n",
       "    </tr>\n",
       "    <tr>\n",
       "      <th>John</th>\n",
       "      <td>815</td>\n",
       "      <td>792</td>\n",
       "      <td>M</td>\n",
       "      <td>-2.822086</td>\n",
       "    </tr>\n",
       "  </tbody>\n",
       "</table>\n",
       "</div>"
      ],
      "text/plain": [
       "          baseline  followup sex  percent_change\n",
       "patients                                        \n",
       "Jane           364       448   F       23.076923\n",
       "Jill           836       NaN   F             NaN\n",
       "Joe           2117      1959   M       -7.463392\n",
       "John           815       792   M       -2.822086"
      ]
     },
     "execution_count": 70,
     "metadata": {},
     "output_type": "execute_result"
    }
   ],
   "source": [
    "cd4_frame.sort_index()"
   ]
  },
  {
   "cell_type": "markdown",
   "metadata": {
    "slideshow": {
     "slide_type": "subslide"
    }
   },
   "source": [
    "Sorting the column order by column name:"
   ]
  },
  {
   "cell_type": "code",
   "execution_count": 71,
   "metadata": {
    "collapsed": false
   },
   "outputs": [
    {
     "data": {
      "text/html": [
       "<div>\n",
       "<table border=\"1\" class=\"dataframe\">\n",
       "  <thead>\n",
       "    <tr style=\"text-align: right;\">\n",
       "      <th></th>\n",
       "      <th>sex</th>\n",
       "      <th>percent_change</th>\n",
       "      <th>followup</th>\n",
       "      <th>baseline</th>\n",
       "    </tr>\n",
       "    <tr>\n",
       "      <th>patients</th>\n",
       "      <th></th>\n",
       "      <th></th>\n",
       "      <th></th>\n",
       "      <th></th>\n",
       "    </tr>\n",
       "  </thead>\n",
       "  <tbody>\n",
       "    <tr>\n",
       "      <th>Jane</th>\n",
       "      <td>F</td>\n",
       "      <td>23.076923</td>\n",
       "      <td>448</td>\n",
       "      <td>364</td>\n",
       "    </tr>\n",
       "    <tr>\n",
       "      <th>Jill</th>\n",
       "      <td>F</td>\n",
       "      <td>NaN</td>\n",
       "      <td>NaN</td>\n",
       "      <td>836</td>\n",
       "    </tr>\n",
       "    <tr>\n",
       "      <th>Joe</th>\n",
       "      <td>M</td>\n",
       "      <td>-7.463392</td>\n",
       "      <td>1959</td>\n",
       "      <td>2117</td>\n",
       "    </tr>\n",
       "    <tr>\n",
       "      <th>John</th>\n",
       "      <td>M</td>\n",
       "      <td>-2.822086</td>\n",
       "      <td>792</td>\n",
       "      <td>815</td>\n",
       "    </tr>\n",
       "  </tbody>\n",
       "</table>\n",
       "</div>"
      ],
      "text/plain": [
       "         sex  percent_change  followup  baseline\n",
       "patients                                        \n",
       "Jane       F       23.076923       448       364\n",
       "Jill       F             NaN       NaN       836\n",
       "Joe        M       -7.463392      1959      2117\n",
       "John       M       -2.822086       792       815"
      ]
     },
     "execution_count": 71,
     "metadata": {},
     "output_type": "execute_result"
    }
   ],
   "source": [
    "cd4_frame.sort_index(axis=1, ascending=False)"
   ]
  },
  {
   "cell_type": "markdown",
   "metadata": {
    "slideshow": {
     "slide_type": "slide"
    }
   },
   "source": [
    "# Exporting and Importing CSV Data\n",
    "\n",
    "Saving our DataFrame to a CSV is easy:"
   ]
  },
  {
   "cell_type": "code",
   "execution_count": 72,
   "metadata": {
    "collapsed": false
   },
   "outputs": [
    {
     "name": "stdout",
     "output_type": "stream",
     "text": [
      "cd4_data.csv  cd4_data.tsv  long_data.csv  pandas-intro.ipynb\r\n"
     ]
    }
   ],
   "source": [
    "cd4_frame.to_csv(\"cd4_data.csv\")\n",
    "!ls"
   ]
  },
  {
   "cell_type": "code",
   "execution_count": 75,
   "metadata": {
    "collapsed": false,
    "scrolled": true
   },
   "outputs": [
    {
     "name": "stdout",
     "output_type": "stream",
     "text": [
      "patients,baseline,followup,sex,percent_change\r\n",
      "Jane,364,448.0,F,23.0769230769\r\n",
      "Jill,836,,F,\r\n",
      "Joe,2117,1959.0,M,-7.46339159188\r\n",
      "John,815,792.0,M,-2.82208588957\r\n"
     ]
    }
   ],
   "source": [
    "!cat cd4_data.csv"
   ]
  },
  {
   "cell_type": "markdown",
   "metadata": {
    "slideshow": {
     "slide_type": "subslide"
    }
   },
   "source": [
    "Importing our data back into pandas:"
   ]
  },
  {
   "cell_type": "code",
   "execution_count": 76,
   "metadata": {
    "collapsed": false
   },
   "outputs": [
    {
     "data": {
      "text/html": [
       "<div>\n",
       "<table border=\"1\" class=\"dataframe\">\n",
       "  <thead>\n",
       "    <tr style=\"text-align: right;\">\n",
       "      <th></th>\n",
       "      <th>patients</th>\n",
       "      <th>baseline</th>\n",
       "      <th>followup</th>\n",
       "      <th>sex</th>\n",
       "      <th>percent_change</th>\n",
       "    </tr>\n",
       "  </thead>\n",
       "  <tbody>\n",
       "    <tr>\n",
       "      <th>0</th>\n",
       "      <td>Jane</td>\n",
       "      <td>364</td>\n",
       "      <td>448</td>\n",
       "      <td>F</td>\n",
       "      <td>23.076923</td>\n",
       "    </tr>\n",
       "    <tr>\n",
       "      <th>1</th>\n",
       "      <td>Jill</td>\n",
       "      <td>836</td>\n",
       "      <td>NaN</td>\n",
       "      <td>F</td>\n",
       "      <td>NaN</td>\n",
       "    </tr>\n",
       "    <tr>\n",
       "      <th>2</th>\n",
       "      <td>Joe</td>\n",
       "      <td>2117</td>\n",
       "      <td>1959</td>\n",
       "      <td>M</td>\n",
       "      <td>-7.463392</td>\n",
       "    </tr>\n",
       "    <tr>\n",
       "      <th>3</th>\n",
       "      <td>John</td>\n",
       "      <td>815</td>\n",
       "      <td>792</td>\n",
       "      <td>M</td>\n",
       "      <td>-2.822086</td>\n",
       "    </tr>\n",
       "  </tbody>\n",
       "</table>\n",
       "</div>"
      ],
      "text/plain": [
       "  patients  baseline  followup sex  percent_change\n",
       "0     Jane       364       448   F       23.076923\n",
       "1     Jill       836       NaN   F             NaN\n",
       "2      Joe      2117      1959   M       -7.463392\n",
       "3     John       815       792   M       -2.822086"
      ]
     },
     "execution_count": 76,
     "metadata": {},
     "output_type": "execute_result"
    }
   ],
   "source": [
    "cd4_import = pd.read_csv(\"cd4_data.csv\")\n",
    "cd4_import"
   ]
  },
  {
   "cell_type": "markdown",
   "metadata": {
    "slideshow": {
     "slide_type": "fragment"
    }
   },
   "source": [
    "But, there's something different. The original data we exported was indexed by `patients`."
   ]
  },
  {
   "cell_type": "markdown",
   "metadata": {
    "slideshow": {
     "slide_type": "subslide"
    }
   },
   "source": [
    "To set the index to an existing column we can use **`set_index`**"
   ]
  },
  {
   "cell_type": "code",
   "execution_count": 77,
   "metadata": {
    "collapsed": false
   },
   "outputs": [
    {
     "data": {
      "text/html": [
       "<div>\n",
       "<table border=\"1\" class=\"dataframe\">\n",
       "  <thead>\n",
       "    <tr style=\"text-align: right;\">\n",
       "      <th></th>\n",
       "      <th>baseline</th>\n",
       "      <th>followup</th>\n",
       "      <th>sex</th>\n",
       "      <th>percent_change</th>\n",
       "    </tr>\n",
       "    <tr>\n",
       "      <th>patients</th>\n",
       "      <th></th>\n",
       "      <th></th>\n",
       "      <th></th>\n",
       "      <th></th>\n",
       "    </tr>\n",
       "  </thead>\n",
       "  <tbody>\n",
       "    <tr>\n",
       "      <th>Jane</th>\n",
       "      <td>364</td>\n",
       "      <td>448</td>\n",
       "      <td>F</td>\n",
       "      <td>23.076923</td>\n",
       "    </tr>\n",
       "    <tr>\n",
       "      <th>Jill</th>\n",
       "      <td>836</td>\n",
       "      <td>NaN</td>\n",
       "      <td>F</td>\n",
       "      <td>NaN</td>\n",
       "    </tr>\n",
       "    <tr>\n",
       "      <th>Joe</th>\n",
       "      <td>2117</td>\n",
       "      <td>1959</td>\n",
       "      <td>M</td>\n",
       "      <td>-7.463392</td>\n",
       "    </tr>\n",
       "    <tr>\n",
       "      <th>John</th>\n",
       "      <td>815</td>\n",
       "      <td>792</td>\n",
       "      <td>M</td>\n",
       "      <td>-2.822086</td>\n",
       "    </tr>\n",
       "  </tbody>\n",
       "</table>\n",
       "</div>"
      ],
      "text/plain": [
       "          baseline  followup sex  percent_change\n",
       "patients                                        \n",
       "Jane           364       448   F       23.076923\n",
       "Jill           836       NaN   F             NaN\n",
       "Joe           2117      1959   M       -7.463392\n",
       "John           815       792   M       -2.822086"
      ]
     },
     "execution_count": 77,
     "metadata": {},
     "output_type": "execute_result"
    }
   ],
   "source": [
    "cd4_import = cd4_import.set_index('patients')\n",
    "cd4_import"
   ]
  },
  {
   "cell_type": "markdown",
   "metadata": {
    "slideshow": {
     "slide_type": "fragment"
    }
   },
   "source": [
    "Or, we could have specified the index column when importing:"
   ]
  },
  {
   "cell_type": "code",
   "execution_count": 78,
   "metadata": {
    "collapsed": false
   },
   "outputs": [
    {
     "data": {
      "text/html": [
       "<div>\n",
       "<table border=\"1\" class=\"dataframe\">\n",
       "  <thead>\n",
       "    <tr style=\"text-align: right;\">\n",
       "      <th></th>\n",
       "      <th>baseline</th>\n",
       "      <th>followup</th>\n",
       "      <th>sex</th>\n",
       "      <th>percent_change</th>\n",
       "    </tr>\n",
       "    <tr>\n",
       "      <th>patients</th>\n",
       "      <th></th>\n",
       "      <th></th>\n",
       "      <th></th>\n",
       "      <th></th>\n",
       "    </tr>\n",
       "  </thead>\n",
       "  <tbody>\n",
       "    <tr>\n",
       "      <th>Jane</th>\n",
       "      <td>364</td>\n",
       "      <td>448</td>\n",
       "      <td>F</td>\n",
       "      <td>23.076923</td>\n",
       "    </tr>\n",
       "    <tr>\n",
       "      <th>Jill</th>\n",
       "      <td>836</td>\n",
       "      <td>NaN</td>\n",
       "      <td>F</td>\n",
       "      <td>NaN</td>\n",
       "    </tr>\n",
       "    <tr>\n",
       "      <th>Joe</th>\n",
       "      <td>2117</td>\n",
       "      <td>1959</td>\n",
       "      <td>M</td>\n",
       "      <td>-7.463392</td>\n",
       "    </tr>\n",
       "    <tr>\n",
       "      <th>John</th>\n",
       "      <td>815</td>\n",
       "      <td>792</td>\n",
       "      <td>M</td>\n",
       "      <td>-2.822086</td>\n",
       "    </tr>\n",
       "  </tbody>\n",
       "</table>\n",
       "</div>"
      ],
      "text/plain": [
       "          baseline  followup sex  percent_change\n",
       "patients                                        \n",
       "Jane           364       448   F       23.076923\n",
       "Jill           836       NaN   F             NaN\n",
       "Joe           2117      1959   M       -7.463392\n",
       "John           815       792   M       -2.822086"
      ]
     },
     "execution_count": 78,
     "metadata": {},
     "output_type": "execute_result"
    }
   ],
   "source": [
    "pd.read_csv(\"cd4_data.csv\", index_col='patients')"
   ]
  },
  {
   "cell_type": "markdown",
   "metadata": {
    "slideshow": {
     "slide_type": "subslide"
    }
   },
   "source": [
    "If the text file is not comma delimited, you can specify the separator using ***`sep`***"
   ]
  },
  {
   "cell_type": "markdown",
   "metadata": {
    "slideshow": {
     "slide_type": "fragment"
    }
   },
   "source": [
    "**`to_csv`** also uses the ***`sep`*** argument. Let's save a tab-delimited version of our data:"
   ]
  },
  {
   "cell_type": "code",
   "execution_count": 79,
   "metadata": {
    "collapsed": false
   },
   "outputs": [
    {
     "name": "stdout",
     "output_type": "stream",
     "text": [
      "patients\tbaseline\tfollowup\tsex\tpercent_change\r\n",
      "Jane\t364\t448.0\tF\t23.0769230769\r\n",
      "Jill\t836\t\tF\t\r\n",
      "Joe\t2117\t1959.0\tM\t-7.46339159188\r\n",
      "John\t815\t792.0\tM\t-2.82208588957\r\n"
     ]
    }
   ],
   "source": [
    "cd4_frame.to_csv(\"cd4_data.tsv\", sep=\"\\t\")\n",
    "!cat cd4_data.tsv"
   ]
  },
  {
   "cell_type": "markdown",
   "metadata": {
    "slideshow": {
     "slide_type": "fragment"
    }
   },
   "source": [
    "Notice the tab delimiter is set using the regular expression **`\\t`**"
   ]
  },
  {
   "cell_type": "markdown",
   "metadata": {
    "slideshow": {
     "slide_type": "fragment"
    }
   },
   "source": [
    "A full list of options for **`read_csv`** is available in the docs"
   ]
  },
  {
   "cell_type": "code",
   "execution_count": 80,
   "metadata": {
    "collapsed": false
   },
   "outputs": [],
   "source": [
    "pd.read_csv?"
   ]
  },
  {
   "cell_type": "markdown",
   "metadata": {
    "slideshow": {
     "slide_type": "slide"
    }
   },
   "source": [
    "# Exercise\n",
    "\n",
    "Use pandas to import the longitudinal data set in **`long_data.csv`**\n",
    "\n",
    "1. How many records are in the CSV?\n",
    "1. Rename any column names containing spaces.\n",
    "1. Is there a good choice for an index column?\n",
    "1. Are there any missing data values?\n",
    "1. What is the lowest FI-Bkgd value? the highest? the mean?\n",
    "1. Filter for visit 9 records with FI-Bkgd more than 10,000.\n",
    "1. Make a new DataFrame by filtering on 'SAL2' matching the 'Blank' analyte\n",
    "1. Use tab completion on your DataFrame to find a function we didn't cover. Print the help for this function using \"?\"."
   ]
  },
  {
   "cell_type": "markdown",
   "metadata": {
    "slideshow": {
     "slide_type": "subslide"
    }
   },
   "source": [
    "Q1. How many records are in the CSV?"
   ]
  },
  {
   "cell_type": "markdown",
   "metadata": {
    "slideshow": {
     "slide_type": "fragment"
    }
   },
   "source": [
    "Read in the CSV, use shape to get the number of records"
   ]
  },
  {
   "cell_type": "code",
   "execution_count": 84,
   "metadata": {
    "collapsed": false,
    "slideshow": {
     "slide_type": "-"
    }
   },
   "outputs": [
    {
     "data": {
      "text/plain": [
       "(1761, 10)"
      ]
     },
     "execution_count": 84,
     "metadata": {},
     "output_type": "execute_result"
    }
   ],
   "source": [
    "long_data = pd.read_csv(\"long_data.csv\")\n",
    "long_data.shape"
   ]
  },
  {
   "cell_type": "markdown",
   "metadata": {
    "slideshow": {
     "slide_type": "subslide"
    }
   },
   "source": [
    "Q2. Rename any column names containing spaces."
   ]
  },
  {
   "cell_type": "code",
   "execution_count": 85,
   "metadata": {
    "collapsed": false
   },
   "outputs": [
    {
     "data": {
      "text/plain": [
       "Index([u'Dilution', u'Analyte', u'FI-Bkgd', u'FI-Bkgd-Neg', u'CV',\n",
       "       u'Participant ID', u'Visit Code', u'Visit Date', u'Sample Type',\n",
       "       u'Buffer'],\n",
       "      dtype='object')"
      ]
     },
     "execution_count": 85,
     "metadata": {},
     "output_type": "execute_result"
    }
   ],
   "source": [
    "long_data.columns"
   ]
  },
  {
   "cell_type": "code",
   "execution_count": 86,
   "metadata": {
    "collapsed": false
   },
   "outputs": [],
   "source": [
    "long_data.rename(\n",
    "    columns={\n",
    "        'Participant ID': 'participant_id', \n",
    "        'Visit Code': 'visit_code',\n",
    "        'Visit Date': 'visit_date',\n",
    "        'Sample Type': 'sample_type'\n",
    "    },\n",
    "    inplace=True\n",
    ")"
   ]
  },
  {
   "cell_type": "code",
   "execution_count": 88,
   "metadata": {
    "collapsed": false
   },
   "outputs": [
    {
     "data": {
      "text/plain": [
       "Index([u'Dilution', u'Analyte', u'FI-Bkgd', u'FI-Bkgd-Neg', u'CV',\n",
       "       u'participant_id', u'visit_code', u'visit_date', u'sample_type',\n",
       "       u'Buffer'],\n",
       "      dtype='object')"
      ]
     },
     "execution_count": 88,
     "metadata": {},
     "output_type": "execute_result"
    }
   ],
   "source": [
    "long_data.columns"
   ]
  },
  {
   "cell_type": "markdown",
   "metadata": {
    "slideshow": {
     "slide_type": "fragment"
    }
   },
   "source": [
    "We'll also make all the column names lowercase"
   ]
  },
  {
   "cell_type": "code",
   "execution_count": 89,
   "metadata": {
    "collapsed": false
   },
   "outputs": [
    {
     "data": {
      "text/html": [
       "<div>\n",
       "<table border=\"1\" class=\"dataframe\">\n",
       "  <thead>\n",
       "    <tr style=\"text-align: right;\">\n",
       "      <th></th>\n",
       "      <th>dilution</th>\n",
       "      <th>analyte</th>\n",
       "      <th>fi-bkgd</th>\n",
       "      <th>fi-bkgd-neg</th>\n",
       "      <th>cv</th>\n",
       "      <th>participant_id</th>\n",
       "      <th>visit_code</th>\n",
       "      <th>visit_date</th>\n",
       "      <th>sample_type</th>\n",
       "      <th>buffer</th>\n",
       "    </tr>\n",
       "  </thead>\n",
       "  <tbody>\n",
       "    <tr>\n",
       "      <th>0</th>\n",
       "      <td>50</td>\n",
       "      <td>p24 (19)</td>\n",
       "      <td>474.8</td>\n",
       "      <td>454.8</td>\n",
       "      <td>0.0372</td>\n",
       "      <td>URN2</td>\n",
       "      <td>0</td>\n",
       "      <td>10/14/1899</td>\n",
       "      <td>PLA</td>\n",
       "      <td>PBS</td>\n",
       "    </tr>\n",
       "    <tr>\n",
       "      <th>1</th>\n",
       "      <td>50</td>\n",
       "      <td>gp41 (44)</td>\n",
       "      <td>470.8</td>\n",
       "      <td>452.8</td>\n",
       "      <td>0.1387</td>\n",
       "      <td>URN2</td>\n",
       "      <td>0</td>\n",
       "      <td>10/14/1899</td>\n",
       "      <td>PLA</td>\n",
       "      <td>PBS</td>\n",
       "    </tr>\n",
       "    <tr>\n",
       "      <th>2</th>\n",
       "      <td>50</td>\n",
       "      <td>Con 6 gp120/B (72)</td>\n",
       "      <td>52.5</td>\n",
       "      <td>44.5</td>\n",
       "      <td>0.1183</td>\n",
       "      <td>URN2</td>\n",
       "      <td>0</td>\n",
       "      <td>10/14/1899</td>\n",
       "      <td>PLA</td>\n",
       "      <td>PBS</td>\n",
       "    </tr>\n",
       "    <tr>\n",
       "      <th>3</th>\n",
       "      <td>50</td>\n",
       "      <td>B.con.env03 140 CF (65)</td>\n",
       "      <td>55.5</td>\n",
       "      <td>46.5</td>\n",
       "      <td>0.1709</td>\n",
       "      <td>URN2</td>\n",
       "      <td>0</td>\n",
       "      <td>10/14/1899</td>\n",
       "      <td>PLA</td>\n",
       "      <td>PBS</td>\n",
       "    </tr>\n",
       "    <tr>\n",
       "      <th>4</th>\n",
       "      <td>50</td>\n",
       "      <td>Blank (53)</td>\n",
       "      <td>29.0</td>\n",
       "      <td>NaN</td>\n",
       "      <td>0.0527</td>\n",
       "      <td>URN2</td>\n",
       "      <td>0</td>\n",
       "      <td>10/14/1899</td>\n",
       "      <td>PLA</td>\n",
       "      <td>PBS</td>\n",
       "    </tr>\n",
       "  </tbody>\n",
       "</table>\n",
       "</div>"
      ],
      "text/plain": [
       "   dilution                  analyte  fi-bkgd  fi-bkgd-neg      cv  \\\n",
       "0        50                 p24 (19)    474.8        454.8  0.0372   \n",
       "1        50                gp41 (44)    470.8        452.8  0.1387   \n",
       "2        50       Con 6 gp120/B (72)     52.5         44.5  0.1183   \n",
       "3        50  B.con.env03 140 CF (65)     55.5         46.5  0.1709   \n",
       "4        50               Blank (53)     29.0          NaN  0.0527   \n",
       "\n",
       "  participant_id  visit_code   visit_date sample_type buffer  \n",
       "0           URN2           0   10/14/1899         PLA    PBS  \n",
       "1           URN2           0   10/14/1899         PLA    PBS  \n",
       "2           URN2           0   10/14/1899         PLA    PBS  \n",
       "3           URN2           0   10/14/1899         PLA    PBS  \n",
       "4           URN2           0   10/14/1899         PLA    PBS  "
      ]
     },
     "execution_count": 89,
     "metadata": {},
     "output_type": "execute_result"
    }
   ],
   "source": [
    "long_data.columns = long_data.columns.str.lower()\n",
    "long_data.head()"
   ]
  },
  {
   "cell_type": "markdown",
   "metadata": {
    "slideshow": {
     "slide_type": "subslide"
    }
   },
   "source": [
    "Q3. Is there a good choice for an index column?"
   ]
  },
  {
   "cell_type": "markdown",
   "metadata": {
    "slideshow": {
     "slide_type": "fragment"
    }
   },
   "source": [
    "Not really. There's no single column containing unique values. "
   ]
  },
  {
   "cell_type": "markdown",
   "metadata": {
    "slideshow": {
     "slide_type": "fragment"
    }
   },
   "source": [
    "We'll se in the next session how to create an index using multiple columns."
   ]
  },
  {
   "cell_type": "markdown",
   "metadata": {
    "slideshow": {
     "slide_type": "subslide"
    }
   },
   "source": [
    "Q4. Are there any missing data values?"
   ]
  },
  {
   "cell_type": "markdown",
   "metadata": {
    "slideshow": {
     "slide_type": "fragment"
    }
   },
   "source": [
    "There are several ways to determine if a data set contains missing values\n",
    "\n",
    "We could look column by column"
   ]
  },
  {
   "cell_type": "code",
   "execution_count": 90,
   "metadata": {
    "collapsed": false
   },
   "outputs": [
    {
     "data": {
      "text/html": [
       "<div>\n",
       "<table border=\"1\" class=\"dataframe\">\n",
       "  <thead>\n",
       "    <tr style=\"text-align: right;\">\n",
       "      <th></th>\n",
       "      <th>dilution</th>\n",
       "      <th>analyte</th>\n",
       "      <th>fi-bkgd</th>\n",
       "      <th>fi-bkgd-neg</th>\n",
       "      <th>cv</th>\n",
       "      <th>participant_id</th>\n",
       "      <th>visit_code</th>\n",
       "      <th>visit_date</th>\n",
       "      <th>sample_type</th>\n",
       "      <th>buffer</th>\n",
       "    </tr>\n",
       "  </thead>\n",
       "  <tbody>\n",
       "  </tbody>\n",
       "</table>\n",
       "</div>"
      ],
      "text/plain": [
       "Empty DataFrame\n",
       "Columns: [dilution, analyte, fi-bkgd, fi-bkgd-neg, cv, participant_id, visit_code, visit_date, sample_type, buffer]\n",
       "Index: []"
      ]
     },
     "execution_count": 90,
     "metadata": {},
     "output_type": "execute_result"
    }
   ],
   "source": [
    "long_data[long_data.participant_id.isnull()]"
   ]
  },
  {
   "cell_type": "markdown",
   "metadata": {
    "slideshow": {
     "slide_type": "fragment"
    }
   },
   "source": [
    "A useful trick is to sum the boolean values returned from **`isnull`**:"
   ]
  },
  {
   "cell_type": "code",
   "execution_count": 91,
   "metadata": {
    "collapsed": false
   },
   "outputs": [
    {
     "data": {
      "text/plain": [
       "dilution            0\n",
       "analyte             0\n",
       "fi-bkgd             0\n",
       "fi-bkgd-neg       353\n",
       "cv                  0\n",
       "participant_id      0\n",
       "visit_code          0\n",
       "visit_date          0\n",
       "sample_type         0\n",
       "buffer              0\n",
       "dtype: int64"
      ]
     },
     "execution_count": 91,
     "metadata": {},
     "output_type": "execute_result"
    }
   ],
   "source": [
    "long_data.isnull().sum()"
   ]
  },
  {
   "cell_type": "markdown",
   "metadata": {
    "slideshow": {
     "slide_type": "fragment"
    }
   },
   "source": [
    "This tells us which columns contain null values and how many"
   ]
  },
  {
   "cell_type": "markdown",
   "metadata": {
    "slideshow": {
     "slide_type": "fragment"
    }
   },
   "source": [
    "But, if multiple columns contained missing values we could find all of rows using **`any`**:"
   ]
  },
  {
   "cell_type": "code",
   "execution_count": 92,
   "metadata": {
    "collapsed": false
   },
   "outputs": [
    {
     "data": {
      "text/html": [
       "<div>\n",
       "<table border=\"1\" class=\"dataframe\">\n",
       "  <thead>\n",
       "    <tr style=\"text-align: right;\">\n",
       "      <th></th>\n",
       "      <th>dilution</th>\n",
       "      <th>analyte</th>\n",
       "      <th>fi-bkgd</th>\n",
       "      <th>fi-bkgd-neg</th>\n",
       "      <th>cv</th>\n",
       "      <th>participant_id</th>\n",
       "      <th>visit_code</th>\n",
       "      <th>visit_date</th>\n",
       "      <th>sample_type</th>\n",
       "      <th>buffer</th>\n",
       "    </tr>\n",
       "  </thead>\n",
       "  <tbody>\n",
       "    <tr>\n",
       "      <th>4</th>\n",
       "      <td>50</td>\n",
       "      <td>Blank (53)</td>\n",
       "      <td>29.0</td>\n",
       "      <td>NaN</td>\n",
       "      <td>0.0527</td>\n",
       "      <td>URN2</td>\n",
       "      <td>0</td>\n",
       "      <td>10/14/1899</td>\n",
       "      <td>PLA</td>\n",
       "      <td>PBS</td>\n",
       "    </tr>\n",
       "    <tr>\n",
       "      <th>8</th>\n",
       "      <td>50</td>\n",
       "      <td>MulVgp70_His6 (49)</td>\n",
       "      <td>205.4</td>\n",
       "      <td>NaN</td>\n",
       "      <td>0.0861</td>\n",
       "      <td>URN2</td>\n",
       "      <td>0</td>\n",
       "      <td>10/14/1899</td>\n",
       "      <td>PLA</td>\n",
       "      <td>PBS</td>\n",
       "    </tr>\n",
       "    <tr>\n",
       "      <th>14</th>\n",
       "      <td>50</td>\n",
       "      <td>Blank (53)</td>\n",
       "      <td>4.8</td>\n",
       "      <td>NaN</td>\n",
       "      <td>0.1674</td>\n",
       "      <td>URN2</td>\n",
       "      <td>0</td>\n",
       "      <td>10/14/1899</td>\n",
       "      <td>PLA</td>\n",
       "      <td>CIT</td>\n",
       "    </tr>\n",
       "    <tr>\n",
       "      <th>18</th>\n",
       "      <td>50</td>\n",
       "      <td>MulVgp70_His6 (49)</td>\n",
       "      <td>20.0</td>\n",
       "      <td>NaN</td>\n",
       "      <td>0.1170</td>\n",
       "      <td>URN2</td>\n",
       "      <td>0</td>\n",
       "      <td>10/14/1899</td>\n",
       "      <td>PLA</td>\n",
       "      <td>CIT</td>\n",
       "    </tr>\n",
       "    <tr>\n",
       "      <th>24</th>\n",
       "      <td>50</td>\n",
       "      <td>Blank (53)</td>\n",
       "      <td>54.0</td>\n",
       "      <td>NaN</td>\n",
       "      <td>0.0228</td>\n",
       "      <td>URN2</td>\n",
       "      <td>9</td>\n",
       "      <td>01/04/1901</td>\n",
       "      <td>PLA</td>\n",
       "      <td>PBS</td>\n",
       "    </tr>\n",
       "  </tbody>\n",
       "</table>\n",
       "</div>"
      ],
      "text/plain": [
       "    dilution             analyte  fi-bkgd  fi-bkgd-neg      cv participant_id  \\\n",
       "4         50          Blank (53)     29.0          NaN  0.0527           URN2   \n",
       "8         50  MulVgp70_His6 (49)    205.4          NaN  0.0861           URN2   \n",
       "14        50          Blank (53)      4.8          NaN  0.1674           URN2   \n",
       "18        50  MulVgp70_His6 (49)     20.0          NaN  0.1170           URN2   \n",
       "24        50          Blank (53)     54.0          NaN  0.0228           URN2   \n",
       "\n",
       "    visit_code   visit_date sample_type buffer  \n",
       "4            0   10/14/1899         PLA    PBS  \n",
       "8            0   10/14/1899         PLA    PBS  \n",
       "14           0   10/14/1899         PLA    CIT  \n",
       "18           0   10/14/1899         PLA    CIT  \n",
       "24           9   01/04/1901         PLA    PBS  "
      ]
     },
     "execution_count": 92,
     "metadata": {},
     "output_type": "execute_result"
    }
   ],
   "source": [
    "long_data[long_data.isnull().any(axis=1)].head()"
   ]
  },
  {
   "cell_type": "markdown",
   "metadata": {
    "slideshow": {
     "slide_type": "subslide"
    }
   },
   "source": [
    "Q5. What is the lowest FI-Bkgd value? the highest? the mean?"
   ]
  },
  {
   "cell_type": "markdown",
   "metadata": {
    "slideshow": {
     "slide_type": "fragment"
    }
   },
   "source": [
    "We could try sorting"
   ]
  },
  {
   "cell_type": "code",
   "execution_count": 93,
   "metadata": {
    "collapsed": false
   },
   "outputs": [
    {
     "data": {
      "text/html": [
       "<div>\n",
       "<table border=\"1\" class=\"dataframe\">\n",
       "  <thead>\n",
       "    <tr style=\"text-align: right;\">\n",
       "      <th></th>\n",
       "      <th>dilution</th>\n",
       "      <th>analyte</th>\n",
       "      <th>fi-bkgd</th>\n",
       "      <th>fi-bkgd-neg</th>\n",
       "      <th>cv</th>\n",
       "      <th>participant_id</th>\n",
       "      <th>visit_code</th>\n",
       "      <th>visit_date</th>\n",
       "      <th>sample_type</th>\n",
       "      <th>buffer</th>\n",
       "    </tr>\n",
       "  </thead>\n",
       "  <tbody>\n",
       "    <tr>\n",
       "      <th>748</th>\n",
       "      <td>50</td>\n",
       "      <td>p66 (RT) (42)</td>\n",
       "      <td>42992.5</td>\n",
       "      <td>42026.0</td>\n",
       "      <td>0.0093</td>\n",
       "      <td>SAL2</td>\n",
       "      <td>21</td>\n",
       "      <td>09/12/1902</td>\n",
       "      <td>PLA</td>\n",
       "      <td>PBS</td>\n",
       "    </tr>\n",
       "    <tr>\n",
       "      <th>531</th>\n",
       "      <td>50</td>\n",
       "      <td>p24 (19)</td>\n",
       "      <td>42972.8</td>\n",
       "      <td>42940.0</td>\n",
       "      <td>0.0027</td>\n",
       "      <td>SAL2</td>\n",
       "      <td>9</td>\n",
       "      <td>09/13/1900</td>\n",
       "      <td>PLA</td>\n",
       "      <td>CIT</td>\n",
       "    </tr>\n",
       "    <tr>\n",
       "      <th>1241</th>\n",
       "      <td>50</td>\n",
       "      <td>p24 (19)</td>\n",
       "      <td>42962.0</td>\n",
       "      <td>42922.0</td>\n",
       "      <td>0.0062</td>\n",
       "      <td>PL2</td>\n",
       "      <td>21</td>\n",
       "      <td>02/09/1902</td>\n",
       "      <td>PLA</td>\n",
       "      <td>PBS</td>\n",
       "    </tr>\n",
       "    <tr>\n",
       "      <th>741</th>\n",
       "      <td>50</td>\n",
       "      <td>p24 (19)</td>\n",
       "      <td>42954.5</td>\n",
       "      <td>40978.0</td>\n",
       "      <td>0.0120</td>\n",
       "      <td>SAL2</td>\n",
       "      <td>21</td>\n",
       "      <td>09/12/1902</td>\n",
       "      <td>PLA</td>\n",
       "      <td>PBS</td>\n",
       "    </tr>\n",
       "    <tr>\n",
       "      <th>217</th>\n",
       "      <td>50</td>\n",
       "      <td>p66 (RT) (42)</td>\n",
       "      <td>42942.0</td>\n",
       "      <td>42900.7</td>\n",
       "      <td>0.0080</td>\n",
       "      <td>URN2</td>\n",
       "      <td>22</td>\n",
       "      <td>03/08/1903</td>\n",
       "      <td>PLA</td>\n",
       "      <td>CIT</td>\n",
       "    </tr>\n",
       "  </tbody>\n",
       "</table>\n",
       "</div>"
      ],
      "text/plain": [
       "      dilution        analyte  fi-bkgd  fi-bkgd-neg      cv participant_id  \\\n",
       "748         50  p66 (RT) (42)  42992.5      42026.0  0.0093           SAL2   \n",
       "531         50       p24 (19)  42972.8      42940.0  0.0027           SAL2   \n",
       "1241        50       p24 (19)  42962.0      42922.0  0.0062            PL2   \n",
       "741         50       p24 (19)  42954.5      40978.0  0.0120           SAL2   \n",
       "217         50  p66 (RT) (42)  42942.0      42900.7  0.0080           URN2   \n",
       "\n",
       "      visit_code   visit_date sample_type buffer  \n",
       "748           21   09/12/1902         PLA    PBS  \n",
       "531            9   09/13/1900         PLA    CIT  \n",
       "1241          21   02/09/1902         PLA    PBS  \n",
       "741           21   09/12/1902         PLA    PBS  \n",
       "217           22   03/08/1903         PLA    CIT  "
      ]
     },
     "execution_count": 93,
     "metadata": {},
     "output_type": "execute_result"
    }
   ],
   "source": [
    "long_data.sort('fi-bkgd', ascending=False).head()"
   ]
  },
  {
   "cell_type": "markdown",
   "metadata": {
    "slideshow": {
     "slide_type": "fragment"
    }
   },
   "source": [
    "But, **`describe`** gives all three:"
   ]
  },
  {
   "cell_type": "code",
   "execution_count": 94,
   "metadata": {
    "collapsed": false
   },
   "outputs": [
    {
     "data": {
      "text/plain": [
       "count     1761.000000\n",
       "mean     12241.496479\n",
       "std      17371.064423\n",
       "min        -52.500000\n",
       "25%         48.500000\n",
       "50%        405.000000\n",
       "75%      27909.400000\n",
       "max      42992.500000\n",
       "Name: fi-bkgd, dtype: float64"
      ]
     },
     "execution_count": 94,
     "metadata": {},
     "output_type": "execute_result"
    }
   ],
   "source": [
    "long_data['fi-bkgd'].describe()"
   ]
  },
  {
   "cell_type": "markdown",
   "metadata": {
    "slideshow": {
     "slide_type": "fragment"
    }
   },
   "source": [
    "Or we could get them independently"
   ]
  },
  {
   "cell_type": "code",
   "execution_count": 98,
   "metadata": {
    "collapsed": false
   },
   "outputs": [
    {
     "data": {
      "text/plain": [
       "-52.5"
      ]
     },
     "execution_count": 98,
     "metadata": {},
     "output_type": "execute_result"
    }
   ],
   "source": [
    "long_data['fi-bkgd'].min()"
   ]
  },
  {
   "cell_type": "code",
   "execution_count": 99,
   "metadata": {
    "collapsed": false
   },
   "outputs": [
    {
     "data": {
      "text/plain": [
       "42992.5"
      ]
     },
     "execution_count": 99,
     "metadata": {},
     "output_type": "execute_result"
    }
   ],
   "source": [
    "long_data['fi-bkgd'].max()"
   ]
  },
  {
   "cell_type": "code",
   "execution_count": 100,
   "metadata": {
    "collapsed": false
   },
   "outputs": [
    {
     "data": {
      "text/plain": [
       "12241.496479273141"
      ]
     },
     "execution_count": 100,
     "metadata": {},
     "output_type": "execute_result"
    }
   ],
   "source": [
    "long_data['fi-bkgd'].mean()"
   ]
  },
  {
   "cell_type": "markdown",
   "metadata": {
    "slideshow": {
     "slide_type": "subslide"
    }
   },
   "source": [
    "Q6. Filter for visit 9 records with FI-Bkgd more than 10,000"
   ]
  },
  {
   "cell_type": "markdown",
   "metadata": {
    "slideshow": {
     "slide_type": "fragment"
    }
   },
   "source": [
    "A simple combination of filters"
   ]
  },
  {
   "cell_type": "code",
   "execution_count": 101,
   "metadata": {
    "collapsed": false
   },
   "outputs": [
    {
     "data": {
      "text/html": [
       "<div>\n",
       "<table border=\"1\" class=\"dataframe\">\n",
       "  <thead>\n",
       "    <tr style=\"text-align: right;\">\n",
       "      <th></th>\n",
       "      <th>dilution</th>\n",
       "      <th>analyte</th>\n",
       "      <th>fi-bkgd</th>\n",
       "      <th>fi-bkgd-neg</th>\n",
       "      <th>cv</th>\n",
       "      <th>participant_id</th>\n",
       "      <th>visit_code</th>\n",
       "      <th>visit_date</th>\n",
       "      <th>sample_type</th>\n",
       "      <th>buffer</th>\n",
       "    </tr>\n",
       "  </thead>\n",
       "  <tbody>\n",
       "    <tr>\n",
       "      <th>20</th>\n",
       "      <td>50</td>\n",
       "      <td>p24 (19)</td>\n",
       "      <td>42686.8</td>\n",
       "      <td>42642.800000</td>\n",
       "      <td>0.0000</td>\n",
       "      <td>URN2</td>\n",
       "      <td>9</td>\n",
       "      <td>01/04/1901</td>\n",
       "      <td>PLA</td>\n",
       "      <td>PBS</td>\n",
       "    </tr>\n",
       "    <tr>\n",
       "      <th>21</th>\n",
       "      <td>50</td>\n",
       "      <td>gp41 (44)</td>\n",
       "      <td>42599.8</td>\n",
       "      <td>42545.800000</td>\n",
       "      <td>0.0014</td>\n",
       "      <td>URN2</td>\n",
       "      <td>9</td>\n",
       "      <td>01/04/1901</td>\n",
       "      <td>PLA</td>\n",
       "      <td>PBS</td>\n",
       "    </tr>\n",
       "    <tr>\n",
       "      <th>23</th>\n",
       "      <td>50</td>\n",
       "      <td>B.con.env03 140 CF (65)</td>\n",
       "      <td>22762.0</td>\n",
       "      <td>22707.000000</td>\n",
       "      <td>0.0116</td>\n",
       "      <td>URN2</td>\n",
       "      <td>9</td>\n",
       "      <td>01/04/1901</td>\n",
       "      <td>PLA</td>\n",
       "      <td>PBS</td>\n",
       "    </tr>\n",
       "    <tr>\n",
       "      <th>30</th>\n",
       "      <td>50</td>\n",
       "      <td>p24 (19)</td>\n",
       "      <td>24270.5</td>\n",
       "      <td>24262.000000</td>\n",
       "      <td>0.0332</td>\n",
       "      <td>URN2</td>\n",
       "      <td>9</td>\n",
       "      <td>01/04/1901</td>\n",
       "      <td>PLA</td>\n",
       "      <td>CIT</td>\n",
       "    </tr>\n",
       "    <tr>\n",
       "      <th>521</th>\n",
       "      <td>50</td>\n",
       "      <td>p24 (19)</td>\n",
       "      <td>42724.0</td>\n",
       "      <td>42578.744444</td>\n",
       "      <td>0.0107</td>\n",
       "      <td>SAL2</td>\n",
       "      <td>9</td>\n",
       "      <td>09/13/1900</td>\n",
       "      <td>PLA</td>\n",
       "      <td>PBS</td>\n",
       "    </tr>\n",
       "    <tr>\n",
       "      <th>522</th>\n",
       "      <td>50</td>\n",
       "      <td>gp41 (44)</td>\n",
       "      <td>42542.5</td>\n",
       "      <td>42497.244444</td>\n",
       "      <td>0.0109</td>\n",
       "      <td>SAL2</td>\n",
       "      <td>9</td>\n",
       "      <td>09/13/1900</td>\n",
       "      <td>PLA</td>\n",
       "      <td>PBS</td>\n",
       "    </tr>\n",
       "    <tr>\n",
       "      <th>524</th>\n",
       "      <td>50</td>\n",
       "      <td>B.con.env03 140 CF (65)</td>\n",
       "      <td>24972.5</td>\n",
       "      <td>24828.244444</td>\n",
       "      <td>0.0057</td>\n",
       "      <td>SAL2</td>\n",
       "      <td>9</td>\n",
       "      <td>09/13/1900</td>\n",
       "      <td>PLA</td>\n",
       "      <td>PBS</td>\n",
       "    </tr>\n",
       "    <tr>\n",
       "      <th>526</th>\n",
       "      <td>50</td>\n",
       "      <td>Con S gp140 CFI (3)</td>\n",
       "      <td>28509.5</td>\n",
       "      <td>28465.244444</td>\n",
       "      <td>0.0004</td>\n",
       "      <td>SAL2</td>\n",
       "      <td>9</td>\n",
       "      <td>09/13/1900</td>\n",
       "      <td>PLA</td>\n",
       "      <td>PBS</td>\n",
       "    </tr>\n",
       "    <tr>\n",
       "      <th>528</th>\n",
       "      <td>50</td>\n",
       "      <td>p66 (RT) (42)</td>\n",
       "      <td>27909.4</td>\n",
       "      <td>27765.044444</td>\n",
       "      <td>0.0058</td>\n",
       "      <td>SAL2</td>\n",
       "      <td>9</td>\n",
       "      <td>09/13/1900</td>\n",
       "      <td>PLA</td>\n",
       "      <td>PBS</td>\n",
       "    </tr>\n",
       "    <tr>\n",
       "      <th>531</th>\n",
       "      <td>50</td>\n",
       "      <td>p24 (19)</td>\n",
       "      <td>42972.8</td>\n",
       "      <td>42940.000000</td>\n",
       "      <td>0.0027</td>\n",
       "      <td>SAL2</td>\n",
       "      <td>9</td>\n",
       "      <td>09/13/1900</td>\n",
       "      <td>PLA</td>\n",
       "      <td>CIT</td>\n",
       "    </tr>\n",
       "    <tr>\n",
       "      <th>1041</th>\n",
       "      <td>50</td>\n",
       "      <td>p24 (19)</td>\n",
       "      <td>42595.0</td>\n",
       "      <td>42579.000000</td>\n",
       "      <td>0.0037</td>\n",
       "      <td>PL2</td>\n",
       "      <td>9</td>\n",
       "      <td>02/04/1900</td>\n",
       "      <td>PLA</td>\n",
       "      <td>PBS</td>\n",
       "    </tr>\n",
       "    <tr>\n",
       "      <th>1042</th>\n",
       "      <td>50</td>\n",
       "      <td>gp41 (44)</td>\n",
       "      <td>42682.0</td>\n",
       "      <td>42666.000000</td>\n",
       "      <td>0.0001</td>\n",
       "      <td>PL2</td>\n",
       "      <td>9</td>\n",
       "      <td>02/04/1900</td>\n",
       "      <td>PLA</td>\n",
       "      <td>PBS</td>\n",
       "    </tr>\n",
       "    <tr>\n",
       "      <th>1044</th>\n",
       "      <td>50</td>\n",
       "      <td>B.con.env03 140 CF (65)</td>\n",
       "      <td>24292.5</td>\n",
       "      <td>24276.500000</td>\n",
       "      <td>0.0758</td>\n",
       "      <td>PL2</td>\n",
       "      <td>9</td>\n",
       "      <td>02/04/1900</td>\n",
       "      <td>PLA</td>\n",
       "      <td>PBS</td>\n",
       "    </tr>\n",
       "    <tr>\n",
       "      <th>1046</th>\n",
       "      <td>50</td>\n",
       "      <td>Con S gp140 CFI (3)</td>\n",
       "      <td>27484.0</td>\n",
       "      <td>27467.000000</td>\n",
       "      <td>0.0067</td>\n",
       "      <td>PL2</td>\n",
       "      <td>9</td>\n",
       "      <td>02/04/1900</td>\n",
       "      <td>PLA</td>\n",
       "      <td>PBS</td>\n",
       "    </tr>\n",
       "    <tr>\n",
       "      <th>1048</th>\n",
       "      <td>50</td>\n",
       "      <td>p66 (RT) (42)</td>\n",
       "      <td>24226.8</td>\n",
       "      <td>24220.800000</td>\n",
       "      <td>0.0534</td>\n",
       "      <td>PL2</td>\n",
       "      <td>9</td>\n",
       "      <td>02/04/1900</td>\n",
       "      <td>PLA</td>\n",
       "      <td>PBS</td>\n",
       "    </tr>\n",
       "    <tr>\n",
       "      <th>1541</th>\n",
       "      <td>50</td>\n",
       "      <td>p24 (19)</td>\n",
       "      <td>42242.4</td>\n",
       "      <td>42202.800000</td>\n",
       "      <td>0.0014</td>\n",
       "      <td>PL1</td>\n",
       "      <td>9</td>\n",
       "      <td>04/21/1901</td>\n",
       "      <td>PLA</td>\n",
       "      <td>PBS</td>\n",
       "    </tr>\n",
       "    <tr>\n",
       "      <th>1542</th>\n",
       "      <td>50</td>\n",
       "      <td>gp41 (44)</td>\n",
       "      <td>29502.0</td>\n",
       "      <td>29472.500000</td>\n",
       "      <td>0.0079</td>\n",
       "      <td>PL1</td>\n",
       "      <td>9</td>\n",
       "      <td>04/21/1901</td>\n",
       "      <td>PLA</td>\n",
       "      <td>PBS</td>\n",
       "    </tr>\n",
       "    <tr>\n",
       "      <th>1544</th>\n",
       "      <td>50</td>\n",
       "      <td>B.con.env03 140 CF (65)</td>\n",
       "      <td>22048.4</td>\n",
       "      <td>22028.800000</td>\n",
       "      <td>0.2313</td>\n",
       "      <td>PL1</td>\n",
       "      <td>9</td>\n",
       "      <td>04/21/1901</td>\n",
       "      <td>PLA</td>\n",
       "      <td>PBS</td>\n",
       "    </tr>\n",
       "  </tbody>\n",
       "</table>\n",
       "</div>"
      ],
      "text/plain": [
       "      dilution                  analyte  fi-bkgd   fi-bkgd-neg      cv  \\\n",
       "20          50                 p24 (19)  42686.8  42642.800000  0.0000   \n",
       "21          50                gp41 (44)  42599.8  42545.800000  0.0014   \n",
       "23          50  B.con.env03 140 CF (65)  22762.0  22707.000000  0.0116   \n",
       "30          50                 p24 (19)  24270.5  24262.000000  0.0332   \n",
       "521         50                 p24 (19)  42724.0  42578.744444  0.0107   \n",
       "522         50                gp41 (44)  42542.5  42497.244444  0.0109   \n",
       "524         50  B.con.env03 140 CF (65)  24972.5  24828.244444  0.0057   \n",
       "526         50      Con S gp140 CFI (3)  28509.5  28465.244444  0.0004   \n",
       "528         50            p66 (RT) (42)  27909.4  27765.044444  0.0058   \n",
       "531         50                 p24 (19)  42972.8  42940.000000  0.0027   \n",
       "1041        50                 p24 (19)  42595.0  42579.000000  0.0037   \n",
       "1042        50                gp41 (44)  42682.0  42666.000000  0.0001   \n",
       "1044        50  B.con.env03 140 CF (65)  24292.5  24276.500000  0.0758   \n",
       "1046        50      Con S gp140 CFI (3)  27484.0  27467.000000  0.0067   \n",
       "1048        50            p66 (RT) (42)  24226.8  24220.800000  0.0534   \n",
       "1541        50                 p24 (19)  42242.4  42202.800000  0.0014   \n",
       "1542        50                gp41 (44)  29502.0  29472.500000  0.0079   \n",
       "1544        50  B.con.env03 140 CF (65)  22048.4  22028.800000  0.2313   \n",
       "\n",
       "     participant_id  visit_code   visit_date sample_type buffer  \n",
       "20             URN2           9   01/04/1901         PLA    PBS  \n",
       "21             URN2           9   01/04/1901         PLA    PBS  \n",
       "23             URN2           9   01/04/1901         PLA    PBS  \n",
       "30             URN2           9   01/04/1901         PLA    CIT  \n",
       "521            SAL2           9   09/13/1900         PLA    PBS  \n",
       "522            SAL2           9   09/13/1900         PLA    PBS  \n",
       "524            SAL2           9   09/13/1900         PLA    PBS  \n",
       "526            SAL2           9   09/13/1900         PLA    PBS  \n",
       "528            SAL2           9   09/13/1900         PLA    PBS  \n",
       "531            SAL2           9   09/13/1900         PLA    CIT  \n",
       "1041            PL2           9   02/04/1900         PLA    PBS  \n",
       "1042            PL2           9   02/04/1900         PLA    PBS  \n",
       "1044            PL2           9   02/04/1900         PLA    PBS  \n",
       "1046            PL2           9   02/04/1900         PLA    PBS  \n",
       "1048            PL2           9   02/04/1900         PLA    PBS  \n",
       "1541            PL1           9   04/21/1901         PLA    PBS  \n",
       "1542            PL1           9   04/21/1901         PLA    PBS  \n",
       "1544            PL1           9   04/21/1901         PLA    PBS  "
      ]
     },
     "execution_count": 101,
     "metadata": {},
     "output_type": "execute_result"
    }
   ],
   "source": [
    "over_10k = long_data['fi-bkgd'] > 10000\n",
    "visit_9 = long_data['visit_code'] == 9\n",
    "long_data[over_10k & visit_9]"
   ]
  },
  {
   "cell_type": "markdown",
   "metadata": {
    "slideshow": {
     "slide_type": "subslide"
    }
   },
   "source": [
    "Q7. Make a new DataFrame by filtering on 'SAL2' matching the 'Blank' analyte"
   ]
  },
  {
   "cell_type": "code",
   "execution_count": 102,
   "metadata": {
    "collapsed": false
   },
   "outputs": [
    {
     "data": {
      "text/html": [
       "<div>\n",
       "<table border=\"1\" class=\"dataframe\">\n",
       "  <thead>\n",
       "    <tr style=\"text-align: right;\">\n",
       "      <th></th>\n",
       "      <th>dilution</th>\n",
       "      <th>analyte</th>\n",
       "      <th>fi-bkgd</th>\n",
       "      <th>fi-bkgd-neg</th>\n",
       "      <th>cv</th>\n",
       "      <th>participant_id</th>\n",
       "      <th>visit_code</th>\n",
       "      <th>visit_date</th>\n",
       "      <th>sample_type</th>\n",
       "      <th>buffer</th>\n",
       "    </tr>\n",
       "  </thead>\n",
       "  <tbody>\n",
       "    <tr>\n",
       "      <th>505</th>\n",
       "      <td>50</td>\n",
       "      <td>Blank (53)</td>\n",
       "      <td>42.5</td>\n",
       "      <td>NaN</td>\n",
       "      <td>0.1088</td>\n",
       "      <td>SAL2</td>\n",
       "      <td>0</td>\n",
       "      <td>11/19/1899</td>\n",
       "      <td>PLA</td>\n",
       "      <td>PBS</td>\n",
       "    </tr>\n",
       "    <tr>\n",
       "      <th>515</th>\n",
       "      <td>50</td>\n",
       "      <td>Blank (53)</td>\n",
       "      <td>22.8</td>\n",
       "      <td>NaN</td>\n",
       "      <td>0.1571</td>\n",
       "      <td>SAL2</td>\n",
       "      <td>0</td>\n",
       "      <td>11/19/1899</td>\n",
       "      <td>PLA</td>\n",
       "      <td>CIT</td>\n",
       "    </tr>\n",
       "    <tr>\n",
       "      <th>525</th>\n",
       "      <td>50</td>\n",
       "      <td>Blank (53)</td>\n",
       "      <td>244.4</td>\n",
       "      <td>NaN</td>\n",
       "      <td>0.0629</td>\n",
       "      <td>SAL2</td>\n",
       "      <td>9</td>\n",
       "      <td>09/13/1900</td>\n",
       "      <td>PLA</td>\n",
       "      <td>PBS</td>\n",
       "    </tr>\n",
       "    <tr>\n",
       "      <th>535</th>\n",
       "      <td>50</td>\n",
       "      <td>Blank (53)</td>\n",
       "      <td>42.8</td>\n",
       "      <td>NaN</td>\n",
       "      <td>0.0372</td>\n",
       "      <td>SAL2</td>\n",
       "      <td>9</td>\n",
       "      <td>09/13/1900</td>\n",
       "      <td>PLA</td>\n",
       "      <td>CIT</td>\n",
       "    </tr>\n",
       "    <tr>\n",
       "      <th>545</th>\n",
       "      <td>50</td>\n",
       "      <td>Blank (53)</td>\n",
       "      <td>60.5</td>\n",
       "      <td>NaN</td>\n",
       "      <td>0.3328</td>\n",
       "      <td>SAL2</td>\n",
       "      <td>8</td>\n",
       "      <td>09/08/1900</td>\n",
       "      <td>PLA</td>\n",
       "      <td>PBS</td>\n",
       "    </tr>\n",
       "  </tbody>\n",
       "</table>\n",
       "</div>"
      ],
      "text/plain": [
       "     dilution     analyte  fi-bkgd  fi-bkgd-neg      cv participant_id  \\\n",
       "505        50  Blank (53)     42.5          NaN  0.1088           SAL2   \n",
       "515        50  Blank (53)     22.8          NaN  0.1571           SAL2   \n",
       "525        50  Blank (53)    244.4          NaN  0.0629           SAL2   \n",
       "535        50  Blank (53)     42.8          NaN  0.0372           SAL2   \n",
       "545        50  Blank (53)     60.5          NaN  0.3328           SAL2   \n",
       "\n",
       "     visit_code   visit_date sample_type buffer  \n",
       "505           0   11/19/1899         PLA    PBS  \n",
       "515           0   11/19/1899         PLA    CIT  \n",
       "525           9   09/13/1900         PLA    PBS  \n",
       "535           9   09/13/1900         PLA    CIT  \n",
       "545           8   09/08/1900         PLA    PBS  "
      ]
     },
     "execution_count": 102,
     "metadata": {},
     "output_type": "execute_result"
    }
   ],
   "source": [
    "sal2 = long_data['participant_id'] == 'SAL2'\n",
    "blanks = long_data['analyte'] == 'Blank (53)'\n",
    "sal2_blanks = long_data[sal2 & blanks].copy()\n",
    "sal2_blanks.head()"
   ]
  },
  {
   "cell_type": "markdown",
   "metadata": {
    "slideshow": {
     "slide_type": "subslide"
    }
   },
   "source": [
    "Q8. Anyone find a new, useful DataFrame method?"
   ]
  },
  {
   "cell_type": "markdown",
   "metadata": {
    "slideshow": {
     "slide_type": "slide"
    }
   },
   "source": [
    "# Basic QC Techniques using Summary Data\n",
    "\n",
    "- Unique values\n",
    "- Value Counts\n",
    "- Duplicates"
   ]
  },
  {
   "cell_type": "markdown",
   "metadata": {
    "slideshow": {
     "slide_type": "subslide"
    }
   },
   "source": [
    "### Unique values\n",
    "\n",
    "Finding the unique values can help discover if any were missing or perhaps to help build a relational DB:"
   ]
  },
  {
   "cell_type": "code",
   "execution_count": 45,
   "metadata": {
    "collapsed": false
   },
   "outputs": [
    {
     "data": {
      "text/plain": [
       "10"
      ]
     },
     "execution_count": 45,
     "metadata": {},
     "output_type": "execute_result"
    }
   ],
   "source": [
    "analytes = long_data.analyte.unique()\n",
    "len(analytes)"
   ]
  },
  {
   "cell_type": "code",
   "execution_count": 46,
   "metadata": {
    "collapsed": false
   },
   "outputs": [
    {
     "data": {
      "text/plain": [
       "0                   p24 (19)\n",
       "1                  gp41 (44)\n",
       "2         Con 6 gp120/B (72)\n",
       "3    B.con.env03 140 CF (65)\n",
       "4                 Blank (53)\n",
       "5        Con S gp140 CFI (3)\n",
       "6                   p31 (50)\n",
       "7              p66 (RT) (42)\n",
       "8         MulVgp70_His6 (49)\n",
       "9    gp70_B.CaseA_V1_V2 (12)\n",
       "dtype: object"
      ]
     },
     "execution_count": 46,
     "metadata": {},
     "output_type": "execute_result"
    }
   ],
   "source": [
    "Series(analytes)"
   ]
  },
  {
   "cell_type": "markdown",
   "metadata": {
    "slideshow": {
     "slide_type": "subslide"
    }
   },
   "source": [
    "### Value Counts\n",
    "\n",
    "Looking at the number of occurrences can also help find missing or duplicated data:"
   ]
  },
  {
   "cell_type": "code",
   "execution_count": 47,
   "metadata": {
    "collapsed": false
   },
   "outputs": [
    {
     "data": {
      "text/plain": [
       "Blank (53)                 177\n",
       "gp70_B.CaseA_V1_V2 (12)    176\n",
       "gp41 (44)                  176\n",
       "p66 (RT) (42)              176\n",
       "Con 6 gp120/B (72)         176\n",
       "B.con.env03 140 CF (65)    176\n",
       "p24 (19)                   176\n",
       "MulVgp70_His6 (49)         176\n",
       "Con S gp140 CFI (3)        176\n",
       "p31 (50)                   176\n",
       "dtype: int64"
      ]
     },
     "execution_count": 47,
     "metadata": {},
     "output_type": "execute_result"
    }
   ],
   "source": [
    "long_data.analyte.value_counts()"
   ]
  },
  {
   "cell_type": "code",
   "execution_count": 48,
   "metadata": {
    "collapsed": false
   },
   "outputs": [
    {
     "data": {
      "text/plain": [
       "SAL2    520\n",
       "PL2     500\n",
       "URN2    500\n",
       "PL1     241\n",
       "dtype: int64"
      ]
     },
     "execution_count": 48,
     "metadata": {},
     "output_type": "execute_result"
    }
   ],
   "source": [
    "long_data.participant_id.value_counts()"
   ]
  },
  {
   "cell_type": "markdown",
   "metadata": {
    "slideshow": {
     "slide_type": "subslide"
    }
   },
   "source": [
    "### Duplicates\n",
    "\n",
    "pandas has a convenient way of finding duplicated data:"
   ]
  },
  {
   "cell_type": "code",
   "execution_count": 49,
   "metadata": {
    "collapsed": false
   },
   "outputs": [
    {
     "data": {
      "text/html": [
       "<div>\n",
       "<table border=\"1\" class=\"dataframe\">\n",
       "  <thead>\n",
       "    <tr style=\"text-align: right;\">\n",
       "      <th></th>\n",
       "      <th>dilution</th>\n",
       "      <th>analyte</th>\n",
       "      <th>fi-bkgd</th>\n",
       "      <th>fi-bkgd-neg</th>\n",
       "      <th>cv</th>\n",
       "      <th>participant_id</th>\n",
       "      <th>visit_code</th>\n",
       "      <th>visit_date</th>\n",
       "      <th>sample_type</th>\n",
       "      <th>buffer</th>\n",
       "    </tr>\n",
       "  </thead>\n",
       "  <tbody>\n",
       "    <tr>\n",
       "      <th>1535</th>\n",
       "      <td>50</td>\n",
       "      <td>Blank (53)</td>\n",
       "      <td>5.8</td>\n",
       "      <td>NaN</td>\n",
       "      <td>0.1179</td>\n",
       "      <td>PL1</td>\n",
       "      <td>0</td>\n",
       "      <td>02/04/1900</td>\n",
       "      <td>PLA</td>\n",
       "      <td>CIT</td>\n",
       "    </tr>\n",
       "  </tbody>\n",
       "</table>\n",
       "</div>"
      ],
      "text/plain": [
       "      dilution     analyte  fi-bkgd  fi-bkgd-neg      cv participant_id  \\\n",
       "1535        50  Blank (53)      5.8          NaN  0.1179            PL1   \n",
       "\n",
       "      visit_code   visit_date sample_type buffer  \n",
       "1535           0   02/04/1900         PLA    CIT  "
      ]
     },
     "execution_count": 49,
     "metadata": {},
     "output_type": "execute_result"
    }
   ],
   "source": [
    "long_data[long_data.duplicated()]"
   ]
  },
  {
   "cell_type": "code",
   "execution_count": 50,
   "metadata": {
    "collapsed": false
   },
   "outputs": [
    {
     "data": {
      "text/html": [
       "<div>\n",
       "<table border=\"1\" class=\"dataframe\">\n",
       "  <thead>\n",
       "    <tr style=\"text-align: right;\">\n",
       "      <th></th>\n",
       "      <th>dilution</th>\n",
       "      <th>analyte</th>\n",
       "      <th>fi-bkgd</th>\n",
       "      <th>fi-bkgd-neg</th>\n",
       "      <th>cv</th>\n",
       "      <th>participant_id</th>\n",
       "      <th>visit_code</th>\n",
       "      <th>visit_date</th>\n",
       "      <th>sample_type</th>\n",
       "      <th>buffer</th>\n",
       "    </tr>\n",
       "  </thead>\n",
       "  <tbody>\n",
       "    <tr>\n",
       "      <th>464</th>\n",
       "      <td>50</td>\n",
       "      <td>Blank (53)</td>\n",
       "      <td>5.8</td>\n",
       "      <td>NaN</td>\n",
       "      <td>0.1179</td>\n",
       "      <td>PL1</td>\n",
       "      <td>0</td>\n",
       "      <td>02/04/1900</td>\n",
       "      <td>PLA</td>\n",
       "      <td>CIT</td>\n",
       "    </tr>\n",
       "    <tr>\n",
       "      <th>1535</th>\n",
       "      <td>50</td>\n",
       "      <td>Blank (53)</td>\n",
       "      <td>5.8</td>\n",
       "      <td>NaN</td>\n",
       "      <td>0.1179</td>\n",
       "      <td>PL1</td>\n",
       "      <td>0</td>\n",
       "      <td>02/04/1900</td>\n",
       "      <td>PLA</td>\n",
       "      <td>CIT</td>\n",
       "    </tr>\n",
       "  </tbody>\n",
       "</table>\n",
       "</div>"
      ],
      "text/plain": [
       "      dilution     analyte  fi-bkgd  fi-bkgd-neg      cv participant_id  \\\n",
       "464         50  Blank (53)      5.8          NaN  0.1179            PL1   \n",
       "1535        50  Blank (53)      5.8          NaN  0.1179            PL1   \n",
       "\n",
       "      visit_code   visit_date sample_type buffer  \n",
       "464            0   02/04/1900         PLA    CIT  \n",
       "1535           0   02/04/1900         PLA    CIT  "
      ]
     },
     "execution_count": 50,
     "metadata": {},
     "output_type": "execute_result"
    }
   ],
   "source": [
    "long_data[(long_data['fi-bkgd'] == 5.8) & (long_data.analyte == \"Blank (53)\") & (long_data.participant_id == 'PL1')]"
   ]
  },
  {
   "cell_type": "code",
   "execution_count": 51,
   "metadata": {
    "collapsed": false
   },
   "outputs": [
    {
     "data": {
      "text/html": [
       "<div>\n",
       "<table border=\"1\" class=\"dataframe\">\n",
       "  <thead>\n",
       "    <tr style=\"text-align: right;\">\n",
       "      <th></th>\n",
       "      <th>dilution</th>\n",
       "      <th>analyte</th>\n",
       "      <th>fi-bkgd</th>\n",
       "      <th>fi-bkgd-neg</th>\n",
       "      <th>cv</th>\n",
       "      <th>participant_id</th>\n",
       "      <th>visit_code</th>\n",
       "      <th>visit_date</th>\n",
       "      <th>sample_type</th>\n",
       "      <th>buffer</th>\n",
       "    </tr>\n",
       "  </thead>\n",
       "  <tbody>\n",
       "  </tbody>\n",
       "</table>\n",
       "</div>"
      ],
      "text/plain": [
       "Empty DataFrame\n",
       "Columns: [dilution, analyte, fi-bkgd, fi-bkgd-neg, cv, participant_id, visit_code, visit_date, sample_type, buffer]\n",
       "Index: []"
      ]
     },
     "execution_count": 51,
     "metadata": {},
     "output_type": "execute_result"
    }
   ],
   "source": [
    "long_data = long_data.drop(464)\n",
    "long_data[long_data.duplicated()]"
   ]
  },
  {
   "cell_type": "markdown",
   "metadata": {
    "slideshow": {
     "slide_type": "subslide"
    }
   },
   "source": [
    "**`duplicated`** can also take a list of columns:"
   ]
  },
  {
   "cell_type": "code",
   "execution_count": 52,
   "metadata": {
    "collapsed": false
   },
   "outputs": [
    {
     "data": {
      "text/html": [
       "<div>\n",
       "<table border=\"1\" class=\"dataframe\">\n",
       "  <thead>\n",
       "    <tr style=\"text-align: right;\">\n",
       "      <th></th>\n",
       "      <th>dilution</th>\n",
       "      <th>analyte</th>\n",
       "      <th>fi-bkgd</th>\n",
       "      <th>fi-bkgd-neg</th>\n",
       "      <th>cv</th>\n",
       "      <th>participant_id</th>\n",
       "      <th>visit_code</th>\n",
       "      <th>visit_date</th>\n",
       "      <th>sample_type</th>\n",
       "      <th>buffer</th>\n",
       "    </tr>\n",
       "  </thead>\n",
       "  <tbody>\n",
       "    <tr>\n",
       "      <th>219</th>\n",
       "      <td>50</td>\n",
       "      <td>gp70_B.CaseA_V1_V2 (12)</td>\n",
       "      <td>22.0</td>\n",
       "      <td>-44.000000</td>\n",
       "      <td>0.0629</td>\n",
       "      <td>URN2</td>\n",
       "      <td>22</td>\n",
       "      <td>03/08/1903</td>\n",
       "      <td>PLA</td>\n",
       "      <td>CIT</td>\n",
       "    </tr>\n",
       "    <tr>\n",
       "      <th>274</th>\n",
       "      <td>50</td>\n",
       "      <td>Blank (53)</td>\n",
       "      <td>2.5</td>\n",
       "      <td>NaN</td>\n",
       "      <td>0.0832</td>\n",
       "      <td>URN2</td>\n",
       "      <td>2</td>\n",
       "      <td>12/10/1900</td>\n",
       "      <td>PLA</td>\n",
       "      <td>CIT</td>\n",
       "    </tr>\n",
       "    <tr>\n",
       "      <th>339</th>\n",
       "      <td>50</td>\n",
       "      <td>gp70_B.CaseA_V1_V2 (12)</td>\n",
       "      <td>22.5</td>\n",
       "      <td>-2.544444</td>\n",
       "      <td>0.0673</td>\n",
       "      <td>URN2</td>\n",
       "      <td>17</td>\n",
       "      <td>01/16/1902</td>\n",
       "      <td>PLA</td>\n",
       "      <td>CIT</td>\n",
       "    </tr>\n",
       "    <tr>\n",
       "      <th>359</th>\n",
       "      <td>50</td>\n",
       "      <td>gp70_B.CaseA_V1_V2 (12)</td>\n",
       "      <td>28.4</td>\n",
       "      <td>-0.500000</td>\n",
       "      <td>0.0607</td>\n",
       "      <td>URN2</td>\n",
       "      <td>16</td>\n",
       "      <td>11/01/1901</td>\n",
       "      <td>PLA</td>\n",
       "      <td>CIT</td>\n",
       "    </tr>\n",
       "    <tr>\n",
       "      <th>460</th>\n",
       "      <td>50</td>\n",
       "      <td>p24 (19)</td>\n",
       "      <td>42684.8</td>\n",
       "      <td>42628.400000</td>\n",
       "      <td>0.0001</td>\n",
       "      <td>URN2</td>\n",
       "      <td>10</td>\n",
       "      <td>01/10/1901</td>\n",
       "      <td>PLA</td>\n",
       "      <td>PBS</td>\n",
       "    </tr>\n",
       "    <tr>\n",
       "      <th>980</th>\n",
       "      <td>50</td>\n",
       "      <td>gp70_B.CaseA_V1_V2 (12)</td>\n",
       "      <td>27.5</td>\n",
       "      <td>-22.266667</td>\n",
       "      <td>0.0175</td>\n",
       "      <td>SAL2</td>\n",
       "      <td>11</td>\n",
       "      <td>10/01/1900</td>\n",
       "      <td>PLA</td>\n",
       "      <td>CIT</td>\n",
       "    </tr>\n",
       "    <tr>\n",
       "      <th>1035</th>\n",
       "      <td>50</td>\n",
       "      <td>Blank (53)</td>\n",
       "      <td>4.5</td>\n",
       "      <td>NaN</td>\n",
       "      <td>0.0777</td>\n",
       "      <td>PL2</td>\n",
       "      <td>0</td>\n",
       "      <td>09/30/1899</td>\n",
       "      <td>PLA</td>\n",
       "      <td>CIT</td>\n",
       "    </tr>\n",
       "    <tr>\n",
       "      <th>1055</th>\n",
       "      <td>50</td>\n",
       "      <td>Blank (53)</td>\n",
       "      <td>4.5</td>\n",
       "      <td>NaN</td>\n",
       "      <td>0.0777</td>\n",
       "      <td>PL2</td>\n",
       "      <td>9</td>\n",
       "      <td>02/04/1900</td>\n",
       "      <td>PLA</td>\n",
       "      <td>CIT</td>\n",
       "    </tr>\n",
       "    <tr>\n",
       "      <th>1061</th>\n",
       "      <td>50</td>\n",
       "      <td>p24 (19)</td>\n",
       "      <td>42684.8</td>\n",
       "      <td>42642.544444</td>\n",
       "      <td>0.0001</td>\n",
       "      <td>PL2</td>\n",
       "      <td>8</td>\n",
       "      <td>02/02/1900</td>\n",
       "      <td>PLA</td>\n",
       "      <td>PBS</td>\n",
       "    </tr>\n",
       "    <tr>\n",
       "      <th>1079</th>\n",
       "      <td>50</td>\n",
       "      <td>MulVgp70_His6 (49)</td>\n",
       "      <td>7.4</td>\n",
       "      <td>NaN</td>\n",
       "      <td>0.0232</td>\n",
       "      <td>PL2</td>\n",
       "      <td>8</td>\n",
       "      <td>02/02/1900</td>\n",
       "      <td>PLA</td>\n",
       "      <td>CIT</td>\n",
       "    </tr>\n",
       "    <tr>\n",
       "      <th>1119</th>\n",
       "      <td>50</td>\n",
       "      <td>MulVgp70_His6 (49)</td>\n",
       "      <td>6.4</td>\n",
       "      <td>NaN</td>\n",
       "      <td>0.0270</td>\n",
       "      <td>PL2</td>\n",
       "      <td>6</td>\n",
       "      <td>01/25/1900</td>\n",
       "      <td>PLA</td>\n",
       "      <td>CIT</td>\n",
       "    </tr>\n",
       "    <tr>\n",
       "      <th>1159</th>\n",
       "      <td>50</td>\n",
       "      <td>MulVgp70_His6 (49)</td>\n",
       "      <td>6.4</td>\n",
       "      <td>NaN</td>\n",
       "      <td>0.0270</td>\n",
       "      <td>PL2</td>\n",
       "      <td>4</td>\n",
       "      <td>01/18/1900</td>\n",
       "      <td>PLA</td>\n",
       "      <td>CIT</td>\n",
       "    </tr>\n",
       "    <tr>\n",
       "      <th>1222</th>\n",
       "      <td>50</td>\n",
       "      <td>gp41 (44)</td>\n",
       "      <td>42684.5</td>\n",
       "      <td>42662.000000</td>\n",
       "      <td>0.0000</td>\n",
       "      <td>PL2</td>\n",
       "      <td>22</td>\n",
       "      <td>05/24/1902</td>\n",
       "      <td>PLA</td>\n",
       "      <td>PBS</td>\n",
       "    </tr>\n",
       "    <tr>\n",
       "      <th>1228</th>\n",
       "      <td>50</td>\n",
       "      <td>p66 (RT) (42)</td>\n",
       "      <td>42624.5</td>\n",
       "      <td>42590.000000</td>\n",
       "      <td>0.0000</td>\n",
       "      <td>PL2</td>\n",
       "      <td>22</td>\n",
       "      <td>05/24/1902</td>\n",
       "      <td>PLA</td>\n",
       "      <td>PBS</td>\n",
       "    </tr>\n",
       "    <tr>\n",
       "      <th>1239</th>\n",
       "      <td>50</td>\n",
       "      <td>MulVgp70_His6 (49)</td>\n",
       "      <td>25.8</td>\n",
       "      <td>NaN</td>\n",
       "      <td>0.0363</td>\n",
       "      <td>PL2</td>\n",
       "      <td>22</td>\n",
       "      <td>05/24/1902</td>\n",
       "      <td>PLA</td>\n",
       "      <td>CIT</td>\n",
       "    </tr>\n",
       "    <tr>\n",
       "      <th>1299</th>\n",
       "      <td>50</td>\n",
       "      <td>MulVgp70_His6 (49)</td>\n",
       "      <td>7.4</td>\n",
       "      <td>NaN</td>\n",
       "      <td>0.0232</td>\n",
       "      <td>PL2</td>\n",
       "      <td>2</td>\n",
       "      <td>01/11/1900</td>\n",
       "      <td>PLA</td>\n",
       "      <td>CIT</td>\n",
       "    </tr>\n",
       "    <tr>\n",
       "      <th>1300</th>\n",
       "      <td>50</td>\n",
       "      <td>gp70_B.CaseA_V1_V2 (12)</td>\n",
       "      <td>4.8</td>\n",
       "      <td>-2.500000</td>\n",
       "      <td>0.0679</td>\n",
       "      <td>PL2</td>\n",
       "      <td>2</td>\n",
       "      <td>01/11/1900</td>\n",
       "      <td>PLA</td>\n",
       "      <td>CIT</td>\n",
       "    </tr>\n",
       "    <tr>\n",
       "      <th>1301</th>\n",
       "      <td>50</td>\n",
       "      <td>p24 (19)</td>\n",
       "      <td>42684.8</td>\n",
       "      <td>42660.400000</td>\n",
       "      <td>0.0001</td>\n",
       "      <td>PL2</td>\n",
       "      <td>19</td>\n",
       "      <td>08/22/1901</td>\n",
       "      <td>PLA</td>\n",
       "      <td>PBS</td>\n",
       "    </tr>\n",
       "    <tr>\n",
       "      <th>1305</th>\n",
       "      <td>50</td>\n",
       "      <td>Blank (53)</td>\n",
       "      <td>24.5</td>\n",
       "      <td>NaN</td>\n",
       "      <td>0.1122</td>\n",
       "      <td>PL2</td>\n",
       "      <td>19</td>\n",
       "      <td>08/22/1901</td>\n",
       "      <td>PLA</td>\n",
       "      <td>PBS</td>\n",
       "    </tr>\n",
       "    <tr>\n",
       "      <th>1322</th>\n",
       "      <td>50</td>\n",
       "      <td>gp41 (44)</td>\n",
       "      <td>42682.0</td>\n",
       "      <td>42648.244444</td>\n",
       "      <td>0.0001</td>\n",
       "      <td>PL2</td>\n",
       "      <td>18</td>\n",
       "      <td>06/03/1901</td>\n",
       "      <td>PLA</td>\n",
       "      <td>PBS</td>\n",
       "    </tr>\n",
       "    <tr>\n",
       "      <th>1375</th>\n",
       "      <td>50</td>\n",
       "      <td>Blank (53)</td>\n",
       "      <td>4.5</td>\n",
       "      <td>NaN</td>\n",
       "      <td>0.0777</td>\n",
       "      <td>PL2</td>\n",
       "      <td>16</td>\n",
       "      <td>12/13/1900</td>\n",
       "      <td>PLA</td>\n",
       "      <td>CIT</td>\n",
       "    </tr>\n",
       "    <tr>\n",
       "      <th>1435</th>\n",
       "      <td>50</td>\n",
       "      <td>Blank (53)</td>\n",
       "      <td>8.0</td>\n",
       "      <td>NaN</td>\n",
       "      <td>0.0000</td>\n",
       "      <td>PL2</td>\n",
       "      <td>13</td>\n",
       "      <td>04/08/1900</td>\n",
       "      <td>PLA</td>\n",
       "      <td>CIT</td>\n",
       "    </tr>\n",
       "    <tr>\n",
       "      <th>1479</th>\n",
       "      <td>50</td>\n",
       "      <td>MulVgp70_His6 (49)</td>\n",
       "      <td>25.4</td>\n",
       "      <td>NaN</td>\n",
       "      <td>0.0918</td>\n",
       "      <td>PL2</td>\n",
       "      <td>11</td>\n",
       "      <td>02/26/1900</td>\n",
       "      <td>PLA</td>\n",
       "      <td>CIT</td>\n",
       "    </tr>\n",
       "    <tr>\n",
       "      <th>1482</th>\n",
       "      <td>50</td>\n",
       "      <td>gp41 (44)</td>\n",
       "      <td>42684.5</td>\n",
       "      <td>42667.000000</td>\n",
       "      <td>0.0000</td>\n",
       "      <td>PL2</td>\n",
       "      <td>10</td>\n",
       "      <td>02/19/1900</td>\n",
       "      <td>PLA</td>\n",
       "      <td>PBS</td>\n",
       "    </tr>\n",
       "    <tr>\n",
       "      <th>1495</th>\n",
       "      <td>50</td>\n",
       "      <td>Blank (53)</td>\n",
       "      <td>2.5</td>\n",
       "      <td>NaN</td>\n",
       "      <td>0.0832</td>\n",
       "      <td>PL2</td>\n",
       "      <td>10</td>\n",
       "      <td>02/19/1900</td>\n",
       "      <td>PLA</td>\n",
       "      <td>CIT</td>\n",
       "    </tr>\n",
       "    <tr>\n",
       "      <th>1500</th>\n",
       "      <td>50</td>\n",
       "      <td>gp70_B.CaseA_V1_V2 (12)</td>\n",
       "      <td>2.5</td>\n",
       "      <td>-6.800000</td>\n",
       "      <td>0.0000</td>\n",
       "      <td>PL2</td>\n",
       "      <td>10</td>\n",
       "      <td>02/19/1900</td>\n",
       "      <td>PLA</td>\n",
       "      <td>CIT</td>\n",
       "    </tr>\n",
       "    <tr>\n",
       "      <th>1515</th>\n",
       "      <td>50</td>\n",
       "      <td>Blank (53)</td>\n",
       "      <td>4.5</td>\n",
       "      <td>NaN</td>\n",
       "      <td>0.0673</td>\n",
       "      <td>PL2</td>\n",
       "      <td>1</td>\n",
       "      <td>01/06/1900</td>\n",
       "      <td>PLA</td>\n",
       "      <td>CIT</td>\n",
       "    </tr>\n",
       "    <tr>\n",
       "      <th>1555</th>\n",
       "      <td>50</td>\n",
       "      <td>Blank (53)</td>\n",
       "      <td>9.8</td>\n",
       "      <td>NaN</td>\n",
       "      <td>0.0000</td>\n",
       "      <td>PL1</td>\n",
       "      <td>9</td>\n",
       "      <td>04/21/1901</td>\n",
       "      <td>PLA</td>\n",
       "      <td>CIT</td>\n",
       "    </tr>\n",
       "    <tr>\n",
       "      <th>1679</th>\n",
       "      <td>50</td>\n",
       "      <td>MulVgp70_His6 (49)</td>\n",
       "      <td>8.0</td>\n",
       "      <td>NaN</td>\n",
       "      <td>0.0788</td>\n",
       "      <td>PL1</td>\n",
       "      <td>3</td>\n",
       "      <td>03/31/1901</td>\n",
       "      <td>PLA</td>\n",
       "      <td>CIT</td>\n",
       "    </tr>\n",
       "  </tbody>\n",
       "</table>\n",
       "</div>"
      ],
      "text/plain": [
       "      dilution                  analyte  fi-bkgd   fi-bkgd-neg      cv  \\\n",
       "219         50  gp70_B.CaseA_V1_V2 (12)     22.0    -44.000000  0.0629   \n",
       "274         50               Blank (53)      2.5           NaN  0.0832   \n",
       "339         50  gp70_B.CaseA_V1_V2 (12)     22.5     -2.544444  0.0673   \n",
       "359         50  gp70_B.CaseA_V1_V2 (12)     28.4     -0.500000  0.0607   \n",
       "460         50                 p24 (19)  42684.8  42628.400000  0.0001   \n",
       "980         50  gp70_B.CaseA_V1_V2 (12)     27.5    -22.266667  0.0175   \n",
       "1035        50               Blank (53)      4.5           NaN  0.0777   \n",
       "1055        50               Blank (53)      4.5           NaN  0.0777   \n",
       "1061        50                 p24 (19)  42684.8  42642.544444  0.0001   \n",
       "1079        50       MulVgp70_His6 (49)      7.4           NaN  0.0232   \n",
       "1119        50       MulVgp70_His6 (49)      6.4           NaN  0.0270   \n",
       "1159        50       MulVgp70_His6 (49)      6.4           NaN  0.0270   \n",
       "1222        50                gp41 (44)  42684.5  42662.000000  0.0000   \n",
       "1228        50            p66 (RT) (42)  42624.5  42590.000000  0.0000   \n",
       "1239        50       MulVgp70_His6 (49)     25.8           NaN  0.0363   \n",
       "1299        50       MulVgp70_His6 (49)      7.4           NaN  0.0232   \n",
       "1300        50  gp70_B.CaseA_V1_V2 (12)      4.8     -2.500000  0.0679   \n",
       "1301        50                 p24 (19)  42684.8  42660.400000  0.0001   \n",
       "1305        50               Blank (53)     24.5           NaN  0.1122   \n",
       "1322        50                gp41 (44)  42682.0  42648.244444  0.0001   \n",
       "1375        50               Blank (53)      4.5           NaN  0.0777   \n",
       "1435        50               Blank (53)      8.0           NaN  0.0000   \n",
       "1479        50       MulVgp70_His6 (49)     25.4           NaN  0.0918   \n",
       "1482        50                gp41 (44)  42684.5  42667.000000  0.0000   \n",
       "1495        50               Blank (53)      2.5           NaN  0.0832   \n",
       "1500        50  gp70_B.CaseA_V1_V2 (12)      2.5     -6.800000  0.0000   \n",
       "1515        50               Blank (53)      4.5           NaN  0.0673   \n",
       "1555        50               Blank (53)      9.8           NaN  0.0000   \n",
       "1679        50       MulVgp70_His6 (49)      8.0           NaN  0.0788   \n",
       "\n",
       "     participant_id  visit_code   visit_date sample_type buffer  \n",
       "219            URN2          22   03/08/1903         PLA    CIT  \n",
       "274            URN2           2   12/10/1900         PLA    CIT  \n",
       "339            URN2          17   01/16/1902         PLA    CIT  \n",
       "359            URN2          16   11/01/1901         PLA    CIT  \n",
       "460            URN2          10   01/10/1901         PLA    PBS  \n",
       "980            SAL2          11   10/01/1900         PLA    CIT  \n",
       "1035            PL2           0   09/30/1899         PLA    CIT  \n",
       "1055            PL2           9   02/04/1900         PLA    CIT  \n",
       "1061            PL2           8   02/02/1900         PLA    PBS  \n",
       "1079            PL2           8   02/02/1900         PLA    CIT  \n",
       "1119            PL2           6   01/25/1900         PLA    CIT  \n",
       "1159            PL2           4   01/18/1900         PLA    CIT  \n",
       "1222            PL2          22   05/24/1902         PLA    PBS  \n",
       "1228            PL2          22   05/24/1902         PLA    PBS  \n",
       "1239            PL2          22   05/24/1902         PLA    CIT  \n",
       "1299            PL2           2   01/11/1900         PLA    CIT  \n",
       "1300            PL2           2   01/11/1900         PLA    CIT  \n",
       "1301            PL2          19   08/22/1901         PLA    PBS  \n",
       "1305            PL2          19   08/22/1901         PLA    PBS  \n",
       "1322            PL2          18   06/03/1901         PLA    PBS  \n",
       "1375            PL2          16   12/13/1900         PLA    CIT  \n",
       "1435            PL2          13   04/08/1900         PLA    CIT  \n",
       "1479            PL2          11   02/26/1900         PLA    CIT  \n",
       "1482            PL2          10   02/19/1900         PLA    PBS  \n",
       "1495            PL2          10   02/19/1900         PLA    CIT  \n",
       "1500            PL2          10   02/19/1900         PLA    CIT  \n",
       "1515            PL2           1   01/06/1900         PLA    CIT  \n",
       "1555            PL1           9   04/21/1901         PLA    CIT  \n",
       "1679            PL1           3   03/31/1901         PLA    CIT  "
      ]
     },
     "execution_count": 52,
     "metadata": {},
     "output_type": "execute_result"
    }
   ],
   "source": [
    "long_data[long_data.duplicated(['fi-bkgd', 'cv', 'analyte', 'buffer'])]"
   ]
  },
  {
   "cell_type": "markdown",
   "metadata": {
    "slideshow": {
     "slide_type": "slide"
    }
   },
   "source": [
    "# Hierarchical Indexing\n",
    "\n",
    "Our data doesn't have a single column with unique values\n",
    "\n",
    "pandas allows us to create a hierarchical index using multiple columns\n",
    "\n",
    "**Note: It is good practice when using hierarchical indexing to sort the indices**\n",
    "\n",
    "On older versions of pandas multi-indexing may not work properly for non-sorted DataFrames, and in the newest version indicing may be significantly slower"
   ]
  },
  {
   "cell_type": "markdown",
   "metadata": {
    "slideshow": {
     "slide_type": "subslide"
    }
   },
   "source": [
    "The same analyte shouldn't occur more than once per participant per visit per buffer\n",
    "\n",
    "We'll use those four fields to create an index and then sort the DataFrame:"
   ]
  },
  {
   "cell_type": "code",
   "execution_count": 53,
   "metadata": {
    "collapsed": false
   },
   "outputs": [
    {
     "data": {
      "text/html": [
       "<div>\n",
       "<table border=\"1\" class=\"dataframe\">\n",
       "  <thead>\n",
       "    <tr style=\"text-align: right;\">\n",
       "      <th></th>\n",
       "      <th></th>\n",
       "      <th></th>\n",
       "      <th></th>\n",
       "      <th>dilution</th>\n",
       "      <th>fi-bkgd</th>\n",
       "      <th>fi-bkgd-neg</th>\n",
       "      <th>cv</th>\n",
       "      <th>visit_date</th>\n",
       "      <th>sample_type</th>\n",
       "    </tr>\n",
       "    <tr>\n",
       "      <th>participant_id</th>\n",
       "      <th>visit_code</th>\n",
       "      <th>buffer</th>\n",
       "      <th>analyte</th>\n",
       "      <th></th>\n",
       "      <th></th>\n",
       "      <th></th>\n",
       "      <th></th>\n",
       "      <th></th>\n",
       "      <th></th>\n",
       "    </tr>\n",
       "  </thead>\n",
       "  <tbody>\n",
       "    <tr>\n",
       "      <th rowspan=\"30\" valign=\"top\">PL1</th>\n",
       "      <th rowspan=\"20\" valign=\"top\">0</th>\n",
       "      <th rowspan=\"10\" valign=\"top\">CIT</th>\n",
       "      <th>B.con.env03 140 CF (65)</th>\n",
       "      <td>50</td>\n",
       "      <td>45.8</td>\n",
       "      <td>40.000000</td>\n",
       "      <td>0.0615</td>\n",
       "      <td>02/04/1900</td>\n",
       "      <td>PLA</td>\n",
       "    </tr>\n",
       "    <tr>\n",
       "      <th>Blank (53)</th>\n",
       "      <td>50</td>\n",
       "      <td>5.8</td>\n",
       "      <td>NaN</td>\n",
       "      <td>0.1179</td>\n",
       "      <td>02/04/1900</td>\n",
       "      <td>PLA</td>\n",
       "    </tr>\n",
       "    <tr>\n",
       "      <th>Con 6 gp120/B (72)</th>\n",
       "      <td>50</td>\n",
       "      <td>54.5</td>\n",
       "      <td>47.700000</td>\n",
       "      <td>0.0620</td>\n",
       "      <td>02/04/1900</td>\n",
       "      <td>PLA</td>\n",
       "    </tr>\n",
       "    <tr>\n",
       "      <th>Con S gp140 CFI (3)</th>\n",
       "      <td>50</td>\n",
       "      <td>27.0</td>\n",
       "      <td>22.200000</td>\n",
       "      <td>0.0808</td>\n",
       "      <td>02/04/1900</td>\n",
       "      <td>PLA</td>\n",
       "    </tr>\n",
       "    <tr>\n",
       "      <th>MulVgp70_His6 (49)</th>\n",
       "      <td>50</td>\n",
       "      <td>8.5</td>\n",
       "      <td>NaN</td>\n",
       "      <td>0.0270</td>\n",
       "      <td>02/04/1900</td>\n",
       "      <td>PLA</td>\n",
       "    </tr>\n",
       "    <tr>\n",
       "      <th>gp41 (44)</th>\n",
       "      <td>50</td>\n",
       "      <td>82.8</td>\n",
       "      <td>76.000000</td>\n",
       "      <td>0.0566</td>\n",
       "      <td>02/04/1900</td>\n",
       "      <td>PLA</td>\n",
       "    </tr>\n",
       "    <tr>\n",
       "      <th>gp70_B.CaseA_V1_V2 (12)</th>\n",
       "      <td>50</td>\n",
       "      <td>55.5</td>\n",
       "      <td>47.000000</td>\n",
       "      <td>0.1531</td>\n",
       "      <td>02/04/1900</td>\n",
       "      <td>PLA</td>\n",
       "    </tr>\n",
       "    <tr>\n",
       "      <th>p24 (19)</th>\n",
       "      <td>50</td>\n",
       "      <td>-29.0</td>\n",
       "      <td>-44.800000</td>\n",
       "      <td>0.7380</td>\n",
       "      <td>02/04/1900</td>\n",
       "      <td>PLA</td>\n",
       "    </tr>\n",
       "    <tr>\n",
       "      <th>p31 (50)</th>\n",
       "      <td>50</td>\n",
       "      <td>85.5</td>\n",
       "      <td>79.700000</td>\n",
       "      <td>0.0828</td>\n",
       "      <td>02/04/1900</td>\n",
       "      <td>PLA</td>\n",
       "    </tr>\n",
       "    <tr>\n",
       "      <th>p66 (RT) (42)</th>\n",
       "      <td>50</td>\n",
       "      <td>-25.0</td>\n",
       "      <td>-20.800000</td>\n",
       "      <td>0.0154</td>\n",
       "      <td>02/04/1900</td>\n",
       "      <td>PLA</td>\n",
       "    </tr>\n",
       "    <tr>\n",
       "      <th rowspan=\"10\" valign=\"top\">PBS</th>\n",
       "      <th>B.con.env03 140 CF (65)</th>\n",
       "      <td>50</td>\n",
       "      <td>225.8</td>\n",
       "      <td>202.800000</td>\n",
       "      <td>0.6061</td>\n",
       "      <td>02/04/1900</td>\n",
       "      <td>PLA</td>\n",
       "    </tr>\n",
       "    <tr>\n",
       "      <th>Blank (53)</th>\n",
       "      <td>50</td>\n",
       "      <td>24.0</td>\n",
       "      <td>NaN</td>\n",
       "      <td>0.0224</td>\n",
       "      <td>02/04/1900</td>\n",
       "      <td>PLA</td>\n",
       "    </tr>\n",
       "    <tr>\n",
       "      <th>Con 6 gp120/B (72)</th>\n",
       "      <td>50</td>\n",
       "      <td>75.5</td>\n",
       "      <td>52.500000</td>\n",
       "      <td>0.0802</td>\n",
       "      <td>02/04/1900</td>\n",
       "      <td>PLA</td>\n",
       "    </tr>\n",
       "    <tr>\n",
       "      <th>Con S gp140 CFI (3)</th>\n",
       "      <td>50</td>\n",
       "      <td>298.5</td>\n",
       "      <td>274.500000</td>\n",
       "      <td>1.0299</td>\n",
       "      <td>02/04/1900</td>\n",
       "      <td>PLA</td>\n",
       "    </tr>\n",
       "    <tr>\n",
       "      <th>MulVgp70_His6 (49)</th>\n",
       "      <td>50</td>\n",
       "      <td>72.4</td>\n",
       "      <td>NaN</td>\n",
       "      <td>0.0229</td>\n",
       "      <td>02/04/1900</td>\n",
       "      <td>PLA</td>\n",
       "    </tr>\n",
       "    <tr>\n",
       "      <th>gp41 (44)</th>\n",
       "      <td>50</td>\n",
       "      <td>759.5</td>\n",
       "      <td>745.500000</td>\n",
       "      <td>0.8982</td>\n",
       "      <td>02/04/1900</td>\n",
       "      <td>PLA</td>\n",
       "    </tr>\n",
       "    <tr>\n",
       "      <th>gp70_B.CaseA_V1_V2 (12)</th>\n",
       "      <td>50</td>\n",
       "      <td>44.5</td>\n",
       "      <td>-46.800000</td>\n",
       "      <td>0.0707</td>\n",
       "      <td>02/04/1900</td>\n",
       "      <td>PLA</td>\n",
       "    </tr>\n",
       "    <tr>\n",
       "      <th>p24 (19)</th>\n",
       "      <td>50</td>\n",
       "      <td>2460.4</td>\n",
       "      <td>2446.400000</td>\n",
       "      <td>0.7052</td>\n",
       "      <td>02/04/1900</td>\n",
       "      <td>PLA</td>\n",
       "    </tr>\n",
       "    <tr>\n",
       "      <th>p31 (50)</th>\n",
       "      <td>50</td>\n",
       "      <td>454.8</td>\n",
       "      <td>429.800000</td>\n",
       "      <td>0.1788</td>\n",
       "      <td>02/04/1900</td>\n",
       "      <td>PLA</td>\n",
       "    </tr>\n",
       "    <tr>\n",
       "      <th>p66 (RT) (42)</th>\n",
       "      <td>50</td>\n",
       "      <td>247.5</td>\n",
       "      <td>224.500000</td>\n",
       "      <td>0.5218</td>\n",
       "      <td>02/04/1900</td>\n",
       "      <td>PLA</td>\n",
       "    </tr>\n",
       "    <tr>\n",
       "      <th rowspan=\"10\" valign=\"top\">1</th>\n",
       "      <th rowspan=\"10\" valign=\"top\">CIT</th>\n",
       "      <th>B.con.env03 140 CF (65)</th>\n",
       "      <td>50</td>\n",
       "      <td>42.5</td>\n",
       "      <td>46.966667</td>\n",
       "      <td>0.2528</td>\n",
       "      <td>03/24/1901</td>\n",
       "      <td>PLA</td>\n",
       "    </tr>\n",
       "    <tr>\n",
       "      <th>Blank (53)</th>\n",
       "      <td>50</td>\n",
       "      <td>4.5</td>\n",
       "      <td>NaN</td>\n",
       "      <td>0.0987</td>\n",
       "      <td>03/24/1901</td>\n",
       "      <td>PLA</td>\n",
       "    </tr>\n",
       "    <tr>\n",
       "      <th>Con 6 gp120/B (72)</th>\n",
       "      <td>50</td>\n",
       "      <td>49.8</td>\n",
       "      <td>45.266667</td>\n",
       "      <td>0.1678</td>\n",
       "      <td>03/24/1901</td>\n",
       "      <td>PLA</td>\n",
       "    </tr>\n",
       "    <tr>\n",
       "      <th>Con S gp140 CFI (3)</th>\n",
       "      <td>50</td>\n",
       "      <td>29.0</td>\n",
       "      <td>24.466667</td>\n",
       "      <td>0.1177</td>\n",
       "      <td>03/24/1901</td>\n",
       "      <td>PLA</td>\n",
       "    </tr>\n",
       "    <tr>\n",
       "      <th>MulVgp70_His6 (49)</th>\n",
       "      <td>50</td>\n",
       "      <td>5.8</td>\n",
       "      <td>NaN</td>\n",
       "      <td>0.0925</td>\n",
       "      <td>03/24/1901</td>\n",
       "      <td>PLA</td>\n",
       "    </tr>\n",
       "    <tr>\n",
       "      <th>gp41 (44)</th>\n",
       "      <td>50</td>\n",
       "      <td>64.5</td>\n",
       "      <td>59.966667</td>\n",
       "      <td>0.0762</td>\n",
       "      <td>03/24/1901</td>\n",
       "      <td>PLA</td>\n",
       "    </tr>\n",
       "    <tr>\n",
       "      <th>gp70_B.CaseA_V1_V2 (12)</th>\n",
       "      <td>50</td>\n",
       "      <td>50.0</td>\n",
       "      <td>44.244444</td>\n",
       "      <td>0.0581</td>\n",
       "      <td>03/24/1901</td>\n",
       "      <td>PLA</td>\n",
       "    </tr>\n",
       "    <tr>\n",
       "      <th>p24 (19)</th>\n",
       "      <td>50</td>\n",
       "      <td>-44.0</td>\n",
       "      <td>-48.544444</td>\n",
       "      <td>0.0511</td>\n",
       "      <td>03/24/1901</td>\n",
       "      <td>PLA</td>\n",
       "    </tr>\n",
       "    <tr>\n",
       "      <th>p31 (50)</th>\n",
       "      <td>50</td>\n",
       "      <td>207.0</td>\n",
       "      <td>202.466667</td>\n",
       "      <td>0.1597</td>\n",
       "      <td>03/24/1901</td>\n",
       "      <td>PLA</td>\n",
       "    </tr>\n",
       "    <tr>\n",
       "      <th>p66 (RT) (42)</th>\n",
       "      <td>50</td>\n",
       "      <td>-24.8</td>\n",
       "      <td>-28.444444</td>\n",
       "      <td>0.1100</td>\n",
       "      <td>03/24/1901</td>\n",
       "      <td>PLA</td>\n",
       "    </tr>\n",
       "    <tr>\n",
       "      <th>...</th>\n",
       "      <th>...</th>\n",
       "      <th>...</th>\n",
       "      <th>...</th>\n",
       "      <td>...</td>\n",
       "      <td>...</td>\n",
       "      <td>...</td>\n",
       "      <td>...</td>\n",
       "      <td>...</td>\n",
       "      <td>...</td>\n",
       "    </tr>\n",
       "    <tr>\n",
       "      <th rowspan=\"30\" valign=\"top\">URN2</th>\n",
       "      <th rowspan=\"10\" valign=\"top\">23</th>\n",
       "      <th rowspan=\"10\" valign=\"top\">PBS</th>\n",
       "      <th>B.con.env03 140 CF (65)</th>\n",
       "      <td>50</td>\n",
       "      <td>42524.0</td>\n",
       "      <td>42482.244444</td>\n",
       "      <td>0.0008</td>\n",
       "      <td>05/27/1903</td>\n",
       "      <td>PLA</td>\n",
       "    </tr>\n",
       "    <tr>\n",
       "      <th>Blank (53)</th>\n",
       "      <td>50</td>\n",
       "      <td>242.8</td>\n",
       "      <td>NaN</td>\n",
       "      <td>0.1396</td>\n",
       "      <td>05/27/1903</td>\n",
       "      <td>PLA</td>\n",
       "    </tr>\n",
       "    <tr>\n",
       "      <th>Con 6 gp120/B (72)</th>\n",
       "      <td>50</td>\n",
       "      <td>29928.4</td>\n",
       "      <td>29796.544444</td>\n",
       "      <td>0.0079</td>\n",
       "      <td>05/27/1903</td>\n",
       "      <td>PLA</td>\n",
       "    </tr>\n",
       "    <tr>\n",
       "      <th>Con S gp140 CFI (3)</th>\n",
       "      <td>50</td>\n",
       "      <td>42426.0</td>\n",
       "      <td>42294.244444</td>\n",
       "      <td>0.0015</td>\n",
       "      <td>05/27/1903</td>\n",
       "      <td>PLA</td>\n",
       "    </tr>\n",
       "    <tr>\n",
       "      <th>MulVgp70_His6 (49)</th>\n",
       "      <td>50</td>\n",
       "      <td>286.4</td>\n",
       "      <td>NaN</td>\n",
       "      <td>0.2011</td>\n",
       "      <td>05/27/1903</td>\n",
       "      <td>PLA</td>\n",
       "    </tr>\n",
       "    <tr>\n",
       "      <th>gp41 (44)</th>\n",
       "      <td>50</td>\n",
       "      <td>42805.8</td>\n",
       "      <td>42674.044444</td>\n",
       "      <td>0.0011</td>\n",
       "      <td>05/27/1903</td>\n",
       "      <td>PLA</td>\n",
       "    </tr>\n",
       "    <tr>\n",
       "      <th>gp70_B.CaseA_V1_V2 (12)</th>\n",
       "      <td>50</td>\n",
       "      <td>44.5</td>\n",
       "      <td>-252.800000</td>\n",
       "      <td>0.2828</td>\n",
       "      <td>05/27/1903</td>\n",
       "      <td>PLA</td>\n",
       "    </tr>\n",
       "    <tr>\n",
       "      <th>p24 (19)</th>\n",
       "      <td>50</td>\n",
       "      <td>42729.5</td>\n",
       "      <td>42587.744444</td>\n",
       "      <td>0.0016</td>\n",
       "      <td>05/27/1903</td>\n",
       "      <td>PLA</td>\n",
       "    </tr>\n",
       "    <tr>\n",
       "      <th>p31 (50)</th>\n",
       "      <td>50</td>\n",
       "      <td>42444.5</td>\n",
       "      <td>42402.744444</td>\n",
       "      <td>0.0058</td>\n",
       "      <td>05/27/1903</td>\n",
       "      <td>PLA</td>\n",
       "    </tr>\n",
       "    <tr>\n",
       "      <th>p66 (RT) (42)</th>\n",
       "      <td>50</td>\n",
       "      <td>42799.0</td>\n",
       "      <td>42667.244444</td>\n",
       "      <td>0.0013</td>\n",
       "      <td>05/27/1903</td>\n",
       "      <td>PLA</td>\n",
       "    </tr>\n",
       "    <tr>\n",
       "      <th rowspan=\"20\" valign=\"top\">24</th>\n",
       "      <th rowspan=\"10\" valign=\"top\">CIT</th>\n",
       "      <th>B.con.env03 140 CF (65)</th>\n",
       "      <td>50</td>\n",
       "      <td>29575.0</td>\n",
       "      <td>29542.466667</td>\n",
       "      <td>0.0027</td>\n",
       "      <td>08/19/1903</td>\n",
       "      <td>PLA</td>\n",
       "    </tr>\n",
       "    <tr>\n",
       "      <th>Blank (53)</th>\n",
       "      <td>50</td>\n",
       "      <td>44.5</td>\n",
       "      <td>NaN</td>\n",
       "      <td>0.0355</td>\n",
       "      <td>08/19/1903</td>\n",
       "      <td>PLA</td>\n",
       "    </tr>\n",
       "    <tr>\n",
       "      <th>Con 6 gp120/B (72)</th>\n",
       "      <td>50</td>\n",
       "      <td>5244.8</td>\n",
       "      <td>5202.266667</td>\n",
       "      <td>0.0813</td>\n",
       "      <td>08/19/1903</td>\n",
       "      <td>PLA</td>\n",
       "    </tr>\n",
       "    <tr>\n",
       "      <th>Con S gp140 CFI (3)</th>\n",
       "      <td>50</td>\n",
       "      <td>9744.4</td>\n",
       "      <td>9690.766667</td>\n",
       "      <td>0.0509</td>\n",
       "      <td>08/19/1903</td>\n",
       "      <td>PLA</td>\n",
       "    </tr>\n",
       "    <tr>\n",
       "      <th>MulVgp70_His6 (49)</th>\n",
       "      <td>50</td>\n",
       "      <td>59.8</td>\n",
       "      <td>NaN</td>\n",
       "      <td>0.0657</td>\n",
       "      <td>08/19/1903</td>\n",
       "      <td>PLA</td>\n",
       "    </tr>\n",
       "    <tr>\n",
       "      <th>gp41 (44)</th>\n",
       "      <td>50</td>\n",
       "      <td>40027.0</td>\n",
       "      <td>29974.466667</td>\n",
       "      <td>0.0003</td>\n",
       "      <td>08/19/1903</td>\n",
       "      <td>PLA</td>\n",
       "    </tr>\n",
       "    <tr>\n",
       "      <th>gp70_B.CaseA_V1_V2 (12)</th>\n",
       "      <td>50</td>\n",
       "      <td>22.0</td>\n",
       "      <td>-47.766667</td>\n",
       "      <td>0.0629</td>\n",
       "      <td>08/19/1903</td>\n",
       "      <td>PLA</td>\n",
       "    </tr>\n",
       "    <tr>\n",
       "      <th>p24 (19)</th>\n",
       "      <td>50</td>\n",
       "      <td>42475.0</td>\n",
       "      <td>42442.466667</td>\n",
       "      <td>0.0019</td>\n",
       "      <td>08/19/1903</td>\n",
       "      <td>PLA</td>\n",
       "    </tr>\n",
       "    <tr>\n",
       "      <th>p31 (50)</th>\n",
       "      <td>50</td>\n",
       "      <td>4227.4</td>\n",
       "      <td>4084.766667</td>\n",
       "      <td>0.1366</td>\n",
       "      <td>08/19/1903</td>\n",
       "      <td>PLA</td>\n",
       "    </tr>\n",
       "    <tr>\n",
       "      <th>p66 (RT) (42)</th>\n",
       "      <td>50</td>\n",
       "      <td>42524.4</td>\n",
       "      <td>42469.766667</td>\n",
       "      <td>0.0017</td>\n",
       "      <td>08/19/1903</td>\n",
       "      <td>PLA</td>\n",
       "    </tr>\n",
       "    <tr>\n",
       "      <th rowspan=\"10\" valign=\"top\">PBS</th>\n",
       "      <th>B.con.env03 140 CF (65)</th>\n",
       "      <td>50</td>\n",
       "      <td>42427.4</td>\n",
       "      <td>42265.800000</td>\n",
       "      <td>0.0002</td>\n",
       "      <td>08/19/1903</td>\n",
       "      <td>PLA</td>\n",
       "    </tr>\n",
       "    <tr>\n",
       "      <th>Blank (53)</th>\n",
       "      <td>50</td>\n",
       "      <td>262.5</td>\n",
       "      <td>NaN</td>\n",
       "      <td>0.0084</td>\n",
       "      <td>08/19/1903</td>\n",
       "      <td>PLA</td>\n",
       "    </tr>\n",
       "    <tr>\n",
       "      <th>Con 6 gp120/B (72)</th>\n",
       "      <td>50</td>\n",
       "      <td>29658.5</td>\n",
       "      <td>29497.000000</td>\n",
       "      <td>0.0072</td>\n",
       "      <td>08/19/1903</td>\n",
       "      <td>PLA</td>\n",
       "    </tr>\n",
       "    <tr>\n",
       "      <th>Con S gp140 CFI (3)</th>\n",
       "      <td>50</td>\n",
       "      <td>42477.8</td>\n",
       "      <td>42426.400000</td>\n",
       "      <td>0.0002</td>\n",
       "      <td>08/19/1903</td>\n",
       "      <td>PLA</td>\n",
       "    </tr>\n",
       "    <tr>\n",
       "      <th>MulVgp70_His6 (49)</th>\n",
       "      <td>50</td>\n",
       "      <td>299.0</td>\n",
       "      <td>NaN</td>\n",
       "      <td>0.0078</td>\n",
       "      <td>08/19/1903</td>\n",
       "      <td>PLA</td>\n",
       "    </tr>\n",
       "    <tr>\n",
       "      <th>gp41 (44)</th>\n",
       "      <td>50</td>\n",
       "      <td>42700.8</td>\n",
       "      <td>42549.400000</td>\n",
       "      <td>0.0006</td>\n",
       "      <td>08/19/1903</td>\n",
       "      <td>PLA</td>\n",
       "    </tr>\n",
       "    <tr>\n",
       "      <th>gp70_B.CaseA_V1_V2 (12)</th>\n",
       "      <td>50</td>\n",
       "      <td>40.5</td>\n",
       "      <td>-258.544444</td>\n",
       "      <td>0.0673</td>\n",
       "      <td>08/19/1903</td>\n",
       "      <td>PLA</td>\n",
       "    </tr>\n",
       "    <tr>\n",
       "      <th>p24 (19)</th>\n",
       "      <td>50</td>\n",
       "      <td>42622.8</td>\n",
       "      <td>42452.400000</td>\n",
       "      <td>0.0020</td>\n",
       "      <td>08/19/1903</td>\n",
       "      <td>PLA</td>\n",
       "    </tr>\n",
       "    <tr>\n",
       "      <th>p31 (50)</th>\n",
       "      <td>50</td>\n",
       "      <td>42272.8</td>\n",
       "      <td>42022.400000</td>\n",
       "      <td>0.0085</td>\n",
       "      <td>08/19/1903</td>\n",
       "      <td>PLA</td>\n",
       "    </tr>\n",
       "    <tr>\n",
       "      <th>p66 (RT) (42)</th>\n",
       "      <td>50</td>\n",
       "      <td>42657.5</td>\n",
       "      <td>42496.000000</td>\n",
       "      <td>0.0063</td>\n",
       "      <td>08/19/1903</td>\n",
       "      <td>PLA</td>\n",
       "    </tr>\n",
       "  </tbody>\n",
       "</table>\n",
       "<p>1760 rows × 6 columns</p>\n",
       "</div>"
      ],
      "text/plain": [
       "                                                          dilution  fi-bkgd  \\\n",
       "participant_id visit_code buffer analyte                                      \n",
       "PL1            0          CIT    B.con.env03 140 CF (65)        50     45.8   \n",
       "                                 Blank (53)                     50      5.8   \n",
       "                                 Con 6 gp120/B (72)             50     54.5   \n",
       "                                 Con S gp140 CFI (3)            50     27.0   \n",
       "                                 MulVgp70_His6 (49)             50      8.5   \n",
       "                                 gp41 (44)                      50     82.8   \n",
       "                                 gp70_B.CaseA_V1_V2 (12)        50     55.5   \n",
       "                                 p24 (19)                       50    -29.0   \n",
       "                                 p31 (50)                       50     85.5   \n",
       "                                 p66 (RT) (42)                  50    -25.0   \n",
       "                          PBS    B.con.env03 140 CF (65)        50    225.8   \n",
       "                                 Blank (53)                     50     24.0   \n",
       "                                 Con 6 gp120/B (72)             50     75.5   \n",
       "                                 Con S gp140 CFI (3)            50    298.5   \n",
       "                                 MulVgp70_His6 (49)             50     72.4   \n",
       "                                 gp41 (44)                      50    759.5   \n",
       "                                 gp70_B.CaseA_V1_V2 (12)        50     44.5   \n",
       "                                 p24 (19)                       50   2460.4   \n",
       "                                 p31 (50)                       50    454.8   \n",
       "                                 p66 (RT) (42)                  50    247.5   \n",
       "               1          CIT    B.con.env03 140 CF (65)        50     42.5   \n",
       "                                 Blank (53)                     50      4.5   \n",
       "                                 Con 6 gp120/B (72)             50     49.8   \n",
       "                                 Con S gp140 CFI (3)            50     29.0   \n",
       "                                 MulVgp70_His6 (49)             50      5.8   \n",
       "                                 gp41 (44)                      50     64.5   \n",
       "                                 gp70_B.CaseA_V1_V2 (12)        50     50.0   \n",
       "                                 p24 (19)                       50    -44.0   \n",
       "                                 p31 (50)                       50    207.0   \n",
       "                                 p66 (RT) (42)                  50    -24.8   \n",
       "...                                                            ...      ...   \n",
       "URN2           23         PBS    B.con.env03 140 CF (65)        50  42524.0   \n",
       "                                 Blank (53)                     50    242.8   \n",
       "                                 Con 6 gp120/B (72)             50  29928.4   \n",
       "                                 Con S gp140 CFI (3)            50  42426.0   \n",
       "                                 MulVgp70_His6 (49)             50    286.4   \n",
       "                                 gp41 (44)                      50  42805.8   \n",
       "                                 gp70_B.CaseA_V1_V2 (12)        50     44.5   \n",
       "                                 p24 (19)                       50  42729.5   \n",
       "                                 p31 (50)                       50  42444.5   \n",
       "                                 p66 (RT) (42)                  50  42799.0   \n",
       "               24         CIT    B.con.env03 140 CF (65)        50  29575.0   \n",
       "                                 Blank (53)                     50     44.5   \n",
       "                                 Con 6 gp120/B (72)             50   5244.8   \n",
       "                                 Con S gp140 CFI (3)            50   9744.4   \n",
       "                                 MulVgp70_His6 (49)             50     59.8   \n",
       "                                 gp41 (44)                      50  40027.0   \n",
       "                                 gp70_B.CaseA_V1_V2 (12)        50     22.0   \n",
       "                                 p24 (19)                       50  42475.0   \n",
       "                                 p31 (50)                       50   4227.4   \n",
       "                                 p66 (RT) (42)                  50  42524.4   \n",
       "                          PBS    B.con.env03 140 CF (65)        50  42427.4   \n",
       "                                 Blank (53)                     50    262.5   \n",
       "                                 Con 6 gp120/B (72)             50  29658.5   \n",
       "                                 Con S gp140 CFI (3)            50  42477.8   \n",
       "                                 MulVgp70_His6 (49)             50    299.0   \n",
       "                                 gp41 (44)                      50  42700.8   \n",
       "                                 gp70_B.CaseA_V1_V2 (12)        50     40.5   \n",
       "                                 p24 (19)                       50  42622.8   \n",
       "                                 p31 (50)                       50  42272.8   \n",
       "                                 p66 (RT) (42)                  50  42657.5   \n",
       "\n",
       "                                                           fi-bkgd-neg  \\\n",
       "participant_id visit_code buffer analyte                                 \n",
       "PL1            0          CIT    B.con.env03 140 CF (65)     40.000000   \n",
       "                                 Blank (53)                        NaN   \n",
       "                                 Con 6 gp120/B (72)          47.700000   \n",
       "                                 Con S gp140 CFI (3)         22.200000   \n",
       "                                 MulVgp70_His6 (49)                NaN   \n",
       "                                 gp41 (44)                   76.000000   \n",
       "                                 gp70_B.CaseA_V1_V2 (12)     47.000000   \n",
       "                                 p24 (19)                   -44.800000   \n",
       "                                 p31 (50)                    79.700000   \n",
       "                                 p66 (RT) (42)              -20.800000   \n",
       "                          PBS    B.con.env03 140 CF (65)    202.800000   \n",
       "                                 Blank (53)                        NaN   \n",
       "                                 Con 6 gp120/B (72)          52.500000   \n",
       "                                 Con S gp140 CFI (3)        274.500000   \n",
       "                                 MulVgp70_His6 (49)                NaN   \n",
       "                                 gp41 (44)                  745.500000   \n",
       "                                 gp70_B.CaseA_V1_V2 (12)    -46.800000   \n",
       "                                 p24 (19)                  2446.400000   \n",
       "                                 p31 (50)                   429.800000   \n",
       "                                 p66 (RT) (42)              224.500000   \n",
       "               1          CIT    B.con.env03 140 CF (65)     46.966667   \n",
       "                                 Blank (53)                        NaN   \n",
       "                                 Con 6 gp120/B (72)          45.266667   \n",
       "                                 Con S gp140 CFI (3)         24.466667   \n",
       "                                 MulVgp70_His6 (49)                NaN   \n",
       "                                 gp41 (44)                   59.966667   \n",
       "                                 gp70_B.CaseA_V1_V2 (12)     44.244444   \n",
       "                                 p24 (19)                   -48.544444   \n",
       "                                 p31 (50)                   202.466667   \n",
       "                                 p66 (RT) (42)              -28.444444   \n",
       "...                                                                ...   \n",
       "URN2           23         PBS    B.con.env03 140 CF (65)  42482.244444   \n",
       "                                 Blank (53)                        NaN   \n",
       "                                 Con 6 gp120/B (72)       29796.544444   \n",
       "                                 Con S gp140 CFI (3)      42294.244444   \n",
       "                                 MulVgp70_His6 (49)                NaN   \n",
       "                                 gp41 (44)                42674.044444   \n",
       "                                 gp70_B.CaseA_V1_V2 (12)   -252.800000   \n",
       "                                 p24 (19)                 42587.744444   \n",
       "                                 p31 (50)                 42402.744444   \n",
       "                                 p66 (RT) (42)            42667.244444   \n",
       "               24         CIT    B.con.env03 140 CF (65)  29542.466667   \n",
       "                                 Blank (53)                        NaN   \n",
       "                                 Con 6 gp120/B (72)        5202.266667   \n",
       "                                 Con S gp140 CFI (3)       9690.766667   \n",
       "                                 MulVgp70_His6 (49)                NaN   \n",
       "                                 gp41 (44)                29974.466667   \n",
       "                                 gp70_B.CaseA_V1_V2 (12)    -47.766667   \n",
       "                                 p24 (19)                 42442.466667   \n",
       "                                 p31 (50)                  4084.766667   \n",
       "                                 p66 (RT) (42)            42469.766667   \n",
       "                          PBS    B.con.env03 140 CF (65)  42265.800000   \n",
       "                                 Blank (53)                        NaN   \n",
       "                                 Con 6 gp120/B (72)       29497.000000   \n",
       "                                 Con S gp140 CFI (3)      42426.400000   \n",
       "                                 MulVgp70_His6 (49)                NaN   \n",
       "                                 gp41 (44)                42549.400000   \n",
       "                                 gp70_B.CaseA_V1_V2 (12)   -258.544444   \n",
       "                                 p24 (19)                 42452.400000   \n",
       "                                 p31 (50)                 42022.400000   \n",
       "                                 p66 (RT) (42)            42496.000000   \n",
       "\n",
       "                                                              cv   visit_date  \\\n",
       "participant_id visit_code buffer analyte                                        \n",
       "PL1            0          CIT    B.con.env03 140 CF (65)  0.0615   02/04/1900   \n",
       "                                 Blank (53)               0.1179   02/04/1900   \n",
       "                                 Con 6 gp120/B (72)       0.0620   02/04/1900   \n",
       "                                 Con S gp140 CFI (3)      0.0808   02/04/1900   \n",
       "                                 MulVgp70_His6 (49)       0.0270   02/04/1900   \n",
       "                                 gp41 (44)                0.0566   02/04/1900   \n",
       "                                 gp70_B.CaseA_V1_V2 (12)  0.1531   02/04/1900   \n",
       "                                 p24 (19)                 0.7380   02/04/1900   \n",
       "                                 p31 (50)                 0.0828   02/04/1900   \n",
       "                                 p66 (RT) (42)            0.0154   02/04/1900   \n",
       "                          PBS    B.con.env03 140 CF (65)  0.6061   02/04/1900   \n",
       "                                 Blank (53)               0.0224   02/04/1900   \n",
       "                                 Con 6 gp120/B (72)       0.0802   02/04/1900   \n",
       "                                 Con S gp140 CFI (3)      1.0299   02/04/1900   \n",
       "                                 MulVgp70_His6 (49)       0.0229   02/04/1900   \n",
       "                                 gp41 (44)                0.8982   02/04/1900   \n",
       "                                 gp70_B.CaseA_V1_V2 (12)  0.0707   02/04/1900   \n",
       "                                 p24 (19)                 0.7052   02/04/1900   \n",
       "                                 p31 (50)                 0.1788   02/04/1900   \n",
       "                                 p66 (RT) (42)            0.5218   02/04/1900   \n",
       "               1          CIT    B.con.env03 140 CF (65)  0.2528   03/24/1901   \n",
       "                                 Blank (53)               0.0987   03/24/1901   \n",
       "                                 Con 6 gp120/B (72)       0.1678   03/24/1901   \n",
       "                                 Con S gp140 CFI (3)      0.1177   03/24/1901   \n",
       "                                 MulVgp70_His6 (49)       0.0925   03/24/1901   \n",
       "                                 gp41 (44)                0.0762   03/24/1901   \n",
       "                                 gp70_B.CaseA_V1_V2 (12)  0.0581   03/24/1901   \n",
       "                                 p24 (19)                 0.0511   03/24/1901   \n",
       "                                 p31 (50)                 0.1597   03/24/1901   \n",
       "                                 p66 (RT) (42)            0.1100   03/24/1901   \n",
       "...                                                          ...          ...   \n",
       "URN2           23         PBS    B.con.env03 140 CF (65)  0.0008   05/27/1903   \n",
       "                                 Blank (53)               0.1396   05/27/1903   \n",
       "                                 Con 6 gp120/B (72)       0.0079   05/27/1903   \n",
       "                                 Con S gp140 CFI (3)      0.0015   05/27/1903   \n",
       "                                 MulVgp70_His6 (49)       0.2011   05/27/1903   \n",
       "                                 gp41 (44)                0.0011   05/27/1903   \n",
       "                                 gp70_B.CaseA_V1_V2 (12)  0.2828   05/27/1903   \n",
       "                                 p24 (19)                 0.0016   05/27/1903   \n",
       "                                 p31 (50)                 0.0058   05/27/1903   \n",
       "                                 p66 (RT) (42)            0.0013   05/27/1903   \n",
       "               24         CIT    B.con.env03 140 CF (65)  0.0027   08/19/1903   \n",
       "                                 Blank (53)               0.0355   08/19/1903   \n",
       "                                 Con 6 gp120/B (72)       0.0813   08/19/1903   \n",
       "                                 Con S gp140 CFI (3)      0.0509   08/19/1903   \n",
       "                                 MulVgp70_His6 (49)       0.0657   08/19/1903   \n",
       "                                 gp41 (44)                0.0003   08/19/1903   \n",
       "                                 gp70_B.CaseA_V1_V2 (12)  0.0629   08/19/1903   \n",
       "                                 p24 (19)                 0.0019   08/19/1903   \n",
       "                                 p31 (50)                 0.1366   08/19/1903   \n",
       "                                 p66 (RT) (42)            0.0017   08/19/1903   \n",
       "                          PBS    B.con.env03 140 CF (65)  0.0002   08/19/1903   \n",
       "                                 Blank (53)               0.0084   08/19/1903   \n",
       "                                 Con 6 gp120/B (72)       0.0072   08/19/1903   \n",
       "                                 Con S gp140 CFI (3)      0.0002   08/19/1903   \n",
       "                                 MulVgp70_His6 (49)       0.0078   08/19/1903   \n",
       "                                 gp41 (44)                0.0006   08/19/1903   \n",
       "                                 gp70_B.CaseA_V1_V2 (12)  0.0673   08/19/1903   \n",
       "                                 p24 (19)                 0.0020   08/19/1903   \n",
       "                                 p31 (50)                 0.0085   08/19/1903   \n",
       "                                 p66 (RT) (42)            0.0063   08/19/1903   \n",
       "\n",
       "                                                         sample_type  \n",
       "participant_id visit_code buffer analyte                              \n",
       "PL1            0          CIT    B.con.env03 140 CF (65)         PLA  \n",
       "                                 Blank (53)                      PLA  \n",
       "                                 Con 6 gp120/B (72)              PLA  \n",
       "                                 Con S gp140 CFI (3)             PLA  \n",
       "                                 MulVgp70_His6 (49)              PLA  \n",
       "                                 gp41 (44)                       PLA  \n",
       "                                 gp70_B.CaseA_V1_V2 (12)         PLA  \n",
       "                                 p24 (19)                        PLA  \n",
       "                                 p31 (50)                        PLA  \n",
       "                                 p66 (RT) (42)                   PLA  \n",
       "                          PBS    B.con.env03 140 CF (65)         PLA  \n",
       "                                 Blank (53)                      PLA  \n",
       "                                 Con 6 gp120/B (72)              PLA  \n",
       "                                 Con S gp140 CFI (3)             PLA  \n",
       "                                 MulVgp70_His6 (49)              PLA  \n",
       "                                 gp41 (44)                       PLA  \n",
       "                                 gp70_B.CaseA_V1_V2 (12)         PLA  \n",
       "                                 p24 (19)                        PLA  \n",
       "                                 p31 (50)                        PLA  \n",
       "                                 p66 (RT) (42)                   PLA  \n",
       "               1          CIT    B.con.env03 140 CF (65)         PLA  \n",
       "                                 Blank (53)                      PLA  \n",
       "                                 Con 6 gp120/B (72)              PLA  \n",
       "                                 Con S gp140 CFI (3)             PLA  \n",
       "                                 MulVgp70_His6 (49)              PLA  \n",
       "                                 gp41 (44)                       PLA  \n",
       "                                 gp70_B.CaseA_V1_V2 (12)         PLA  \n",
       "                                 p24 (19)                        PLA  \n",
       "                                 p31 (50)                        PLA  \n",
       "                                 p66 (RT) (42)                   PLA  \n",
       "...                                                              ...  \n",
       "URN2           23         PBS    B.con.env03 140 CF (65)         PLA  \n",
       "                                 Blank (53)                      PLA  \n",
       "                                 Con 6 gp120/B (72)              PLA  \n",
       "                                 Con S gp140 CFI (3)             PLA  \n",
       "                                 MulVgp70_His6 (49)              PLA  \n",
       "                                 gp41 (44)                       PLA  \n",
       "                                 gp70_B.CaseA_V1_V2 (12)         PLA  \n",
       "                                 p24 (19)                        PLA  \n",
       "                                 p31 (50)                        PLA  \n",
       "                                 p66 (RT) (42)                   PLA  \n",
       "               24         CIT    B.con.env03 140 CF (65)         PLA  \n",
       "                                 Blank (53)                      PLA  \n",
       "                                 Con 6 gp120/B (72)              PLA  \n",
       "                                 Con S gp140 CFI (3)             PLA  \n",
       "                                 MulVgp70_His6 (49)              PLA  \n",
       "                                 gp41 (44)                       PLA  \n",
       "                                 gp70_B.CaseA_V1_V2 (12)         PLA  \n",
       "                                 p24 (19)                        PLA  \n",
       "                                 p31 (50)                        PLA  \n",
       "                                 p66 (RT) (42)                   PLA  \n",
       "                          PBS    B.con.env03 140 CF (65)         PLA  \n",
       "                                 Blank (53)                      PLA  \n",
       "                                 Con 6 gp120/B (72)              PLA  \n",
       "                                 Con S gp140 CFI (3)             PLA  \n",
       "                                 MulVgp70_His6 (49)              PLA  \n",
       "                                 gp41 (44)                       PLA  \n",
       "                                 gp70_B.CaseA_V1_V2 (12)         PLA  \n",
       "                                 p24 (19)                        PLA  \n",
       "                                 p31 (50)                        PLA  \n",
       "                                 p66 (RT) (42)                   PLA  \n",
       "\n",
       "[1760 rows x 6 columns]"
      ]
     },
     "execution_count": 53,
     "metadata": {},
     "output_type": "execute_result"
    }
   ],
   "source": [
    "long_data_h = long_data.set_index(['participant_id', 'visit_code', 'buffer', 'analyte'])\n",
    "long_data_h = long_data_h.sort_index()\n",
    "long_data_h"
   ]
  },
  {
   "cell_type": "markdown",
   "metadata": {
    "slideshow": {
     "slide_type": "subslide"
    }
   },
   "source": [
    "To test if our index is unique:"
   ]
  },
  {
   "cell_type": "code",
   "execution_count": 54,
   "metadata": {
    "collapsed": false
   },
   "outputs": [
    {
     "data": {
      "text/plain": [
       "True"
      ]
     },
     "execution_count": 54,
     "metadata": {},
     "output_type": "execute_result"
    }
   ],
   "source": [
    "long_data_h.index.is_unique"
   ]
  },
  {
   "cell_type": "code",
   "execution_count": 55,
   "metadata": {
    "collapsed": false
   },
   "outputs": [
    {
     "data": {
      "text/plain": [
       "MultiIndex(levels=[['PL1', 'PL2', 'SAL2', 'URN2'], [0, 1, 2, 3, 4, 5, 6, 7, 8, 9, 10, 11, 12, 13, 14, 15, 16, 17, 18, 19, 20, 21, 22, 23, 24, 25, 27], ['CIT', 'PBS'], ['B.con.env03 140 CF (65)', 'Blank (53)', 'Con 6 gp120/B (72)', 'Con S gp140 CFI (3)', 'MulVgp70_His6 (49)', 'gp41 (44)', 'gp70_B.CaseA_V1_V2 (12)', 'p24 (19)', 'p31 (50)', 'p66 (RT) (42)']],\n",
       "           labels=[[0, 0, 0, 0, 0, 0, 0, 0, 0, 0, 0, 0, 0, 0, 0, 0, 0, 0, 0, 0, 0, 0, 0, 0, 0, 0, 0, 0, 0, 0, 0, 0, 0, 0, 0, 0, 0, 0, 0, 0, 0, 0, 0, 0, 0, 0, 0, 0, 0, 0, 0, 0, 0, 0, 0, 0, 0, 0, 0, 0, 0, 0, 0, 0, 0, 0, 0, 0, 0, 0, 0, 0, 0, 0, 0, 0, 0, 0, 0, 0, 0, 0, 0, 0, 0, 0, 0, 0, 0, 0, 0, 0, 0, 0, 0, 0, 0, 0, 0, 0, 0, 0, 0, 0, 0, 0, 0, 0, 0, 0, 0, 0, 0, 0, 0, 0, 0, 0, 0, 0, 0, 0, 0, 0, 0, 0, 0, 0, 0, 0, 0, 0, 0, 0, 0, 0, 0, 0, 0, 0, 0, 0, 0, 0, 0, 0, 0, 0, 0, 0, 0, 0, 0, 0, 0, 0, 0, 0, 0, 0, 0, 0, 0, 0, 0, 0, 0, 0, 0, 0, 0, 0, 0, 0, 0, 0, 0, 0, 0, 0, 0, 0, 0, 0, 0, 0, 0, 0, 0, 0, 0, 0, 0, 0, 0, 0, 0, 0, 0, 0, 0, 0, 0, 0, 0, 0, 0, 0, 0, 0, 0, 0, 0, 0, 0, 0, 0, 0, 0, 0, 0, 0, 0, 0, 0, 0, 0, 0, 0, 0, 0, 0, 0, 0, 0, 0, 0, 0, 0, 0, 1, 1, 1, 1, 1, 1, 1, 1, 1, 1, 1, 1, 1, 1, 1, 1, 1, 1, 1, 1, 1, 1, 1, 1, 1, 1, 1, 1, 1, 1, 1, 1, 1, 1, 1, 1, 1, 1, 1, 1, 1, 1, 1, 1, 1, 1, 1, 1, 1, 1, 1, 1, 1, 1, 1, 1, 1, 1, 1, 1, 1, 1, 1, 1, 1, 1, 1, 1, 1, 1, 1, 1, 1, 1, 1, 1, 1, 1, 1, 1, 1, 1, 1, 1, 1, 1, 1, 1, 1, 1, 1, 1, 1, 1, 1, 1, 1, 1, 1, 1, 1, 1, 1, 1, 1, 1, 1, 1, 1, 1, 1, 1, 1, 1, 1, 1, 1, 1, 1, 1, 1, 1, 1, 1, 1, 1, 1, 1, 1, 1, 1, 1, 1, 1, 1, 1, 1, 1, 1, 1, 1, 1, 1, 1, 1, 1, 1, 1, 1, 1, 1, 1, 1, 1, 1, 1, 1, 1, 1, 1, 1, 1, 1, 1, 1, 1, 1, 1, 1, 1, 1, 1, 1, 1, 1, 1, 1, 1, 1, 1, 1, 1, 1, 1, 1, 1, 1, 1, 1, 1, 1, 1, 1, 1, 1, 1, 1, 1, 1, 1, 1, 1, 1, 1, 1, 1, 1, 1, 1, 1, 1, 1, 1, 1, 1, 1, 1, 1, 1, 1, 1, 1, 1, 1, 1, 1, 1, 1, 1, 1, 1, 1, 1, 1, 1, 1, 1, 1, 1, 1, 1, 1, 1, 1, 1, 1, 1, 1, 1, 1, 1, 1, 1, 1, 1, 1, 1, 1, 1, 1, 1, 1, 1, 1, 1, 1, 1, 1, 1, 1, 1, 1, 1, 1, 1, 1, 1, 1, 1, 1, 1, 1, 1, 1, 1, 1, 1, 1, 1, 1, 1, 1, 1, 1, 1, 1, 1, 1, 1, 1, 1, 1, 1, 1, 1, 1, 1, 1, 1, 1, 1, 1, 1, 1, 1, 1, 1, 1, 1, 1, 1, 1, 1, 1, 1, 1, 1, 1, 1, 1, 1, 1, 1, 1, 1, 1, 1, 1, 1, 1, 1, 1, 1, 1, 1, 1, 1, 1, 1, 1, 1, 1, 1, 1, 1, 1, 1, 1, 1, 1, 1, 1, 1, 1, 1, 1, 1, 1, 1, 1, 1, 1, 1, 1, 1, 1, 1, 1, 1, 1, 1, 1, 1, 1, 1, 1, 1, 1, 1, 1, 1, 1, 1, 1, 1, 1, 1, 1, 1, 1, 1, 1, 1, 1, 1, 1, 1, 1, 1, 1, 1, 1, 1, 1, 1, 1, 1, 1, 1, 1, 1, 1, 1, 1, 1, 1, 1, 1, 1, 1, 1, 1, 1, 1, 1, 1, 1, 1, 1, 1, 1, 1, 1, 1, 1, 1, 1, 1, 1, 1, 1, 1, 1, 1, 1, 1, 1, 1, 1, 1, 1, 1, 1, 1, 1, 1, 1, 1, 1, 1, 1, 1, 1, 1, 1, 1, 1, 1, 1, 1, 1, 1, 1, 1, 1, 1, 1, 1, 1, 1, 1, 1, 1, 1, 1, 1, 1, 1, 1, 1, 2, 2, 2, 2, 2, 2, 2, 2, 2, 2, 2, 2, 2, 2, 2, 2, 2, 2, 2, 2, 2, 2, 2, 2, 2, 2, 2, 2, 2, 2, 2, 2, 2, 2, 2, 2, 2, 2, 2, 2, 2, 2, 2, 2, 2, 2, 2, 2, 2, 2, 2, 2, 2, 2, 2, 2, 2, 2, 2, 2, 2, 2, 2, 2, 2, 2, 2, 2, 2, 2, 2, 2, 2, 2, 2, 2, 2, 2, 2, 2, 2, 2, 2, 2, 2, 2, 2, 2, 2, 2, 2, 2, 2, 2, 2, 2, 2, 2, 2, 2, 2, 2, 2, 2, 2, 2, 2, 2, 2, 2, 2, 2, 2, 2, 2, 2, 2, 2, 2, 2, 2, 2, 2, 2, 2, 2, 2, 2, 2, 2, 2, 2, 2, 2, 2, 2, 2, 2, 2, 2, 2, 2, 2, 2, 2, 2, 2, 2, 2, 2, 2, 2, 2, 2, 2, 2, 2, 2, 2, 2, 2, 2, 2, 2, 2, 2, 2, 2, 2, 2, 2, 2, 2, 2, 2, 2, 2, 2, 2, 2, 2, 2, 2, 2, 2, 2, 2, 2, 2, 2, 2, 2, 2, 2, 2, 2, 2, 2, 2, 2, 2, 2, 2, 2, 2, 2, 2, 2, 2, 2, 2, 2, 2, 2, 2, 2, 2, 2, 2, 2, 2, 2, 2, 2, 2, 2, 2, 2, 2, 2, 2, 2, 2, 2, 2, 2, 2, 2, 2, 2, 2, 2, 2, 2, 2, 2, 2, 2, 2, 2, 2, 2, 2, 2, 2, 2, 2, 2, 2, 2, 2, 2, 2, 2, 2, 2, 2, 2, 2, 2, 2, 2, 2, 2, 2, 2, 2, 2, 2, 2, 2, 2, 2, 2, 2, 2, 2, 2, 2, 2, 2, 2, 2, 2, 2, 2, 2, 2, 2, 2, 2, 2, 2, 2, 2, 2, 2, 2, 2, 2, 2, 2, 2, 2, 2, 2, 2, 2, 2, 2, 2, 2, 2, 2, 2, 2, 2, 2, 2, 2, 2, 2, 2, 2, 2, 2, 2, 2, 2, 2, 2, 2, 2, 2, 2, 2, 2, 2, 2, 2, 2, 2, 2, 2, 2, 2, 2, 2, 2, 2, 2, 2, 2, 2, 2, 2, 2, 2, 2, 2, 2, 2, 2, 2, 2, 2, 2, 2, 2, 2, 2, 2, 2, 2, 2, 2, 2, 2, 2, 2, 2, 2, 2, 2, 2, 2, 2, 2, 2, 2, 2, 2, 2, 2, 2, 2, 2, 2, 2, 2, 2, 2, 2, 2, 2, 2, 2, 2, 2, 2, 2, 2, 2, 2, 2, 2, 2, 2, 2, 2, 2, 2, 2, 2, 2, 2, 2, 2, 2, 2, 2, 2, 2, 2, 2, 2, 2, 2, 2, 2, 2, 2, 2, 2, 2, 2, 2, 2, 2, 2, 2, 2, 2, 2, 2, 2, 2, 2, 2, 2, 2, 2, 2, 2, 2, 2, 2, 2, 2, 2, 2, 2, 2, 2, 2, 2, 2, 2, 2, 2, 2, 2, 2, 2, 2, 2, 2, 2, 2, 2, 2, 2, 2, 2, 2, 2, 2, 2, 2, 2, 2, 2, 2, 2, 2, 2, 2, 2, 2, 2, 3, 3, 3, 3, 3, 3, 3, 3, 3, 3, 3, 3, 3, 3, 3, 3, 3, 3, 3, 3, 3, 3, 3, 3, 3, 3, 3, 3, 3, 3, 3, 3, 3, 3, 3, 3, 3, 3, 3, 3, 3, 3, 3, 3, 3, 3, 3, 3, 3, 3, 3, 3, 3, 3, 3, 3, 3, 3, 3, 3, 3, 3, 3, 3, 3, 3, 3, 3, 3, 3, 3, 3, 3, 3, 3, 3, 3, 3, 3, 3, 3, 3, 3, 3, 3, 3, 3, 3, 3, 3, 3, 3, 3, 3, 3, 3, 3, 3, 3, 3, 3, 3, 3, 3, 3, 3, 3, 3, 3, 3, 3, 3, 3, 3, 3, 3, 3, 3, 3, 3, 3, 3, 3, 3, 3, 3, 3, 3, 3, 3, 3, 3, 3, 3, 3, 3, 3, 3, 3, 3, 3, 3, 3, 3, 3, 3, 3, 3, 3, 3, 3, 3, 3, 3, 3, 3, 3, 3, 3, 3, 3, 3, 3, 3, 3, 3, 3, 3, 3, 3, 3, 3, 3, 3, 3, 3, 3, 3, 3, 3, 3, 3, 3, 3, 3, 3, 3, 3, 3, 3, 3, 3, 3, 3, 3, 3, 3, 3, 3, 3, 3, 3, 3, 3, 3, 3, 3, 3, 3, 3, 3, 3, 3, 3, 3, 3, 3, 3, 3, 3, 3, 3, 3, 3, 3, 3, 3, 3, 3, 3, 3, 3, 3, 3, 3, 3, 3, 3, 3, 3, 3, 3, 3, 3, 3, 3, 3, 3, 3, 3, 3, 3, 3, 3, 3, 3, 3, 3, 3, 3, 3, 3, 3, 3, 3, 3, 3, 3, 3, 3, 3, 3, 3, 3, 3, 3, 3, 3, 3, 3, 3, 3, 3, 3, 3, 3, 3, 3, 3, 3, 3, 3, 3, 3, 3, 3, 3, 3, 3, 3, 3, 3, 3, 3, 3, 3, 3, 3, 3, 3, 3, 3, 3, 3, 3, 3, 3, 3, 3, 3, 3, 3, 3, 3, 3, 3, 3, 3, 3, 3, 3, 3, 3, 3, 3, 3, 3, 3, 3, 3, 3, 3, 3, 3, 3, 3, 3, 3, 3, 3, 3, 3, 3, 3, 3, 3, 3, 3, 3, 3, 3, 3, 3, 3, 3, 3, 3, 3, 3, 3, 3, 3, 3, 3, 3, 3, 3, 3, 3, 3, 3, 3, 3, 3, 3, 3, 3, 3, 3, 3, 3, 3, 3, 3, 3, 3, 3, 3, 3, 3, 3, 3, 3, 3, 3, 3, 3, 3, 3, 3, 3, 3, 3, 3, 3, 3, 3, 3, 3, 3, 3, 3, 3, 3, 3, 3, 3, 3, 3, 3, 3, 3, 3, 3, 3, 3, 3, 3, 3, 3, 3, 3, 3, 3, 3, 3, 3, 3, 3, 3, 3, 3, 3, 3, 3, 3, 3, 3, 3, 3, 3, 3, 3, 3, 3, 3, 3, 3, 3, 3, 3, 3, 3, 3, 3, 3, 3, 3, 3, 3, 3, 3, 3, 3, 3, 3, 3, 3, 3, 3, 3, 3, 3, 3, 3, 3, 3, 3, 3, 3], [0, 0, 0, 0, 0, 0, 0, 0, 0, 0, 0, 0, 0, 0, 0, 0, 0, 0, 0, 0, 1, 1, 1, 1, 1, 1, 1, 1, 1, 1, 1, 1, 1, 1, 1, 1, 1, 1, 1, 1, 2, 2, 2, 2, 2, 2, 2, 2, 2, 2, 2, 2, 2, 2, 2, 2, 2, 2, 2, 2, 3, 3, 3, 3, 3, 3, 3, 3, 3, 3, 3, 3, 3, 3, 3, 3, 3, 3, 3, 3, 4, 4, 4, 4, 4, 4, 4, 4, 4, 4, 4, 4, 4, 4, 4, 4, 4, 4, 4, 4, 5, 5, 5, 5, 5, 5, 5, 5, 5, 5, 5, 5, 5, 5, 5, 5, 5, 5, 5, 5, 6, 6, 6, 6, 6, 6, 6, 6, 6, 6, 6, 6, 6, 6, 6, 6, 6, 6, 6, 6, 7, 7, 7, 7, 7, 7, 7, 7, 7, 7, 7, 7, 7, 7, 7, 7, 7, 7, 7, 7, 8, 8, 8, 8, 8, 8, 8, 8, 8, 8, 8, 8, 8, 8, 8, 8, 8, 8, 8, 8, 9, 9, 9, 9, 9, 9, 9, 9, 9, 9, 9, 9, 9, 9, 9, 9, 9, 9, 9, 9, 13, 13, 13, 13, 13, 13, 13, 13, 13, 13, 13, 13, 13, 13, 13, 13, 13, 13, 13, 13, 14, 14, 14, 14, 14, 14, 14, 14, 14, 14, 14, 14, 14, 14, 14, 14, 14, 14, 14, 14, 0, 0, 0, 0, 0, 0, 0, 0, 0, 0, 0, 0, 0, 0, 0, 0, 0, 0, 0, 0, 1, 1, 1, 1, 1, 1, 1, 1, 1, 1, 1, 1, 1, 1, 1, 1, 1, 1, 1, 1, 2, 2, 2, 2, 2, 2, 2, 2, 2, 2, 2, 2, 2, 2, 2, 2, 2, 2, 2, 2, 3, 3, 3, 3, 3, 3, 3, 3, 3, 3, 3, 3, 3, 3, 3, 3, 3, 3, 3, 3, 4, 4, 4, 4, 4, 4, 4, 4, 4, 4, 4, 4, 4, 4, 4, 4, 4, 4, 4, 4, 5, 5, 5, 5, 5, 5, 5, 5, 5, 5, 5, 5, 5, 5, 5, 5, 5, 5, 5, 5, 6, 6, 6, 6, 6, 6, 6, 6, 6, 6, 6, 6, 6, 6, 6, 6, 6, 6, 6, 6, 7, 7, 7, 7, 7, 7, 7, 7, 7, 7, 7, 7, 7, 7, 7, 7, 7, 7, 7, 7, 8, 8, 8, 8, 8, 8, 8, 8, 8, 8, 8, 8, 8, 8, 8, 8, 8, 8, 8, 8, 9, 9, 9, 9, 9, 9, 9, 9, 9, 9, 9, 9, 9, 9, 9, 9, 9, 9, 9, 9, 10, 10, 10, 10, 10, 10, 10, 10, 10, 10, 10, 10, 10, 10, 10, 10, 10, 10, 10, 10, 11, 11, 11, 11, 11, 11, 11, 11, 11, 11, 11, 11, 11, 11, 11, 11, 11, 11, 11, 11, 12, 12, 12, 12, 12, 12, 12, 12, 12, 12, 12, 12, 12, 12, 12, 12, 12, 12, 12, 12, 13, 13, 13, 13, 13, 13, 13, 13, 13, 13, 13, 13, 13, 13, 13, 13, 13, 13, 13, 13, 14, 14, 14, 14, 14, 14, 14, 14, 14, 14, 14, 14, 14, 14, 14, 14, 14, 14, 14, 14, 15, 15, 15, 15, 15, 15, 15, 15, 15, 15, 15, 15, 15, 15, 15, 15, 15, 15, 15, 15, 16, 16, 16, 16, 16, 16, 16, 16, 16, 16, 16, 16, 16, 16, 16, 16, 16, 16, 16, 16, 17, 17, 17, 17, 17, 17, 17, 17, 17, 17, 17, 17, 17, 17, 17, 17, 17, 17, 17, 17, 18, 18, 18, 18, 18, 18, 18, 18, 18, 18, 18, 18, 18, 18, 18, 18, 18, 18, 18, 18, 19, 19, 19, 19, 19, 19, 19, 19, 19, 19, 19, 19, 19, 19, 19, 19, 19, 19, 19, 19, 20, 20, 20, 20, 20, 20, 20, 20, 20, 20, 20, 20, 20, 20, 20, 20, 20, 20, 20, 20, 21, 21, 21, 21, 21, 21, 21, 21, 21, 21, 21, 21, 21, 21, 21, 21, 21, 21, 21, 21, 22, 22, 22, 22, 22, 22, 22, 22, 22, 22, 22, 22, 22, 22, 22, 22, 22, 22, 22, 22, 23, 23, 23, 23, 23, 23, 23, 23, 23, 23, 23, 23, 23, 23, 23, 23, 23, 23, 23, 23, 26, 26, 26, 26, 26, 26, 26, 26, 26, 26, 26, 26, 26, 26, 26, 26, 26, 26, 26, 26, 0, 0, 0, 0, 0, 0, 0, 0, 0, 0, 0, 0, 0, 0, 0, 0, 0, 0, 0, 0, 1, 1, 1, 1, 1, 1, 1, 1, 1, 1, 1, 1, 1, 1, 1, 1, 1, 1, 1, 1, 2, 2, 2, 2, 2, 2, 2, 2, 2, 2, 2, 2, 2, 2, 2, 2, 2, 2, 2, 2, 3, 3, 3, 3, 3, 3, 3, 3, 3, 3, 3, 3, 3, 3, 3, 3, 3, 3, 3, 3, 4, 4, 4, 4, 4, 4, 4, 4, 4, 4, 4, 4, 4, 4, 4, 4, 4, 4, 4, 4, 5, 5, 5, 5, 5, 5, 5, 5, 5, 5, 5, 5, 5, 5, 5, 5, 5, 5, 5, 5, 6, 6, 6, 6, 6, 6, 6, 6, 6, 6, 6, 6, 6, 6, 6, 6, 6, 6, 6, 6, 7, 7, 7, 7, 7, 7, 7, 7, 7, 7, 7, 7, 7, 7, 7, 7, 7, 7, 7, 7, 8, 8, 8, 8, 8, 8, 8, 8, 8, 8, 8, 8, 8, 8, 8, 8, 8, 8, 8, 8, 9, 9, 9, 9, 9, 9, 9, 9, 9, 9, 9, 9, 9, 9, 9, 9, 9, 9, 9, 9, 10, 10, 10, 10, 10, 10, 10, 10, 10, 10, 10, 10, 10, 10, 10, 10, 10, 10, 10, 10, 11, 11, 11, 11, 11, 11, 11, 11, 11, 11, 11, 11, 11, 11, 11, 11, 11, 11, 11, 11, 12, 12, 12, 12, 12, 12, 12, 12, 12, 12, 12, 12, 12, 12, 12, 12, 12, 12, 12, 12, 13, 13, 13, 13, 13, 13, 13, 13, 13, 13, 13, 13, 13, 13, 13, 13, 13, 13, 13, 13, 14, 14, 14, 14, 14, 14, 14, 14, 14, 14, 14, 14, 14, 14, 14, 14, 14, 14, 14, 14, 15, 15, 15, 15, 15, 15, 15, 15, 15, 15, 15, 15, 15, 15, 15, 15, 15, 15, 15, 15, 16, 16, 16, 16, 16, 16, 16, 16, 16, 16, 16, 16, 16, 16, 16, 16, 16, 16, 16, 16, 17, 17, 17, 17, 17, 17, 17, 17, 17, 17, 17, 17, 17, 17, 17, 17, 17, 17, 17, 17, 18, 18, 18, 18, 18, 18, 18, 18, 18, 18, 18, 18, 18, 18, 18, 18, 18, 18, 18, 18, 19, 19, 19, 19, 19, 19, 19, 19, 19, 19, 19, 19, 19, 19, 19, 19, 19, 19, 19, 19, 20, 20, 20, 20, 20, 20, 20, 20, 20, 20, 20, 20, 20, 20, 20, 20, 20, 20, 20, 20, 21, 21, 21, 21, 21, 21, 21, 21, 21, 21, 21, 21, 21, 21, 21, 21, 21, 21, 21, 21, 22, 22, 22, 22, 22, 22, 22, 22, 22, 22, 22, 22, 22, 22, 22, 22, 22, 22, 22, 22, 23, 23, 23, 23, 23, 23, 23, 23, 23, 23, 23, 23, 23, 23, 23, 23, 23, 23, 23, 23, 24, 24, 24, 24, 24, 24, 24, 24, 24, 24, 24, 24, 24, 24, 24, 24, 24, 24, 24, 24, 25, 25, 25, 25, 25, 25, 25, 25, 25, 25, 25, 25, 25, 25, 25, 25, 25, 25, 25, 25, 0, 0, 0, 0, 0, 0, 0, 0, 0, 0, 0, 0, 0, 0, 0, 0, 0, 0, 0, 0, 1, 1, 1, 1, 1, 1, 1, 1, 1, 1, 1, 1, 1, 1, 1, 1, 1, 1, 1, 1, 2, 2, 2, 2, 2, 2, 2, 2, 2, 2, 2, 2, 2, 2, 2, 2, 2, 2, 2, 2, 3, 3, 3, 3, 3, 3, 3, 3, 3, 3, 3, 3, 3, 3, 3, 3, 3, 3, 3, 3, 4, 4, 4, 4, 4, 4, 4, 4, 4, 4, 4, 4, 4, 4, 4, 4, 4, 4, 4, 4, 5, 5, 5, 5, 5, 5, 5, 5, 5, 5, 5, 5, 5, 5, 5, 5, 5, 5, 5, 5, 6, 6, 6, 6, 6, 6, 6, 6, 6, 6, 6, 6, 6, 6, 6, 6, 6, 6, 6, 6, 7, 7, 7, 7, 7, 7, 7, 7, 7, 7, 7, 7, 7, 7, 7, 7, 7, 7, 7, 7, 8, 8, 8, 8, 8, 8, 8, 8, 8, 8, 8, 8, 8, 8, 8, 8, 8, 8, 8, 8, 9, 9, 9, 9, 9, 9, 9, 9, 9, 9, 9, 9, 9, 9, 9, 9, 9, 9, 9, 9, 10, 10, 10, 10, 10, 10, 10, 10, 10, 10, 10, 10, 10, 10, 10, 10, 10, 10, 10, 10, 11, 11, 11, 11, 11, 11, 11, 11, 11, 11, 11, 11, 11, 11, 11, 11, 11, 11, 11, 11, 12, 12, 12, 12, 12, 12, 12, 12, 12, 12, 12, 12, 12, 12, 12, 12, 12, 12, 12, 12, 13, 13, 13, 13, 13, 13, 13, 13, 13, 13, 13, 13, 13, 13, 13, 13, 13, 13, 13, 13, 14, 14, 14, 14, 14, 14, 14, 14, 14, 14, 14, 14, 14, 14, 14, 14, 14, 14, 14, 14, 15, 15, 15, 15, 15, 15, 15, 15, 15, 15, 15, 15, 15, 15, 15, 15, 15, 15, 15, 15, 16, 16, 16, 16, 16, 16, 16, 16, 16, 16, 16, 16, 16, 16, 16, 16, 16, 16, 16, 16, 17, 17, 17, 17, 17, 17, 17, 17, 17, 17, 17, 17, 17, 17, 17, 17, 17, 17, 17, 17, 18, 18, 18, 18, 18, 18, 18, 18, 18, 18, 18, 18, 18, 18, 18, 18, 18, 18, 18, 18, 19, 19, 19, 19, 19, 19, 19, 19, 19, 19, 19, 19, 19, 19, 19, 19, 19, 19, 19, 19, 20, 20, 20, 20, 20, 20, 20, 20, 20, 20, 20, 20, 20, 20, 20, 20, 20, 20, 20, 20, 21, 21, 21, 21, 21, 21, 21, 21, 21, 21, 21, 21, 21, 21, 21, 21, 21, 21, 21, 21, 22, 22, 22, 22, 22, 22, 22, 22, 22, 22, 22, 22, 22, 22, 22, 22, 22, 22, 22, 22, 23, 23, 23, 23, 23, 23, 23, 23, 23, 23, 23, 23, 23, 23, 23, 23, 23, 23, 23, 23, 24, 24, 24, 24, 24, 24, 24, 24, 24, 24, 24, 24, 24, 24, 24, 24, 24, 24, 24, 24], [0, 0, 0, 0, 0, 0, 0, 0, 0, 0, 1, 1, 1, 1, 1, 1, 1, 1, 1, 1, 0, 0, 0, 0, 0, 0, 0, 0, 0, 0, 1, 1, 1, 1, 1, 1, 1, 1, 1, 1, 0, 0, 0, 0, 0, 0, 0, 0, 0, 0, 1, 1, 1, 1, 1, 1, 1, 1, 1, 1, 0, 0, 0, 0, 0, 0, 0, 0, 0, 0, 1, 1, 1, 1, 1, 1, 1, 1, 1, 1, 0, 0, 0, 0, 0, 0, 0, 0, 0, 0, 1, 1, 1, 1, 1, 1, 1, 1, 1, 1, 0, 0, 0, 0, 0, 0, 0, 0, 0, 0, 1, 1, 1, 1, 1, 1, 1, 1, 1, 1, 0, 0, 0, 0, 0, 0, 0, 0, 0, 0, 1, 1, 1, 1, 1, 1, 1, 1, 1, 1, 0, 0, 0, 0, 0, 0, 0, 0, 0, 0, 1, 1, 1, 1, 1, 1, 1, 1, 1, 1, 0, 0, 0, 0, 0, 0, 0, 0, 0, 0, 1, 1, 1, 1, 1, 1, 1, 1, 1, 1, 0, 0, 0, 0, 0, 0, 0, 0, 0, 0, 1, 1, 1, 1, 1, 1, 1, 1, 1, 1, 0, 0, 0, 0, 0, 0, 0, 0, 0, 0, 1, 1, 1, 1, 1, 1, 1, 1, 1, 1, 0, 0, 0, 0, 0, 0, 0, 0, 0, 0, 1, 1, 1, 1, 1, 1, 1, 1, 1, 1, 0, 0, 0, 0, 0, 0, 0, 0, 0, 0, 1, 1, 1, 1, 1, 1, 1, 1, 1, 1, 0, 0, 0, 0, 0, 0, 0, 0, 0, 0, 1, 1, 1, 1, 1, 1, 1, 1, 1, 1, 0, 0, 0, 0, 0, 0, 0, 0, 0, 0, 1, 1, 1, 1, 1, 1, 1, 1, 1, 1, 0, 0, 0, 0, 0, 0, 0, 0, 0, 0, 1, 1, 1, 1, 1, 1, 1, 1, 1, 1, 0, 0, 0, 0, 0, 0, 0, 0, 0, 0, 1, 1, 1, 1, 1, 1, 1, 1, 1, 1, 0, 0, 0, 0, 0, 0, 0, 0, 0, 0, 1, 1, 1, 1, 1, 1, 1, 1, 1, 1, 0, 0, 0, 0, 0, 0, 0, 0, 0, 0, 1, 1, 1, 1, 1, 1, 1, 1, 1, 1, 0, 0, 0, 0, 0, 0, 0, 0, 0, 0, 1, 1, 1, 1, 1, 1, 1, 1, 1, 1, 0, 0, 0, 0, 0, 0, 0, 0, 0, 0, 1, 1, 1, 1, 1, 1, 1, 1, 1, 1, 0, 0, 0, 0, 0, 0, 0, 0, 0, 0, 1, 1, 1, 1, 1, 1, 1, 1, 1, 1, 0, 0, 0, 0, 0, 0, 0, 0, 0, 0, 1, 1, 1, 1, 1, 1, 1, 1, 1, 1, 0, 0, 0, 0, 0, 0, 0, 0, 0, 0, 1, 1, 1, 1, 1, 1, 1, 1, 1, 1, 0, 0, 0, 0, 0, 0, 0, 0, 0, 0, 1, 1, 1, 1, 1, 1, 1, 1, 1, 1, 0, 0, 0, 0, 0, 0, 0, 0, 0, 0, 1, 1, 1, 1, 1, 1, 1, 1, 1, 1, 0, 0, 0, 0, 0, 0, 0, 0, 0, 0, 1, 1, 1, 1, 1, 1, 1, 1, 1, 1, 0, 0, 0, 0, 0, 0, 0, 0, 0, 0, 1, 1, 1, 1, 1, 1, 1, 1, 1, 1, 0, 0, 0, 0, 0, 0, 0, 0, 0, 0, 1, 1, 1, 1, 1, 1, 1, 1, 1, 1, 0, 0, 0, 0, 0, 0, 0, 0, 0, 0, 1, 1, 1, 1, 1, 1, 1, 1, 1, 1, 0, 0, 0, 0, 0, 0, 0, 0, 0, 0, 1, 1, 1, 1, 1, 1, 1, 1, 1, 1, 0, 0, 0, 0, 0, 0, 0, 0, 0, 0, 1, 1, 1, 1, 1, 1, 1, 1, 1, 1, 0, 0, 0, 0, 0, 0, 0, 0, 0, 0, 1, 1, 1, 1, 1, 1, 1, 1, 1, 1, 0, 0, 0, 0, 0, 0, 0, 0, 0, 0, 1, 1, 1, 1, 1, 1, 1, 1, 1, 1, 0, 0, 0, 0, 0, 0, 0, 0, 0, 0, 1, 1, 1, 1, 1, 1, 1, 1, 1, 1, 0, 0, 0, 0, 0, 0, 0, 0, 0, 0, 1, 1, 1, 1, 1, 1, 1, 1, 1, 1, 0, 0, 0, 0, 0, 0, 0, 0, 0, 0, 1, 1, 1, 1, 1, 1, 1, 1, 1, 1, 0, 0, 0, 0, 0, 0, 0, 0, 0, 0, 1, 1, 1, 1, 1, 1, 1, 1, 1, 1, 0, 0, 0, 0, 0, 0, 0, 0, 0, 0, 1, 1, 1, 1, 1, 1, 1, 1, 1, 1, 0, 0, 0, 0, 0, 0, 0, 0, 0, 0, 1, 1, 1, 1, 1, 1, 1, 1, 1, 1, 0, 0, 0, 0, 0, 0, 0, 0, 0, 0, 1, 1, 1, 1, 1, 1, 1, 1, 1, 1, 0, 0, 0, 0, 0, 0, 0, 0, 0, 0, 1, 1, 1, 1, 1, 1, 1, 1, 1, 1, 0, 0, 0, 0, 0, 0, 0, 0, 0, 0, 1, 1, 1, 1, 1, 1, 1, 1, 1, 1, 0, 0, 0, 0, 0, 0, 0, 0, 0, 0, 1, 1, 1, 1, 1, 1, 1, 1, 1, 1, 0, 0, 0, 0, 0, 0, 0, 0, 0, 0, 1, 1, 1, 1, 1, 1, 1, 1, 1, 1, 0, 0, 0, 0, 0, 0, 0, 0, 0, 0, 1, 1, 1, 1, 1, 1, 1, 1, 1, 1, 0, 0, 0, 0, 0, 0, 0, 0, 0, 0, 1, 1, 1, 1, 1, 1, 1, 1, 1, 1, 0, 0, 0, 0, 0, 0, 0, 0, 0, 0, 1, 1, 1, 1, 1, 1, 1, 1, 1, 1, 0, 0, 0, 0, 0, 0, 0, 0, 0, 0, 1, 1, 1, 1, 1, 1, 1, 1, 1, 1, 0, 0, 0, 0, 0, 0, 0, 0, 0, 0, 1, 1, 1, 1, 1, 1, 1, 1, 1, 1, 0, 0, 0, 0, 0, 0, 0, 0, 0, 0, 1, 1, 1, 1, 1, 1, 1, 1, 1, 1, 0, 0, 0, 0, 0, 0, 0, 0, 0, 0, 1, 1, 1, 1, 1, 1, 1, 1, 1, 1, 0, 0, 0, 0, 0, 0, 0, 0, 0, 0, 1, 1, 1, 1, 1, 1, 1, 1, 1, 1, 0, 0, 0, 0, 0, 0, 0, 0, 0, 0, 1, 1, 1, 1, 1, 1, 1, 1, 1, 1, 0, 0, 0, 0, 0, 0, 0, 0, 0, 0, 1, 1, 1, 1, 1, 1, 1, 1, 1, 1, 0, 0, 0, 0, 0, 0, 0, 0, 0, 0, 1, 1, 1, 1, 1, 1, 1, 1, 1, 1, 0, 0, 0, 0, 0, 0, 0, 0, 0, 0, 1, 1, 1, 1, 1, 1, 1, 1, 1, 1, 0, 0, 0, 0, 0, 0, 0, 0, 0, 0, 1, 1, 1, 1, 1, 1, 1, 1, 1, 1, 0, 0, 0, 0, 0, 0, 0, 0, 0, 0, 1, 1, 1, 1, 1, 1, 1, 1, 1, 1, 0, 0, 0, 0, 0, 0, 0, 0, 0, 0, 1, 1, 1, 1, 1, 1, 1, 1, 1, 1, 0, 0, 0, 0, 0, 0, 0, 0, 0, 0, 1, 1, 1, 1, 1, 1, 1, 1, 1, 1, 0, 0, 0, 0, 0, 0, 0, 0, 0, 0, 1, 1, 1, 1, 1, 1, 1, 1, 1, 1, 0, 0, 0, 0, 0, 0, 0, 0, 0, 0, 1, 1, 1, 1, 1, 1, 1, 1, 1, 1, 0, 0, 0, 0, 0, 0, 0, 0, 0, 0, 1, 1, 1, 1, 1, 1, 1, 1, 1, 1, 0, 0, 0, 0, 0, 0, 0, 0, 0, 0, 1, 1, 1, 1, 1, 1, 1, 1, 1, 1, 0, 0, 0, 0, 0, 0, 0, 0, 0, 0, 1, 1, 1, 1, 1, 1, 1, 1, 1, 1, 0, 0, 0, 0, 0, 0, 0, 0, 0, 0, 1, 1, 1, 1, 1, 1, 1, 1, 1, 1, 0, 0, 0, 0, 0, 0, 0, 0, 0, 0, 1, 1, 1, 1, 1, 1, 1, 1, 1, 1, 0, 0, 0, 0, 0, 0, 0, 0, 0, 0, 1, 1, 1, 1, 1, 1, 1, 1, 1, 1, 0, 0, 0, 0, 0, 0, 0, 0, 0, 0, 1, 1, 1, 1, 1, 1, 1, 1, 1, 1, 0, 0, 0, 0, 0, 0, 0, 0, 0, 0, 1, 1, 1, 1, 1, 1, 1, 1, 1, 1, 0, 0, 0, 0, 0, 0, 0, 0, 0, 0, 1, 1, 1, 1, 1, 1, 1, 1, 1, 1, 0, 0, 0, 0, 0, 0, 0, 0, 0, 0, 1, 1, 1, 1, 1, 1, 1, 1, 1, 1, 0, 0, 0, 0, 0, 0, 0, 0, 0, 0, 1, 1, 1, 1, 1, 1, 1, 1, 1, 1, 0, 0, 0, 0, 0, 0, 0, 0, 0, 0, 1, 1, 1, 1, 1, 1, 1, 1, 1, 1, 0, 0, 0, 0, 0, 0, 0, 0, 0, 0, 1, 1, 1, 1, 1, 1, 1, 1, 1, 1, 0, 0, 0, 0, 0, 0, 0, 0, 0, 0, 1, 1, 1, 1, 1, 1, 1, 1, 1, 1, 0, 0, 0, 0, 0, 0, 0, 0, 0, 0, 1, 1, 1, 1, 1, 1, 1, 1, 1, 1, 0, 0, 0, 0, 0, 0, 0, 0, 0, 0, 1, 1, 1, 1, 1, 1, 1, 1, 1, 1, 0, 0, 0, 0, 0, 0, 0, 0, 0, 0, 1, 1, 1, 1, 1, 1, 1, 1, 1, 1, 0, 0, 0, 0, 0, 0, 0, 0, 0, 0, 1, 1, 1, 1, 1, 1, 1, 1, 1, 1, 0, 0, 0, 0, 0, 0, 0, 0, 0, 0, 1, 1, 1, 1, 1, 1, 1, 1, 1, 1, 0, 0, 0, 0, 0, 0, 0, 0, 0, 0, 1, 1, 1, 1, 1, 1, 1, 1, 1, 1, 0, 0, 0, 0, 0, 0, 0, 0, 0, 0, 1, 1, 1, 1, 1, 1, 1, 1, 1, 1, 0, 0, 0, 0, 0, 0, 0, 0, 0, 0, 1, 1, 1, 1, 1, 1, 1, 1, 1, 1, 0, 0, 0, 0, 0, 0, 0, 0, 0, 0, 1, 1, 1, 1, 1, 1, 1, 1, 1, 1, 0, 0, 0, 0, 0, 0, 0, 0, 0, 0, 1, 1, 1, 1, 1, 1, 1, 1, 1, 1, 0, 0, 0, 0, 0, 0, 0, 0, 0, 0, 1, 1, 1, 1, 1, 1, 1, 1, 1, 1], [0, 1, 2, 3, 4, 5, 6, 7, 8, 9, 0, 1, 2, 3, 4, 5, 6, 7, 8, 9, 0, 1, 2, 3, 4, 5, 6, 7, 8, 9, 0, 1, 2, 3, 4, 5, 6, 7, 8, 9, 0, 1, 2, 3, 4, 5, 6, 7, 8, 9, 0, 1, 2, 3, 4, 5, 6, 7, 8, 9, 0, 1, 2, 3, 4, 5, 6, 7, 8, 9, 0, 1, 2, 3, 4, 5, 6, 7, 8, 9, 0, 1, 2, 3, 4, 5, 6, 7, 8, 9, 0, 1, 2, 3, 4, 5, 6, 7, 8, 9, 0, 1, 2, 3, 4, 5, 6, 7, 8, 9, 0, 1, 2, 3, 4, 5, 6, 7, 8, 9, 0, 1, 2, 3, 4, 5, 6, 7, 8, 9, 0, 1, 2, 3, 4, 5, 6, 7, 8, 9, 0, 1, 2, 3, 4, 5, 6, 7, 8, 9, 0, 1, 2, 3, 4, 5, 6, 7, 8, 9, 0, 1, 2, 3, 4, 5, 6, 7, 8, 9, 0, 1, 2, 3, 4, 5, 6, 7, 8, 9, 0, 1, 2, 3, 4, 5, 6, 7, 8, 9, 0, 1, 2, 3, 4, 5, 6, 7, 8, 9, 0, 1, 2, 3, 4, 5, 6, 7, 8, 9, 0, 1, 2, 3, 4, 5, 6, 7, 8, 9, 0, 1, 2, 3, 4, 5, 6, 7, 8, 9, 0, 1, 2, 3, 4, 5, 6, 7, 8, 9, 0, 1, 2, 3, 4, 5, 6, 7, 8, 9, 0, 1, 2, 3, 4, 5, 6, 7, 8, 9, 0, 1, 2, 3, 4, 5, 6, 7, 8, 9, 0, 1, 2, 3, 4, 5, 6, 7, 8, 9, 0, 1, 2, 3, 4, 5, 6, 7, 8, 9, 0, 1, 2, 3, 4, 5, 6, 7, 8, 9, 0, 1, 2, 3, 4, 5, 6, 7, 8, 9, 0, 1, 2, 3, 4, 5, 6, 7, 8, 9, 0, 1, 2, 3, 4, 5, 6, 7, 8, 9, 0, 1, 2, 3, 4, 5, 6, 7, 8, 9, 0, 1, 2, 3, 4, 5, 6, 7, 8, 9, 0, 1, 2, 3, 4, 5, 6, 7, 8, 9, 0, 1, 2, 3, 4, 5, 6, 7, 8, 9, 0, 1, 2, 3, 4, 5, 6, 7, 8, 9, 0, 1, 2, 3, 4, 5, 6, 7, 8, 9, 0, 1, 2, 3, 4, 5, 6, 7, 8, 9, 0, 1, 2, 3, 4, 5, 6, 7, 8, 9, 0, 1, 2, 3, 4, 5, 6, 7, 8, 9, 0, 1, 2, 3, 4, 5, 6, 7, 8, 9, 0, 1, 2, 3, 4, 5, 6, 7, 8, 9, 0, 1, 2, 3, 4, 5, 6, 7, 8, 9, 0, 1, 2, 3, 4, 5, 6, 7, 8, 9, 0, 1, 2, 3, 4, 5, 6, 7, 8, 9, 0, 1, 2, 3, 4, 5, 6, 7, 8, 9, 0, 1, 2, 3, 4, 5, 6, 7, 8, 9, 0, 1, 2, 3, 4, 5, 6, 7, 8, 9, 0, 1, 2, 3, 4, 5, 6, 7, 8, 9, 0, 1, 2, 3, 4, 5, 6, 7, 8, 9, 0, 1, 2, 3, 4, 5, 6, 7, 8, 9, 0, 1, 2, 3, 4, 5, 6, 7, 8, 9, 0, 1, 2, 3, 4, 5, 6, 7, 8, 9, 0, 1, 2, 3, 4, 5, 6, 7, 8, 9, 0, 1, 2, 3, 4, 5, 6, 7, 8, 9, 0, 1, 2, 3, 4, 5, 6, 7, 8, 9, 0, 1, 2, 3, 4, 5, 6, 7, 8, 9, 0, 1, 2, 3, 4, 5, 6, 7, 8, 9, 0, 1, 2, 3, 4, 5, 6, 7, 8, 9, 0, 1, 2, 3, 4, 5, 6, 7, 8, 9, 0, 1, 2, 3, 4, 5, 6, 7, 8, 9, 0, 1, 2, 3, 4, 5, 6, 7, 8, 9, 0, 1, 2, 3, 4, 5, 6, 7, 8, 9, 0, 1, 2, 3, 4, 5, 6, 7, 8, 9, 0, 1, 2, 3, 4, 5, 6, 7, 8, 9, 0, 1, 2, 3, 4, 5, 6, 7, 8, 9, 0, 1, 2, 3, 4, 5, 6, 7, 8, 9, 0, 1, 2, 3, 4, 5, 6, 7, 8, 9, 0, 1, 2, 3, 4, 5, 6, 7, 8, 9, 0, 1, 2, 3, 4, 5, 6, 7, 8, 9, 0, 1, 2, 3, 4, 5, 6, 7, 8, 9, 0, 1, 2, 3, 4, 5, 6, 7, 8, 9, 0, 1, 2, 3, 4, 5, 6, 7, 8, 9, 0, 1, 2, 3, 4, 5, 6, 7, 8, 9, 0, 1, 2, 3, 4, 5, 6, 7, 8, 9, 0, 1, 2, 3, 4, 5, 6, 7, 8, 9, 0, 1, 2, 3, 4, 5, 6, 7, 8, 9, 0, 1, 2, 3, 4, 5, 6, 7, 8, 9, 0, 1, 2, 3, 4, 5, 6, 7, 8, 9, 0, 1, 2, 3, 4, 5, 6, 7, 8, 9, 0, 1, 2, 3, 4, 5, 6, 7, 8, 9, 0, 1, 2, 3, 4, 5, 6, 7, 8, 9, 0, 1, 2, 3, 4, 5, 6, 7, 8, 9, 0, 1, 2, 3, 4, 5, 6, 7, 8, 9, 0, 1, 2, 3, 4, 5, 6, 7, 8, 9, 0, 1, 2, 3, 4, 5, 6, 7, 8, 9, 0, 1, 2, 3, 4, 5, 6, 7, 8, 9, 0, 1, 2, 3, 4, 5, 6, 7, 8, 9, 0, 1, 2, 3, 4, 5, 6, 7, 8, 9, 0, 1, 2, 3, 4, 5, 6, 7, 8, 9, 0, 1, 2, 3, 4, 5, 6, 7, 8, 9, 0, 1, 2, 3, 4, 5, 6, 7, 8, 9, 0, 1, 2, 3, 4, 5, 6, 7, 8, 9, 0, 1, 2, 3, 4, 5, 6, 7, 8, 9, 0, 1, 2, 3, 4, 5, 6, 7, 8, 9, 0, 1, 2, 3, 4, 5, 6, 7, 8, 9, 0, 1, 2, 3, 4, 5, 6, 7, 8, 9, 0, 1, 2, 3, 4, 5, 6, 7, 8, 9, 0, 1, 2, 3, 4, 5, 6, 7, 8, 9, 0, 1, 2, 3, 4, 5, 6, 7, 8, 9, 0, 1, 2, 3, 4, 5, 6, 7, 8, 9, 0, 1, 2, 3, 4, 5, 6, 7, 8, 9, 0, 1, 2, 3, 4, 5, 6, 7, 8, 9, 0, 1, 2, 3, 4, 5, 6, 7, 8, 9, 0, 1, 2, 3, 4, 5, 6, 7, 8, 9, 0, 1, 2, 3, 4, 5, 6, 7, 8, 9, 0, 1, 2, 3, 4, 5, 6, 7, 8, 9, 0, 1, 2, 3, 4, 5, 6, 7, 8, 9, 0, 1, 2, 3, 4, 5, 6, 7, 8, 9, 0, 1, 2, 3, 4, 5, 6, 7, 8, 9, 0, 1, 2, 3, 4, 5, 6, 7, 8, 9, 0, 1, 2, 3, 4, 5, 6, 7, 8, 9, 0, 1, 2, 3, 4, 5, 6, 7, 8, 9, 0, 1, 2, 3, 4, 5, 6, 7, 8, 9, 0, 1, 2, 3, 4, 5, 6, 7, 8, 9, 0, 1, 2, 3, 4, 5, 6, 7, 8, 9, 0, 1, 2, 3, 4, 5, 6, 7, 8, 9, 0, 1, 2, 3, 4, 5, 6, 7, 8, 9, 0, 1, 2, 3, 4, 5, 6, 7, 8, 9, 0, 1, 2, 3, 4, 5, 6, 7, 8, 9, 0, 1, 2, 3, 4, 5, 6, 7, 8, 9, 0, 1, 2, 3, 4, 5, 6, 7, 8, 9, 0, 1, 2, 3, 4, 5, 6, 7, 8, 9, 0, 1, 2, 3, 4, 5, 6, 7, 8, 9, 0, 1, 2, 3, 4, 5, 6, 7, 8, 9, 0, 1, 2, 3, 4, 5, 6, 7, 8, 9, 0, 1, 2, 3, 4, 5, 6, 7, 8, 9, 0, 1, 2, 3, 4, 5, 6, 7, 8, 9, 0, 1, 2, 3, 4, 5, 6, 7, 8, 9, 0, 1, 2, 3, 4, 5, 6, 7, 8, 9, 0, 1, 2, 3, 4, 5, 6, 7, 8, 9, 0, 1, 2, 3, 4, 5, 6, 7, 8, 9, 0, 1, 2, 3, 4, 5, 6, 7, 8, 9, 0, 1, 2, 3, 4, 5, 6, 7, 8, 9, 0, 1, 2, 3, 4, 5, 6, 7, 8, 9, 0, 1, 2, 3, 4, 5, 6, 7, 8, 9, 0, 1, 2, 3, 4, 5, 6, 7, 8, 9, 0, 1, 2, 3, 4, 5, 6, 7, 8, 9, 0, 1, 2, 3, 4, 5, 6, 7, 8, 9, 0, 1, 2, 3, 4, 5, 6, 7, 8, 9, 0, 1, 2, 3, 4, 5, 6, 7, 8, 9, 0, 1, 2, 3, 4, 5, 6, 7, 8, 9, 0, 1, 2, 3, 4, 5, 6, 7, 8, 9, 0, 1, 2, 3, 4, 5, 6, 7, 8, 9, 0, 1, 2, 3, 4, 5, 6, 7, 8, 9, 0, 1, 2, 3, 4, 5, 6, 7, 8, 9, 0, 1, 2, 3, 4, 5, 6, 7, 8, 9, 0, 1, 2, 3, 4, 5, 6, 7, 8, 9, 0, 1, 2, 3, 4, 5, 6, 7, 8, 9, 0, 1, 2, 3, 4, 5, 6, 7, 8, 9, 0, 1, 2, 3, 4, 5, 6, 7, 8, 9, 0, 1, 2, 3, 4, 5, 6, 7, 8, 9, 0, 1, 2, 3, 4, 5, 6, 7, 8, 9, 0, 1, 2, 3, 4, 5, 6, 7, 8, 9, 0, 1, 2, 3, 4, 5, 6, 7, 8, 9, 0, 1, 2, 3, 4, 5, 6, 7, 8, 9, 0, 1, 2, 3, 4, 5, 6, 7, 8, 9, 0, 1, 2, 3, 4, 5, 6, 7, 8, 9, 0, 1, 2, 3, 4, 5, 6, 7, 8, 9, 0, 1, 2, 3, 4, 5, 6, 7, 8, 9, 0, 1, 2, 3, 4, 5, 6, 7, 8, 9, 0, 1, 2, 3, 4, 5, 6, 7, 8, 9, 0, 1, 2, 3, 4, 5, 6, 7, 8, 9, 0, 1, 2, 3, 4, 5, 6, 7, 8, 9, 0, 1, 2, 3, 4, 5, 6, 7, 8, 9, 0, 1, 2, 3, 4, 5, 6, 7, 8, 9, 0, 1, 2, 3, 4, 5, 6, 7, 8, 9, 0, 1, 2, 3, 4, 5, 6, 7, 8, 9, 0, 1, 2, 3, 4, 5, 6, 7, 8, 9, 0, 1, 2, 3, 4, 5, 6, 7, 8, 9, 0, 1, 2, 3, 4, 5, 6, 7, 8, 9, 0, 1, 2, 3, 4, 5, 6, 7, 8, 9, 0, 1, 2, 3, 4, 5, 6, 7, 8, 9, 0, 1, 2, 3, 4, 5, 6, 7, 8, 9]],\n",
       "           names=['participant_id', 'visit_code', 'buffer', 'analyte'])"
      ]
     },
     "execution_count": 55,
     "metadata": {},
     "output_type": "execute_result"
    }
   ],
   "source": [
    "long_data_h.index"
   ]
  },
  {
   "cell_type": "markdown",
   "metadata": {
    "slideshow": {
     "slide_type": "subslide"
    }
   },
   "source": [
    "Now we can filter a little easier:"
   ]
  },
  {
   "cell_type": "code",
   "execution_count": 56,
   "metadata": {
    "collapsed": false
   },
   "outputs": [
    {
     "data": {
      "text/html": [
       "<div>\n",
       "<table border=\"1\" class=\"dataframe\">\n",
       "  <thead>\n",
       "    <tr style=\"text-align: right;\">\n",
       "      <th></th>\n",
       "      <th></th>\n",
       "      <th>dilution</th>\n",
       "      <th>fi-bkgd</th>\n",
       "      <th>fi-bkgd-neg</th>\n",
       "      <th>cv</th>\n",
       "      <th>visit_date</th>\n",
       "      <th>sample_type</th>\n",
       "    </tr>\n",
       "    <tr>\n",
       "      <th>buffer</th>\n",
       "      <th>analyte</th>\n",
       "      <th></th>\n",
       "      <th></th>\n",
       "      <th></th>\n",
       "      <th></th>\n",
       "      <th></th>\n",
       "      <th></th>\n",
       "    </tr>\n",
       "  </thead>\n",
       "  <tbody>\n",
       "    <tr>\n",
       "      <th rowspan=\"10\" valign=\"top\">CIT</th>\n",
       "      <th>B.con.env03 140 CF (65)</th>\n",
       "      <td>50</td>\n",
       "      <td>45.8</td>\n",
       "      <td>40.0</td>\n",
       "      <td>0.0615</td>\n",
       "      <td>02/04/1900</td>\n",
       "      <td>PLA</td>\n",
       "    </tr>\n",
       "    <tr>\n",
       "      <th>Blank (53)</th>\n",
       "      <td>50</td>\n",
       "      <td>5.8</td>\n",
       "      <td>NaN</td>\n",
       "      <td>0.1179</td>\n",
       "      <td>02/04/1900</td>\n",
       "      <td>PLA</td>\n",
       "    </tr>\n",
       "    <tr>\n",
       "      <th>Con 6 gp120/B (72)</th>\n",
       "      <td>50</td>\n",
       "      <td>54.5</td>\n",
       "      <td>47.7</td>\n",
       "      <td>0.0620</td>\n",
       "      <td>02/04/1900</td>\n",
       "      <td>PLA</td>\n",
       "    </tr>\n",
       "    <tr>\n",
       "      <th>Con S gp140 CFI (3)</th>\n",
       "      <td>50</td>\n",
       "      <td>27.0</td>\n",
       "      <td>22.2</td>\n",
       "      <td>0.0808</td>\n",
       "      <td>02/04/1900</td>\n",
       "      <td>PLA</td>\n",
       "    </tr>\n",
       "    <tr>\n",
       "      <th>MulVgp70_His6 (49)</th>\n",
       "      <td>50</td>\n",
       "      <td>8.5</td>\n",
       "      <td>NaN</td>\n",
       "      <td>0.0270</td>\n",
       "      <td>02/04/1900</td>\n",
       "      <td>PLA</td>\n",
       "    </tr>\n",
       "    <tr>\n",
       "      <th>gp41 (44)</th>\n",
       "      <td>50</td>\n",
       "      <td>82.8</td>\n",
       "      <td>76.0</td>\n",
       "      <td>0.0566</td>\n",
       "      <td>02/04/1900</td>\n",
       "      <td>PLA</td>\n",
       "    </tr>\n",
       "    <tr>\n",
       "      <th>gp70_B.CaseA_V1_V2 (12)</th>\n",
       "      <td>50</td>\n",
       "      <td>55.5</td>\n",
       "      <td>47.0</td>\n",
       "      <td>0.1531</td>\n",
       "      <td>02/04/1900</td>\n",
       "      <td>PLA</td>\n",
       "    </tr>\n",
       "    <tr>\n",
       "      <th>p24 (19)</th>\n",
       "      <td>50</td>\n",
       "      <td>-29.0</td>\n",
       "      <td>-44.8</td>\n",
       "      <td>0.7380</td>\n",
       "      <td>02/04/1900</td>\n",
       "      <td>PLA</td>\n",
       "    </tr>\n",
       "    <tr>\n",
       "      <th>p31 (50)</th>\n",
       "      <td>50</td>\n",
       "      <td>85.5</td>\n",
       "      <td>79.7</td>\n",
       "      <td>0.0828</td>\n",
       "      <td>02/04/1900</td>\n",
       "      <td>PLA</td>\n",
       "    </tr>\n",
       "    <tr>\n",
       "      <th>p66 (RT) (42)</th>\n",
       "      <td>50</td>\n",
       "      <td>-25.0</td>\n",
       "      <td>-20.8</td>\n",
       "      <td>0.0154</td>\n",
       "      <td>02/04/1900</td>\n",
       "      <td>PLA</td>\n",
       "    </tr>\n",
       "    <tr>\n",
       "      <th rowspan=\"10\" valign=\"top\">PBS</th>\n",
       "      <th>B.con.env03 140 CF (65)</th>\n",
       "      <td>50</td>\n",
       "      <td>225.8</td>\n",
       "      <td>202.8</td>\n",
       "      <td>0.6061</td>\n",
       "      <td>02/04/1900</td>\n",
       "      <td>PLA</td>\n",
       "    </tr>\n",
       "    <tr>\n",
       "      <th>Blank (53)</th>\n",
       "      <td>50</td>\n",
       "      <td>24.0</td>\n",
       "      <td>NaN</td>\n",
       "      <td>0.0224</td>\n",
       "      <td>02/04/1900</td>\n",
       "      <td>PLA</td>\n",
       "    </tr>\n",
       "    <tr>\n",
       "      <th>Con 6 gp120/B (72)</th>\n",
       "      <td>50</td>\n",
       "      <td>75.5</td>\n",
       "      <td>52.5</td>\n",
       "      <td>0.0802</td>\n",
       "      <td>02/04/1900</td>\n",
       "      <td>PLA</td>\n",
       "    </tr>\n",
       "    <tr>\n",
       "      <th>Con S gp140 CFI (3)</th>\n",
       "      <td>50</td>\n",
       "      <td>298.5</td>\n",
       "      <td>274.5</td>\n",
       "      <td>1.0299</td>\n",
       "      <td>02/04/1900</td>\n",
       "      <td>PLA</td>\n",
       "    </tr>\n",
       "    <tr>\n",
       "      <th>MulVgp70_His6 (49)</th>\n",
       "      <td>50</td>\n",
       "      <td>72.4</td>\n",
       "      <td>NaN</td>\n",
       "      <td>0.0229</td>\n",
       "      <td>02/04/1900</td>\n",
       "      <td>PLA</td>\n",
       "    </tr>\n",
       "    <tr>\n",
       "      <th>gp41 (44)</th>\n",
       "      <td>50</td>\n",
       "      <td>759.5</td>\n",
       "      <td>745.5</td>\n",
       "      <td>0.8982</td>\n",
       "      <td>02/04/1900</td>\n",
       "      <td>PLA</td>\n",
       "    </tr>\n",
       "    <tr>\n",
       "      <th>gp70_B.CaseA_V1_V2 (12)</th>\n",
       "      <td>50</td>\n",
       "      <td>44.5</td>\n",
       "      <td>-46.8</td>\n",
       "      <td>0.0707</td>\n",
       "      <td>02/04/1900</td>\n",
       "      <td>PLA</td>\n",
       "    </tr>\n",
       "    <tr>\n",
       "      <th>p24 (19)</th>\n",
       "      <td>50</td>\n",
       "      <td>2460.4</td>\n",
       "      <td>2446.4</td>\n",
       "      <td>0.7052</td>\n",
       "      <td>02/04/1900</td>\n",
       "      <td>PLA</td>\n",
       "    </tr>\n",
       "    <tr>\n",
       "      <th>p31 (50)</th>\n",
       "      <td>50</td>\n",
       "      <td>454.8</td>\n",
       "      <td>429.8</td>\n",
       "      <td>0.1788</td>\n",
       "      <td>02/04/1900</td>\n",
       "      <td>PLA</td>\n",
       "    </tr>\n",
       "    <tr>\n",
       "      <th>p66 (RT) (42)</th>\n",
       "      <td>50</td>\n",
       "      <td>247.5</td>\n",
       "      <td>224.5</td>\n",
       "      <td>0.5218</td>\n",
       "      <td>02/04/1900</td>\n",
       "      <td>PLA</td>\n",
       "    </tr>\n",
       "  </tbody>\n",
       "</table>\n",
       "</div>"
      ],
      "text/plain": [
       "                                dilution  fi-bkgd  fi-bkgd-neg      cv  \\\n",
       "buffer analyte                                                           \n",
       "CIT    B.con.env03 140 CF (65)        50     45.8         40.0  0.0615   \n",
       "       Blank (53)                     50      5.8          NaN  0.1179   \n",
       "       Con 6 gp120/B (72)             50     54.5         47.7  0.0620   \n",
       "       Con S gp140 CFI (3)            50     27.0         22.2  0.0808   \n",
       "       MulVgp70_His6 (49)             50      8.5          NaN  0.0270   \n",
       "       gp41 (44)                      50     82.8         76.0  0.0566   \n",
       "       gp70_B.CaseA_V1_V2 (12)        50     55.5         47.0  0.1531   \n",
       "       p24 (19)                       50    -29.0        -44.8  0.7380   \n",
       "       p31 (50)                       50     85.5         79.7  0.0828   \n",
       "       p66 (RT) (42)                  50    -25.0        -20.8  0.0154   \n",
       "PBS    B.con.env03 140 CF (65)        50    225.8        202.8  0.6061   \n",
       "       Blank (53)                     50     24.0          NaN  0.0224   \n",
       "       Con 6 gp120/B (72)             50     75.5         52.5  0.0802   \n",
       "       Con S gp140 CFI (3)            50    298.5        274.5  1.0299   \n",
       "       MulVgp70_His6 (49)             50     72.4          NaN  0.0229   \n",
       "       gp41 (44)                      50    759.5        745.5  0.8982   \n",
       "       gp70_B.CaseA_V1_V2 (12)        50     44.5        -46.8  0.0707   \n",
       "       p24 (19)                       50   2460.4       2446.4  0.7052   \n",
       "       p31 (50)                       50    454.8        429.8  0.1788   \n",
       "       p66 (RT) (42)                  50    247.5        224.5  0.5218   \n",
       "\n",
       "                                 visit_date sample_type  \n",
       "buffer analyte                                           \n",
       "CIT    B.con.env03 140 CF (65)   02/04/1900         PLA  \n",
       "       Blank (53)                02/04/1900         PLA  \n",
       "       Con 6 gp120/B (72)        02/04/1900         PLA  \n",
       "       Con S gp140 CFI (3)       02/04/1900         PLA  \n",
       "       MulVgp70_His6 (49)        02/04/1900         PLA  \n",
       "       gp41 (44)                 02/04/1900         PLA  \n",
       "       gp70_B.CaseA_V1_V2 (12)   02/04/1900         PLA  \n",
       "       p24 (19)                  02/04/1900         PLA  \n",
       "       p31 (50)                  02/04/1900         PLA  \n",
       "       p66 (RT) (42)             02/04/1900         PLA  \n",
       "PBS    B.con.env03 140 CF (65)   02/04/1900         PLA  \n",
       "       Blank (53)                02/04/1900         PLA  \n",
       "       Con 6 gp120/B (72)        02/04/1900         PLA  \n",
       "       Con S gp140 CFI (3)       02/04/1900         PLA  \n",
       "       MulVgp70_His6 (49)        02/04/1900         PLA  \n",
       "       gp41 (44)                 02/04/1900         PLA  \n",
       "       gp70_B.CaseA_V1_V2 (12)   02/04/1900         PLA  \n",
       "       p24 (19)                  02/04/1900         PLA  \n",
       "       p31 (50)                  02/04/1900         PLA  \n",
       "       p66 (RT) (42)             02/04/1900         PLA  "
      ]
     },
     "execution_count": 56,
     "metadata": {},
     "output_type": "execute_result"
    }
   ],
   "source": [
    "long_data_h.ix['PL1', 0]"
   ]
  },
  {
   "cell_type": "code",
   "execution_count": 57,
   "metadata": {
    "collapsed": false
   },
   "outputs": [
    {
     "data": {
      "text/plain": [
       "analyte\n",
       "B.con.env03 140 CF (65)    0.6061\n",
       "Blank (53)                 0.0224\n",
       "Con 6 gp120/B (72)         0.0802\n",
       "Con S gp140 CFI (3)        1.0299\n",
       "MulVgp70_His6 (49)         0.0229\n",
       "gp41 (44)                  0.8982\n",
       "gp70_B.CaseA_V1_V2 (12)    0.0707\n",
       "p24 (19)                   0.7052\n",
       "p31 (50)                   0.1788\n",
       "p66 (RT) (42)              0.5218\n",
       "Name: cv, dtype: float64"
      ]
     },
     "execution_count": 57,
     "metadata": {},
     "output_type": "execute_result"
    }
   ],
   "source": [
    "long_data_h.ix['PL1', 0, 'PBS']['cv']"
   ]
  },
  {
   "cell_type": "markdown",
   "metadata": {
    "slideshow": {
     "slide_type": "subslide"
    }
   },
   "source": [
    "We can easily swap index levels as well:"
   ]
  },
  {
   "cell_type": "code",
   "execution_count": 58,
   "metadata": {
    "collapsed": false
   },
   "outputs": [
    {
     "data": {
      "text/html": [
       "<div>\n",
       "<table border=\"1\" class=\"dataframe\">\n",
       "  <thead>\n",
       "    <tr style=\"text-align: right;\">\n",
       "      <th></th>\n",
       "      <th></th>\n",
       "      <th></th>\n",
       "      <th></th>\n",
       "      <th>dilution</th>\n",
       "      <th>fi-bkgd</th>\n",
       "      <th>fi-bkgd-neg</th>\n",
       "      <th>cv</th>\n",
       "      <th>visit_date</th>\n",
       "      <th>sample_type</th>\n",
       "    </tr>\n",
       "    <tr>\n",
       "      <th>analyte</th>\n",
       "      <th>visit_code</th>\n",
       "      <th>buffer</th>\n",
       "      <th>participant_id</th>\n",
       "      <th></th>\n",
       "      <th></th>\n",
       "      <th></th>\n",
       "      <th></th>\n",
       "      <th></th>\n",
       "      <th></th>\n",
       "    </tr>\n",
       "  </thead>\n",
       "  <tbody>\n",
       "    <tr>\n",
       "      <th rowspan=\"30\" valign=\"top\">B.con.env03 140 CF (65)</th>\n",
       "      <th rowspan=\"8\" valign=\"top\">0</th>\n",
       "      <th rowspan=\"4\" valign=\"top\">CIT</th>\n",
       "      <th>PL1</th>\n",
       "      <td>50</td>\n",
       "      <td>45.8</td>\n",
       "      <td>40.000000</td>\n",
       "      <td>0.0615</td>\n",
       "      <td>02/04/1900</td>\n",
       "      <td>PLA</td>\n",
       "    </tr>\n",
       "    <tr>\n",
       "      <th>PL2</th>\n",
       "      <td>50</td>\n",
       "      <td>47.0</td>\n",
       "      <td>44.500000</td>\n",
       "      <td>0.0000</td>\n",
       "      <td>09/30/1899</td>\n",
       "      <td>PLA</td>\n",
       "    </tr>\n",
       "    <tr>\n",
       "      <th>SAL2</th>\n",
       "      <td>50</td>\n",
       "      <td>42.4</td>\n",
       "      <td>40.500000</td>\n",
       "      <td>0.1212</td>\n",
       "      <td>11/19/1899</td>\n",
       "      <td>PLA</td>\n",
       "    </tr>\n",
       "    <tr>\n",
       "      <th>URN2</th>\n",
       "      <td>50</td>\n",
       "      <td>48.5</td>\n",
       "      <td>44.744444</td>\n",
       "      <td>0.0700</td>\n",
       "      <td>10/14/1899</td>\n",
       "      <td>PLA</td>\n",
       "    </tr>\n",
       "    <tr>\n",
       "      <th rowspan=\"4\" valign=\"top\">PBS</th>\n",
       "      <th>PL1</th>\n",
       "      <td>50</td>\n",
       "      <td>225.8</td>\n",
       "      <td>202.800000</td>\n",
       "      <td>0.6061</td>\n",
       "      <td>02/04/1900</td>\n",
       "      <td>PLA</td>\n",
       "    </tr>\n",
       "    <tr>\n",
       "      <th>PL2</th>\n",
       "      <td>50</td>\n",
       "      <td>49.0</td>\n",
       "      <td>22.744444</td>\n",
       "      <td>0.0817</td>\n",
       "      <td>09/30/1899</td>\n",
       "      <td>PLA</td>\n",
       "    </tr>\n",
       "    <tr>\n",
       "      <th>SAL2</th>\n",
       "      <td>50</td>\n",
       "      <td>55.4</td>\n",
       "      <td>24.800000</td>\n",
       "      <td>0.1017</td>\n",
       "      <td>11/19/1899</td>\n",
       "      <td>PLA</td>\n",
       "    </tr>\n",
       "    <tr>\n",
       "      <th>URN2</th>\n",
       "      <td>50</td>\n",
       "      <td>55.5</td>\n",
       "      <td>46.500000</td>\n",
       "      <td>0.1709</td>\n",
       "      <td>10/14/1899</td>\n",
       "      <td>PLA</td>\n",
       "    </tr>\n",
       "    <tr>\n",
       "      <th rowspan=\"8\" valign=\"top\">1</th>\n",
       "      <th rowspan=\"4\" valign=\"top\">CIT</th>\n",
       "      <th>PL1</th>\n",
       "      <td>50</td>\n",
       "      <td>42.5</td>\n",
       "      <td>46.966667</td>\n",
       "      <td>0.2528</td>\n",
       "      <td>03/24/1901</td>\n",
       "      <td>PLA</td>\n",
       "    </tr>\n",
       "    <tr>\n",
       "      <th>PL2</th>\n",
       "      <td>50</td>\n",
       "      <td>69.4</td>\n",
       "      <td>64.800000</td>\n",
       "      <td>0.5787</td>\n",
       "      <td>01/06/1900</td>\n",
       "      <td>PLA</td>\n",
       "    </tr>\n",
       "    <tr>\n",
       "      <th>SAL2</th>\n",
       "      <td>50</td>\n",
       "      <td>52.8</td>\n",
       "      <td>42.000000</td>\n",
       "      <td>0.0687</td>\n",
       "      <td>08/10/1900</td>\n",
       "      <td>PLA</td>\n",
       "    </tr>\n",
       "    <tr>\n",
       "      <th>URN2</th>\n",
       "      <td>50</td>\n",
       "      <td>46.0</td>\n",
       "      <td>42.744444</td>\n",
       "      <td>0.1763</td>\n",
       "      <td>12/07/1900</td>\n",
       "      <td>PLA</td>\n",
       "    </tr>\n",
       "    <tr>\n",
       "      <th rowspan=\"4\" valign=\"top\">PBS</th>\n",
       "      <th>PL1</th>\n",
       "      <td>50</td>\n",
       "      <td>57.0</td>\n",
       "      <td>42.744444</td>\n",
       "      <td>0.0576</td>\n",
       "      <td>03/24/1901</td>\n",
       "      <td>PLA</td>\n",
       "    </tr>\n",
       "    <tr>\n",
       "      <th>PL2</th>\n",
       "      <td>50</td>\n",
       "      <td>48.8</td>\n",
       "      <td>24.400000</td>\n",
       "      <td>0.0217</td>\n",
       "      <td>01/06/1900</td>\n",
       "      <td>PLA</td>\n",
       "    </tr>\n",
       "    <tr>\n",
       "      <th>SAL2</th>\n",
       "      <td>50</td>\n",
       "      <td>74.8</td>\n",
       "      <td>44.400000</td>\n",
       "      <td>0.1768</td>\n",
       "      <td>08/10/1900</td>\n",
       "      <td>PLA</td>\n",
       "    </tr>\n",
       "    <tr>\n",
       "      <th>URN2</th>\n",
       "      <td>50</td>\n",
       "      <td>46.0</td>\n",
       "      <td>-29.000000</td>\n",
       "      <td>0.0056</td>\n",
       "      <td>12/07/1900</td>\n",
       "      <td>PLA</td>\n",
       "    </tr>\n",
       "    <tr>\n",
       "      <th rowspan=\"8\" valign=\"top\">2</th>\n",
       "      <th rowspan=\"4\" valign=\"top\">CIT</th>\n",
       "      <th>PL1</th>\n",
       "      <td>50</td>\n",
       "      <td>47.5</td>\n",
       "      <td>42.466667</td>\n",
       "      <td>0.1163</td>\n",
       "      <td>03/29/1901</td>\n",
       "      <td>PLA</td>\n",
       "    </tr>\n",
       "    <tr>\n",
       "      <th>PL2</th>\n",
       "      <td>50</td>\n",
       "      <td>46.5</td>\n",
       "      <td>42.000000</td>\n",
       "      <td>0.1088</td>\n",
       "      <td>01/11/1900</td>\n",
       "      <td>PLA</td>\n",
       "    </tr>\n",
       "    <tr>\n",
       "      <th>SAL2</th>\n",
       "      <td>50</td>\n",
       "      <td>42.8</td>\n",
       "      <td>22.000000</td>\n",
       "      <td>0.1010</td>\n",
       "      <td>08/13/1900</td>\n",
       "      <td>PLA</td>\n",
       "    </tr>\n",
       "    <tr>\n",
       "      <th>URN2</th>\n",
       "      <td>50</td>\n",
       "      <td>40.0</td>\n",
       "      <td>27.500000</td>\n",
       "      <td>0.1010</td>\n",
       "      <td>12/10/1900</td>\n",
       "      <td>PLA</td>\n",
       "    </tr>\n",
       "    <tr>\n",
       "      <th rowspan=\"4\" valign=\"top\">PBS</th>\n",
       "      <th>PL1</th>\n",
       "      <td>50</td>\n",
       "      <td>62.4</td>\n",
       "      <td>46.800000</td>\n",
       "      <td>0.1571</td>\n",
       "      <td>03/29/1901</td>\n",
       "      <td>PLA</td>\n",
       "    </tr>\n",
       "    <tr>\n",
       "      <th>PL2</th>\n",
       "      <td>50</td>\n",
       "      <td>57.4</td>\n",
       "      <td>44.800000</td>\n",
       "      <td>0.1237</td>\n",
       "      <td>01/11/1900</td>\n",
       "      <td>PLA</td>\n",
       "    </tr>\n",
       "    <tr>\n",
       "      <th>SAL2</th>\n",
       "      <td>50</td>\n",
       "      <td>42.4</td>\n",
       "      <td>9.800000</td>\n",
       "      <td>0.0756</td>\n",
       "      <td>08/13/1900</td>\n",
       "      <td>PLA</td>\n",
       "    </tr>\n",
       "    <tr>\n",
       "      <th>URN2</th>\n",
       "      <td>50</td>\n",
       "      <td>47.0</td>\n",
       "      <td>-7.266667</td>\n",
       "      <td>0.1369</td>\n",
       "      <td>12/10/1900</td>\n",
       "      <td>PLA</td>\n",
       "    </tr>\n",
       "    <tr>\n",
       "      <th rowspan=\"6\" valign=\"top\">3</th>\n",
       "      <th rowspan=\"4\" valign=\"top\">CIT</th>\n",
       "      <th>PL1</th>\n",
       "      <td>50</td>\n",
       "      <td>52.0</td>\n",
       "      <td>45.466667</td>\n",
       "      <td>0.0750</td>\n",
       "      <td>03/31/1901</td>\n",
       "      <td>PLA</td>\n",
       "    </tr>\n",
       "    <tr>\n",
       "      <th>PL2</th>\n",
       "      <td>50</td>\n",
       "      <td>44.0</td>\n",
       "      <td>28.000000</td>\n",
       "      <td>0.1571</td>\n",
       "      <td>01/14/1900</td>\n",
       "      <td>PLA</td>\n",
       "    </tr>\n",
       "    <tr>\n",
       "      <th>SAL2</th>\n",
       "      <td>50</td>\n",
       "      <td>44.4</td>\n",
       "      <td>44.266667</td>\n",
       "      <td>0.0397</td>\n",
       "      <td>08/17/1900</td>\n",
       "      <td>PLA</td>\n",
       "    </tr>\n",
       "    <tr>\n",
       "      <th>URN2</th>\n",
       "      <td>50</td>\n",
       "      <td>28.0</td>\n",
       "      <td>25.000000</td>\n",
       "      <td>0.0354</td>\n",
       "      <td>1900/12/13</td>\n",
       "      <td>PLA</td>\n",
       "    </tr>\n",
       "    <tr>\n",
       "      <th rowspan=\"2\" valign=\"top\">PBS</th>\n",
       "      <th>PL1</th>\n",
       "      <td>50</td>\n",
       "      <td>57.4</td>\n",
       "      <td>44.400000</td>\n",
       "      <td>0.0797</td>\n",
       "      <td>03/31/1901</td>\n",
       "      <td>PLA</td>\n",
       "    </tr>\n",
       "    <tr>\n",
       "      <th>PL2</th>\n",
       "      <td>50</td>\n",
       "      <td>92.8</td>\n",
       "      <td>68.044444</td>\n",
       "      <td>0.0259</td>\n",
       "      <td>01/14/1900</td>\n",
       "      <td>PLA</td>\n",
       "    </tr>\n",
       "    <tr>\n",
       "      <th>...</th>\n",
       "      <th>...</th>\n",
       "      <th>...</th>\n",
       "      <th>...</th>\n",
       "      <td>...</td>\n",
       "      <td>...</td>\n",
       "      <td>...</td>\n",
       "      <td>...</td>\n",
       "      <td>...</td>\n",
       "      <td>...</td>\n",
       "    </tr>\n",
       "    <tr>\n",
       "      <th rowspan=\"30\" valign=\"top\">p66 (RT) (42)</th>\n",
       "      <th rowspan=\"4\" valign=\"top\">20</th>\n",
       "      <th>CIT</th>\n",
       "      <th>URN2</th>\n",
       "      <td>50</td>\n",
       "      <td>42402.0</td>\n",
       "      <td>42275.000000</td>\n",
       "      <td>0.0027</td>\n",
       "      <td>10/02/1902</td>\n",
       "      <td>PLA</td>\n",
       "    </tr>\n",
       "    <tr>\n",
       "      <th rowspan=\"3\" valign=\"top\">PBS</th>\n",
       "      <th>PL2</th>\n",
       "      <td>50</td>\n",
       "      <td>42626.5</td>\n",
       "      <td>42594.000000</td>\n",
       "      <td>0.0000</td>\n",
       "      <td>11/21/1901</td>\n",
       "      <td>PLA</td>\n",
       "    </tr>\n",
       "    <tr>\n",
       "      <th>SAL2</th>\n",
       "      <td>50</td>\n",
       "      <td>42280.0</td>\n",
       "      <td>42062.244444</td>\n",
       "      <td>0.0078</td>\n",
       "      <td>06/20/1902</td>\n",
       "      <td>PLA</td>\n",
       "    </tr>\n",
       "    <tr>\n",
       "      <th>URN2</th>\n",
       "      <td>50</td>\n",
       "      <td>42626.0</td>\n",
       "      <td>42525.000000</td>\n",
       "      <td>0.0002</td>\n",
       "      <td>10/02/1902</td>\n",
       "      <td>PLA</td>\n",
       "    </tr>\n",
       "    <tr>\n",
       "      <th rowspan=\"6\" valign=\"top\">21</th>\n",
       "      <th rowspan=\"3\" valign=\"top\">CIT</th>\n",
       "      <th>PL2</th>\n",
       "      <td>50</td>\n",
       "      <td>20072.8</td>\n",
       "      <td>20060.800000</td>\n",
       "      <td>0.0712</td>\n",
       "      <td>02/09/1902</td>\n",
       "      <td>PLA</td>\n",
       "    </tr>\n",
       "    <tr>\n",
       "      <th>SAL2</th>\n",
       "      <td>50</td>\n",
       "      <td>42588.4</td>\n",
       "      <td>42548.000000</td>\n",
       "      <td>0.0002</td>\n",
       "      <td>09/12/1902</td>\n",
       "      <td>PLA</td>\n",
       "    </tr>\n",
       "    <tr>\n",
       "      <th>URN2</th>\n",
       "      <td>50</td>\n",
       "      <td>42606.8</td>\n",
       "      <td>42576.044444</td>\n",
       "      <td>0.0002</td>\n",
       "      <td>01/02/1903</td>\n",
       "      <td>PLA</td>\n",
       "    </tr>\n",
       "    <tr>\n",
       "      <th rowspan=\"3\" valign=\"top\">PBS</th>\n",
       "      <th>PL2</th>\n",
       "      <td>50</td>\n",
       "      <td>42586.0</td>\n",
       "      <td>42547.000000</td>\n",
       "      <td>0.0011</td>\n",
       "      <td>02/09/1902</td>\n",
       "      <td>PLA</td>\n",
       "    </tr>\n",
       "    <tr>\n",
       "      <th>SAL2</th>\n",
       "      <td>50</td>\n",
       "      <td>42992.5</td>\n",
       "      <td>42026.000000</td>\n",
       "      <td>0.0093</td>\n",
       "      <td>09/12/1902</td>\n",
       "      <td>PLA</td>\n",
       "    </tr>\n",
       "    <tr>\n",
       "      <th>URN2</th>\n",
       "      <td>50</td>\n",
       "      <td>42624.5</td>\n",
       "      <td>42509.000000</td>\n",
       "      <td>0.0000</td>\n",
       "      <td>01/02/1903</td>\n",
       "      <td>PLA</td>\n",
       "    </tr>\n",
       "    <tr>\n",
       "      <th rowspan=\"6\" valign=\"top\">22</th>\n",
       "      <th rowspan=\"3\" valign=\"top\">CIT</th>\n",
       "      <th>PL2</th>\n",
       "      <td>50</td>\n",
       "      <td>8040.8</td>\n",
       "      <td>8022.800000</td>\n",
       "      <td>0.0379</td>\n",
       "      <td>05/24/1902</td>\n",
       "      <td>PLA</td>\n",
       "    </tr>\n",
       "    <tr>\n",
       "      <th>SAL2</th>\n",
       "      <td>50</td>\n",
       "      <td>42422.8</td>\n",
       "      <td>42482.000000</td>\n",
       "      <td>0.0033</td>\n",
       "      <td>11/26/1902</td>\n",
       "      <td>PLA</td>\n",
       "    </tr>\n",
       "    <tr>\n",
       "      <th>URN2</th>\n",
       "      <td>50</td>\n",
       "      <td>42942.0</td>\n",
       "      <td>42900.700000</td>\n",
       "      <td>0.0080</td>\n",
       "      <td>03/08/1903</td>\n",
       "      <td>PLA</td>\n",
       "    </tr>\n",
       "    <tr>\n",
       "      <th rowspan=\"3\" valign=\"top\">PBS</th>\n",
       "      <th>PL2</th>\n",
       "      <td>50</td>\n",
       "      <td>42624.5</td>\n",
       "      <td>42590.000000</td>\n",
       "      <td>0.0000</td>\n",
       "      <td>05/24/1902</td>\n",
       "      <td>PLA</td>\n",
       "    </tr>\n",
       "    <tr>\n",
       "      <th>SAL2</th>\n",
       "      <td>50</td>\n",
       "      <td>42746.4</td>\n",
       "      <td>42550.800000</td>\n",
       "      <td>0.0004</td>\n",
       "      <td>11/26/1902</td>\n",
       "      <td>PLA</td>\n",
       "    </tr>\n",
       "    <tr>\n",
       "      <th>URN2</th>\n",
       "      <td>50</td>\n",
       "      <td>42782.4</td>\n",
       "      <td>42580.400000</td>\n",
       "      <td>0.0027</td>\n",
       "      <td>03/08/1903</td>\n",
       "      <td>PLA</td>\n",
       "    </tr>\n",
       "    <tr>\n",
       "      <th rowspan=\"6\" valign=\"top\">23</th>\n",
       "      <th rowspan=\"3\" valign=\"top\">CIT</th>\n",
       "      <th>PL2</th>\n",
       "      <td>50</td>\n",
       "      <td>6045.0</td>\n",
       "      <td>6026.244444</td>\n",
       "      <td>0.0260</td>\n",
       "      <td>07/31/1902</td>\n",
       "      <td>PLA</td>\n",
       "    </tr>\n",
       "    <tr>\n",
       "      <th>SAL2</th>\n",
       "      <td>50</td>\n",
       "      <td>42425.0</td>\n",
       "      <td>42269.200000</td>\n",
       "      <td>0.0020</td>\n",
       "      <td>02/15/1903</td>\n",
       "      <td>PLA</td>\n",
       "    </tr>\n",
       "    <tr>\n",
       "      <th>URN2</th>\n",
       "      <td>50</td>\n",
       "      <td>42492.5</td>\n",
       "      <td>42462.700000</td>\n",
       "      <td>0.0014</td>\n",
       "      <td>05/27/1903</td>\n",
       "      <td>PLA</td>\n",
       "    </tr>\n",
       "    <tr>\n",
       "      <th rowspan=\"3\" valign=\"top\">PBS</th>\n",
       "      <th>PL2</th>\n",
       "      <td>50</td>\n",
       "      <td>42526.4</td>\n",
       "      <td>42490.800000</td>\n",
       "      <td>0.0011</td>\n",
       "      <td>07/31/1902</td>\n",
       "      <td>PLA</td>\n",
       "    </tr>\n",
       "    <tr>\n",
       "      <th>SAL2</th>\n",
       "      <td>50</td>\n",
       "      <td>42455.0</td>\n",
       "      <td>42449.000000</td>\n",
       "      <td>0.0007</td>\n",
       "      <td>02/15/1903</td>\n",
       "      <td>PLA</td>\n",
       "    </tr>\n",
       "    <tr>\n",
       "      <th>URN2</th>\n",
       "      <td>50</td>\n",
       "      <td>42799.0</td>\n",
       "      <td>42667.244444</td>\n",
       "      <td>0.0013</td>\n",
       "      <td>05/27/1903</td>\n",
       "      <td>PLA</td>\n",
       "    </tr>\n",
       "    <tr>\n",
       "      <th rowspan=\"4\" valign=\"top\">24</th>\n",
       "      <th rowspan=\"2\" valign=\"top\">CIT</th>\n",
       "      <th>SAL2</th>\n",
       "      <td>50</td>\n",
       "      <td>42276.4</td>\n",
       "      <td>42244.000000</td>\n",
       "      <td>0.0028</td>\n",
       "      <td>05/14/1903</td>\n",
       "      <td>PLA</td>\n",
       "    </tr>\n",
       "    <tr>\n",
       "      <th>URN2</th>\n",
       "      <td>50</td>\n",
       "      <td>42524.4</td>\n",
       "      <td>42469.766667</td>\n",
       "      <td>0.0017</td>\n",
       "      <td>08/19/1903</td>\n",
       "      <td>PLA</td>\n",
       "    </tr>\n",
       "    <tr>\n",
       "      <th rowspan=\"2\" valign=\"top\">PBS</th>\n",
       "      <th>SAL2</th>\n",
       "      <td>50</td>\n",
       "      <td>42409.5</td>\n",
       "      <td>42424.500000</td>\n",
       "      <td>0.0014</td>\n",
       "      <td>05/14/1903</td>\n",
       "      <td>PLA</td>\n",
       "    </tr>\n",
       "    <tr>\n",
       "      <th>URN2</th>\n",
       "      <td>50</td>\n",
       "      <td>42657.5</td>\n",
       "      <td>42496.000000</td>\n",
       "      <td>0.0063</td>\n",
       "      <td>08/19/1903</td>\n",
       "      <td>PLA</td>\n",
       "    </tr>\n",
       "    <tr>\n",
       "      <th rowspan=\"2\" valign=\"top\">25</th>\n",
       "      <th>CIT</th>\n",
       "      <th>SAL2</th>\n",
       "      <td>50</td>\n",
       "      <td>40866.4</td>\n",
       "      <td>40840.500000</td>\n",
       "      <td>0.0037</td>\n",
       "      <td>08/02/1903</td>\n",
       "      <td>PLA</td>\n",
       "    </tr>\n",
       "    <tr>\n",
       "      <th>PBS</th>\n",
       "      <th>SAL2</th>\n",
       "      <td>50</td>\n",
       "      <td>42266.5</td>\n",
       "      <td>42274.500000</td>\n",
       "      <td>0.0008</td>\n",
       "      <td>08/02/1903</td>\n",
       "      <td>PLA</td>\n",
       "    </tr>\n",
       "    <tr>\n",
       "      <th rowspan=\"2\" valign=\"top\">27</th>\n",
       "      <th>CIT</th>\n",
       "      <th>PL2</th>\n",
       "      <td>50</td>\n",
       "      <td>28602.0</td>\n",
       "      <td>28592.000000</td>\n",
       "      <td>0.0027</td>\n",
       "      <td>05/14/1903</td>\n",
       "      <td>PLA</td>\n",
       "    </tr>\n",
       "    <tr>\n",
       "      <th>PBS</th>\n",
       "      <th>PL2</th>\n",
       "      <td>50</td>\n",
       "      <td>42597.8</td>\n",
       "      <td>42566.544444</td>\n",
       "      <td>0.0001</td>\n",
       "      <td>05/14/1903</td>\n",
       "      <td>PLA</td>\n",
       "    </tr>\n",
       "  </tbody>\n",
       "</table>\n",
       "<p>1760 rows × 6 columns</p>\n",
       "</div>"
      ],
      "text/plain": [
       "                                                          dilution  fi-bkgd  \\\n",
       "analyte                 visit_code buffer participant_id                      \n",
       "B.con.env03 140 CF (65) 0          CIT    PL1                   50     45.8   \n",
       "                                          PL2                   50     47.0   \n",
       "                                          SAL2                  50     42.4   \n",
       "                                          URN2                  50     48.5   \n",
       "                                   PBS    PL1                   50    225.8   \n",
       "                                          PL2                   50     49.0   \n",
       "                                          SAL2                  50     55.4   \n",
       "                                          URN2                  50     55.5   \n",
       "                        1          CIT    PL1                   50     42.5   \n",
       "                                          PL2                   50     69.4   \n",
       "                                          SAL2                  50     52.8   \n",
       "                                          URN2                  50     46.0   \n",
       "                                   PBS    PL1                   50     57.0   \n",
       "                                          PL2                   50     48.8   \n",
       "                                          SAL2                  50     74.8   \n",
       "                                          URN2                  50     46.0   \n",
       "                        2          CIT    PL1                   50     47.5   \n",
       "                                          PL2                   50     46.5   \n",
       "                                          SAL2                  50     42.8   \n",
       "                                          URN2                  50     40.0   \n",
       "                                   PBS    PL1                   50     62.4   \n",
       "                                          PL2                   50     57.4   \n",
       "                                          SAL2                  50     42.4   \n",
       "                                          URN2                  50     47.0   \n",
       "                        3          CIT    PL1                   50     52.0   \n",
       "                                          PL2                   50     44.0   \n",
       "                                          SAL2                  50     44.4   \n",
       "                                          URN2                  50     28.0   \n",
       "                                   PBS    PL1                   50     57.4   \n",
       "                                          PL2                   50     92.8   \n",
       "...                                                            ...      ...   \n",
       "p66 (RT) (42)           20         CIT    URN2                  50  42402.0   \n",
       "                                   PBS    PL2                   50  42626.5   \n",
       "                                          SAL2                  50  42280.0   \n",
       "                                          URN2                  50  42626.0   \n",
       "                        21         CIT    PL2                   50  20072.8   \n",
       "                                          SAL2                  50  42588.4   \n",
       "                                          URN2                  50  42606.8   \n",
       "                                   PBS    PL2                   50  42586.0   \n",
       "                                          SAL2                  50  42992.5   \n",
       "                                          URN2                  50  42624.5   \n",
       "                        22         CIT    PL2                   50   8040.8   \n",
       "                                          SAL2                  50  42422.8   \n",
       "                                          URN2                  50  42942.0   \n",
       "                                   PBS    PL2                   50  42624.5   \n",
       "                                          SAL2                  50  42746.4   \n",
       "                                          URN2                  50  42782.4   \n",
       "                        23         CIT    PL2                   50   6045.0   \n",
       "                                          SAL2                  50  42425.0   \n",
       "                                          URN2                  50  42492.5   \n",
       "                                   PBS    PL2                   50  42526.4   \n",
       "                                          SAL2                  50  42455.0   \n",
       "                                          URN2                  50  42799.0   \n",
       "                        24         CIT    SAL2                  50  42276.4   \n",
       "                                          URN2                  50  42524.4   \n",
       "                                   PBS    SAL2                  50  42409.5   \n",
       "                                          URN2                  50  42657.5   \n",
       "                        25         CIT    SAL2                  50  40866.4   \n",
       "                                   PBS    SAL2                  50  42266.5   \n",
       "                        27         CIT    PL2                   50  28602.0   \n",
       "                                   PBS    PL2                   50  42597.8   \n",
       "\n",
       "                                                           fi-bkgd-neg  \\\n",
       "analyte                 visit_code buffer participant_id                 \n",
       "B.con.env03 140 CF (65) 0          CIT    PL1                40.000000   \n",
       "                                          PL2                44.500000   \n",
       "                                          SAL2               40.500000   \n",
       "                                          URN2               44.744444   \n",
       "                                   PBS    PL1               202.800000   \n",
       "                                          PL2                22.744444   \n",
       "                                          SAL2               24.800000   \n",
       "                                          URN2               46.500000   \n",
       "                        1          CIT    PL1                46.966667   \n",
       "                                          PL2                64.800000   \n",
       "                                          SAL2               42.000000   \n",
       "                                          URN2               42.744444   \n",
       "                                   PBS    PL1                42.744444   \n",
       "                                          PL2                24.400000   \n",
       "                                          SAL2               44.400000   \n",
       "                                          URN2              -29.000000   \n",
       "                        2          CIT    PL1                42.466667   \n",
       "                                          PL2                42.000000   \n",
       "                                          SAL2               22.000000   \n",
       "                                          URN2               27.500000   \n",
       "                                   PBS    PL1                46.800000   \n",
       "                                          PL2                44.800000   \n",
       "                                          SAL2                9.800000   \n",
       "                                          URN2               -7.266667   \n",
       "                        3          CIT    PL1                45.466667   \n",
       "                                          PL2                28.000000   \n",
       "                                          SAL2               44.266667   \n",
       "                                          URN2               25.000000   \n",
       "                                   PBS    PL1                44.400000   \n",
       "                                          PL2                68.044444   \n",
       "...                                                                ...   \n",
       "p66 (RT) (42)           20         CIT    URN2            42275.000000   \n",
       "                                   PBS    PL2             42594.000000   \n",
       "                                          SAL2            42062.244444   \n",
       "                                          URN2            42525.000000   \n",
       "                        21         CIT    PL2             20060.800000   \n",
       "                                          SAL2            42548.000000   \n",
       "                                          URN2            42576.044444   \n",
       "                                   PBS    PL2             42547.000000   \n",
       "                                          SAL2            42026.000000   \n",
       "                                          URN2            42509.000000   \n",
       "                        22         CIT    PL2              8022.800000   \n",
       "                                          SAL2            42482.000000   \n",
       "                                          URN2            42900.700000   \n",
       "                                   PBS    PL2             42590.000000   \n",
       "                                          SAL2            42550.800000   \n",
       "                                          URN2            42580.400000   \n",
       "                        23         CIT    PL2              6026.244444   \n",
       "                                          SAL2            42269.200000   \n",
       "                                          URN2            42462.700000   \n",
       "                                   PBS    PL2             42490.800000   \n",
       "                                          SAL2            42449.000000   \n",
       "                                          URN2            42667.244444   \n",
       "                        24         CIT    SAL2            42244.000000   \n",
       "                                          URN2            42469.766667   \n",
       "                                   PBS    SAL2            42424.500000   \n",
       "                                          URN2            42496.000000   \n",
       "                        25         CIT    SAL2            40840.500000   \n",
       "                                   PBS    SAL2            42274.500000   \n",
       "                        27         CIT    PL2             28592.000000   \n",
       "                                   PBS    PL2             42566.544444   \n",
       "\n",
       "                                                              cv   visit_date  \\\n",
       "analyte                 visit_code buffer participant_id                        \n",
       "B.con.env03 140 CF (65) 0          CIT    PL1             0.0615   02/04/1900   \n",
       "                                          PL2             0.0000   09/30/1899   \n",
       "                                          SAL2            0.1212   11/19/1899   \n",
       "                                          URN2            0.0700   10/14/1899   \n",
       "                                   PBS    PL1             0.6061   02/04/1900   \n",
       "                                          PL2             0.0817   09/30/1899   \n",
       "                                          SAL2            0.1017   11/19/1899   \n",
       "                                          URN2            0.1709   10/14/1899   \n",
       "                        1          CIT    PL1             0.2528   03/24/1901   \n",
       "                                          PL2             0.5787   01/06/1900   \n",
       "                                          SAL2            0.0687   08/10/1900   \n",
       "                                          URN2            0.1763   12/07/1900   \n",
       "                                   PBS    PL1             0.0576   03/24/1901   \n",
       "                                          PL2             0.0217   01/06/1900   \n",
       "                                          SAL2            0.1768   08/10/1900   \n",
       "                                          URN2            0.0056   12/07/1900   \n",
       "                        2          CIT    PL1             0.1163   03/29/1901   \n",
       "                                          PL2             0.1088   01/11/1900   \n",
       "                                          SAL2            0.1010   08/13/1900   \n",
       "                                          URN2            0.1010   12/10/1900   \n",
       "                                   PBS    PL1             0.1571   03/29/1901   \n",
       "                                          PL2             0.1237   01/11/1900   \n",
       "                                          SAL2            0.0756   08/13/1900   \n",
       "                                          URN2            0.1369   12/10/1900   \n",
       "                        3          CIT    PL1             0.0750   03/31/1901   \n",
       "                                          PL2             0.1571   01/14/1900   \n",
       "                                          SAL2            0.0397   08/17/1900   \n",
       "                                          URN2            0.0354   1900/12/13   \n",
       "                                   PBS    PL1             0.0797   03/31/1901   \n",
       "                                          PL2             0.0259   01/14/1900   \n",
       "...                                                          ...          ...   \n",
       "p66 (RT) (42)           20         CIT    URN2            0.0027   10/02/1902   \n",
       "                                   PBS    PL2             0.0000   11/21/1901   \n",
       "                                          SAL2            0.0078   06/20/1902   \n",
       "                                          URN2            0.0002   10/02/1902   \n",
       "                        21         CIT    PL2             0.0712   02/09/1902   \n",
       "                                          SAL2            0.0002   09/12/1902   \n",
       "                                          URN2            0.0002   01/02/1903   \n",
       "                                   PBS    PL2             0.0011   02/09/1902   \n",
       "                                          SAL2            0.0093   09/12/1902   \n",
       "                                          URN2            0.0000   01/02/1903   \n",
       "                        22         CIT    PL2             0.0379   05/24/1902   \n",
       "                                          SAL2            0.0033   11/26/1902   \n",
       "                                          URN2            0.0080   03/08/1903   \n",
       "                                   PBS    PL2             0.0000   05/24/1902   \n",
       "                                          SAL2            0.0004   11/26/1902   \n",
       "                                          URN2            0.0027   03/08/1903   \n",
       "                        23         CIT    PL2             0.0260   07/31/1902   \n",
       "                                          SAL2            0.0020   02/15/1903   \n",
       "                                          URN2            0.0014   05/27/1903   \n",
       "                                   PBS    PL2             0.0011   07/31/1902   \n",
       "                                          SAL2            0.0007   02/15/1903   \n",
       "                                          URN2            0.0013   05/27/1903   \n",
       "                        24         CIT    SAL2            0.0028   05/14/1903   \n",
       "                                          URN2            0.0017   08/19/1903   \n",
       "                                   PBS    SAL2            0.0014   05/14/1903   \n",
       "                                          URN2            0.0063   08/19/1903   \n",
       "                        25         CIT    SAL2            0.0037   08/02/1903   \n",
       "                                   PBS    SAL2            0.0008   08/02/1903   \n",
       "                        27         CIT    PL2             0.0027   05/14/1903   \n",
       "                                   PBS    PL2             0.0001   05/14/1903   \n",
       "\n",
       "                                                         sample_type  \n",
       "analyte                 visit_code buffer participant_id              \n",
       "B.con.env03 140 CF (65) 0          CIT    PL1                    PLA  \n",
       "                                          PL2                    PLA  \n",
       "                                          SAL2                   PLA  \n",
       "                                          URN2                   PLA  \n",
       "                                   PBS    PL1                    PLA  \n",
       "                                          PL2                    PLA  \n",
       "                                          SAL2                   PLA  \n",
       "                                          URN2                   PLA  \n",
       "                        1          CIT    PL1                    PLA  \n",
       "                                          PL2                    PLA  \n",
       "                                          SAL2                   PLA  \n",
       "                                          URN2                   PLA  \n",
       "                                   PBS    PL1                    PLA  \n",
       "                                          PL2                    PLA  \n",
       "                                          SAL2                   PLA  \n",
       "                                          URN2                   PLA  \n",
       "                        2          CIT    PL1                    PLA  \n",
       "                                          PL2                    PLA  \n",
       "                                          SAL2                   PLA  \n",
       "                                          URN2                   PLA  \n",
       "                                   PBS    PL1                    PLA  \n",
       "                                          PL2                    PLA  \n",
       "                                          SAL2                   PLA  \n",
       "                                          URN2                   PLA  \n",
       "                        3          CIT    PL1                    PLA  \n",
       "                                          PL2                    PLA  \n",
       "                                          SAL2                   PLA  \n",
       "                                          URN2                   PLA  \n",
       "                                   PBS    PL1                    PLA  \n",
       "                                          PL2                    PLA  \n",
       "...                                                              ...  \n",
       "p66 (RT) (42)           20         CIT    URN2                   PLA  \n",
       "                                   PBS    PL2                    PLA  \n",
       "                                          SAL2                   PLA  \n",
       "                                          URN2                   PLA  \n",
       "                        21         CIT    PL2                    PLA  \n",
       "                                          SAL2                   PLA  \n",
       "                                          URN2                   PLA  \n",
       "                                   PBS    PL2                    PLA  \n",
       "                                          SAL2                   PLA  \n",
       "                                          URN2                   PLA  \n",
       "                        22         CIT    PL2                    PLA  \n",
       "                                          SAL2                   PLA  \n",
       "                                          URN2                   PLA  \n",
       "                                   PBS    PL2                    PLA  \n",
       "                                          SAL2                   PLA  \n",
       "                                          URN2                   PLA  \n",
       "                        23         CIT    PL2                    PLA  \n",
       "                                          SAL2                   PLA  \n",
       "                                          URN2                   PLA  \n",
       "                                   PBS    PL2                    PLA  \n",
       "                                          SAL2                   PLA  \n",
       "                                          URN2                   PLA  \n",
       "                        24         CIT    SAL2                   PLA  \n",
       "                                          URN2                   PLA  \n",
       "                                   PBS    SAL2                   PLA  \n",
       "                                          URN2                   PLA  \n",
       "                        25         CIT    SAL2                   PLA  \n",
       "                                   PBS    SAL2                   PLA  \n",
       "                        27         CIT    PL2                    PLA  \n",
       "                                   PBS    PL2                    PLA  \n",
       "\n",
       "[1760 rows x 6 columns]"
      ]
     },
     "execution_count": 58,
     "metadata": {},
     "output_type": "execute_result"
    }
   ],
   "source": [
    "long_data_h.swaplevel('analyte', 'participant_id').sort_index()"
   ]
  },
  {
   "cell_type": "markdown",
   "metadata": {
    "slideshow": {
     "slide_type": "slide"
    }
   },
   "source": [
    "# Regular Expressions (regex)\n",
    "\n",
    "## What are Regular Expressions & what can we do with them?"
   ]
  },
  {
   "cell_type": "markdown",
   "metadata": {
    "slideshow": {
     "slide_type": "fragment"
    }
   },
   "source": [
    "  * Funny name: In the 50s, mathematician Stephen Kleene found that regular language is constructed by patterns, called regular expressions"
   ]
  },
  {
   "cell_type": "markdown",
   "metadata": {
    "slideshow": {
     "slide_type": "fragment"
    }
   },
   "source": [
    "  * Regular expressions are a collection of patterns we can use to process nearly any text\n"
   ]
  },
  {
   "cell_type": "markdown",
   "metadata": {
    "slideshow": {
     "slide_type": "fragment"
    }
   },
   "source": [
    "  * Contructed using a combination of metacharacters: characters with a special meaning used to concisely define patterns"
   ]
  },
  {
   "cell_type": "markdown",
   "metadata": {
    "slideshow": {
     "slide_type": "fragment"
    }
   },
   "source": [
    "Understanding regex is valuable as they can be used in many tools besides Python, such as good text editors and Unix commands. Using a text editor that supports regex can solve many data munging problems without having to write any code at all."
   ]
  },
  {
   "cell_type": "markdown",
   "metadata": {
    "slideshow": {
     "slide_type": "fragment"
    }
   },
   "source": [
    "Before we begin using regular expressions in Python let's have an overview using the online regex tool:\n",
    "\n",
    "https://www.regex101.com/#python"
   ]
  },
  {
   "cell_type": "markdown",
   "metadata": {
    "slideshow": {
     "slide_type": "subslide"
    }
   },
   "source": [
    "## Global Modifier g\n",
    "\n",
    "In the \"TEST STRING\" text box type\n",
    "\n",
    "```\n",
    "grey gray\n",
    "```\n",
    "\n",
    "Now, in the \"REGULAR EXPRESSION\" input field type the regular expression:\n",
    "\n",
    "```\n",
    "gr\n",
    "```\n",
    "\n",
    "Only the first 2 letters of the 1st word are highlighted. To find all occurences we need to perform a global search. To do this, we need to use a regex modifier. Type the letter \"g\" in the 2nd input field."
   ]
  },
  {
   "cell_type": "markdown",
   "metadata": {},
   "source": [
    "## Capture Groups ( )\n",
    "\n",
    "Note the helpful explanation and match information on the right hand side. There are no \"capture groups\" extracted, even though we found a match. To create a capture group use parentheses:\n",
    "\n",
    "```\n",
    "(gr)\n",
    "```\n",
    "\n",
    "You can have as many capture groups as you want, and even capture strings inside a capture group."
   ]
  },
  {
   "cell_type": "markdown",
   "metadata": {},
   "source": [
    "## Capture either or using |\n",
    "\n",
    "Using a pipe within the capture group we can specify matching on multiple phrases:\n",
    "\n",
    "(grey|gray)"
   ]
  },
  {
   "cell_type": "markdown",
   "metadata": {},
   "source": [
    "## Single character wildcard .\n",
    "\n",
    "To capture either spelling variation we can use the single character wildcard \".\":\n",
    "\n",
    "```\n",
    "(gr.y)\n",
    "```\n",
    "\n",
    "The single character wildcard matches any character except a new line."
   ]
  },
  {
   "cell_type": "markdown",
   "metadata": {},
   "source": [
    "## Character Classes [ ]\n",
    "\n",
    "The wildcard will also match misspellings. Edit our TEST STRING to:\n",
    "\n",
    "```\n",
    "grey gray grzy\n",
    "```\n",
    "\n",
    "We can fix this using a character class to match only \"e\" or \"a\". Character classes are created using square brackets, \n",
    "\n",
    "```\n",
    "(gr[ea]y)\n",
    "```\n",
    "\n",
    "The square brackets match a single character matching any character included in the list (very similar to the list syntax in Python)"
   ]
  },
  {
   "cell_type": "markdown",
   "metadata": {},
   "source": [
    "## Zero or one quantifier ?\n",
    "\n",
    "Let's try another word with spelling variations. Add a new line in the TEST STRING:\n",
    "\n",
    "```\n",
    "color colour\n",
    "```\n",
    "\n",
    "Our \"or\" approach won't work here, but we can use the \"zero or one\" quantifier \"?\":\n",
    "\n",
    "```\n",
    "colou?r\n",
    "```"
   ]
  },
  {
   "cell_type": "markdown",
   "metadata": {},
   "source": [
    "## Any word character \\w\n",
    "\n",
    "Sometimes we may not know all the combinations of letters. In this case we can use the word character \\w.\n",
    "\n",
    "Add another line to our sample text:\n",
    "\n",
    "```\n",
    "red green blue yellow\n",
    "```\n",
    "\n",
    "And we'll find all instances where any 2 letters are followed by the letter 'e' using the word character:\n",
    "\n",
    "```\n",
    "\\w\\we\n",
    "```\n",
    "\n",
    "Note that \\w matches letters (both upper & lowercase), numbers, and the underscore character. If we really want just"
   ]
  },
  {
   "cell_type": "markdown",
   "metadata": {},
   "source": [
    "## Any word boundary \\b\n",
    "\n",
    "Finding word boundaries manually can be tricky, you have to match spaces, tabs, new lines, periods, commas, etc. Luckily there's the word boundary \\b\n",
    "\n",
    "Let's find all the instances where the 3rd letter is 'e':\n",
    "\n",
    "```\n",
    "\\b(\\w\\we)\n",
    "```"
   ]
  },
  {
   "cell_type": "markdown",
   "metadata": {},
   "source": [
    "## Zero or more quantifier *\n",
    "\n",
    "The asterisk matches zero or more occurences of a character.\n",
    "\n",
    "Our previous example found the instances where the 3rd letter was 'e' but what if we want to know what words they were. We'll use the zero or more to find the remaining part of the word:\n",
    "\n",
    "```\n",
    "\\b(\\w\\we\\w*)\n",
    "```"
   ]
  },
  {
   "cell_type": "markdown",
   "metadata": {},
   "source": [
    "## One or more quantifier +\n",
    "\n",
    "To get all the words we could try the zero or more pattern:\n",
    "\n",
    "\n",
    "```\n",
    "(\\w*)\n",
    "``` \n",
    "\n",
    "Notice we get all the words but our matches also contain empty strings. These matches are the \"zero\" length strings between each  word.\n",
    "\n",
    "To make sure at least one letter is present, we can use the one or more quantifier instead:\n",
    "\n",
    "```\n",
    "(\\w+)\n",
    "```"
   ]
  },
  {
   "cell_type": "markdown",
   "metadata": {},
   "source": [
    "## Anything except character class ^\n",
    "\n",
    "We know our misspelled word contains no vowels, let's try to isolate that word. The character class can be negated to match anything but the characters listed using the caret:\n",
    "\n",
    "```\n",
    "([^aeiou]+)\n",
    "```\n",
    "\n",
    "We did isolate everything but the vowel characters, but that also included spaces. We can at the space metacharacter to our list of exceptions:\n",
    "\n",
    "```\n",
    "([^aeiou\\s]+)\n",
    "```\n",
    "\n",
    "A little better, but we're getting partial words too. We can add word boundaries to prevent those:\n",
    "\n",
    "```\n",
    "\\b([^aeiou\\s]+)\\b\n",
    "```"
   ]
  },
  {
   "cell_type": "markdown",
   "metadata": {},
   "source": [
    "## Matching digits \\d\n",
    "\n",
    "Add the following text to the test string\n",
    "\n",
    "```\n",
    "123.456\n",
    "42\n",
    "1000000\n",
    "```\n",
    "\n",
    "The metacharacter **`\\d`** matches only the numeric characters 0 through 9. We'll try it with the one or more quantifier:\n",
    "\n",
    "```\n",
    "(\\d+)\n",
    "```"
   ]
  },
  {
   "cell_type": "markdown",
   "metadata": {},
   "source": [
    "## Character literal \\\n",
    "\n",
    "The previous regex doesn't match decimal values and we already seen that the period is a single character wildcard. To find an actual period character we need to \"escape\" the regex language to fine a literal period. This is done using a backslash:\n",
    "\n",
    "```\n",
    "(\\.)\n",
    "```\n",
    "\n",
    "A decimal number can have digits before and after the decimal point:\n",
    "\n",
    "```\n",
    "(\\d+\\.\\d+)\n",
    "```\n",
    "\n",
    "But this doesn't match the integers. We can make the decimal point and trailing digits optional:\n",
    "\n",
    "```\n",
    "(\\d+\\.?\\d*)\n",
    "```"
   ]
  },
  {
   "cell_type": "markdown",
   "metadata": {},
   "source": [
    "## Specifying consecutive matches { }\n",
    "\n",
    "We can use curly braces { } to specify a specific number of matches. This can also be useful for making shorter, more readable regex patterns. Say we want to match 4 consecutive digits:\n",
    "\n",
    "```\n",
    "(\\d\\d\\d\\d)\n",
    "```\n",
    "\n",
    "Versus:\n",
    "\n",
    "```\n",
    "(\\d{4})\n",
    "```\n",
    "\n",
    "We can specify a lower and upper limit as well:\n",
    "\n",
    "```\n",
    "(\\d{3, 6})\n",
    "```\n",
    "\n",
    "And leaving off the maximum gives us just a lower limit:\n",
    "\n",
    "```\n",
    "(\\d{3,})\n",
    "```"
   ]
  },
  {
   "cell_type": "markdown",
   "metadata": {},
   "source": [
    "## Matching the end of a string: $\n",
    "\n",
    "Use the following test string:\n",
    "\n",
    "```\n",
    "abc John Doe\n",
    "abc def Jane Doe\n",
    "```\n",
    "\n",
    "And the following regex:\n",
    "\n",
    "```\n",
    "(\\w+)\\s(\\w+)\n",
    "```\n",
    "\n",
    "We know the last 2 words are the names but there are differing numbers of preceding words. We can use the $ to specify our regex should match at the end of a string:\n",
    "\n",
    "```\n",
    "(\\w+)\\s(\\w+)$\n",
    "```\n",
    "\n",
    "Note the end of the first line is not matched. To match multiple lines using $, we need to use the **m modifier**."
   ]
  },
  {
   "cell_type": "markdown",
   "metadata": {},
   "source": [
    "## Matching the beginning of a string: $\n",
    "\n",
    "Use the following test string:\n",
    "\n",
    "```\n",
    "John Doe abc\n",
    "Jane Doe abc def\n",
    "```\n",
    "\n",
    "Similarly we can use the caret **^** to specify the beginning of a line:\n",
    "\n",
    "```\n",
    "^(\\w+)\\s(\\w+)\n",
    "```\n",
    "\n",
    "Again, we need to use the **m modifier**."
   ]
  },
  {
   "cell_type": "markdown",
   "metadata": {},
   "source": [
    "## Using capture groups for substitution\n",
    "\n",
    "Keep the above test string and regex and expand the substitution area. \n",
    "\n",
    "We can reference our capture groups in order numerically:\n",
    "\n",
    "```\n",
    "\\2,\\1\n",
    "```\n",
    "We can \"throw away\" the extra info using .*:\n",
    "\n",
    "```\n",
    "^(\\w+)\\s(\\w+).*\n",
    "```\n"
   ]
  },
  {
   "cell_type": "markdown",
   "metadata": {
    "slideshow": {
     "slide_type": "slide"
    }
   },
   "source": [
    "## Exercise\n",
    "\n",
    "Copy and paste the regex_exercise.txt contents to the test string.\n",
    "\n",
    "```\n",
    "New York 11-17-2009 1223.0\n",
    "New York 06-24-2010 1122.7\n",
    "Chicago 07-24-2009 2819.0\n",
    "Chicago 08-25-2010 2971.6\n",
    "New York 01-05-2011 1410.0\n",
    "Chicago 09-04-2010 4671.6\n",
    "Chicago 02-25-2012 1099.0\n",
    "New York 01-01-2013 950.9\n",
    "New York 07-23-2012 2000.0\n",
    "Chicago 08-22-2013 3500.4\n",
    "Chicago 01-02-2014 4510.1\n",
    "```\n",
    "\n",
    "Using regex substitution, convert this data to a comma-delimited data set with the following columns:\n",
    "\n",
    "```\n",
    "Location, Year, Month, Day, Value\n",
    "```"
   ]
  },
  {
   "cell_type": "markdown",
   "metadata": {
    "slideshow": {
     "slide_type": "slide"
    }
   },
   "source": [
    "## Exercise Solution\n",
    "\n",
    "First we'll isolate the location, we could try multiple approaches but we see there are only 2 values so that's easy enough to capture using either or:\n",
    "\n",
    "```\n",
    "(New York|Chicago)\n",
    "```\n",
    "\n",
    "Great, now for the space delimiter which we want outside our match:\n",
    "\n",
    "```\n",
    "(New York|Chicago)\\s\n",
    "```\n",
    "\n",
    "Now to start on the month excluding the dash:\n",
    "\n",
    "```\n",
    "(New York|Chicago)\\s(\\d{2})-\n",
    "```\n",
    "\n",
    "And the same for the day:\n",
    "\n",
    "```\n",
    "(New York|Chicago)\\s(\\d{2})-(\\d{2})-\n",
    "```\n",
    "\n",
    "And the 4 digit year:\n",
    "\n",
    "```\n",
    "(New York|Chicago)\\s(\\d{2})-(\\d{2})-(\\d{4})\n",
    "```\n",
    "\n",
    "Another space delimiter and the value with optional decimal:\n",
    "\n",
    "```\n",
    "(New York|Chicago)\\s(\\d{2})-(\\d{2})-(\\d{4})\n",
    "```\n",
    "\n",
    "Notice the caret, it is another anchor character denoting the beginning of the line. For the online tool, we need to add the multiline global option, \"m\", so that it knows to allow the caret to match the beginning of every line, not just the first one.\n",
    "\n",
    "We used the word character with the one or more quantifier, surrounded in parenthesis. Finally, we used a space character to end the wild card search, and we use the one or more quantifier in case the delimiter is more than one space long.\n",
    "\n",
    "Next, let's tackle the value of evil-ness. It looks like a regular float, which means there's a decimal character. But, the \".\" character is already used as a wild card. Anyone know what we can do here? Yep, we can use the backslash to escape the special character's meaning and match a literal \".\":\n",
    "\n",
    "```\n",
    "\\s+(\\d+\\.?\\d*)$\n",
    "```\n",
    "\n",
    "We've also handled the case where the value may not have a decimal, making it optional. And in that case the 2nd \"\\d\" covering the fractional part would be absent so we use the zero or more quantifier. Finally, we've used the end of line anchor as another data validation technique.\n",
    "\n",
    "Looks like we have all of our parts, let's put it all together and get all the values we need from the data record:\n",
    "\n",
    "```\n",
    "(New York|Chicago)\\s(\\d{2})-(\\d{2})-(\\d{4})\\s(\\d+\\.?\\d*)\n",
    "```\n"
   ]
  },
  {
   "cell_type": "markdown",
   "metadata": {
    "slideshow": {
     "slide_type": "slide"
    }
   },
   "source": [
    "# Using regex in pandas\n",
    "\n",
    "Now let's see how we can use regular expressions in pandas. The analyte values in the longitudinal data set actually contains an extra piece of information. At the end of each analyte string is a bead number within parentheses:"
   ]
  },
  {
   "cell_type": "code",
   "execution_count": 59,
   "metadata": {
    "collapsed": false
   },
   "outputs": [
    {
     "data": {
      "text/plain": [
       "0                   p24 (19)\n",
       "1                  gp41 (44)\n",
       "2         Con 6 gp120/B (72)\n",
       "3    B.con.env03 140 CF (65)\n",
       "4                 Blank (53)\n",
       "Name: analyte, dtype: object"
      ]
     },
     "execution_count": 59,
     "metadata": {},
     "output_type": "execute_result"
    }
   ],
   "source": [
    "analytes = long_data.analyte\n",
    "analytes.head()"
   ]
  },
  {
   "cell_type": "markdown",
   "metadata": {
    "slideshow": {
     "slide_type": "fragment"
    }
   },
   "source": [
    "We can use the extract function on the **`str`** attribute. It can take a regular expression as an argument. Note we escape the parentheses:"
   ]
  },
  {
   "cell_type": "code",
   "execution_count": 60,
   "metadata": {
    "collapsed": false
   },
   "outputs": [
    {
     "data": {
      "text/plain": [
       "0       19\n",
       "1       44\n",
       "2       72\n",
       "3       65\n",
       "4       53\n",
       "5        3\n",
       "6       50\n",
       "7       42\n",
       "8       49\n",
       "9       12\n",
       "10      19\n",
       "11      44\n",
       "12      72\n",
       "13      65\n",
       "14      53\n",
       "15       3\n",
       "16      50\n",
       "17      42\n",
       "18      49\n",
       "19      12\n",
       "20      19\n",
       "21      44\n",
       "22      72\n",
       "23      65\n",
       "24      53\n",
       "25       3\n",
       "26      50\n",
       "27      42\n",
       "28      49\n",
       "29      12\n",
       "        ..\n",
       "1731    19\n",
       "1732    44\n",
       "1733    72\n",
       "1734    65\n",
       "1735    53\n",
       "1736     3\n",
       "1737    50\n",
       "1738    42\n",
       "1739    49\n",
       "1740    12\n",
       "1741    19\n",
       "1742    44\n",
       "1743    72\n",
       "1744    65\n",
       "1745    53\n",
       "1746     3\n",
       "1747    50\n",
       "1748    42\n",
       "1749    49\n",
       "1750    12\n",
       "1751    19\n",
       "1752    44\n",
       "1753    72\n",
       "1754    65\n",
       "1755    53\n",
       "1756     3\n",
       "1757    50\n",
       "1758    42\n",
       "1759    49\n",
       "1760    12\n",
       "Name: analyte, dtype: object"
      ]
     },
     "execution_count": 60,
     "metadata": {},
     "output_type": "execute_result"
    }
   ],
   "source": [
    "analytes.str.extract('\\s*\\((\\d+)\\)$')"
   ]
  },
  {
   "cell_type": "markdown",
   "metadata": {
    "slideshow": {
     "slide_type": "subslide"
    }
   },
   "source": [
    "Since our new Series is still indexed like the original DataFrame, we can simply add the bead number as a new column:"
   ]
  },
  {
   "cell_type": "code",
   "execution_count": 61,
   "metadata": {
    "collapsed": false
   },
   "outputs": [
    {
     "data": {
      "text/html": [
       "<div>\n",
       "<table border=\"1\" class=\"dataframe\">\n",
       "  <thead>\n",
       "    <tr style=\"text-align: right;\">\n",
       "      <th></th>\n",
       "      <th>dilution</th>\n",
       "      <th>analyte</th>\n",
       "      <th>fi-bkgd</th>\n",
       "      <th>fi-bkgd-neg</th>\n",
       "      <th>cv</th>\n",
       "      <th>participant_id</th>\n",
       "      <th>visit_code</th>\n",
       "      <th>visit_date</th>\n",
       "      <th>sample_type</th>\n",
       "      <th>buffer</th>\n",
       "      <th>bead_number</th>\n",
       "    </tr>\n",
       "  </thead>\n",
       "  <tbody>\n",
       "    <tr>\n",
       "      <th>0</th>\n",
       "      <td>50</td>\n",
       "      <td>p24 (19)</td>\n",
       "      <td>474.8</td>\n",
       "      <td>454.8</td>\n",
       "      <td>0.0372</td>\n",
       "      <td>URN2</td>\n",
       "      <td>0</td>\n",
       "      <td>10/14/1899</td>\n",
       "      <td>PLA</td>\n",
       "      <td>PBS</td>\n",
       "      <td>19</td>\n",
       "    </tr>\n",
       "    <tr>\n",
       "      <th>1</th>\n",
       "      <td>50</td>\n",
       "      <td>gp41 (44)</td>\n",
       "      <td>470.8</td>\n",
       "      <td>452.8</td>\n",
       "      <td>0.1387</td>\n",
       "      <td>URN2</td>\n",
       "      <td>0</td>\n",
       "      <td>10/14/1899</td>\n",
       "      <td>PLA</td>\n",
       "      <td>PBS</td>\n",
       "      <td>44</td>\n",
       "    </tr>\n",
       "    <tr>\n",
       "      <th>2</th>\n",
       "      <td>50</td>\n",
       "      <td>Con 6 gp120/B (72)</td>\n",
       "      <td>52.5</td>\n",
       "      <td>44.5</td>\n",
       "      <td>0.1183</td>\n",
       "      <td>URN2</td>\n",
       "      <td>0</td>\n",
       "      <td>10/14/1899</td>\n",
       "      <td>PLA</td>\n",
       "      <td>PBS</td>\n",
       "      <td>72</td>\n",
       "    </tr>\n",
       "    <tr>\n",
       "      <th>3</th>\n",
       "      <td>50</td>\n",
       "      <td>B.con.env03 140 CF (65)</td>\n",
       "      <td>55.5</td>\n",
       "      <td>46.5</td>\n",
       "      <td>0.1709</td>\n",
       "      <td>URN2</td>\n",
       "      <td>0</td>\n",
       "      <td>10/14/1899</td>\n",
       "      <td>PLA</td>\n",
       "      <td>PBS</td>\n",
       "      <td>65</td>\n",
       "    </tr>\n",
       "    <tr>\n",
       "      <th>4</th>\n",
       "      <td>50</td>\n",
       "      <td>Blank (53)</td>\n",
       "      <td>29.0</td>\n",
       "      <td>NaN</td>\n",
       "      <td>0.0527</td>\n",
       "      <td>URN2</td>\n",
       "      <td>0</td>\n",
       "      <td>10/14/1899</td>\n",
       "      <td>PLA</td>\n",
       "      <td>PBS</td>\n",
       "      <td>53</td>\n",
       "    </tr>\n",
       "  </tbody>\n",
       "</table>\n",
       "</div>"
      ],
      "text/plain": [
       "   dilution                  analyte  fi-bkgd  fi-bkgd-neg      cv  \\\n",
       "0        50                 p24 (19)    474.8        454.8  0.0372   \n",
       "1        50                gp41 (44)    470.8        452.8  0.1387   \n",
       "2        50       Con 6 gp120/B (72)     52.5         44.5  0.1183   \n",
       "3        50  B.con.env03 140 CF (65)     55.5         46.5  0.1709   \n",
       "4        50               Blank (53)     29.0          NaN  0.0527   \n",
       "\n",
       "  participant_id  visit_code   visit_date sample_type buffer bead_number  \n",
       "0           URN2           0   10/14/1899         PLA    PBS          19  \n",
       "1           URN2           0   10/14/1899         PLA    PBS          44  \n",
       "2           URN2           0   10/14/1899         PLA    PBS          72  \n",
       "3           URN2           0   10/14/1899         PLA    PBS          65  \n",
       "4           URN2           0   10/14/1899         PLA    PBS          53  "
      ]
     },
     "execution_count": 61,
     "metadata": {},
     "output_type": "execute_result"
    }
   ],
   "source": [
    "long_data['bead_number'] = analytes.str.extract('\\s*\\((\\d+)\\)')\n",
    "long_data.head()"
   ]
  },
  {
   "cell_type": "markdown",
   "metadata": {
    "slideshow": {
     "slide_type": "fragment"
    }
   },
   "source": [
    "The bead number is still in the analyte column. We can use replace to substitute in an empty string:"
   ]
  },
  {
   "cell_type": "code",
   "execution_count": 62,
   "metadata": {
    "collapsed": false
   },
   "outputs": [
    {
     "data": {
      "text/html": [
       "<div>\n",
       "<table border=\"1\" class=\"dataframe\">\n",
       "  <thead>\n",
       "    <tr style=\"text-align: right;\">\n",
       "      <th></th>\n",
       "      <th>dilution</th>\n",
       "      <th>analyte</th>\n",
       "      <th>fi-bkgd</th>\n",
       "      <th>fi-bkgd-neg</th>\n",
       "      <th>cv</th>\n",
       "      <th>participant_id</th>\n",
       "      <th>visit_code</th>\n",
       "      <th>visit_date</th>\n",
       "      <th>sample_type</th>\n",
       "      <th>buffer</th>\n",
       "      <th>bead_number</th>\n",
       "    </tr>\n",
       "  </thead>\n",
       "  <tbody>\n",
       "    <tr>\n",
       "      <th>0</th>\n",
       "      <td>50</td>\n",
       "      <td>p24</td>\n",
       "      <td>474.8</td>\n",
       "      <td>454.8</td>\n",
       "      <td>0.0372</td>\n",
       "      <td>URN2</td>\n",
       "      <td>0</td>\n",
       "      <td>10/14/1899</td>\n",
       "      <td>PLA</td>\n",
       "      <td>PBS</td>\n",
       "      <td>19</td>\n",
       "    </tr>\n",
       "    <tr>\n",
       "      <th>1</th>\n",
       "      <td>50</td>\n",
       "      <td>gp41</td>\n",
       "      <td>470.8</td>\n",
       "      <td>452.8</td>\n",
       "      <td>0.1387</td>\n",
       "      <td>URN2</td>\n",
       "      <td>0</td>\n",
       "      <td>10/14/1899</td>\n",
       "      <td>PLA</td>\n",
       "      <td>PBS</td>\n",
       "      <td>44</td>\n",
       "    </tr>\n",
       "    <tr>\n",
       "      <th>2</th>\n",
       "      <td>50</td>\n",
       "      <td>Con 6 gp120/B</td>\n",
       "      <td>52.5</td>\n",
       "      <td>44.5</td>\n",
       "      <td>0.1183</td>\n",
       "      <td>URN2</td>\n",
       "      <td>0</td>\n",
       "      <td>10/14/1899</td>\n",
       "      <td>PLA</td>\n",
       "      <td>PBS</td>\n",
       "      <td>72</td>\n",
       "    </tr>\n",
       "    <tr>\n",
       "      <th>3</th>\n",
       "      <td>50</td>\n",
       "      <td>B.con.env03 140 CF</td>\n",
       "      <td>55.5</td>\n",
       "      <td>46.5</td>\n",
       "      <td>0.1709</td>\n",
       "      <td>URN2</td>\n",
       "      <td>0</td>\n",
       "      <td>10/14/1899</td>\n",
       "      <td>PLA</td>\n",
       "      <td>PBS</td>\n",
       "      <td>65</td>\n",
       "    </tr>\n",
       "    <tr>\n",
       "      <th>4</th>\n",
       "      <td>50</td>\n",
       "      <td>Blank</td>\n",
       "      <td>29.0</td>\n",
       "      <td>NaN</td>\n",
       "      <td>0.0527</td>\n",
       "      <td>URN2</td>\n",
       "      <td>0</td>\n",
       "      <td>10/14/1899</td>\n",
       "      <td>PLA</td>\n",
       "      <td>PBS</td>\n",
       "      <td>53</td>\n",
       "    </tr>\n",
       "  </tbody>\n",
       "</table>\n",
       "</div>"
      ],
      "text/plain": [
       "   dilution             analyte  fi-bkgd  fi-bkgd-neg      cv participant_id  \\\n",
       "0        50                 p24    474.8        454.8  0.0372           URN2   \n",
       "1        50                gp41    470.8        452.8  0.1387           URN2   \n",
       "2        50       Con 6 gp120/B     52.5         44.5  0.1183           URN2   \n",
       "3        50  B.con.env03 140 CF     55.5         46.5  0.1709           URN2   \n",
       "4        50               Blank     29.0          NaN  0.0527           URN2   \n",
       "\n",
       "   visit_code   visit_date sample_type buffer bead_number  \n",
       "0           0   10/14/1899         PLA    PBS          19  \n",
       "1           0   10/14/1899         PLA    PBS          44  \n",
       "2           0   10/14/1899         PLA    PBS          72  \n",
       "3           0   10/14/1899         PLA    PBS          65  \n",
       "4           0   10/14/1899         PLA    PBS          53  "
      ]
     },
     "execution_count": 62,
     "metadata": {},
     "output_type": "execute_result"
    }
   ],
   "source": [
    "long_data['analyte'] = analytes.str.replace('\\s*\\((\\d+)\\)', '')\n",
    "long_data.head()"
   ]
  },
  {
   "cell_type": "markdown",
   "metadata": {
    "slideshow": {
     "slide_type": "subslide"
    }
   },
   "source": [
    "Another QC check for consistent date formatting. Let's look at the visit date format:"
   ]
  },
  {
   "cell_type": "code",
   "execution_count": 63,
   "metadata": {
    "collapsed": false
   },
   "outputs": [
    {
     "data": {
      "text/plain": [
       "0     10/14/1899\n",
       "1     10/14/1899\n",
       "2     10/14/1899\n",
       "3     10/14/1899\n",
       "4     10/14/1899\n",
       "Name: visit_date, dtype: object"
      ]
     },
     "execution_count": 63,
     "metadata": {},
     "output_type": "execute_result"
    }
   ],
   "source": [
    "visit_dates = long_data.visit_date\n",
    "visit_dates.head()"
   ]
  },
  {
   "cell_type": "markdown",
   "metadata": {
    "slideshow": {
     "slide_type": "fragment"
    }
   },
   "source": [
    "Looks like the first few dates are month/day/year. Let's check if all the values use that format:"
   ]
  },
  {
   "cell_type": "code",
   "execution_count": 64,
   "metadata": {
    "collapsed": false
   },
   "outputs": [
    {
     "data": {
      "text/plain": [
       "140     1900/12/13\n",
       "141     1900/12/13\n",
       "142     1900/12/13\n",
       "143     1900/12/13\n",
       "144     1900/12/13\n",
       "145     1900/12/13\n",
       "146     1900/12/13\n",
       "147     1900/12/13\n",
       "148     1900/12/13\n",
       "149     1900/12/13\n",
       "150     1900/12/13\n",
       "151     1900/12/13\n",
       "152     1900/12/13\n",
       "153     1900/12/13\n",
       "154     1900/12/13\n",
       "155     1900/12/13\n",
       "156     1900/12/13\n",
       "157     1900/12/13\n",
       "158     1900/12/13\n",
       "159     1900/12/13\n",
       "Name: visit_date, dtype: object"
      ]
     },
     "execution_count": 64,
     "metadata": {},
     "output_type": "execute_result"
    }
   ],
   "source": [
    "good_dates = visit_dates.str.contains(\"\\d{2}\\/\\d{2}\\/\\d{4}\")\n",
    "visit_dates[good_dates == False]"
   ]
  },
  {
   "cell_type": "markdown",
   "metadata": {
    "slideshow": {
     "slide_type": "fragment"
    }
   },
   "source": [
    "Looks like we have some inconsistent values. We can use replace to re-order our capture groups. Note we have to escape our backslash characters in the replacement string"
   ]
  },
  {
   "cell_type": "code",
   "execution_count": 65,
   "metadata": {
    "collapsed": false
   },
   "outputs": [
    {
     "data": {
      "text/plain": [
       "0"
      ]
     },
     "execution_count": 65,
     "metadata": {},
     "output_type": "execute_result"
    }
   ],
   "source": [
    "fixed_dates = visit_dates.str.replace(\"(\\d{4})\\/(\\d{2})\\/(\\d{2})\", \"\\\\2/\\\\3/\\\\1\")\n",
    "fixed_dates.str.contains(\"\\d{4}\\/\").sum()"
   ]
  },
  {
   "cell_type": "markdown",
   "metadata": {
    "slideshow": {
     "slide_type": "fragment"
    }
   },
   "source": [
    "Looks like that fixed them. One more check to make sure all the dates start with the year:"
   ]
  },
  {
   "cell_type": "code",
   "execution_count": 66,
   "metadata": {
    "collapsed": false
   },
   "outputs": [
    {
     "data": {
      "text/plain": [
       "Series([], Name: visit_date, dtype: object)"
      ]
     },
     "execution_count": 66,
     "metadata": {},
     "output_type": "execute_result"
    }
   ],
   "source": [
    "fixed_dates[fixed_dates.str.contains(\"\\d{4}\\/\")]"
   ]
  },
  {
   "cell_type": "markdown",
   "metadata": {
    "slideshow": {
     "slide_type": "fragment"
    }
   },
   "source": [
    "And to save our fixed dates back to the DataFrame and do a final check:"
   ]
  },
  {
   "cell_type": "code",
   "execution_count": 67,
   "metadata": {
    "collapsed": false
   },
   "outputs": [
    {
     "data": {
      "text/plain": [
       "1760"
      ]
     },
     "execution_count": 67,
     "metadata": {},
     "output_type": "execute_result"
    }
   ],
   "source": [
    "long_data['visit_date'] = fixed_dates\n",
    "long_data.visit_date.str.contains(\"\\d{2}\\/\\d{2}\\/\\d{4}\").sum()"
   ]
  },
  {
   "cell_type": "code",
   "execution_count": 68,
   "metadata": {
    "collapsed": false
   },
   "outputs": [
    {
     "data": {
      "text/plain": [
       "140     12/13/1900\n",
       "141     12/13/1900\n",
       "142     12/13/1900\n",
       "143     12/13/1900\n",
       "144     12/13/1900\n",
       "145     12/13/1900\n",
       "146     12/13/1900\n",
       "147     12/13/1900\n",
       "148     12/13/1900\n",
       "149     12/13/1900\n",
       "150     12/13/1900\n",
       "151     12/13/1900\n",
       "152     12/13/1900\n",
       "153     12/13/1900\n",
       "154     12/13/1900\n",
       "155     12/13/1900\n",
       "156     12/13/1900\n",
       "157     12/13/1900\n",
       "158     12/13/1900\n",
       "159     12/13/1900\n",
       "Name: visit_date, dtype: object"
      ]
     },
     "execution_count": 68,
     "metadata": {},
     "output_type": "execute_result"
    }
   ],
   "source": [
    "long_data.visit_date[good_dates == False]"
   ]
  },
  {
   "cell_type": "markdown",
   "metadata": {
    "slideshow": {
     "slide_type": "slide"
    }
   },
   "source": [
    "Finally, we'll export the cleaned data to CSV:"
   ]
  },
  {
   "cell_type": "code",
   "execution_count": 69,
   "metadata": {
    "collapsed": true
   },
   "outputs": [],
   "source": [
    "long_data.to_csv(\"long_data_cleaned.csv\")"
   ]
  }
 ],
 "metadata": {
  "celltoolbar": "Slideshow",
  "kernelspec": {
   "display_name": "Python 2",
   "language": "python",
   "name": "python2"
  },
  "language_info": {
   "codemirror_mode": {
    "name": "ipython",
    "version": 2
   },
   "file_extension": ".py",
   "mimetype": "text/x-python",
   "name": "python",
   "nbconvert_exporter": "python",
   "pygments_lexer": "ipython2",
   "version": "2.7.6"
  }
 },
 "nbformat": 4,
 "nbformat_minor": 0
}
