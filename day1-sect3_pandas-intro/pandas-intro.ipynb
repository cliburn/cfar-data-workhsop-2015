{
 "cells": [
  {
   "cell_type": "markdown",
   "metadata": {
    "slideshow": {
     "slide_type": "slide"
    }
   },
   "source": [
    "# Introduction to pandas"
   ]
  },
  {
   "cell_type": "markdown",
   "metadata": {
    "slideshow": {
     "slide_type": "fragment"
    }
   },
   "source": [
    "* A Python package for working with multi-dimensional, structured data (e.g. Excel spreadsheets, relational databases)"
   ]
  },
  {
   "cell_type": "markdown",
   "metadata": {
    "slideshow": {
     "slide_type": "fragment"
    }
   },
   "source": [
    "* Built on top of NumPy so it's fast...but with more convenient data structures"
   ]
  },
  {
   "cell_type": "markdown",
   "metadata": {
    "slideshow": {
     "slide_type": "fragment"
    }
   },
   "source": [
    "* The main data structure, called a DataFrame, is similar to the data.frame in R"
   ]
  },
  {
   "cell_type": "markdown",
   "metadata": {
    "slideshow": {
     "slide_type": "subslide"
    }
   },
   "source": [
    "Conventionally, pandas is imported using the alias **`pd`** because programmers are lazy"
   ]
  },
  {
   "cell_type": "markdown",
   "metadata": {
    "slideshow": {
     "slide_type": "fragment"
    }
   },
   "source": [
    "You'll often see the commonly used data structures imported separately for even less typing (i.e. avoiding pd.DataFrame)"
   ]
  },
  {
   "cell_type": "code",
   "execution_count": 1,
   "metadata": {
    "collapsed": false,
    "slideshow": {
     "slide_type": "-"
    }
   },
   "outputs": [],
   "source": [
    "import pandas as pd\n",
    "from pandas import Series, DataFrame"
   ]
  },
  {
   "cell_type": "markdown",
   "metadata": {
    "slideshow": {
     "slide_type": "fragment"
    }
   },
   "source": [
    "Before we get started, let's make sure we are in the right directory to access the files we'll use"
   ]
  },
  {
   "cell_type": "code",
   "execution_count": 2,
   "metadata": {
    "collapsed": false
   },
   "outputs": [
    {
     "name": "stdout",
     "output_type": "stream",
     "text": [
      "cd4_change.csv\tlong_data.csv\tMock clinical data2.csv  test_slides.ipynb\n",
      "cd4_data.csv\tlong_data.csv~\tpandas-intro.ipynb\t Untitled.ipynb\n",
      "cd4_data.tsv\tmedals.csv\tpython-part-03.ipynb\n",
      "/home/swhite/git/cfar-data-workshop-2015/day1-sect3_pandas-intro\n"
     ]
    }
   ],
   "source": [
    "!ls\n",
    "!pwd"
   ]
  },
  {
   "cell_type": "markdown",
   "metadata": {
    "slideshow": {
     "slide_type": "slide"
    }
   },
   "source": [
    "# Data Structures\n",
    "\n",
    "\n",
    "## Series\n",
    "\n",
    "...similar to a Python list or a single column of a spreadsheet"
   ]
  },
  {
   "cell_type": "markdown",
   "metadata": {
    "slideshow": {
     "slide_type": "subslide"
    }
   },
   "source": [
    "### Creating a Series\n",
    "\n",
    "Let's create a new Series from a simple Python list"
   ]
  },
  {
   "cell_type": "code",
   "execution_count": 3,
   "metadata": {
    "collapsed": false
   },
   "outputs": [
    {
     "data": {
      "text/plain": [
       "[815, 364, 2117]"
      ]
     },
     "execution_count": 3,
     "metadata": {},
     "output_type": "execute_result"
    }
   ],
   "source": [
    "some_data = [815, 364, 2117]\n",
    "some_data"
   ]
  },
  {
   "cell_type": "code",
   "execution_count": 4,
   "metadata": {
    "collapsed": false,
    "scrolled": true,
    "slideshow": {
     "slide_type": "-"
    }
   },
   "outputs": [
    {
     "data": {
      "text/plain": [
       "0     815\n",
       "1     364\n",
       "2    2117\n",
       "dtype: int64"
      ]
     },
     "execution_count": 4,
     "metadata": {},
     "output_type": "execute_result"
    }
   ],
   "source": [
    "baseline = Series(some_data)\n",
    "baseline"
   ]
  },
  {
   "cell_type": "markdown",
   "metadata": {
    "slideshow": {
     "slide_type": "fragment"
    }
   },
   "source": [
    "...a much nicer output vs Python's list"
   ]
  },
  {
   "cell_type": "markdown",
   "metadata": {
    "slideshow": {
     "slide_type": "subslide"
    }
   },
   "source": [
    "### Custom Index\n",
    "\n",
    "But, we can make this even better"
   ]
  },
  {
   "cell_type": "markdown",
   "metadata": {
    "slideshow": {
     "slide_type": "fragment"
    }
   },
   "source": [
    "pandas allows us to specify custom indices"
   ]
  },
  {
   "cell_type": "markdown",
   "metadata": {
    "slideshow": {
     "slide_type": "fragment"
    }
   },
   "source": [
    "Let's re-create the Series with something more meaningful:"
   ]
  },
  {
   "cell_type": "code",
   "execution_count": 5,
   "metadata": {
    "collapsed": false
   },
   "outputs": [
    {
     "data": {
      "text/plain": [
       "John     815\n",
       "Jane     364\n",
       "Joe     2117\n",
       "dtype: int64"
      ]
     },
     "execution_count": 5,
     "metadata": {},
     "output_type": "execute_result"
    }
   ],
   "source": [
    "baseline = Series(some_data, index=['John', 'Jane', 'Joe'])\n",
    "baseline"
   ]
  },
  {
   "cell_type": "markdown",
   "metadata": {
    "slideshow": {
     "slide_type": "subslide"
    }
   },
   "source": [
    "Note the length of the data and the indices given must be equal:"
   ]
  },
  {
   "cell_type": "code",
   "execution_count": 6,
   "metadata": {
    "collapsed": false,
    "scrolled": true
   },
   "outputs": [
    {
     "ename": "ValueError",
     "evalue": "Wrong number of items passed 3, placement implies 4",
     "output_type": "error",
     "traceback": [
      "\u001b[1;31m---------------------------------------------------------------------------\u001b[0m",
      "\u001b[1;31mValueError\u001b[0m                                Traceback (most recent call last)",
      "\u001b[1;32m<ipython-input-6-6aa58a404552>\u001b[0m in \u001b[0;36m<module>\u001b[1;34m()\u001b[0m\n\u001b[1;32m----> 1\u001b[1;33m \u001b[0mSeries\u001b[0m\u001b[1;33m(\u001b[0m\u001b[0msome_data\u001b[0m\u001b[1;33m,\u001b[0m \u001b[0mindex\u001b[0m\u001b[1;33m=\u001b[0m\u001b[1;33m[\u001b[0m\u001b[1;34m'John'\u001b[0m\u001b[1;33m,\u001b[0m \u001b[1;34m'Jane'\u001b[0m\u001b[1;33m,\u001b[0m \u001b[1;34m'Joe'\u001b[0m\u001b[1;33m,\u001b[0m \u001b[1;34m'Scott'\u001b[0m\u001b[1;33m]\u001b[0m\u001b[1;33m)\u001b[0m\u001b[1;33m\u001b[0m\u001b[0m\n\u001b[0m",
      "\u001b[1;32m/home/swhite/rise-env/local/lib/python2.7/site-packages/pandas/core/series.pyc\u001b[0m in \u001b[0;36m__init__\u001b[1;34m(self, data, index, dtype, name, copy, fastpath)\u001b[0m\n\u001b[0;32m    218\u001b[0m                                        raise_cast_failure=True)\n\u001b[0;32m    219\u001b[0m \u001b[1;33m\u001b[0m\u001b[0m\n\u001b[1;32m--> 220\u001b[1;33m                 \u001b[0mdata\u001b[0m \u001b[1;33m=\u001b[0m \u001b[0mSingleBlockManager\u001b[0m\u001b[1;33m(\u001b[0m\u001b[0mdata\u001b[0m\u001b[1;33m,\u001b[0m \u001b[0mindex\u001b[0m\u001b[1;33m,\u001b[0m \u001b[0mfastpath\u001b[0m\u001b[1;33m=\u001b[0m\u001b[0mTrue\u001b[0m\u001b[1;33m)\u001b[0m\u001b[1;33m\u001b[0m\u001b[0m\n\u001b[0m\u001b[0;32m    221\u001b[0m \u001b[1;33m\u001b[0m\u001b[0m\n\u001b[0;32m    222\u001b[0m         \u001b[0mgeneric\u001b[0m\u001b[1;33m.\u001b[0m\u001b[0mNDFrame\u001b[0m\u001b[1;33m.\u001b[0m\u001b[0m__init__\u001b[0m\u001b[1;33m(\u001b[0m\u001b[0mself\u001b[0m\u001b[1;33m,\u001b[0m \u001b[0mdata\u001b[0m\u001b[1;33m,\u001b[0m \u001b[0mfastpath\u001b[0m\u001b[1;33m=\u001b[0m\u001b[0mTrue\u001b[0m\u001b[1;33m)\u001b[0m\u001b[1;33m\u001b[0m\u001b[0m\n",
      "\u001b[1;32m/home/swhite/rise-env/local/lib/python2.7/site-packages/pandas/core/internals.pyc\u001b[0m in \u001b[0;36m__init__\u001b[1;34m(self, block, axis, do_integrity_check, fastpath)\u001b[0m\n\u001b[0;32m   3381\u001b[0m             block = make_block(block,\n\u001b[0;32m   3382\u001b[0m                                \u001b[0mplacement\u001b[0m\u001b[1;33m=\u001b[0m\u001b[0mslice\u001b[0m\u001b[1;33m(\u001b[0m\u001b[1;36m0\u001b[0m\u001b[1;33m,\u001b[0m \u001b[0mlen\u001b[0m\u001b[1;33m(\u001b[0m\u001b[0maxis\u001b[0m\u001b[1;33m)\u001b[0m\u001b[1;33m)\u001b[0m\u001b[1;33m,\u001b[0m\u001b[1;33m\u001b[0m\u001b[0m\n\u001b[1;32m-> 3383\u001b[1;33m                                ndim=1, fastpath=True)\n\u001b[0m\u001b[0;32m   3384\u001b[0m \u001b[1;33m\u001b[0m\u001b[0m\n\u001b[0;32m   3385\u001b[0m         \u001b[0mself\u001b[0m\u001b[1;33m.\u001b[0m\u001b[0mblocks\u001b[0m \u001b[1;33m=\u001b[0m \u001b[1;33m[\u001b[0m\u001b[0mblock\u001b[0m\u001b[1;33m]\u001b[0m\u001b[1;33m\u001b[0m\u001b[0m\n",
      "\u001b[1;32m/home/swhite/rise-env/local/lib/python2.7/site-packages/pandas/core/internals.pyc\u001b[0m in \u001b[0;36mmake_block\u001b[1;34m(values, placement, klass, ndim, dtype, fastpath)\u001b[0m\n\u001b[0;32m   2099\u001b[0m \u001b[1;33m\u001b[0m\u001b[0m\n\u001b[0;32m   2100\u001b[0m     return klass(values, ndim=ndim, fastpath=fastpath,\n\u001b[1;32m-> 2101\u001b[1;33m                  placement=placement)\n\u001b[0m\u001b[0;32m   2102\u001b[0m \u001b[1;33m\u001b[0m\u001b[0m\n\u001b[0;32m   2103\u001b[0m \u001b[1;33m\u001b[0m\u001b[0m\n",
      "\u001b[1;32m/home/swhite/rise-env/local/lib/python2.7/site-packages/pandas/core/internals.pyc\u001b[0m in \u001b[0;36m__init__\u001b[1;34m(self, values, placement, ndim, fastpath)\u001b[0m\n\u001b[0;32m     75\u001b[0m             raise ValueError('Wrong number of items passed %d,'\n\u001b[0;32m     76\u001b[0m                              ' placement implies %d' % (\n\u001b[1;32m---> 77\u001b[1;33m                                  len(self.values), len(self.mgr_locs)))\n\u001b[0m\u001b[0;32m     78\u001b[0m \u001b[1;33m\u001b[0m\u001b[0m\n\u001b[0;32m     79\u001b[0m     \u001b[1;33m@\u001b[0m\u001b[0mproperty\u001b[0m\u001b[1;33m\u001b[0m\u001b[0m\n",
      "\u001b[1;31mValueError\u001b[0m: Wrong number of items passed 3, placement implies 4"
     ]
    }
   ],
   "source": [
    "Series(some_data, index=['John', 'Jane', 'Joe', 'Scott'])"
   ]
  },
  {
   "cell_type": "markdown",
   "metadata": {
    "slideshow": {
     "slide_type": "slide"
    }
   },
   "source": [
    "### Adding and Removing Items in a Series\n",
    "\n",
    "To add a new value:"
   ]
  },
  {
   "cell_type": "code",
   "execution_count": 7,
   "metadata": {
    "collapsed": false,
    "slideshow": {
     "slide_type": "-"
    }
   },
   "outputs": [
    {
     "data": {
      "text/plain": [
       "John      815\n",
       "Jane      364\n",
       "Joe      2117\n",
       "Jason      42\n",
       "dtype: int64"
      ]
     },
     "execution_count": 7,
     "metadata": {},
     "output_type": "execute_result"
    }
   ],
   "source": [
    "baseline['Jason'] = 42\n",
    "baseline"
   ]
  },
  {
   "cell_type": "markdown",
   "metadata": {
    "slideshow": {
     "slide_type": "fragment"
    }
   },
   "source": [
    "And to remove it:"
   ]
  },
  {
   "cell_type": "code",
   "execution_count": 8,
   "metadata": {
    "collapsed": false
   },
   "outputs": [
    {
     "data": {
      "text/plain": [
       "John     815\n",
       "Jane     364\n",
       "Joe     2117\n",
       "dtype: int64"
      ]
     },
     "execution_count": 8,
     "metadata": {},
     "output_type": "execute_result"
    }
   ],
   "source": [
    "baseline.drop('Jason')"
   ]
  },
  {
   "cell_type": "markdown",
   "metadata": {
    "slideshow": {
     "slide_type": "subslide"
    }
   },
   "source": [
    "But, our value wasn't really removed!"
   ]
  },
  {
   "cell_type": "code",
   "execution_count": 9,
   "metadata": {
    "collapsed": false
   },
   "outputs": [
    {
     "data": {
      "text/plain": [
       "John      815\n",
       "Jane      364\n",
       "Joe      2117\n",
       "Jason      42\n",
       "dtype: int64"
      ]
     },
     "execution_count": 9,
     "metadata": {},
     "output_type": "execute_result"
    }
   ],
   "source": [
    "baseline"
   ]
  },
  {
   "cell_type": "markdown",
   "metadata": {
    "slideshow": {
     "slide_type": "fragment"
    }
   },
   "source": [
    "Most pandas functions that modify data return a copy by default"
   ]
  },
  {
   "cell_type": "markdown",
   "metadata": {
    "slideshow": {
     "slide_type": "fragment"
    }
   },
   "source": [
    "We ***could*** assign the copy back to the original variable..."
   ]
  },
  {
   "cell_type": "markdown",
   "metadata": {
    "slideshow": {
     "slide_type": "fragment"
    }
   },
   "source": [
    "Luckily, many pandas functions have an option to modify data in place"
   ]
  },
  {
   "cell_type": "code",
   "execution_count": 10,
   "metadata": {
    "collapsed": false
   },
   "outputs": [
    {
     "data": {
      "text/plain": [
       "John     815\n",
       "Jane     364\n",
       "Joe     2117\n",
       "dtype: int64"
      ]
     },
     "execution_count": 10,
     "metadata": {},
     "output_type": "execute_result"
    }
   ],
   "source": [
    "baseline.drop('Jason', inplace=True)\n",
    "baseline"
   ]
  },
  {
   "cell_type": "markdown",
   "metadata": {
    "slideshow": {
     "slide_type": "slide"
    }
   },
   "source": [
    "### The Series Index\n",
    "\n",
    "To determine the indices use the **`index`** attribute:"
   ]
  },
  {
   "cell_type": "code",
   "execution_count": 11,
   "metadata": {
    "collapsed": false
   },
   "outputs": [
    {
     "data": {
      "text/plain": [
       "Index([u'John', u'Jane', u'Joe'], dtype='object')"
      ]
     },
     "execution_count": 11,
     "metadata": {},
     "output_type": "execute_result"
    }
   ],
   "source": [
    "baseline.index"
   ]
  },
  {
   "cell_type": "markdown",
   "metadata": {
    "slideshow": {
     "slide_type": "fragment"
    }
   },
   "source": [
    "We can also give a more meaningful label name to the index"
   ]
  },
  {
   "cell_type": "code",
   "execution_count": 12,
   "metadata": {
    "collapsed": false,
    "slideshow": {
     "slide_type": "-"
    }
   },
   "outputs": [
    {
     "data": {
      "text/plain": [
       "patients\n",
       "John     815\n",
       "Jane     364\n",
       "Joe     2117\n",
       "dtype: int64"
      ]
     },
     "execution_count": 12,
     "metadata": {},
     "output_type": "execute_result"
    }
   ],
   "source": [
    "baseline.index.name = 'patients'\n",
    "baseline"
   ]
  },
  {
   "cell_type": "markdown",
   "metadata": {
    "slideshow": {
     "slide_type": "fragment"
    }
   },
   "source": [
    "And to the Series itself"
   ]
  },
  {
   "cell_type": "code",
   "execution_count": 13,
   "metadata": {
    "collapsed": false
   },
   "outputs": [
    {
     "data": {
      "text/plain": [
       "patients\n",
       "John     815\n",
       "Jane     364\n",
       "Joe     2117\n",
       "Name: CD4 baseline, dtype: int64"
      ]
     },
     "execution_count": 13,
     "metadata": {},
     "output_type": "execute_result"
    }
   ],
   "source": [
    "baseline.name = 'CD4 baseline'\n",
    "baseline"
   ]
  },
  {
   "cell_type": "markdown",
   "metadata": {
    "slideshow": {
     "slide_type": "slide"
    }
   },
   "source": [
    "### Selecting Values from a Series"
   ]
  },
  {
   "cell_type": "markdown",
   "metadata": {
    "slideshow": {
     "slide_type": "fragment"
    }
   },
   "source": [
    "We can use our indices to reference the values:"
   ]
  },
  {
   "cell_type": "code",
   "execution_count": 14,
   "metadata": {
    "collapsed": false
   },
   "outputs": [
    {
     "data": {
      "text/plain": [
       "815"
      ]
     },
     "execution_count": 14,
     "metadata": {},
     "output_type": "execute_result"
    }
   ],
   "source": [
    "baseline['John']"
   ]
  },
  {
   "cell_type": "markdown",
   "metadata": {
    "slideshow": {
     "slide_type": "fragment"
    }
   },
   "source": [
    "Regular indexing by position also works:"
   ]
  },
  {
   "cell_type": "code",
   "execution_count": 15,
   "metadata": {
    "collapsed": false
   },
   "outputs": [
    {
     "data": {
      "text/plain": [
       "815"
      ]
     },
     "execution_count": 15,
     "metadata": {},
     "output_type": "execute_result"
    }
   ],
   "source": [
    "baseline[0]"
   ]
  },
  {
   "cell_type": "markdown",
   "metadata": {
    "slideshow": {
     "slide_type": "fragment"
    }
   },
   "source": [
    "Slicing works as well:"
   ]
  },
  {
   "cell_type": "code",
   "execution_count": 16,
   "metadata": {
    "collapsed": false
   },
   "outputs": [
    {
     "data": {
      "text/plain": [
       "patients\n",
       "Jane     364\n",
       "Joe     2117\n",
       "Name: CD4 baseline, dtype: int64"
      ]
     },
     "execution_count": 16,
     "metadata": {},
     "output_type": "execute_result"
    }
   ],
   "source": [
    "baseline[1:3]"
   ]
  },
  {
   "cell_type": "markdown",
   "metadata": {
    "slideshow": {
     "slide_type": "subslide"
    }
   },
   "source": [
    "Retrieving non-successive rows by position or index name:"
   ]
  },
  {
   "cell_type": "code",
   "execution_count": 17,
   "metadata": {
    "collapsed": false
   },
   "outputs": [
    {
     "data": {
      "text/plain": [
       "patients\n",
       "John     815\n",
       "Jane     364\n",
       "Joe     2117\n",
       "Name: CD4 baseline, dtype: int64"
      ]
     },
     "execution_count": 17,
     "metadata": {},
     "output_type": "execute_result"
    }
   ],
   "source": [
    "baseline"
   ]
  },
  {
   "cell_type": "code",
   "execution_count": 18,
   "metadata": {
    "collapsed": false
   },
   "outputs": [
    {
     "data": {
      "text/plain": [
       "patients\n",
       "John     815\n",
       "Joe     2117\n",
       "Name: CD4 baseline, dtype: int64"
      ]
     },
     "execution_count": 18,
     "metadata": {},
     "output_type": "execute_result"
    }
   ],
   "source": [
    "baseline[[0,2]]"
   ]
  },
  {
   "cell_type": "code",
   "execution_count": 19,
   "metadata": {
    "collapsed": false
   },
   "outputs": [
    {
     "data": {
      "text/plain": [
       "patients\n",
       "John     815\n",
       "Joe     2117\n",
       "Name: CD4 baseline, dtype: int64"
      ]
     },
     "execution_count": 19,
     "metadata": {},
     "output_type": "execute_result"
    }
   ],
   "source": [
    "baseline[['John', 'Joe']]"
   ]
  },
  {
   "cell_type": "markdown",
   "metadata": {
    "slideshow": {
     "slide_type": "slide"
    }
   },
   "source": [
    "### Data Alignment\n",
    "\n",
    "Let's create a Series with some followup data\n",
    "\n",
    "We'll use a different order for the patient names"
   ]
  },
  {
   "cell_type": "code",
   "execution_count": 20,
   "metadata": {
    "collapsed": false
   },
   "outputs": [
    {
     "data": {
      "text/plain": [
       "patients\n",
       "Jane     448\n",
       "Joe     1959\n",
       "John     792\n",
       "Name: CD4 followup, dtype: int64"
      ]
     },
     "execution_count": 20,
     "metadata": {},
     "output_type": "execute_result"
    }
   ],
   "source": [
    "followup_data = [448, 1959, 792]\n",
    "followup = Series(\n",
    "    followup_data,\n",
    "    index=['Jane', 'Joe', 'John'], \n",
    "    name='CD4 followup')\n",
    "followup.index.name = 'patients'\n",
    "followup "
   ]
  },
  {
   "cell_type": "markdown",
   "metadata": {
    "slideshow": {
     "slide_type": "fragment"
    }
   },
   "source": [
    "Note, we specified the Series name when creating the Series"
   ]
  },
  {
   "cell_type": "markdown",
   "metadata": {
    "slideshow": {
     "slide_type": "subslide"
    }
   },
   "source": [
    "Now let's compute the differences over time"
   ]
  },
  {
   "cell_type": "code",
   "execution_count": 21,
   "metadata": {
    "collapsed": false
   },
   "outputs": [
    {
     "data": {
      "text/plain": [
       "patients\n",
       "Jane     84\n",
       "Joe    -158\n",
       "John    -23\n",
       "dtype: int64"
      ]
     },
     "execution_count": 21,
     "metadata": {},
     "output_type": "execute_result"
    }
   ],
   "source": [
    "diff = followup - baseline\n",
    "diff"
   ]
  },
  {
   "cell_type": "markdown",
   "metadata": {
    "slideshow": {
     "slide_type": "fragment"
    }
   },
   "source": [
    "pandas uses the indices to ***align*** data in different series"
   ]
  },
  {
   "cell_type": "markdown",
   "metadata": {
    "slideshow": {
     "slide_type": "subslide"
    }
   },
   "source": [
    "But, what if the 2 Series have non-matching indices?"
   ]
  },
  {
   "cell_type": "code",
   "execution_count": 22,
   "metadata": {
    "collapsed": false
   },
   "outputs": [
    {
     "data": {
      "text/plain": [
       "patients\n",
       "John     815\n",
       "Jane     364\n",
       "Joe     2117\n",
       "Jill     836\n",
       "Name: CD4 baseline, dtype: int64"
      ]
     },
     "execution_count": 22,
     "metadata": {},
     "output_type": "execute_result"
    }
   ],
   "source": [
    "baseline['Jill'] = 836\n",
    "baseline"
   ]
  },
  {
   "cell_type": "code",
   "execution_count": 23,
   "metadata": {
    "collapsed": false
   },
   "outputs": [
    {
     "data": {
      "text/plain": [
       "patients\n",
       "Jane     84\n",
       "Jill    NaN\n",
       "Joe    -158\n",
       "John    -23\n",
       "dtype: float64"
      ]
     },
     "execution_count": 23,
     "metadata": {},
     "output_type": "execute_result"
    }
   ],
   "source": [
    "diff = followup - baseline\n",
    "diff"
   ]
  },
  {
   "cell_type": "markdown",
   "metadata": {
    "slideshow": {
     "slide_type": "fragment"
    }
   },
   "source": [
    "The new Series is a **union** of the indices\n",
    "\n",
    "pandas uses the value **`NaN`** (not a number) for the missing data"
   ]
  },
  {
   "cell_type": "markdown",
   "metadata": {
    "slideshow": {
     "slide_type": "slide"
    }
   },
   "source": [
    "### Filtering\n",
    "\n",
    "Like with NumPy, we can use boolean arrays for filtering"
   ]
  },
  {
   "cell_type": "code",
   "execution_count": 24,
   "metadata": {
    "collapsed": false
   },
   "outputs": [
    {
     "data": {
      "text/plain": [
       "patients\n",
       "Jane     True\n",
       "Jill    False\n",
       "Joe     False\n",
       "John    False\n",
       "dtype: bool"
      ]
     },
     "execution_count": 24,
     "metadata": {},
     "output_type": "execute_result"
    }
   ],
   "source": [
    "diff > 0"
   ]
  },
  {
   "cell_type": "markdown",
   "metadata": {
    "slideshow": {
     "slide_type": "fragment"
    }
   },
   "source": [
    "**NaN** is evaluated as False"
   ]
  },
  {
   "cell_type": "markdown",
   "metadata": {
    "slideshow": {
     "slide_type": "fragment"
    }
   },
   "source": [
    "Likewise for a \"less than\" comparison:"
   ]
  },
  {
   "cell_type": "code",
   "execution_count": 25,
   "metadata": {
    "collapsed": false
   },
   "outputs": [
    {
     "data": {
      "text/plain": [
       "patients\n",
       "Jane    False\n",
       "Jill    False\n",
       "Joe      True\n",
       "John     True\n",
       "dtype: bool"
      ]
     },
     "execution_count": 25,
     "metadata": {},
     "output_type": "execute_result"
    }
   ],
   "source": [
    "diff < 0"
   ]
  },
  {
   "cell_type": "markdown",
   "metadata": {
    "slideshow": {
     "slide_type": "subslide"
    }
   },
   "source": [
    "Use the boolean array to get the values for the filter"
   ]
  },
  {
   "cell_type": "code",
   "execution_count": 26,
   "metadata": {
    "collapsed": false
   },
   "outputs": [
    {
     "data": {
      "text/plain": [
       "patients\n",
       "Jane    84\n",
       "dtype: float64"
      ]
     },
     "execution_count": 26,
     "metadata": {},
     "output_type": "execute_result"
    }
   ],
   "source": [
    "diff[diff > 0]"
   ]
  },
  {
   "cell_type": "markdown",
   "metadata": {
    "slideshow": {
     "slide_type": "fragment"
    }
   },
   "source": [
    "Only the values corresponding to **`True`** are returned"
   ]
  },
  {
   "cell_type": "markdown",
   "metadata": {
    "slideshow": {
     "slide_type": "subslide"
    }
   },
   "source": [
    "We can easily filter the missing data using the function **`isnull`**"
   ]
  },
  {
   "cell_type": "code",
   "execution_count": 27,
   "metadata": {
    "collapsed": false
   },
   "outputs": [
    {
     "data": {
      "text/plain": [
       "patients\n",
       "Jill   NaN\n",
       "dtype: float64"
      ]
     },
     "execution_count": 27,
     "metadata": {},
     "output_type": "execute_result"
    }
   ],
   "source": [
    "diff[diff.isnull()]"
   ]
  },
  {
   "cell_type": "markdown",
   "metadata": {
    "slideshow": {
     "slide_type": "fragment"
    }
   },
   "source": [
    "And get the inverse using **`notnull`**"
   ]
  },
  {
   "cell_type": "code",
   "execution_count": 28,
   "metadata": {
    "collapsed": false
   },
   "outputs": [
    {
     "data": {
      "text/plain": [
       "patients\n",
       "Jane     84\n",
       "Joe    -158\n",
       "John    -23\n",
       "dtype: float64"
      ]
     },
     "execution_count": 28,
     "metadata": {},
     "output_type": "execute_result"
    }
   ],
   "source": [
    "diff[diff.notnull()]"
   ]
  },
  {
   "cell_type": "markdown",
   "metadata": {
    "slideshow": {
     "slide_type": "subslide"
    }
   },
   "source": [
    "We can also fill in the missing values with a value using **`fillna`**."
   ]
  },
  {
   "cell_type": "code",
   "execution_count": 29,
   "metadata": {
    "collapsed": false
   },
   "outputs": [
    {
     "data": {
      "text/plain": [
       "patients\n",
       "Jane     84\n",
       "Jill      0\n",
       "Joe    -158\n",
       "John    -23\n",
       "dtype: float64"
      ]
     },
     "execution_count": 29,
     "metadata": {},
     "output_type": "execute_result"
    }
   ],
   "source": [
    "diff.fillna(0)"
   ]
  },
  {
   "cell_type": "markdown",
   "metadata": {
    "slideshow": {
     "slide_type": "fragment"
    }
   },
   "source": [
    "**`fillna`** doesn't modify the original Series, but does take an ***`inplace`*** argument"
   ]
  },
  {
   "cell_type": "markdown",
   "metadata": {
    "slideshow": {
     "slide_type": "fragment"
    }
   },
   "source": [
    "There's also **`dropna`** to remove missing values"
   ]
  },
  {
   "cell_type": "code",
   "execution_count": 30,
   "metadata": {
    "collapsed": false
   },
   "outputs": [
    {
     "data": {
      "text/plain": [
       "patients\n",
       "Jane     84\n",
       "Joe    -158\n",
       "John    -23\n",
       "dtype: float64"
      ]
     },
     "execution_count": 30,
     "metadata": {},
     "output_type": "execute_result"
    }
   ],
   "source": [
    "diff.dropna(inplace=True)\n",
    "diff"
   ]
  },
  {
   "cell_type": "markdown",
   "metadata": {
    "slideshow": {
     "slide_type": "slide"
    }
   },
   "source": [
    "# Data Structures\n",
    "\n",
    "## DataFrame\n",
    "\n",
    "A DataFrame is similar to an Excel spreadsheet, containing both columns and rows\n",
    "\n",
    "You can think of a DataFrame as a container for multiple Series with a common index"
   ]
  },
  {
   "cell_type": "markdown",
   "metadata": {
    "slideshow": {
     "slide_type": "subslide"
    }
   },
   "source": [
    "Let's create a DataFrame by concatenating both the baseline and followup Series across the columns (**`axis=1`**):"
   ]
  },
  {
   "cell_type": "code",
   "execution_count": 116,
   "metadata": {
    "collapsed": false
   },
   "outputs": [
    {
     "data": {
      "text/html": [
       "<div>\n",
       "<table border=\"1\" class=\"dataframe\">\n",
       "  <thead>\n",
       "    <tr style=\"text-align: right;\">\n",
       "      <th></th>\n",
       "      <th>CD4 baseline</th>\n",
       "      <th>CD4 followup</th>\n",
       "    </tr>\n",
       "  </thead>\n",
       "  <tbody>\n",
       "    <tr>\n",
       "      <th>Jane</th>\n",
       "      <td>364</td>\n",
       "      <td>448</td>\n",
       "    </tr>\n",
       "    <tr>\n",
       "      <th>Jill</th>\n",
       "      <td>836</td>\n",
       "      <td>NaN</td>\n",
       "    </tr>\n",
       "    <tr>\n",
       "      <th>Joe</th>\n",
       "      <td>2117</td>\n",
       "      <td>1959</td>\n",
       "    </tr>\n",
       "    <tr>\n",
       "      <th>John</th>\n",
       "      <td>815</td>\n",
       "      <td>792</td>\n",
       "    </tr>\n",
       "  </tbody>\n",
       "</table>\n",
       "</div>"
      ],
      "text/plain": [
       "      CD4 baseline  CD4 followup\n",
       "Jane           364           448\n",
       "Jill           836           NaN\n",
       "Joe           2117          1959\n",
       "John           815           792"
      ]
     },
     "execution_count": 116,
     "metadata": {},
     "output_type": "execute_result"
    }
   ],
   "source": [
    "cd4_frame = pd.concat([baseline, followup], axis=1)\n",
    "cd4_frame"
   ]
  },
  {
   "cell_type": "markdown",
   "metadata": {
    "slideshow": {
     "slide_type": "fragment"
    }
   },
   "source": [
    "iPython notebook renders the DataFrame as an HTML table"
   ]
  },
  {
   "cell_type": "markdown",
   "metadata": {
    "slideshow": {
     "slide_type": "subslide"
    }
   },
   "source": [
    "### Axis labelling is tricky\n",
    "\n",
    "```\n",
    "+------+-------+-------+\n",
    "|      | col_A | col_B |\n",
    "+------+-------+-------+\n",
    "| Jane |  364  |  448  | -- axis=1 -->\n",
    "+------+-------+-------+\n",
    "           |\n",
    "           | axis=0\n",
    "           ↓\n",
    "```"
   ]
  },
  {
   "cell_type": "markdown",
   "metadata": {
    "slideshow": {
     "slide_type": "fragment"
    }
   },
   "source": [
    "**`axis=1`** as across the columns (along the row)\n",
    "\n",
    "**`axis=0`** as across the rows (along the column)"
   ]
  },
  {
   "cell_type": "markdown",
   "metadata": {
    "slideshow": {
     "slide_type": "subslide"
    }
   },
   "source": [
    "The **`shape`** *attribute* returns the number of rows and columns:"
   ]
  },
  {
   "cell_type": "code",
   "execution_count": 117,
   "metadata": {
    "collapsed": false
   },
   "outputs": [
    {
     "data": {
      "text/plain": [
       "(4, 2)"
      ]
     },
     "execution_count": 117,
     "metadata": {},
     "output_type": "execute_result"
    }
   ],
   "source": [
    "cd4_frame.shape"
   ]
  },
  {
   "cell_type": "markdown",
   "metadata": {
    "slideshow": {
     "slide_type": "fragment"
    }
   },
   "source": [
    "The **`describe`** *method* gives a variety of summary data:"
   ]
  },
  {
   "cell_type": "code",
   "execution_count": 118,
   "metadata": {
    "collapsed": false
   },
   "outputs": [
    {
     "data": {
      "text/html": [
       "<div>\n",
       "<table border=\"1\" class=\"dataframe\">\n",
       "  <thead>\n",
       "    <tr style=\"text-align: right;\">\n",
       "      <th></th>\n",
       "      <th>CD4 baseline</th>\n",
       "      <th>CD4 followup</th>\n",
       "    </tr>\n",
       "  </thead>\n",
       "  <tbody>\n",
       "    <tr>\n",
       "      <th>count</th>\n",
       "      <td>4.000000</td>\n",
       "      <td>3.000000</td>\n",
       "    </tr>\n",
       "    <tr>\n",
       "      <th>mean</th>\n",
       "      <td>1033.000000</td>\n",
       "      <td>1066.333333</td>\n",
       "    </tr>\n",
       "    <tr>\n",
       "      <th>std</th>\n",
       "      <td>754.751615</td>\n",
       "      <td>791.974958</td>\n",
       "    </tr>\n",
       "    <tr>\n",
       "      <th>min</th>\n",
       "      <td>364.000000</td>\n",
       "      <td>448.000000</td>\n",
       "    </tr>\n",
       "    <tr>\n",
       "      <th>25%</th>\n",
       "      <td>702.250000</td>\n",
       "      <td>620.000000</td>\n",
       "    </tr>\n",
       "    <tr>\n",
       "      <th>50%</th>\n",
       "      <td>825.500000</td>\n",
       "      <td>792.000000</td>\n",
       "    </tr>\n",
       "    <tr>\n",
       "      <th>75%</th>\n",
       "      <td>1156.250000</td>\n",
       "      <td>1375.500000</td>\n",
       "    </tr>\n",
       "    <tr>\n",
       "      <th>max</th>\n",
       "      <td>2117.000000</td>\n",
       "      <td>1959.000000</td>\n",
       "    </tr>\n",
       "  </tbody>\n",
       "</table>\n",
       "</div>"
      ],
      "text/plain": [
       "       CD4 baseline  CD4 followup\n",
       "count      4.000000      3.000000\n",
       "mean    1033.000000   1066.333333\n",
       "std      754.751615    791.974958\n",
       "min      364.000000    448.000000\n",
       "25%      702.250000    620.000000\n",
       "50%      825.500000    792.000000\n",
       "75%     1156.250000   1375.500000\n",
       "max     2117.000000   1959.000000"
      ]
     },
     "execution_count": 118,
     "metadata": {},
     "output_type": "execute_result"
    }
   ],
   "source": [
    "cd4_frame.describe()"
   ]
  },
  {
   "cell_type": "markdown",
   "metadata": {
    "slideshow": {
     "slide_type": "slide"
    }
   },
   "source": [
    "### Naming things\n",
    "\n",
    "Let's rename the columns for easier typing & to remove the spaces:"
   ]
  },
  {
   "cell_type": "code",
   "execution_count": 122,
   "metadata": {
    "collapsed": false
   },
   "outputs": [
    {
     "data": {
      "text/html": [
       "<div>\n",
       "<table border=\"1\" class=\"dataframe\">\n",
       "  <thead>\n",
       "    <tr style=\"text-align: right;\">\n",
       "      <th></th>\n",
       "      <th>baseline</th>\n",
       "      <th>followup</th>\n",
       "    </tr>\n",
       "    <tr>\n",
       "      <th>patients</th>\n",
       "      <th></th>\n",
       "      <th></th>\n",
       "    </tr>\n",
       "  </thead>\n",
       "  <tbody>\n",
       "    <tr>\n",
       "      <th>Jane</th>\n",
       "      <td>364</td>\n",
       "      <td>448</td>\n",
       "    </tr>\n",
       "    <tr>\n",
       "      <th>Jill</th>\n",
       "      <td>836</td>\n",
       "      <td>NaN</td>\n",
       "    </tr>\n",
       "    <tr>\n",
       "      <th>Joe</th>\n",
       "      <td>2117</td>\n",
       "      <td>1959</td>\n",
       "    </tr>\n",
       "    <tr>\n",
       "      <th>John</th>\n",
       "      <td>815</td>\n",
       "      <td>792</td>\n",
       "    </tr>\n",
       "  </tbody>\n",
       "</table>\n",
       "</div>"
      ],
      "text/plain": [
       "          baseline  followup\n",
       "patients                    \n",
       "Jane           364       448\n",
       "Jill           836       NaN\n",
       "Joe           2117      1959\n",
       "John           815       792"
      ]
     },
     "execution_count": 122,
     "metadata": {},
     "output_type": "execute_result"
    }
   ],
   "source": [
    "cd4_frame.rename(\n",
    "    columns={\n",
    "        'CD4 baseline': 'baseline', \n",
    "        'CD4 followup': 'followup'\n",
    "    },\n",
    "    inplace=True)\n",
    "cd4_frame"
   ]
  },
  {
   "cell_type": "markdown",
   "metadata": {
    "slideshow": {
     "slide_type": "fragment"
    }
   },
   "source": [
    "And, just like with a Series, we can name the DataFrame's index."
   ]
  },
  {
   "cell_type": "code",
   "execution_count": 123,
   "metadata": {
    "collapsed": false
   },
   "outputs": [
    {
     "data": {
      "text/html": [
       "<div>\n",
       "<table border=\"1\" class=\"dataframe\">\n",
       "  <thead>\n",
       "    <tr style=\"text-align: right;\">\n",
       "      <th></th>\n",
       "      <th>baseline</th>\n",
       "      <th>followup</th>\n",
       "    </tr>\n",
       "    <tr>\n",
       "      <th>patients</th>\n",
       "      <th></th>\n",
       "      <th></th>\n",
       "    </tr>\n",
       "  </thead>\n",
       "  <tbody>\n",
       "    <tr>\n",
       "      <th>Jane</th>\n",
       "      <td>364</td>\n",
       "      <td>448</td>\n",
       "    </tr>\n",
       "    <tr>\n",
       "      <th>Jill</th>\n",
       "      <td>836</td>\n",
       "      <td>NaN</td>\n",
       "    </tr>\n",
       "    <tr>\n",
       "      <th>Joe</th>\n",
       "      <td>2117</td>\n",
       "      <td>1959</td>\n",
       "    </tr>\n",
       "    <tr>\n",
       "      <th>John</th>\n",
       "      <td>815</td>\n",
       "      <td>792</td>\n",
       "    </tr>\n",
       "  </tbody>\n",
       "</table>\n",
       "</div>"
      ],
      "text/plain": [
       "          baseline  followup\n",
       "patients                    \n",
       "Jane           364       448\n",
       "Jill           836       NaN\n",
       "Joe           2117      1959\n",
       "John           815       792"
      ]
     },
     "execution_count": 123,
     "metadata": {},
     "output_type": "execute_result"
    }
   ],
   "source": [
    "cd4_frame.index.name = 'patients'\n",
    "cd4_frame"
   ]
  },
  {
   "cell_type": "markdown",
   "metadata": {
    "slideshow": {
     "slide_type": "slide"
    }
   },
   "source": [
    "### Making Selections\n",
    "\n",
    "A single column can be extracted in a couple ways\n",
    "\n",
    "First, by dictionary-like indexing:"
   ]
  },
  {
   "cell_type": "code",
   "execution_count": 36,
   "metadata": {
    "collapsed": false
   },
   "outputs": [
    {
     "data": {
      "text/plain": [
       "patients\n",
       "Jane     364\n",
       "Jill     836\n",
       "Joe     2117\n",
       "John     815\n",
       "Name: baseline, dtype: int64"
      ]
     },
     "execution_count": 36,
     "metadata": {},
     "output_type": "execute_result"
    }
   ],
   "source": [
    "cd4_frame['baseline']"
   ]
  },
  {
   "cell_type": "markdown",
   "metadata": {
    "slideshow": {
     "slide_type": "fragment"
    }
   },
   "source": [
    "Notice a DataFrame index refers to a column, whereas a Series index referred to a row\n",
    "\n",
    "We'll see how to select an entire DataFrame row in a bit"
   ]
  },
  {
   "cell_type": "markdown",
   "metadata": {
    "slideshow": {
     "slide_type": "subslide"
    }
   },
   "source": [
    "A more convenient way to extract a column is by attribute:"
   ]
  },
  {
   "cell_type": "code",
   "execution_count": 37,
   "metadata": {
    "collapsed": false,
    "scrolled": false
   },
   "outputs": [
    {
     "data": {
      "text/plain": [
       "patients\n",
       "Jane     364\n",
       "Jill     836\n",
       "Joe     2117\n",
       "John     815\n",
       "Name: baseline, dtype: int64"
      ]
     },
     "execution_count": 37,
     "metadata": {},
     "output_type": "execute_result"
    }
   ],
   "source": [
    "cd4_frame.baseline"
   ]
  },
  {
   "cell_type": "markdown",
   "metadata": {
    "slideshow": {
     "slide_type": "fragment"
    }
   },
   "source": [
    "Column names containing a space are not available as an attribute, you must use dictionary indexing\n",
    "\n",
    "...another good reason to rename unwieldy column names"
   ]
  },
  {
   "cell_type": "markdown",
   "metadata": {
    "slideshow": {
     "slide_type": "subslide"
    }
   },
   "source": [
    "A column extracted from a DataFrame is a pandas Series object"
   ]
  },
  {
   "cell_type": "code",
   "execution_count": 38,
   "metadata": {
    "collapsed": false
   },
   "outputs": [
    {
     "data": {
      "text/plain": [
       "pandas.core.series.Series"
      ]
     },
     "execution_count": 38,
     "metadata": {},
     "output_type": "execute_result"
    }
   ],
   "source": [
    "type(cd4_frame.baseline)"
   ]
  },
  {
   "cell_type": "markdown",
   "metadata": {
    "slideshow": {
     "slide_type": "fragment"
    }
   },
   "source": [
    "Any of the Series methods can be used on the column"
   ]
  },
  {
   "cell_type": "code",
   "execution_count": 39,
   "metadata": {
    "collapsed": false
   },
   "outputs": [
    {
     "data": {
      "text/plain": [
       "patients\n",
       "Jane    False\n",
       "Jill     True\n",
       "Joe     False\n",
       "John    False\n",
       "Name: followup, dtype: bool"
      ]
     },
     "execution_count": 39,
     "metadata": {},
     "output_type": "execute_result"
    }
   ],
   "source": [
    "cd4_frame.followup.isnull()"
   ]
  },
  {
   "cell_type": "markdown",
   "metadata": {
    "slideshow": {
     "slide_type": "subslide"
    }
   },
   "source": [
    "Knowing this, we can extract a single \"cell\" from a DataFrame:"
   ]
  },
  {
   "cell_type": "code",
   "execution_count": 40,
   "metadata": {
    "collapsed": false
   },
   "outputs": [
    {
     "data": {
      "text/plain": [
       "2117"
      ]
     },
     "execution_count": 40,
     "metadata": {},
     "output_type": "execute_result"
    }
   ],
   "source": [
    "cd4_frame.baseline['Joe']"
   ]
  },
  {
   "cell_type": "markdown",
   "metadata": {
    "slideshow": {
     "slide_type": "fragment"
    }
   },
   "source": [
    "This works with dictionary indexing too:"
   ]
  },
  {
   "cell_type": "code",
   "execution_count": 41,
   "metadata": {
    "collapsed": false
   },
   "outputs": [
    {
     "data": {
      "text/plain": [
       "2117"
      ]
     },
     "execution_count": 41,
     "metadata": {},
     "output_type": "execute_result"
    }
   ],
   "source": [
    "cd4_frame['baseline']['Joe']"
   ]
  },
  {
   "cell_type": "markdown",
   "metadata": {
    "slideshow": {
     "slide_type": "fragment"
    }
   },
   "source": [
    "If all the names are space-free, we can conveniently use all attributes:"
   ]
  },
  {
   "cell_type": "code",
   "execution_count": 42,
   "metadata": {
    "collapsed": false
   },
   "outputs": [
    {
     "data": {
      "text/plain": [
       "2117"
      ]
     },
     "execution_count": 42,
     "metadata": {},
     "output_type": "execute_result"
    }
   ],
   "source": [
    "cd4_frame.baseline.Joe"
   ]
  },
  {
   "cell_type": "markdown",
   "metadata": {
    "slideshow": {
     "slide_type": "subslide"
    }
   },
   "source": [
    "We can select multiple columns and specify their order using a ***list*** of column names:"
   ]
  },
  {
   "cell_type": "code",
   "execution_count": 43,
   "metadata": {
    "collapsed": false
   },
   "outputs": [
    {
     "data": {
      "text/html": [
       "<div>\n",
       "<table border=\"1\" class=\"dataframe\">\n",
       "  <thead>\n",
       "    <tr style=\"text-align: right;\">\n",
       "      <th></th>\n",
       "      <th>followup</th>\n",
       "      <th>baseline</th>\n",
       "    </tr>\n",
       "    <tr>\n",
       "      <th>patients</th>\n",
       "      <th></th>\n",
       "      <th></th>\n",
       "    </tr>\n",
       "  </thead>\n",
       "  <tbody>\n",
       "    <tr>\n",
       "      <th>Jane</th>\n",
       "      <td>448</td>\n",
       "      <td>364</td>\n",
       "    </tr>\n",
       "    <tr>\n",
       "      <th>Jill</th>\n",
       "      <td>NaN</td>\n",
       "      <td>836</td>\n",
       "    </tr>\n",
       "    <tr>\n",
       "      <th>Joe</th>\n",
       "      <td>1959</td>\n",
       "      <td>2117</td>\n",
       "    </tr>\n",
       "    <tr>\n",
       "      <th>John</th>\n",
       "      <td>792</td>\n",
       "      <td>815</td>\n",
       "    </tr>\n",
       "  </tbody>\n",
       "</table>\n",
       "</div>"
      ],
      "text/plain": [
       "          followup  baseline\n",
       "patients                    \n",
       "Jane           448       364\n",
       "Jill           NaN       836\n",
       "Joe           1959      2117\n",
       "John           792       815"
      ]
     },
     "execution_count": 43,
     "metadata": {},
     "output_type": "execute_result"
    }
   ],
   "source": [
    "cd4_frame[['followup','baseline']]"
   ]
  },
  {
   "cell_type": "markdown",
   "metadata": {
    "slideshow": {
     "slide_type": "fragment"
    }
   },
   "source": [
    "But, be careful when manipulating data extracted from a DataFrame:"
   ]
  },
  {
   "cell_type": "code",
   "execution_count": 124,
   "metadata": {
    "collapsed": false
   },
   "outputs": [
    {
     "name": "stderr",
     "output_type": "stream",
     "text": [
      "/home/swhite/rise-env/lib/python2.7/site-packages/ipykernel/__main__.py:2: SettingWithCopyWarning: \n",
      "A value is trying to be set on a copy of a slice from a DataFrame\n",
      "\n",
      "See the the caveats in the documentation: http://pandas.pydata.org/pandas-docs/stable/indexing.html#indexing-view-versus-copy\n",
      "  from ipykernel import kernelapp as app\n"
     ]
    },
    {
     "data": {
      "text/html": [
       "<div>\n",
       "<table border=\"1\" class=\"dataframe\">\n",
       "  <thead>\n",
       "    <tr style=\"text-align: right;\">\n",
       "      <th></th>\n",
       "      <th>baseline</th>\n",
       "      <th>followup</th>\n",
       "    </tr>\n",
       "    <tr>\n",
       "      <th>patients</th>\n",
       "      <th></th>\n",
       "      <th></th>\n",
       "    </tr>\n",
       "  </thead>\n",
       "  <tbody>\n",
       "    <tr>\n",
       "      <th>Jane</th>\n",
       "      <td>42</td>\n",
       "      <td>448</td>\n",
       "    </tr>\n",
       "    <tr>\n",
       "      <th>Jill</th>\n",
       "      <td>836</td>\n",
       "      <td>NaN</td>\n",
       "    </tr>\n",
       "    <tr>\n",
       "      <th>Joe</th>\n",
       "      <td>2117</td>\n",
       "      <td>1959</td>\n",
       "    </tr>\n",
       "    <tr>\n",
       "      <th>John</th>\n",
       "      <td>815</td>\n",
       "      <td>792</td>\n",
       "    </tr>\n",
       "  </tbody>\n",
       "</table>\n",
       "</div>"
      ],
      "text/plain": [
       "          baseline  followup\n",
       "patients                    \n",
       "Jane            42       448\n",
       "Jill           836       NaN\n",
       "Joe           2117      1959\n",
       "John           815       792"
      ]
     },
     "execution_count": 124,
     "metadata": {},
     "output_type": "execute_result"
    }
   ],
   "source": [
    "col = cd4_frame.baseline\n",
    "col['Jane'] = 42\n",
    "cd4_frame"
   ]
  },
  {
   "cell_type": "markdown",
   "metadata": {
    "slideshow": {
     "slide_type": "subslide"
    }
   },
   "source": [
    "The Series extracted from our DataFrame is a **view** and not a copy of the data. If you really want a separate copy make sure to use **`copy`**:"
   ]
  },
  {
   "cell_type": "code",
   "execution_count": 45,
   "metadata": {
    "collapsed": false,
    "slideshow": {
     "slide_type": "-"
    }
   },
   "outputs": [
    {
     "data": {
      "text/html": [
       "<div>\n",
       "<table border=\"1\" class=\"dataframe\">\n",
       "  <thead>\n",
       "    <tr style=\"text-align: right;\">\n",
       "      <th></th>\n",
       "      <th>baseline</th>\n",
       "      <th>followup</th>\n",
       "    </tr>\n",
       "    <tr>\n",
       "      <th>patients</th>\n",
       "      <th></th>\n",
       "      <th></th>\n",
       "    </tr>\n",
       "  </thead>\n",
       "  <tbody>\n",
       "    <tr>\n",
       "      <th>Jane</th>\n",
       "      <td>42</td>\n",
       "      <td>448</td>\n",
       "    </tr>\n",
       "    <tr>\n",
       "      <th>Jill</th>\n",
       "      <td>836</td>\n",
       "      <td>NaN</td>\n",
       "    </tr>\n",
       "    <tr>\n",
       "      <th>Joe</th>\n",
       "      <td>2117</td>\n",
       "      <td>1959</td>\n",
       "    </tr>\n",
       "    <tr>\n",
       "      <th>John</th>\n",
       "      <td>815</td>\n",
       "      <td>792</td>\n",
       "    </tr>\n",
       "  </tbody>\n",
       "</table>\n",
       "</div>"
      ],
      "text/plain": [
       "          baseline  followup\n",
       "patients                    \n",
       "Jane            42       448\n",
       "Jill           836       NaN\n",
       "Joe           2117      1959\n",
       "John           815       792"
      ]
     },
     "execution_count": 45,
     "metadata": {},
     "output_type": "execute_result"
    }
   ],
   "source": [
    "col = cd4_frame.baseline.copy()\n",
    "col['Jane'] = 5000\n",
    "cd4_frame"
   ]
  },
  {
   "cell_type": "markdown",
   "metadata": {
    "slideshow": {
     "slide_type": "fragment"
    }
   },
   "source": [
    "Let's restore our original baseline column:"
   ]
  },
  {
   "cell_type": "code",
   "execution_count": 46,
   "metadata": {
    "collapsed": false
   },
   "outputs": [
    {
     "data": {
      "text/html": [
       "<div>\n",
       "<table border=\"1\" class=\"dataframe\">\n",
       "  <thead>\n",
       "    <tr style=\"text-align: right;\">\n",
       "      <th></th>\n",
       "      <th>baseline</th>\n",
       "      <th>followup</th>\n",
       "    </tr>\n",
       "    <tr>\n",
       "      <th>patients</th>\n",
       "      <th></th>\n",
       "      <th></th>\n",
       "    </tr>\n",
       "  </thead>\n",
       "  <tbody>\n",
       "    <tr>\n",
       "      <th>Jane</th>\n",
       "      <td>364</td>\n",
       "      <td>448</td>\n",
       "    </tr>\n",
       "    <tr>\n",
       "      <th>Jill</th>\n",
       "      <td>836</td>\n",
       "      <td>NaN</td>\n",
       "    </tr>\n",
       "    <tr>\n",
       "      <th>Joe</th>\n",
       "      <td>2117</td>\n",
       "      <td>1959</td>\n",
       "    </tr>\n",
       "    <tr>\n",
       "      <th>John</th>\n",
       "      <td>815</td>\n",
       "      <td>792</td>\n",
       "    </tr>\n",
       "  </tbody>\n",
       "</table>\n",
       "</div>"
      ],
      "text/plain": [
       "          baseline  followup\n",
       "patients                    \n",
       "Jane           364       448\n",
       "Jill           836       NaN\n",
       "Joe           2117      1959\n",
       "John           815       792"
      ]
     },
     "execution_count": 46,
     "metadata": {},
     "output_type": "execute_result"
    }
   ],
   "source": [
    "cd4_frame['baseline'] = baseline\n",
    "cd4_frame"
   ]
  },
  {
   "cell_type": "markdown",
   "metadata": {
    "slideshow": {
     "slide_type": "subslide"
    }
   },
   "source": [
    "### Retrieving Rows\n",
    "\n",
    "To retrieve an entire DataFrame row, use the **`ix`** attribute: "
   ]
  },
  {
   "cell_type": "code",
   "execution_count": 47,
   "metadata": {
    "collapsed": false
   },
   "outputs": [
    {
     "data": {
      "text/plain": [
       "baseline    2117\n",
       "followup    1959\n",
       "Name: Joe, dtype: float64"
      ]
     },
     "execution_count": 47,
     "metadata": {},
     "output_type": "execute_result"
    }
   ],
   "source": [
    "cd4_frame.ix['Joe']"
   ]
  },
  {
   "cell_type": "markdown",
   "metadata": {
    "slideshow": {
     "slide_type": "fragment"
    }
   },
   "source": [
    "This also returns a Series object:"
   ]
  },
  {
   "cell_type": "code",
   "execution_count": 48,
   "metadata": {
    "collapsed": false
   },
   "outputs": [
    {
     "data": {
      "text/plain": [
       "pandas.core.series.Series"
      ]
     },
     "execution_count": 48,
     "metadata": {},
     "output_type": "execute_result"
    }
   ],
   "source": [
    "type(cd4_frame.ix['Joe'])"
   ]
  },
  {
   "cell_type": "markdown",
   "metadata": {
    "slideshow": {
     "slide_type": "subslide"
    }
   },
   "source": [
    "And gives us even more options for accessing a single value:"
   ]
  },
  {
   "cell_type": "code",
   "execution_count": 49,
   "metadata": {
    "collapsed": false
   },
   "outputs": [
    {
     "data": {
      "text/plain": [
       "2117.0"
      ]
     },
     "execution_count": 49,
     "metadata": {},
     "output_type": "execute_result"
    }
   ],
   "source": [
    "cd4_frame.ix['Joe'].baseline"
   ]
  },
  {
   "cell_type": "code",
   "execution_count": 50,
   "metadata": {
    "collapsed": false
   },
   "outputs": [
    {
     "data": {
      "text/plain": [
       "2117.0"
      ]
     },
     "execution_count": 50,
     "metadata": {},
     "output_type": "execute_result"
    }
   ],
   "source": [
    "cd4_frame.ix['Joe']['baseline']"
   ]
  },
  {
   "cell_type": "markdown",
   "metadata": {
    "slideshow": {
     "slide_type": "fragment"
    }
   },
   "source": [
    "But, **`ix`** does *not* have attributes for the row names, so this won't work:"
   ]
  },
  {
   "cell_type": "code",
   "execution_count": 51,
   "metadata": {
    "collapsed": false
   },
   "outputs": [
    {
     "ename": "AttributeError",
     "evalue": "'_IXIndexer' object has no attribute 'Joe'",
     "output_type": "error",
     "traceback": [
      "\u001b[1;31m---------------------------------------------------------------------------\u001b[0m",
      "\u001b[1;31mAttributeError\u001b[0m                            Traceback (most recent call last)",
      "\u001b[1;32m<ipython-input-51-27748abd854d>\u001b[0m in \u001b[0;36m<module>\u001b[1;34m()\u001b[0m\n\u001b[1;32m----> 1\u001b[1;33m \u001b[0mcd4_frame\u001b[0m\u001b[1;33m.\u001b[0m\u001b[0mix\u001b[0m\u001b[1;33m.\u001b[0m\u001b[0mJoe\u001b[0m\u001b[1;33m\u001b[0m\u001b[0m\n\u001b[0m",
      "\u001b[1;31mAttributeError\u001b[0m: '_IXIndexer' object has no attribute 'Joe'"
     ]
    }
   ],
   "source": [
    "cd4_frame.ix.Joe"
   ]
  },
  {
   "cell_type": "markdown",
   "metadata": {
    "slideshow": {
     "slide_type": "subslide"
    }
   },
   "source": [
    "To get the first 2 rows, we can slice using **`ix`**:"
   ]
  },
  {
   "cell_type": "code",
   "execution_count": 52,
   "metadata": {
    "collapsed": false
   },
   "outputs": [
    {
     "data": {
      "text/html": [
       "<div>\n",
       "<table border=\"1\" class=\"dataframe\">\n",
       "  <thead>\n",
       "    <tr style=\"text-align: right;\">\n",
       "      <th></th>\n",
       "      <th>baseline</th>\n",
       "      <th>followup</th>\n",
       "    </tr>\n",
       "    <tr>\n",
       "      <th>patients</th>\n",
       "      <th></th>\n",
       "      <th></th>\n",
       "    </tr>\n",
       "  </thead>\n",
       "  <tbody>\n",
       "    <tr>\n",
       "      <th>Jane</th>\n",
       "      <td>364</td>\n",
       "      <td>448</td>\n",
       "    </tr>\n",
       "    <tr>\n",
       "      <th>Jill</th>\n",
       "      <td>836</td>\n",
       "      <td>NaN</td>\n",
       "    </tr>\n",
       "  </tbody>\n",
       "</table>\n",
       "</div>"
      ],
      "text/plain": [
       "          baseline  followup\n",
       "patients                    \n",
       "Jane           364       448\n",
       "Jill           836       NaN"
      ]
     },
     "execution_count": 52,
     "metadata": {},
     "output_type": "execute_result"
    }
   ],
   "source": [
    "cd4_frame.ix[:2]"
   ]
  },
  {
   "cell_type": "markdown",
   "metadata": {
    "slideshow": {
     "slide_type": "fragment"
    }
   },
   "source": [
    "Getting the 2nd and 4th rows:"
   ]
  },
  {
   "cell_type": "code",
   "execution_count": 53,
   "metadata": {
    "collapsed": false
   },
   "outputs": [
    {
     "data": {
      "text/html": [
       "<div>\n",
       "<table border=\"1\" class=\"dataframe\">\n",
       "  <thead>\n",
       "    <tr style=\"text-align: right;\">\n",
       "      <th></th>\n",
       "      <th>baseline</th>\n",
       "      <th>followup</th>\n",
       "    </tr>\n",
       "    <tr>\n",
       "      <th>patients</th>\n",
       "      <th></th>\n",
       "      <th></th>\n",
       "    </tr>\n",
       "  </thead>\n",
       "  <tbody>\n",
       "    <tr>\n",
       "      <th>Jill</th>\n",
       "      <td>836</td>\n",
       "      <td>NaN</td>\n",
       "    </tr>\n",
       "    <tr>\n",
       "      <th>John</th>\n",
       "      <td>815</td>\n",
       "      <td>792</td>\n",
       "    </tr>\n",
       "  </tbody>\n",
       "</table>\n",
       "</div>"
      ],
      "text/plain": [
       "          baseline  followup\n",
       "patients                    \n",
       "Jill           836       NaN\n",
       "John           815       792"
      ]
     },
     "execution_count": 53,
     "metadata": {},
     "output_type": "execute_result"
    }
   ],
   "source": [
    "cd4_frame.ix[[1,3]]"
   ]
  },
  {
   "cell_type": "markdown",
   "metadata": {
    "slideshow": {
     "slide_type": "subslide"
    }
   },
   "source": [
    "Select multiple rows of a single column:"
   ]
  },
  {
   "cell_type": "code",
   "execution_count": 54,
   "metadata": {
    "collapsed": false
   },
   "outputs": [
    {
     "data": {
      "text/plain": [
       "patients\n",
       "Jill    NaN\n",
       "John    792\n",
       "Name: followup, dtype: float64"
      ]
     },
     "execution_count": 54,
     "metadata": {},
     "output_type": "execute_result"
    }
   ],
   "source": [
    "cd4_frame.ix[[1,3], 'followup']"
   ]
  },
  {
   "cell_type": "markdown",
   "metadata": {
    "slideshow": {
     "slide_type": "fragment"
    }
   },
   "source": [
    "And finally, selecting multiple rows and multiple columns:"
   ]
  },
  {
   "cell_type": "code",
   "execution_count": 55,
   "metadata": {
    "collapsed": false
   },
   "outputs": [
    {
     "data": {
      "text/html": [
       "<div>\n",
       "<table border=\"1\" class=\"dataframe\">\n",
       "  <thead>\n",
       "    <tr style=\"text-align: right;\">\n",
       "      <th></th>\n",
       "      <th>followup</th>\n",
       "      <th>baseline</th>\n",
       "    </tr>\n",
       "    <tr>\n",
       "      <th>patients</th>\n",
       "      <th></th>\n",
       "      <th></th>\n",
       "    </tr>\n",
       "  </thead>\n",
       "  <tbody>\n",
       "    <tr>\n",
       "      <th>Jill</th>\n",
       "      <td>NaN</td>\n",
       "      <td>836</td>\n",
       "    </tr>\n",
       "    <tr>\n",
       "      <th>John</th>\n",
       "      <td>792</td>\n",
       "      <td>815</td>\n",
       "    </tr>\n",
       "  </tbody>\n",
       "</table>\n",
       "</div>"
      ],
      "text/plain": [
       "          followup  baseline\n",
       "patients                    \n",
       "Jill           NaN       836\n",
       "John           792       815"
      ]
     },
     "execution_count": 55,
     "metadata": {},
     "output_type": "execute_result"
    }
   ],
   "source": [
    "cd4_frame.ix[[1,3], ['followup', 'baseline']]"
   ]
  },
  {
   "cell_type": "markdown",
   "metadata": {
    "slideshow": {
     "slide_type": "slide"
    }
   },
   "source": [
    "### Creating and Deleting Columns\n",
    "\n",
    "Let's create a new column:"
   ]
  },
  {
   "cell_type": "code",
   "execution_count": 56,
   "metadata": {
    "collapsed": false
   },
   "outputs": [
    {
     "data": {
      "text/html": [
       "<div>\n",
       "<table border=\"1\" class=\"dataframe\">\n",
       "  <thead>\n",
       "    <tr style=\"text-align: right;\">\n",
       "      <th></th>\n",
       "      <th>baseline</th>\n",
       "      <th>followup</th>\n",
       "    </tr>\n",
       "    <tr>\n",
       "      <th>patients</th>\n",
       "      <th></th>\n",
       "      <th></th>\n",
       "    </tr>\n",
       "  </thead>\n",
       "  <tbody>\n",
       "    <tr>\n",
       "      <th>Jane</th>\n",
       "      <td>364</td>\n",
       "      <td>448</td>\n",
       "    </tr>\n",
       "    <tr>\n",
       "      <th>Jill</th>\n",
       "      <td>836</td>\n",
       "      <td>NaN</td>\n",
       "    </tr>\n",
       "    <tr>\n",
       "      <th>Joe</th>\n",
       "      <td>2117</td>\n",
       "      <td>1959</td>\n",
       "    </tr>\n",
       "    <tr>\n",
       "      <th>John</th>\n",
       "      <td>815</td>\n",
       "      <td>792</td>\n",
       "    </tr>\n",
       "  </tbody>\n",
       "</table>\n",
       "</div>"
      ],
      "text/plain": [
       "          baseline  followup\n",
       "patients                    \n",
       "Jane           364       448\n",
       "Jill           836       NaN\n",
       "Joe           2117      1959\n",
       "John           815       792"
      ]
     },
     "execution_count": 56,
     "metadata": {},
     "output_type": "execute_result"
    }
   ],
   "source": [
    "cd4_frame"
   ]
  },
  {
   "cell_type": "code",
   "execution_count": 57,
   "metadata": {
    "collapsed": false
   },
   "outputs": [
    {
     "data": {
      "text/html": [
       "<div>\n",
       "<table border=\"1\" class=\"dataframe\">\n",
       "  <thead>\n",
       "    <tr style=\"text-align: right;\">\n",
       "      <th></th>\n",
       "      <th>baseline</th>\n",
       "      <th>followup</th>\n",
       "      <th>sex</th>\n",
       "    </tr>\n",
       "    <tr>\n",
       "      <th>patients</th>\n",
       "      <th></th>\n",
       "      <th></th>\n",
       "      <th></th>\n",
       "    </tr>\n",
       "  </thead>\n",
       "  <tbody>\n",
       "    <tr>\n",
       "      <th>Jane</th>\n",
       "      <td>364</td>\n",
       "      <td>448</td>\n",
       "      <td>F</td>\n",
       "    </tr>\n",
       "    <tr>\n",
       "      <th>Jill</th>\n",
       "      <td>836</td>\n",
       "      <td>NaN</td>\n",
       "      <td>F</td>\n",
       "    </tr>\n",
       "    <tr>\n",
       "      <th>Joe</th>\n",
       "      <td>2117</td>\n",
       "      <td>1959</td>\n",
       "      <td>M</td>\n",
       "    </tr>\n",
       "    <tr>\n",
       "      <th>John</th>\n",
       "      <td>815</td>\n",
       "      <td>792</td>\n",
       "      <td>M</td>\n",
       "    </tr>\n",
       "  </tbody>\n",
       "</table>\n",
       "</div>"
      ],
      "text/plain": [
       "          baseline  followup sex\n",
       "patients                        \n",
       "Jane           364       448   F\n",
       "Jill           836       NaN   F\n",
       "Joe           2117      1959   M\n",
       "John           815       792   M"
      ]
     },
     "execution_count": 57,
     "metadata": {},
     "output_type": "execute_result"
    }
   ],
   "source": [
    "cd4_frame['sex'] = ['F', 'F', 'M', 'M']\n",
    "cd4_frame"
   ]
  },
  {
   "cell_type": "markdown",
   "metadata": {
    "slideshow": {
     "slide_type": "subslide"
    }
   },
   "source": [
    "And a new column with the percent change in CD4:"
   ]
  },
  {
   "cell_type": "code",
   "execution_count": 58,
   "metadata": {
    "collapsed": false
   },
   "outputs": [
    {
     "data": {
      "text/html": [
       "<div>\n",
       "<table border=\"1\" class=\"dataframe\">\n",
       "  <thead>\n",
       "    <tr style=\"text-align: right;\">\n",
       "      <th></th>\n",
       "      <th>baseline</th>\n",
       "      <th>followup</th>\n",
       "      <th>sex</th>\n",
       "      <th>percent_change</th>\n",
       "    </tr>\n",
       "    <tr>\n",
       "      <th>patients</th>\n",
       "      <th></th>\n",
       "      <th></th>\n",
       "      <th></th>\n",
       "      <th></th>\n",
       "    </tr>\n",
       "  </thead>\n",
       "  <tbody>\n",
       "    <tr>\n",
       "      <th>Jane</th>\n",
       "      <td>364</td>\n",
       "      <td>448</td>\n",
       "      <td>F</td>\n",
       "      <td>23.076923</td>\n",
       "    </tr>\n",
       "    <tr>\n",
       "      <th>Jill</th>\n",
       "      <td>836</td>\n",
       "      <td>NaN</td>\n",
       "      <td>F</td>\n",
       "      <td>NaN</td>\n",
       "    </tr>\n",
       "    <tr>\n",
       "      <th>Joe</th>\n",
       "      <td>2117</td>\n",
       "      <td>1959</td>\n",
       "      <td>M</td>\n",
       "      <td>-7.463392</td>\n",
       "    </tr>\n",
       "    <tr>\n",
       "      <th>John</th>\n",
       "      <td>815</td>\n",
       "      <td>792</td>\n",
       "      <td>M</td>\n",
       "      <td>-2.822086</td>\n",
       "    </tr>\n",
       "  </tbody>\n",
       "</table>\n",
       "</div>"
      ],
      "text/plain": [
       "          baseline  followup sex  percent_change\n",
       "patients                                        \n",
       "Jane           364       448   F       23.076923\n",
       "Jill           836       NaN   F             NaN\n",
       "Joe           2117      1959   M       -7.463392\n",
       "John           815       792   M       -2.822086"
      ]
     },
     "execution_count": 58,
     "metadata": {},
     "output_type": "execute_result"
    }
   ],
   "source": [
    "diff = cd4_frame.followup - cd4_frame.baseline\n",
    "cd4_frame['percent_change'] = diff / cd4_frame.baseline * 100\n",
    "cd4_frame"
   ]
  },
  {
   "cell_type": "markdown",
   "metadata": {
    "slideshow": {
     "slide_type": "fragment"
    }
   },
   "source": [
    "Note you cannot create a new column using a new attribute, i.e. `cd4_frame.some_column = ...`"
   ]
  },
  {
   "cell_type": "markdown",
   "metadata": {
    "slideshow": {
     "slide_type": "subslide"
    }
   },
   "source": [
    "To remove a column we can use **`drop`**"
   ]
  },
  {
   "cell_type": "code",
   "execution_count": 59,
   "metadata": {
    "collapsed": false,
    "scrolled": true
   },
   "outputs": [
    {
     "data": {
      "text/html": [
       "<div>\n",
       "<table border=\"1\" class=\"dataframe\">\n",
       "  <thead>\n",
       "    <tr style=\"text-align: right;\">\n",
       "      <th></th>\n",
       "      <th>baseline</th>\n",
       "      <th>followup</th>\n",
       "      <th>sex</th>\n",
       "    </tr>\n",
       "    <tr>\n",
       "      <th>patients</th>\n",
       "      <th></th>\n",
       "      <th></th>\n",
       "      <th></th>\n",
       "    </tr>\n",
       "  </thead>\n",
       "  <tbody>\n",
       "    <tr>\n",
       "      <th>Jane</th>\n",
       "      <td>364</td>\n",
       "      <td>448</td>\n",
       "      <td>F</td>\n",
       "    </tr>\n",
       "    <tr>\n",
       "      <th>Jill</th>\n",
       "      <td>836</td>\n",
       "      <td>NaN</td>\n",
       "      <td>F</td>\n",
       "    </tr>\n",
       "    <tr>\n",
       "      <th>Joe</th>\n",
       "      <td>2117</td>\n",
       "      <td>1959</td>\n",
       "      <td>M</td>\n",
       "    </tr>\n",
       "    <tr>\n",
       "      <th>John</th>\n",
       "      <td>815</td>\n",
       "      <td>792</td>\n",
       "      <td>M</td>\n",
       "    </tr>\n",
       "  </tbody>\n",
       "</table>\n",
       "</div>"
      ],
      "text/plain": [
       "          baseline  followup sex\n",
       "patients                        \n",
       "Jane           364       448   F\n",
       "Jill           836       NaN   F\n",
       "Joe           2117      1959   M\n",
       "John           815       792   M"
      ]
     },
     "execution_count": 59,
     "metadata": {},
     "output_type": "execute_result"
    }
   ],
   "source": [
    "cd4_frame.drop('percent_change', axis=1)"
   ]
  },
  {
   "cell_type": "markdown",
   "metadata": {
    "slideshow": {
     "slide_type": "fragment"
    }
   },
   "source": [
    "**`drop`** returns a copy and doesn't modify in place by default\n",
    "\n",
    "It can also remove rows using ***`axis=0`***"
   ]
  },
  {
   "cell_type": "markdown",
   "metadata": {
    "slideshow": {
     "slide_type": "slide"
    }
   },
   "source": [
    "### Filtering DataFrames"
   ]
  },
  {
   "cell_type": "markdown",
   "metadata": {
    "slideshow": {
     "slide_type": "fragment"
    }
   },
   "source": [
    "Filter the whole frame:"
   ]
  },
  {
   "cell_type": "code",
   "execution_count": 60,
   "metadata": {
    "collapsed": false
   },
   "outputs": [
    {
     "data": {
      "text/html": [
       "<div>\n",
       "<table border=\"1\" class=\"dataframe\">\n",
       "  <thead>\n",
       "    <tr style=\"text-align: right;\">\n",
       "      <th></th>\n",
       "      <th>baseline</th>\n",
       "      <th>followup</th>\n",
       "      <th>sex</th>\n",
       "      <th>percent_change</th>\n",
       "    </tr>\n",
       "    <tr>\n",
       "      <th>patients</th>\n",
       "      <th></th>\n",
       "      <th></th>\n",
       "      <th></th>\n",
       "      <th></th>\n",
       "    </tr>\n",
       "  </thead>\n",
       "  <tbody>\n",
       "    <tr>\n",
       "      <th>Jane</th>\n",
       "      <td>False</td>\n",
       "      <td>False</td>\n",
       "      <td>True</td>\n",
       "      <td>False</td>\n",
       "    </tr>\n",
       "    <tr>\n",
       "      <th>Jill</th>\n",
       "      <td>True</td>\n",
       "      <td>False</td>\n",
       "      <td>True</td>\n",
       "      <td>False</td>\n",
       "    </tr>\n",
       "    <tr>\n",
       "      <th>Joe</th>\n",
       "      <td>True</td>\n",
       "      <td>True</td>\n",
       "      <td>True</td>\n",
       "      <td>False</td>\n",
       "    </tr>\n",
       "    <tr>\n",
       "      <th>John</th>\n",
       "      <td>True</td>\n",
       "      <td>False</td>\n",
       "      <td>True</td>\n",
       "      <td>False</td>\n",
       "    </tr>\n",
       "  </tbody>\n",
       "</table>\n",
       "</div>"
      ],
      "text/plain": [
       "         baseline followup   sex percent_change\n",
       "patients                                       \n",
       "Jane        False    False  True          False\n",
       "Jill         True    False  True          False\n",
       "Joe          True     True  True          False\n",
       "John         True    False  True          False"
      ]
     },
     "execution_count": 60,
     "metadata": {},
     "output_type": "execute_result"
    }
   ],
   "source": [
    "cd4_frame > 800"
   ]
  },
  {
   "cell_type": "markdown",
   "metadata": {
    "slideshow": {
     "slide_type": "subslide"
    }
   },
   "source": [
    "**`isnull`** also works on the whole DataFrame:"
   ]
  },
  {
   "cell_type": "code",
   "execution_count": 61,
   "metadata": {
    "collapsed": false
   },
   "outputs": [
    {
     "data": {
      "text/html": [
       "<div>\n",
       "<table border=\"1\" class=\"dataframe\">\n",
       "  <thead>\n",
       "    <tr style=\"text-align: right;\">\n",
       "      <th></th>\n",
       "      <th>baseline</th>\n",
       "      <th>followup</th>\n",
       "      <th>sex</th>\n",
       "      <th>percent_change</th>\n",
       "    </tr>\n",
       "    <tr>\n",
       "      <th>patients</th>\n",
       "      <th></th>\n",
       "      <th></th>\n",
       "      <th></th>\n",
       "      <th></th>\n",
       "    </tr>\n",
       "  </thead>\n",
       "  <tbody>\n",
       "    <tr>\n",
       "      <th>Jane</th>\n",
       "      <td>False</td>\n",
       "      <td>False</td>\n",
       "      <td>False</td>\n",
       "      <td>False</td>\n",
       "    </tr>\n",
       "    <tr>\n",
       "      <th>Jill</th>\n",
       "      <td>False</td>\n",
       "      <td>True</td>\n",
       "      <td>False</td>\n",
       "      <td>True</td>\n",
       "    </tr>\n",
       "    <tr>\n",
       "      <th>Joe</th>\n",
       "      <td>False</td>\n",
       "      <td>False</td>\n",
       "      <td>False</td>\n",
       "      <td>False</td>\n",
       "    </tr>\n",
       "    <tr>\n",
       "      <th>John</th>\n",
       "      <td>False</td>\n",
       "      <td>False</td>\n",
       "      <td>False</td>\n",
       "      <td>False</td>\n",
       "    </tr>\n",
       "  </tbody>\n",
       "</table>\n",
       "</div>"
      ],
      "text/plain": [
       "         baseline followup    sex percent_change\n",
       "patients                                        \n",
       "Jane        False    False  False          False\n",
       "Jill        False     True  False           True\n",
       "Joe         False    False  False          False\n",
       "John        False    False  False          False"
      ]
     },
     "execution_count": 61,
     "metadata": {},
     "output_type": "execute_result"
    }
   ],
   "source": [
    "cd4_frame.isnull()"
   ]
  },
  {
   "cell_type": "markdown",
   "metadata": {
    "slideshow": {
     "slide_type": "fragment"
    }
   },
   "source": [
    "Or just a column:"
   ]
  },
  {
   "cell_type": "code",
   "execution_count": 62,
   "metadata": {
    "collapsed": false
   },
   "outputs": [
    {
     "data": {
      "text/html": [
       "<div>\n",
       "<table border=\"1\" class=\"dataframe\">\n",
       "  <thead>\n",
       "    <tr style=\"text-align: right;\">\n",
       "      <th></th>\n",
       "      <th>baseline</th>\n",
       "      <th>followup</th>\n",
       "      <th>sex</th>\n",
       "      <th>percent_change</th>\n",
       "    </tr>\n",
       "    <tr>\n",
       "      <th>patients</th>\n",
       "      <th></th>\n",
       "      <th></th>\n",
       "      <th></th>\n",
       "      <th></th>\n",
       "    </tr>\n",
       "  </thead>\n",
       "  <tbody>\n",
       "    <tr>\n",
       "      <th>Jill</th>\n",
       "      <td>836</td>\n",
       "      <td>NaN</td>\n",
       "      <td>F</td>\n",
       "      <td>NaN</td>\n",
       "    </tr>\n",
       "    <tr>\n",
       "      <th>Joe</th>\n",
       "      <td>2117</td>\n",
       "      <td>1959</td>\n",
       "      <td>M</td>\n",
       "      <td>-7.463392</td>\n",
       "    </tr>\n",
       "    <tr>\n",
       "      <th>John</th>\n",
       "      <td>815</td>\n",
       "      <td>792</td>\n",
       "      <td>M</td>\n",
       "      <td>-2.822086</td>\n",
       "    </tr>\n",
       "  </tbody>\n",
       "</table>\n",
       "</div>"
      ],
      "text/plain": [
       "          baseline  followup sex  percent_change\n",
       "patients                                        \n",
       "Jill           836       NaN   F             NaN\n",
       "Joe           2117      1959   M       -7.463392\n",
       "John           815       792   M       -2.822086"
      ]
     },
     "execution_count": 62,
     "metadata": {},
     "output_type": "execute_result"
    }
   ],
   "source": [
    "cd4_frame[cd4_frame['baseline'] > 400]"
   ]
  },
  {
   "cell_type": "markdown",
   "metadata": {
    "slideshow": {
     "slide_type": "subslide"
    }
   },
   "source": [
    "Filtering a text value:"
   ]
  },
  {
   "cell_type": "code",
   "execution_count": 63,
   "metadata": {
    "collapsed": false
   },
   "outputs": [
    {
     "data": {
      "text/html": [
       "<div>\n",
       "<table border=\"1\" class=\"dataframe\">\n",
       "  <thead>\n",
       "    <tr style=\"text-align: right;\">\n",
       "      <th></th>\n",
       "      <th>baseline</th>\n",
       "      <th>followup</th>\n",
       "      <th>sex</th>\n",
       "      <th>percent_change</th>\n",
       "    </tr>\n",
       "    <tr>\n",
       "      <th>patients</th>\n",
       "      <th></th>\n",
       "      <th></th>\n",
       "      <th></th>\n",
       "      <th></th>\n",
       "    </tr>\n",
       "  </thead>\n",
       "  <tbody>\n",
       "    <tr>\n",
       "      <th>Jane</th>\n",
       "      <td>364</td>\n",
       "      <td>448</td>\n",
       "      <td>F</td>\n",
       "      <td>23.076923</td>\n",
       "    </tr>\n",
       "    <tr>\n",
       "      <th>Jill</th>\n",
       "      <td>836</td>\n",
       "      <td>NaN</td>\n",
       "      <td>F</td>\n",
       "      <td>NaN</td>\n",
       "    </tr>\n",
       "  </tbody>\n",
       "</table>\n",
       "</div>"
      ],
      "text/plain": [
       "          baseline  followup sex  percent_change\n",
       "patients                                        \n",
       "Jane           364       448   F       23.076923\n",
       "Jill           836       NaN   F             NaN"
      ]
     },
     "execution_count": 63,
     "metadata": {},
     "output_type": "execute_result"
    }
   ],
   "source": [
    "cd4_frame[cd4_frame['sex'] == 'F']"
   ]
  },
  {
   "cell_type": "markdown",
   "metadata": {
    "slideshow": {
     "slide_type": "fragment"
    }
   },
   "source": [
    "Filtering multiple columns by combining boolean arrays:"
   ]
  },
  {
   "cell_type": "code",
   "execution_count": 64,
   "metadata": {
    "collapsed": false
   },
   "outputs": [
    {
     "data": {
      "text/plain": [
       "patients\n",
       "Jane    False\n",
       "Jill     True\n",
       "Joe     False\n",
       "John    False\n",
       "dtype: bool"
      ]
     },
     "execution_count": 64,
     "metadata": {},
     "output_type": "execute_result"
    }
   ],
   "source": [
    "(cd4_frame['sex'] == 'F') & (cd4_frame['baseline'] > 800)"
   ]
  },
  {
   "cell_type": "markdown",
   "metadata": {
    "slideshow": {
     "slide_type": "slide"
    }
   },
   "source": [
    "### Sorting"
   ]
  },
  {
   "cell_type": "markdown",
   "metadata": {
    "slideshow": {
     "slide_type": "fragment"
    }
   },
   "source": [
    "Sorting a single column:"
   ]
  },
  {
   "cell_type": "code",
   "execution_count": 65,
   "metadata": {
    "collapsed": false
   },
   "outputs": [
    {
     "data": {
      "text/html": [
       "<div>\n",
       "<table border=\"1\" class=\"dataframe\">\n",
       "  <thead>\n",
       "    <tr style=\"text-align: right;\">\n",
       "      <th></th>\n",
       "      <th>baseline</th>\n",
       "      <th>followup</th>\n",
       "      <th>sex</th>\n",
       "      <th>percent_change</th>\n",
       "    </tr>\n",
       "    <tr>\n",
       "      <th>patients</th>\n",
       "      <th></th>\n",
       "      <th></th>\n",
       "      <th></th>\n",
       "      <th></th>\n",
       "    </tr>\n",
       "  </thead>\n",
       "  <tbody>\n",
       "    <tr>\n",
       "      <th>Joe</th>\n",
       "      <td>2117</td>\n",
       "      <td>1959</td>\n",
       "      <td>M</td>\n",
       "      <td>-7.463392</td>\n",
       "    </tr>\n",
       "    <tr>\n",
       "      <th>John</th>\n",
       "      <td>815</td>\n",
       "      <td>792</td>\n",
       "      <td>M</td>\n",
       "      <td>-2.822086</td>\n",
       "    </tr>\n",
       "    <tr>\n",
       "      <th>Jane</th>\n",
       "      <td>364</td>\n",
       "      <td>448</td>\n",
       "      <td>F</td>\n",
       "      <td>23.076923</td>\n",
       "    </tr>\n",
       "    <tr>\n",
       "      <th>Jill</th>\n",
       "      <td>836</td>\n",
       "      <td>NaN</td>\n",
       "      <td>F</td>\n",
       "      <td>NaN</td>\n",
       "    </tr>\n",
       "  </tbody>\n",
       "</table>\n",
       "</div>"
      ],
      "text/plain": [
       "          baseline  followup sex  percent_change\n",
       "patients                                        \n",
       "Joe           2117      1959   M       -7.463392\n",
       "John           815       792   M       -2.822086\n",
       "Jane           364       448   F       23.076923\n",
       "Jill           836       NaN   F             NaN"
      ]
     },
     "execution_count": 65,
     "metadata": {},
     "output_type": "execute_result"
    }
   ],
   "source": [
    "cd4_frame.sort('percent_change')"
   ]
  },
  {
   "cell_type": "markdown",
   "metadata": {
    "slideshow": {
     "slide_type": "subslide"
    }
   },
   "source": [
    "And multiple columns:"
   ]
  },
  {
   "cell_type": "code",
   "execution_count": 66,
   "metadata": {
    "collapsed": false
   },
   "outputs": [
    {
     "data": {
      "text/html": [
       "<div>\n",
       "<table border=\"1\" class=\"dataframe\">\n",
       "  <thead>\n",
       "    <tr style=\"text-align: right;\">\n",
       "      <th></th>\n",
       "      <th>baseline</th>\n",
       "      <th>followup</th>\n",
       "      <th>sex</th>\n",
       "      <th>percent_change</th>\n",
       "    </tr>\n",
       "    <tr>\n",
       "      <th>patients</th>\n",
       "      <th></th>\n",
       "      <th></th>\n",
       "      <th></th>\n",
       "      <th></th>\n",
       "    </tr>\n",
       "  </thead>\n",
       "  <tbody>\n",
       "    <tr>\n",
       "      <th>Jane</th>\n",
       "      <td>364</td>\n",
       "      <td>448</td>\n",
       "      <td>F</td>\n",
       "      <td>23.076923</td>\n",
       "    </tr>\n",
       "    <tr>\n",
       "      <th>Jill</th>\n",
       "      <td>836</td>\n",
       "      <td>NaN</td>\n",
       "      <td>F</td>\n",
       "      <td>NaN</td>\n",
       "    </tr>\n",
       "    <tr>\n",
       "      <th>John</th>\n",
       "      <td>815</td>\n",
       "      <td>792</td>\n",
       "      <td>M</td>\n",
       "      <td>-2.822086</td>\n",
       "    </tr>\n",
       "    <tr>\n",
       "      <th>Joe</th>\n",
       "      <td>2117</td>\n",
       "      <td>1959</td>\n",
       "      <td>M</td>\n",
       "      <td>-7.463392</td>\n",
       "    </tr>\n",
       "  </tbody>\n",
       "</table>\n",
       "</div>"
      ],
      "text/plain": [
       "          baseline  followup sex  percent_change\n",
       "patients                                        \n",
       "Jane           364       448   F       23.076923\n",
       "Jill           836       NaN   F             NaN\n",
       "John           815       792   M       -2.822086\n",
       "Joe           2117      1959   M       -7.463392"
      ]
     },
     "execution_count": 66,
     "metadata": {},
     "output_type": "execute_result"
    }
   ],
   "source": [
    "cd4_frame.sort(columns=['sex', 'baseline'])"
   ]
  },
  {
   "cell_type": "markdown",
   "metadata": {
    "slideshow": {
     "slide_type": "fragment"
    }
   },
   "source": [
    "Sorting by the index:"
   ]
  },
  {
   "cell_type": "code",
   "execution_count": 69,
   "metadata": {
    "collapsed": false
   },
   "outputs": [
    {
     "data": {
      "text/html": [
       "<div>\n",
       "<table border=\"1\" class=\"dataframe\">\n",
       "  <thead>\n",
       "    <tr style=\"text-align: right;\">\n",
       "      <th></th>\n",
       "      <th>baseline</th>\n",
       "      <th>followup</th>\n",
       "      <th>sex</th>\n",
       "      <th>percent_change</th>\n",
       "    </tr>\n",
       "    <tr>\n",
       "      <th>patients</th>\n",
       "      <th></th>\n",
       "      <th></th>\n",
       "      <th></th>\n",
       "      <th></th>\n",
       "    </tr>\n",
       "  </thead>\n",
       "  <tbody>\n",
       "    <tr>\n",
       "      <th>Jane</th>\n",
       "      <td>364</td>\n",
       "      <td>448</td>\n",
       "      <td>F</td>\n",
       "      <td>23.076923</td>\n",
       "    </tr>\n",
       "    <tr>\n",
       "      <th>Jill</th>\n",
       "      <td>836</td>\n",
       "      <td>NaN</td>\n",
       "      <td>F</td>\n",
       "      <td>NaN</td>\n",
       "    </tr>\n",
       "    <tr>\n",
       "      <th>Joe</th>\n",
       "      <td>2117</td>\n",
       "      <td>1959</td>\n",
       "      <td>M</td>\n",
       "      <td>-7.463392</td>\n",
       "    </tr>\n",
       "    <tr>\n",
       "      <th>John</th>\n",
       "      <td>815</td>\n",
       "      <td>792</td>\n",
       "      <td>M</td>\n",
       "      <td>-2.822086</td>\n",
       "    </tr>\n",
       "  </tbody>\n",
       "</table>\n",
       "</div>"
      ],
      "text/plain": [
       "          baseline  followup sex  percent_change\n",
       "patients                                        \n",
       "Jane           364       448   F       23.076923\n",
       "Jill           836       NaN   F             NaN\n",
       "Joe           2117      1959   M       -7.463392\n",
       "John           815       792   M       -2.822086"
      ]
     },
     "execution_count": 69,
     "metadata": {},
     "output_type": "execute_result"
    }
   ],
   "source": [
    "cd4_frame.sort_index()"
   ]
  },
  {
   "cell_type": "markdown",
   "metadata": {
    "slideshow": {
     "slide_type": "subslide"
    }
   },
   "source": [
    "Sorting the column order by column name:"
   ]
  },
  {
   "cell_type": "code",
   "execution_count": 78,
   "metadata": {
    "collapsed": false
   },
   "outputs": [
    {
     "data": {
      "text/html": [
       "<div>\n",
       "<table border=\"1\" class=\"dataframe\">\n",
       "  <thead>\n",
       "    <tr style=\"text-align: right;\">\n",
       "      <th></th>\n",
       "      <th>sex</th>\n",
       "      <th>percent_change</th>\n",
       "      <th>followup</th>\n",
       "      <th>baseline</th>\n",
       "    </tr>\n",
       "    <tr>\n",
       "      <th>patients</th>\n",
       "      <th></th>\n",
       "      <th></th>\n",
       "      <th></th>\n",
       "      <th></th>\n",
       "    </tr>\n",
       "  </thead>\n",
       "  <tbody>\n",
       "    <tr>\n",
       "      <th>Jane</th>\n",
       "      <td>F</td>\n",
       "      <td>23.076923</td>\n",
       "      <td>448</td>\n",
       "      <td>364</td>\n",
       "    </tr>\n",
       "    <tr>\n",
       "      <th>Jill</th>\n",
       "      <td>F</td>\n",
       "      <td>NaN</td>\n",
       "      <td>NaN</td>\n",
       "      <td>836</td>\n",
       "    </tr>\n",
       "    <tr>\n",
       "      <th>Joe</th>\n",
       "      <td>M</td>\n",
       "      <td>-7.463392</td>\n",
       "      <td>1959</td>\n",
       "      <td>2117</td>\n",
       "    </tr>\n",
       "    <tr>\n",
       "      <th>John</th>\n",
       "      <td>M</td>\n",
       "      <td>-2.822086</td>\n",
       "      <td>792</td>\n",
       "      <td>815</td>\n",
       "    </tr>\n",
       "  </tbody>\n",
       "</table>\n",
       "</div>"
      ],
      "text/plain": [
       "         sex  percent_change  followup  baseline\n",
       "patients                                        \n",
       "Jane       F       23.076923       448       364\n",
       "Jill       F             NaN       NaN       836\n",
       "Joe        M       -7.463392      1959      2117\n",
       "John       M       -2.822086       792       815"
      ]
     },
     "execution_count": 78,
     "metadata": {},
     "output_type": "execute_result"
    }
   ],
   "source": [
    "cd4_frame.sort_index(axis=1, ascending=False)"
   ]
  },
  {
   "cell_type": "markdown",
   "metadata": {
    "slideshow": {
     "slide_type": "slide"
    }
   },
   "source": [
    "# Exporting and Importing CSV Data\n",
    "\n",
    "Saving our DataFrame to a CSV is easy:"
   ]
  },
  {
   "cell_type": "code",
   "execution_count": 90,
   "metadata": {
    "collapsed": false
   },
   "outputs": [
    {
     "name": "stdout",
     "output_type": "stream",
     "text": [
      "cd4_change.csv\tlong_data.csv\tMock clinical data2.csv  test_slides.ipynb\r\n",
      "cd4_data.csv\tlong_data.csv~\tpandas-intro.ipynb\t Untitled.ipynb\r\n",
      "cd4_data.tsv\tmedals.csv\tpython-part-03.ipynb\r\n"
     ]
    }
   ],
   "source": [
    "cd4_frame.to_csv(\"cd4_data.csv\")\n",
    "!ls"
   ]
  },
  {
   "cell_type": "code",
   "execution_count": 91,
   "metadata": {
    "collapsed": false
   },
   "outputs": [
    {
     "name": "stdout",
     "output_type": "stream",
     "text": [
      "patients,baseline,followup,sex,percent_change\r\n",
      "Jane,364,448.0,F,23.0769230769\r\n",
      "Jill,836,,F,\r\n",
      "Joe,2117,1959.0,M,-7.46339159188\r\n",
      "John,815,792.0,M,-2.82208588957\r\n"
     ]
    }
   ],
   "source": [
    "!cat cd4_data.csv"
   ]
  },
  {
   "cell_type": "code",
   "execution_count": 92,
   "metadata": {
    "collapsed": false
   },
   "outputs": [
    {
     "data": {
      "text/plain": [
       "baseline            int64\n",
       "followup          float64\n",
       "sex                object\n",
       "percent_change    float64\n",
       "dtype: object"
      ]
     },
     "execution_count": 92,
     "metadata": {},
     "output_type": "execute_result"
    }
   ],
   "source": [
    "cd4_frame.dtypes"
   ]
  },
  {
   "cell_type": "markdown",
   "metadata": {
    "slideshow": {
     "slide_type": "subslide"
    }
   },
   "source": [
    "Importing our data back into pandas:"
   ]
  },
  {
   "cell_type": "code",
   "execution_count": 93,
   "metadata": {
    "collapsed": false
   },
   "outputs": [
    {
     "data": {
      "text/html": [
       "<div>\n",
       "<table border=\"1\" class=\"dataframe\">\n",
       "  <thead>\n",
       "    <tr style=\"text-align: right;\">\n",
       "      <th></th>\n",
       "      <th>patients</th>\n",
       "      <th>baseline</th>\n",
       "      <th>followup</th>\n",
       "      <th>sex</th>\n",
       "      <th>percent_change</th>\n",
       "    </tr>\n",
       "  </thead>\n",
       "  <tbody>\n",
       "    <tr>\n",
       "      <th>0</th>\n",
       "      <td>Jane</td>\n",
       "      <td>364</td>\n",
       "      <td>448</td>\n",
       "      <td>F</td>\n",
       "      <td>23.076923</td>\n",
       "    </tr>\n",
       "    <tr>\n",
       "      <th>1</th>\n",
       "      <td>Jill</td>\n",
       "      <td>836</td>\n",
       "      <td>NaN</td>\n",
       "      <td>F</td>\n",
       "      <td>NaN</td>\n",
       "    </tr>\n",
       "    <tr>\n",
       "      <th>2</th>\n",
       "      <td>Joe</td>\n",
       "      <td>2117</td>\n",
       "      <td>1959</td>\n",
       "      <td>M</td>\n",
       "      <td>-7.463392</td>\n",
       "    </tr>\n",
       "    <tr>\n",
       "      <th>3</th>\n",
       "      <td>John</td>\n",
       "      <td>815</td>\n",
       "      <td>792</td>\n",
       "      <td>M</td>\n",
       "      <td>-2.822086</td>\n",
       "    </tr>\n",
       "  </tbody>\n",
       "</table>\n",
       "</div>"
      ],
      "text/plain": [
       "  patients  baseline  followup sex  percent_change\n",
       "0     Jane       364       448   F       23.076923\n",
       "1     Jill       836       NaN   F             NaN\n",
       "2      Joe      2117      1959   M       -7.463392\n",
       "3     John       815       792   M       -2.822086"
      ]
     },
     "execution_count": 93,
     "metadata": {},
     "output_type": "execute_result"
    }
   ],
   "source": [
    "cd4_import = pd.read_csv(\"cd4_data.csv\")\n",
    "cd4_import"
   ]
  },
  {
   "cell_type": "markdown",
   "metadata": {
    "slideshow": {
     "slide_type": "fragment"
    }
   },
   "source": [
    "But, there's something different. The original data we exported was indexed by `patients`."
   ]
  },
  {
   "cell_type": "markdown",
   "metadata": {
    "slideshow": {
     "slide_type": "subslide"
    }
   },
   "source": [
    "To set the index to an existing column we can use **`set_index`**"
   ]
  },
  {
   "cell_type": "code",
   "execution_count": 94,
   "metadata": {
    "collapsed": false
   },
   "outputs": [
    {
     "data": {
      "text/html": [
       "<div>\n",
       "<table border=\"1\" class=\"dataframe\">\n",
       "  <thead>\n",
       "    <tr style=\"text-align: right;\">\n",
       "      <th></th>\n",
       "      <th>baseline</th>\n",
       "      <th>followup</th>\n",
       "      <th>sex</th>\n",
       "      <th>percent_change</th>\n",
       "    </tr>\n",
       "    <tr>\n",
       "      <th>patients</th>\n",
       "      <th></th>\n",
       "      <th></th>\n",
       "      <th></th>\n",
       "      <th></th>\n",
       "    </tr>\n",
       "  </thead>\n",
       "  <tbody>\n",
       "    <tr>\n",
       "      <th>Jane</th>\n",
       "      <td>364</td>\n",
       "      <td>448</td>\n",
       "      <td>F</td>\n",
       "      <td>23.076923</td>\n",
       "    </tr>\n",
       "    <tr>\n",
       "      <th>Jill</th>\n",
       "      <td>836</td>\n",
       "      <td>NaN</td>\n",
       "      <td>F</td>\n",
       "      <td>NaN</td>\n",
       "    </tr>\n",
       "    <tr>\n",
       "      <th>Joe</th>\n",
       "      <td>2117</td>\n",
       "      <td>1959</td>\n",
       "      <td>M</td>\n",
       "      <td>-7.463392</td>\n",
       "    </tr>\n",
       "    <tr>\n",
       "      <th>John</th>\n",
       "      <td>815</td>\n",
       "      <td>792</td>\n",
       "      <td>M</td>\n",
       "      <td>-2.822086</td>\n",
       "    </tr>\n",
       "  </tbody>\n",
       "</table>\n",
       "</div>"
      ],
      "text/plain": [
       "          baseline  followup sex  percent_change\n",
       "patients                                        \n",
       "Jane           364       448   F       23.076923\n",
       "Jill           836       NaN   F             NaN\n",
       "Joe           2117      1959   M       -7.463392\n",
       "John           815       792   M       -2.822086"
      ]
     },
     "execution_count": 94,
     "metadata": {},
     "output_type": "execute_result"
    }
   ],
   "source": [
    "cd4_import = cd4_import.set_index('patients')\n",
    "cd4_import"
   ]
  },
  {
   "cell_type": "markdown",
   "metadata": {
    "slideshow": {
     "slide_type": "fragment"
    }
   },
   "source": [
    "Or, we could have specified the index column when importing:"
   ]
  },
  {
   "cell_type": "code",
   "execution_count": 95,
   "metadata": {
    "collapsed": false
   },
   "outputs": [
    {
     "data": {
      "text/html": [
       "<div>\n",
       "<table border=\"1\" class=\"dataframe\">\n",
       "  <thead>\n",
       "    <tr style=\"text-align: right;\">\n",
       "      <th></th>\n",
       "      <th>baseline</th>\n",
       "      <th>followup</th>\n",
       "      <th>sex</th>\n",
       "      <th>percent_change</th>\n",
       "    </tr>\n",
       "    <tr>\n",
       "      <th>patients</th>\n",
       "      <th></th>\n",
       "      <th></th>\n",
       "      <th></th>\n",
       "      <th></th>\n",
       "    </tr>\n",
       "  </thead>\n",
       "  <tbody>\n",
       "    <tr>\n",
       "      <th>Jane</th>\n",
       "      <td>364</td>\n",
       "      <td>448</td>\n",
       "      <td>F</td>\n",
       "      <td>23.076923</td>\n",
       "    </tr>\n",
       "    <tr>\n",
       "      <th>Jill</th>\n",
       "      <td>836</td>\n",
       "      <td>NaN</td>\n",
       "      <td>F</td>\n",
       "      <td>NaN</td>\n",
       "    </tr>\n",
       "    <tr>\n",
       "      <th>Joe</th>\n",
       "      <td>2117</td>\n",
       "      <td>1959</td>\n",
       "      <td>M</td>\n",
       "      <td>-7.463392</td>\n",
       "    </tr>\n",
       "    <tr>\n",
       "      <th>John</th>\n",
       "      <td>815</td>\n",
       "      <td>792</td>\n",
       "      <td>M</td>\n",
       "      <td>-2.822086</td>\n",
       "    </tr>\n",
       "  </tbody>\n",
       "</table>\n",
       "</div>"
      ],
      "text/plain": [
       "          baseline  followup sex  percent_change\n",
       "patients                                        \n",
       "Jane           364       448   F       23.076923\n",
       "Jill           836       NaN   F             NaN\n",
       "Joe           2117      1959   M       -7.463392\n",
       "John           815       792   M       -2.822086"
      ]
     },
     "execution_count": 95,
     "metadata": {},
     "output_type": "execute_result"
    }
   ],
   "source": [
    "pd.read_csv(\"cd4_data.csv\", index_col='patients')"
   ]
  },
  {
   "cell_type": "markdown",
   "metadata": {
    "slideshow": {
     "slide_type": "subslide"
    }
   },
   "source": [
    "If the text file is not comma delimited, you can specify the separator using ***`sep`***"
   ]
  },
  {
   "cell_type": "markdown",
   "metadata": {
    "slideshow": {
     "slide_type": "fragment"
    }
   },
   "source": [
    "**`to_csv`** also uses the ***`sep`*** argument. Let's save a tab-delimited version of our data:"
   ]
  },
  {
   "cell_type": "code",
   "execution_count": 127,
   "metadata": {
    "collapsed": false
   },
   "outputs": [
    {
     "name": "stdout",
     "output_type": "stream",
     "text": [
      "patients\tbaseline\tfollowup\r\n",
      "Jane\t42\t448.0\r\n",
      "Jill\t836\t\r\n",
      "Joe\t2117\t1959.0\r\n",
      "John\t815\t792.0\r\n"
     ]
    }
   ],
   "source": [
    "cd4_frame.to_csv(\"cd4_data.tsv\", sep=\"\\t\")\n",
    "!cat cd4_data.tsv"
   ]
  },
  {
   "cell_type": "markdown",
   "metadata": {
    "slideshow": {
     "slide_type": "fragment"
    }
   },
   "source": [
    "Notice the tab delimiter is set using the regular expression **`\\t`**"
   ]
  },
  {
   "cell_type": "markdown",
   "metadata": {
    "slideshow": {
     "slide_type": "fragment"
    }
   },
   "source": [
    "A full list of options for **`read_csv`** is available in the docs"
   ]
  },
  {
   "cell_type": "code",
   "execution_count": 126,
   "metadata": {
    "collapsed": false
   },
   "outputs": [],
   "source": [
    "pd.read_csv?"
   ]
  },
  {
   "cell_type": "markdown",
   "metadata": {
    "slideshow": {
     "slide_type": "slide"
    }
   },
   "source": [
    "# Exercise\n",
    "\n",
    "Use pandas to import the longitudinal data set in **`long_data.csv`**\n",
    "\n",
    "1. How many records are in the CSV?\n",
    "1. Rename any column names containing spaces.\n",
    "1. Is there a good choice for an index column?\n",
    "1. Are there any missing data values?\n",
    "1. What is the lowest FI-Bkgd value? the highest? the mean?\n",
    "1. Filter for visit 9 records with FI-Bkgd more than 10,000.\n",
    "1. On what date did visit code 19 occur for participant 'SAL2'?\n",
    "1. Make a new DataFrame by filtering on 'SAL2' matching the 'Blank' analyte\n",
    "1. Use tab completion on your DataFrame to find a function we didn't cover. Print the help for this function using \"?\"."
   ]
  },
  {
   "cell_type": "markdown",
   "metadata": {
    "slideshow": {
     "slide_type": "slide"
    }
   },
   "source": [
    "Q1. How many records are in the CSV?\n",
    "\n",
    "Read in the CSV, use shape to get the number of records"
   ]
  },
  {
   "cell_type": "code",
   "execution_count": 106,
   "metadata": {
    "collapsed": false,
    "slideshow": {
     "slide_type": "-"
    }
   },
   "outputs": [
    {
     "data": {
      "text/plain": [
       "(1761, 10)"
      ]
     },
     "execution_count": 106,
     "metadata": {},
     "output_type": "execute_result"
    }
   ],
   "source": [
    "long_data = pd.read_csv(\"long_data.csv\")\n",
    "long_data.shape"
   ]
  },
  {
   "cell_type": "markdown",
   "metadata": {
    "slideshow": {
     "slide_type": "slide"
    }
   },
   "source": [
    "Q2. Rename any column names containing spaces."
   ]
  },
  {
   "cell_type": "code",
   "execution_count": 128,
   "metadata": {
    "collapsed": false
   },
   "outputs": [
    {
     "data": {
      "text/plain": [
       "Index([u'dilution', u'analyte', u'fi-bkgd', u'fi-bkgd-neg', u'cv',\n",
       "       u'participant_id', u'visit_code', u'visit_date', u'sample_type',\n",
       "       u'buffer'],\n",
       "      dtype='object')"
      ]
     },
     "execution_count": 128,
     "metadata": {},
     "output_type": "execute_result"
    }
   ],
   "source": [
    "long_data.columns"
   ]
  },
  {
   "cell_type": "code",
   "execution_count": 107,
   "metadata": {
    "collapsed": false
   },
   "outputs": [],
   "source": [
    "long_data.rename(\n",
    "    columns={\n",
    "        'Participant ID': 'participant_id', \n",
    "        'Visit Code': 'visit_code',\n",
    "        'Visit Date': 'visit_date',\n",
    "        'Sample Type': 'sample_type'\n",
    "    },\n",
    "    inplace=True\n",
    ")"
   ]
  },
  {
   "cell_type": "code",
   "execution_count": 108,
   "metadata": {
    "collapsed": false
   },
   "outputs": [
    {
     "data": {
      "text/plain": [
       "Index([u'Dilution', u'Analyte', u'FI-Bkgd', u'FI-Bkgd-Neg', u'CV',\n",
       "       u'participant_id', u'visit_code', u'visit_date', u'sample_type',\n",
       "       u'Buffer'],\n",
       "      dtype='object')"
      ]
     },
     "execution_count": 108,
     "metadata": {},
     "output_type": "execute_result"
    }
   ],
   "source": [
    "long_data.columns"
   ]
  },
  {
   "cell_type": "markdown",
   "metadata": {
    "slideshow": {
     "slide_type": "fragment"
    }
   },
   "source": [
    "We'll also make all the column names lowercase"
   ]
  },
  {
   "cell_type": "code",
   "execution_count": 109,
   "metadata": {
    "collapsed": false
   },
   "outputs": [
    {
     "data": {
      "text/html": [
       "<div>\n",
       "<table border=\"1\" class=\"dataframe\">\n",
       "  <thead>\n",
       "    <tr style=\"text-align: right;\">\n",
       "      <th></th>\n",
       "      <th>dilution</th>\n",
       "      <th>analyte</th>\n",
       "      <th>fi-bkgd</th>\n",
       "      <th>fi-bkgd-neg</th>\n",
       "      <th>cv</th>\n",
       "      <th>participant_id</th>\n",
       "      <th>visit_code</th>\n",
       "      <th>visit_date</th>\n",
       "      <th>sample_type</th>\n",
       "      <th>buffer</th>\n",
       "    </tr>\n",
       "  </thead>\n",
       "  <tbody>\n",
       "    <tr>\n",
       "      <th>0</th>\n",
       "      <td>50</td>\n",
       "      <td>p24 (19)</td>\n",
       "      <td>474.8</td>\n",
       "      <td>454.8</td>\n",
       "      <td>0.0372</td>\n",
       "      <td>URN2</td>\n",
       "      <td>0</td>\n",
       "      <td>10/14/1899</td>\n",
       "      <td>PLA</td>\n",
       "      <td>PBS</td>\n",
       "    </tr>\n",
       "    <tr>\n",
       "      <th>1</th>\n",
       "      <td>50</td>\n",
       "      <td>gp41 (44)</td>\n",
       "      <td>470.8</td>\n",
       "      <td>452.8</td>\n",
       "      <td>0.1387</td>\n",
       "      <td>URN2</td>\n",
       "      <td>0</td>\n",
       "      <td>10/14/1899</td>\n",
       "      <td>PLA</td>\n",
       "      <td>PBS</td>\n",
       "    </tr>\n",
       "    <tr>\n",
       "      <th>2</th>\n",
       "      <td>50</td>\n",
       "      <td>Con 6 gp120/B (72)</td>\n",
       "      <td>52.5</td>\n",
       "      <td>44.5</td>\n",
       "      <td>0.1183</td>\n",
       "      <td>URN2</td>\n",
       "      <td>0</td>\n",
       "      <td>10/14/1899</td>\n",
       "      <td>PLA</td>\n",
       "      <td>PBS</td>\n",
       "    </tr>\n",
       "    <tr>\n",
       "      <th>3</th>\n",
       "      <td>50</td>\n",
       "      <td>B.con.env03 140 CF (65)</td>\n",
       "      <td>55.5</td>\n",
       "      <td>46.5</td>\n",
       "      <td>0.1709</td>\n",
       "      <td>URN2</td>\n",
       "      <td>0</td>\n",
       "      <td>10/14/1899</td>\n",
       "      <td>PLA</td>\n",
       "      <td>PBS</td>\n",
       "    </tr>\n",
       "    <tr>\n",
       "      <th>4</th>\n",
       "      <td>50</td>\n",
       "      <td>Blank (53)</td>\n",
       "      <td>29.0</td>\n",
       "      <td>NaN</td>\n",
       "      <td>0.0527</td>\n",
       "      <td>URN2</td>\n",
       "      <td>0</td>\n",
       "      <td>10/14/1899</td>\n",
       "      <td>PLA</td>\n",
       "      <td>PBS</td>\n",
       "    </tr>\n",
       "  </tbody>\n",
       "</table>\n",
       "</div>"
      ],
      "text/plain": [
       "   dilution                  analyte  fi-bkgd  fi-bkgd-neg      cv  \\\n",
       "0        50                 p24 (19)    474.8        454.8  0.0372   \n",
       "1        50                gp41 (44)    470.8        452.8  0.1387   \n",
       "2        50       Con 6 gp120/B (72)     52.5         44.5  0.1183   \n",
       "3        50  B.con.env03 140 CF (65)     55.5         46.5  0.1709   \n",
       "4        50               Blank (53)     29.0          NaN  0.0527   \n",
       "\n",
       "  participant_id  visit_code   visit_date sample_type buffer  \n",
       "0           URN2           0   10/14/1899         PLA    PBS  \n",
       "1           URN2           0   10/14/1899         PLA    PBS  \n",
       "2           URN2           0   10/14/1899         PLA    PBS  \n",
       "3           URN2           0   10/14/1899         PLA    PBS  \n",
       "4           URN2           0   10/14/1899         PLA    PBS  "
      ]
     },
     "execution_count": 109,
     "metadata": {},
     "output_type": "execute_result"
    }
   ],
   "source": [
    "long_data.columns = long_data.columns.str.lower()\n",
    "long_data.head()"
   ]
  },
  {
   "cell_type": "markdown",
   "metadata": {
    "slideshow": {
     "slide_type": "slide"
    }
   },
   "source": [
    "Q3. Is there a good choice for an index column?"
   ]
  },
  {
   "cell_type": "markdown",
   "metadata": {
    "slideshow": {
     "slide_type": "fragment"
    }
   },
   "source": [
    "Not really. There's no single column containing unique values. "
   ]
  },
  {
   "cell_type": "markdown",
   "metadata": {
    "slideshow": {
     "slide_type": "fragment"
    }
   },
   "source": [
    "We'll se in the next session how to create an index using multiple columns."
   ]
  },
  {
   "cell_type": "markdown",
   "metadata": {
    "slideshow": {
     "slide_type": "slide"
    }
   },
   "source": [
    "Q4. Are there any missing data values?"
   ]
  },
  {
   "cell_type": "markdown",
   "metadata": {
    "slideshow": {
     "slide_type": "fragment"
    }
   },
   "source": [
    "There are several ways to determine if a data set contains missing values\n",
    "\n",
    "We could look column by column"
   ]
  },
  {
   "cell_type": "code",
   "execution_count": 130,
   "metadata": {
    "collapsed": false
   },
   "outputs": [
    {
     "data": {
      "text/html": [
       "<div>\n",
       "<table border=\"1\" class=\"dataframe\">\n",
       "  <thead>\n",
       "    <tr style=\"text-align: right;\">\n",
       "      <th></th>\n",
       "      <th>dilution</th>\n",
       "      <th>analyte</th>\n",
       "      <th>fi-bkgd</th>\n",
       "      <th>fi-bkgd-neg</th>\n",
       "      <th>cv</th>\n",
       "      <th>participant_id</th>\n",
       "      <th>visit_code</th>\n",
       "      <th>visit_date</th>\n",
       "      <th>sample_type</th>\n",
       "      <th>buffer</th>\n",
       "    </tr>\n",
       "  </thead>\n",
       "  <tbody>\n",
       "  </tbody>\n",
       "</table>\n",
       "</div>"
      ],
      "text/plain": [
       "Empty DataFrame\n",
       "Columns: [dilution, analyte, fi-bkgd, fi-bkgd-neg, cv, participant_id, visit_code, visit_date, sample_type, buffer]\n",
       "Index: []"
      ]
     },
     "execution_count": 130,
     "metadata": {},
     "output_type": "execute_result"
    }
   ],
   "source": [
    "long_data[long_data.participant_id.isnull()]"
   ]
  },
  {
   "cell_type": "markdown",
   "metadata": {
    "slideshow": {
     "slide_type": "fragment"
    }
   },
   "source": [
    "A useful trick is to sum the boolean values returned from **`isnull`**:"
   ]
  },
  {
   "cell_type": "code",
   "execution_count": 110,
   "metadata": {
    "collapsed": false
   },
   "outputs": [
    {
     "data": {
      "text/plain": [
       "dilution            0\n",
       "analyte             0\n",
       "fi-bkgd             0\n",
       "fi-bkgd-neg       353\n",
       "cv                  0\n",
       "participant_id      0\n",
       "visit_code          0\n",
       "visit_date          0\n",
       "sample_type         0\n",
       "buffer              0\n",
       "dtype: int64"
      ]
     },
     "execution_count": 110,
     "metadata": {},
     "output_type": "execute_result"
    }
   ],
   "source": [
    "long_data.isnull().sum()"
   ]
  },
  {
   "cell_type": "markdown",
   "metadata": {
    "slideshow": {
     "slide_type": "fragment"
    }
   },
   "source": [
    "This tells us which columns contain null values and how many"
   ]
  },
  {
   "cell_type": "markdown",
   "metadata": {
    "slideshow": {
     "slide_type": "fragment"
    }
   },
   "source": [
    "But, if multiple columns contained missing values we could find all of rows using **`any`**:"
   ]
  },
  {
   "cell_type": "code",
   "execution_count": 141,
   "metadata": {
    "collapsed": false
   },
   "outputs": [
    {
     "data": {
      "text/html": [
       "<div>\n",
       "<table border=\"1\" class=\"dataframe\">\n",
       "  <thead>\n",
       "    <tr style=\"text-align: right;\">\n",
       "      <th></th>\n",
       "      <th>dilution</th>\n",
       "      <th>analyte</th>\n",
       "      <th>fi-bkgd</th>\n",
       "      <th>fi-bkgd-neg</th>\n",
       "      <th>cv</th>\n",
       "      <th>participant_id</th>\n",
       "      <th>visit_code</th>\n",
       "      <th>visit_date</th>\n",
       "      <th>sample_type</th>\n",
       "      <th>buffer</th>\n",
       "    </tr>\n",
       "  </thead>\n",
       "  <tbody>\n",
       "    <tr>\n",
       "      <th>4</th>\n",
       "      <td>50</td>\n",
       "      <td>Blank (53)</td>\n",
       "      <td>29.0</td>\n",
       "      <td>NaN</td>\n",
       "      <td>0.0527</td>\n",
       "      <td>URN2</td>\n",
       "      <td>0</td>\n",
       "      <td>10/14/1899</td>\n",
       "      <td>PLA</td>\n",
       "      <td>PBS</td>\n",
       "    </tr>\n",
       "    <tr>\n",
       "      <th>8</th>\n",
       "      <td>50</td>\n",
       "      <td>MulVgp70_His6 (49)</td>\n",
       "      <td>205.4</td>\n",
       "      <td>NaN</td>\n",
       "      <td>0.0861</td>\n",
       "      <td>URN2</td>\n",
       "      <td>0</td>\n",
       "      <td>10/14/1899</td>\n",
       "      <td>PLA</td>\n",
       "      <td>PBS</td>\n",
       "    </tr>\n",
       "    <tr>\n",
       "      <th>14</th>\n",
       "      <td>50</td>\n",
       "      <td>Blank (53)</td>\n",
       "      <td>4.8</td>\n",
       "      <td>NaN</td>\n",
       "      <td>0.1674</td>\n",
       "      <td>URN2</td>\n",
       "      <td>0</td>\n",
       "      <td>10/14/1899</td>\n",
       "      <td>PLA</td>\n",
       "      <td>CIT</td>\n",
       "    </tr>\n",
       "    <tr>\n",
       "      <th>18</th>\n",
       "      <td>50</td>\n",
       "      <td>MulVgp70_His6 (49)</td>\n",
       "      <td>20.0</td>\n",
       "      <td>NaN</td>\n",
       "      <td>0.1170</td>\n",
       "      <td>URN2</td>\n",
       "      <td>0</td>\n",
       "      <td>10/14/1899</td>\n",
       "      <td>PLA</td>\n",
       "      <td>CIT</td>\n",
       "    </tr>\n",
       "    <tr>\n",
       "      <th>24</th>\n",
       "      <td>50</td>\n",
       "      <td>Blank (53)</td>\n",
       "      <td>54.0</td>\n",
       "      <td>NaN</td>\n",
       "      <td>0.0228</td>\n",
       "      <td>URN2</td>\n",
       "      <td>9</td>\n",
       "      <td>01/04/1901</td>\n",
       "      <td>PLA</td>\n",
       "      <td>PBS</td>\n",
       "    </tr>\n",
       "    <tr>\n",
       "      <th>28</th>\n",
       "      <td>50</td>\n",
       "      <td>MulVgp70_His6 (49)</td>\n",
       "      <td>89.5</td>\n",
       "      <td>NaN</td>\n",
       "      <td>0.1078</td>\n",
       "      <td>URN2</td>\n",
       "      <td>9</td>\n",
       "      <td>01/04/1901</td>\n",
       "      <td>PLA</td>\n",
       "      <td>PBS</td>\n",
       "    </tr>\n",
       "    <tr>\n",
       "      <th>34</th>\n",
       "      <td>50</td>\n",
       "      <td>Blank (53)</td>\n",
       "      <td>8.5</td>\n",
       "      <td>NaN</td>\n",
       "      <td>0.0788</td>\n",
       "      <td>URN2</td>\n",
       "      <td>9</td>\n",
       "      <td>01/04/1901</td>\n",
       "      <td>PLA</td>\n",
       "      <td>CIT</td>\n",
       "    </tr>\n",
       "    <tr>\n",
       "      <th>38</th>\n",
       "      <td>50</td>\n",
       "      <td>MulVgp70_His6 (49)</td>\n",
       "      <td>42.4</td>\n",
       "      <td>NaN</td>\n",
       "      <td>0.3950</td>\n",
       "      <td>URN2</td>\n",
       "      <td>9</td>\n",
       "      <td>01/04/1901</td>\n",
       "      <td>PLA</td>\n",
       "      <td>CIT</td>\n",
       "    </tr>\n",
       "    <tr>\n",
       "      <th>44</th>\n",
       "      <td>50</td>\n",
       "      <td>Blank (53)</td>\n",
       "      <td>77.0</td>\n",
       "      <td>NaN</td>\n",
       "      <td>0.0166</td>\n",
       "      <td>URN2</td>\n",
       "      <td>8</td>\n",
       "      <td>12/30/1900</td>\n",
       "      <td>PLA</td>\n",
       "      <td>PBS</td>\n",
       "    </tr>\n",
       "    <tr>\n",
       "      <th>48</th>\n",
       "      <td>50</td>\n",
       "      <td>MulVgp70_His6 (49)</td>\n",
       "      <td>222.5</td>\n",
       "      <td>NaN</td>\n",
       "      <td>0.0578</td>\n",
       "      <td>URN2</td>\n",
       "      <td>8</td>\n",
       "      <td>12/30/1900</td>\n",
       "      <td>PLA</td>\n",
       "      <td>PBS</td>\n",
       "    </tr>\n",
       "    <tr>\n",
       "      <th>54</th>\n",
       "      <td>50</td>\n",
       "      <td>Blank (53)</td>\n",
       "      <td>7.0</td>\n",
       "      <td>NaN</td>\n",
       "      <td>0.3267</td>\n",
       "      <td>URN2</td>\n",
       "      <td>8</td>\n",
       "      <td>12/30/1900</td>\n",
       "      <td>PLA</td>\n",
       "      <td>CIT</td>\n",
       "    </tr>\n",
       "    <tr>\n",
       "      <th>58</th>\n",
       "      <td>50</td>\n",
       "      <td>MulVgp70_His6 (49)</td>\n",
       "      <td>26.8</td>\n",
       "      <td>NaN</td>\n",
       "      <td>0.0283</td>\n",
       "      <td>URN2</td>\n",
       "      <td>8</td>\n",
       "      <td>12/30/1900</td>\n",
       "      <td>PLA</td>\n",
       "      <td>CIT</td>\n",
       "    </tr>\n",
       "    <tr>\n",
       "      <th>64</th>\n",
       "      <td>50</td>\n",
       "      <td>Blank (53)</td>\n",
       "      <td>49.4</td>\n",
       "      <td>NaN</td>\n",
       "      <td>0.0803</td>\n",
       "      <td>URN2</td>\n",
       "      <td>7</td>\n",
       "      <td>12/27/1900</td>\n",
       "      <td>PLA</td>\n",
       "      <td>PBS</td>\n",
       "    </tr>\n",
       "    <tr>\n",
       "      <th>68</th>\n",
       "      <td>50</td>\n",
       "      <td>MulVgp70_His6 (49)</td>\n",
       "      <td>75.0</td>\n",
       "      <td>NaN</td>\n",
       "      <td>0.0176</td>\n",
       "      <td>URN2</td>\n",
       "      <td>7</td>\n",
       "      <td>12/27/1900</td>\n",
       "      <td>PLA</td>\n",
       "      <td>PBS</td>\n",
       "    </tr>\n",
       "    <tr>\n",
       "      <th>74</th>\n",
       "      <td>50</td>\n",
       "      <td>Blank (53)</td>\n",
       "      <td>7.8</td>\n",
       "      <td>NaN</td>\n",
       "      <td>0.1800</td>\n",
       "      <td>URN2</td>\n",
       "      <td>7</td>\n",
       "      <td>12/27/1900</td>\n",
       "      <td>PLA</td>\n",
       "      <td>CIT</td>\n",
       "    </tr>\n",
       "    <tr>\n",
       "      <th>78</th>\n",
       "      <td>50</td>\n",
       "      <td>MulVgp70_His6 (49)</td>\n",
       "      <td>22.4</td>\n",
       "      <td>NaN</td>\n",
       "      <td>0.0598</td>\n",
       "      <td>URN2</td>\n",
       "      <td>7</td>\n",
       "      <td>12/27/1900</td>\n",
       "      <td>PLA</td>\n",
       "      <td>CIT</td>\n",
       "    </tr>\n",
       "    <tr>\n",
       "      <th>84</th>\n",
       "      <td>50</td>\n",
       "      <td>Blank (53)</td>\n",
       "      <td>46.0</td>\n",
       "      <td>NaN</td>\n",
       "      <td>0.1571</td>\n",
       "      <td>URN2</td>\n",
       "      <td>6</td>\n",
       "      <td>12/23/1900</td>\n",
       "      <td>PLA</td>\n",
       "      <td>PBS</td>\n",
       "    </tr>\n",
       "    <tr>\n",
       "      <th>88</th>\n",
       "      <td>50</td>\n",
       "      <td>MulVgp70_His6 (49)</td>\n",
       "      <td>72.0</td>\n",
       "      <td>NaN</td>\n",
       "      <td>0.0380</td>\n",
       "      <td>URN2</td>\n",
       "      <td>6</td>\n",
       "      <td>12/23/1900</td>\n",
       "      <td>PLA</td>\n",
       "      <td>PBS</td>\n",
       "    </tr>\n",
       "    <tr>\n",
       "      <th>94</th>\n",
       "      <td>50</td>\n",
       "      <td>Blank (53)</td>\n",
       "      <td>4.5</td>\n",
       "      <td>NaN</td>\n",
       "      <td>0.0673</td>\n",
       "      <td>URN2</td>\n",
       "      <td>6</td>\n",
       "      <td>12/23/1900</td>\n",
       "      <td>PLA</td>\n",
       "      <td>CIT</td>\n",
       "    </tr>\n",
       "    <tr>\n",
       "      <th>98</th>\n",
       "      <td>50</td>\n",
       "      <td>MulVgp70_His6 (49)</td>\n",
       "      <td>4.8</td>\n",
       "      <td>NaN</td>\n",
       "      <td>0.1078</td>\n",
       "      <td>URN2</td>\n",
       "      <td>6</td>\n",
       "      <td>12/23/1900</td>\n",
       "      <td>PLA</td>\n",
       "      <td>CIT</td>\n",
       "    </tr>\n",
       "    <tr>\n",
       "      <th>104</th>\n",
       "      <td>50</td>\n",
       "      <td>Blank (53)</td>\n",
       "      <td>48.8</td>\n",
       "      <td>NaN</td>\n",
       "      <td>0.1187</td>\n",
       "      <td>URN2</td>\n",
       "      <td>5</td>\n",
       "      <td>12/20/1900</td>\n",
       "      <td>PLA</td>\n",
       "      <td>PBS</td>\n",
       "    </tr>\n",
       "    <tr>\n",
       "      <th>108</th>\n",
       "      <td>50</td>\n",
       "      <td>MulVgp70_His6 (49)</td>\n",
       "      <td>77.0</td>\n",
       "      <td>NaN</td>\n",
       "      <td>0.0857</td>\n",
       "      <td>URN2</td>\n",
       "      <td>5</td>\n",
       "      <td>12/20/1900</td>\n",
       "      <td>PLA</td>\n",
       "      <td>PBS</td>\n",
       "    </tr>\n",
       "    <tr>\n",
       "      <th>114</th>\n",
       "      <td>50</td>\n",
       "      <td>Blank (53)</td>\n",
       "      <td>2.5</td>\n",
       "      <td>NaN</td>\n",
       "      <td>0.0832</td>\n",
       "      <td>URN2</td>\n",
       "      <td>5</td>\n",
       "      <td>12/20/1900</td>\n",
       "      <td>PLA</td>\n",
       "      <td>CIT</td>\n",
       "    </tr>\n",
       "    <tr>\n",
       "      <th>118</th>\n",
       "      <td>50</td>\n",
       "      <td>MulVgp70_His6 (49)</td>\n",
       "      <td>2.4</td>\n",
       "      <td>NaN</td>\n",
       "      <td>0.0832</td>\n",
       "      <td>URN2</td>\n",
       "      <td>5</td>\n",
       "      <td>12/20/1900</td>\n",
       "      <td>PLA</td>\n",
       "      <td>CIT</td>\n",
       "    </tr>\n",
       "    <tr>\n",
       "      <th>124</th>\n",
       "      <td>50</td>\n",
       "      <td>Blank (53)</td>\n",
       "      <td>72.5</td>\n",
       "      <td>NaN</td>\n",
       "      <td>0.0267</td>\n",
       "      <td>URN2</td>\n",
       "      <td>4</td>\n",
       "      <td>12/16/1900</td>\n",
       "      <td>PLA</td>\n",
       "      <td>PBS</td>\n",
       "    </tr>\n",
       "    <tr>\n",
       "      <th>128</th>\n",
       "      <td>50</td>\n",
       "      <td>MulVgp70_His6 (49)</td>\n",
       "      <td>92.8</td>\n",
       "      <td>NaN</td>\n",
       "      <td>0.0154</td>\n",
       "      <td>URN2</td>\n",
       "      <td>4</td>\n",
       "      <td>12/16/1900</td>\n",
       "      <td>PLA</td>\n",
       "      <td>PBS</td>\n",
       "    </tr>\n",
       "    <tr>\n",
       "      <th>134</th>\n",
       "      <td>50</td>\n",
       "      <td>Blank (53)</td>\n",
       "      <td>4.5</td>\n",
       "      <td>NaN</td>\n",
       "      <td>0.0777</td>\n",
       "      <td>URN2</td>\n",
       "      <td>4</td>\n",
       "      <td>12/16/1900</td>\n",
       "      <td>PLA</td>\n",
       "      <td>CIT</td>\n",
       "    </tr>\n",
       "    <tr>\n",
       "      <th>138</th>\n",
       "      <td>50</td>\n",
       "      <td>MulVgp70_His6 (49)</td>\n",
       "      <td>5.4</td>\n",
       "      <td>NaN</td>\n",
       "      <td>0.1737</td>\n",
       "      <td>URN2</td>\n",
       "      <td>4</td>\n",
       "      <td>12/16/1900</td>\n",
       "      <td>PLA</td>\n",
       "      <td>CIT</td>\n",
       "    </tr>\n",
       "    <tr>\n",
       "      <th>144</th>\n",
       "      <td>50</td>\n",
       "      <td>Blank (53)</td>\n",
       "      <td>55.5</td>\n",
       "      <td>NaN</td>\n",
       "      <td>0.0111</td>\n",
       "      <td>URN2</td>\n",
       "      <td>3</td>\n",
       "      <td>1900/12/13</td>\n",
       "      <td>PLA</td>\n",
       "      <td>PBS</td>\n",
       "    </tr>\n",
       "    <tr>\n",
       "      <th>148</th>\n",
       "      <td>50</td>\n",
       "      <td>MulVgp70_His6 (49)</td>\n",
       "      <td>74.5</td>\n",
       "      <td>NaN</td>\n",
       "      <td>0.0814</td>\n",
       "      <td>URN2</td>\n",
       "      <td>3</td>\n",
       "      <td>1900/12/13</td>\n",
       "      <td>PLA</td>\n",
       "      <td>PBS</td>\n",
       "    </tr>\n",
       "    <tr>\n",
       "      <th>...</th>\n",
       "      <td>...</td>\n",
       "      <td>...</td>\n",
       "      <td>...</td>\n",
       "      <td>...</td>\n",
       "      <td>...</td>\n",
       "      <td>...</td>\n",
       "      <td>...</td>\n",
       "      <td>...</td>\n",
       "      <td>...</td>\n",
       "      <td>...</td>\n",
       "    </tr>\n",
       "    <tr>\n",
       "      <th>1615</th>\n",
       "      <td>50</td>\n",
       "      <td>Blank (53)</td>\n",
       "      <td>22.5</td>\n",
       "      <td>NaN</td>\n",
       "      <td>0.0189</td>\n",
       "      <td>PL1</td>\n",
       "      <td>6</td>\n",
       "      <td>04/11/1901</td>\n",
       "      <td>PLA</td>\n",
       "      <td>CIT</td>\n",
       "    </tr>\n",
       "    <tr>\n",
       "      <th>1619</th>\n",
       "      <td>50</td>\n",
       "      <td>MulVgp70_His6 (49)</td>\n",
       "      <td>27.5</td>\n",
       "      <td>NaN</td>\n",
       "      <td>0.0187</td>\n",
       "      <td>PL1</td>\n",
       "      <td>6</td>\n",
       "      <td>04/11/1901</td>\n",
       "      <td>PLA</td>\n",
       "      <td>CIT</td>\n",
       "    </tr>\n",
       "    <tr>\n",
       "      <th>1625</th>\n",
       "      <td>50</td>\n",
       "      <td>Blank (53)</td>\n",
       "      <td>24.5</td>\n",
       "      <td>NaN</td>\n",
       "      <td>0.2697</td>\n",
       "      <td>PL1</td>\n",
       "      <td>5</td>\n",
       "      <td>04/07/1901</td>\n",
       "      <td>PLA</td>\n",
       "      <td>PBS</td>\n",
       "    </tr>\n",
       "    <tr>\n",
       "      <th>1629</th>\n",
       "      <td>50</td>\n",
       "      <td>MulVgp70_His6 (49)</td>\n",
       "      <td>50.4</td>\n",
       "      <td>NaN</td>\n",
       "      <td>0.0099</td>\n",
       "      <td>PL1</td>\n",
       "      <td>5</td>\n",
       "      <td>04/07/1901</td>\n",
       "      <td>PLA</td>\n",
       "      <td>PBS</td>\n",
       "    </tr>\n",
       "    <tr>\n",
       "      <th>1635</th>\n",
       "      <td>50</td>\n",
       "      <td>Blank (53)</td>\n",
       "      <td>4.4</td>\n",
       "      <td>NaN</td>\n",
       "      <td>0.2020</td>\n",
       "      <td>PL1</td>\n",
       "      <td>5</td>\n",
       "      <td>04/07/1901</td>\n",
       "      <td>PLA</td>\n",
       "      <td>CIT</td>\n",
       "    </tr>\n",
       "    <tr>\n",
       "      <th>1639</th>\n",
       "      <td>50</td>\n",
       "      <td>MulVgp70_His6 (49)</td>\n",
       "      <td>22.0</td>\n",
       "      <td>NaN</td>\n",
       "      <td>0.0000</td>\n",
       "      <td>PL1</td>\n",
       "      <td>5</td>\n",
       "      <td>04/07/1901</td>\n",
       "      <td>PLA</td>\n",
       "      <td>CIT</td>\n",
       "    </tr>\n",
       "    <tr>\n",
       "      <th>1645</th>\n",
       "      <td>50</td>\n",
       "      <td>Blank (53)</td>\n",
       "      <td>28.0</td>\n",
       "      <td>NaN</td>\n",
       "      <td>0.0277</td>\n",
       "      <td>PL1</td>\n",
       "      <td>4</td>\n",
       "      <td>04/05/1901</td>\n",
       "      <td>PLA</td>\n",
       "      <td>PBS</td>\n",
       "    </tr>\n",
       "    <tr>\n",
       "      <th>1649</th>\n",
       "      <td>50</td>\n",
       "      <td>MulVgp70_His6 (49)</td>\n",
       "      <td>55.0</td>\n",
       "      <td>NaN</td>\n",
       "      <td>0.0328</td>\n",
       "      <td>PL1</td>\n",
       "      <td>4</td>\n",
       "      <td>04/05/1901</td>\n",
       "      <td>PLA</td>\n",
       "      <td>PBS</td>\n",
       "    </tr>\n",
       "    <tr>\n",
       "      <th>1655</th>\n",
       "      <td>50</td>\n",
       "      <td>Blank (53)</td>\n",
       "      <td>6.4</td>\n",
       "      <td>NaN</td>\n",
       "      <td>0.1697</td>\n",
       "      <td>PL1</td>\n",
       "      <td>4</td>\n",
       "      <td>04/05/1901</td>\n",
       "      <td>PLA</td>\n",
       "      <td>CIT</td>\n",
       "    </tr>\n",
       "    <tr>\n",
       "      <th>1659</th>\n",
       "      <td>50</td>\n",
       "      <td>MulVgp70_His6 (49)</td>\n",
       "      <td>22.4</td>\n",
       "      <td>NaN</td>\n",
       "      <td>0.0532</td>\n",
       "      <td>PL1</td>\n",
       "      <td>4</td>\n",
       "      <td>04/05/1901</td>\n",
       "      <td>PLA</td>\n",
       "      <td>CIT</td>\n",
       "    </tr>\n",
       "    <tr>\n",
       "      <th>1665</th>\n",
       "      <td>50</td>\n",
       "      <td>Blank (53)</td>\n",
       "      <td>24.0</td>\n",
       "      <td>NaN</td>\n",
       "      <td>0.0329</td>\n",
       "      <td>PL1</td>\n",
       "      <td>3</td>\n",
       "      <td>03/31/1901</td>\n",
       "      <td>PLA</td>\n",
       "      <td>PBS</td>\n",
       "    </tr>\n",
       "    <tr>\n",
       "      <th>1669</th>\n",
       "      <td>50</td>\n",
       "      <td>MulVgp70_His6 (49)</td>\n",
       "      <td>60.4</td>\n",
       "      <td>NaN</td>\n",
       "      <td>0.0737</td>\n",
       "      <td>PL1</td>\n",
       "      <td>3</td>\n",
       "      <td>03/31/1901</td>\n",
       "      <td>PLA</td>\n",
       "      <td>PBS</td>\n",
       "    </tr>\n",
       "    <tr>\n",
       "      <th>1675</th>\n",
       "      <td>50</td>\n",
       "      <td>Blank (53)</td>\n",
       "      <td>5.5</td>\n",
       "      <td>NaN</td>\n",
       "      <td>0.0903</td>\n",
       "      <td>PL1</td>\n",
       "      <td>3</td>\n",
       "      <td>03/31/1901</td>\n",
       "      <td>PLA</td>\n",
       "      <td>CIT</td>\n",
       "    </tr>\n",
       "    <tr>\n",
       "      <th>1679</th>\n",
       "      <td>50</td>\n",
       "      <td>MulVgp70_His6 (49)</td>\n",
       "      <td>8.0</td>\n",
       "      <td>NaN</td>\n",
       "      <td>0.0788</td>\n",
       "      <td>PL1</td>\n",
       "      <td>3</td>\n",
       "      <td>03/31/1901</td>\n",
       "      <td>PLA</td>\n",
       "      <td>CIT</td>\n",
       "    </tr>\n",
       "    <tr>\n",
       "      <th>1685</th>\n",
       "      <td>50</td>\n",
       "      <td>Blank (53)</td>\n",
       "      <td>25.5</td>\n",
       "      <td>NaN</td>\n",
       "      <td>0.0857</td>\n",
       "      <td>PL1</td>\n",
       "      <td>2</td>\n",
       "      <td>03/29/1901</td>\n",
       "      <td>PLA</td>\n",
       "      <td>PBS</td>\n",
       "    </tr>\n",
       "    <tr>\n",
       "      <th>1689</th>\n",
       "      <td>50</td>\n",
       "      <td>MulVgp70_His6 (49)</td>\n",
       "      <td>80.5</td>\n",
       "      <td>NaN</td>\n",
       "      <td>0.0035</td>\n",
       "      <td>PL1</td>\n",
       "      <td>2</td>\n",
       "      <td>03/29/1901</td>\n",
       "      <td>PLA</td>\n",
       "      <td>PBS</td>\n",
       "    </tr>\n",
       "    <tr>\n",
       "      <th>1695</th>\n",
       "      <td>50</td>\n",
       "      <td>Blank (53)</td>\n",
       "      <td>6.0</td>\n",
       "      <td>NaN</td>\n",
       "      <td>0.0866</td>\n",
       "      <td>PL1</td>\n",
       "      <td>2</td>\n",
       "      <td>03/29/1901</td>\n",
       "      <td>PLA</td>\n",
       "      <td>CIT</td>\n",
       "    </tr>\n",
       "    <tr>\n",
       "      <th>1699</th>\n",
       "      <td>50</td>\n",
       "      <td>MulVgp70_His6 (49)</td>\n",
       "      <td>8.5</td>\n",
       "      <td>NaN</td>\n",
       "      <td>0.0719</td>\n",
       "      <td>PL1</td>\n",
       "      <td>2</td>\n",
       "      <td>03/29/1901</td>\n",
       "      <td>PLA</td>\n",
       "      <td>CIT</td>\n",
       "    </tr>\n",
       "    <tr>\n",
       "      <th>1705</th>\n",
       "      <td>50</td>\n",
       "      <td>Blank (53)</td>\n",
       "      <td>244.5</td>\n",
       "      <td>NaN</td>\n",
       "      <td>0.0375</td>\n",
       "      <td>PL1</td>\n",
       "      <td>14</td>\n",
       "      <td>09/21/1901</td>\n",
       "      <td>PLA</td>\n",
       "      <td>PBS</td>\n",
       "    </tr>\n",
       "    <tr>\n",
       "      <th>1709</th>\n",
       "      <td>50</td>\n",
       "      <td>MulVgp70_His6 (49)</td>\n",
       "      <td>282.0</td>\n",
       "      <td>NaN</td>\n",
       "      <td>0.0770</td>\n",
       "      <td>PL1</td>\n",
       "      <td>14</td>\n",
       "      <td>09/21/1901</td>\n",
       "      <td>PLA</td>\n",
       "      <td>PBS</td>\n",
       "    </tr>\n",
       "    <tr>\n",
       "      <th>1715</th>\n",
       "      <td>50</td>\n",
       "      <td>Blank (53)</td>\n",
       "      <td>22.0</td>\n",
       "      <td>NaN</td>\n",
       "      <td>0.2206</td>\n",
       "      <td>PL1</td>\n",
       "      <td>14</td>\n",
       "      <td>09/21/1901</td>\n",
       "      <td>PLA</td>\n",
       "      <td>CIT</td>\n",
       "    </tr>\n",
       "    <tr>\n",
       "      <th>1719</th>\n",
       "      <td>50</td>\n",
       "      <td>MulVgp70_His6 (49)</td>\n",
       "      <td>25.4</td>\n",
       "      <td>NaN</td>\n",
       "      <td>0.1758</td>\n",
       "      <td>PL1</td>\n",
       "      <td>14</td>\n",
       "      <td>09/21/1901</td>\n",
       "      <td>PLA</td>\n",
       "      <td>CIT</td>\n",
       "    </tr>\n",
       "    <tr>\n",
       "      <th>1725</th>\n",
       "      <td>50</td>\n",
       "      <td>Blank (53)</td>\n",
       "      <td>95.5</td>\n",
       "      <td>NaN</td>\n",
       "      <td>0.0579</td>\n",
       "      <td>PL1</td>\n",
       "      <td>13</td>\n",
       "      <td>07/07/1901</td>\n",
       "      <td>PLA</td>\n",
       "      <td>PBS</td>\n",
       "    </tr>\n",
       "    <tr>\n",
       "      <th>1729</th>\n",
       "      <td>50</td>\n",
       "      <td>MulVgp70_His6 (49)</td>\n",
       "      <td>264.8</td>\n",
       "      <td>NaN</td>\n",
       "      <td>0.1223</td>\n",
       "      <td>PL1</td>\n",
       "      <td>13</td>\n",
       "      <td>07/07/1901</td>\n",
       "      <td>PLA</td>\n",
       "      <td>PBS</td>\n",
       "    </tr>\n",
       "    <tr>\n",
       "      <th>1735</th>\n",
       "      <td>50</td>\n",
       "      <td>Blank (53)</td>\n",
       "      <td>22.4</td>\n",
       "      <td>NaN</td>\n",
       "      <td>0.0704</td>\n",
       "      <td>PL1</td>\n",
       "      <td>13</td>\n",
       "      <td>07/07/1901</td>\n",
       "      <td>PLA</td>\n",
       "      <td>CIT</td>\n",
       "    </tr>\n",
       "    <tr>\n",
       "      <th>1739</th>\n",
       "      <td>50</td>\n",
       "      <td>MulVgp70_His6 (49)</td>\n",
       "      <td>24.0</td>\n",
       "      <td>NaN</td>\n",
       "      <td>0.0704</td>\n",
       "      <td>PL1</td>\n",
       "      <td>13</td>\n",
       "      <td>07/07/1901</td>\n",
       "      <td>PLA</td>\n",
       "      <td>CIT</td>\n",
       "    </tr>\n",
       "    <tr>\n",
       "      <th>1745</th>\n",
       "      <td>50</td>\n",
       "      <td>Blank (53)</td>\n",
       "      <td>24.4</td>\n",
       "      <td>NaN</td>\n",
       "      <td>0.0111</td>\n",
       "      <td>PL1</td>\n",
       "      <td>1</td>\n",
       "      <td>03/24/1901</td>\n",
       "      <td>PLA</td>\n",
       "      <td>PBS</td>\n",
       "    </tr>\n",
       "    <tr>\n",
       "      <th>1749</th>\n",
       "      <td>50</td>\n",
       "      <td>MulVgp70_His6 (49)</td>\n",
       "      <td>70.8</td>\n",
       "      <td>NaN</td>\n",
       "      <td>0.1076</td>\n",
       "      <td>PL1</td>\n",
       "      <td>1</td>\n",
       "      <td>03/24/1901</td>\n",
       "      <td>PLA</td>\n",
       "      <td>PBS</td>\n",
       "    </tr>\n",
       "    <tr>\n",
       "      <th>1755</th>\n",
       "      <td>50</td>\n",
       "      <td>Blank (53)</td>\n",
       "      <td>4.5</td>\n",
       "      <td>NaN</td>\n",
       "      <td>0.0987</td>\n",
       "      <td>PL1</td>\n",
       "      <td>1</td>\n",
       "      <td>03/24/1901</td>\n",
       "      <td>PLA</td>\n",
       "      <td>CIT</td>\n",
       "    </tr>\n",
       "    <tr>\n",
       "      <th>1759</th>\n",
       "      <td>50</td>\n",
       "      <td>MulVgp70_His6 (49)</td>\n",
       "      <td>5.8</td>\n",
       "      <td>NaN</td>\n",
       "      <td>0.0925</td>\n",
       "      <td>PL1</td>\n",
       "      <td>1</td>\n",
       "      <td>03/24/1901</td>\n",
       "      <td>PLA</td>\n",
       "      <td>CIT</td>\n",
       "    </tr>\n",
       "  </tbody>\n",
       "</table>\n",
       "<p>353 rows × 10 columns</p>\n",
       "</div>"
      ],
      "text/plain": [
       "      dilution             analyte  fi-bkgd  fi-bkgd-neg      cv  \\\n",
       "4           50          Blank (53)     29.0          NaN  0.0527   \n",
       "8           50  MulVgp70_His6 (49)    205.4          NaN  0.0861   \n",
       "14          50          Blank (53)      4.8          NaN  0.1674   \n",
       "18          50  MulVgp70_His6 (49)     20.0          NaN  0.1170   \n",
       "24          50          Blank (53)     54.0          NaN  0.0228   \n",
       "28          50  MulVgp70_His6 (49)     89.5          NaN  0.1078   \n",
       "34          50          Blank (53)      8.5          NaN  0.0788   \n",
       "38          50  MulVgp70_His6 (49)     42.4          NaN  0.3950   \n",
       "44          50          Blank (53)     77.0          NaN  0.0166   \n",
       "48          50  MulVgp70_His6 (49)    222.5          NaN  0.0578   \n",
       "54          50          Blank (53)      7.0          NaN  0.3267   \n",
       "58          50  MulVgp70_His6 (49)     26.8          NaN  0.0283   \n",
       "64          50          Blank (53)     49.4          NaN  0.0803   \n",
       "68          50  MulVgp70_His6 (49)     75.0          NaN  0.0176   \n",
       "74          50          Blank (53)      7.8          NaN  0.1800   \n",
       "78          50  MulVgp70_His6 (49)     22.4          NaN  0.0598   \n",
       "84          50          Blank (53)     46.0          NaN  0.1571   \n",
       "88          50  MulVgp70_His6 (49)     72.0          NaN  0.0380   \n",
       "94          50          Blank (53)      4.5          NaN  0.0673   \n",
       "98          50  MulVgp70_His6 (49)      4.8          NaN  0.1078   \n",
       "104         50          Blank (53)     48.8          NaN  0.1187   \n",
       "108         50  MulVgp70_His6 (49)     77.0          NaN  0.0857   \n",
       "114         50          Blank (53)      2.5          NaN  0.0832   \n",
       "118         50  MulVgp70_His6 (49)      2.4          NaN  0.0832   \n",
       "124         50          Blank (53)     72.5          NaN  0.0267   \n",
       "128         50  MulVgp70_His6 (49)     92.8          NaN  0.0154   \n",
       "134         50          Blank (53)      4.5          NaN  0.0777   \n",
       "138         50  MulVgp70_His6 (49)      5.4          NaN  0.1737   \n",
       "144         50          Blank (53)     55.5          NaN  0.0111   \n",
       "148         50  MulVgp70_His6 (49)     74.5          NaN  0.0814   \n",
       "...        ...                 ...      ...          ...     ...   \n",
       "1615        50          Blank (53)     22.5          NaN  0.0189   \n",
       "1619        50  MulVgp70_His6 (49)     27.5          NaN  0.0187   \n",
       "1625        50          Blank (53)     24.5          NaN  0.2697   \n",
       "1629        50  MulVgp70_His6 (49)     50.4          NaN  0.0099   \n",
       "1635        50          Blank (53)      4.4          NaN  0.2020   \n",
       "1639        50  MulVgp70_His6 (49)     22.0          NaN  0.0000   \n",
       "1645        50          Blank (53)     28.0          NaN  0.0277   \n",
       "1649        50  MulVgp70_His6 (49)     55.0          NaN  0.0328   \n",
       "1655        50          Blank (53)      6.4          NaN  0.1697   \n",
       "1659        50  MulVgp70_His6 (49)     22.4          NaN  0.0532   \n",
       "1665        50          Blank (53)     24.0          NaN  0.0329   \n",
       "1669        50  MulVgp70_His6 (49)     60.4          NaN  0.0737   \n",
       "1675        50          Blank (53)      5.5          NaN  0.0903   \n",
       "1679        50  MulVgp70_His6 (49)      8.0          NaN  0.0788   \n",
       "1685        50          Blank (53)     25.5          NaN  0.0857   \n",
       "1689        50  MulVgp70_His6 (49)     80.5          NaN  0.0035   \n",
       "1695        50          Blank (53)      6.0          NaN  0.0866   \n",
       "1699        50  MulVgp70_His6 (49)      8.5          NaN  0.0719   \n",
       "1705        50          Blank (53)    244.5          NaN  0.0375   \n",
       "1709        50  MulVgp70_His6 (49)    282.0          NaN  0.0770   \n",
       "1715        50          Blank (53)     22.0          NaN  0.2206   \n",
       "1719        50  MulVgp70_His6 (49)     25.4          NaN  0.1758   \n",
       "1725        50          Blank (53)     95.5          NaN  0.0579   \n",
       "1729        50  MulVgp70_His6 (49)    264.8          NaN  0.1223   \n",
       "1735        50          Blank (53)     22.4          NaN  0.0704   \n",
       "1739        50  MulVgp70_His6 (49)     24.0          NaN  0.0704   \n",
       "1745        50          Blank (53)     24.4          NaN  0.0111   \n",
       "1749        50  MulVgp70_His6 (49)     70.8          NaN  0.1076   \n",
       "1755        50          Blank (53)      4.5          NaN  0.0987   \n",
       "1759        50  MulVgp70_His6 (49)      5.8          NaN  0.0925   \n",
       "\n",
       "     participant_id  visit_code   visit_date sample_type buffer  \n",
       "4              URN2           0   10/14/1899         PLA    PBS  \n",
       "8              URN2           0   10/14/1899         PLA    PBS  \n",
       "14             URN2           0   10/14/1899         PLA    CIT  \n",
       "18             URN2           0   10/14/1899         PLA    CIT  \n",
       "24             URN2           9   01/04/1901         PLA    PBS  \n",
       "28             URN2           9   01/04/1901         PLA    PBS  \n",
       "34             URN2           9   01/04/1901         PLA    CIT  \n",
       "38             URN2           9   01/04/1901         PLA    CIT  \n",
       "44             URN2           8   12/30/1900         PLA    PBS  \n",
       "48             URN2           8   12/30/1900         PLA    PBS  \n",
       "54             URN2           8   12/30/1900         PLA    CIT  \n",
       "58             URN2           8   12/30/1900         PLA    CIT  \n",
       "64             URN2           7   12/27/1900         PLA    PBS  \n",
       "68             URN2           7   12/27/1900         PLA    PBS  \n",
       "74             URN2           7   12/27/1900         PLA    CIT  \n",
       "78             URN2           7   12/27/1900         PLA    CIT  \n",
       "84             URN2           6   12/23/1900         PLA    PBS  \n",
       "88             URN2           6   12/23/1900         PLA    PBS  \n",
       "94             URN2           6   12/23/1900         PLA    CIT  \n",
       "98             URN2           6   12/23/1900         PLA    CIT  \n",
       "104            URN2           5   12/20/1900         PLA    PBS  \n",
       "108            URN2           5   12/20/1900         PLA    PBS  \n",
       "114            URN2           5   12/20/1900         PLA    CIT  \n",
       "118            URN2           5   12/20/1900         PLA    CIT  \n",
       "124            URN2           4   12/16/1900         PLA    PBS  \n",
       "128            URN2           4   12/16/1900         PLA    PBS  \n",
       "134            URN2           4   12/16/1900         PLA    CIT  \n",
       "138            URN2           4   12/16/1900         PLA    CIT  \n",
       "144            URN2           3   1900/12/13         PLA    PBS  \n",
       "148            URN2           3   1900/12/13         PLA    PBS  \n",
       "...             ...         ...          ...         ...    ...  \n",
       "1615            PL1           6   04/11/1901         PLA    CIT  \n",
       "1619            PL1           6   04/11/1901         PLA    CIT  \n",
       "1625            PL1           5   04/07/1901         PLA    PBS  \n",
       "1629            PL1           5   04/07/1901         PLA    PBS  \n",
       "1635            PL1           5   04/07/1901         PLA    CIT  \n",
       "1639            PL1           5   04/07/1901         PLA    CIT  \n",
       "1645            PL1           4   04/05/1901         PLA    PBS  \n",
       "1649            PL1           4   04/05/1901         PLA    PBS  \n",
       "1655            PL1           4   04/05/1901         PLA    CIT  \n",
       "1659            PL1           4   04/05/1901         PLA    CIT  \n",
       "1665            PL1           3   03/31/1901         PLA    PBS  \n",
       "1669            PL1           3   03/31/1901         PLA    PBS  \n",
       "1675            PL1           3   03/31/1901         PLA    CIT  \n",
       "1679            PL1           3   03/31/1901         PLA    CIT  \n",
       "1685            PL1           2   03/29/1901         PLA    PBS  \n",
       "1689            PL1           2   03/29/1901         PLA    PBS  \n",
       "1695            PL1           2   03/29/1901         PLA    CIT  \n",
       "1699            PL1           2   03/29/1901         PLA    CIT  \n",
       "1705            PL1          14   09/21/1901         PLA    PBS  \n",
       "1709            PL1          14   09/21/1901         PLA    PBS  \n",
       "1715            PL1          14   09/21/1901         PLA    CIT  \n",
       "1719            PL1          14   09/21/1901         PLA    CIT  \n",
       "1725            PL1          13   07/07/1901         PLA    PBS  \n",
       "1729            PL1          13   07/07/1901         PLA    PBS  \n",
       "1735            PL1          13   07/07/1901         PLA    CIT  \n",
       "1739            PL1          13   07/07/1901         PLA    CIT  \n",
       "1745            PL1           1   03/24/1901         PLA    PBS  \n",
       "1749            PL1           1   03/24/1901         PLA    PBS  \n",
       "1755            PL1           1   03/24/1901         PLA    CIT  \n",
       "1759            PL1           1   03/24/1901         PLA    CIT  \n",
       "\n",
       "[353 rows x 10 columns]"
      ]
     },
     "execution_count": 141,
     "metadata": {},
     "output_type": "execute_result"
    }
   ],
   "source": [
    "long_data[long_data.isnull().any(axis=1)]"
   ]
  },
  {
   "cell_type": "code",
   "execution_count": 111,
   "metadata": {
    "collapsed": false
   },
   "outputs": [
    {
     "data": {
      "text/plain": [
       "dilution            int64\n",
       "analyte            object\n",
       "fi-bkgd           float64\n",
       "fi-bkgd-neg       float64\n",
       "cv                float64\n",
       "participant_id     object\n",
       "visit_code          int64\n",
       "visit_date         object\n",
       "sample_type        object\n",
       "buffer             object\n",
       "dtype: object"
      ]
     },
     "execution_count": 111,
     "metadata": {},
     "output_type": "execute_result"
    }
   ],
   "source": [
    "long_data.dtypes"
   ]
  },
  {
   "cell_type": "code",
   "execution_count": 112,
   "metadata": {
    "collapsed": false
   },
   "outputs": [
    {
     "data": {
      "text/html": [
       "<div>\n",
       "<table border=\"1\" class=\"dataframe\">\n",
       "  <thead>\n",
       "    <tr style=\"text-align: right;\">\n",
       "      <th></th>\n",
       "      <th>dilution</th>\n",
       "      <th>analyte</th>\n",
       "      <th>fi-bkgd</th>\n",
       "      <th>fi-bkgd-neg</th>\n",
       "      <th>cv</th>\n",
       "      <th>participant_id</th>\n",
       "      <th>visit_code</th>\n",
       "      <th>visit_date</th>\n",
       "      <th>sample_type</th>\n",
       "      <th>buffer</th>\n",
       "    </tr>\n",
       "  </thead>\n",
       "  <tbody>\n",
       "    <tr>\n",
       "      <th>748</th>\n",
       "      <td>50</td>\n",
       "      <td>p66 (RT) (42)</td>\n",
       "      <td>42992.5</td>\n",
       "      <td>42026.0</td>\n",
       "      <td>0.0093</td>\n",
       "      <td>SAL2</td>\n",
       "      <td>21</td>\n",
       "      <td>09/12/1902</td>\n",
       "      <td>PLA</td>\n",
       "      <td>PBS</td>\n",
       "    </tr>\n",
       "    <tr>\n",
       "      <th>531</th>\n",
       "      <td>50</td>\n",
       "      <td>p24 (19)</td>\n",
       "      <td>42972.8</td>\n",
       "      <td>42940.0</td>\n",
       "      <td>0.0027</td>\n",
       "      <td>SAL2</td>\n",
       "      <td>9</td>\n",
       "      <td>09/13/1900</td>\n",
       "      <td>PLA</td>\n",
       "      <td>CIT</td>\n",
       "    </tr>\n",
       "    <tr>\n",
       "      <th>1241</th>\n",
       "      <td>50</td>\n",
       "      <td>p24 (19)</td>\n",
       "      <td>42962.0</td>\n",
       "      <td>42922.0</td>\n",
       "      <td>0.0062</td>\n",
       "      <td>PL2</td>\n",
       "      <td>21</td>\n",
       "      <td>02/09/1902</td>\n",
       "      <td>PLA</td>\n",
       "      <td>PBS</td>\n",
       "    </tr>\n",
       "    <tr>\n",
       "      <th>741</th>\n",
       "      <td>50</td>\n",
       "      <td>p24 (19)</td>\n",
       "      <td>42954.5</td>\n",
       "      <td>40978.0</td>\n",
       "      <td>0.0120</td>\n",
       "      <td>SAL2</td>\n",
       "      <td>21</td>\n",
       "      <td>09/12/1902</td>\n",
       "      <td>PLA</td>\n",
       "      <td>PBS</td>\n",
       "    </tr>\n",
       "    <tr>\n",
       "      <th>217</th>\n",
       "      <td>50</td>\n",
       "      <td>p66 (RT) (42)</td>\n",
       "      <td>42942.0</td>\n",
       "      <td>42900.7</td>\n",
       "      <td>0.0080</td>\n",
       "      <td>URN2</td>\n",
       "      <td>22</td>\n",
       "      <td>03/08/1903</td>\n",
       "      <td>PLA</td>\n",
       "      <td>CIT</td>\n",
       "    </tr>\n",
       "  </tbody>\n",
       "</table>\n",
       "</div>"
      ],
      "text/plain": [
       "      dilution        analyte  fi-bkgd  fi-bkgd-neg      cv participant_id  \\\n",
       "748         50  p66 (RT) (42)  42992.5      42026.0  0.0093           SAL2   \n",
       "531         50       p24 (19)  42972.8      42940.0  0.0027           SAL2   \n",
       "1241        50       p24 (19)  42962.0      42922.0  0.0062            PL2   \n",
       "741         50       p24 (19)  42954.5      40978.0  0.0120           SAL2   \n",
       "217         50  p66 (RT) (42)  42942.0      42900.7  0.0080           URN2   \n",
       "\n",
       "      visit_code   visit_date sample_type buffer  \n",
       "748           21   09/12/1902         PLA    PBS  \n",
       "531            9   09/13/1900         PLA    CIT  \n",
       "1241          21   02/09/1902         PLA    PBS  \n",
       "741           21   09/12/1902         PLA    PBS  \n",
       "217           22   03/08/1903         PLA    CIT  "
      ]
     },
     "execution_count": 112,
     "metadata": {},
     "output_type": "execute_result"
    }
   ],
   "source": [
    "long_data.sort('fi-bkgd', ascending=False).head()"
   ]
  },
  {
   "cell_type": "code",
   "execution_count": 113,
   "metadata": {
    "collapsed": false
   },
   "outputs": [
    {
     "data": {
      "text/plain": [
       "count     1761.000000\n",
       "mean     12241.496479\n",
       "std      17371.064423\n",
       "min        -52.500000\n",
       "25%         48.500000\n",
       "50%        405.000000\n",
       "75%      27909.400000\n",
       "max      42992.500000\n",
       "Name: fi-bkgd, dtype: float64"
      ]
     },
     "execution_count": 113,
     "metadata": {},
     "output_type": "execute_result"
    }
   ],
   "source": [
    "long_data['fi-bkgd'].describe()"
   ]
  },
  {
   "cell_type": "code",
   "execution_count": null,
   "metadata": {
    "collapsed": false
   },
   "outputs": [],
   "source": [
    "long_data[(long_data['fi-bkgd'] > 10000) & (long_data['visit_code'] == 9)]"
   ]
  },
  {
   "cell_type": "code",
   "execution_count": null,
   "metadata": {
    "collapsed": false
   },
   "outputs": [],
   "source": [
    "long_data[(long_data['participant_id'] == 'SAL2') & (long_data['visit_code'] == 19)]"
   ]
  },
  {
   "cell_type": "code",
   "execution_count": null,
   "metadata": {
    "collapsed": false
   },
   "outputs": [],
   "source": [
    "sal2_blanks = long_data[(long_data['participant_id'] == 'SAL2') & (long_data['analyte'] == 'Blank (53)')].copy()\n",
    "sal2_blanks.head()"
   ]
  },
  {
   "cell_type": "markdown",
   "metadata": {
    "slideshow": {
     "slide_type": "slide"
    }
   },
   "source": [
    "# Basic QC Techniques using Summary Data\n",
    "\n",
    "- Unique values\n",
    "- Value Counts\n",
    "- Duplicates"
   ]
  },
  {
   "cell_type": "markdown",
   "metadata": {
    "slideshow": {
     "slide_type": "subslide"
    }
   },
   "source": [
    "Finding the unique values can help discover if any were missing or perhaps to help build a relational DB:"
   ]
  },
  {
   "cell_type": "code",
   "execution_count": null,
   "metadata": {
    "collapsed": false
   },
   "outputs": [],
   "source": [
    "analytes = long_data.analyte.unique()\n",
    "len(analytes)"
   ]
  },
  {
   "cell_type": "code",
   "execution_count": null,
   "metadata": {
    "collapsed": false
   },
   "outputs": [],
   "source": [
    "Series(analytes)"
   ]
  },
  {
   "cell_type": "markdown",
   "metadata": {
    "slideshow": {
     "slide_type": "subslide"
    }
   },
   "source": [
    "Looking at the number of occurrences can also help find missing or duplicated data:"
   ]
  },
  {
   "cell_type": "code",
   "execution_count": null,
   "metadata": {
    "collapsed": false
   },
   "outputs": [],
   "source": [
    "long_data.analyte.value_counts()"
   ]
  },
  {
   "cell_type": "code",
   "execution_count": null,
   "metadata": {
    "collapsed": false
   },
   "outputs": [],
   "source": [
    "long_data.participant_id.value_counts()"
   ]
  },
  {
   "cell_type": "markdown",
   "metadata": {
    "slideshow": {
     "slide_type": "subslide"
    }
   },
   "source": [
    "pandas has a convenient way of finding duplicated data:"
   ]
  },
  {
   "cell_type": "code",
   "execution_count": null,
   "metadata": {
    "collapsed": false
   },
   "outputs": [],
   "source": [
    "long_data[long_data.duplicated()]"
   ]
  },
  {
   "cell_type": "code",
   "execution_count": null,
   "metadata": {
    "collapsed": false
   },
   "outputs": [],
   "source": [
    "long_data[(long_data['fi-bkgd'] == 5.8) & (long_data.analyte == \"Blank (53)\") & (long_data.participant_id == 'PL1')]"
   ]
  },
  {
   "cell_type": "code",
   "execution_count": null,
   "metadata": {
    "collapsed": false
   },
   "outputs": [],
   "source": [
    "long_data = long_data.drop(464)\n",
    "long_data[long_data.duplicated()]"
   ]
  },
  {
   "cell_type": "markdown",
   "metadata": {
    "slideshow": {
     "slide_type": "subslide"
    }
   },
   "source": [
    "**`duplicated`** can also take a list of columns:"
   ]
  },
  {
   "cell_type": "code",
   "execution_count": null,
   "metadata": {
    "collapsed": false
   },
   "outputs": [],
   "source": [
    "long_data[long_data.duplicated(['fi-bkgd', 'cv', 'analyte', 'buffer'])]"
   ]
  },
  {
   "cell_type": "markdown",
   "metadata": {
    "slideshow": {
     "slide_type": "subslide"
    }
   },
   "source": [
    "There are many other DataFrame functions to get summary statistics. **`describe`** includes several:"
   ]
  },
  {
   "cell_type": "code",
   "execution_count": null,
   "metadata": {
    "collapsed": false
   },
   "outputs": [],
   "source": [
    "long_data.describe()"
   ]
  },
  {
   "cell_type": "markdown",
   "metadata": {
    "slideshow": {
     "slide_type": "slide"
    }
   },
   "source": [
    "# Hierarchical Indexing\n",
    "\n",
    "Our longitudinal data set doesn't have a single column with unique values to use for an index. pandas allows us to create a hierarchical index using multiple columns.\n",
    "\n",
    "**Note: It is good practice when using hierarchical indexing to sort the indices. On older versions of pandas multi-indexing may not work properly and even in the newest version indicing may be significantly slower for non-sorted DataFrames**\n",
    "\n",
    "We know the same analyte shouldn't be present more than once per participant per visit per buffer, so we can use those four fields to create an index and then sort:"
   ]
  },
  {
   "cell_type": "code",
   "execution_count": null,
   "metadata": {
    "collapsed": false
   },
   "outputs": [],
   "source": [
    "long_data_h = long_data.set_index(['participant_id', 'visit_code', 'buffer', 'analyte'])\n",
    "long_data_h = long_data_h.sort_index()\n",
    "long_data_h"
   ]
  },
  {
   "cell_type": "markdown",
   "metadata": {
    "slideshow": {
     "slide_type": "subslide"
    }
   },
   "source": [
    "To test if our index is unique:"
   ]
  },
  {
   "cell_type": "code",
   "execution_count": null,
   "metadata": {
    "collapsed": false
   },
   "outputs": [],
   "source": [
    "long_data_h.index.is_unique"
   ]
  },
  {
   "cell_type": "code",
   "execution_count": null,
   "metadata": {
    "collapsed": false
   },
   "outputs": [],
   "source": [
    "long_data_h.index"
   ]
  },
  {
   "cell_type": "markdown",
   "metadata": {
    "slideshow": {
     "slide_type": "subslide"
    }
   },
   "source": [
    "Now we can filter a little easier:"
   ]
  },
  {
   "cell_type": "code",
   "execution_count": null,
   "metadata": {
    "collapsed": false
   },
   "outputs": [],
   "source": [
    "long_data_h.ix['PL1', 0]"
   ]
  },
  {
   "cell_type": "code",
   "execution_count": null,
   "metadata": {
    "collapsed": false
   },
   "outputs": [],
   "source": [
    "long_data_h.ix['PL1', 0, 'PBS']['cv']"
   ]
  },
  {
   "cell_type": "markdown",
   "metadata": {
    "slideshow": {
     "slide_type": "subslide"
    }
   },
   "source": [
    "We can easily swap index levels as well:"
   ]
  },
  {
   "cell_type": "code",
   "execution_count": null,
   "metadata": {
    "collapsed": false
   },
   "outputs": [],
   "source": [
    "long_data_h.swaplevel('analyte', 'participant_id').sort_index()"
   ]
  },
  {
   "cell_type": "markdown",
   "metadata": {
    "slideshow": {
     "slide_type": "slide"
    }
   },
   "source": [
    "# Regular Expressions (regex)\n",
    "\n",
    "## What are Regular Expressions & what can we do with them?\n",
    "\n",
    "  * Funny name: In the 50s, mathematician Stephen Kleene found that regular language is constructed by patterns, called regular expressions\n",
    "  * Regular expressions are a collection of patterns we can use to process nearly any text\n",
    "  * Contructed using a combination of metacharacters: characters with a special meaning used to concisely define patterns\n",
    "\n",
    "Understanding regex is valuable as they can be used in many tools besides Python, such as good text editors and Unix commands. Using a text editor that supports regex can solve many data munging problems without having to write any code at all.\n",
    "  \n",
    "Before we begin using regular expressions in Python let's have an overview using the online regex tool:\n",
    "\n",
    "https://www.regex101.com/#python"
   ]
  },
  {
   "cell_type": "markdown",
   "metadata": {},
   "source": [
    "## Global Modifier g\n",
    "\n",
    "In the \"TEST STRING\" text box type\n",
    "\n",
    "```\n",
    "grey gray\n",
    "```\n",
    "\n",
    "Now, in the \"REGULAR EXPRESSION\" input field type the regular expression:\n",
    "\n",
    "```\n",
    "gr\n",
    "```\n",
    "\n",
    "Only the first 2 letters of the 1st word are highlighted. To find all occurences we need to perform a global search. To do this, we need to use a regex modifier. Type the letter \"g\" in the 2nd input field."
   ]
  },
  {
   "cell_type": "markdown",
   "metadata": {},
   "source": [
    "## Capture Groups ( )\n",
    "\n",
    "Note the helpful explanation and match information on the right hand side. There are no \"capture groups\" extracted, even though we found a match. To create a capture group use parentheses:\n",
    "\n",
    "```\n",
    "(gr)\n",
    "```\n",
    "\n",
    "You can have as many capture groups as you want, and even capture strings inside a capture group."
   ]
  },
  {
   "cell_type": "markdown",
   "metadata": {},
   "source": [
    "## Capture either or using |\n",
    "\n",
    "Using a pipe within the capture group we can specify matching on multiple phrases:\n",
    "\n",
    "(grey|gray)"
   ]
  },
  {
   "cell_type": "markdown",
   "metadata": {},
   "source": [
    "## Single character wildcard .\n",
    "\n",
    "To capture either spelling variation we can use the single character wildcard \".\":\n",
    "\n",
    "```\n",
    "(gr.y)\n",
    "```\n",
    "\n",
    "The single character wildcard matches any character except a new line."
   ]
  },
  {
   "cell_type": "markdown",
   "metadata": {},
   "source": [
    "## Character Classes [ ]\n",
    "\n",
    "The wildcard will also match misspellings. Edit our TEST STRING to:\n",
    "\n",
    "```\n",
    "grey gray grzy\n",
    "```\n",
    "\n",
    "We can fix this using a character class to match only \"e\" or \"a\". Character classes are created using square brackets, \n",
    "\n",
    "```\n",
    "(gr[ea]y)\n",
    "```\n",
    "\n",
    "The square brackets match a single character matching any character included in the list (very similar to the list syntax in Python)"
   ]
  },
  {
   "cell_type": "markdown",
   "metadata": {},
   "source": [
    "## Zero or one quantifier ?\n",
    "\n",
    "Let's try another word with spelling variations. Add a new line in the TEST STRING:\n",
    "\n",
    "```\n",
    "color colour\n",
    "```\n",
    "\n",
    "Our \"or\" approach won't work here, but we can use the \"zero or one\" quantifier \"?\":\n",
    "\n",
    "```\n",
    "colou?r\n",
    "```"
   ]
  },
  {
   "cell_type": "markdown",
   "metadata": {},
   "source": [
    "## Any word character \\w\n",
    "\n",
    "Sometimes we may not know all the combinations of letters. In this case we can use the word character \\w.\n",
    "\n",
    "Add another line to our sample text:\n",
    "\n",
    "```\n",
    "red green blue yellow\n",
    "```\n",
    "\n",
    "And we'll find all instances where any 2 letters are followed by the letter 'e' using the word character:\n",
    "\n",
    "```\n",
    "\\w\\we\n",
    "```\n",
    "\n",
    "Note that \\w matches letters (both upper & lowercase), numbers, and the underscore character. If we really want just"
   ]
  },
  {
   "cell_type": "markdown",
   "metadata": {},
   "source": [
    "## Any word boundary \\b\n",
    "\n",
    "Finding word boundaries manually can be tricky, you have to match spaces, tabs, new lines, periods, commas, etc. Luckily there's the word boundary \\b\n",
    "\n",
    "Let's find all the instances where the 3rd letter is 'e':\n",
    "\n",
    "```\n",
    "\\b(\\w\\we)\n",
    "```"
   ]
  },
  {
   "cell_type": "markdown",
   "metadata": {},
   "source": [
    "## Zero or more quantifier *\n",
    "\n",
    "The asterisk matches zero or more occurences of a character.\n",
    "\n",
    "Our previous example found the instances where the 3rd letter was 'e' but what if we want to know what words they were. We'll use the zero or more to find the remaining part of the word:\n",
    "\n",
    "```\n",
    "\\b(\\w\\we\\w*)\n",
    "```"
   ]
  },
  {
   "cell_type": "markdown",
   "metadata": {},
   "source": [
    "## One or more quantifier +\n",
    "\n",
    "To get all the words we could try the zero or more pattern:\n",
    "\n",
    "\n",
    "```\n",
    "(\\w*)\n",
    "``` \n",
    "\n",
    "Notice we get all the words but our matches also contain empty strings. These matches are the \"zero\" length strings between each  word.\n",
    "\n",
    "To make sure at least one letter is present, we can use the one or more quantifier instead:\n",
    "\n",
    "```\n",
    "(\\w+)\n",
    "```"
   ]
  },
  {
   "cell_type": "markdown",
   "metadata": {},
   "source": [
    "## Anything except character class ^\n",
    "\n",
    "We know our misspelled word contains no vowels, let's try to isolate that word. The character class can be negated to match anything but the characters listed using the caret:\n",
    "\n",
    "```\n",
    "([^aeiou]+)\n",
    "```\n",
    "\n",
    "We did isolate everything but the vowel characters, but that also included spaces. We can at the space metacharacter to our list of exceptions:\n",
    "\n",
    "```\n",
    "([^aeiou\\s]+)\n",
    "```\n",
    "\n",
    "A little better, but we're getting partial words too. We can add word boundaries to prevent those:\n",
    "\n",
    "```\n",
    "\\b([^aeiou\\s]+)\\b\n",
    "```"
   ]
  },
  {
   "cell_type": "markdown",
   "metadata": {},
   "source": [
    "## Matching digits \\d\n",
    "\n",
    "Add the following text to the test string\n",
    "\n",
    "```\n",
    "123.456\n",
    "42\n",
    "1000000\n",
    "```\n",
    "\n",
    "The metacharacter **`\\d`** matches only the numeric characters 0 through 9. We'll try it with the one or more quantifier:\n",
    "\n",
    "```\n",
    "(\\d+)\n",
    "```"
   ]
  },
  {
   "cell_type": "markdown",
   "metadata": {},
   "source": [
    "## Character literal \\\n",
    "\n",
    "The previous regex doesn't match decimal values and we already seen that the period is a single character wildcard. To find an actual period character we need to \"escape\" the regex language to fine a literal period. This is done using a backslash:\n",
    "\n",
    "```\n",
    "(\\.)\n",
    "```\n",
    "\n",
    "A decimal number can have digits before and after the decimal point:\n",
    "\n",
    "```\n",
    "(\\d+\\.\\d+)\n",
    "```\n",
    "\n",
    "But this doesn't match the integers. We can make the decimal point and trailing digits optional:\n",
    "\n",
    "```\n",
    "(\\d+\\.?\\d*)\n",
    "```"
   ]
  },
  {
   "cell_type": "markdown",
   "metadata": {},
   "source": [
    "## Specifying consecutive matches { }\n",
    "\n",
    "We can use curly braces { } to specify a specific number of matches. This can also be useful for making shorter, more readable regex patterns. Say we want to match 4 consecutive digits:\n",
    "\n",
    "```\n",
    "(\\d\\d\\d\\d)\n",
    "```\n",
    "\n",
    "Versus:\n",
    "\n",
    "```\n",
    "(\\d{4})\n",
    "```\n",
    "\n",
    "We can specify a lower and upper limit as well:\n",
    "\n",
    "```\n",
    "(\\d{3, 6})\n",
    "```\n",
    "\n",
    "And leaving off the maximum gives us just a lower limit:\n",
    "\n",
    "```\n",
    "(\\d{3,})\n",
    "```"
   ]
  },
  {
   "cell_type": "markdown",
   "metadata": {},
   "source": [
    "## Matching the end of a string: $\n",
    "\n",
    "Use the following test string:\n",
    "\n",
    "```\n",
    "abc John Doe\n",
    "abc def Jane Doe\n",
    "```\n",
    "\n",
    "And the following regex:\n",
    "\n",
    "```\n",
    "(\\w+)\\s(\\w+)\n",
    "```\n",
    "\n",
    "We know the last 2 words are the names but there are differing numbers of preceding words. We can use the $ to specify our regex should match at the end of a string:\n",
    "\n",
    "```\n",
    "(\\w+)\\s(\\w+)$\n",
    "```\n",
    "\n",
    "Note the end of the first line is not matched. To match multiple lines using $, we need to use the **m modifier**."
   ]
  },
  {
   "cell_type": "markdown",
   "metadata": {},
   "source": [
    "## Matching the beginning of a string: $\n",
    "\n",
    "Use the following test string:\n",
    "\n",
    "```\n",
    "John Doe abc\n",
    "Jane Doe abc def\n",
    "```\n",
    "\n",
    "Similarly we can use the caret **^** to specify the beginning of a line:\n",
    "\n",
    "```\n",
    "^(\\w+)\\s(\\w+)\n",
    "```\n",
    "\n",
    "Again, we need to use the **m modifier**."
   ]
  },
  {
   "cell_type": "markdown",
   "metadata": {},
   "source": [
    "## Using capture groups for substitution\n",
    "\n",
    "Keep the above test string and regex and expand the substitution area. \n",
    "\n",
    "We can reference our capture groups in order numerically:\n",
    "\n",
    "```\n",
    "\\2,\\1\n",
    "```\n",
    "We can \"throw away\" the extra info using .*:\n",
    "\n",
    "```\n",
    "^(\\w+)\\s(\\w+).*\n",
    "```\n"
   ]
  },
  {
   "cell_type": "markdown",
   "metadata": {},
   "source": [
    "## Exercise\n",
    "\n",
    "Copy and paste the regex_exercise.txt contents to the test string.\n",
    "\n",
    "```\n",
    "New York 11-17-2009 1223.0\n",
    "New York 06-24-2010 1122.7\n",
    "Chicago 07-24-2009 2819.0\n",
    "Chicago 08-25-2010 2971.6\n",
    "New York 01-05-2011 1410.0\n",
    "Chicago 09-04-2010 4671.6\n",
    "Chicago 02-25-2012 1099.0\n",
    "New York 01-01-2013 950.9\n",
    "New York 07-23-2012 2000.0\n",
    "Chicago 08-22-2013 3500.4\n",
    "Chicago 01-02-2014 4510.1\n",
    "```\n",
    "\n",
    "Using regex substitution, convert this data to a comma-delimited data set with the following columns:\n",
    "\n",
    "```\n",
    "Location, Year, Month, Day, Value\n",
    "```"
   ]
  },
  {
   "cell_type": "markdown",
   "metadata": {},
   "source": [
    "## Exercise Solution\n",
    "\n",
    "First we'll isolate the location, we could try multiple approaches but we see there are only 2 values so that's easy enough to capture using either or:\n",
    "\n",
    "```\n",
    "(New York|Chicago)\n",
    "```\n",
    "\n",
    "Great, now for the space delimiter which we want outside our match:\n",
    "\n",
    "```\n",
    "(New York|Chicago)\\s\n",
    "```\n",
    "\n",
    "Now to start on the month excluding the dash:\n",
    "\n",
    "```\n",
    "(New York|Chicago)\\s(\\d{2})-\n",
    "```\n",
    "\n",
    "And the same for the day:\n",
    "\n",
    "```\n",
    "(New York|Chicago)\\s(\\d{2})-(\\d{2})-\n",
    "```\n",
    "\n",
    "And the 4 digit year:\n",
    "\n",
    "```\n",
    "(New York|Chicago)\\s(\\d{2})-(\\d{2})-(\\d{4})\n",
    "```\n",
    "\n",
    "Another space delimiter and the value with optional decimal:\n",
    "\n",
    "```\n",
    "(New York|Chicago)\\s(\\d{2})-(\\d{2})-(\\d{4})\n",
    "```\n",
    "\n",
    "Notice the caret, it is another anchor character denoting the beginning of the line. For the online tool, we need to add the multiline global option, \"m\", so that it knows to allow the caret to match the beginning of every line, not just the first one.\n",
    "\n",
    "We used the word character with the one or more quantifier, surrounded in parenthesis. Finally, we used a space character to end the wild card search, and we use the one or more quantifier in case the delimiter is more than one space long.\n",
    "\n",
    "Next, let's tackle the value of evil-ness. It looks like a regular float, which means there's a decimal character. But, the \".\" character is already used as a wild card. Anyone know what we can do here? Yep, we can use the backslash to escape the special character's meaning and match a literal \".\":\n",
    "\n",
    "```\n",
    "\\s+(\\d+\\.?\\d*)$\n",
    "```\n",
    "\n",
    "We've also handled the case where the value may not have a decimal, making it optional. And in that case the 2nd \"\\d\" covering the fractional part would be absent so we use the zero or more quantifier. Finally, we've used the end of line anchor as another data validation technique.\n",
    "\n",
    "Looks like we have all of our parts, let's put it all together and get all the values we need from the data record:\n",
    "\n",
    "```\n",
    "(New York|Chicago)\\s(\\d{2})-(\\d{2})-(\\d{4})\\s(\\d+\\.?\\d*)\n",
    "```\n"
   ]
  },
  {
   "cell_type": "markdown",
   "metadata": {},
   "source": [
    "# Using regex in pandas\n",
    "\n",
    "Now let's see how we can use regular expressions in pandas. The analyte values in the longitudinal data set actually contains an extra piece of information. At the end of each analyte string is a bead number within parentheses:"
   ]
  },
  {
   "cell_type": "code",
   "execution_count": null,
   "metadata": {
    "collapsed": false
   },
   "outputs": [],
   "source": [
    "analytes = long_data.analyte\n",
    "analytes.head()"
   ]
  },
  {
   "cell_type": "markdown",
   "metadata": {},
   "source": [
    "We can use the extract function on the **`str`** attribute. It can take a regular expression as an argument. Note we escape the parentheses:"
   ]
  },
  {
   "cell_type": "code",
   "execution_count": null,
   "metadata": {
    "collapsed": false
   },
   "outputs": [],
   "source": [
    "analytes.str.extract('\\s*\\((\\d+)\\)$')"
   ]
  },
  {
   "cell_type": "markdown",
   "metadata": {},
   "source": [
    "Since our new Series is still indexed like the original DataFrame, we can simply add the bead number as a new column:"
   ]
  },
  {
   "cell_type": "code",
   "execution_count": null,
   "metadata": {
    "collapsed": false
   },
   "outputs": [],
   "source": [
    "long_data['bead_number'] = analytes.str.extract('\\s*\\((\\d+)\\)')\n",
    "long_data.head()"
   ]
  },
  {
   "cell_type": "markdown",
   "metadata": {},
   "source": [
    "The bead number is still in the analyte column. We can use replace to substitute in an empty string:"
   ]
  },
  {
   "cell_type": "code",
   "execution_count": null,
   "metadata": {
    "collapsed": false
   },
   "outputs": [],
   "source": [
    "long_data['analyte'] = analytes.str.replace('\\s*\\((\\d+)\\)', '')\n",
    "long_data.head()"
   ]
  },
  {
   "cell_type": "markdown",
   "metadata": {},
   "source": [
    "Another QC check for consistent date formatting. Let's look at the visit date format:"
   ]
  },
  {
   "cell_type": "code",
   "execution_count": null,
   "metadata": {
    "collapsed": false
   },
   "outputs": [],
   "source": [
    "visit_dates = long_data.visit_date\n",
    "visit_dates.head()"
   ]
  },
  {
   "cell_type": "markdown",
   "metadata": {},
   "source": [
    "Looks like the first few dates are month/day/year. Let's check if all the values use that format:"
   ]
  },
  {
   "cell_type": "code",
   "execution_count": null,
   "metadata": {
    "collapsed": false
   },
   "outputs": [],
   "source": [
    "good_dates = visit_dates.str.contains(\"\\d{2}\\/\\d{2}\\/\\d{4}\")\n",
    "visit_dates[good_dates == False]"
   ]
  },
  {
   "cell_type": "markdown",
   "metadata": {},
   "source": [
    "Looks like we have some inconsistent values. We can use replace to re-order our capture groups. Note we have to escape our backslash characters in the replacement string"
   ]
  },
  {
   "cell_type": "code",
   "execution_count": null,
   "metadata": {
    "collapsed": false
   },
   "outputs": [],
   "source": [
    "fixed_dates = visit_dates.str.replace(\"(\\d{4})\\/(\\d{2})\\/(\\d{2})\", \"\\\\2/\\\\3/\\\\1\")\n",
    "fixed_dates.str.contains(\"\\d{4}\\/\").sum()"
   ]
  },
  {
   "cell_type": "markdown",
   "metadata": {},
   "source": [
    "Looks like that fixed them. One more check to make sure all the dates start with the year:"
   ]
  },
  {
   "cell_type": "code",
   "execution_count": null,
   "metadata": {
    "collapsed": false
   },
   "outputs": [],
   "source": [
    "fixed_dates[fixed_dates.str.contains(\"\\d{4}\\/\")]"
   ]
  },
  {
   "cell_type": "markdown",
   "metadata": {},
   "source": [
    "And to save our fixed dates back to the DataFrame and do a final check:"
   ]
  },
  {
   "cell_type": "code",
   "execution_count": null,
   "metadata": {
    "collapsed": false
   },
   "outputs": [],
   "source": [
    "long_data['visit_date'] = fixed_dates\n",
    "long_data.visit_date.str.contains(\"\\d{2}\\/\\d{2}\\/\\d{4}\").sum()"
   ]
  },
  {
   "cell_type": "code",
   "execution_count": null,
   "metadata": {
    "collapsed": false
   },
   "outputs": [],
   "source": [
    "long_data.visit_date[good_dates == False]"
   ]
  },
  {
   "cell_type": "code",
   "execution_count": null,
   "metadata": {
    "collapsed": true
   },
   "outputs": [],
   "source": [
    "long_data.to_csv(\"long_data_cleaned.csv\")"
   ]
  },
  {
   "cell_type": "code",
   "execution_count": null,
   "metadata": {
    "collapsed": true
   },
   "outputs": [],
   "source": []
  }
 ],
 "metadata": {
  "celltoolbar": "Slideshow",
  "kernelspec": {
   "display_name": "Python 2",
   "language": "python",
   "name": "python2"
  },
  "language_info": {
   "codemirror_mode": {
    "name": "ipython",
    "version": 2
   },
   "file_extension": ".py",
   "mimetype": "text/x-python",
   "name": "python",
   "nbconvert_exporter": "python",
   "pygments_lexer": "ipython2",
   "version": "2.7.6"
  }
 },
 "nbformat": 4,
 "nbformat_minor": 0
}
