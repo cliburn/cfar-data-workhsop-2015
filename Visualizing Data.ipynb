{
 "cells": [
  {
   "cell_type": "markdown",
   "metadata": {},
   "source": [
    "# Visualizing Data"
   ]
  },
  {
   "cell_type": "markdown",
   "metadata": {},
   "source": [
    "## Why visualize data?\n",
    "\n",
    "Data visualization can require a lot of work, so why do it? For many types of data (images, audio), the numbers are meant to encode sensory experiences, so there's a natural reason to display or play them. \n",
    "\n",
    "But even for other types of data, we make plots because our eyes are incredible pattern detectors, and things that are easy to miss when looking at a table become obvious when plotted.\n",
    "\n",
    "For instance, it's not surprising to find that this \n",
    "\n",
    "<table border=\"1\" class=\"dataframe\">\n",
    "  <thead>\n",
    "    <tr style=\"text-align: right;\">\n",
    "      <th></th>\n",
    "      <th>Ix</th>\n",
    "      <th>Iy</th>\n",
    "      <th>IIx</th>\n",
    "      <th>IIy</th>\n",
    "      <th>IIIx</th>\n",
    "      <th>IIIy</th>\n",
    "      <th>IVx</th>\n",
    "      <th>IVy</th>\n",
    "    </tr>\n",
    "  </thead>\n",
    "  <tbody>\n",
    "    <tr>\n",
    "      <th>0</th>\n",
    "      <td>10</td>\n",
    "      <td>8.04</td>\n",
    "      <td>10</td>\n",
    "      <td>9.14</td>\n",
    "      <td>10</td>\n",
    "      <td>7.46</td>\n",
    "      <td>8</td>\n",
    "      <td>6.58</td>\n",
    "    </tr>\n",
    "    <tr>\n",
    "      <th>1</th>\n",
    "      <td>8</td>\n",
    "      <td>6.95</td>\n",
    "      <td>8</td>\n",
    "      <td>8.14</td>\n",
    "      <td>8</td>\n",
    "      <td>6.77</td>\n",
    "      <td>8</td>\n",
    "      <td>5.76</td>\n",
    "    </tr>\n",
    "    <tr>\n",
    "      <th>2</th>\n",
    "      <td>13</td>\n",
    "      <td>7.58</td>\n",
    "      <td>13</td>\n",
    "      <td>8.74</td>\n",
    "      <td>13</td>\n",
    "      <td>12.74</td>\n",
    "      <td>8</td>\n",
    "      <td>7.71</td>\n",
    "    </tr>\n",
    "    <tr>\n",
    "      <th>3</th>\n",
    "      <td>9</td>\n",
    "      <td>8.81</td>\n",
    "      <td>9</td>\n",
    "      <td>8.77</td>\n",
    "      <td>9</td>\n",
    "      <td>7.11</td>\n",
    "      <td>8</td>\n",
    "      <td>8.84</td>\n",
    "    </tr>\n",
    "    <tr>\n",
    "      <th>4</th>\n",
    "      <td>11</td>\n",
    "      <td>8.33</td>\n",
    "      <td>11</td>\n",
    "      <td>9.26</td>\n",
    "      <td>11</td>\n",
    "      <td>7.81</td>\n",
    "      <td>8</td>\n",
    "      <td>8.47</td>\n",
    "    </tr>\n",
    "    <tr>\n",
    "      <th>5</th>\n",
    "      <td>14</td>\n",
    "      <td>9.96</td>\n",
    "      <td>14</td>\n",
    "      <td>8.10</td>\n",
    "      <td>14</td>\n",
    "      <td>8.84</td>\n",
    "      <td>8</td>\n",
    "      <td>7.04</td>\n",
    "    </tr>\n",
    "    <tr>\n",
    "      <th>6</th>\n",
    "      <td>6</td>\n",
    "      <td>7.24</td>\n",
    "      <td>6</td>\n",
    "      <td>6.13</td>\n",
    "      <td>6</td>\n",
    "      <td>6.08</td>\n",
    "      <td>8</td>\n",
    "      <td>5.25</td>\n",
    "    </tr>\n",
    "    <tr>\n",
    "      <th>7</th>\n",
    "      <td>4</td>\n",
    "      <td>4.26</td>\n",
    "      <td>4</td>\n",
    "      <td>3.10</td>\n",
    "      <td>4</td>\n",
    "      <td>5.39</td>\n",
    "      <td>19</td>\n",
    "      <td>12.50</td>\n",
    "    </tr>\n",
    "    <tr>\n",
    "      <th>8</th>\n",
    "      <td>12</td>\n",
    "      <td>10.84</td>\n",
    "      <td>12</td>\n",
    "      <td>9.13</td>\n",
    "      <td>12</td>\n",
    "      <td>8.15</td>\n",
    "      <td>8</td>\n",
    "      <td>5.56</td>\n",
    "    </tr>\n",
    "    <tr>\n",
    "      <th>9</th>\n",
    "      <td>7</td>\n",
    "      <td>4.82</td>\n",
    "      <td>7</td>\n",
    "      <td>7.26</td>\n",
    "      <td>7</td>\n",
    "      <td>6.42</td>\n",
    "      <td>8</td>\n",
    "      <td>7.91</td>\n",
    "    </tr>\n",
    "    <tr>\n",
    "      <th>10</th>\n",
    "      <td>5</td>\n",
    "      <td>5.68</td>\n",
    "      <td>5</td>\n",
    "      <td>4.74</td>\n",
    "      <td>5</td>\n",
    "      <td>5.73</td>\n",
    "      <td>8</td>\n",
    "      <td>6.89</td>\n",
    "    </tr>\n",
    "  </tbody>\n",
    "</table>\n",
    "\n",
    "is less interpretable than this:\n",
    "\n",
    "![Anscombe's quartet](https://upload.wikimedia.org/wikipedia/commons/e/ec/Anscombe%27s_quartet_3.svg)"
   ]
  },
  {
   "cell_type": "markdown",
   "metadata": {},
   "source": [
    "## Diving in\n",
    "\n",
    "In the last session, we focused on cleaning a dataset and getting it into shape for analysis. Let's load it up and see what we can plot!"
   ]
  },
  {
   "cell_type": "code",
   "execution_count": 1,
   "metadata": {
    "collapsed": true
   },
   "outputs": [],
   "source": [
    "# first, import some libraries we need\n",
    "import pandas as pd"
   ]
  },
  {
   "cell_type": "code",
   "execution_count": 2,
   "metadata": {
    "collapsed": false
   },
   "outputs": [],
   "source": [
    "# load file\n",
    "data = pd.read_csv('long_data_cleaned.csv')"
   ]
  },
  {
   "cell_type": "markdown",
   "metadata": {},
   "source": [
    "Note that, if we hadn't seen this before, we could do some quick exploration of the data:"
   ]
  },
  {
   "cell_type": "code",
   "execution_count": 3,
   "metadata": {
    "collapsed": false
   },
   "outputs": [
    {
     "data": {
      "text/html": [
       "<div style=\"max-height:1000px;max-width:1500px;overflow:auto;\">\n",
       "<table border=\"1\" class=\"dataframe\">\n",
       "  <thead>\n",
       "    <tr style=\"text-align: right;\">\n",
       "      <th></th>\n",
       "      <th>Unnamed: 0</th>\n",
       "      <th>dilution</th>\n",
       "      <th>analyte</th>\n",
       "      <th>fi-bkgd</th>\n",
       "      <th>fi-bkgd-neg</th>\n",
       "      <th>cv</th>\n",
       "      <th>participant_id</th>\n",
       "      <th>visit_code</th>\n",
       "      <th>visit_date</th>\n",
       "      <th>sample_type</th>\n",
       "      <th>buffer</th>\n",
       "      <th>bead_number</th>\n",
       "    </tr>\n",
       "  </thead>\n",
       "  <tbody>\n",
       "    <tr>\n",
       "      <th>0</th>\n",
       "      <td>0</td>\n",
       "      <td>50</td>\n",
       "      <td>p24</td>\n",
       "      <td>474.8</td>\n",
       "      <td>454.800000</td>\n",
       "      <td>0.0372</td>\n",
       "      <td>URN2</td>\n",
       "      <td>0</td>\n",
       "      <td>10/14/1899</td>\n",
       "      <td>PLA</td>\n",
       "      <td>PBS</td>\n",
       "      <td>19</td>\n",
       "    </tr>\n",
       "    <tr>\n",
       "      <th>1</th>\n",
       "      <td>1</td>\n",
       "      <td>50</td>\n",
       "      <td>gp41</td>\n",
       "      <td>470.8</td>\n",
       "      <td>452.800000</td>\n",
       "      <td>0.1387</td>\n",
       "      <td>URN2</td>\n",
       "      <td>0</td>\n",
       "      <td>10/14/1899</td>\n",
       "      <td>PLA</td>\n",
       "      <td>PBS</td>\n",
       "      <td>44</td>\n",
       "    </tr>\n",
       "    <tr>\n",
       "      <th>2</th>\n",
       "      <td>2</td>\n",
       "      <td>50</td>\n",
       "      <td>Con 6 gp120/B</td>\n",
       "      <td>52.5</td>\n",
       "      <td>44.500000</td>\n",
       "      <td>0.1183</td>\n",
       "      <td>URN2</td>\n",
       "      <td>0</td>\n",
       "      <td>10/14/1899</td>\n",
       "      <td>PLA</td>\n",
       "      <td>PBS</td>\n",
       "      <td>72</td>\n",
       "    </tr>\n",
       "    <tr>\n",
       "      <th>3</th>\n",
       "      <td>3</td>\n",
       "      <td>50</td>\n",
       "      <td>B.con.env03 140 CF</td>\n",
       "      <td>55.5</td>\n",
       "      <td>46.500000</td>\n",
       "      <td>0.1709</td>\n",
       "      <td>URN2</td>\n",
       "      <td>0</td>\n",
       "      <td>10/14/1899</td>\n",
       "      <td>PLA</td>\n",
       "      <td>PBS</td>\n",
       "      <td>65</td>\n",
       "    </tr>\n",
       "    <tr>\n",
       "      <th>4</th>\n",
       "      <td>4</td>\n",
       "      <td>50</td>\n",
       "      <td>Blank</td>\n",
       "      <td>29.0</td>\n",
       "      <td>NaN</td>\n",
       "      <td>0.0527</td>\n",
       "      <td>URN2</td>\n",
       "      <td>0</td>\n",
       "      <td>10/14/1899</td>\n",
       "      <td>PLA</td>\n",
       "      <td>PBS</td>\n",
       "      <td>53</td>\n",
       "    </tr>\n",
       "    <tr>\n",
       "      <th>5</th>\n",
       "      <td>5</td>\n",
       "      <td>50</td>\n",
       "      <td>Con S gp140 CFI</td>\n",
       "      <td>82.0</td>\n",
       "      <td>62.000000</td>\n",
       "      <td>0.1799</td>\n",
       "      <td>URN2</td>\n",
       "      <td>0</td>\n",
       "      <td>10/14/1899</td>\n",
       "      <td>PLA</td>\n",
       "      <td>PBS</td>\n",
       "      <td>3</td>\n",
       "    </tr>\n",
       "    <tr>\n",
       "      <th>6</th>\n",
       "      <td>6</td>\n",
       "      <td>50</td>\n",
       "      <td>p31</td>\n",
       "      <td>474.4</td>\n",
       "      <td>455.400000</td>\n",
       "      <td>0.0885</td>\n",
       "      <td>URN2</td>\n",
       "      <td>0</td>\n",
       "      <td>10/14/1899</td>\n",
       "      <td>PLA</td>\n",
       "      <td>PBS</td>\n",
       "      <td>50</td>\n",
       "    </tr>\n",
       "    <tr>\n",
       "      <th>7</th>\n",
       "      <td>7</td>\n",
       "      <td>50</td>\n",
       "      <td>p66 (RT)</td>\n",
       "      <td>69.4</td>\n",
       "      <td>50.400000</td>\n",
       "      <td>0.0527</td>\n",
       "      <td>URN2</td>\n",
       "      <td>0</td>\n",
       "      <td>10/14/1899</td>\n",
       "      <td>PLA</td>\n",
       "      <td>PBS</td>\n",
       "      <td>42</td>\n",
       "    </tr>\n",
       "    <tr>\n",
       "      <th>8</th>\n",
       "      <td>8</td>\n",
       "      <td>50</td>\n",
       "      <td>MulVgp70_His6</td>\n",
       "      <td>205.4</td>\n",
       "      <td>NaN</td>\n",
       "      <td>0.0861</td>\n",
       "      <td>URN2</td>\n",
       "      <td>0</td>\n",
       "      <td>10/14/1899</td>\n",
       "      <td>PLA</td>\n",
       "      <td>PBS</td>\n",
       "      <td>49</td>\n",
       "    </tr>\n",
       "    <tr>\n",
       "      <th>9</th>\n",
       "      <td>9</td>\n",
       "      <td>50</td>\n",
       "      <td>gp70_B.CaseA_V1_V2</td>\n",
       "      <td>40.5</td>\n",
       "      <td>-64.766667</td>\n",
       "      <td>0.0615</td>\n",
       "      <td>URN2</td>\n",
       "      <td>0</td>\n",
       "      <td>10/14/1899</td>\n",
       "      <td>PLA</td>\n",
       "      <td>PBS</td>\n",
       "      <td>12</td>\n",
       "    </tr>\n",
       "  </tbody>\n",
       "</table>\n",
       "</div>"
      ],
      "text/plain": [
       "   Unnamed: 0  dilution             analyte  fi-bkgd  fi-bkgd-neg      cv  \\\n",
       "0           0        50                 p24    474.8   454.800000  0.0372   \n",
       "1           1        50                gp41    470.8   452.800000  0.1387   \n",
       "2           2        50       Con 6 gp120/B     52.5    44.500000  0.1183   \n",
       "3           3        50  B.con.env03 140 CF     55.5    46.500000  0.1709   \n",
       "4           4        50               Blank     29.0          NaN  0.0527   \n",
       "5           5        50     Con S gp140 CFI     82.0    62.000000  0.1799   \n",
       "6           6        50                 p31    474.4   455.400000  0.0885   \n",
       "7           7        50            p66 (RT)     69.4    50.400000  0.0527   \n",
       "8           8        50       MulVgp70_His6    205.4          NaN  0.0861   \n",
       "9           9        50  gp70_B.CaseA_V1_V2     40.5   -64.766667  0.0615   \n",
       "\n",
       "  participant_id  visit_code   visit_date sample_type buffer  bead_number  \n",
       "0           URN2           0   10/14/1899         PLA    PBS           19  \n",
       "1           URN2           0   10/14/1899         PLA    PBS           44  \n",
       "2           URN2           0   10/14/1899         PLA    PBS           72  \n",
       "3           URN2           0   10/14/1899         PLA    PBS           65  \n",
       "4           URN2           0   10/14/1899         PLA    PBS           53  \n",
       "5           URN2           0   10/14/1899         PLA    PBS            3  \n",
       "6           URN2           0   10/14/1899         PLA    PBS           50  \n",
       "7           URN2           0   10/14/1899         PLA    PBS           42  \n",
       "8           URN2           0   10/14/1899         PLA    PBS           49  \n",
       "9           URN2           0   10/14/1899         PLA    PBS           12  "
      ]
     },
     "execution_count": 3,
     "metadata": {},
     "output_type": "execute_result"
    }
   ],
   "source": [
    "data.head(10)"
   ]
  },
  {
   "cell_type": "code",
   "execution_count": 4,
   "metadata": {
    "collapsed": false
   },
   "outputs": [
    {
     "data": {
      "text/html": [
       "<div style=\"max-height:1000px;max-width:1500px;overflow:auto;\">\n",
       "<table border=\"1\" class=\"dataframe\">\n",
       "  <thead>\n",
       "    <tr style=\"text-align: right;\">\n",
       "      <th></th>\n",
       "      <th>Unnamed: 0</th>\n",
       "      <th>dilution</th>\n",
       "      <th>fi-bkgd</th>\n",
       "      <th>fi-bkgd-neg</th>\n",
       "      <th>cv</th>\n",
       "      <th>visit_code</th>\n",
       "      <th>bead_number</th>\n",
       "    </tr>\n",
       "  </thead>\n",
       "  <tbody>\n",
       "    <tr>\n",
       "      <th>count</th>\n",
       "      <td>1760.000000</td>\n",
       "      <td>1760</td>\n",
       "      <td>1760.000000</td>\n",
       "      <td>1408.000000</td>\n",
       "      <td>1760.000000</td>\n",
       "      <td>1760.000000</td>\n",
       "      <td>1760.00000</td>\n",
       "    </tr>\n",
       "    <tr>\n",
       "      <th>mean</th>\n",
       "      <td>880.236364</td>\n",
       "      <td>50</td>\n",
       "      <td>12248.448580</td>\n",
       "      <td>15214.542401</td>\n",
       "      <td>0.070186</td>\n",
       "      <td>11.363636</td>\n",
       "      <td>40.90000</td>\n",
       "    </tr>\n",
       "    <tr>\n",
       "      <th>std</th>\n",
       "      <td>508.548976</td>\n",
       "      <td>0</td>\n",
       "      <td>17373.550795</td>\n",
       "      <td>18146.601626</td>\n",
       "      <td>0.107802</td>\n",
       "      <td>7.360114</td>\n",
       "      <td>21.46513</td>\n",
       "    </tr>\n",
       "    <tr>\n",
       "      <th>min</th>\n",
       "      <td>0.000000</td>\n",
       "      <td>50</td>\n",
       "      <td>-52.500000</td>\n",
       "      <td>-559.400000</td>\n",
       "      <td>0.000000</td>\n",
       "      <td>0.000000</td>\n",
       "      <td>3.00000</td>\n",
       "    </tr>\n",
       "    <tr>\n",
       "      <th>25%</th>\n",
       "      <td>439.750000</td>\n",
       "      <td>50</td>\n",
       "      <td>48.500000</td>\n",
       "      <td>58.650000</td>\n",
       "      <td>0.007200</td>\n",
       "      <td>5.000000</td>\n",
       "      <td>19.00000</td>\n",
       "    </tr>\n",
       "    <tr>\n",
       "      <th>50%</th>\n",
       "      <td>880.500000</td>\n",
       "      <td>50</td>\n",
       "      <td>407.200000</td>\n",
       "      <td>2441.383333</td>\n",
       "      <td>0.035850</td>\n",
       "      <td>11.000000</td>\n",
       "      <td>46.50000</td>\n",
       "    </tr>\n",
       "    <tr>\n",
       "      <th>75%</th>\n",
       "      <td>1320.250000</td>\n",
       "      <td>50</td>\n",
       "      <td>27918.675000</td>\n",
       "      <td>40242.208333</td>\n",
       "      <td>0.087325</td>\n",
       "      <td>17.250000</td>\n",
       "      <td>53.00000</td>\n",
       "    </tr>\n",
       "    <tr>\n",
       "      <th>max</th>\n",
       "      <td>1760.000000</td>\n",
       "      <td>50</td>\n",
       "      <td>42992.500000</td>\n",
       "      <td>42986.200000</td>\n",
       "      <td>1.308200</td>\n",
       "      <td>27.000000</td>\n",
       "      <td>72.00000</td>\n",
       "    </tr>\n",
       "  </tbody>\n",
       "</table>\n",
       "</div>"
      ],
      "text/plain": [
       "        Unnamed: 0  dilution       fi-bkgd   fi-bkgd-neg           cv  \\\n",
       "count  1760.000000      1760   1760.000000   1408.000000  1760.000000   \n",
       "mean    880.236364        50  12248.448580  15214.542401     0.070186   \n",
       "std     508.548976         0  17373.550795  18146.601626     0.107802   \n",
       "min       0.000000        50    -52.500000   -559.400000     0.000000   \n",
       "25%     439.750000        50     48.500000     58.650000     0.007200   \n",
       "50%     880.500000        50    407.200000   2441.383333     0.035850   \n",
       "75%    1320.250000        50  27918.675000  40242.208333     0.087325   \n",
       "max    1760.000000        50  42992.500000  42986.200000     1.308200   \n",
       "\n",
       "        visit_code  bead_number  \n",
       "count  1760.000000   1760.00000  \n",
       "mean     11.363636     40.90000  \n",
       "std       7.360114     21.46513  \n",
       "min       0.000000      3.00000  \n",
       "25%       5.000000     19.00000  \n",
       "50%      11.000000     46.50000  \n",
       "75%      17.250000     53.00000  \n",
       "max      27.000000     72.00000  "
      ]
     },
     "execution_count": 4,
     "metadata": {},
     "output_type": "execute_result"
    }
   ],
   "source": [
    "data.describe()"
   ]
  },
  {
   "cell_type": "code",
   "execution_count": 5,
   "metadata": {
    "collapsed": false
   },
   "outputs": [
    {
     "data": {
      "text/plain": [
       "array(['p24', 'gp41', 'Con 6 gp120/B', 'B.con.env03 140 CF', 'Blank',\n",
       "       'Con S gp140 CFI', 'p31', 'p66 (RT)', 'MulVgp70_His6',\n",
       "       'gp70_B.CaseA_V1_V2'], dtype=object)"
      ]
     },
     "execution_count": 5,
     "metadata": {},
     "output_type": "execute_result"
    }
   ],
   "source": [
    "data.analyte.unique()"
   ]
  },
  {
   "cell_type": "markdown",
   "metadata": {},
   "source": [
    "## Distributions of data"
   ]
  },
  {
   "cell_type": "markdown",
   "metadata": {},
   "source": [
    "For the quantitative measures, we can easily look at a histogram of values:"
   ]
  },
  {
   "cell_type": "code",
   "execution_count": 6,
   "metadata": {
    "collapsed": false
   },
   "outputs": [
    {
     "data": {
      "text/plain": [
       "<matplotlib.axes._subplots.AxesSubplot at 0x7f2cf3bf5050>"
      ]
     },
     "execution_count": 6,
     "metadata": {},
     "output_type": "execute_result"
    }
   ],
   "source": [
    "data['fi-bkgd'].plot(kind='hist')  # because the name has a dash, we use brackets"
   ]
  },
  {
   "cell_type": "markdown",
   "metadata": {},
   "source": [
    "Huh? Why didn't that work?\n",
    "\n",
    "Perhaps we should load the plotting package pandas is secretly using!"
   ]
  },
  {
   "cell_type": "code",
   "execution_count": 7,
   "metadata": {
    "collapsed": true
   },
   "outputs": [],
   "source": [
    "%matplotlib inline"
   ]
  },
  {
   "cell_type": "markdown",
   "metadata": {},
   "source": [
    "This tells the notebook that we want our plots put in the notebook, not a separate window.\n",
    "\n",
    "(Matplotlib is the library Python uses for plotting. Pandas is secretly calling it under the hood.)"
   ]
  },
  {
   "cell_type": "code",
   "execution_count": 8,
   "metadata": {
    "collapsed": false
   },
   "outputs": [
    {
     "data": {
      "text/plain": [
       "<matplotlib.axes._subplots.AxesSubplot at 0x7f2ce4b8b990>"
      ]
     },
     "execution_count": 8,
     "metadata": {},
     "output_type": "execute_result"
    },
    {
     "data": {
      "image/png": "[encoded data removed]",
      "text/plain": [
       "<matplotlib.figure.Figure at 0x7f2ce4ba4150>"
      ]
     },
     "metadata": {},
     "output_type": "display_data"
    }
   ],
   "source": [
    "data['fi-bkgd'].plot(kind='hist')  # because the name has a dash, we use brackets"
   ]
  },
  {
   "cell_type": "markdown",
   "metadata": {},
   "source": [
    "Several things we might want to do to this plot:\n",
    "\n",
    "- Get rid of that ugly output (`<matplotlib.axes...`)\n",
    "- Fix the x axis range\n",
    "- Change the binning\n",
    "- Add some labels\n",
    "- Pick better colors"
   ]
  },
  {
   "cell_type": "markdown",
   "metadata": {},
   "source": [
    "The first one is easy. It's simply Python telling us that the plot method returned something to us. If we were going to be fancy, we could use this returned object to mess around with the plot, but for now, let's ignore it.\n",
    "\n",
    "We can do this in one of two ways:\n",
    "    1. Use a semicolon (`;`) at the end of the line to suppress output messages \n",
    "    1. Just have something other than the plot command at the end of the cell. In Python, `pass` is a command that does nothing, so that will work:"
   ]
  },
  {
   "cell_type": "code",
   "execution_count": 9,
   "metadata": {
    "collapsed": false
   },
   "outputs": [
    {
     "data": {
      "image/png": "[encoded data removed]",
      "text/plain": [
       "<matplotlib.figure.Figure at 0x7f2ce49d9690>"
      ]
     },
     "metadata": {},
     "output_type": "display_data"
    }
   ],
   "source": [
    "data['fi-bkgd'].plot(kind='hist')\n",
    "pass"
   ]
  },
  {
   "cell_type": "markdown",
   "metadata": {},
   "source": [
    "Success!\n",
    "\n",
    "Now how about the x axis? Clearly, none of the readings is below 0, so why does the x-axis extend back to -10,000? Plotting packages will try to be clever about this, but sometimes they need a little help:"
   ]
  },
  {
   "cell_type": "code",
   "execution_count": 10,
   "metadata": {
    "collapsed": false
   },
   "outputs": [
    {
     "data": {
      "image/png": "[encoded data removed]",
      "text/plain": [
       "<matplotlib.figure.Figure at 0x7f2ce48f0390>"
      ]
     },
     "metadata": {},
     "output_type": "display_data"
    }
   ],
   "source": [
    "data['fi-bkgd'].plot(kind='hist', xlim=(0, 50000))\n",
    "pass"
   ]
  },
  {
   "cell_type": "markdown",
   "metadata": {},
   "source": [
    "Note that we were able to control the plot by passing an additional parameter to the plot method. There are lots of these options. A ton of them. Don't try to learn them all. Google them when the need arises.\n",
    "\n",
    "Now what about binning? We have all this data, but by default, the plot only uses 20 bins (some of which are empty)."
   ]
  },
  {
   "cell_type": "code",
   "execution_count": 11,
   "metadata": {
    "collapsed": false
   },
   "outputs": [
    {
     "data": {
      "image/png": "[encoded data removed]",
      "text/plain": [
       "<matplotlib.figure.Figure at 0x7f2ce4847450>"
      ]
     },
     "metadata": {},
     "output_type": "display_data"
    }
   ],
   "source": [
    "data['fi-bkgd'].plot(kind='hist', bins=50, xlim=(0, 50000))\n",
    "pass"
   ]
  },
  {
   "cell_type": "markdown",
   "metadata": {},
   "source": [
    "## Exercise: y limits"
   ]
  },
  {
   "cell_type": "markdown",
   "metadata": {},
   "source": [
    "That's perhaps a little better. We can see that there are gaps between 10k and 20k and 30k and 40k, and 0 dominates. But we're wasting a lot of real estate up top. We can fix this, too:"
   ]
  },
  {
   "cell_type": "code",
   "execution_count": 12,
   "metadata": {
    "collapsed": false
   },
   "outputs": [
    {
     "data": {
      "image/png": "[encoded data removed]",
      "text/plain": [
       "<matplotlib.figure.Figure at 0x7f2ce47dedd0>"
      ]
     },
     "metadata": {},
     "output_type": "display_data"
    }
   ],
   "source": [
    "data['fi-bkgd'].plot(kind='hist', bins=50, xlim=(0, 50000), ylim=(0, 200))\n",
    "pass"
   ]
  },
  {
   "cell_type": "markdown",
   "metadata": {},
   "source": [
    "We can also add some labels, but this is not easy to do by simply adding another argument to the plot command. Time to bring out the big guns:"
   ]
  },
  {
   "cell_type": "code",
   "execution_count": 13,
   "metadata": {
    "collapsed": true
   },
   "outputs": [],
   "source": [
    "# you can import matplotlib, but this is the submodule (pyplot everyone uses)\n",
    "# the plt abbreviation is convention -- you'll see it everywhere\n",
    "\n",
    "import matplotlib.pyplot as plt"
   ]
  },
  {
   "cell_type": "code",
   "execution_count": 14,
   "metadata": {
    "collapsed": false
   },
   "outputs": [
    {
     "data": {
      "image/png": "[encoded data removed]",
      "text/plain": [
       "<matplotlib.figure.Figure at 0x7f2ce4723450>"
      ]
     },
     "metadata": {},
     "output_type": "display_data"
    }
   ],
   "source": [
    "data['fi-bkgd'].plot(kind='hist', bins=50, xlim=(0, 50000), ylim=(0, 200))\n",
    "plt.xlabel('fi-bkgd')\n",
    "plt.ylabel('Count')\n",
    "pass"
   ]
  },
  {
   "cell_type": "markdown",
   "metadata": {},
   "source": [
    "## Exercise: Add a plot title"
   ]
  },
  {
   "cell_type": "markdown",
   "metadata": {},
   "source": [
    "## Making plots you can be proud of (or that don't suck)"
   ]
  },
  {
   "cell_type": "markdown",
   "metadata": {},
   "source": [
    "The above plot is decent enough, particularly for exploratory analysis, but we can do better. Everything from line widths to colors to tick mark sizes can be changed.\n",
    "\n",
    "But who wants to customize all of this? Instead, lots of people with a good eye for style have produced packages that come equipped with good defaults. That way, you can focus on analyzing your data.\n",
    "\n",
    "For this purpose, I like [seaborn](http://stanford.edu/~mwaskom/software/seaborn/).\n",
    "\n",
    "When you \n",
    "```python\n",
    "import seaborn\n",
    "```\n",
    "it loads a set of nice colormaps and axis defaults that work with your existing plot commands:"
   ]
  },
  {
   "cell_type": "code",
   "execution_count": 15,
   "metadata": {
    "collapsed": true
   },
   "outputs": [],
   "source": [
    "import seaborn as sns  # this is the conventional abbreviation"
   ]
  },
  {
   "cell_type": "code",
   "execution_count": 16,
   "metadata": {
    "collapsed": false
   },
   "outputs": [
    {
     "data": {
      "image/png": "[encoded data removed]",
      "text/plain": [
       "<matplotlib.figure.Figure at 0x7f2cd54b41d0>"
      ]
     },
     "metadata": {},
     "output_type": "display_data"
    }
   ],
   "source": [
    "data['fi-bkgd'].plot(kind='hist', bins=50, xlim=(0, 50000), ylim=(0, 200))\n",
    "plt.xlabel('fi-bkgd')\n",
    "plt.ylabel('Count')\n",
    "pass"
   ]
  },
  {
   "cell_type": "markdown",
   "metadata": {},
   "source": [
    "That already looks better. But we can change the [style and defaults](http://stanford.edu/~mwaskom/software/seaborn/tutorial/aesthetics.html#aesthetics-tutorial) for use with presentations, talks, or posters:"
   ]
  },
  {
   "cell_type": "code",
   "execution_count": 17,
   "metadata": {
    "collapsed": false
   },
   "outputs": [
    {
     "data": {
      "image/png": "[encoded data removed]",
      "text/plain": [
       "<matplotlib.figure.Figure at 0x7f2ce4573d10>"
      ]
     },
     "metadata": {},
     "output_type": "display_data"
    }
   ],
   "source": [
    "sns.set_style('white')\n",
    "data['fi-bkgd'].plot(kind='hist', bins=50, xlim=(0, 50000), ylim=(0, 200))\n",
    "plt.xlabel('fi-bkgd')\n",
    "plt.ylabel('Count')\n",
    "pass"
   ]
  },
  {
   "cell_type": "code",
   "execution_count": 18,
   "metadata": {
    "collapsed": false
   },
   "outputs": [
    {
     "data": {
      "image/png": "[encoded data removed]",
      "text/plain": [
       "<matplotlib.figure.Figure at 0x7f2cd54a8fd0>"
      ]
     },
     "metadata": {},
     "output_type": "display_data"
    }
   ],
   "source": [
    "sns.set_context(\"paper\")\n",
    "data['fi-bkgd'].plot(kind='hist', bins=50, xlim=(0, 50000), ylim=(0, 200))\n",
    "plt.xlabel('fi-bkgd')\n",
    "plt.ylabel('Count')\n",
    "pass"
   ]
  },
  {
   "cell_type": "code",
   "execution_count": 19,
   "metadata": {
    "collapsed": false
   },
   "outputs": [
    {
     "data": {
      "image/png": "[encoded data removed]",
      "text/plain": [
       "<matplotlib.figure.Figure at 0x7f2ce4749dd0>"
      ]
     },
     "metadata": {},
     "output_type": "display_data"
    }
   ],
   "source": [
    "sns.set_context(\"poster\")\n",
    "data['fi-bkgd'].plot(kind='hist', bins=50, xlim=(0, 50000), ylim=(0, 200))\n",
    "plt.xlabel('fi-bkgd')\n",
    "plt.ylabel('Count')\n",
    "pass"
   ]
  },
  {
   "cell_type": "markdown",
   "metadata": {},
   "source": [
    "And I like to make my fonts a little bigger:"
   ]
  },
  {
   "cell_type": "code",
   "execution_count": 20,
   "metadata": {
    "collapsed": false
   },
   "outputs": [
    {
     "data": {
      "image/png": "[encoded data removed]",
      "text/plain": [
       "<matplotlib.figure.Figure at 0x7f2cd4be5390>"
      ]
     },
     "metadata": {},
     "output_type": "display_data"
    }
   ],
   "source": [
    "sns.set_context(\"paper\", font_scale=1.5)\n",
    "data['fi-bkgd'].plot(kind='hist', bins=50, xlim=(0, 50000), ylim=(0, 200))\n",
    "plt.xlabel('fi-bkgd')\n",
    "plt.ylabel('Count')\n",
    "pass"
   ]
  },
  {
   "cell_type": "markdown",
   "metadata": {},
   "source": [
    "It's also possible to control font, font weight (bold, italic, etc.), include equations, and so much more!"
   ]
  },
  {
   "cell_type": "markdown",
   "metadata": {},
   "source": [
    "## Saving figures\n",
    "\n",
    "What's important about this approach, though, is that, if I have code to make my figure, and my data change, I can simply rerun the code. __*This can save you countless hours during the review process!*__\n",
    "\n",
    "So here's how we'd save a figure:"
   ]
  },
  {
   "cell_type": "code",
   "execution_count": 21,
   "metadata": {
    "collapsed": false
   },
   "outputs": [
    {
     "data": {
      "image/png": "[encoded data removed]",
      "text/plain": [
       "<matplotlib.figure.Figure at 0x7f2cd4b2b490>"
      ]
     },
     "metadata": {},
     "output_type": "display_data"
    }
   ],
   "source": [
    "plt.figure(figsize=(12, 4))  # make a figure; set a figure size (in inches)\n",
    "\n",
    "sns.set_context(\"paper\", font_scale=1.5)\n",
    "sns.set_style('white')\n",
    "data['fi-bkgd'].plot(kind='hist', bins=50, xlim=(0, 50000), ylim=(0, 200))\n",
    "plt.xlabel('fi-bkgd')\n",
    "plt.ylabel('Count')\n",
    "\n",
    "# now save\n",
    "# iPython will choose the file type based on the extension you provide\n",
    "# you'll want to use something like pdf\n",
    "plt.savefig('my_figure.jpg')  "
   ]
  },
  {
   "cell_type": "markdown",
   "metadata": {},
   "source": [
    "And we can load the figure from the drive to show that we did okay:\n",
    "\n",
    "![my figure](my_figure.jpg)"
   ]
  },
  {
   "cell_type": "markdown",
   "metadata": {},
   "source": [
    "## Exercise\n",
    "\n",
    "- Change the normalization so that the bars reflect percentages instead of counts \n",
    "    - Google it!: normalized histogram\n",
    "    - you may have to change the y axis scale\n",
    "    - you may want to relabel the y axis\n",
    "- Change the color of the bars to the color #e34a33 (this is a hex code)"
   ]
  },
  {
   "cell_type": "code",
   "execution_count": 22,
   "metadata": {
    "collapsed": false
   },
   "outputs": [
    {
     "data": {
      "image/png": "[encoded data removed]",
      "text/plain": [
       "<matplotlib.figure.Figure at 0x7f2cd47193d0>"
      ]
     },
     "metadata": {},
     "output_type": "display_data"
    }
   ],
   "source": [
    "sns.set_context(\"paper\", font_scale=1.5)\n",
    "data['fi-bkgd'].plot(kind='hist', bins=50, xlim=(0, 50000), normed=True,\n",
    "                    color='#e34a33')\n",
    "plt.xlabel('fi-bkgd')\n",
    "plt.ylabel('Fraction')\n",
    "pass"
   ]
  },
  {
   "cell_type": "markdown",
   "metadata": {},
   "source": [
    "## Other fun (if we have time)"
   ]
  },
  {
   "cell_type": "markdown",
   "metadata": {},
   "source": [
    "Let's look for a correspondence between the two numerical columns `fi-bkgd` and `fi-bkgd-neg`:"
   ]
  },
  {
   "cell_type": "code",
   "execution_count": 23,
   "metadata": {
    "collapsed": false
   },
   "outputs": [
    {
     "data": {
      "image/png": "[encoded data removed]",
      "text/plain": [
       "<matplotlib.figure.Figure at 0x7f2cd4a86f10>"
      ]
     },
     "metadata": {},
     "output_type": "display_data"
    }
   ],
   "source": [
    "data.plot(kind='scatter', x='fi-bkgd', y='fi-bkgd-neg')\n",
    "plt.xlim(0, 50000)\n",
    "plt.ylim(0, 50000)\n",
    "pass"
   ]
  },
  {
   "cell_type": "markdown",
   "metadata": {},
   "source": [
    "This correlation is super tight!\n",
    "\n",
    "But that might not be meaningful. Let's look at the differences:"
   ]
  },
  {
   "cell_type": "code",
   "execution_count": 24,
   "metadata": {
    "collapsed": true
   },
   "outputs": [],
   "source": [
    "fi_diff = data['fi-bkgd'] - data['fi-bkgd-neg']"
   ]
  },
  {
   "cell_type": "code",
   "execution_count": 25,
   "metadata": {
    "collapsed": false
   },
   "outputs": [
    {
     "data": {
      "image/png": "[encoded data removed]",
      "text/plain": [
       "<matplotlib.figure.Figure at 0x7f2ce492a5d0>"
      ]
     },
     "metadata": {},
     "output_type": "display_data"
    }
   ],
   "source": [
    "fi_diff.plot(kind='hist', bins=50);"
   ]
  },
  {
   "cell_type": "code",
   "execution_count": 26,
   "metadata": {
    "collapsed": false
   },
   "outputs": [
    {
     "data": {
      "image/png": "[encoded data removed]",
      "text/plain": [
       "<matplotlib.figure.Figure at 0x7f2ce4401ed0>"
      ]
     },
     "metadata": {},
     "output_type": "display_data"
    }
   ],
   "source": [
    "fi_diff.plot(kind='hist', bins=250, xlim=(-2000, 2000));"
   ]
  },
  {
   "cell_type": "markdown",
   "metadata": {},
   "source": [
    "But we can make this a little easier if we set a range that ignores outliers:"
   ]
  },
  {
   "cell_type": "code",
   "execution_count": 27,
   "metadata": {
    "collapsed": false
   },
   "outputs": [
    {
     "data": {
      "image/png": "[encoded data removed]",
      "text/plain": [
       "<matplotlib.figure.Figure at 0x7f2ce4401b90>"
      ]
     },
     "metadata": {},
     "output_type": "display_data"
    }
   ],
   "source": [
    "fi_diff.plot(kind='hist', bins=150, range=(-500, 500), xlim=(-200, 500));"
   ]
  },
  {
   "cell_type": "markdown",
   "metadata": {},
   "source": [
    "What has this shown us? Probably that we need to pay some attention to outliers in this data set. Further cleaning may be needed before statistical analysis."
   ]
  },
  {
   "cell_type": "code",
   "execution_count": null,
   "metadata": {
    "collapsed": true
   },
   "outputs": [],
   "source": []
  }
 ],
 "metadata": {
  "kernelspec": {
   "display_name": "Python 2",
   "language": "python",
   "name": "python2"
  },
  "language_info": {
   "codemirror_mode": {
    "name": "ipython",
    "version": 2
   },
   "file_extension": ".py",
   "mimetype": "text/x-python",
   "name": "python",
   "nbconvert_exporter": "python",
   "pygments_lexer": "ipython2",
   "version": "2.7.10"
  }
 },
 "nbformat": 4,
 "nbformat_minor": 0
}
