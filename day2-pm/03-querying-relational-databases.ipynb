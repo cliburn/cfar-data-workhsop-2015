{
 "cells": [
  {
   "cell_type": "markdown",
   "metadata": {
    "slideshow": {
     "slide_type": "slide"
    }
   },
   "source": [
    "## Querying Relational Databases\n",
    "\n",
    "- Databases usually have multiple tables\n",
    "- Tables have different but related data\n",
    "- Often reference or relate to each other by a key\n",
    "- Make connections by **JOIN**ing\n"
   ]
  },
  {
   "cell_type": "markdown",
   "metadata": {
    "slideshow": {
     "slide_type": "slide"
    }
   },
   "source": [
    "## movielens data set\n",
    "\n",
    "- Full dataset: [grouplens.org/datasets/movielens](http://grouplens.org/datasets/movielens/)\n",
    "    - 27,000 movies\n",
    "    - 470,000 tags\n",
    "    - 21,000,000 ratings\n",
    "    - by 230,000 users - anonymized\n",
    "- We'll be working with a subset in SQLite format **movielens-small**"
   ]
  },
  {
   "cell_type": "markdown",
   "metadata": {
    "slideshow": {
     "slide_type": "slide"
    }
   },
   "source": [
    "## Reading the data\n",
    "\n",
    "Open the **querying-movielens.ipynb** notebook from the [day2-data.zip file](http://cliburn.github.io/cfar-data-workshop-2015/)\n",
    "\n"
   ]
  },
  {
   "cell_type": "code",
   "execution_count": 2,
   "metadata": {
    "collapsed": true
   },
   "outputs": [],
   "source": [
    "from sqlite_utils import SQLiteDatabase\n",
    "ml = SQLiteDatabase('movielens-small.db')"
   ]
  },
  {
   "cell_type": "code",
   "execution_count": 3,
   "metadata": {
    "collapsed": false,
    "slideshow": {
     "slide_type": "fragment"
    }
   },
   "outputs": [
    {
     "data": {
      "text/html": [
       "<table><tr><th>movieId</th><th>title</th><th>year</th><th>genres</th></tr><tr><td>1</td><td>Toy Story</td><td>1995</td><td>Adventure|Animation|Children|Comedy|Fantasy</td></tr><tr><td>2</td><td>Jumanji</td><td>1995</td><td>Adventure|Children|Fantasy</td></tr><tr><td>3</td><td>Grumpier Old Men</td><td>1995</td><td>Comedy|Romance</td></tr><tr><td>4</td><td>Waiting to Exhale</td><td>1995</td><td>Comedy|Drama|Romance</td></tr><tr><td>5</td><td>Father of the Bride Part II</td><td>1995</td><td>Comedy</td></tr><tr><td>6</td><td>Heat</td><td>1995</td><td>Action|Crime|Thriller</td></tr><tr><td>7</td><td>Sabrina</td><td>1995</td><td>Comedy|Romance</td></tr><tr><td>8</td><td>Tom and Huck</td><td>1995</td><td>Adventure|Children</td></tr><tr><td>9</td><td>Sudden Death</td><td>1995</td><td>Action</td></tr><tr><td>10</td><td>GoldenEye</td><td>1995</td><td>Action|Adventure|Thriller</td></tr></table>"
      ],
      "text/plain": [
       "<sqlite_utils.CursorTable at 0x105b52a90>"
      ]
     },
     "execution_count": 3,
     "metadata": {},
     "output_type": "execute_result"
    }
   ],
   "source": [
    "# Know your limits\n",
    "ml.query(\"SELECT * FROM movies\") "
   ]
  },
  {
   "cell_type": "markdown",
   "metadata": {
    "slideshow": {
     "slide_type": "slide"
    }
   },
   "source": [
    "### Review on row order\n",
    "\n",
    "- No inherent order in the rows - reference them by a unique value and not a position.\n",
    "- movieId is a **PRIMARY KEY**. It's an identifier that must be different for every movie\n",
    "- Can order by multiple columns, let's try year then title...\n"
   ]
  },
  {
   "cell_type": "markdown",
   "metadata": {
    "slideshow": {
     "slide_type": "slide"
    }
   },
   "source": [
    "### Exercise:\n",
    "\n",
    "Query (`SELECT`) the **movies** table, sorting by **year** (newest first) then **title** (A-Z)\n",
    "\n",
    "`... ORDER BY <column 1> (ASC|DESC), <column 2> (ASC|DESC)`\n",
    "\n",
    "What's the first movie listed? The last?"
   ]
  },
  {
   "cell_type": "code",
   "execution_count": 4,
   "metadata": {
    "collapsed": false
   },
   "outputs": [
    {
     "data": {
      "text/html": [
       "<table><tr><th>movieId</th><th>title</th><th>year</th><th>genres</th></tr><tr><td>125916</td><td>Fifty Shades of Grey</td><td>2015</td><td>Drama</td></tr><tr><td>120825</td><td>The Woman in Black 2: Angel of Death</td><td>2015</td><td>Drama|Horror|Thriller</td></tr><tr><td>110286</td><td>13 Sins</td><td>2014</td><td>Horror|Thriller</td></tr><tr><td>112138</td><td>22 Jump Street</td><td>2014</td><td>Action|Comedy|Crime</td></tr><tr><td>109569</td><td>3 Days to Kill</td><td>2014</td><td>Action|Crime|Drama</td></tr><tr><td>109673</td><td>300: Rise of an Empire</td><td>2014</td><td>Action|Drama|War|IMAX</td></tr><tr><td>112940</td><td>A Most Wanted Man</td><td>2014</td><td>Thriller</td></tr><tr><td>113557</td><td>Age of Tomorrow</td><td>2014</td><td>Action|Sci-Fi|Thriller</td></tr><tr><td>114662</td><td>American Sniper</td><td>2014</td><td>Action|War</td></tr><tr><td>113780</td><td>As Above, So Below</td><td>2014</td><td>Horror|Thriller</td></tr></table>"
      ],
      "text/plain": [
       "<sqlite_utils.CursorTable at 0x106b61e50>"
      ]
     },
     "execution_count": 4,
     "metadata": {},
     "output_type": "execute_result"
    }
   ],
   "source": [
    "# movies by year (newest) then by title (a-z)\n",
    "ml.query('SELECT * from movies order by year desc, title asc')"
   ]
  },
  {
   "cell_type": "code",
   "execution_count": 5,
   "metadata": {
    "collapsed": false,
    "slideshow": {
     "slide_type": "fragment"
    }
   },
   "outputs": [
    {
     "data": {
      "text/html": [
       "<table><tr><th>userId</th><th>movieId</th><th>rating</th><th>timestamp</th></tr><tr><td>1</td><td>6</td><td>2.0</td><td>980730861</td></tr><tr><td>1</td><td>22</td><td>3.0</td><td>980731380</td></tr><tr><td>1</td><td>32</td><td>2.0</td><td>980731926</td></tr><tr><td>1</td><td>50</td><td>5.0</td><td>980732037</td></tr><tr><td>1</td><td>110</td><td>4.0</td><td>980730408</td></tr><tr><td>1</td><td>164</td><td>3.0</td><td>980731766</td></tr><tr><td>1</td><td>198</td><td>3.0</td><td>980731282</td></tr><tr><td>1</td><td>260</td><td>5.0</td><td>980730769</td></tr><tr><td>1</td><td>296</td><td>4.0</td><td>980731208</td></tr><tr><td>1</td><td>303</td><td>3.0</td><td>980732235</td></tr></table>"
      ],
      "text/plain": [
       "<sqlite_utils.CursorTable at 0x1066b3d90>"
      ]
     },
     "execution_count": 5,
     "metadata": {},
     "output_type": "execute_result"
    }
   ],
   "source": [
    "ml.query(\"SELECT * FROM ratings\")"
   ]
  },
  {
   "cell_type": "markdown",
   "metadata": {
    "slideshow": {
     "slide_type": "fragment"
    }
   },
   "source": [
    "## Ratings table\n",
    "\n",
    "- The rating itself is a number (e.g. number of stars)\n",
    "- Each rating has a **userId**, **movieId**, and **timestamp**\n",
    "    - Timestamp is seconds since Jan 1, 1970\n"
   ]
  },
  {
   "cell_type": "code",
   "execution_count": 6,
   "metadata": {
    "collapsed": false,
    "slideshow": {
     "slide_type": "fragment"
    }
   },
   "outputs": [
    {
     "data": {
      "text/plain": [
       "'Sun Jan 28 20:14:21 2001'"
      ]
     },
     "execution_count": 6,
     "metadata": {},
     "output_type": "execute_result"
    }
   ],
   "source": [
    "# Can convert with python\n",
    "import time\n",
    "time.ctime(980730861)"
   ]
  },
  {
   "cell_type": "code",
   "execution_count": 7,
   "metadata": {
    "collapsed": false,
    "slideshow": {
     "slide_type": "fragment"
    }
   },
   "outputs": [
    {
     "data": {
      "text/html": [
       "<table><tr><th>userId</th><th>movieId</th><th>rating</th><th>timestamp</th><th>date</th></tr><tr><td>1</td><td>6</td><td>2.0</td><td>980730861</td><td>2001-01-29 01:14:21</td></tr><tr><td>1</td><td>22</td><td>3.0</td><td>980731380</td><td>2001-01-29 01:23:00</td></tr><tr><td>1</td><td>32</td><td>2.0</td><td>980731926</td><td>2001-01-29 01:32:06</td></tr></table>"
      ],
      "text/plain": [
       "<sqlite_utils.CursorTable at 0x106bd12d0>"
      ]
     },
     "execution_count": 7,
     "metadata": {},
     "output_type": "execute_result"
    }
   ],
   "source": [
    "# Or in SQL:\n",
    "ml.query(\"SELECT *, datetime(timestamp, 'unixepoch') as date from ratings limit 3\")"
   ]
  },
  {
   "cell_type": "markdown",
   "metadata": {
    "slideshow": {
     "slide_type": "fragment"
    }
   },
   "source": [
    "### Relationship to movies\n",
    "- We have a **movies** table also with a **movieId**\n",
    "- We can look up ratings for a movie, but we need to know its **movieId**\n",
    "\n",
    "That common **movieId** column is a **KEY**\n",
    "\n",
    "- In the **movies** table, it's a **PRIMARY KEY**\n",
    "- In the **ratings** table, it's a **FOREIGN KEY**"
   ]
  },
  {
   "cell_type": "markdown",
   "metadata": {
    "slideshow": {
     "slide_type": "slide"
    }
   },
   "source": [
    "## Exercise: Relational Data\n",
    "\n",
    "Look up a favorite movie and find newest and oldest rating.\n",
    "\n",
    "Tips:\n",
    "- Titles like **The Godfather** are listed as **Godfather, The**\n",
    "- Sorting the **timestamp** column can be used to find the oldest (ASC) or newest (DESC)\n",
    "- Can use `datetime(timestamp, 'unixepoch')`"
   ]
  },
  {
   "cell_type": "code",
   "execution_count": 8,
   "metadata": {
    "collapsed": false
   },
   "outputs": [
    {
     "data": {
      "text/html": [
       "<table><tr><th>title</th><th>movieId</th></tr><tr><td>Godfather, The</td><td>858</td></tr><tr><td>Godfather: Part II, The</td><td>1221</td></tr><tr><td>Godfather: Part III, The</td><td>2023</td></tr></table>"
      ],
      "text/plain": [
       "<sqlite_utils.CursorTable at 0x1066b3190>"
      ]
     },
     "execution_count": 8,
     "metadata": {},
     "output_type": "execute_result"
    }
   ],
   "source": [
    "ml.query(\"select title, movieId from movies where title like 'Godfather%'\")"
   ]
  },
  {
   "cell_type": "code",
   "execution_count": 9,
   "metadata": {
    "collapsed": false,
    "slideshow": {
     "slide_type": "fragment"
    }
   },
   "outputs": [
    {
     "data": {
      "text/html": [
       "<table><tr><th>userId</th><th>movieId</th><th>rating</th><th>timestamp</th></tr><tr><td>343</td><td>858</td><td>4.0</td><td>846463100</td></tr><tr><td>274</td><td>858</td><td>4.0</td><td>846765476</td></tr><tr><td>139</td><td>858</td><td>5.0</td><td>848324493</td></tr><tr><td>503</td><td>858</td><td>5.0</td><td>859134568</td></tr><tr><td>448</td><td>858</td><td>4.0</td><td>859401801</td></tr><tr><td>307</td><td>858</td><td>4.0</td><td>860349423</td></tr><tr><td>147</td><td>858</td><td>5.0</td><td>861218317</td></tr><tr><td>524</td><td>858</td><td>5.0</td><td>861875896</td></tr><tr><td>266</td><td>858</td><td>4.0</td><td>862150161</td></tr><tr><td>632</td><td>858</td><td>5.0</td><td>862942268</td></tr></table>"
      ],
      "text/plain": [
       "<sqlite_utils.CursorTable at 0x106bd1410>"
      ]
     },
     "execution_count": 9,
     "metadata": {},
     "output_type": "execute_result"
    }
   ],
   "source": [
    "ml.query(\"SELECT * FROM ratings WHERE movieId = 858 ORDER BY timestamp ASC\")"
   ]
  },
  {
   "cell_type": "markdown",
   "metadata": {
    "slideshow": {
     "slide_type": "slide"
    }
   },
   "source": [
    "### Aggregate Functions\n",
    "\n",
    "- Not practical to query/scan individual ratings\n",
    "- Even with Pandas, you may not want hold the dataset in memory. Ask for what you want.\n",
    "- Functions like average, count, can be part of the query."
   ]
  },
  {
   "cell_type": "markdown",
   "metadata": {
    "slideshow": {
     "slide_type": "fragment"
    }
   },
   "source": [
    "[SQLite Aggregate Functions](https://www.sqlite.org/lang_aggfunc.html)\n",
    "\n",
    "- avg\n",
    "- count\n",
    "- max / min\n",
    "- sum\n",
    "- group_concat "
   ]
  },
  {
   "cell_type": "code",
   "execution_count": 27,
   "metadata": {
    "collapsed": false,
    "slideshow": {
     "slide_type": "fragment"
    }
   },
   "outputs": [
    {
     "data": {
      "text/html": [
       "<table><tr><th>count(rating)</th><th>avg(rating)</th><th>max(rating)</th><th>min(rating)</th></tr><tr><td>208</td><td>4.33413461538</td><td>5.0</td><td>0.5</td></tr></table>"
      ],
      "text/plain": [
       "<sqlite_utils.CursorTable at 0x10a80d7d0>"
      ]
     },
     "execution_count": 27,
     "metadata": {},
     "output_type": "execute_result"
    }
   ],
   "source": [
    "ml.query(\"SELECT count(rating), avg(rating), max(rating), min(rating) FROM ratings WHERE movieId = 858\")\n",
    "# How many ratings does your movie have?\n",
    "# What's the average rating for your movie?"
   ]
  },
  {
   "cell_type": "markdown",
   "metadata": {
    "slideshow": {
     "slide_type": "slide"
    }
   },
   "source": [
    "### Distinct\n",
    "\n",
    "Distinct is often used with these aggregate functions, especially with values that repeat across rows, like a year."
   ]
  },
  {
   "cell_type": "code",
   "execution_count": 11,
   "metadata": {
    "collapsed": false,
    "slideshow": {
     "slide_type": "fragment"
    }
   },
   "outputs": [
    {
     "data": {
      "text/html": [
       "<table><tr><th>year</th></tr><tr><td>None</td></tr><tr><td>1902</td></tr><tr><td>1915</td></tr><tr><td>1916</td></tr><tr><td>1919</td></tr><tr><td>1920</td></tr><tr><td>1921</td></tr><tr><td>1922</td></tr><tr><td>1923</td></tr><tr><td>1924</td></tr><tr><td>1925</td></tr><tr><td>1926</td></tr><tr><td>1927</td></tr><tr><td>1928</td></tr><tr><td>1929</td></tr><tr><td>1930</td></tr><tr><td>1931</td></tr><tr><td>1932</td></tr><tr><td>1933</td></tr><tr><td>1934</td></tr><tr><td>1935</td></tr><tr><td>1936</td></tr><tr><td>1937</td></tr><tr><td>1938</td></tr><tr><td>1939</td></tr><tr><td>1940</td></tr><tr><td>1941</td></tr><tr><td>1942</td></tr><tr><td>1943</td></tr><tr><td>1944</td></tr><tr><td>1945</td></tr><tr><td>1946</td></tr><tr><td>1947</td></tr><tr><td>1948</td></tr><tr><td>1949</td></tr><tr><td>1950</td></tr><tr><td>1951</td></tr><tr><td>1952</td></tr><tr><td>1953</td></tr><tr><td>1954</td></tr><tr><td>1955</td></tr><tr><td>1956</td></tr><tr><td>1957</td></tr><tr><td>1958</td></tr><tr><td>1959</td></tr><tr><td>1960</td></tr><tr><td>1961</td></tr><tr><td>1962</td></tr><tr><td>1963</td></tr><tr><td>1964</td></tr><tr><td>1965</td></tr><tr><td>1966</td></tr><tr><td>1967</td></tr><tr><td>1968</td></tr><tr><td>1969</td></tr><tr><td>1970</td></tr><tr><td>1971</td></tr><tr><td>1972</td></tr><tr><td>1973</td></tr><tr><td>1974</td></tr><tr><td>1975</td></tr><tr><td>1976</td></tr><tr><td>1977</td></tr><tr><td>1978</td></tr><tr><td>1979</td></tr><tr><td>1980</td></tr><tr><td>1981</td></tr><tr><td>1982</td></tr><tr><td>1983</td></tr><tr><td>1984</td></tr><tr><td>1985</td></tr><tr><td>1986</td></tr><tr><td>1987</td></tr><tr><td>1988</td></tr><tr><td>1989</td></tr><tr><td>1990</td></tr><tr><td>1991</td></tr><tr><td>1992</td></tr><tr><td>1993</td></tr><tr><td>1994</td></tr><tr><td>1995</td></tr><tr><td>1996</td></tr><tr><td>1997</td></tr><tr><td>1998</td></tr><tr><td>1999</td></tr><tr><td>2000</td></tr><tr><td>2001</td></tr><tr><td>2002</td></tr><tr><td>2003</td></tr><tr><td>2004</td></tr><tr><td>2005</td></tr><tr><td>2006</td></tr><tr><td>2007</td></tr><tr><td>2008</td></tr><tr><td>2009</td></tr><tr><td>2010</td></tr><tr><td>2011</td></tr><tr><td>2012</td></tr><tr><td>2013</td></tr><tr><td>2014</td></tr><tr><td>2015</td></tr></table>"
      ],
      "text/plain": [
       "<sqlite_utils.CursorTable at 0x106bd1550>"
      ]
     },
     "execution_count": 11,
     "metadata": {},
     "output_type": "execute_result"
    }
   ],
   "source": [
    " # How many years in the table? What's the max and min?\n",
    "ml.query(\"SELECT DISTINCT(year) FROM movies order by year limit 200\")"
   ]
  },
  {
   "cell_type": "code",
   "execution_count": 12,
   "metadata": {
    "collapsed": false,
    "slideshow": {
     "slide_type": "fragment"
    }
   },
   "outputs": [
    {
     "data": {
      "text/html": [
       "<table><tr><th>sum(rating)</th></tr><tr><td>1457.0</td></tr></table>"
      ],
      "text/plain": [
       "<sqlite_utils.CursorTable at 0x106bd17d0>"
      ]
     },
     "execution_count": 12,
     "metadata": {},
     "output_type": "execute_result"
    }
   ],
   "source": [
    "ml.query(\"select movieId from movies where title like 'Shawshank%'\")\n",
    "ml.query(\"select sum(rating) from ratings where movieId = 318\")"
   ]
  },
  {
   "cell_type": "markdown",
   "metadata": {
    "collapsed": false,
    "slideshow": {
     "slide_type": "slide"
    }
   },
   "source": [
    "\n",
    "### Exercise: Aggregates\n",
    "\n",
    "The full dataset has:\n",
    "- 27,000 movies\n",
    "- 470,000 tags\n",
    "- 21,000,000 ratings\n",
    "- by 230,000 users\n",
    "\n",
    "\n",
    "1. What are these statistics for the tables in your database?\n",
    "2. What's the average rating for all movies?\n",
    "3. If each rating is a star, how many **total** stars have been given for **Shawshank Redemption, The**\n",
    "4. What's the date of the oldest rating? The newest?\n",
    "\n",
    "Hint:\n",
    "- No users table but userIds exist in ratings\n"
   ]
  },
  {
   "cell_type": "markdown",
   "metadata": {
    "slideshow": {
     "slide_type": "slide"
    }
   },
   "source": [
    "# Querying Multiple Tables\n",
    "\n",
    "Joins and keys"
   ]
  },
  {
   "cell_type": "markdown",
   "metadata": {
    "slideshow": {
     "slide_type": "fragment"
    }
   },
   "source": [
    "The real power of relational databases is in the **relations**.\n",
    "\n",
    "movies and ratings are related, but there are other tables:\n",
    "\n",
    "- movies:links is 1:1\n",
    "- movies:ratings 1:Many\n",
    "- movies:tags is Many:Many\n",
    "\n",
    "Connect related tables in a single query, with a **JOIN**"
   ]
  },
  {
   "cell_type": "markdown",
   "metadata": {
    "slideshow": {
     "slide_type": "slide"
    }
   },
   "source": [
    "### JOIN Query\n",
    "\n",
    "Let's have a look at the links table, and see how we can get the IMDB link for some movies in the table."
   ]
  },
  {
   "cell_type": "code",
   "execution_count": 13,
   "metadata": {
    "collapsed": false,
    "slideshow": {
     "slide_type": "fragment"
    }
   },
   "outputs": [
    {
     "data": {
      "text/html": [
       "<table><tr><th>title</th><th>movieId</th><th>imdbId</th><th>tmdbId</th></tr><tr><td>Toy Story</td><td>1</td><td>0114709</td><td>862</td></tr><tr><td>Jumanji</td><td>2</td><td>0113497</td><td>8844</td></tr><tr><td>Grumpier Old Men</td><td>3</td><td>0113228</td><td>15602</td></tr><tr><td>Waiting to Exhale</td><td>4</td><td>0114885</td><td>31357</td></tr><tr><td>Father of the Bride Part II</td><td>5</td><td>0113041</td><td>11862</td></tr><tr><td>Heat</td><td>6</td><td>0113277</td><td>949</td></tr><tr><td>Sabrina</td><td>7</td><td>0114319</td><td>11860</td></tr><tr><td>Tom and Huck</td><td>8</td><td>0112302</td><td>45325</td></tr><tr><td>Sudden Death</td><td>9</td><td>0114576</td><td>9091</td></tr><tr><td>GoldenEye</td><td>10</td><td>0113189</td><td>710</td></tr></table>"
      ],
      "text/plain": [
       "<sqlite_utils.CursorTable at 0x106bd16d0>"
      ]
     },
     "execution_count": 13,
     "metadata": {},
     "output_type": "execute_result"
    }
   ],
   "source": [
    "# Start with SELECT movies.title FROM movies\n",
    "ml.query('''\n",
    "SELECT movies.title, links.* from movies \n",
    "    JOIN links ON movies.movieId = links.movieId''')\n",
    "# JOIN links ON movies.movieId = links.movieId"
   ]
  },
  {
   "cell_type": "code",
   "execution_count": 14,
   "metadata": {
    "collapsed": false,
    "slideshow": {
     "slide_type": "fragment"
    }
   },
   "outputs": [
    {
     "data": {
      "text/html": [
       "<table><tr><th>title</th><th>movieId</th><th>imdbId</th><th>tmdbId</th></tr><tr><td>Toy Story</td><td>1</td><td>0114709</td><td>862</td></tr><tr><td>Jumanji</td><td>2</td><td>0113497</td><td>8844</td></tr><tr><td>Grumpier Old Men</td><td>3</td><td>0113228</td><td>15602</td></tr><tr><td>Waiting to Exhale</td><td>4</td><td>0114885</td><td>31357</td></tr><tr><td>Father of the Bride Part II</td><td>5</td><td>0113041</td><td>11862</td></tr><tr><td>Heat</td><td>6</td><td>0113277</td><td>949</td></tr><tr><td>Sabrina</td><td>7</td><td>0114319</td><td>11860</td></tr><tr><td>Tom and Huck</td><td>8</td><td>0112302</td><td>45325</td></tr><tr><td>Sudden Death</td><td>9</td><td>0114576</td><td>9091</td></tr><tr><td>GoldenEye</td><td>10</td><td>0113189</td><td>710</td></tr></table>"
      ],
      "text/plain": [
       "<sqlite_utils.CursorTable at 0x106bd19d0>"
      ]
     },
     "execution_count": 14,
     "metadata": {},
     "output_type": "execute_result"
    }
   ],
   "source": [
    "movies_links = '''\n",
    "SELECT movies.title, links.*\n",
    "FROM movies\n",
    "JOIN links on movies.movieId = links.movieId\n",
    "'''\n",
    "ml.query(movies_links)"
   ]
  },
  {
   "cell_type": "markdown",
   "metadata": {
    "slideshow": {
     "slide_type": "slide"
    }
   },
   "source": [
    "### Exercise\n",
    "\n",
    "Write a query that JOINs movies and links to print titles and links for each of the Star Wars movies"
   ]
  },
  {
   "cell_type": "code",
   "execution_count": 15,
   "metadata": {
    "collapsed": false,
    "slideshow": {
     "slide_type": "fragment"
    }
   },
   "outputs": [
    {
     "data": {
      "text/html": [
       "<table><tr><th>title</th><th>movieId</th><th>imdbId</th><th>tmdbId</th></tr><tr><td>Star Wars: Episode IV - A New Hope</td><td>260</td><td>0076759</td><td>11</td></tr><tr><td>Star Wars: Episode V - The Empire Strikes Back</td><td>1196</td><td>0080684</td><td>1891</td></tr><tr><td>Star Wars: Episode VI - Return of the Jedi</td><td>1210</td><td>0086190</td><td>1892</td></tr><tr><td>Star Wars: Episode I - The Phantom Menace</td><td>2628</td><td>0120915</td><td>1893</td></tr><tr><td>Star Wars: Episode II - Attack of the Clones</td><td>5378</td><td>0121765</td><td>1894</td></tr><tr><td>Star Wars: Episode III - Revenge of the Sith</td><td>33493</td><td>0121766</td><td>1895</td></tr></table>"
      ],
      "text/plain": [
       "<sqlite_utils.CursorTable at 0x106bd1ad0>"
      ]
     },
     "execution_count": 15,
     "metadata": {},
     "output_type": "execute_result"
    }
   ],
   "source": [
    "starwars_links = '''\n",
    "SELECT movies.title, links.*\n",
    "FROM movies\n",
    "JOIN links ON movies.movieId = links.movieId\n",
    "WHERE movies.title like 'Star Wars: Episode%'\n",
    "'''\n",
    "ml.query(starwars_links)"
   ]
  },
  {
   "cell_type": "code",
   "execution_count": 28,
   "metadata": {
    "collapsed": false,
    "slideshow": {
     "slide_type": "fragment"
    }
   },
   "outputs": [
    {
     "data": {
      "text/html": [
       "<table><tr><th>title</th><th>movieId</th><th>imdbId</th><th>tmdbId</th></tr><tr><td>Star Wars: Episode I - The Phantom Menace</td><td>2628</td><td>0120915</td><td>1893</td></tr><tr><td>Star Wars: Episode II - Attack of the Clones</td><td>5378</td><td>0121765</td><td>1894</td></tr><tr><td>Star Wars: Episode III - Revenge of the Sith</td><td>33493</td><td>0121766</td><td>1895</td></tr><tr><td>Star Wars: Episode IV - A New Hope</td><td>260</td><td>0076759</td><td>11</td></tr><tr><td>Star Wars: Episode V - The Empire Strikes Back</td><td>1196</td><td>0080684</td><td>1891</td></tr><tr><td>Star Wars: Episode VI - Return of the Jedi</td><td>1210</td><td>0086190</td><td>1892</td></tr></table>"
      ],
      "text/plain": [
       "<sqlite_utils.CursorTable at 0x10a80da90>"
      ]
     },
     "execution_count": 28,
     "metadata": {},
     "output_type": "execute_result"
    }
   ],
   "source": [
    "starwars_links = '''\n",
    "SELECT\n",
    "    movies.title,\n",
    "    links.*\n",
    "FROM movies\n",
    "JOIN links on movies.movieId = links.movieId\n",
    "WHERE movies.title like 'Star Wars: Episode%'\n",
    "ORDER BY movies.title asc\n",
    "'''\n",
    "ml.query(starwars_links)"
   ]
  },
  {
   "cell_type": "markdown",
   "metadata": {
    "slideshow": {
     "slide_type": "slide"
    }
   },
   "source": [
    "### Joins and Aggregates\n",
    "\n",
    "We can join tables and we can run aggregate functions like AVG/COUNT, useful to put those together.\n",
    "\n",
    "Average rating for all the star wars movies"
   ]
  },
  {
   "cell_type": "code",
   "execution_count": 17,
   "metadata": {
    "collapsed": false,
    "slideshow": {
     "slide_type": "fragment"
    }
   },
   "outputs": [
    {
     "data": {
      "text/html": [
       "<table><tr><th>AVG(ratings.rating)</th></tr><tr><td>3.86371923428</td></tr></table>"
      ],
      "text/plain": [
       "<sqlite_utils.CursorTable at 0x106bd1bd0>"
      ]
     },
     "execution_count": 17,
     "metadata": {},
     "output_type": "execute_result"
    }
   ],
   "source": [
    "# Start with a query, then add the aggregates\n",
    "ratings_query = '''\n",
    "SELECT AVG(ratings.rating)\n",
    "FROM movies\n",
    "JOIN ratings ON movies.movieId = ratings.movieId\n",
    "WHERE movies.title like 'Star Wars: Episode%'\n",
    "LIMIT 100'''\n",
    "ml.query(ratings_query)"
   ]
  },
  {
   "cell_type": "markdown",
   "metadata": {
    "slideshow": {
     "slide_type": "fragment"
    }
   },
   "source": [
    "### Exercise\n",
    "\n",
    "Starting with the average ratings of Star Wars query:\n",
    "\n",
    "1. How many ratings? How many total stars?\n",
    "2. How does the average rating of the first 3 (before 1999) compare to the second 3 (after 1999)?\n",
    "4. How does the average rating of these movies compare to the Godfather trilogy?\n"
   ]
  },
  {
   "cell_type": "markdown",
   "metadata": {
    "slideshow": {
     "slide_type": "slide"
    }
   },
   "source": [
    "## Grouping\n",
    "\n",
    "When aggregating, often makes sense aggregate groups of data instead of whole dataset\n",
    "\n",
    "For example: average rating for each movie instead of all movies\n",
    "\n",
    "This is called grouping, we covered it in Pandas, and it's also possible in SQL.\n"
   ]
  },
  {
   "cell_type": "code",
   "execution_count": 18,
   "metadata": {
    "collapsed": false,
    "slideshow": {
     "slide_type": "fragment"
    }
   },
   "outputs": [
    {
     "data": {
      "text/html": [
       "<table><tr><th>year</th><th>count(*)</th></tr><tr><td>None</td><td>2</td></tr><tr><td>1902</td><td>1</td></tr><tr><td>1915</td><td>1</td></tr><tr><td>1916</td><td>1</td></tr><tr><td>1919</td><td>2</td></tr><tr><td>1920</td><td>1</td></tr><tr><td>1921</td><td>1</td></tr><tr><td>1922</td><td>4</td></tr><tr><td>1923</td><td>3</td></tr><tr><td>1924</td><td>3</td></tr><tr><td>1925</td><td>6</td></tr><tr><td>1926</td><td>3</td></tr><tr><td>1927</td><td>6</td></tr><tr><td>1928</td><td>5</td></tr><tr><td>1929</td><td>5</td></tr><tr><td>1930</td><td>6</td></tr><tr><td>1931</td><td>9</td></tr><tr><td>1932</td><td>12</td></tr><tr><td>1933</td><td>10</td></tr><tr><td>1934</td><td>11</td></tr><tr><td>1935</td><td>12</td></tr><tr><td>1936</td><td>14</td></tr><tr><td>1937</td><td>14</td></tr><tr><td>1938</td><td>14</td></tr><tr><td>1939</td><td>29</td></tr><tr><td>1940</td><td>28</td></tr><tr><td>1941</td><td>22</td></tr><tr><td>1942</td><td>26</td></tr><tr><td>1943</td><td>20</td></tr><tr><td>1944</td><td>21</td></tr><tr><td>1945</td><td>26</td></tr><tr><td>1946</td><td>23</td></tr><tr><td>1947</td><td>23</td></tr><tr><td>1948</td><td>21</td></tr><tr><td>1949</td><td>24</td></tr><tr><td>1950</td><td>26</td></tr><tr><td>1951</td><td>33</td></tr><tr><td>1952</td><td>20</td></tr><tr><td>1953</td><td>36</td></tr><tr><td>1954</td><td>30</td></tr><tr><td>1955</td><td>48</td></tr><tr><td>1956</td><td>37</td></tr><tr><td>1957</td><td>43</td></tr><tr><td>1958</td><td>36</td></tr><tr><td>1959</td><td>49</td></tr><tr><td>1960</td><td>44</td></tr><tr><td>1961</td><td>36</td></tr><tr><td>1962</td><td>48</td></tr><tr><td>1963</td><td>36</td></tr><tr><td>1964</td><td>43</td></tr><tr><td>1965</td><td>51</td></tr><tr><td>1966</td><td>51</td></tr><tr><td>1967</td><td>51</td></tr><tr><td>1968</td><td>53</td></tr><tr><td>1969</td><td>40</td></tr><tr><td>1970</td><td>52</td></tr><tr><td>1971</td><td>50</td></tr><tr><td>1972</td><td>56</td></tr><tr><td>1973</td><td>66</td></tr><tr><td>1974</td><td>50</td></tr><tr><td>1975</td><td>51</td></tr><tr><td>1976</td><td>50</td></tr><tr><td>1977</td><td>61</td></tr><tr><td>1978</td><td>59</td></tr><tr><td>1979</td><td>68</td></tr><tr><td>1980</td><td>102</td></tr><tr><td>1981</td><td>97</td></tr><tr><td>1982</td><td>93</td></tr><tr><td>1983</td><td>78</td></tr><tr><td>1984</td><td>96</td></tr><tr><td>1985</td><td>118</td></tr><tr><td>1986</td><td>125</td></tr><tr><td>1987</td><td>156</td></tr><tr><td>1988</td><td>161</td></tr><tr><td>1989</td><td>152</td></tr><tr><td>1990</td><td>139</td></tr><tr><td>1991</td><td>133</td></tr><tr><td>1992</td><td>144</td></tr><tr><td>1993</td><td>196</td></tr><tr><td>1994</td><td>239</td></tr><tr><td>1995</td><td>273</td></tr><tr><td>1996</td><td>280</td></tr><tr><td>1997</td><td>250</td></tr><tr><td>1998</td><td>265</td></tr><tr><td>1999</td><td>266</td></tr><tr><td>2000</td><td>264</td></tr><tr><td>2001</td><td>258</td></tr><tr><td>2002</td><td>294</td></tr><tr><td>2003</td><td>250</td></tr><tr><td>2004</td><td>245</td></tr><tr><td>2005</td><td>241</td></tr><tr><td>2006</td><td>315</td></tr><tr><td>2007</td><td>234</td></tr><tr><td>2008</td><td>258</td></tr><tr><td>2009</td><td>237</td></tr><tr><td>2010</td><td>222</td></tr><tr><td>2011</td><td>223</td></tr><tr><td>2012</td><td>159</td></tr><tr><td>2013</td><td>131</td></tr><tr><td>2014</td><td>91</td></tr><tr><td>2015</td><td>2</td></tr></table>"
      ],
      "text/plain": [
       "<sqlite_utils.CursorTable at 0x106bd1b90>"
      ]
     },
     "execution_count": 18,
     "metadata": {},
     "output_type": "execute_result"
    }
   ],
   "source": [
    "ml.query('select year, count(*) FROM movies GROUP BY year limit 200')"
   ]
  },
  {
   "cell_type": "markdown",
   "metadata": {
    "slideshow": {
     "slide_type": "slide"
    }
   },
   "source": [
    "### Exercise: Grouping with Joins\n",
    "\n",
    "Grouping works with any query, not just single-tables. \n",
    "\n",
    "Let's apply this to the ratings query from earlier, and see what that looks like\n",
    "\n",
    "1. Include title (I'll get you started)\n",
    "2. Include year\n",
    "3. Include number of ratings as **num_ratings**\n",
    "4. Order by the average rating (highest first)\n",
    "5. Order by the most ratings (highest first)"
   ]
  },
  {
   "cell_type": "code",
   "execution_count": 19,
   "metadata": {
    "collapsed": false,
    "scrolled": true,
    "slideshow": {
     "slide_type": "fragment"
    }
   },
   "outputs": [
    {
     "data": {
      "text/html": [
       "<table><tr><th>avg_rating</th><th>num_ratings</th><th>title</th></tr><tr><td>3.13758389262</td><td>149</td><td>Star Wars: Episode I - The Phantom Menace</td></tr><tr><td>3.30113636364</td><td>88</td><td>Star Wars: Episode II - Attack of the Clones</td></tr><tr><td>3.37096774194</td><td>62</td><td>Star Wars: Episode III - Revenge of the Sith</td></tr><tr><td>4.19607843137</td><td>306</td><td>Star Wars: Episode IV - A New Hope</td></tr><tr><td>4.09756097561</td><td>246</td><td>Star Wars: Episode V - The Empire Strikes Back</td></tr><tr><td>3.98170731707</td><td>246</td><td>Star Wars: Episode VI - Return of the Jedi</td></tr></table>"
      ],
      "text/plain": [
       "<sqlite_utils.CursorTable at 0x106bd1d90>"
      ]
     },
     "execution_count": 19,
     "metadata": {},
     "output_type": "execute_result"
    }
   ],
   "source": [
    "ratings_query = '''\n",
    "SELECT avg(ratings.rating) AS avg_rating,\n",
    "count(ratings.rating) as num_ratings,\n",
    "title\n",
    "FROM movies\n",
    "JOIN ratings ON movies.movieId = ratings.movieId\n",
    "WHERE movies.title like 'Star Wars: Episode%'\n",
    "GROUP BY movies.title\n",
    "'''\n",
    "ml.query(ratings_query)"
   ]
  },
  {
   "cell_type": "markdown",
   "metadata": {
    "slideshow": {
     "slide_type": "slide"
    }
   },
   "source": [
    "### 5 Highest-Rated Movies\n",
    "\n",
    "Let's write a query to find the 5 highest rated movies\n",
    "\n",
    "We're pretty close, just need to remove the WHERE clause and add a LIMIT, right?"
   ]
  },
  {
   "cell_type": "code",
   "execution_count": 20,
   "metadata": {
    "collapsed": false,
    "slideshow": {
     "slide_type": "slide"
    }
   },
   "outputs": [
    {
     "data": {
      "text/html": [
       "<table><tr><th>title</th><th>avg_rating</th></tr><tr><td>35 Up</td><td>5.0</td></tr><tr><td>36th Chamber of Shaolin, The (Shao Lin san shi liu fang) (Master Killer)</td><td>5.0</td></tr><tr><td>49 Up</td><td>5.0</td></tr><tr><td>9 Songs</td><td>5.0</td></tr><tr><td>Abbott and Costello Meet the Mummy</td><td>5.0</td></tr></table>"
      ],
      "text/plain": [
       "<sqlite_utils.CursorTable at 0x106bd1e90>"
      ]
     },
     "execution_count": 20,
     "metadata": {},
     "output_type": "execute_result"
    }
   ],
   "source": [
    "# 5 highest rated movies\n",
    "ratings_query = '''\n",
    "SELECT \n",
    "    movies.title, \n",
    "    avg(ratings.rating) AS avg_rating\n",
    "FROM movies\n",
    "JOIN ratings ON movies.movieId = ratings.movieId\n",
    "GROUP BY movies.title \n",
    "ORDER BY avg_rating DESC\n",
    "LIMIT 5\n",
    "'''\n",
    "ml.query(ratings_query)"
   ]
  },
  {
   "cell_type": "markdown",
   "metadata": {
    "slideshow": {
     "slide_type": "fragment"
    }
   },
   "source": [
    "### HAVING\n",
    "- A WHERE clause for aggregates\n"
   ]
  },
  {
   "cell_type": "markdown",
   "metadata": {
    "slideshow": {
     "slide_type": "slide"
    }
   },
   "source": [
    "### Exercises\n",
    "\n",
    "- Get movies with over 100 ratings and at least a 4 star average\n",
    "- Get movies with at least 15 tags\n",
    "- Include those tags with group_concat function"
   ]
  },
  {
   "cell_type": "code",
   "execution_count": 36,
   "metadata": {
    "collapsed": false,
    "slideshow": {
     "slide_type": "fragment"
    }
   },
   "outputs": [
    {
     "data": {
      "text/html": [
       "<table><tr><th>title</th><th>movieId</th><th>avg_rating</th><th>num_ratings</th></tr><tr><td>Shawshank Redemption, The</td><td>318</td><td>4.44207317073</td><td>328</td></tr><tr><td>Usual Suspects, The</td><td>50</td><td>4.36820083682</td><td>239</td></tr><tr><td>Godfather, The</td><td>858</td><td>4.33413461538</td><td>208</td></tr><tr><td>Schindler's List</td><td>527</td><td>4.3112033195</td><td>241</td></tr><tr><td>Casablanca</td><td>912</td><td>4.25968992248</td><td>129</td></tr><tr><td>Godfather: Part II, The</td><td>1221</td><td>4.25</td><td>132</td></tr><tr><td>Silence of the Lambs, The</td><td>593</td><td>4.23590504451</td><td>337</td></tr><tr><td>Dr. Strangelove or: How I Learned to Stop Worrying and Love the Bomb</td><td>750</td><td>4.22619047619</td><td>126</td></tr><tr><td>Matrix, The</td><td>2571</td><td>4.20754716981</td><td>265</td></tr><tr><td>Star Wars: Episode IV - A New Hope</td><td>260</td><td>4.19607843137</td><td>306</td></tr></table>"
      ],
      "text/plain": [
       "<sqlite_utils.CursorTable at 0x10a656210>"
      ]
     },
     "execution_count": 36,
     "metadata": {},
     "output_type": "execute_result"
    }
   ],
   "source": [
    "ratings_query = '''\n",
    "SELECT \n",
    "    movies.title,\n",
    "    movies.movieId, \n",
    "    avg(ratings.rating) AS avg_rating,\n",
    "    count(ratings.rating) AS num_ratings\n",
    "FROM\n",
    "    movies\n",
    "JOIN\n",
    "    ratings ON movies.movieId = ratings.movieId\n",
    "GROUP BY\n",
    "    movies.title, movies.movieId\n",
    "HAVING\n",
    "    num_ratings > 100 AND avg_rating > 4.0\n",
    "order by avg_rating desc\n",
    "'''\n",
    "ml.query(ratings_query)"
   ]
  },
  {
   "cell_type": "code",
   "execution_count": 33,
   "metadata": {
    "collapsed": false,
    "slideshow": {
     "slide_type": "fragment"
    }
   },
   "outputs": [
    {
     "data": {
      "text/html": [
       "<table><tr><th>title</th><th>year</th><th>num_tags</th><th>all_tags</th></tr><tr><td>Evil Dead, The</td><td>1981</td><td>16</td><td>Necronomicon,ancient book,black comedy,campy,cult horror,dark humor,demon possession,demons,evil spirits,heroic,isolation,occult,possession,stylish,undead,wilderness</td></tr><tr><td>Raiders of the Lost Ark (Indiana Jones and the Raiders of the Lost Ark)</td><td>1981</td><td>16</td><td>AFI 100,Determined Hero,Nazis,Nazis,World War II,adventure,atmospheric,classic,good versus evil,great characters,great soundtrack,indiana jones,racism,racism,romance,treasure hunt</td></tr><tr><td>Evil Dead II (Dead by Dawn)</td><td>1987</td><td>17</td><td>Bruce Campbell,Great Ending,Necronomicon,ancient book,black comedy,cult horror,dark humor,dark humor,demon possession,demons,evil spirits,heroic,isolation,occult,possession,undead,wilderness</td></tr><tr><td>Beauty and the Beast</td><td>1991</td><td>20</td><td>Disney,Disney animated feature,France,Oscar (Best Music - Original Score),Oscar (Best Music - Original Song),affectionate,animation,animation,beautiful,fairy tale,fairy tale,fairy tales,gentle,heartwarming,heroine,humorous,kids and family,redemption,slow,whimsical</td></tr><tr><td>Shawshank Redemption, The</td><td>1994</td><td>18</td><td>Morgan Freeman,Stephen King,Stephen King,Tim Robbins,atmospheric,crime,drama,inspirational,justice,powerful ending,prison,prison,prison escape,reflective,revenge,thought-provoking,twist ending,twist ending</td></tr><tr><td>Seven (a.k.a. Se7en)</td><td>1995</td><td>19</td><td>captivating,crime,dark,disturbing,disturbing,drama,greed,horror,investigation,police,powerful ending,psychology,serial killer,shocking,thriller,thriller,twist ending,twists & turns,violent</td></tr><tr><td>Twelve Monkeys (a.k.a. 12 Monkeys)</td><td>1995</td><td>17</td><td>Post apocalyptic,complicated,dystopia,dystopia,future,genetics,post-apocalyptic,post-apocalyptic,psychology,psychology,sci-fi,sci-fi,time loop,time travel,twist ending,twist ending,violence</td></tr><tr><td>Matrix, The</td><td>1999</td><td>20</td><td>Keanu Reeves,alternate reality,artificial intelligence,cult film,cyberpunk,dark hero,dystopia,dystopia,fight scenes,fight scenes,martial arts,martial arts,philosophy,philosophy,post apocalyptic,post apocalyptic,post-apocalyptic,surreal,thriller,virtual reality</td></tr><tr><td>Sixth Sense, The</td><td>1999</td><td>20</td><td>AFI 100 (Thrills),Atmospheric,Drama,M. Night Shyamalan,cultural classic,enigmatic,ghosts,ghosts/afterlife,mindfuck,psychological,psychology,psychology,psychology,somber,surprise ending,suspense,twist ending,twist ending,twist ending,unique</td></tr><tr><td>WALL·E</td><td>2008</td><td>21</td><td>Expression through movement,Inventive,Post apocalyptic,Preachy,adventure,animated,animation,dystopia,dystopia,dystopia,environmental,environmental,family,heartfelt,love,original,physical comedy,pixar,post-apocalyptic,post-apocalyptic,romance</td></tr></table>"
      ],
      "text/plain": [
       "<sqlite_utils.CursorTable at 0x10a80dd90>"
      ]
     },
     "execution_count": 33,
     "metadata": {},
     "output_type": "execute_result"
    }
   ],
   "source": [
    "tags_query = '''\n",
    "SELECT \n",
    "    movies.title, \n",
    "    movies.year,\n",
    "    count(tags.tag) AS num_tags,\n",
    "    group_concat(tags.tag) as all_tags\n",
    "FROM\n",
    "    movies\n",
    "JOIN\n",
    "    tags ON movies.movieId = tags.movieId\n",
    "GROUP BY\n",
    "    movies.title\n",
    "HAVING\n",
    "    num_tags > 15\n",
    "order by year\n",
    "'''\n",
    "ml.query(tags_query)"
   ]
  },
  {
   "cell_type": "markdown",
   "metadata": {
    "slideshow": {
     "slide_type": "slide"
    }
   },
   "source": [
    "### Putting it all together\n",
    "\n",
    "- Plotting avg score by year\n",
    "\n"
   ]
  },
  {
   "cell_type": "code",
   "execution_count": 22,
   "metadata": {
    "collapsed": true,
    "slideshow": {
     "slide_type": "fragment"
    }
   },
   "outputs": [],
   "source": [
    "# Imports for pandas, sqlite, and plt\n",
    "import pandas as pd\n",
    "from pandas import DataFrame as df\n",
    "import sqlite3\n",
    "import matplotlib.pyplot as plt"
   ]
  },
  {
   "cell_type": "code",
   "execution_count": 23,
   "metadata": {
    "collapsed": false,
    "slideshow": {
     "slide_type": "fragment"
    }
   },
   "outputs": [],
   "source": [
    "# Build up the query as a string\n",
    "ratings_query = '''\n",
    "SELECT \n",
    "    movies.year,\n",
    "    avg(ratings.rating) as avg_rating,\n",
    "    count(ratings.rating) as num_ratings\n",
    "FROM\n",
    "    movies\n",
    "JOIN\n",
    "    ratings ON movies.movieId = ratings.movieId\n",
    "GROUP BY\n",
    "    movies.year\n",
    "order by year\n",
    "'''\n",
    "\n",
    "# Create a Data Frame from the query\n",
    "conn = sqlite3.connect('movielens-small.db')\n",
    "ratings_by_year = pd.read_sql_query(ratings_query, conn)\n",
    "conn.close()\n"
   ]
  },
  {
   "cell_type": "code",
   "execution_count": 24,
   "metadata": {
    "collapsed": false,
    "slideshow": {
     "slide_type": "fragment"
    }
   },
   "outputs": [
    {
     "data": {
      "image/png": "[encoded data removed]",
      "text/plain": [
       "<matplotlib.figure.Figure at 0x10a0461d0>"
      ]
     },
     "metadata": {},
     "output_type": "display_data"
    },
    {
     "data": {
      "image/png": "[encoded data removed]",
      "text/plain": [
       "<matplotlib.figure.Figure at 0x10a046110>"
      ]
     },
     "metadata": {},
     "output_type": "display_data"
    }
   ],
   "source": [
    "# Tell Matplotlib to plot inline\n",
    "%matplotlib inline\n",
    "\n",
    "# Generate some plots from the data frame\n",
    "ratings_by_year.plot(kind='line', x='year', y='num_ratings', xlim=(1900,2020), figsize=(16,4))\n",
    "plt.xlabel('Year')\n",
    "plt.ylabel('Number of Ratings')\n",
    "\n",
    "ratings_by_year.plot(kind='scatter', x='year', y='avg_rating', xlim=(1900,2020), ylim=(0,5), figsize=(16,4))\n",
    "plt.xlabel('Year')\n",
    "plt.ylabel('Average Rating')\n",
    "\n",
    "pass"
   ]
  },
  {
   "cell_type": "code",
   "execution_count": 25,
   "metadata": {
    "collapsed": false,
    "slideshow": {
     "slide_type": "slide"
    }
   },
   "outputs": [
    {
     "name": "stdout",
     "output_type": "stream",
     "text": [
      "<class 'pandas.core.frame.DataFrame'>\n",
      "Int64Index: 101 entries, 0 to 100\n",
      "Data columns (total 3 columns):\n",
      "year           100 non-null float64\n",
      "avg_rating     101 non-null float64\n",
      "num_ratings    101 non-null int64\n",
      "dtypes: float64(2), int64(1)\n",
      "memory usage: 3.2 KB\n"
     ]
    }
   ],
   "source": [
    "ratings_by_year.info()"
   ]
  },
  {
   "cell_type": "markdown",
   "metadata": {},
   "source": [
    "The Data Frame built from the aggregate query uses about 3KB"
   ]
  },
  {
   "cell_type": "code",
   "execution_count": 26,
   "metadata": {
    "collapsed": false,
    "slideshow": {
     "slide_type": "fragment"
    }
   },
   "outputs": [
    {
     "name": "stdout",
     "output_type": "stream",
     "text": [
      "<class 'pandas.core.frame.DataFrame'>\n",
      "Int64Index: 100023 entries, 0 to 100022\n",
      "Data columns (total 2 columns):\n",
      "year      100021 non-null float64\n",
      "rating    100023 non-null float64\n",
      "dtypes: float64(2)\n",
      "memory usage: 2.3 MB\n"
     ]
    }
   ],
   "source": [
    "big_query = '''\n",
    "SELECT \n",
    "    movies.year,\n",
    "    ratings.rating\n",
    "FROM\n",
    "    movies\n",
    "JOIN\n",
    "    ratings ON movies.movieId = ratings.movieId\n",
    "order by year'''\n",
    "conn = sqlite3.connect('movielens-small.db')\n",
    "all_ratings_and_year = pd.read_sql_query(big_query, conn)\n",
    "conn.close()\n",
    "\n",
    "all_ratings_and_year.info()"
   ]
  },
  {
   "cell_type": "markdown",
   "metadata": {},
   "source": [
    "The data frame containing all ratings for all movies uses about 2.3MB - 750x more"
   ]
  }
 ],
 "metadata": {
  "celltoolbar": "Slideshow",
  "kernelspec": {
   "display_name": "Python 2",
   "language": "python",
   "name": "python2"
  },
  "language_info": {
   "codemirror_mode": {
    "name": "ipython",
    "version": 2
   },
   "file_extension": ".py",
   "mimetype": "text/x-python",
   "name": "python",
   "nbconvert_exporter": "python",
   "pygments_lexer": "ipython2",
   "version": "2.7.10"
  }
 },
 "nbformat": 4,
 "nbformat_minor": 0
}
