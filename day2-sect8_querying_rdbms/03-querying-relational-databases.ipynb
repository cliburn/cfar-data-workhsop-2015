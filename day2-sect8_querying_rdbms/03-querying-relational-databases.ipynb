{
 "cells": [
  {
   "cell_type": "markdown",
   "metadata": {
    "slideshow": {
     "slide_type": "slide"
    }
   },
   "source": [
    "## Querying Relational Databases\n",
    "\n",
    "- Databases usually have multiple tables\n",
    "- Tables have different but related data\n",
    "- Often reference or relate to each other by a key\n",
    "- Make connections by **JOIN**ing\n"
   ]
  },
  {
   "cell_type": "markdown",
   "metadata": {
    "slideshow": {
     "slide_type": "slide"
    }
   },
   "source": [
    "## movielens data set\n",
    "\n",
    "- Full dataset: [grouplens.org/datasets/movielens](http://grouplens.org/datasets/movielens/)\n",
    "    - 27,000 movies\n",
    "    - 470,000 tags\n",
    "    - 21,000,000 ratings\n",
    "    - by 230,000 users - anonymized\n",
    "- We'll be working with a subset in SQLite format **movielens-small**"
   ]
  },
  {
   "cell_type": "markdown",
   "metadata": {
    "slideshow": {
     "slide_type": "slide"
    }
   },
   "source": [
    "## Reading the data\n",
    "\n",
    "Open the **querying-movielens.ipynb** notebook from the [day2-data.zip file](http://cliburn.github.io/cfar-data-workshop-2015/)\n",
    "\n"
   ]
  },
  {
   "cell_type": "code",
   "execution_count": 3,
   "metadata": {
    "collapsed": true
   },
   "outputs": [],
   "source": [
    "from sqlite_utils import SQLiteDatabase\n",
    "ml = SQLiteDatabase('movielens-small.db')"
   ]
  },
  {
   "cell_type": "code",
   "execution_count": null,
   "metadata": {
    "collapsed": false,
    "slideshow": {
     "slide_type": "fragment"
    }
   },
   "outputs": [],
   "source": [
    "# Know your limits\n",
    "ml.query(\"SELECT * FROM movies\")"
   ]
  },
  {
   "cell_type": "markdown",
   "metadata": {
    "slideshow": {
     "slide_type": "slide"
    }
   },
   "source": [
    "### Review on row order\n",
    "\n",
    "- No inherent order in the rows - reference them by a unique value and not a position.\n",
    "- movieId is a **PRIMARY KEY**. It's an identifier that must be different for every movie\n",
    "- Can order by multiple columns, let's try year then title...\n"
   ]
  },
  {
   "cell_type": "markdown",
   "metadata": {
    "slideshow": {
     "slide_type": "slide"
    }
   },
   "source": [
    "### Exercise:\n",
    "\n",
    "Query (`SELECT`) the **movies** table, sorting by **year** (newest first) then **title** (A-Z)\n",
    "\n",
    "`... ORDER BY <column 1> (ASC|DESC), <column 2> (ASC|DESC)`\n",
    "\n",
    "What's the first movie listed? The last?"
   ]
  },
  {
   "cell_type": "code",
   "execution_count": null,
   "metadata": {
    "collapsed": false
   },
   "outputs": [],
   "source": [
    "# movies by year (newest) then by title (a-z)\n",
    "ml.query('')"
   ]
  },
  {
   "cell_type": "code",
   "execution_count": null,
   "metadata": {
    "collapsed": true,
    "slideshow": {
     "slide_type": "slide"
    }
   },
   "outputs": [],
   "source": [
    "# Continue exploring - ratings?"
   ]
  },
  {
   "cell_type": "code",
   "execution_count": null,
   "metadata": {
    "collapsed": false,
    "slideshow": {
     "slide_type": "fragment"
    }
   },
   "outputs": [],
   "source": [
    "ml.query(\"SELECT * FROM ratings\")"
   ]
  },
  {
   "cell_type": "markdown",
   "metadata": {
    "slideshow": {
     "slide_type": "fragment"
    }
   },
   "source": [
    "## Ratings table\n",
    "\n",
    "- The rating itself is a number (e.g. number of stars)\n",
    "- Each rating has a **userId**, **movieId**, and **timestamp**\n",
    "    - Timestamp is seconds since Jan 1, 1970\n"
   ]
  },
  {
   "cell_type": "code",
   "execution_count": null,
   "metadata": {
    "collapsed": true,
    "slideshow": {
     "slide_type": "fragment"
    }
   },
   "outputs": [],
   "source": [
    "# Can convert with python\n",
    "import time\n",
    "time.ctime(980730861)"
   ]
  },
  {
   "cell_type": "code",
   "execution_count": null,
   "metadata": {
    "collapsed": false,
    "slideshow": {
     "slide_type": "fragment"
    }
   },
   "outputs": [],
   "source": [
    "# Or in SQL:\n",
    "ml.query(\"SELECT *, datetime(timestamp, 'unixepoch') as date from ratings limit 3\")"
   ]
  },
  {
   "cell_type": "markdown",
   "metadata": {
    "slideshow": {
     "slide_type": "fragment"
    }
   },
   "source": [
    "### Relationship to movies\n",
    "- We have a **movies** table also with a **movieId**\n",
    "- We can look up ratings for a movie, but we need to know its **movieId**\n",
    "\n",
    "That common **movieId** column is a **KEY**\n",
    "\n",
    "- In the **movies** table, it's a **PRIMARY KEY**\n",
    "- In the **ratings** table, it's a **FOREIGN KEY**"
   ]
  },
  {
   "cell_type": "markdown",
   "metadata": {
    "slideshow": {
     "slide_type": "slide"
    }
   },
   "source": [
    "## Exercise: Relational Data\n",
    "\n",
    "Look up a favorite movie and find newest and oldest rating.\n",
    "\n",
    "Tips:\n",
    "- Titles like **The Godfather** are listed as **Godfather, The**\n",
    "- Sorting the **timestamp** column can be used to find the oldest (ASC) or newest (DESC)\n",
    "- Can use `datetime(timestamp, 'unixepoch')`"
   ]
  },
  {
   "cell_type": "code",
   "execution_count": null,
   "metadata": {
    "collapsed": false,
    "slideshow": {
     "slide_type": "fragment"
    }
   },
   "outputs": [],
   "source": [
    "ml.query(\"SELECT * FROM ratings WHERE _ = _ ORDER BY _ DESC\")"
   ]
  },
  {
   "cell_type": "markdown",
   "metadata": {
    "slideshow": {
     "slide_type": "slide"
    }
   },
   "source": [
    "### Aggregate Functions\n",
    "\n",
    "- Not practical to query/scan individual ratings\n",
    "- Even with Pandas, you may not want hold the dataset in memory. Ask for what you want.\n",
    "- Functions like average, count, can be part of the query."
   ]
  },
  {
   "cell_type": "markdown",
   "metadata": {
    "slideshow": {
     "slide_type": "fragment"
    }
   },
   "source": [
    "[SQLite Aggregate Functions](https://www.sqlite.org/lang_aggfunc.html)\n",
    "\n",
    "- avg\n",
    "- count\n",
    "- max / min\n",
    "- sum\n",
    "- group_concat "
   ]
  },
  {
   "cell_type": "code",
   "execution_count": null,
   "metadata": {
    "collapsed": false,
    "slideshow": {
     "slide_type": "fragment"
    }
   },
   "outputs": [],
   "source": [
    "ml.query(\"SELECT COUNT(*) FROM ratings WHERE movieId = ___\")\n",
    "# How many ratings does your movie have?\n",
    "# What's the average rating for your movie?"
   ]
  },
  {
   "cell_type": "markdown",
   "metadata": {
    "slideshow": {
     "slide_type": "slide"
    }
   },
   "source": [
    "### Distinct\n",
    "\n",
    "Distinct is often used with these aggregate functions, especially with values that repeat across rows, like a year."
   ]
  },
  {
   "cell_type": "code",
   "execution_count": null,
   "metadata": {
    "collapsed": false,
    "slideshow": {
     "slide_type": "fragment"
    }
   },
   "outputs": [],
   "source": [
    " # How many years in the table? What's the max and min?\n",
    "ml.query(\"SELECT COUNT(year) FROM movies\")"
   ]
  },
  {
   "cell_type": "code",
   "execution_count": null,
   "metadata": {
    "collapsed": false,
    "slideshow": {
     "slide_type": "fragment"
    }
   },
   "outputs": [],
   "source": [
    "# Seems like a lot, what's the span?\n",
    "ml.query(\"SELECT year FROM movies limit 10\")"
   ]
  },
  {
   "cell_type": "markdown",
   "metadata": {
    "collapsed": false,
    "slideshow": {
     "slide_type": "slide"
    }
   },
   "source": [
    "### Exercise: Aggregates\n",
    "\n",
    "The full dataset has:\n",
    "- 27,000 movies\n",
    "- 470,000 tags\n",
    "- 21,000,000 ratings\n",
    "- by 230,000 users\n",
    "\n",
    "\n",
    "1. What are these statistics for the tables in your database?\n",
    "2. What's the average rating for all movies?\n",
    "3. If each rating is a star, how many **total** stars have been given for **Shawshank Redemption, The**\n",
    "4. What's the date of the oldest rating? The newest?\n",
    "\n",
    "Hint:\n",
    "- No users table but userIds exist in ratings\n"
   ]
  },
  {
   "cell_type": "markdown",
   "metadata": {
    "slideshow": {
     "slide_type": "slide"
    }
   },
   "source": [
    "# Querying Multiple Tables\n",
    "\n",
    "Joins and keys"
   ]
  },
  {
   "cell_type": "markdown",
   "metadata": {
    "slideshow": {
     "slide_type": "fragment"
    }
   },
   "source": [
    "The real power of relational databases is in the **relations**.\n",
    "\n",
    "movies and ratings are related, but there are other tables:\n",
    "\n",
    "- movies:links is 1:1\n",
    "- movies:ratings 1:Many\n",
    "- movies:tags is Many:Many\n",
    "\n",
    "Connect related tables in a single query, with a **JOIN**"
   ]
  },
  {
   "cell_type": "markdown",
   "metadata": {
    "slideshow": {
     "slide_type": "slide"
    }
   },
   "source": [
    "### JOIN Query\n",
    "\n",
    "Let's have a look at the links table, and see how we can get the IMDB link for some movies in the table."
   ]
  },
  {
   "cell_type": "code",
   "execution_count": null,
   "metadata": {
    "collapsed": false,
    "slideshow": {
     "slide_type": "fragment"
    }
   },
   "outputs": [],
   "source": [
    "# Start with SELECT movies.title FROM movies\n",
    "# JOIN links ON movies.movieId = links.movieId"
   ]
  },
  {
   "cell_type": "code",
   "execution_count": null,
   "metadata": {
    "collapsed": false,
    "slideshow": {
     "slide_type": "fragment"
    }
   },
   "outputs": [],
   "source": [
    "movies_links = '''\n",
    "SELECT movies.title, links.*\n",
    "FROM movies\n",
    "JOIN links on movies.movieId = links.movieId\n",
    "'''\n",
    "ml.query(movies_links)"
   ]
  },
  {
   "cell_type": "markdown",
   "metadata": {
    "slideshow": {
     "slide_type": "slide"
    }
   },
   "source": [
    "### Exercise\n",
    "\n",
    "Write a query that JOINs movies and links to print titles and links for each of the Star Wars movies"
   ]
  },
  {
   "cell_type": "code",
   "execution_count": null,
   "metadata": {
    "collapsed": false,
    "slideshow": {
     "slide_type": "fragment"
    }
   },
   "outputs": [],
   "source": [
    "starwars_links = '''\n",
    "SELECT \n",
    "FROM\n",
    "JOIN\n",
    "WHERE\n",
    "'''\n",
    "ml.query(starwars_links)"
   ]
  },
  {
   "cell_type": "code",
   "execution_count": null,
   "metadata": {
    "collapsed": false,
    "slideshow": {
     "slide_type": "fragment"
    }
   },
   "outputs": [],
   "source": [
    "starwars_links = '''\n",
    "SELECT\n",
    "    movies.title,\n",
    "    links.*\n",
    "FROM movies\n",
    "JOIN links on movies.movieId = links.movieId\n",
    "WHERE movies.title like 'Star Wars%'\n",
    "ORDER BY movies.title asc\n",
    "'''\n",
    "ml.query(starwars_links)"
   ]
  },
  {
   "cell_type": "markdown",
   "metadata": {
    "slideshow": {
     "slide_type": "slide"
    }
   },
   "source": [
    "### Joins and Aggregates\n",
    "\n",
    "We can join tables and we can run aggregate functions like AVG/COUNT, useful to put those together.\n",
    "\n",
    "Average rating for all the star wars movies"
   ]
  },
  {
   "cell_type": "code",
   "execution_count": null,
   "metadata": {
    "collapsed": false,
    "slideshow": {
     "slide_type": "fragment"
    }
   },
   "outputs": [],
   "source": [
    "# Start with a query, then add the aggregates\n",
    "ratings_query = '''\n",
    "SELECT ratings.rating\n",
    "FROM movies\n",
    "JOIN ratings ON movies.movieId = ratings.movieId\n",
    "WHERE movies.title like 'Star Wars: Episode%'\n",
    "'''\n",
    "ml.query(ratings_query)"
   ]
  },
  {
   "cell_type": "markdown",
   "metadata": {
    "slideshow": {
     "slide_type": "fragment"
    }
   },
   "source": [
    "### Exercise\n",
    "\n",
    "Starting with the average ratings of Star Wars query:\n",
    "\n",
    "1. How many ratings? How many total stars?\n",
    "2. How does the average rating of the first 3 (before 1999) compare to the second 3 (after 1999)?\n",
    "4. How does the average rating of these movies compare to the Godfather trilogy?\n"
   ]
  },
  {
   "cell_type": "markdown",
   "metadata": {
    "slideshow": {
     "slide_type": "slide"
    }
   },
   "source": [
    "## Grouping\n",
    "\n",
    "When aggregating, often makes sense aggregate groups of data instead of whole dataset\n",
    "\n",
    "For example: average rating for each movie instead of all movies\n",
    "\n",
    "This is called grouping, we covered it in Pandas, and it's also possible in SQL.\n"
   ]
  },
  {
   "cell_type": "code",
   "execution_count": null,
   "metadata": {
    "collapsed": false,
    "slideshow": {
     "slide_type": "fragment"
    }
   },
   "outputs": [],
   "source": [
    "ml.query('select year, count(*) FROM movies GROUP BY year')"
   ]
  },
  {
   "cell_type": "markdown",
   "metadata": {
    "slideshow": {
     "slide_type": "slide"
    }
   },
   "source": [
    "### Exercise: Grouping with Joins\n",
    "\n",
    "Grouping works with any query, not just single-tables. \n",
    "\n",
    "Let's apply this to the ratings query from earlier, and see what that looks like\n",
    "\n",
    "1. Include title (I'll get you started)\n",
    "2. Include year\n",
    "3. Include number of ratings as **num_ratings**\n",
    "4. Order by the average rating (highest first)\n",
    "5. Order by the most ratings (highest first)"
   ]
  },
  {
   "cell_type": "code",
   "execution_count": null,
   "metadata": {
    "collapsed": false,
    "slideshow": {
     "slide_type": "fragment"
    }
   },
   "outputs": [],
   "source": [
    "ratings_query = '''\n",
    "SELECT avg(ratings.rating) AS avg_rating\n",
    "FROM movies\n",
    "JOIN ratings ON movies.movieId = ratings.movieId\n",
    "WHERE movies.title like 'Star Wars: Episode%'\n",
    "'''\n",
    "ml.query(ratings_query)"
   ]
  },
  {
   "cell_type": "markdown",
   "metadata": {
    "slideshow": {
     "slide_type": "slide"
    }
   },
   "source": [
    "### 5 Highest-Rated Movies\n",
    "\n",
    "Let's write a query to find the 5 highest rated movies\n",
    "\n",
    "We're pretty close, just need to remove the WHERE clause and add a LIMIT, right?"
   ]
  },
  {
   "cell_type": "code",
   "execution_count": null,
   "metadata": {
    "collapsed": false,
    "slideshow": {
     "slide_type": "slide"
    }
   },
   "outputs": [],
   "source": [
    "# 5 highest rated movies\n",
    "ratings_query = '''\n",
    "SELECT \n",
    "    movies.title, \n",
    "    avg(ratings.rating) AS avg_rating\n",
    "FROM movies\n",
    "JOIN ratings ON movies.movieId = ratings.movieId\n",
    "GROUP BY movies.title \n",
    "ORDER BY avg_rating DESC\n",
    "LIMIT 5\n",
    "'''\n",
    "ml.query(ratings_query)"
   ]
  },
  {
   "cell_type": "markdown",
   "metadata": {
    "slideshow": {
     "slide_type": "fragment"
    }
   },
   "source": [
    "### HAVING\n",
    "- A WHERE clause for aggregates\n"
   ]
  },
  {
   "cell_type": "markdown",
   "metadata": {
    "slideshow": {
     "slide_type": "slide"
    }
   },
   "source": [
    "### Exercises\n",
    "\n",
    "- Get movies with over 100 ratings and at least a 4 star average\n",
    "- Get movies with at least 15 tags\n",
    "- Include those tags with group_concat function"
   ]
  },
  {
   "cell_type": "code",
   "execution_count": null,
   "metadata": {
    "collapsed": false,
    "slideshow": {
     "slide_type": "fragment"
    }
   },
   "outputs": [],
   "source": [
    "ratings_query = '''\n",
    "SELECT \n",
    "    movies.title, \n",
    "    movies.year,\n",
    "    count(tags.tag) AS num_tags\n",
    "FROM\n",
    "    movies\n",
    "JOIN\n",
    "    tags ON movies.movieId = tags.movieId\n",
    "GROUP BY\n",
    "    movies.title\n",
    "order by year\n",
    "'''\n",
    "ml.query(ratings_query)"
   ]
  },
  {
   "cell_type": "markdown",
   "metadata": {
    "slideshow": {
     "slide_type": "slide"
    }
   },
   "source": [
    "### Putting it all together\n",
    "\n",
    "- Plotting avg score by year\n",
    "\n"
   ]
  },
  {
   "cell_type": "code",
   "execution_count": 9,
   "metadata": {
    "collapsed": true,
    "slideshow": {
     "slide_type": "fragment"
    }
   },
   "outputs": [],
   "source": [
    "# Imports for pandas, sqlite, and plt\n",
    "import pandas as pd\n",
    "from pandas import DataFrame as df\n",
    "import sqlite3\n",
    "import matplotlib.pyplot as plt"
   ]
  },
  {
   "cell_type": "code",
   "execution_count": null,
   "metadata": {
    "collapsed": false,
    "slideshow": {
     "slide_type": "fragment"
    }
   },
   "outputs": [],
   "source": [
    "# Build up the query as a string\n",
    "ratings_query = '''\n",
    "SELECT \n",
    "    movies.year,\n",
    "    avg(ratings.rating) as avg_rating,\n",
    "    count(ratings.rating) as num_ratings\n",
    "FROM\n",
    "    movies\n",
    "JOIN\n",
    "    ratings ON movies.movieId = ratings.movieId\n",
    "GROUP BY\n",
    "    movies.year\n",
    "order by year\n",
    "'''\n",
    "\n",
    "# Create a Data Frame from the query\n",
    "conn = sqlite3.connect('movielens-small.db')\n",
    "ratings_by_year = pd.read_sql_query(ratings_query, conn)\n",
    "conn.close()\n"
   ]
  },
  {
   "cell_type": "code",
   "execution_count": null,
   "metadata": {
    "collapsed": false,
    "slideshow": {
     "slide_type": "fragment"
    }
   },
   "outputs": [],
   "source": [
    "# Tell Matplotlib to plot inline\n",
    "%matplotlib inline\n",
    "\n",
    "# Generate some plots from the data frame\n",
    "ratings_by_year.plot(kind='line', x='year', y='num_ratings', xlim=(1900,2020), figsize=(16,4))\n",
    "plt.xlabel('Year')\n",
    "plt.ylabel('Number of Ratings')\n",
    "\n",
    "ratings_by_year.plot(kind='scatter', x='year', y='avg_rating', xlim=(1900,2020), ylim=(0,5), figsize=(16,4))\n",
    "plt.xlabel('Year')\n",
    "plt.ylabel('Average Rating')\n",
    "\n",
    "pass"
   ]
  },
  {
   "cell_type": "code",
   "execution_count": null,
   "metadata": {
    "collapsed": false,
    "slideshow": {
     "slide_type": "slide"
    }
   },
   "outputs": [],
   "source": [
    "ratings_by_year.info()"
   ]
  },
  {
   "cell_type": "code",
   "execution_count": null,
   "metadata": {
    "collapsed": false,
    "slideshow": {
     "slide_type": "fragment"
    }
   },
   "outputs": [],
   "source": [
    "big_query = '''\n",
    "SELECT \n",
    "    movies.year,\n",
    "    ratings.rating\n",
    "FROM\n",
    "    movies\n",
    "JOIN\n",
    "    ratings ON movies.movieId = ratings.movieId\n",
    "order by year'''\n",
    "conn = sqlite3.connect('movielens-small.db')\n",
    "all_ratings_and_year = pd.read_sql_query(big_query, conn)\n",
    "conn.close()\n",
    "\n",
    "all_ratings_and_year.info()"
   ]
  }
 ],
 "metadata": {
  "celltoolbar": "Slideshow",
  "kernelspec": {
   "display_name": "Python 2",
   "language": "python",
   "name": "python2"
  },
  "language_info": {
   "codemirror_mode": {
    "name": "ipython",
    "version": 2
   },
   "file_extension": ".py",
   "mimetype": "text/x-python",
   "name": "python",
   "nbconvert_exporter": "python",
   "pygments_lexer": "ipython2",
   "version": "2.7.10"
  }
 },
 "nbformat": 4,
 "nbformat_minor": 0
}
