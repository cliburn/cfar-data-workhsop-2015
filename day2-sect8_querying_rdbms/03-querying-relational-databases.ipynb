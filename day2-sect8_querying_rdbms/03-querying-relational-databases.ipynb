{
 "cells": [
  {
   "cell_type": "markdown",
   "metadata": {
    "slideshow": {
     "slide_type": "slide"
    }
   },
   "source": [
    "## Querying Relational Databases\n",
    "\n",
    "- Databases usually have multiple tables\n",
    "- Tables have different but related data\n",
    "- Often reference or relate to each other by a key\n",
    "- Make connections by **JOIN**ing\n"
   ]
  },
  {
   "cell_type": "markdown",
   "metadata": {
    "slideshow": {
     "slide_type": "slide"
    }
   },
   "source": [
    "## movielens data set\n",
    "\n",
    "- Full dataset: [grouplens.org/datasets/movielens](http://grouplens.org/datasets/movielens/)\n",
    "    - 27,000 movies\n",
    "    - 470,000 tags\n",
    "    - 21,000,000 ratings\n",
    "    - by 230,000 users - anonymized\n",
    "- We'll be working with a subset in SQLite format **movielens-small**"
   ]
  },
  {
   "cell_type": "markdown",
   "metadata": {
    "slideshow": {
     "slide_type": "slide"
    }
   },
   "source": [
    "## Reading the data\n",
    "\n",
    "- Launch **sqlite3** and open **movielens-small.db**\n",
    "\n",
    "Tips:\n",
    "    \n",
    "    .open movielens-small.db\n",
    "    .mode column\n",
    "    .headers on\n",
    "    .tables"
   ]
  },
  {
   "cell_type": "code",
   "execution_count": 25,
   "metadata": {
    "collapsed": false,
    "slideshow": {
     "slide_type": "fragment"
    }
   },
   "outputs": [
    {
     "data": {
      "text/html": [
       "<table><tr><th>movieId</th><th>title</th><th>year</th><th>genres</th></tr><tr><td>1</td><td>Toy Story</td><td>1995</td><td>Adventure|Animation|Children|Comedy|Fantasy</td></tr><tr><td>2</td><td>Jumanji</td><td>1995</td><td>Adventure|Children|Fantasy</td></tr><tr><td>3</td><td>Grumpier Old Men</td><td>1995</td><td>Comedy|Romance</td></tr></table>"
      ],
      "text/plain": [
       "<sqlite_utils.CursorTable at 0x103e2e310>"
      ]
     },
     "execution_count": 25,
     "metadata": {},
     "output_type": "execute_result"
    }
   ],
   "source": [
    "from sqlite_utils import SQLiteDatabase\n",
    "ml = SQLiteDatabase('movielens-small.db')\n",
    "ml.query(\"SELECT * FROM movies LIMIT 3\")"
   ]
  },
  {
   "cell_type": "markdown",
   "metadata": {
    "slideshow": {
     "slide_type": "slide"
    }
   },
   "source": [
    "### Review on row order\n",
    "\n",
    "- No inherent order in the rows - reference them by a unique value and not a position.\n",
    "- movieId is a **PRIMARY KEY**. It's an identifier that must be different for every movie\n",
    "- Can order by multiple columns, let's try year then title\n"
   ]
  },
  {
   "cell_type": "markdown",
   "metadata": {
    "slideshow": {
     "slide_type": "fragment"
    }
   },
   "source": [
    "### Exercise:\n",
    "\n",
    "Query (`SELECT`) the **movies** table by **year** (newest first) then **title**\n",
    "\n",
    "`... ORDER BY <column 1> (ASC|DESC), <column 2> (ASC|DESC)`\n",
    "\n",
    "What's the first movie listed? The last?\n",
    "\n",
    "Bonus: **null** comes first. Filter out movies **`where year is null`**"
   ]
  },
  {
   "cell_type": "code",
   "execution_count": 26,
   "metadata": {
    "collapsed": false,
    "slideshow": {
     "slide_type": "slide"
    }
   },
   "outputs": [
    {
     "data": {
      "text/html": [
       "<table><tr><th>userId</th><th>movieId</th><th>rating</th><th>timestamp</th></tr><tr><td>1</td><td>6</td><td>2.0</td><td>980730861</td></tr><tr><td>1</td><td>22</td><td>3.0</td><td>980731380</td></tr><tr><td>1</td><td>32</td><td>2.0</td><td>980731926</td></tr></table>"
      ],
      "text/plain": [
       "<sqlite_utils.CursorTable at 0x101e564d0>"
      ]
     },
     "execution_count": 26,
     "metadata": {},
     "output_type": "execute_result"
    }
   ],
   "source": [
    "ml.query(\"SELECT * FROM ratings limit 3\")"
   ]
  },
  {
   "cell_type": "markdown",
   "metadata": {
    "slideshow": {
     "slide_type": "fragment"
    }
   },
   "source": [
    "## Ratings table\n",
    "\n",
    "- The rating itself is a number (e.g. number of stars)\n",
    "- Each rating has a **userId**, **movieId**, and **timestamp**\n",
    "- We have a **movies** table also with a **movieId**\n",
    "- We can look up ratings for a movie, but we need to know its **movieId**\n",
    "\n",
    "That common **movieId** column is a **KEY**\n",
    "\n",
    "- In the **movies** table, it's a **PRIMARY KEY**\n",
    "- In the **ratings** table, it's a **FOREIGN KEY**\n"
   ]
  },
  {
   "cell_type": "markdown",
   "metadata": {
    "slideshow": {
     "slide_type": "slide"
    }
   },
   "source": [
    "## Exercise: Relational Data\n",
    "\n",
    "Look up a favorite movie and find its most recent rating.\n",
    "\n",
    "Tips:\n",
    "- Titles like **The Godfather** are listed as **Godfather, The**\n",
    "- Sorting the **timestamp** column can be used to find the oldest (ASC) or newest (DESC)\n"
   ]
  },
  {
   "cell_type": "markdown",
   "metadata": {
    "slideshow": {
     "slide_type": "fragment"
    }
   },
   "source": [
    "`SELECT * FROM ratings WHERE _____ = __ ORDER BY ___ DESC limit ___;`"
   ]
  },
  {
   "cell_type": "code",
   "execution_count": null,
   "metadata": {
    "collapsed": false,
    "slideshow": {
     "slide_type": "slide"
    }
   },
   "outputs": [],
   "source": [
    "ml.query(\"SELECT * FROM links limit 3\")"
   ]
  },
  {
   "cell_type": "markdown",
   "metadata": {
    "slideshow": {
     "slide_type": "slide"
    }
   },
   "source": [
    "### Aggregate Functions\n",
    "\n",
    "We covered calculations that work across columns, but just like Pandas, there are also aggregate functions\n",
    "\n",
    "[SQLite Aggregate Functions](https://www.sqlite.org/lang_aggfunc.html)\n",
    "\n",
    "- avg\n",
    "- count\n",
    "- max / min\n",
    "- sum / total\n",
    "\n",
    "And\n",
    "\n",
    "- DISTINCT\n",
    "\n",
    "Let's \n",
    "\n",
    "Duplicate titles?"
   ]
  },
  {
   "cell_type": "code",
   "execution_count": null,
   "metadata": {
    "collapsed": false
   },
   "outputs": [],
   "source": [
    "ml.query(\"SELECT COUNT(*) FROM movies WHERE year = 2003\")"
   ]
  },
  {
   "cell_type": "markdown",
   "metadata": {},
   "source": [
    "# Joins\n",
    "\n",
    "This database, like most useful relational databases, has data in different tables, and those tables relate to each other. The movies table has the titles for each movie, but the other tables have data about those movies\n",
    "\n",
    "- Movies:Links is 1:1\n",
    "- Movies:Ratings 1:Many\n",
    "- Movies:Tags is Many:Many\n",
    "\n",
    "Let's explore this with distinct counts\n",
    "\n",
    "First do links because it's 1:1. Talk about doing a simple join to get the title and the IMDB link"
   ]
  },
  {
   "cell_type": "code",
   "execution_count": null,
   "metadata": {
    "collapsed": false
   },
   "outputs": [],
   "source": [
    "ml.query('SELECT COUNT(DISTINCT(movieId)), COUNT(*) from links')"
   ]
  },
  {
   "cell_type": "code",
   "execution_count": null,
   "metadata": {
    "collapsed": false
   },
   "outputs": [],
   "source": [
    "ml.query('SELECT COUNT(DISTINCT(movieId)), COUNT(*) from ratings')"
   ]
  },
  {
   "cell_type": "code",
   "execution_count": null,
   "metadata": {
    "collapsed": false
   },
   "outputs": [],
   "source": [
    "ml.query('SELECT COUNT(DISTINCT(movieId)), COUNT(DISTINCT(tag)), COUNT(*) from tags')"
   ]
  },
  {
   "cell_type": "markdown",
   "metadata": {},
   "source": [
    "Perhaps final example. Only thing left to do would be to join on tags.\n",
    "Reminder - you don't need to see everything to include it in the query"
   ]
  },
  {
   "cell_type": "code",
   "execution_count": null,
   "metadata": {
    "collapsed": false
   },
   "outputs": [],
   "source": [
    "ratings_query = '''\n",
    "SELECT \n",
    "    movies.title, \n",
    "    count(ratings.rating) AS num_ratings, \n",
    "    avg(ratings.rating) AS avg_rating\n",
    "FROM movies\n",
    "JOIN ratings ON movies.movieId = ratings.movieId\n",
    "GROUP BY movies.title \n",
    "HAVING count(ratings.rating) > 100 \n",
    "ORDER BY avg_rating DESC limit 10\n",
    "'''\n",
    "ml.query(ratings_query)"
   ]
  },
  {
   "cell_type": "markdown",
   "metadata": {
    "collapsed": true
   },
   "source": [
    "## Filtering Data\n",
    "\n",
    "- Simple filtering: col = value\n",
    "- LIKE, IN, comparisons\n"
   ]
  },
  {
   "cell_type": "markdown",
   "metadata": {},
   "source": [
    "## Sorting Data\n",
    "\n",
    "- Multiple sorts, ordering matters"
   ]
  },
  {
   "cell_type": "markdown",
   "metadata": {},
   "source": [
    "## Aggregation\n",
    "\n",
    "- DISTINCT\n",
    "- AVG"
   ]
  },
  {
   "cell_type": "markdown",
   "metadata": {},
   "source": [
    "## Joins\n",
    "\n",
    "This is the relationship in relational database management systems"
   ]
  },
  {
   "cell_type": "code",
   "execution_count": null,
   "metadata": {
    "collapsed": true
   },
   "outputs": [],
   "source": []
  },
  {
   "cell_type": "code",
   "execution_count": null,
   "metadata": {
    "collapsed": true
   },
   "outputs": [],
   "source": []
  },
  {
   "cell_type": "code",
   "execution_count": null,
   "metadata": {
    "collapsed": true
   },
   "outputs": [],
   "source": []
  }
 ],
 "metadata": {
  "celltoolbar": "Slideshow",
  "kernelspec": {
   "display_name": "Python 2",
   "language": "python",
   "name": "python2"
  },
  "language_info": {
   "codemirror_mode": {
    "name": "ipython",
    "version": 2
   },
   "file_extension": ".py",
   "mimetype": "text/x-python",
   "name": "python",
   "nbconvert_exporter": "python",
   "pygments_lexer": "ipython2",
   "version": "2.7.6"
  }
 },
 "nbformat": 4,
 "nbformat_minor": 0
}
