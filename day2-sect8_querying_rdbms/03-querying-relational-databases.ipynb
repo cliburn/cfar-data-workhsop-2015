{
 "cells": [
  {
   "cell_type": "markdown",
   "metadata": {
    "slideshow": {
     "slide_type": "slide"
    }
   },
   "source": [
    "## Querying Relational Databases\n",
    "\n",
    "- Databases usually have multiple tables\n",
    "- Tables have different but related data\n",
    "- Often reference or relate to each other by a key\n",
    "- Make connections by **JOIN**ing\n"
   ]
  },
  {
   "cell_type": "markdown",
   "metadata": {
    "slideshow": {
     "slide_type": "slide"
    }
   },
   "source": [
    "## movielens data set\n",
    "\n",
    "- Full dataset: [grouplens.org/datasets/movielens](http://grouplens.org/datasets/movielens/)\n",
    "    - 27,000 movies\n",
    "    - 470,000 tags\n",
    "    - 21,000,000 ratings\n",
    "    - by 230,000 users - anonymized\n",
    "- We'll be working with a subset in SQLite format **movielens-small**"
   ]
  },
  {
   "cell_type": "markdown",
   "metadata": {
    "slideshow": {
     "slide_type": "slide"
    }
   },
   "source": [
    "## Reading the data\n",
    "\n",
    "- Launch **sqlite3** and open **movielens-small.db**\n",
    "\n",
    "Tips:\n",
    "    \n",
    "    .open movielens-small.db\n",
    "    .mode column\n",
    "    .headers on\n",
    "    .tables"
   ]
  },
  {
   "cell_type": "code",
   "execution_count": null,
   "metadata": {
    "collapsed": false,
    "slideshow": {
     "slide_type": "fragment"
    }
   },
   "outputs": [],
   "source": [
    "from sqlite_utils import SQLiteDatabase\n",
    "ml = SQLiteDatabase('movielens-small.db')\n",
    "ml.query(\"SELECT * FROM movies LIMIT 3\")"
   ]
  },
  {
   "cell_type": "markdown",
   "metadata": {
    "slideshow": {
     "slide_type": "slide"
    }
   },
   "source": [
    "### Review on row order\n",
    "\n",
    "- No inherent order in the rows - reference them by a unique value and not a position.\n",
    "- movieId is a **PRIMARY KEY**. It's an identifier that must be different for every movie\n",
    "- Can order by multiple columns, let's try year then title\n"
   ]
  },
  {
   "cell_type": "markdown",
   "metadata": {
    "slideshow": {
     "slide_type": "slide"
    }
   },
   "source": [
    "### Exercise:\n",
    "\n",
    "Query (`SELECT`) the **movies** table by **year** (newest first) then **title**\n",
    "\n",
    "`... ORDER BY <column 1> (ASC|DESC), <column 2> (ASC|DESC)`\n",
    "\n",
    "What's the first movie listed? The last?\n",
    "\n",
    "Bonus: **null** comes first. Filter out movies **`where year is null`**"
   ]
  },
  {
   "cell_type": "code",
   "execution_count": null,
   "metadata": {
    "collapsed": false
   },
   "outputs": [],
   "source": [
    "ml.query('')"
   ]
  },
  {
   "cell_type": "code",
   "execution_count": null,
   "metadata": {
    "collapsed": false,
    "slideshow": {
     "slide_type": "slide"
    }
   },
   "outputs": [],
   "source": [
    "ml.query(\"SELECT * FROM ratings limit 3\")"
   ]
  },
  {
   "cell_type": "markdown",
   "metadata": {
    "slideshow": {
     "slide_type": "fragment"
    }
   },
   "source": [
    "## Ratings table\n",
    "\n",
    "- The rating itself is a number (e.g. number of stars)\n",
    "- Each rating has a **userId**, **movieId**, and **timestamp**\n",
    "- We have a **movies** table also with a **movieId**\n",
    "- We can look up ratings for a movie, but we need to know its **movieId**\n",
    "\n",
    "That common **movieId** column is a **KEY**\n",
    "\n",
    "- In the **movies** table, it's a **PRIMARY KEY**\n",
    "- In the **ratings** table, it's a **FOREIGN KEY**\n"
   ]
  },
  {
   "cell_type": "markdown",
   "metadata": {
    "slideshow": {
     "slide_type": "slide"
    }
   },
   "source": [
    "## Exercise: Relational Data\n",
    "\n",
    "Look up a favorite movie and find newest and oldest rating.\n",
    "\n",
    "Tips:\n",
    "- Titles like **The Godfather** are listed as **Godfather, The**\n",
    "- Sorting the **timestamp** column can be used to find the oldest (ASC) or newest (DESC)\n"
   ]
  },
  {
   "cell_type": "code",
   "execution_count": null,
   "metadata": {
    "collapsed": false,
    "slideshow": {
     "slide_type": "fragment"
    }
   },
   "outputs": [],
   "source": [
    "ml.query(\"SELECT * FROM ratings WHERE _____ = __ ORDER BY ___ DESC limit ___\")"
   ]
  },
  {
   "cell_type": "markdown",
   "metadata": {
    "slideshow": {
     "slide_type": "slide"
    }
   },
   "source": [
    "### Aggregate Functions\n",
    "\n",
    "We covered calculations that work across columns, but just like Pandas, there are also functions that aggregate data in different ways.\n",
    "\n",
    "[SQLite Aggregate Functions](https://www.sqlite.org/lang_aggfunc.html)\n",
    "\n",
    "- avg\n",
    "- count\n",
    "- max / min\n",
    "- sum\n",
    "- group_concat "
   ]
  },
  {
   "cell_type": "code",
   "execution_count": null,
   "metadata": {
    "collapsed": false,
    "slideshow": {
     "slide_type": "fragment"
    }
   },
   "outputs": [],
   "source": [
    "ml.query(\"SELECT COUNT(*) FROM ratings WHERE movieId = ___\")\n",
    "# How many ratings does your movie have?\n",
    "# What's the average rating for your movie?"
   ]
  },
  {
   "cell_type": "markdown",
   "metadata": {
    "slideshow": {
     "slide_type": "slide"
    }
   },
   "source": [
    "### Distinct\n",
    "\n",
    "Distinct is often used with these aggregate functions, especially with data that repeats, like a year."
   ]
  },
  {
   "cell_type": "code",
   "execution_count": null,
   "metadata": {
    "collapsed": false,
    "slideshow": {
     "slide_type": "fragment"
    }
   },
   "outputs": [],
   "source": [
    "ml.query(\"SELECT COUNT(year) FROM movies\") # How many years is this?"
   ]
  },
  {
   "cell_type": "code",
   "execution_count": null,
   "metadata": {
    "collapsed": false,
    "slideshow": {
     "slide_type": "fragment"
    }
   },
   "outputs": [],
   "source": [
    "ml.query(\"SELECT year FROM movies limit 10\") # Let's see why"
   ]
  },
  {
   "cell_type": "markdown",
   "metadata": {
    "collapsed": false,
    "slideshow": {
     "slide_type": "slide"
    }
   },
   "source": [
    "### Exercise: Aggregates\n",
    "\n",
    "The full dataset has:\n",
    "    - 27,000 movies\n",
    "    - 470,000 tags\n",
    "    - 21,000,000 ratings\n",
    "    - by 230,000 users\n",
    "    \n",
    "1. What are these statistics for the tables in your database?\n",
    "2. What's the average rating for all movies?\n",
    "2. If each rating is a star, how many stars have been given for **Shawshank Redemption, The**\n",
    "\n",
    "Hint: there is no users table but userIds exist in the ratings table"
   ]
  },
  {
   "cell_type": "markdown",
   "metadata": {
    "slideshow": {
     "slide_type": "slide"
    }
   },
   "source": [
    "# Querying Multiple Tables\n",
    "\n",
    "Joins and keys"
   ]
  },
  {
   "cell_type": "markdown",
   "metadata": {
    "slideshow": {
     "slide_type": "fragment"
    }
   },
   "source": [
    "The real power of relational databases is in the **relations**.\n",
    "\n",
    "movies and ratings are related, but there are other tables:\n",
    "\n",
    "- movies:links is 1:1\n",
    "- movies:ratings 1:Many\n",
    "- movies:tags is Many:Many\n",
    "\n",
    "Connect related tables in a single query, with a **JOIN**"
   ]
  },
  {
   "cell_type": "markdown",
   "metadata": {
    "slideshow": {
     "slide_type": "slide"
    }
   },
   "source": [
    "Let's have a look at the links table, and see how we can get the IMDB link for some movies in the table."
   ]
  },
  {
   "cell_type": "code",
   "execution_count": null,
   "metadata": {
    "collapsed": false,
    "slideshow": {
     "slide_type": "fragment"
    }
   },
   "outputs": [],
   "source": [
    "# JOIN links ON movies.movieId = links.movieId\n",
    "ml.query('')"
   ]
  },
  {
   "cell_type": "markdown",
   "metadata": {
    "slideshow": {
     "slide_type": "slide"
    }
   },
   "source": [
    "### Exercise\n",
    "\n",
    "Write a query like the above that prints the title and tag for the star wars movies\n",
    "\n",
    "**Hint:**\n",
    "\n",
    "    SELECT title, tag FROM movies JOIN tags...\n"
   ]
  },
  {
   "cell_type": "code",
   "execution_count": null,
   "metadata": {
    "collapsed": false,
    "slideshow": {
     "slide_type": "fragment"
    }
   },
   "outputs": [],
   "source": [
    "starwars_tags = '''\n",
    "SELECT \n",
    "    movies.title,\n",
    "    tags.tag\n",
    "FROM\n",
    "    movies\n",
    "JOIN\n",
    "    tags ON movies.movieId = tags.movieId\n",
    "WHERE\n",
    "    movies.title like 'Star Wars: Episode%'\n",
    "ORDER BY\n",
    "    tag asc, year ASC\n",
    "'''\n",
    "#ml.query(starwars_tags)"
   ]
  },
  {
   "cell_type": "markdown",
   "metadata": {
    "slideshow": {
     "slide_type": "slide"
    }
   },
   "source": [
    "### Joins and Aggregates\n",
    "\n",
    "We can join tables and we can run aggregate functions like AVG/COUNT, useful to put those together.\n",
    "\n",
    "Average rating for all the star wars movies"
   ]
  },
  {
   "cell_type": "code",
   "execution_count": null,
   "metadata": {
    "collapsed": false,
    "slideshow": {
     "slide_type": "fragment"
    }
   },
   "outputs": [],
   "source": [
    "# Start with a query, then add the aggregates\n",
    "avg_ratings = '''\n",
    "SELECT \n",
    "    ratings.rating\n",
    "FROM\n",
    "    movies\n",
    "JOIN\n",
    "    ratings ON movies.movieId = ratings.movieId\n",
    "WHERE\n",
    "    movies.title like 'Star Wars: Episode%'\n",
    "'''\n",
    "ml.query(avg_ratings)"
   ]
  },
  {
   "cell_type": "markdown",
   "metadata": {
    "slideshow": {
     "slide_type": "slide"
    }
   },
   "source": [
    "### Exercise\n",
    "\n",
    "1. Include the number of ratings\n",
    "2. Order to show highest rated on top. What movie?\n",
    "3. How does the average rating of the first 3 movies compare to the second 3?\n",
    "4. How does the average rating of these movies compare to the Godfather trilogy?\n"
   ]
  },
  {
   "cell_type": "markdown",
   "metadata": {
    "slideshow": {
     "slide_type": "slide"
    }
   },
   "source": [
    "## Grouping\n",
    "\n",
    "When aggregating, often makes sense aggregate groups of data instead of whole dataset\n",
    "\n",
    "For example: 1 average rating for each movie instead of all movies\n",
    "\n",
    "This is called grouping, we covered it in Pandas, and it's also possible in SQL.\n"
   ]
  },
  {
   "cell_type": "code",
   "execution_count": null,
   "metadata": {
    "collapsed": false,
    "slideshow": {
     "slide_type": "fragment"
    }
   },
   "outputs": [],
   "source": [
    "ml.query('select year, count(*) FROM movies GROUP BY year')"
   ]
  },
  {
   "cell_type": "markdown",
   "metadata": {
    "slideshow": {
     "slide_type": "slide"
    }
   },
   "source": [
    "### Grouping with Joins\n",
    "\n",
    "Grouping works with any query, not just single-tables. \n",
    "\n",
    "Let's apply this to the ratings query from earlier, and see what that looks like\n",
    "\n",
    "1. Include title and year\n",
    "2. Include the number of ratings\n",
    "3. Order by the average rating (highest first)\n",
    "4. Order by the most ratings (highest first)"
   ]
  },
  {
   "cell_type": "code",
   "execution_count": null,
   "metadata": {
    "collapsed": false,
    "slideshow": {
     "slide_type": "fragment"
    }
   },
   "outputs": [],
   "source": [
    "star_wars_ratings = '''\n",
    "SELECT \n",
    "    avg(ratings.rating) AS avg_rating\n",
    "FROM\n",
    "    movies\n",
    "JOIN\n",
    "    ratings ON movies.movieId = ratings.movieId\n",
    "WHERE\n",
    "    movies.title like 'Star Wars: Episode%'\n",
    "'''\n",
    "ml.query(star_wars_ratings)"
   ]
  },
  {
   "cell_type": "markdown",
   "metadata": {
    "slideshow": {
     "slide_type": "slide"
    }
   },
   "source": [
    "### 10 Highest-Rated Movies\n",
    "\n",
    "We're pretty close, just need to remove the WHERE clause and add a LIMIT, right?"
   ]
  },
  {
   "cell_type": "code",
   "execution_count": null,
   "metadata": {
    "collapsed": false,
    "slideshow": {
     "slide_type": "fragment"
    }
   },
   "outputs": [],
   "source": [
    "ratings_query = '''\n",
    "SELECT \n",
    "    movies.title, \n",
    "    movies.year,\n",
    "    count(ratings.rating) AS num_ratings, \n",
    "    avg(ratings.rating) AS avg_rating\n",
    "FROM\n",
    "    movies\n",
    "JOIN\n",
    "    ratings ON movies.movieId = ratings.movieId\n",
    "GROUP BY\n",
    "    movies.title \n",
    "ORDER BY\n",
    "    avg_rating DESC\n",
    "LIMIT 10\n",
    "'''\n",
    "ml.query(ratings_query)"
   ]
  }
 ],
 "metadata": {
  "celltoolbar": "Slideshow",
  "kernelspec": {
   "display_name": "Python 2",
   "language": "python",
   "name": "python2"
  },
  "language_info": {
   "codemirror_mode": {
    "name": "ipython",
    "version": 2
   },
   "file_extension": ".py",
   "mimetype": "text/x-python",
   "name": "python",
   "nbconvert_exporter": "python",
   "pygments_lexer": "ipython2",
   "version": "2.7.6"
  }
 },
 "nbformat": 4,
 "nbformat_minor": 0
}
