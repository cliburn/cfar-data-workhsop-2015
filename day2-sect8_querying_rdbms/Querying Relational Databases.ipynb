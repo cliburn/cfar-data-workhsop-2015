{
 "cells": [
  {
   "cell_type": "markdown",
   "metadata": {},
   "source": [
    "## Relational Databases\n",
    "\n",
    "The movielens dataset - http://grouplens.org/datasets/movielens/\n",
    "\n",
    "Full dataset is 27,000 movies, 21,000,000 ratings. How big is the subset?\n"
   ]
  },
  {
   "cell_type": "code",
   "execution_count": 23,
   "metadata": {
    "collapsed": false
   },
   "outputs": [],
   "source": [
    "from sqlite_utils import SQLiteDatabase"
   ]
  },
  {
   "cell_type": "code",
   "execution_count": 24,
   "metadata": {
    "collapsed": false
   },
   "outputs": [
    {
     "data": {
      "text/html": [
       "<table><tr><th>movieId</th><th>title</th><th>year</th><th>genres</th></tr><tr><td>1</td><td>Toy Story</td><td>1995</td><td>Adventure|Animation|Children|Comedy|Fantasy</td></tr><tr><td>2</td><td>Jumanji</td><td>1995</td><td>Adventure|Children|Fantasy</td></tr><tr><td>3</td><td>Grumpier Old Men</td><td>1995</td><td>Comedy|Romance</td></tr><tr><td>4</td><td>Waiting to Exhale</td><td>1995</td><td>Comedy|Drama|Romance</td></tr><tr><td>5</td><td>Father of the Bride Part II</td><td>1995</td><td>Comedy</td></tr></table>"
      ],
      "text/plain": [
       "<sqlite_utils.CursorTable at 0x106bef610>"
      ]
     },
     "execution_count": 24,
     "metadata": {},
     "output_type": "execute_result"
    }
   ],
   "source": [
    "ml = SQLiteDatabase('movielens-small.db')\n",
    "query = \"SELECT * FROM movies LIMIT 10\"\n",
    "ml.query(\"SELECT * FROM movies LIMIT 5\")"
   ]
  },
  {
   "cell_type": "code",
   "execution_count": 25,
   "metadata": {
    "collapsed": false
   },
   "outputs": [
    {
     "data": {
      "text/html": [
       "<table><tr><th>userId</th><th>movieId</th><th>rating</th><th>timestamp</th></tr><tr><td>1</td><td>6</td><td>2.0</td><td>980730861</td></tr><tr><td>1</td><td>22</td><td>3.0</td><td>980731380</td></tr><tr><td>1</td><td>32</td><td>2.0</td><td>980731926</td></tr><tr><td>1</td><td>50</td><td>5.0</td><td>980732037</td></tr><tr><td>1</td><td>110</td><td>4.0</td><td>980730408</td></tr></table>"
      ],
      "text/plain": [
       "<sqlite_utils.CursorTable at 0x106bef2d0>"
      ]
     },
     "execution_count": 25,
     "metadata": {},
     "output_type": "execute_result"
    }
   ],
   "source": [
    "ml.query(\"SELECT * FROM ratings limit 5\")"
   ]
  },
  {
   "cell_type": "code",
   "execution_count": 26,
   "metadata": {
    "collapsed": false
   },
   "outputs": [
    {
     "data": {
      "text/html": [
       "<table><tr><th>movieId</th><th>imdbId</th><th>tmdbId</th></tr><tr><td>1</td><td>0114709</td><td>862</td></tr><tr><td>2</td><td>0113497</td><td>8844</td></tr><tr><td>3</td><td>0113228</td><td>15602</td></tr><tr><td>4</td><td>0114885</td><td>31357</td></tr><tr><td>5</td><td>0113041</td><td>11862</td></tr></table>"
      ],
      "text/plain": [
       "<sqlite_utils.CursorTable at 0x106bef450>"
      ]
     },
     "execution_count": 26,
     "metadata": {},
     "output_type": "execute_result"
    }
   ],
   "source": [
    "ml.query(\"SELECT * FROM links limit 5\")"
   ]
  },
  {
   "cell_type": "code",
   "execution_count": 27,
   "metadata": {
    "collapsed": false
   },
   "outputs": [
    {
     "data": {
      "text/html": [
       "<table><tr><th>COUNT(*)</th></tr><tr><td>250</td></tr></table>"
      ],
      "text/plain": [
       "<sqlite_utils.CursorTable at 0x10669cf90>"
      ]
     },
     "execution_count": 27,
     "metadata": {},
     "output_type": "execute_result"
    }
   ],
   "source": [
    "ml.query(\"SELECT COUNT(*) FROM movies WHERE year = 2003\")"
   ]
  },
  {
   "cell_type": "markdown",
   "metadata": {},
   "source": [
    "# Joins\n",
    "\n",
    "This database, like most useful relational databases, has data in different tables, and those tables relate to each other. The movies table has the titles for each movie, but the other tables have data about those movies\n",
    "\n",
    "- Movies:Links is 1:1\n",
    "- Movies:Ratings 1:Many\n",
    "- Movies:Tags is Many:Many\n",
    "\n",
    "Let's explore this with distinct counts\n",
    "\n",
    "First do links because it's 1:1. Talk about doing a simple join to get the title and the IMDB link"
   ]
  },
  {
   "cell_type": "code",
   "execution_count": 28,
   "metadata": {
    "collapsed": false
   },
   "outputs": [
    {
     "data": {
      "text/html": [
       "<table><tr><th>COUNT(DISTINCT(movieId))</th><th>COUNT(*)</th></tr><tr><td>8570</td><td>8570</td></tr></table>"
      ],
      "text/plain": [
       "<sqlite_utils.CursorTable at 0x106bef690>"
      ]
     },
     "execution_count": 28,
     "metadata": {},
     "output_type": "execute_result"
    }
   ],
   "source": [
    "ml.query('SELECT COUNT(DISTINCT(movieId)), COUNT(*) from links')"
   ]
  },
  {
   "cell_type": "code",
   "execution_count": 29,
   "metadata": {
    "collapsed": false
   },
   "outputs": [
    {
     "data": {
      "text/html": [
       "<table><tr><th>COUNT(DISTINCT(movieId))</th><th>COUNT(*)</th></tr><tr><td>8552</td><td>100023</td></tr></table>"
      ],
      "text/plain": [
       "<sqlite_utils.CursorTable at 0x106bef810>"
      ]
     },
     "execution_count": 29,
     "metadata": {},
     "output_type": "execute_result"
    }
   ],
   "source": [
    "ml.query('SELECT COUNT(DISTINCT(movieId)), COUNT(*) from ratings')"
   ]
  },
  {
   "cell_type": "code",
   "execution_count": 30,
   "metadata": {
    "collapsed": false
   },
   "outputs": [
    {
     "data": {
      "text/html": [
       "<table><tr><th>COUNT(DISTINCT(movieId))</th><th>COUNT(DISTINCT(tag))</th><th>COUNT(*)</th></tr><tr><td>672</td><td>1209</td><td>2488</td></tr></table>"
      ],
      "text/plain": [
       "<sqlite_utils.CursorTable at 0x106bef910>"
      ]
     },
     "execution_count": 30,
     "metadata": {},
     "output_type": "execute_result"
    }
   ],
   "source": [
    "ml.query('SELECT COUNT(DISTINCT(movieId)), COUNT(DISTINCT(tag)), COUNT(*) from tags')"
   ]
  },
  {
   "cell_type": "markdown",
   "metadata": {},
   "source": [
    "Perhaps final example. Only thing left to do would be to join on tags.\n",
    "Reminder - you don't need to see everything to include it in the query"
   ]
  },
  {
   "cell_type": "code",
   "execution_count": 32,
   "metadata": {
    "collapsed": false
   },
   "outputs": [
    {
     "data": {
      "text/html": [
       "<table><tr><th>title</th><th>num_ratings</th><th>avg_rating</th></tr><tr><td>Shawshank Redemption, The</td><td>328</td><td>4.44207317073</td></tr><tr><td>Usual Suspects, The</td><td>239</td><td>4.36820083682</td></tr><tr><td>Godfather, The</td><td>208</td><td>4.33413461538</td></tr><tr><td>Schindler's List</td><td>241</td><td>4.3112033195</td></tr><tr><td>Casablanca</td><td>129</td><td>4.25968992248</td></tr><tr><td>Godfather: Part II, The</td><td>132</td><td>4.25</td></tr><tr><td>Silence of the Lambs, The</td><td>337</td><td>4.23590504451</td></tr><tr><td>Dr. Strangelove or: How I Learned to Stop Worrying and Love the Bomb</td><td>126</td><td>4.22619047619</td></tr><tr><td>Matrix, The</td><td>265</td><td>4.20754716981</td></tr><tr><td>Star Wars: Episode IV - A New Hope</td><td>306</td><td>4.19607843137</td></tr></table>"
      ],
      "text/plain": [
       "<sqlite_utils.CursorTable at 0x106befc10>"
      ]
     },
     "execution_count": 32,
     "metadata": {},
     "output_type": "execute_result"
    }
   ],
   "source": [
    "ratings_query = '''\n",
    "SELECT \n",
    "    movies.title, \n",
    "    count(ratings.rating) AS num_ratings, \n",
    "    avg(ratings.rating) AS avg_rating\n",
    "FROM movies\n",
    "JOIN ratings ON movies.movieId = ratings.movieId\n",
    "GROUP BY movies.title \n",
    "HAVING count(ratings.rating) > 100 \n",
    "ORDER BY avg_rating DESC limit 10\n",
    "'''\n",
    "ml.query(ratings_query)"
   ]
  },
  {
   "cell_type": "markdown",
   "metadata": {
    "collapsed": true
   },
   "source": [
    "## Filtering Data\n",
    "\n",
    "- Simple filtering: col = value\n",
    "- LIKE, IN, comparisons\n"
   ]
  },
  {
   "cell_type": "markdown",
   "metadata": {},
   "source": [
    "## Sorting Data\n",
    "\n",
    "- Multiple sorts, ordering matters"
   ]
  },
  {
   "cell_type": "markdown",
   "metadata": {},
   "source": [
    "## Aggregation\n",
    "\n",
    "- DISTINCT\n",
    "- AVG"
   ]
  },
  {
   "cell_type": "markdown",
   "metadata": {},
   "source": [
    "## Joins\n",
    "\n",
    "This is the relationship in relational database management systems"
   ]
  },
  {
   "cell_type": "code",
   "execution_count": null,
   "metadata": {
    "collapsed": true
   },
   "outputs": [],
   "source": []
  },
  {
   "cell_type": "code",
   "execution_count": null,
   "metadata": {
    "collapsed": true
   },
   "outputs": [],
   "source": []
  },
  {
   "cell_type": "code",
   "execution_count": null,
   "metadata": {
    "collapsed": true
   },
   "outputs": [],
   "source": []
  }
 ],
 "metadata": {
  "kernelspec": {
   "display_name": "Python 2",
   "language": "python",
   "name": "python2"
  },
  "language_info": {
   "codemirror_mode": {
    "name": "ipython",
    "version": 2
   },
   "file_extension": ".py",
   "mimetype": "text/x-python",
   "name": "python",
   "nbconvert_exporter": "python",
   "pygments_lexer": "ipython2",
   "version": "2.7.10"
  }
 },
 "nbformat": 4,
 "nbformat_minor": 0
}
