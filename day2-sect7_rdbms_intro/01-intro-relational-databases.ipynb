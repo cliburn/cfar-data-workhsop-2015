{
 "cells": [
  {
   "cell_type": "markdown",
   "metadata": {
    "slideshow": {
     "slide_type": "slide"
    }
   },
   "source": [
    "# Introduction to Relational Databases\n",
    "## Relational Databases and sqlite\n",
    "\n"
   ]
  },
  {
   "cell_type": "markdown",
   "metadata": {
    "slideshow": {
     "slide_type": "slide"
    }
   },
   "source": [
    "### Relational Databases?\n",
    "\n",
    "- Data stored in **tables** with **fields** (columns) and records (rows)\n",
    "- All values in a field have the same **type** (Number, Character, Date/Time)\n",
    "- **Query** to view, sort, filter, and calculate\n"
   ]
  },
  {
   "cell_type": "markdown",
   "metadata": {
    "slideshow": {
     "slide_type": "slide"
    }
   },
   "source": [
    "### Benefits\n",
    "\n",
    "- **Safety** - Separate data from analysis\n",
    "- **Speed** - RDBMS are good at the sorting/filtering\n",
    "- **Quality Control** - Data types are enforced ([usually](https://www.sqlite.org/faq.html#q3))\n",
    "- **Organization** - _relational_ database\n",
    "- **Tuned** - Focused on data, and language (SQL) to access it.\n"
   ]
  },
  {
   "cell_type": "markdown",
   "metadata": {
    "slideshow": {
     "slide_type": "slide"
    }
   },
   "source": [
    "### Example: CD4_Frame\n",
    "\n",
    "<table width=\"100%\">\n",
    "    <tbody>\n",
    "    <tr>\n",
    "        <th>name</th>\n",
    "        <th>cd4_baseline</th>\n",
    "        <th>cd4_followup</th>\n",
    "    </tr>\n",
    "    <tr>\n",
    "        <td>Jane</td>\n",
    "        <td>364</td>\n",
    "        <td>448</td>\n",
    "    </tr>\n",
    "    <tr>\n",
    "        <td>Jill</td>\n",
    "        <td>836</td>\n",
    "        <td>NaN</td>\n",
    "    </tr>\n",
    "    <tr>\n",
    "        <td>Joe</td>\n",
    "        <td>2117</td>\n",
    "        <td>1959</td>\n",
    "    </tr>\n",
    "</tbody>\n",
    "</table>"
   ]
  },
  {
   "cell_type": "markdown",
   "metadata": {
    "slideshow": {
     "slide_type": "slide"
    }
   },
   "source": [
    "### Structure\n",
    "\n",
    "More rigid than a spreadsheet, but also more robust\n",
    "\n",
    "- Database (Lowest level). Can be a file or a server\n",
    "- Tables - Like a worksheet or a Data Frame\n",
    "- Columns - Definition of the types of data. Not the data itself\n",
    "- Rows - A set of values for the columns\n",
    "\n",
    "SQLite Data Types ([sqlite.org](https://www.sqlite.org/datatype3.html))\n",
    "\n",
    "- NULL\n",
    "- **INTEGER**\n",
    "- **REAL**\n",
    "- **TEXT**\n",
    "- BLOB\n"
   ]
  },
  {
   "cell_type": "markdown",
   "metadata": {
    "slideshow": {
     "slide_type": "slide"
    }
   },
   "source": [
    "### Relational Database Management Systems\n",
    "\n",
    "Some free/open source. Differ in some data types and advanced functionality, but all do tables and queries.\n",
    "\n",
    "PostgreSQL, MySQL, Oracle, Microsoft SQL Server, **SQLite**\n"
   ]
  },
  {
   "cell_type": "markdown",
   "metadata": {
    "slideshow": {
     "slide_type": "slide"
    }
   },
   "source": [
    "### Using SQLite\n",
    "\n",
    "    SQLite version 3.8.5 2014-08-15 22:37:57\n",
    "    Enter \".help\" for usage hints.\n",
    "    Connected to a transient in-memory database.\n",
    "    Use \".open FILENAME\" to reopen on a persistent database.\n",
    "    sqlite>\n",
    "\n",
    "Stuck? **;** or **Control-C**\n"
   ]
  },
  {
   "cell_type": "markdown",
   "metadata": {
    "slideshow": {
     "slide_type": "slide"
    }
   },
   "source": [
    "### Creating a table\n",
    "\n",
    "Looking at the stack, we have the database\n",
    "\n",
    "Now we need a table and columns\n",
    "\n",
    "- cd4\n",
    "    - name\n",
    "    - cd4_baseline\n",
    "    - cd4_followup\n"
   ]
  },
  {
   "cell_type": "markdown",
   "metadata": {
    "slideshow": {
     "slide_type": "slide"
    }
   },
   "source": [
    "Create table:\n",
    "\n",
    "    sqlite> CREATE TABLE cd4 (\n",
    "       ...>   name TEXT,\n",
    "       ...>   cd4_baseline REAL,\n",
    "       ...>   cd4_followup REAL\n",
    "       ...> );\n",
    "   \n",
    "List tables:\n",
    "\n",
    "    sqlite> .tables\n",
    "    cd4\n",
    "\n",
    "See definition with `.schema`"
   ]
  },
  {
   "cell_type": "markdown",
   "metadata": {
    "slideshow": {
     "slide_type": "slide"
    }
   },
   "source": [
    "### Exercise: Start sqlite3\n",
    "\n",
    "1. Open a command prompt or terminal\n",
    "2. `cd` to the directory containing **cd4.db**\n",
    "3. Open sqlite3:\n",
    "    - `conda run sqlite3`\n",
    "    - `sqlite3`\n",
    "\n",
    "When you see \n",
    "\n",
    "    sqlite>\n",
    "\n",
    "type **`.open cd4.db`**\n"
   ]
  },
  {
   "cell_type": "markdown",
   "metadata": {
    "slideshow": {
     "slide_type": "slide"
    }
   },
   "source": [
    "### What's inside?\n",
    "\n",
    "Tables. List them with **`.tables`**.\n",
    "\n",
    "    sqlite> .tables\n",
    "    cd4"
   ]
  },
  {
   "cell_type": "markdown",
   "metadata": {
    "slideshow": {
     "slide_type": "fragment"
    }
   },
   "source": [
    "To _query_ a table, you **SELECT** from it\n",
    "\n",
    "    SELECT * from cd4;"
   ]
  },
  {
   "cell_type": "markdown",
   "metadata": {
    "slideshow": {
     "slide_type": "fragment"
    }
   },
   "source": [
    "    Jane|364.0|448.0\n",
    "    Jill|836.0|\n",
    "    Joe|2117.0|1959.0\n",
    "    John|815.0|792.0"
   ]
  },
  {
   "cell_type": "markdown",
   "metadata": {
    "slideshow": {
     "slide_type": "slide"
    }
   },
   "source": [
    "### Exercise: Change format\n",
    "\n",
    "`.mode` and `.headers`\n",
    "\n",
    "1. Turn on headers with **`.headers on`**.\n",
    "2. Type **`.mode`** alone to see options.\n",
    "3. Change the mode to `column`.\n",
    "\n",
    "Try some other modes, like **line** or **tabs**"
   ]
  },
  {
   "cell_type": "markdown",
   "metadata": {
    "slideshow": {
     "slide_type": "fragment"
    }
   },
   "source": [
    "    sqlite> .mode column\n",
    "    sqlite> .headers on\n",
    "    sqlite> SELECT * FROM cd4;\n",
    "    name        cd4_baseline  cd4_followup\n",
    "    ----------  ------------  ------------\n",
    "    Jane        364.0         448.0       \n",
    "    Jill        836.0                     \n",
    "    Joe         2117.0        1959.0      \n",
    "    John        815.0         792.0   \n"
   ]
  },
  {
   "cell_type": "markdown",
   "metadata": {
    "slideshow": {
     "slide_type": "slide"
    }
   },
   "source": [
    "### Populating a database\n",
    "\n",
    "- **INSERT** to add rows.\n",
    "- Unlike spreadsheets, *rows* have no inherent order.\n",
    "- *Column* order does matter!\n",
    "\n",
    "    `sqlite> INSERT INTO cd4 VALUES ('Jimmy',900, 800);`\n",
    "\n",
    "Single quotes around names, end with a semicolon"
   ]
  },
  {
   "cell_type": "markdown",
   "metadata": {
    "slideshow": {
     "slide_type": "slide"
    }
   },
   "source": [
    "### Exercise: Add some rows\n",
    "\n",
    "Inserting:\n",
    "\n",
    "    INSERT INTO cd4 VALUES ('Jessie',500,654.3);\n",
    "\n",
    "Selecting:\n",
    "\n",
    "    SELECT * FROM cd4;"
   ]
  },
  {
   "cell_type": "markdown",
   "metadata": {
    "slideshow": {
     "slide_type": "fragment"
    }
   },
   "source": [
    "<table width=\"100%\">\n",
    "    <tbody>\n",
    "<TR><TH>name</TH>\n",
    "<TH>cd4_baseline</TH>\n",
    "<TH>cd4_followup</TH>\n",
    "</TR>\n",
    "<TR><TD>Jane</TD>\n",
    "<TD>364.0</TD>\n",
    "<TD>448.0</TD>\n",
    "</TR>\n",
    "<TR><TD>Jill</TD>\n",
    "<TD>836.0</TD>\n",
    "<TD></TD>\n",
    "</TR>\n",
    "<TR><TD>Joe</TD>\n",
    "<TD>2117.0</TD>\n",
    "<TD>1959.0</TD>\n",
    "</TR>\n",
    "<TR><TD>John</TD>\n",
    "<TD>815.0</TD>\n",
    "<TD>792.0</TD>\n",
    "</TR>\n",
    "<TR><TD>Jimmy</TD>\n",
    "<TD>900.0</TD>\n",
    "<TD>800.0</TD>\n",
    "</TR>\n",
    "<TR><TD>Jessie</TD>\n",
    "<TD>500.0</TD>\n",
    "<TD>654.3</TD>\n",
    "</TR>\n",
    "</tbody>\n",
    "</table>"
   ]
  },
  {
   "cell_type": "markdown",
   "metadata": {
    "slideshow": {
     "slide_type": "slide"
    }
   },
   "source": [
    "### Sorting and Filtering\n",
    "\n",
    "Sorting - `ORDER BY` a column name. Can do ascending or descending\n",
    "\n",
    "    SELECT * FROM cd4 ORDER BY cd4_baseline;\n",
    "    SELECT * FROM cd4 ORDER BY name DESC;"
   ]
  },
  {
   "cell_type": "markdown",
   "metadata": {
    "slideshow": {
     "slide_type": "fragment"
    }
   },
   "source": [
    "Filter rows with `WHERE`. This is like the filtering in a DataFrame \n",
    "\n",
    "`=`,`<`,`>`,`like`\n",
    "\n",
    "    SELECT * FROM cd4 WHERE cd4_baseline < 850;\n",
    "    SELECT * FROM cd4 WHERE name like 'Ji%';\n",
    "    SELECT * FROM cd4 WHERE cd4_baseline < 850 AND name like 'Ji%';"
   ]
  },
  {
   "cell_type": "markdown",
   "metadata": {
    "slideshow": {
     "slide_type": "fragment"
    }
   },
   "source": [
    "**NULL** is the new **NaN**, and it's special:\n",
    "\n",
    "    SELECT * FROM cd4 WHERE cd4_followup IS NULL;\n",
    "    SELECT * FROM cd4 WHERE cd4_followup IS NOT NULL;    \n",
    "    \n",
    "**IN** for a list of values:\n",
    "\n",
    "    SELECT * FROM cd4 WHERE name IN ('Jane','Jill')"
   ]
  },
  {
   "cell_type": "markdown",
   "metadata": {
    "slideshow": {
     "slide_type": "slide"
    }
   },
   "source": [
    "### Columns\n",
    "\n",
    "Specify columns by naming them instead of `*`\n",
    "\n",
    "    SELECT name FROM cd4;\n",
    "    \n",
    "Can reorder too:\n",
    "\n",
    "    SELECT cd4_baseline, cd4_followup, name FROM cd4;\n",
    "\n",
    "Or even rename:\n",
    "\n",
    "    SELECT cd4_baseline AS baseline, cd4_followup AS followup, name from cd4;"
   ]
  },
  {
   "cell_type": "markdown",
   "metadata": {
    "slideshow": {
     "slide_type": "slide"
    }
   },
   "source": [
    "### Calculations \n",
    "\n",
    "Generate calculated columns:\n",
    "\n",
    "    SELECT cd4_followup - cd4_baseline FROM cd4;"
   ]
  },
  {
   "cell_type": "markdown",
   "metadata": {
    "slideshow": {
     "slide_type": "fragment"
    }
   },
   "source": [
    "Let's build that **percent_change** calculation we had in pandas. \n",
    "\n",
    "1. diff = followup - baseline\n",
    "2. percent = (diff / baseline) * 100\n",
    "\n",
    "We can use parenthesis to group calculations"
   ]
  },
  {
   "cell_type": "markdown",
   "metadata": {
    "slideshow": {
     "slide_type": "slide"
    }
   },
   "source": [
    "    SELECT *, cd4_followup - cd4_baseline FROM cd4;"
   ]
  },
  {
   "cell_type": "markdown",
   "metadata": {
    "slideshow": {
     "slide_type": "fragment"
    }
   },
   "source": [
    "    SELECT *, (cd4_followup - cd4_baseline) / cd4_baseline FROM cd4;"
   ]
  },
  {
   "cell_type": "markdown",
   "metadata": {
    "slideshow": {
     "slide_type": "fragment"
    }
   },
   "source": [
    "    SELECT *, (100 * (cd4_followup - cd4_baseline) / cd4_baseline) FROM cd4;"
   ]
  },
  {
   "cell_type": "markdown",
   "metadata": {
    "slideshow": {
     "slide_type": "fragment"
    }
   },
   "source": [
    "    SELECT *, (100 * (cd4_followup - cd4_baseline) / cd4_baseline) as percent_change FROM cd4;"
   ]
  },
  {
   "cell_type": "markdown",
   "metadata": {
    "slideshow": {
     "slide_type": "slide"
    }
   },
   "source": [
    "### Moving data between systems\n",
    "\n",
    "- Existing data in a database\n",
    "- Bringing data to analysis _(or analysis to data)_\n",
    "- Plaintext or CSV is universal\n"
   ]
  },
  {
   "cell_type": "markdown",
   "metadata": {
    "slideshow": {
     "slide_type": "slide"
    }
   },
   "source": [
    "### Export to CSV\n",
    "\n",
    "Using `.header` and `.mode` [again](https://www.sqlite.org/cli.html)\n",
    "\n",
    "Just one new command: `.once`\n",
    "\n",
    "    sqlite> .header on\n",
    "    sqlite> .mode csv\n",
    "    sqlite> .once cd4_export.csv\n",
    "    sqlite> SELECT * FROM cd4;\n",
    "\n",
    "Exercise: Create a CSV file with data sorted by **cd4_baseline** that includes **percent_change**."
   ]
  },
  {
   "cell_type": "markdown",
   "metadata": {
    "slideshow": {
     "slide_type": "slide"
    }
   },
   "source": [
    "### Import from CSV\n",
    "\n",
    "The `.import` command does this\n",
    "\n",
    "    .import file.csv table_name\n",
    "\n",
    "Two cases: creating a new table or importing to an existing table\n",
    "\n",
    "Let's import the **long_data.csv** file into a database\n"
   ]
  },
  {
   "cell_type": "markdown",
   "metadata": {
    "slideshow": {
     "slide_type": "slide"
    }
   },
   "source": [
    "### Exercise: Importing a CSV\n",
    "\n",
    "    sqlite> .open long_data.db\n",
    "    sqlite> .mode csv\n",
    "    sqlite> .import long_data_cleaned.csv long_data\n",
    "\n",
    "Now we can query long_data. What's the schema?"
   ]
  }
 ],
 "metadata": {
  "celltoolbar": "Slideshow",
  "kernelspec": {
   "display_name": "Python 2",
   "language": "python",
   "name": "python2"
  },
  "language_info": {
   "codemirror_mode": {
    "name": "ipython",
    "version": 2
   },
   "file_extension": ".py",
   "mimetype": "text/x-python",
   "name": "python",
   "nbconvert_exporter": "python",
   "pygments_lexer": "ipython2",
   "version": "2.7.6"
  }
 },
 "nbformat": 4,
 "nbformat_minor": 0
}
