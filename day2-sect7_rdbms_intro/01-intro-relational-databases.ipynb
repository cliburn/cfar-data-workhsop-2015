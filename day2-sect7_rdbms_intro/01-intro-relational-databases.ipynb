{
 "cells": [
  {
   "cell_type": "markdown",
   "metadata": {
    "slideshow": {
     "slide_type": "slide"
    }
   },
   "source": [
    "# Introduction to Relational Databases\n",
    "## Relational Databases and sqlite\n",
    "\n"
   ]
  },
  {
   "cell_type": "markdown",
   "metadata": {
    "slideshow": {
     "slide_type": "slide"
    }
   },
   "source": [
    "### Relational Databases?\n",
    "\n",
    "- Data stored in **tables** with **fields** (columns) and records (rows)\n",
    "- All values in a field have the same **type** (Number, Character, Date/Time)\n",
    "- **Query** to view, sort, filter, and calculate\n"
   ]
  },
  {
   "cell_type": "markdown",
   "metadata": {
    "slideshow": {
     "slide_type": "slide"
    }
   },
   "source": [
    "### Benefits\n",
    "\n",
    "- **Safety** - Separate data from analysis\n",
    "- **Speed** - RDBMS are good at the sorting/filtering\n",
    "- **Quality Control** - Data types are enforced ([usually](https://www.sqlite.org/faq.html#q3))\n",
    "- **Organization** - _relational_ database\n",
    "- **Standardized** - Similar model to Python/Pandas but data-centric\n"
   ]
  },
  {
   "cell_type": "markdown",
   "metadata": {
    "slideshow": {
     "slide_type": "slide"
    }
   },
   "source": [
    "### Example: Playwrights\n",
    "\n",
    "&nbsp;\n",
    "<table width=\"100%\">\n",
    "    <tbody>\n",
    "    <tr>\n",
    "        <th>first_name</th>\n",
    "        <th>last_name</th>\n",
    "        <th>year_of_birth</th>\n",
    "        <th>year_of_death</th>\n",
    "    </tr>\n",
    "    <tr>\n",
    "        <td>William</td>\n",
    "        <td>Shakespeare</td>\n",
    "        <td>1564</td>\n",
    "        <td>1616</td>\n",
    "    </tr>\n",
    "    <tr>\n",
    "        <td>Arthur</td>\n",
    "        <td>Miller</td>\n",
    "        <td>1915</td>\n",
    "        <td>2005</td>\n",
    "    </tr>\n",
    "    <tr>\n",
    "        <td>Samuel</td>\n",
    "        <td>Beckett</td>\n",
    "        <td>1906</td>\n",
    "        <td>1989</td>\n",
    "    </tr>\n",
    "</tbody>\n",
    "</table>"
   ]
  },
  {
   "cell_type": "markdown",
   "metadata": {
    "slideshow": {
     "slide_type": "slide"
    }
   },
   "source": [
    "### Relational Database Management Systems\n",
    "\n",
    "Some free/open source. Differ in some data types and advanced functionality, but all do tables and queries.\n",
    "\n",
    "MySQL, Oracle, PostgreSQL, SQL Server, Microsoft Access, FileMaker Pro, **SQLite**\n"
   ]
  },
  {
   "cell_type": "markdown",
   "metadata": {
    "slideshow": {
     "slide_type": "slide"
    }
   },
   "source": [
    "### Creating databases\n",
    "\n",
    "- Database can have many tables\n",
    "- Table is analogous to a worksheet or data frame\n",
    "- Specify column names/types when creating (schema)\n",
    "\n",
    "SQLite Data Types ([sqlite.org](https://www.sqlite.org/datatype3.html))\n",
    "\n",
    "- NULL\n",
    "- **INTEGER**\n",
    "- **REAL**\n",
    "- **TEXT**\n",
    "- BLOB\n"
   ]
  },
  {
   "cell_type": "markdown",
   "metadata": {
    "slideshow": {
     "slide_type": "slide"
    }
   },
   "source": [
    "### Demo: The SQLite Prompt\n",
    "\n",
    "Double-click **sqlite3.exe** (or type `sqlite3` in your terminal)\n",
    "\n",
    "    SQLite version 3.8.5 2014-08-15 22:37:57\n",
    "    Enter \".help\" for usage hints.\n",
    "    Connected to a transient in-memory database.\n",
    "    Use \".open FILENAME\" to reopen on a persistent database.\n",
    "    sqlite>\n",
    "\n",
    "Stuck? **Semicolon** or **Control-C**\n",
    "\n",
    "Open file:\n",
    "\n",
    "    sqlite> .open lit.db\n"
   ]
  },
  {
   "cell_type": "markdown",
   "metadata": {
    "slideshow": {
     "slide_type": "slide"
    }
   },
   "source": [
    "### Demo: Creating a table\n",
    "Create table:\n",
    "\n",
    "    sqlite> CREATE TABLE playwrights (\n",
    "       ...> first_name TEXT,\n",
    "       ...> last_name TEXT,\n",
    "       ...> year_of_birth INTEGER,\n",
    "       ...> year_of_death INTEGER\n",
    "       ...> );\n",
    "\n",
    "List tables:\n",
    "\n",
    "    sqlite> .tables\n",
    "    playwrights\n",
    "\n",
    "\n"
   ]
  },
  {
   "cell_type": "markdown",
   "metadata": {
    "slideshow": {
     "slide_type": "slide"
    }
   },
   "source": [
    "### Exercise: Start sqlite3\n",
    "\n",
    "#### Windows:\n",
    "\n",
    "1. Put the **lit.db** file in the folder with **sqlite3.exe**\n",
    "2. Double-click **sqlite3.exe**\n",
    "\n",
    "#### Mac / Linux:\n",
    "\n",
    "1. In terminal, cd to the directory where **lit.db** was downloaded\n",
    "2. Type **`sqlite3`**\n",
    "\n",
    "When you see `sqlite>`, type **`.open lit.db`**\n"
   ]
  },
  {
   "cell_type": "markdown",
   "metadata": {
    "slideshow": {
     "slide_type": "slide"
    }
   },
   "source": [
    "### What's inside?\n",
    "\n",
    "Tables. List them with **`.tables`**.\n",
    "\n",
    "    sqlite> .tables\n",
    "    playwrights\n",
    "\n",
    "See table structure with **`.schema`**.\n",
    "\n",
    "To _query_ a table, you **SELECT** from it\n",
    "\n",
    "    sqlite> SELECT * FROM playwrights;\n",
    "    William|Shakespeare|1564|1616\n",
    "\n"
   ]
  },
  {
   "cell_type": "markdown",
   "metadata": {
    "slideshow": {
     "slide_type": "slide"
    }
   },
   "source": [
    "### Exercise: Change format\n",
    "\n",
    "`.mode` and `.headers`\n",
    "\n",
    "1. Turn on headers with **`.headers on`**.\n",
    "2. Type **`.mode`** alone to see options.\n",
    "3. Change the mode to `column`.\n",
    "\n",
    "\n",
    "    sqlite> SELECT * FROM playwrights;\n",
    "    first_name  last_name    year_of_birth  year_of_death\n",
    "    ----------  -----------  -------------  -------------\n",
    "    William     Shakespeare  1564           1616\n",
    "\n",
    "\n",
    "Done? Try a different mode like `line`.\n"
   ]
  },
  {
   "cell_type": "markdown",
   "metadata": {
    "slideshow": {
     "slide_type": "slide"
    }
   },
   "source": [
    "### Populating a database\n",
    "\n",
    "\n",
    "- **INSERT** to add rows.\n",
    "- Unlike spreadsheets, *rows* have no inherent order.\n",
    "- *Column* order does matter!\n",
    "\n",
    "\n",
    "    sqlite> INSERT INTO playwrights VALUES\n",
    "      ...> ('Arthur','Miller',1915,2005);\n",
    "      # first_name, last_name, birth_year, death_year\n",
    "\n",
    "Single quotes around names, end with a semicolon"
   ]
  },
  {
   "cell_type": "markdown",
   "metadata": {
    "slideshow": {
     "slide_type": "slide"
    }
   },
   "source": [
    "### Exercise: Add some rows\n",
    "\n",
    "Inserting:\n",
    "\n",
    "    INSERT INTO playwrights VALUES ('First','Last',1900,2000);\n",
    "\n",
    "Selecting:\n",
    "\n",
    "    SELECT * FROM playwrights;\n",
    "\n",
    "Sample Data:\n",
    "<table width=\"100%\">\n",
    "    <tbody>\n",
    "    <tr>\n",
    "        <th>first_name</th>\n",
    "        <th>last_name</th>\n",
    "        <th>year_of_birth</th>\n",
    "        <th>year_of_death</th>\n",
    "    </tr>\n",
    "    <tr>\n",
    "        <td>Arthur</td>\n",
    "        <td>Miller</td>\n",
    "        <td>1915</td>\n",
    "        <td>2005</td>\n",
    "    </tr>\n",
    "    <tr>\n",
    "        <td>Samuel</td>\n",
    "        <td>Beckett</td>\n",
    "        <td>1906</td>\n",
    "        <td>1989</td>\n",
    "    </tr>\n",
    "</tbody>\n",
    "</table>"
   ]
  },
  {
   "cell_type": "markdown",
   "metadata": {
    "slideshow": {
     "slide_type": "slide"
    }
   },
   "source": [
    "### Asking simple questions\n",
    "\n",
    "*...without altering the data*\n",
    "\n",
    "\n",
    "Sorting\n",
    "\n",
    "    SELECT * FROM playwrights order by year_of_birth;\n",
    "\n",
    "Just want names?\n",
    "\n",
    "    SELECT first_name, last_name FROM playwrights;\n",
    "\n",
    "\n",
    "Calculate age?\n",
    "\n",
    "    SELECT *, year_of_death - year_of_birth FROM playwrights;\n"
   ]
  },
  {
   "cell_type": "markdown",
   "metadata": {
    "slideshow": {
     "slide_type": "slide"
    }
   },
   "source": [
    "### Moving data between systems\n",
    "\n",
    "- Existing data in a database\n",
    "- Bringing data to analysis _(or analysis to data)_\n",
    "- Plaintext or CSV is universal\n"
   ]
  },
  {
   "cell_type": "markdown",
   "metadata": {
    "slideshow": {
     "slide_type": "slide"
    }
   },
   "source": [
    "### Export to CSV\n",
    "\n",
    "Using `.header` and `.mode` [again](https://www.sqlite.org/cli.html)\n",
    "\n",
    "Just one new command: `.once`\n",
    "\n",
    "    sqlite> .header on\n",
    "    sqlite> .mode csv\n",
    "    sqlite> .once playwrights.csv\n",
    "    sqlite> SELECT * FROM playwrights;\n",
    "\n",
    "Exercise: Create a CSV file with data sorted by **last_name** that includes **age**.\n"
   ]
  },
  {
   "cell_type": "markdown",
   "metadata": {
    "slideshow": {
     "slide_type": "slide"
    }
   },
   "source": [
    "### Import from CSV\n",
    "\n",
    "The `.import` command does this\n",
    "\n",
    "    .import file.csv table_name\n",
    "\n",
    "Two cases: creating a new table or importing to an existing table\n",
    "\n",
    "Let's import the **long_data.csv** file into a database\n"
   ]
  },
  {
   "cell_type": "markdown",
   "metadata": {
    "slideshow": {
     "slide_type": "slide"
    }
   },
   "source": [
    "### Exercise: Importing a CSV\n",
    "\n",
    "    sqlite> .open long_data.db\n",
    "    sqlite> .mode csv\n",
    "    sqlite> .import long_data.csv long_data\n",
    "\n",
    "Now we can query long_data. What's the schema?"
   ]
  }
 ],
 "metadata": {
  "celltoolbar": "Slideshow",
  "kernelspec": {
   "display_name": "Python 2",
   "language": "python",
   "name": "python2"
  },
  "language_info": {
   "codemirror_mode": {
    "name": "ipython",
    "version": 2
   },
   "file_extension": ".py",
   "mimetype": "text/x-python",
   "name": "python",
   "nbconvert_exporter": "python",
   "pygments_lexer": "ipython2",
   "version": "2.7.6"
  }
 },
 "nbformat": 4,
 "nbformat_minor": 0
}
