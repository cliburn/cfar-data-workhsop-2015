{
 "cells": [
  {
   "cell_type": "markdown",
   "metadata": {
    "slideshow": {
     "slide_type": "slide"
    }
   },
   "source": [
    "### SQL and Pandas Data Frames\n",
    "\n",
    "Python comes with **sqlite3** support, and Pandas can read/write SQL databases to/from data frames"
   ]
  },
  {
   "cell_type": "code",
   "execution_count": 27,
   "metadata": {
    "collapsed": true
   },
   "outputs": [],
   "source": [
    "import pandas as pd\n",
    "import sqlite3"
   ]
  },
  {
   "cell_type": "markdown",
   "metadata": {},
   "source": [
    "Let's see what's in our directory"
   ]
  },
  {
   "cell_type": "code",
   "execution_count": 2,
   "metadata": {
    "collapsed": false
   },
   "outputs": [
    {
     "name": "stdout",
     "output_type": "stream",
     "text": [
      "age.csv                    play.db                    relational-databases.ipynb\r\n",
      "long_data.csv              relational-databases.html  relational-databases.md\r\n"
     ]
    }
   ],
   "source": [
    "!ls"
   ]
  },
  {
   "cell_type": "markdown",
   "metadata": {},
   "source": [
    "To use a database from pandas, first we must connect to it:"
   ]
  },
  {
   "cell_type": "code",
   "execution_count": 3,
   "metadata": {
    "collapsed": true
   },
   "outputs": [],
   "source": [
    "play_conn = sqlite3.connect('play.db')"
   ]
  },
  {
   "cell_type": "markdown",
   "metadata": {},
   "source": [
    "`pd.read_sql` lets you execute a query and make a **DataFrame**"
   ]
  },
  {
   "cell_type": "code",
   "execution_count": 6,
   "metadata": {
    "collapsed": false
   },
   "outputs": [],
   "source": [
    "playwrights = pd.read_sql('select * from playwrights',play_conn)"
   ]
  },
  {
   "cell_type": "code",
   "execution_count": 7,
   "metadata": {
    "collapsed": false
   },
   "outputs": [
    {
     "data": {
      "text/html": [
       "<div>\n",
       "<table border=\"1\" class=\"dataframe\">\n",
       "  <thead>\n",
       "    <tr style=\"text-align: right;\">\n",
       "      <th></th>\n",
       "      <th>first_name</th>\n",
       "      <th>last_name</th>\n",
       "      <th>year_of_birth</th>\n",
       "      <th>year_of_death</th>\n",
       "    </tr>\n",
       "  </thead>\n",
       "  <tbody>\n",
       "    <tr>\n",
       "      <th>0</th>\n",
       "      <td>William</td>\n",
       "      <td>Shakespeare</td>\n",
       "      <td>1564</td>\n",
       "      <td>1616</td>\n",
       "    </tr>\n",
       "  </tbody>\n",
       "</table>\n",
       "</div>"
      ],
      "text/plain": [
       "  first_name    last_name  year_of_birth  year_of_death\n",
       "0    William  Shakespeare           1564           1616"
      ]
     },
     "execution_count": 7,
     "metadata": {},
     "output_type": "execute_result"
    }
   ],
   "source": [
    "playwrights"
   ]
  },
  {
   "cell_type": "code",
   "execution_count": 8,
   "metadata": {
    "collapsed": false
   },
   "outputs": [
    {
     "data": {
      "text/plain": [
       "(1, 4)"
      ]
     },
     "execution_count": 8,
     "metadata": {},
     "output_type": "execute_result"
    }
   ],
   "source": [
    "playwrights.shape"
   ]
  },
  {
   "cell_type": "code",
   "execution_count": 17,
   "metadata": {
    "collapsed": false
   },
   "outputs": [
    {
     "data": {
      "text/plain": [
       "0    Bill\n",
       "Name: first_name, dtype: object"
      ]
     },
     "execution_count": 17,
     "metadata": {},
     "output_type": "execute_result"
    }
   ],
   "source": [
    "playwrights['first_name']"
   ]
  },
  {
   "cell_type": "code",
   "execution_count": 18,
   "metadata": {
    "collapsed": false
   },
   "outputs": [],
   "source": [
    "play_conn.close()"
   ]
  },
  {
   "cell_type": "code",
   "execution_count": 19,
   "metadata": {
    "collapsed": true
   },
   "outputs": [],
   "source": [
    "long_data = pd.read_csv('long_data.csv')"
   ]
  },
  {
   "cell_type": "code",
   "execution_count": 23,
   "metadata": {
    "collapsed": false
   },
   "outputs": [
    {
     "data": {
      "text/html": [
       "<div>\n",
       "<table border=\"1\" class=\"dataframe\">\n",
       "  <thead>\n",
       "    <tr style=\"text-align: right;\">\n",
       "      <th></th>\n",
       "      <th>Dilution</th>\n",
       "      <th>Analyte</th>\n",
       "      <th>FI-Bkgd</th>\n",
       "      <th>FI-Bkgd-Neg</th>\n",
       "      <th>CV</th>\n",
       "      <th>Participant ID</th>\n",
       "      <th>Visit Code</th>\n",
       "      <th>Visit Date</th>\n",
       "      <th>Sample Type</th>\n",
       "      <th>Buffer</th>\n",
       "    </tr>\n",
       "  </thead>\n",
       "  <tbody>\n",
       "    <tr>\n",
       "      <th>0</th>\n",
       "      <td>50</td>\n",
       "      <td>p24 (19)</td>\n",
       "      <td>474.8</td>\n",
       "      <td>454.800000</td>\n",
       "      <td>0.0372</td>\n",
       "      <td>URN2</td>\n",
       "      <td>0</td>\n",
       "      <td>10/14/1899</td>\n",
       "      <td>PLA</td>\n",
       "      <td>PBS</td>\n",
       "    </tr>\n",
       "    <tr>\n",
       "      <th>1</th>\n",
       "      <td>50</td>\n",
       "      <td>gp41 (44)</td>\n",
       "      <td>470.8</td>\n",
       "      <td>452.800000</td>\n",
       "      <td>0.1387</td>\n",
       "      <td>URN2</td>\n",
       "      <td>0</td>\n",
       "      <td>10/14/1899</td>\n",
       "      <td>PLA</td>\n",
       "      <td>PBS</td>\n",
       "    </tr>\n",
       "    <tr>\n",
       "      <th>2</th>\n",
       "      <td>50</td>\n",
       "      <td>Con 6 gp120/B (72)</td>\n",
       "      <td>52.5</td>\n",
       "      <td>44.500000</td>\n",
       "      <td>0.1183</td>\n",
       "      <td>URN2</td>\n",
       "      <td>0</td>\n",
       "      <td>10/14/1899</td>\n",
       "      <td>PLA</td>\n",
       "      <td>PBS</td>\n",
       "    </tr>\n",
       "    <tr>\n",
       "      <th>3</th>\n",
       "      <td>50</td>\n",
       "      <td>B.con.env03 140 CF (65)</td>\n",
       "      <td>55.5</td>\n",
       "      <td>46.500000</td>\n",
       "      <td>0.1709</td>\n",
       "      <td>URN2</td>\n",
       "      <td>0</td>\n",
       "      <td>10/14/1899</td>\n",
       "      <td>PLA</td>\n",
       "      <td>PBS</td>\n",
       "    </tr>\n",
       "    <tr>\n",
       "      <th>4</th>\n",
       "      <td>50</td>\n",
       "      <td>Blank (53)</td>\n",
       "      <td>29.0</td>\n",
       "      <td>NaN</td>\n",
       "      <td>0.0527</td>\n",
       "      <td>URN2</td>\n",
       "      <td>0</td>\n",
       "      <td>10/14/1899</td>\n",
       "      <td>PLA</td>\n",
       "      <td>PBS</td>\n",
       "    </tr>\n",
       "    <tr>\n",
       "      <th>5</th>\n",
       "      <td>50</td>\n",
       "      <td>Con S gp140 CFI (3)</td>\n",
       "      <td>82.0</td>\n",
       "      <td>62.000000</td>\n",
       "      <td>0.1799</td>\n",
       "      <td>URN2</td>\n",
       "      <td>0</td>\n",
       "      <td>10/14/1899</td>\n",
       "      <td>PLA</td>\n",
       "      <td>PBS</td>\n",
       "    </tr>\n",
       "    <tr>\n",
       "      <th>6</th>\n",
       "      <td>50</td>\n",
       "      <td>p31 (50)</td>\n",
       "      <td>474.4</td>\n",
       "      <td>455.400000</td>\n",
       "      <td>0.0885</td>\n",
       "      <td>URN2</td>\n",
       "      <td>0</td>\n",
       "      <td>10/14/1899</td>\n",
       "      <td>PLA</td>\n",
       "      <td>PBS</td>\n",
       "    </tr>\n",
       "    <tr>\n",
       "      <th>7</th>\n",
       "      <td>50</td>\n",
       "      <td>p66 (RT) (42)</td>\n",
       "      <td>69.4</td>\n",
       "      <td>50.400000</td>\n",
       "      <td>0.0527</td>\n",
       "      <td>URN2</td>\n",
       "      <td>0</td>\n",
       "      <td>10/14/1899</td>\n",
       "      <td>PLA</td>\n",
       "      <td>PBS</td>\n",
       "    </tr>\n",
       "    <tr>\n",
       "      <th>8</th>\n",
       "      <td>50</td>\n",
       "      <td>MulVgp70_His6 (49)</td>\n",
       "      <td>205.4</td>\n",
       "      <td>NaN</td>\n",
       "      <td>0.0861</td>\n",
       "      <td>URN2</td>\n",
       "      <td>0</td>\n",
       "      <td>10/14/1899</td>\n",
       "      <td>PLA</td>\n",
       "      <td>PBS</td>\n",
       "    </tr>\n",
       "    <tr>\n",
       "      <th>9</th>\n",
       "      <td>50</td>\n",
       "      <td>gp70_B.CaseA_V1_V2 (12)</td>\n",
       "      <td>40.5</td>\n",
       "      <td>-64.766667</td>\n",
       "      <td>0.0615</td>\n",
       "      <td>URN2</td>\n",
       "      <td>0</td>\n",
       "      <td>10/14/1899</td>\n",
       "      <td>PLA</td>\n",
       "      <td>PBS</td>\n",
       "    </tr>\n",
       "  </tbody>\n",
       "</table>\n",
       "</div>"
      ],
      "text/plain": [
       "   Dilution                  Analyte  FI-Bkgd  FI-Bkgd-Neg      CV  \\\n",
       "0        50                 p24 (19)    474.8   454.800000  0.0372   \n",
       "1        50                gp41 (44)    470.8   452.800000  0.1387   \n",
       "2        50       Con 6 gp120/B (72)     52.5    44.500000  0.1183   \n",
       "3        50  B.con.env03 140 CF (65)     55.5    46.500000  0.1709   \n",
       "4        50               Blank (53)     29.0          NaN  0.0527   \n",
       "5        50      Con S gp140 CFI (3)     82.0    62.000000  0.1799   \n",
       "6        50                 p31 (50)    474.4   455.400000  0.0885   \n",
       "7        50            p66 (RT) (42)     69.4    50.400000  0.0527   \n",
       "8        50       MulVgp70_His6 (49)    205.4          NaN  0.0861   \n",
       "9        50  gp70_B.CaseA_V1_V2 (12)     40.5   -64.766667  0.0615   \n",
       "\n",
       "  Participant ID  Visit Code   Visit Date Sample Type Buffer  \n",
       "0           URN2           0   10/14/1899         PLA    PBS  \n",
       "1           URN2           0   10/14/1899         PLA    PBS  \n",
       "2           URN2           0   10/14/1899         PLA    PBS  \n",
       "3           URN2           0   10/14/1899         PLA    PBS  \n",
       "4           URN2           0   10/14/1899         PLA    PBS  \n",
       "5           URN2           0   10/14/1899         PLA    PBS  \n",
       "6           URN2           0   10/14/1899         PLA    PBS  \n",
       "7           URN2           0   10/14/1899         PLA    PBS  \n",
       "8           URN2           0   10/14/1899         PLA    PBS  \n",
       "9           URN2           0   10/14/1899         PLA    PBS  "
      ]
     },
     "execution_count": 23,
     "metadata": {},
     "output_type": "execute_result"
    }
   ],
   "source": [
    "long_data[0:10]"
   ]
  },
  {
   "cell_type": "code",
   "execution_count": 25,
   "metadata": {
    "collapsed": false
   },
   "outputs": [
    {
     "name": "stderr",
     "output_type": "stream",
     "text": [
      "/Users/dcl9/Code/python/cfar-workshop/env/lib/python2.7/site-packages/pandas/io/sql.py:1371: UserWarning: The spaces in these column names will not be changed. In pandas versions < 0.14, spaces were converted to underscores.\n",
      "  warnings.warn(_SAFE_NAMES_WARNING)\n"
     ]
    }
   ],
   "source": [
    "long_data_conn = sqlite3.connect('long_data.db')\n",
    "long_data.to_sql('long_data',long_data_conn)"
   ]
  },
  {
   "cell_type": "code",
   "execution_count": 26,
   "metadata": {
    "collapsed": true
   },
   "outputs": [],
   "source": [
    "long_data_con.close()"
   ]
  },
  {
   "cell_type": "code",
   "execution_count": null,
   "metadata": {
    "collapsed": true
   },
   "outputs": [],
   "source": []
  }
 ],
 "metadata": {
  "kernelspec": {
   "display_name": "Python 2",
   "language": "python",
   "name": "python2"
  },
  "language_info": {
   "codemirror_mode": {
    "name": "ipython",
    "version": 2
   },
   "file_extension": ".py",
   "mimetype": "text/x-python",
   "name": "python",
   "nbconvert_exporter": "python",
   "pygments_lexer": "ipython2",
   "version": "2.7.6"
  }
 },
 "nbformat": 4,
 "nbformat_minor": 0
}
